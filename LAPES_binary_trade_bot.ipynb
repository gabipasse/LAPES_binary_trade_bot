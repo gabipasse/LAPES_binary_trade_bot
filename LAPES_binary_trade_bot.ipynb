{
  "nbformat": 4,
  "nbformat_minor": 0,
  "metadata": {
    "colab": {
      "provenance": [],
      "collapsed_sections": [
        "OT5Yo8vxFWj9",
        "qLhTaxmxGSeC",
        "L9sms4R7rBkr",
        "zEzjP0cjGamv"
      ],
      "toc_visible": true
    },
    "kernelspec": {
      "name": "python3",
      "display_name": "Python 3"
    },
    "language_info": {
      "name": "python"
    }
  },
  "cells": [
    {
      "cell_type": "markdown",
      "source": [
        "# **Clonando repositório iqoption e instalando pacote dotenv**\n",
        "\n",
        "(https://iqoptionapi.github.io/iqoptionapi/)\n",
        "\n",
        "(https://github.com/iqoptionapi/iqoptionapi)\n"
      ],
      "metadata": {
        "id": "OT5Yo8vxFWj9"
      }
    },
    {
      "cell_type": "code",
      "source": [
        "# utilizando https"
      ],
      "metadata": {
        "id": "4lFveCl_Fm5Q"
      },
      "execution_count": 1,
      "outputs": []
    },
    {
      "cell_type": "code",
      "source": [
        "pip install -U git+https://github.com/iqoptionapi/iqoptionapi.git"
      ],
      "metadata": {
        "colab": {
          "base_uri": "https://localhost:8080/"
        },
        "id": "L0VBQia5Flt9",
        "outputId": "0a527f85-ba5e-42bb-e907-667cb3897915"
      },
      "execution_count": 2,
      "outputs": [
        {
          "output_type": "stream",
          "name": "stdout",
          "text": [
            "Collecting git+https://github.com/iqoptionapi/iqoptionapi.git\n",
            "  Cloning https://github.com/iqoptionapi/iqoptionapi.git to /tmp/pip-req-build-zkm673wv\n",
            "  Running command git clone --filter=blob:none --quiet https://github.com/iqoptionapi/iqoptionapi.git /tmp/pip-req-build-zkm673wv\n",
            "  Resolved https://github.com/iqoptionapi/iqoptionapi.git to commit 8a903cc094a74af1ed935a56a2d6b5a9ed3319d7\n",
            "  Preparing metadata (setup.py) ... \u001b[?25l\u001b[?25hdone\n",
            "Collecting pylint (from iqoptionapi==7.1.1)\n",
            "  Downloading pylint-3.1.0-py3-none-any.whl (515 kB)\n",
            "\u001b[2K     \u001b[90m━━━━━━━━━━━━━━━━━━━━━━━━━━━━━━━━━━━━━━━━\u001b[0m \u001b[32m515.6/515.6 kB\u001b[0m \u001b[31m5.7 MB/s\u001b[0m eta \u001b[36m0:00:00\u001b[0m\n",
            "\u001b[?25hRequirement already satisfied: requests in /usr/local/lib/python3.10/dist-packages (from iqoptionapi==7.1.1) (2.31.0)\n",
            "Collecting websocket-client==0.56 (from iqoptionapi==7.1.1)\n",
            "  Downloading websocket_client-0.56.0-py2.py3-none-any.whl (200 kB)\n",
            "\u001b[2K     \u001b[90m━━━━━━━━━━━━━━━━━━━━━━━━━━━━━━━━━━━━━━━━\u001b[0m \u001b[32m200.6/200.6 kB\u001b[0m \u001b[31m7.5 MB/s\u001b[0m eta \u001b[36m0:00:00\u001b[0m\n",
            "\u001b[?25hRequirement already satisfied: six in /usr/local/lib/python3.10/dist-packages (from websocket-client==0.56->iqoptionapi==7.1.1) (1.16.0)\n",
            "Requirement already satisfied: platformdirs>=2.2.0 in /usr/local/lib/python3.10/dist-packages (from pylint->iqoptionapi==7.1.1) (4.2.0)\n",
            "Collecting astroid<=3.2.0-dev0,>=3.1.0 (from pylint->iqoptionapi==7.1.1)\n",
            "  Downloading astroid-3.1.0-py3-none-any.whl (275 kB)\n",
            "\u001b[2K     \u001b[90m━━━━━━━━━━━━━━━━━━━━━━━━━━━━━━━━━━━━━━━━\u001b[0m \u001b[32m275.6/275.6 kB\u001b[0m \u001b[31m9.1 MB/s\u001b[0m eta \u001b[36m0:00:00\u001b[0m\n",
            "\u001b[?25hCollecting isort!=5.13.0,<6,>=4.2.5 (from pylint->iqoptionapi==7.1.1)\n",
            "  Downloading isort-5.13.2-py3-none-any.whl (92 kB)\n",
            "\u001b[2K     \u001b[90m━━━━━━━━━━━━━━━━━━━━━━━━━━━━━━━━━━━━━━━━\u001b[0m \u001b[32m92.3/92.3 kB\u001b[0m \u001b[31m11.3 MB/s\u001b[0m eta \u001b[36m0:00:00\u001b[0m\n",
            "\u001b[?25hCollecting mccabe<0.8,>=0.6 (from pylint->iqoptionapi==7.1.1)\n",
            "  Downloading mccabe-0.7.0-py2.py3-none-any.whl (7.3 kB)\n",
            "Collecting tomlkit>=0.10.1 (from pylint->iqoptionapi==7.1.1)\n",
            "  Downloading tomlkit-0.12.4-py3-none-any.whl (37 kB)\n",
            "Collecting dill>=0.2 (from pylint->iqoptionapi==7.1.1)\n",
            "  Downloading dill-0.3.8-py3-none-any.whl (116 kB)\n",
            "\u001b[2K     \u001b[90m━━━━━━━━━━━━━━━━━━━━━━━━━━━━━━━━━━━━━━━━\u001b[0m \u001b[32m116.3/116.3 kB\u001b[0m \u001b[31m13.1 MB/s\u001b[0m eta \u001b[36m0:00:00\u001b[0m\n",
            "\u001b[?25hRequirement already satisfied: tomli>=1.1.0 in /usr/local/lib/python3.10/dist-packages (from pylint->iqoptionapi==7.1.1) (2.0.1)\n",
            "Requirement already satisfied: charset-normalizer<4,>=2 in /usr/local/lib/python3.10/dist-packages (from requests->iqoptionapi==7.1.1) (3.3.2)\n",
            "Requirement already satisfied: idna<4,>=2.5 in /usr/local/lib/python3.10/dist-packages (from requests->iqoptionapi==7.1.1) (3.6)\n",
            "Requirement already satisfied: urllib3<3,>=1.21.1 in /usr/local/lib/python3.10/dist-packages (from requests->iqoptionapi==7.1.1) (2.0.7)\n",
            "Requirement already satisfied: certifi>=2017.4.17 in /usr/local/lib/python3.10/dist-packages (from requests->iqoptionapi==7.1.1) (2024.2.2)\n",
            "Requirement already satisfied: typing-extensions>=4.0.0 in /usr/local/lib/python3.10/dist-packages (from astroid<=3.2.0-dev0,>=3.1.0->pylint->iqoptionapi==7.1.1) (4.10.0)\n",
            "Building wheels for collected packages: iqoptionapi\n",
            "  Building wheel for iqoptionapi (setup.py) ... \u001b[?25l\u001b[?25hdone\n",
            "  Created wheel for iqoptionapi: filename=iqoptionapi-7.1.1-py3-none-any.whl size=82016 sha256=dbaa1fad25423069958414a45b5a386d7115cea21082a5df014b7d57ff83ea0c\n",
            "  Stored in directory: /tmp/pip-ephem-wheel-cache-lew0tmuc/wheels/43/cb/0a/9ab265a7d0a66323bf5f8f4ed2f3c9d4c8d4a672503a93d094\n",
            "Successfully built iqoptionapi\n",
            "Installing collected packages: websocket-client, tomlkit, mccabe, isort, dill, astroid, pylint, iqoptionapi\n",
            "  Attempting uninstall: websocket-client\n",
            "    Found existing installation: websocket-client 1.7.0\n",
            "    Uninstalling websocket-client-1.7.0:\n",
            "      Successfully uninstalled websocket-client-1.7.0\n",
            "Successfully installed astroid-3.1.0 dill-0.3.8 iqoptionapi-7.1.1 isort-5.13.2 mccabe-0.7.0 pylint-3.1.0 tomlkit-0.12.4 websocket-client-0.56.0\n"
          ]
        }
      ]
    },
    {
      "cell_type": "code",
      "source": [
        "pip install python-dotenv"
      ],
      "metadata": {
        "colab": {
          "base_uri": "https://localhost:8080/"
        },
        "id": "bwNKslChODiH",
        "outputId": "46a2e24e-a9b6-4a6b-9112-ea1425fa780f"
      },
      "execution_count": 3,
      "outputs": [
        {
          "output_type": "stream",
          "name": "stdout",
          "text": [
            "Collecting python-dotenv\n",
            "  Downloading python_dotenv-1.0.1-py3-none-any.whl (19 kB)\n",
            "Installing collected packages: python-dotenv\n",
            "Successfully installed python-dotenv-1.0.1\n"
          ]
        }
      ]
    },
    {
      "cell_type": "markdown",
      "source": [
        "# **Importando bibliotecas**"
      ],
      "metadata": {
        "id": "qLhTaxmxGSeC"
      }
    },
    {
      "cell_type": "code",
      "source": [
        "import yfinance as yf\n",
        "import pandas as pd\n",
        "import matplotlib.pyplot as plt\n",
        "import plotly.graph_objects as go\n",
        "from plotly.subplots import make_subplots\n",
        "import numpy as np\n",
        "from iqoptionapi.stable_api import IQ_Option\n",
        "import time\n",
        "import logging\n",
        "import os\n",
        "from dotenv import load_dotenv"
      ],
      "metadata": {
        "id": "_IVInTiij2Tk"
      },
      "execution_count": 4,
      "outputs": []
    },
    {
      "cell_type": "markdown",
      "source": [
        "# **Configurando tema dos plots**"
      ],
      "metadata": {
        "id": "L9sms4R7rBkr"
      }
    },
    {
      "cell_type": "code",
      "source": [
        "from plotly.io import templates\n",
        "templates.default = 'plotly_dark'\n",
        "\n",
        "templates['plotly_dark'].layout.paper_bgcolor = '#383838'\n",
        "templates['plotly_dark'].layout.plot_bgcolor = '#383838'\n",
        "\n",
        "templates['plotly_dark'].layout.xaxis.gridcolor = '#D5D5D5'\n",
        "templates['plotly_dark'].layout.xaxis.linecolor = '#D5D5D5'\n",
        "templates['plotly_dark'].layout.xaxis.zerolinecolor = '#D5D5D5'\n",
        "\n",
        "templates['plotly_dark'].layout.yaxis.gridcolor = '#D5D5D5'\n",
        "templates['plotly_dark'].layout.yaxis.linecolor = '#D5D5D5'\n",
        "templates['plotly_dark'].layout.yaxis.zerolinecolor = '#D5D5D5'"
      ],
      "metadata": {
        "id": "dA9M0WPuoXD7"
      },
      "execution_count": 5,
      "outputs": []
    },
    {
      "cell_type": "markdown",
      "source": [
        "# **Definindo funções para plot com yfinance e iqoption**\n",
        "\n",
        "(https://analyzingalpha.com/yfinance-python)\n",
        "\n",
        "(https://www.investopedia.com/terms/r/rsi.asp)\n",
        "\n"
      ],
      "metadata": {
        "id": "zEzjP0cjGamv"
      }
    },
    {
      "cell_type": "code",
      "source": [
        "# funcao para calculo do rsi utilizando 14 dias anteriores"
      ],
      "metadata": {
        "id": "ZEC2j_VUG0gY"
      },
      "execution_count": 6,
      "outputs": []
    },
    {
      "cell_type": "code",
      "source": [
        "def calculate_rsi(prices, period=14):\n",
        "\n",
        "    delta = prices.diff()\n",
        "\n",
        "    gain = delta.where(delta > 0, 0)\n",
        "\n",
        "    loss = -delta.where(delta < 0, 0)\n",
        "\n",
        "    avg_gain = gain.ewm(com=period - 1, min_periods=period).mean()\n",
        "\n",
        "    avg_loss = loss.ewm(com=period - 1, min_periods=period).mean()\n",
        "\n",
        "    rs = avg_gain / avg_loss\n",
        "\n",
        "    rsi = 100 - (100 / (1 + rs))\n",
        "\n",
        "    return rsi"
      ],
      "metadata": {
        "id": "NG1yF7q4GVnk"
      },
      "execution_count": 7,
      "outputs": []
    },
    {
      "cell_type": "code",
      "source": [
        "# função para preencher as lacunas dos dados retornado pelo yfinance; api não retorna registros relativos a alguns dias"
      ],
      "metadata": {
        "id": "kEP_huFQHBot"
      },
      "execution_count": 8,
      "outputs": []
    },
    {
      "cell_type": "code",
      "source": [
        "def preencher_lacunas(df):\n",
        "\n",
        "    datas = pd.date_range(start=df.index.min(), end=df.index.max())\n",
        "\n",
        "\n",
        "    df = df.reindex(datas)\n",
        "\n",
        "\n",
        "    df = df.ffill()\n",
        "\n",
        "    return df"
      ],
      "metadata": {
        "id": "4z2jQEE4Vjl4"
      },
      "execution_count": 9,
      "outputs": []
    },
    {
      "cell_type": "code",
      "source": [
        "# função para sinais de compra e venda de acordo com a passagem pelos limiares de venda(>= 70) ou compra(<= 30)\n",
        "# a partir de posições anteriores de hold"
      ],
      "metadata": {
        "id": "DojUYIysHKeM"
      },
      "execution_count": 10,
      "outputs": []
    },
    {
      "cell_type": "code",
      "source": [
        "def generate_signals(rsi_values):\n",
        "    signals = []\n",
        "    in_overbought = False\n",
        "    in_oversold = False\n",
        "\n",
        "    for rsi in rsi_values:\n",
        "\n",
        "      if rsi > 30 and rsi < 70:\n",
        "\n",
        "        signals.append('HOLD')\n",
        "\n",
        "        in_overbought = False\n",
        "        in_oversold = False\n",
        "\n",
        "      elif rsi >= 70 and not in_overbought:\n",
        "\n",
        "        signals.append('SELL')\n",
        "\n",
        "        in_overbought = True\n",
        "\n",
        "      elif rsi <= 30 and not in_oversold:\n",
        "\n",
        "        signals.append('BUY')\n",
        "\n",
        "        in_oversold = True\n",
        "\n",
        "      else:\n",
        "\n",
        "        signals.append('HOLD')\n",
        "\n",
        "    return signals\n"
      ],
      "metadata": {
        "id": "faFWAycQFxcx"
      },
      "execution_count": 11,
      "outputs": []
    },
    {
      "cell_type": "code",
      "source": [
        "# função para avalição da tendencia do mercado pois o indicador rsi atua melhor em mercados de range"
      ],
      "metadata": {
        "id": "yENVrV0YHeVp"
      },
      "execution_count": 12,
      "outputs": []
    },
    {
      "cell_type": "code",
      "source": [
        "def evaluate_market_trend(data):\n",
        "\n",
        "    data['SMA_200'] = data['Close'].rolling(window=200).mean()\n",
        "\n",
        "    data['RSI'] = calculate_rsi(data['Close'])\n",
        "\n",
        "    data['Trend'] = 'Range'\n",
        "\n",
        "    data.loc[(data['RSI'] > 30) & (data['RSI'] < 70), 'Trend'] = 'Range'\n",
        "\n",
        "    return data"
      ],
      "metadata": {
        "id": "Ni8pTurSVXrM"
      },
      "execution_count": 13,
      "outputs": []
    },
    {
      "cell_type": "code",
      "source": [
        "# funcao para realização da chamada de api, utilizando a funcao data_filled desenvolvida anteriormente para preencher lacunas nos registros"
      ],
      "metadata": {
        "id": "a7Cqw2BMHwxu"
      },
      "execution_count": 14,
      "outputs": []
    },
    {
      "cell_type": "code",
      "source": [
        "def get_historical_data(symbol, start_date, end_date):\n",
        "\n",
        "    data = yf.download(symbol, start=start_date, end=end_date)\n",
        "\n",
        "    data_filled = preencher_lacunas(data)\n",
        "\n",
        "    return data_filled\n"
      ],
      "metadata": {
        "id": "uLDQ21B9VoLW"
      },
      "execution_count": 15,
      "outputs": []
    },
    {
      "cell_type": "markdown",
      "source": [
        "# **Plots a partir do yfinance**\n",
        "\n",
        "(https://coderzcolumn.com/tutorials/data-science/candlestick-chart-in-python-mplfinance-plotly-bokeh)"
      ],
      "metadata": {
        "id": "gwI7cRDVJGRH"
      }
    },
    {
      "cell_type": "code",
      "source": [
        "start_date = '2023-01-01'"
      ],
      "metadata": {
        "id": "19JWbHk_F0Gy"
      },
      "execution_count": 16,
      "outputs": []
    },
    {
      "cell_type": "code",
      "source": [
        "end_date = '2023-07-20'"
      ],
      "metadata": {
        "id": "0gpcprUGF5lW"
      },
      "execution_count": 17,
      "outputs": []
    },
    {
      "cell_type": "code",
      "source": [
        "tsla_df = get_historical_data('TSLA', start_date, end_date)"
      ],
      "metadata": {
        "colab": {
          "base_uri": "https://localhost:8080/"
        },
        "id": "PqQWSAuZF6EK",
        "outputId": "de2678cf-7b53-4195-b71e-faca6a962549"
      },
      "execution_count": 18,
      "outputs": [
        {
          "output_type": "stream",
          "name": "stderr",
          "text": [
            "\r[*********************100%%**********************]  1 of 1 completed\n"
          ]
        }
      ]
    },
    {
      "cell_type": "code",
      "source": [
        "rsi_values = calculate_rsi(tsla_df['Close'])"
      ],
      "metadata": {
        "id": "Tj0Z3RYsF_F7"
      },
      "execution_count": 19,
      "outputs": []
    },
    {
      "cell_type": "code",
      "source": [
        "rsi_values.head(14)"
      ],
      "metadata": {
        "colab": {
          "base_uri": "https://localhost:8080/"
        },
        "id": "1SOFc3sejAzd",
        "outputId": "96ce1232-ac43-4019-894c-d3e4f64dc944"
      },
      "execution_count": 20,
      "outputs": [
        {
          "output_type": "execute_result",
          "data": {
            "text/plain": [
              "2023-01-03          NaN\n",
              "2023-01-04          NaN\n",
              "2023-01-05          NaN\n",
              "2023-01-06          NaN\n",
              "2023-01-07          NaN\n",
              "2023-01-08          NaN\n",
              "2023-01-09          NaN\n",
              "2023-01-10          NaN\n",
              "2023-01-11          NaN\n",
              "2023-01-12          NaN\n",
              "2023-01-13          NaN\n",
              "2023-01-14          NaN\n",
              "2023-01-15          NaN\n",
              "2023-01-16    78.438027\n",
              "Freq: D, Name: Close, dtype: float64"
            ]
          },
          "metadata": {},
          "execution_count": 20
        }
      ]
    },
    {
      "cell_type": "code",
      "source": [
        "tsla_df['RSI'] = rsi_values"
      ],
      "metadata": {
        "id": "dgGRsv-Ca-YR"
      },
      "execution_count": 21,
      "outputs": []
    },
    {
      "cell_type": "code",
      "source": [
        "tsla_df[tsla_df.index == '2023-05-21']"
      ],
      "metadata": {
        "colab": {
          "base_uri": "https://localhost:8080/",
          "height": 81
        },
        "id": "B8PWS5qYbMTZ",
        "outputId": "fcf174ea-6867-4eff-bb51-585f99e88073"
      },
      "execution_count": 22,
      "outputs": [
        {
          "output_type": "execute_result",
          "data": {
            "text/plain": [
              "                  Open        High         Low       Close   Adj Close  \\\n",
              "2023-05-21  177.169998  181.949997  176.309998  180.139999  180.139999   \n",
              "\n",
              "                 Volume        RSI  \n",
              "2023-05-21  136024200.0  64.044871  "
            ],
            "text/html": [
              "\n",
              "  <div id=\"df-270b248c-3166-45a4-b940-0012998a1708\" class=\"colab-df-container\">\n",
              "    <div>\n",
              "<style scoped>\n",
              "    .dataframe tbody tr th:only-of-type {\n",
              "        vertical-align: middle;\n",
              "    }\n",
              "\n",
              "    .dataframe tbody tr th {\n",
              "        vertical-align: top;\n",
              "    }\n",
              "\n",
              "    .dataframe thead th {\n",
              "        text-align: right;\n",
              "    }\n",
              "</style>\n",
              "<table border=\"1\" class=\"dataframe\">\n",
              "  <thead>\n",
              "    <tr style=\"text-align: right;\">\n",
              "      <th></th>\n",
              "      <th>Open</th>\n",
              "      <th>High</th>\n",
              "      <th>Low</th>\n",
              "      <th>Close</th>\n",
              "      <th>Adj Close</th>\n",
              "      <th>Volume</th>\n",
              "      <th>RSI</th>\n",
              "    </tr>\n",
              "  </thead>\n",
              "  <tbody>\n",
              "    <tr>\n",
              "      <th>2023-05-21</th>\n",
              "      <td>177.169998</td>\n",
              "      <td>181.949997</td>\n",
              "      <td>176.309998</td>\n",
              "      <td>180.139999</td>\n",
              "      <td>180.139999</td>\n",
              "      <td>136024200.0</td>\n",
              "      <td>64.044871</td>\n",
              "    </tr>\n",
              "  </tbody>\n",
              "</table>\n",
              "</div>\n",
              "    <div class=\"colab-df-buttons\">\n",
              "\n",
              "  <div class=\"colab-df-container\">\n",
              "    <button class=\"colab-df-convert\" onclick=\"convertToInteractive('df-270b248c-3166-45a4-b940-0012998a1708')\"\n",
              "            title=\"Convert this dataframe to an interactive table.\"\n",
              "            style=\"display:none;\">\n",
              "\n",
              "  <svg xmlns=\"http://www.w3.org/2000/svg\" height=\"24px\" viewBox=\"0 -960 960 960\">\n",
              "    <path d=\"M120-120v-720h720v720H120Zm60-500h600v-160H180v160Zm220 220h160v-160H400v160Zm0 220h160v-160H400v160ZM180-400h160v-160H180v160Zm440 0h160v-160H620v160ZM180-180h160v-160H180v160Zm440 0h160v-160H620v160Z\"/>\n",
              "  </svg>\n",
              "    </button>\n",
              "\n",
              "  <style>\n",
              "    .colab-df-container {\n",
              "      display:flex;\n",
              "      gap: 12px;\n",
              "    }\n",
              "\n",
              "    .colab-df-convert {\n",
              "      background-color: #E8F0FE;\n",
              "      border: none;\n",
              "      border-radius: 50%;\n",
              "      cursor: pointer;\n",
              "      display: none;\n",
              "      fill: #1967D2;\n",
              "      height: 32px;\n",
              "      padding: 0 0 0 0;\n",
              "      width: 32px;\n",
              "    }\n",
              "\n",
              "    .colab-df-convert:hover {\n",
              "      background-color: #E2EBFA;\n",
              "      box-shadow: 0px 1px 2px rgba(60, 64, 67, 0.3), 0px 1px 3px 1px rgba(60, 64, 67, 0.15);\n",
              "      fill: #174EA6;\n",
              "    }\n",
              "\n",
              "    .colab-df-buttons div {\n",
              "      margin-bottom: 4px;\n",
              "    }\n",
              "\n",
              "    [theme=dark] .colab-df-convert {\n",
              "      background-color: #3B4455;\n",
              "      fill: #D2E3FC;\n",
              "    }\n",
              "\n",
              "    [theme=dark] .colab-df-convert:hover {\n",
              "      background-color: #434B5C;\n",
              "      box-shadow: 0px 1px 3px 1px rgba(0, 0, 0, 0.15);\n",
              "      filter: drop-shadow(0px 1px 2px rgba(0, 0, 0, 0.3));\n",
              "      fill: #FFFFFF;\n",
              "    }\n",
              "  </style>\n",
              "\n",
              "    <script>\n",
              "      const buttonEl =\n",
              "        document.querySelector('#df-270b248c-3166-45a4-b940-0012998a1708 button.colab-df-convert');\n",
              "      buttonEl.style.display =\n",
              "        google.colab.kernel.accessAllowed ? 'block' : 'none';\n",
              "\n",
              "      async function convertToInteractive(key) {\n",
              "        const element = document.querySelector('#df-270b248c-3166-45a4-b940-0012998a1708');\n",
              "        const dataTable =\n",
              "          await google.colab.kernel.invokeFunction('convertToInteractive',\n",
              "                                                    [key], {});\n",
              "        if (!dataTable) return;\n",
              "\n",
              "        const docLinkHtml = 'Like what you see? Visit the ' +\n",
              "          '<a target=\"_blank\" href=https://colab.research.google.com/notebooks/data_table.ipynb>data table notebook</a>'\n",
              "          + ' to learn more about interactive tables.';\n",
              "        element.innerHTML = '';\n",
              "        dataTable['output_type'] = 'display_data';\n",
              "        await google.colab.output.renderOutput(dataTable, element);\n",
              "        const docLink = document.createElement('div');\n",
              "        docLink.innerHTML = docLinkHtml;\n",
              "        element.appendChild(docLink);\n",
              "      }\n",
              "    </script>\n",
              "  </div>\n",
              "\n",
              "    </div>\n",
              "  </div>\n"
            ],
            "application/vnd.google.colaboratory.intrinsic+json": {
              "type": "dataframe",
              "summary": "{\n  \"name\": \"tsla_df[tsla_df\",\n  \"rows\": 1,\n  \"fields\": [\n    {\n      \"column\": \"Open\",\n      \"properties\": {\n        \"dtype\": \"number\",\n        \"std\": null,\n        \"min\": 177.1699981689453,\n        \"max\": 177.1699981689453,\n        \"num_unique_values\": 1,\n        \"samples\": [\n          177.1699981689453\n        ],\n        \"semantic_type\": \"\",\n        \"description\": \"\"\n      }\n    },\n    {\n      \"column\": \"High\",\n      \"properties\": {\n        \"dtype\": \"number\",\n        \"std\": null,\n        \"min\": 181.9499969482422,\n        \"max\": 181.9499969482422,\n        \"num_unique_values\": 1,\n        \"samples\": [\n          181.9499969482422\n        ],\n        \"semantic_type\": \"\",\n        \"description\": \"\"\n      }\n    },\n    {\n      \"column\": \"Low\",\n      \"properties\": {\n        \"dtype\": \"number\",\n        \"std\": null,\n        \"min\": 176.30999755859375,\n        \"max\": 176.30999755859375,\n        \"num_unique_values\": 1,\n        \"samples\": [\n          176.30999755859375\n        ],\n        \"semantic_type\": \"\",\n        \"description\": \"\"\n      }\n    },\n    {\n      \"column\": \"Close\",\n      \"properties\": {\n        \"dtype\": \"number\",\n        \"std\": null,\n        \"min\": 180.13999938964844,\n        \"max\": 180.13999938964844,\n        \"num_unique_values\": 1,\n        \"samples\": [\n          180.13999938964844\n        ],\n        \"semantic_type\": \"\",\n        \"description\": \"\"\n      }\n    },\n    {\n      \"column\": \"Adj Close\",\n      \"properties\": {\n        \"dtype\": \"number\",\n        \"std\": null,\n        \"min\": 180.13999938964844,\n        \"max\": 180.13999938964844,\n        \"num_unique_values\": 1,\n        \"samples\": [\n          180.13999938964844\n        ],\n        \"semantic_type\": \"\",\n        \"description\": \"\"\n      }\n    },\n    {\n      \"column\": \"Volume\",\n      \"properties\": {\n        \"dtype\": \"number\",\n        \"std\": null,\n        \"min\": 136024200.0,\n        \"max\": 136024200.0,\n        \"num_unique_values\": 1,\n        \"samples\": [\n          136024200.0\n        ],\n        \"semantic_type\": \"\",\n        \"description\": \"\"\n      }\n    },\n    {\n      \"column\": \"RSI\",\n      \"properties\": {\n        \"dtype\": \"number\",\n        \"std\": null,\n        \"min\": 64.04487140192171,\n        \"max\": 64.04487140192171,\n        \"num_unique_values\": 1,\n        \"samples\": [\n          64.04487140192171\n        ],\n        \"semantic_type\": \"\",\n        \"description\": \"\"\n      }\n    }\n  ]\n}"
            }
          },
          "metadata": {},
          "execution_count": 22
        }
      ]
    },
    {
      "cell_type": "code",
      "source": [
        "tsla_df['Signal'] = generate_signals(tsla_df['RSI'])"
      ],
      "metadata": {
        "id": "23vaXZwYGJI7"
      },
      "execution_count": 23,
      "outputs": []
    },
    {
      "cell_type": "code",
      "source": [
        "tsla_df = evaluate_market_trend(tsla_df)"
      ],
      "metadata": {
        "id": "Lv22k-kcVTa3"
      },
      "execution_count": 24,
      "outputs": []
    },
    {
      "cell_type": "code",
      "source": [
        "tsla_df.tail()"
      ],
      "metadata": {
        "colab": {
          "base_uri": "https://localhost:8080/",
          "height": 206
        },
        "id": "Iu-fHFY-GKWG",
        "outputId": "7d41f4ac-e9a8-4459-a781-486ae8144f4d"
      },
      "execution_count": 25,
      "outputs": [
        {
          "output_type": "execute_result",
          "data": {
            "text/plain": [
              "                  Open        High         Low       Close   Adj Close  \\\n",
              "2023-07-15  277.010010  285.299988  276.309998  281.380005  281.380005   \n",
              "2023-07-16  277.010010  285.299988  276.309998  281.380005  281.380005   \n",
              "2023-07-17  286.630005  292.230011  283.570007  290.380005  290.380005   \n",
              "2023-07-18  290.149994  295.260010  286.010010  293.339996  293.339996   \n",
              "2023-07-19  296.040009  299.290009  289.519989  291.260010  291.260010   \n",
              "\n",
              "                 Volume        RSI Signal  SMA_200  Trend  \n",
              "2023-07-15  119771100.0  67.420274   HOLD      NaN  Range  \n",
              "2023-07-16  119771100.0  67.420274   HOLD      NaN  Range  \n",
              "2023-07-17  131569600.0  73.117890   SELL      NaN  Range  \n",
              "2023-07-18  112434700.0  74.685873   HOLD      NaN  Range  \n",
              "2023-07-19  142355400.0  71.528598   HOLD      NaN  Range  "
            ],
            "text/html": [
              "\n",
              "  <div id=\"df-fa4c0305-c0cd-4dbb-acbc-2dca690a9d47\" class=\"colab-df-container\">\n",
              "    <div>\n",
              "<style scoped>\n",
              "    .dataframe tbody tr th:only-of-type {\n",
              "        vertical-align: middle;\n",
              "    }\n",
              "\n",
              "    .dataframe tbody tr th {\n",
              "        vertical-align: top;\n",
              "    }\n",
              "\n",
              "    .dataframe thead th {\n",
              "        text-align: right;\n",
              "    }\n",
              "</style>\n",
              "<table border=\"1\" class=\"dataframe\">\n",
              "  <thead>\n",
              "    <tr style=\"text-align: right;\">\n",
              "      <th></th>\n",
              "      <th>Open</th>\n",
              "      <th>High</th>\n",
              "      <th>Low</th>\n",
              "      <th>Close</th>\n",
              "      <th>Adj Close</th>\n",
              "      <th>Volume</th>\n",
              "      <th>RSI</th>\n",
              "      <th>Signal</th>\n",
              "      <th>SMA_200</th>\n",
              "      <th>Trend</th>\n",
              "    </tr>\n",
              "  </thead>\n",
              "  <tbody>\n",
              "    <tr>\n",
              "      <th>2023-07-15</th>\n",
              "      <td>277.010010</td>\n",
              "      <td>285.299988</td>\n",
              "      <td>276.309998</td>\n",
              "      <td>281.380005</td>\n",
              "      <td>281.380005</td>\n",
              "      <td>119771100.0</td>\n",
              "      <td>67.420274</td>\n",
              "      <td>HOLD</td>\n",
              "      <td>NaN</td>\n",
              "      <td>Range</td>\n",
              "    </tr>\n",
              "    <tr>\n",
              "      <th>2023-07-16</th>\n",
              "      <td>277.010010</td>\n",
              "      <td>285.299988</td>\n",
              "      <td>276.309998</td>\n",
              "      <td>281.380005</td>\n",
              "      <td>281.380005</td>\n",
              "      <td>119771100.0</td>\n",
              "      <td>67.420274</td>\n",
              "      <td>HOLD</td>\n",
              "      <td>NaN</td>\n",
              "      <td>Range</td>\n",
              "    </tr>\n",
              "    <tr>\n",
              "      <th>2023-07-17</th>\n",
              "      <td>286.630005</td>\n",
              "      <td>292.230011</td>\n",
              "      <td>283.570007</td>\n",
              "      <td>290.380005</td>\n",
              "      <td>290.380005</td>\n",
              "      <td>131569600.0</td>\n",
              "      <td>73.117890</td>\n",
              "      <td>SELL</td>\n",
              "      <td>NaN</td>\n",
              "      <td>Range</td>\n",
              "    </tr>\n",
              "    <tr>\n",
              "      <th>2023-07-18</th>\n",
              "      <td>290.149994</td>\n",
              "      <td>295.260010</td>\n",
              "      <td>286.010010</td>\n",
              "      <td>293.339996</td>\n",
              "      <td>293.339996</td>\n",
              "      <td>112434700.0</td>\n",
              "      <td>74.685873</td>\n",
              "      <td>HOLD</td>\n",
              "      <td>NaN</td>\n",
              "      <td>Range</td>\n",
              "    </tr>\n",
              "    <tr>\n",
              "      <th>2023-07-19</th>\n",
              "      <td>296.040009</td>\n",
              "      <td>299.290009</td>\n",
              "      <td>289.519989</td>\n",
              "      <td>291.260010</td>\n",
              "      <td>291.260010</td>\n",
              "      <td>142355400.0</td>\n",
              "      <td>71.528598</td>\n",
              "      <td>HOLD</td>\n",
              "      <td>NaN</td>\n",
              "      <td>Range</td>\n",
              "    </tr>\n",
              "  </tbody>\n",
              "</table>\n",
              "</div>\n",
              "    <div class=\"colab-df-buttons\">\n",
              "\n",
              "  <div class=\"colab-df-container\">\n",
              "    <button class=\"colab-df-convert\" onclick=\"convertToInteractive('df-fa4c0305-c0cd-4dbb-acbc-2dca690a9d47')\"\n",
              "            title=\"Convert this dataframe to an interactive table.\"\n",
              "            style=\"display:none;\">\n",
              "\n",
              "  <svg xmlns=\"http://www.w3.org/2000/svg\" height=\"24px\" viewBox=\"0 -960 960 960\">\n",
              "    <path d=\"M120-120v-720h720v720H120Zm60-500h600v-160H180v160Zm220 220h160v-160H400v160Zm0 220h160v-160H400v160ZM180-400h160v-160H180v160Zm440 0h160v-160H620v160ZM180-180h160v-160H180v160Zm440 0h160v-160H620v160Z\"/>\n",
              "  </svg>\n",
              "    </button>\n",
              "\n",
              "  <style>\n",
              "    .colab-df-container {\n",
              "      display:flex;\n",
              "      gap: 12px;\n",
              "    }\n",
              "\n",
              "    .colab-df-convert {\n",
              "      background-color: #E8F0FE;\n",
              "      border: none;\n",
              "      border-radius: 50%;\n",
              "      cursor: pointer;\n",
              "      display: none;\n",
              "      fill: #1967D2;\n",
              "      height: 32px;\n",
              "      padding: 0 0 0 0;\n",
              "      width: 32px;\n",
              "    }\n",
              "\n",
              "    .colab-df-convert:hover {\n",
              "      background-color: #E2EBFA;\n",
              "      box-shadow: 0px 1px 2px rgba(60, 64, 67, 0.3), 0px 1px 3px 1px rgba(60, 64, 67, 0.15);\n",
              "      fill: #174EA6;\n",
              "    }\n",
              "\n",
              "    .colab-df-buttons div {\n",
              "      margin-bottom: 4px;\n",
              "    }\n",
              "\n",
              "    [theme=dark] .colab-df-convert {\n",
              "      background-color: #3B4455;\n",
              "      fill: #D2E3FC;\n",
              "    }\n",
              "\n",
              "    [theme=dark] .colab-df-convert:hover {\n",
              "      background-color: #434B5C;\n",
              "      box-shadow: 0px 1px 3px 1px rgba(0, 0, 0, 0.15);\n",
              "      filter: drop-shadow(0px 1px 2px rgba(0, 0, 0, 0.3));\n",
              "      fill: #FFFFFF;\n",
              "    }\n",
              "  </style>\n",
              "\n",
              "    <script>\n",
              "      const buttonEl =\n",
              "        document.querySelector('#df-fa4c0305-c0cd-4dbb-acbc-2dca690a9d47 button.colab-df-convert');\n",
              "      buttonEl.style.display =\n",
              "        google.colab.kernel.accessAllowed ? 'block' : 'none';\n",
              "\n",
              "      async function convertToInteractive(key) {\n",
              "        const element = document.querySelector('#df-fa4c0305-c0cd-4dbb-acbc-2dca690a9d47');\n",
              "        const dataTable =\n",
              "          await google.colab.kernel.invokeFunction('convertToInteractive',\n",
              "                                                    [key], {});\n",
              "        if (!dataTable) return;\n",
              "\n",
              "        const docLinkHtml = 'Like what you see? Visit the ' +\n",
              "          '<a target=\"_blank\" href=https://colab.research.google.com/notebooks/data_table.ipynb>data table notebook</a>'\n",
              "          + ' to learn more about interactive tables.';\n",
              "        element.innerHTML = '';\n",
              "        dataTable['output_type'] = 'display_data';\n",
              "        await google.colab.output.renderOutput(dataTable, element);\n",
              "        const docLink = document.createElement('div');\n",
              "        docLink.innerHTML = docLinkHtml;\n",
              "        element.appendChild(docLink);\n",
              "      }\n",
              "    </script>\n",
              "  </div>\n",
              "\n",
              "\n",
              "<div id=\"df-ab9cc4a7-e29d-42e5-aa82-2d1d554fd66c\">\n",
              "  <button class=\"colab-df-quickchart\" onclick=\"quickchart('df-ab9cc4a7-e29d-42e5-aa82-2d1d554fd66c')\"\n",
              "            title=\"Suggest charts\"\n",
              "            style=\"display:none;\">\n",
              "\n",
              "<svg xmlns=\"http://www.w3.org/2000/svg\" height=\"24px\"viewBox=\"0 0 24 24\"\n",
              "     width=\"24px\">\n",
              "    <g>\n",
              "        <path d=\"M19 3H5c-1.1 0-2 .9-2 2v14c0 1.1.9 2 2 2h14c1.1 0 2-.9 2-2V5c0-1.1-.9-2-2-2zM9 17H7v-7h2v7zm4 0h-2V7h2v10zm4 0h-2v-4h2v4z\"/>\n",
              "    </g>\n",
              "</svg>\n",
              "  </button>\n",
              "\n",
              "<style>\n",
              "  .colab-df-quickchart {\n",
              "      --bg-color: #E8F0FE;\n",
              "      --fill-color: #1967D2;\n",
              "      --hover-bg-color: #E2EBFA;\n",
              "      --hover-fill-color: #174EA6;\n",
              "      --disabled-fill-color: #AAA;\n",
              "      --disabled-bg-color: #DDD;\n",
              "  }\n",
              "\n",
              "  [theme=dark] .colab-df-quickchart {\n",
              "      --bg-color: #3B4455;\n",
              "      --fill-color: #D2E3FC;\n",
              "      --hover-bg-color: #434B5C;\n",
              "      --hover-fill-color: #FFFFFF;\n",
              "      --disabled-bg-color: #3B4455;\n",
              "      --disabled-fill-color: #666;\n",
              "  }\n",
              "\n",
              "  .colab-df-quickchart {\n",
              "    background-color: var(--bg-color);\n",
              "    border: none;\n",
              "    border-radius: 50%;\n",
              "    cursor: pointer;\n",
              "    display: none;\n",
              "    fill: var(--fill-color);\n",
              "    height: 32px;\n",
              "    padding: 0;\n",
              "    width: 32px;\n",
              "  }\n",
              "\n",
              "  .colab-df-quickchart:hover {\n",
              "    background-color: var(--hover-bg-color);\n",
              "    box-shadow: 0 1px 2px rgba(60, 64, 67, 0.3), 0 1px 3px 1px rgba(60, 64, 67, 0.15);\n",
              "    fill: var(--button-hover-fill-color);\n",
              "  }\n",
              "\n",
              "  .colab-df-quickchart-complete:disabled,\n",
              "  .colab-df-quickchart-complete:disabled:hover {\n",
              "    background-color: var(--disabled-bg-color);\n",
              "    fill: var(--disabled-fill-color);\n",
              "    box-shadow: none;\n",
              "  }\n",
              "\n",
              "  .colab-df-spinner {\n",
              "    border: 2px solid var(--fill-color);\n",
              "    border-color: transparent;\n",
              "    border-bottom-color: var(--fill-color);\n",
              "    animation:\n",
              "      spin 1s steps(1) infinite;\n",
              "  }\n",
              "\n",
              "  @keyframes spin {\n",
              "    0% {\n",
              "      border-color: transparent;\n",
              "      border-bottom-color: var(--fill-color);\n",
              "      border-left-color: var(--fill-color);\n",
              "    }\n",
              "    20% {\n",
              "      border-color: transparent;\n",
              "      border-left-color: var(--fill-color);\n",
              "      border-top-color: var(--fill-color);\n",
              "    }\n",
              "    30% {\n",
              "      border-color: transparent;\n",
              "      border-left-color: var(--fill-color);\n",
              "      border-top-color: var(--fill-color);\n",
              "      border-right-color: var(--fill-color);\n",
              "    }\n",
              "    40% {\n",
              "      border-color: transparent;\n",
              "      border-right-color: var(--fill-color);\n",
              "      border-top-color: var(--fill-color);\n",
              "    }\n",
              "    60% {\n",
              "      border-color: transparent;\n",
              "      border-right-color: var(--fill-color);\n",
              "    }\n",
              "    80% {\n",
              "      border-color: transparent;\n",
              "      border-right-color: var(--fill-color);\n",
              "      border-bottom-color: var(--fill-color);\n",
              "    }\n",
              "    90% {\n",
              "      border-color: transparent;\n",
              "      border-bottom-color: var(--fill-color);\n",
              "    }\n",
              "  }\n",
              "</style>\n",
              "\n",
              "  <script>\n",
              "    async function quickchart(key) {\n",
              "      const quickchartButtonEl =\n",
              "        document.querySelector('#' + key + ' button');\n",
              "      quickchartButtonEl.disabled = true;  // To prevent multiple clicks.\n",
              "      quickchartButtonEl.classList.add('colab-df-spinner');\n",
              "      try {\n",
              "        const charts = await google.colab.kernel.invokeFunction(\n",
              "            'suggestCharts', [key], {});\n",
              "      } catch (error) {\n",
              "        console.error('Error during call to suggestCharts:', error);\n",
              "      }\n",
              "      quickchartButtonEl.classList.remove('colab-df-spinner');\n",
              "      quickchartButtonEl.classList.add('colab-df-quickchart-complete');\n",
              "    }\n",
              "    (() => {\n",
              "      let quickchartButtonEl =\n",
              "        document.querySelector('#df-ab9cc4a7-e29d-42e5-aa82-2d1d554fd66c button');\n",
              "      quickchartButtonEl.style.display =\n",
              "        google.colab.kernel.accessAllowed ? 'block' : 'none';\n",
              "    })();\n",
              "  </script>\n",
              "</div>\n",
              "    </div>\n",
              "  </div>\n"
            ],
            "application/vnd.google.colaboratory.intrinsic+json": {
              "type": "dataframe",
              "summary": "{\n  \"name\": \"tsla_df\",\n  \"rows\": 5,\n  \"fields\": [\n    {\n      \"column\": \"Open\",\n      \"properties\": {\n        \"dtype\": \"number\",\n        \"std\": 8.337623909856054,\n        \"min\": 277.010009765625,\n        \"max\": 296.0400085449219,\n        \"num_unique_values\": 4,\n        \"samples\": [\n          286.6300048828125,\n          296.0400085449219,\n          277.010009765625\n        ],\n        \"semantic_type\": \"\",\n        \"description\": \"\"\n      }\n    },\n    {\n      \"column\": \"High\",\n      \"properties\": {\n        \"dtype\": \"number\",\n        \"std\": 6.169121606370599,\n        \"min\": 285.29998779296875,\n        \"max\": 299.2900085449219,\n        \"num_unique_values\": 4,\n        \"samples\": [\n          292.2300109863281,\n          299.2900085449219,\n          285.29998779296875\n        ],\n        \"semantic_type\": \"\",\n        \"description\": \"\"\n      }\n    },\n    {\n      \"column\": \"Low\",\n      \"properties\": {\n        \"dtype\": \"number\",\n        \"std\": 5.90033708382047,\n        \"min\": 276.30999755859375,\n        \"max\": 289.5199890136719,\n        \"num_unique_values\": 4,\n        \"samples\": [\n          283.57000732421875,\n          289.5199890136719,\n          276.30999755859375\n        ],\n        \"semantic_type\": \"\",\n        \"description\": \"\"\n      }\n    },\n    {\n      \"column\": \"Close\",\n      \"properties\": {\n        \"dtype\": \"number\",\n        \"std\": 5.732251243310066,\n        \"min\": 281.3800048828125,\n        \"max\": 293.3399963378906,\n        \"num_unique_values\": 4,\n        \"samples\": [\n          290.3800048828125,\n          291.260009765625,\n          281.3800048828125\n        ],\n        \"semantic_type\": \"\",\n        \"description\": \"\"\n      }\n    },\n    {\n      \"column\": \"Adj Close\",\n      \"properties\": {\n        \"dtype\": \"number\",\n        \"std\": 5.732251243310066,\n        \"min\": 281.3800048828125,\n        \"max\": 293.3399963378906,\n        \"num_unique_values\": 4,\n        \"samples\": [\n          290.3800048828125,\n          291.260009765625,\n          281.3800048828125\n        ],\n        \"semantic_type\": \"\",\n        \"description\": \"\"\n      }\n    },\n    {\n      \"column\": \"Volume\",\n      \"properties\": {\n        \"dtype\": \"number\",\n        \"std\": 11798055.169264127,\n        \"min\": 112434700.0,\n        \"max\": 142355400.0,\n        \"num_unique_values\": 4,\n        \"samples\": [\n          131569600.0,\n          142355400.0,\n          119771100.0\n        ],\n        \"semantic_type\": \"\",\n        \"description\": \"\"\n      }\n    },\n    {\n      \"column\": \"RSI\",\n      \"properties\": {\n        \"dtype\": \"number\",\n        \"std\": 3.310687047501595,\n        \"min\": 67.42027379900296,\n        \"max\": 74.6858728695888,\n        \"num_unique_values\": 4,\n        \"samples\": [\n          73.11788989946761,\n          71.52859755979641,\n          67.42027379900296\n        ],\n        \"semantic_type\": \"\",\n        \"description\": \"\"\n      }\n    },\n    {\n      \"column\": \"Signal\",\n      \"properties\": {\n        \"dtype\": \"category\",\n        \"num_unique_values\": 2,\n        \"samples\": [\n          \"SELL\",\n          \"HOLD\"\n        ],\n        \"semantic_type\": \"\",\n        \"description\": \"\"\n      }\n    },\n    {\n      \"column\": \"SMA_200\",\n      \"properties\": {\n        \"dtype\": \"number\",\n        \"std\": null,\n        \"min\": null,\n        \"max\": null,\n        \"num_unique_values\": 0,\n        \"samples\": [],\n        \"semantic_type\": \"\",\n        \"description\": \"\"\n      }\n    },\n    {\n      \"column\": \"Trend\",\n      \"properties\": {\n        \"dtype\": \"category\",\n        \"num_unique_values\": 1,\n        \"samples\": [],\n        \"semantic_type\": \"\",\n        \"description\": \"\"\n      }\n    }\n  ]\n}"
            }
          },
          "metadata": {},
          "execution_count": 25
        }
      ]
    },
    {
      "cell_type": "code",
      "source": [
        "tsla_df[tsla_df['RSI'] >= 70]['RSI']"
      ],
      "metadata": {
        "colab": {
          "base_uri": "https://localhost:8080/"
        },
        "id": "BI8MpBl1x4jZ",
        "outputId": "1592d9f0-cabd-498d-c8ce-ce8975aa4b11"
      },
      "execution_count": 26,
      "outputs": [
        {
          "output_type": "execute_result",
          "data": {
            "text/plain": [
              "2023-01-16    78.438027\n",
              "2023-01-17    87.379984\n",
              "2023-01-18    77.112587\n",
              "2023-01-19    71.720787\n",
              "2023-01-20    78.117355\n",
              "                ...    \n",
              "2023-07-04    71.860982\n",
              "2023-07-05    72.994116\n",
              "2023-07-17    73.117890\n",
              "2023-07-18    74.685873\n",
              "2023-07-19    71.528598\n",
              "Name: RSI, Length: 66, dtype: float64"
            ]
          },
          "metadata": {},
          "execution_count": 26
        }
      ]
    },
    {
      "cell_type": "code",
      "source": [
        "tsla_df[tsla_df['Signal'] == 'BUY']['RSI']"
      ],
      "metadata": {
        "colab": {
          "base_uri": "https://localhost:8080/"
        },
        "id": "HeIXywv2xm_8",
        "outputId": "a808e95d-8cc9-4ec3-c4e0-a2298a401511"
      },
      "execution_count": 27,
      "outputs": [
        {
          "output_type": "execute_result",
          "data": {
            "text/plain": [
              "2023-04-20    26.92402\n",
              "Freq: D, Name: RSI, dtype: float64"
            ]
          },
          "metadata": {},
          "execution_count": 27
        }
      ]
    },
    {
      "cell_type": "code",
      "source": [
        "tsla_df[tsla_df['RSI'] <= 30]['RSI']"
      ],
      "metadata": {
        "colab": {
          "base_uri": "https://localhost:8080/"
        },
        "id": "YYGIFDifxzZw",
        "outputId": "82c116ed-fa87-4282-e9cd-9064ccdad0a2"
      },
      "execution_count": 28,
      "outputs": [
        {
          "output_type": "execute_result",
          "data": {
            "text/plain": [
              "2023-04-20    26.924020\n",
              "2023-04-21    29.928526\n",
              "2023-04-22    29.928526\n",
              "2023-04-23    29.928526\n",
              "2023-04-24    28.176980\n",
              "2023-04-25    26.916382\n",
              "2023-04-26    22.861974\n",
              "Freq: D, Name: RSI, dtype: float64"
            ]
          },
          "metadata": {},
          "execution_count": 28
        }
      ]
    },
    {
      "cell_type": "code",
      "source": [
        "# plot simples utilizando matplotlib\n",
        "\n",
        "fig, ax1 = plt.subplots(figsize=(10, 6))\n",
        "\n",
        "\n",
        "ax1.plot(tsla_df.index, tsla_df['Close'], label='Close', color='black')\n",
        "\n",
        "ax1.set_xlabel('Date')\n",
        "\n",
        "ax1.set_ylabel('Close Price', color='black')\n",
        "\n",
        "ax1.tick_params('y', colors='black')\n",
        "\n",
        "\n",
        "ax2 = ax1.twinx()\n",
        "\n",
        "ax2.plot(tsla_df.index, tsla_df['RSI'], label='RSI', color='orange')\n",
        "\n",
        "ax2.set_ylabel('RSI', color='orange')\n",
        "\n",
        "ax2.tick_params('y', colors='orange')\n",
        "\n",
        "\n",
        "for index, row in tsla_df.iterrows():\n",
        "\n",
        "    if row['Signal'] == 'BUY':\n",
        "\n",
        "        ax1.plot(index, row['Close'], 'g^', markersize=10)\n",
        "\n",
        "    elif row['Signal'] == 'SELL':\n",
        "\n",
        "        ax1.plot(index, row['Close'], 'rv', markersize=10)\n",
        "\n",
        "\n",
        "ax2.axhline(y=30, color='blue', linestyle='--', label='RSI 30')\n",
        "\n",
        "ax2.axhline(y=70, color='red', linestyle='--', label='RSI 70')\n",
        "\n",
        "plt.title('TSLA Stock Price and RSI')\n",
        "\n",
        "plt.show()"
      ],
      "metadata": {
        "colab": {
          "base_uri": "https://localhost:8080/",
          "height": 564
        },
        "id": "O3fojPbmI4UT",
        "outputId": "8c8e40a2-62a7-4c95-f2ab-8fda0b925b2a"
      },
      "execution_count": 29,
      "outputs": [
        {
          "output_type": "display_data",
          "data": {
            "text/plain": [
              "<Figure size 1000x600 with 2 Axes>"
            ],
            "image/png": "[encoded data removed]"
          },
          "metadata": {}
        }
      ]
    },
    {
      "cell_type": "code",
      "source": [
        "# modificar para candle (candlestick) FEITO"
      ],
      "metadata": {
        "id": "6Z8Mpd3c1d4c"
      },
      "execution_count": 30,
      "outputs": []
    },
    {
      "cell_type": "code",
      "source": [
        "len(tsla_df)"
      ],
      "metadata": {
        "colab": {
          "base_uri": "https://localhost:8080/"
        },
        "id": "COykHNokxIok",
        "outputId": "e08534e0-4f8d-4f58-cc84-9491bc5c8c71"
      },
      "execution_count": 31,
      "outputs": [
        {
          "output_type": "execute_result",
          "data": {
            "text/plain": [
              "198"
            ]
          },
          "metadata": {},
          "execution_count": 31
        }
      ]
    },
    {
      "cell_type": "code",
      "source": [
        "# velas vermelhas = fechamento menor do que o fechamento do dia anterior. velhas verdes = fechamento maior do que o fechamento do dia anterior.\n",
        "# velas ocas = fechamento maior do que a abertura. velas sólidas = fechamento menor do que a abertura"
      ],
      "metadata": {
        "id": "-Nfl8xBQGXWv"
      },
      "execution_count": 32,
      "outputs": []
    },
    {
      "cell_type": "code",
      "source": [
        "# plot interativo utilizando plotly. Divido em velas e rsi mas ainda sem as sinalizações\n",
        "\n",
        "tsla_df[\"previousClose\"] = tsla_df[\"Close\"].shift(1)\n",
        "\n",
        "\n",
        "tsla_df[\"color\"] = np.where(tsla_df[\"Close\"] > tsla_df[\"previousClose\"], \"green\", \"red\")\n",
        "\n",
        "\n",
        "tsla_df[\"fill\"] = np.where(tsla_df[\"Close\"] > tsla_df[\"Open\"], \"rgba(255, 0, 0, 0)\", tsla_df[\"color\"])\n",
        "\n",
        "\n",
        "fig = make_subplots(rows=2, cols=1, shared_xaxes=True, vertical_spacing=0.05,\n",
        "                    subplot_titles=(\"Candlestick\", \"RSI\"))\n",
        "\n",
        "\n",
        "for index, row in tsla_df.iterrows():\n",
        "    color = dict(fillcolor=row[\"fill\"], line=dict(color=row[\"color\"]))\n",
        "    fig.add_trace(\n",
        "        go.Candlestick(\n",
        "            x=[index],\n",
        "            open=[row[\"Open\"]],\n",
        "            high=[row[\"High\"]],\n",
        "            low=[row[\"Low\"]],\n",
        "            close=[row[\"Close\"]],\n",
        "            increasing=color,\n",
        "            decreasing=color,\n",
        "            showlegend=False,\n",
        "        ),\n",
        "        row=1, col=1\n",
        "    )\n",
        "\n",
        "\n",
        "fig.add_trace(\n",
        "    go.Scatter(x=tsla_df.index, y=tsla_df['RSI'], mode='lines', name='RSI', marker=dict(color='orange')),\n",
        "    row=2, col=1\n",
        ")\n",
        "\n",
        "\n",
        "fig.update_layout(title=\"TSLA Stock Price and RSI (Last 14 days)\",\n",
        "                  xaxis_rangeslider_visible=False,\n",
        "                  yaxis2=dict(title=\"RSI\", range=[0, 100]))\n",
        "\n",
        "\n",
        "fig.show()"
      ],
      "metadata": {
        "colab": {
          "base_uri": "https://localhost:8080/",
          "height": 542
        },
        "id": "qOX2sDTPaoZA",
        "outputId": "6ea49026-2335-4e26-a3c3-e6cc24b293f7"
      },
      "execution_count": 33,
      "outputs": [
        {
          "output_type": "display_data",
          "data": {
            "text/html": [
              "<html>\n",
              "<head><meta charset=\"utf-8\" /></head>\n",
              "<body>\n",
              "    <div>            <script src=\"https://cdnjs.cloudflare.com/ajax/libs/mathjax/2.7.5/MathJax.js?config=TeX-AMS-MML_SVG\"></script><script type=\"text/javascript\">if (window.MathJax && window.MathJax.Hub && window.MathJax.Hub.Config) {window.MathJax.Hub.Config({SVG: {font: \"STIX-Web\"}});}</script>                <script type=\"text/javascript\">window.PlotlyConfig = {MathJaxConfig: 'local'};</script>\n",
              "        <script charset=\"utf-8\" src=\"https://cdn.plot.ly/plotly-2.24.1.min.js\"></script>                <div id=\"7cf15f79-deb1-400b-9ed8-bb436cde1f3d\" class=\"plotly-graph-div\" style=\"height:525px; width:100%;\"></div>            <script type=\"text/javascript\">                                    window.PLOTLYENV=window.PLOTLYENV || {};                                    if (document.getElementById(\"7cf15f79-deb1-400b-9ed8-bb436cde1f3d\")) {                    Plotly.newPlot(                        \"7cf15f79-deb1-400b-9ed8-bb436cde1f3d\",                        [{\"close\":[108.0999984741211],\"decreasing\":{\"fillcolor\":\"red\",\"line\":{\"color\":\"red\"}},\"high\":[118.80000305175781],\"increasing\":{\"fillcolor\":\"red\",\"line\":{\"color\":\"red\"}},\"low\":[104.63999938964844],\"open\":[118.47000122070312],\"showlegend\":false,\"x\":[\"2023-01-03T00:00:00\"],\"type\":\"candlestick\",\"xaxis\":\"x\",\"yaxis\":\"y\"},{\"close\":[113.63999938964844],\"decreasing\":{\"fillcolor\":\"rgba(255, 0, 0, 0)\",\"line\":{\"color\":\"green\"}},\"high\":[114.58999633789062],\"increasing\":{\"fillcolor\":\"rgba(255, 0, 0, 0)\",\"line\":{\"color\":\"green\"}},\"low\":[107.5199966430664],\"open\":[109.11000061035156],\"showlegend\":false,\"x\":[\"2023-01-04T00:00:00\"],\"type\":\"candlestick\",\"xaxis\":\"x\",\"yaxis\":\"y\"},{\"close\":[110.33999633789062],\"decreasing\":{\"fillcolor\":\"red\",\"line\":{\"color\":\"red\"}},\"high\":[111.75],\"increasing\":{\"fillcolor\":\"red\",\"line\":{\"color\":\"red\"}},\"low\":[107.16000366210938],\"open\":[110.51000213623047],\"showlegend\":false,\"x\":[\"2023-01-05T00:00:00\"],\"type\":\"candlestick\",\"xaxis\":\"x\",\"yaxis\":\"y\"},{\"close\":[113.05999755859375],\"decreasing\":{\"fillcolor\":\"rgba(255, 0, 0, 0)\",\"line\":{\"color\":\"green\"}},\"high\":[114.38999938964844],\"increasing\":{\"fillcolor\":\"rgba(255, 0, 0, 0)\",\"line\":{\"color\":\"green\"}},\"low\":[101.80999755859375],\"open\":[103.0],\"showlegend\":false,\"x\":[\"2023-01-06T00:00:00\"],\"type\":\"candlestick\",\"xaxis\":\"x\",\"yaxis\":\"y\"},{\"close\":[113.05999755859375],\"decreasing\":{\"fillcolor\":\"rgba(255, 0, 0, 0)\",\"line\":{\"color\":\"red\"}},\"high\":[114.38999938964844],\"increasing\":{\"fillcolor\":\"rgba(255, 0, 0, 0)\",\"line\":{\"color\":\"red\"}},\"low\":[101.80999755859375],\"open\":[103.0],\"showlegend\":false,\"x\":[\"2023-01-07T00:00:00\"],\"type\":\"candlestick\",\"xaxis\":\"x\",\"yaxis\":\"y\"},{\"close\":[113.05999755859375],\"decreasing\":{\"fillcolor\":\"rgba(255, 0, 0, 0)\",\"line\":{\"color\":\"red\"}},\"high\":[114.38999938964844],\"increasing\":{\"fillcolor\":\"rgba(255, 0, 0, 0)\",\"line\":{\"color\":\"red\"}},\"low\":[101.80999755859375],\"open\":[103.0],\"showlegend\":false,\"x\":[\"2023-01-08T00:00:00\"],\"type\":\"candlestick\",\"xaxis\":\"x\",\"yaxis\":\"y\"},{\"close\":[119.7699966430664],\"decreasing\":{\"fillcolor\":\"rgba(255, 0, 0, 0)\",\"line\":{\"color\":\"green\"}},\"high\":[123.5199966430664],\"increasing\":{\"fillcolor\":\"rgba(255, 0, 0, 0)\",\"line\":{\"color\":\"green\"}},\"low\":[117.11000061035156],\"open\":[118.95999908447266],\"showlegend\":false,\"x\":[\"2023-01-09T00:00:00\"],\"type\":\"candlestick\",\"xaxis\":\"x\",\"yaxis\":\"y\"},{\"close\":[118.8499984741211],\"decreasing\":{\"fillcolor\":\"red\",\"line\":{\"color\":\"red\"}},\"high\":[122.76000213623047],\"increasing\":{\"fillcolor\":\"red\",\"line\":{\"color\":\"red\"}},\"low\":[114.91999816894531],\"open\":[121.06999969482422],\"showlegend\":false,\"x\":[\"2023-01-10T00:00:00\"],\"type\":\"candlestick\",\"xaxis\":\"x\",\"yaxis\":\"y\"},{\"close\":[123.22000122070312],\"decreasing\":{\"fillcolor\":\"rgba(255, 0, 0, 0)\",\"line\":{\"color\":\"green\"}},\"high\":[125.94999694824219],\"increasing\":{\"fillcolor\":\"rgba(255, 0, 0, 0)\",\"line\":{\"color\":\"green\"}},\"low\":[120.51000213623047],\"open\":[122.08999633789062],\"showlegend\":false,\"x\":[\"2023-01-11T00:00:00\"],\"type\":\"candlestick\",\"xaxis\":\"x\",\"yaxis\":\"y\"},{\"close\":[123.55999755859375],\"decreasing\":{\"fillcolor\":\"rgba(255, 0, 0, 0)\",\"line\":{\"color\":\"green\"}},\"high\":[124.12999725341797],\"increasing\":{\"fillcolor\":\"rgba(255, 0, 0, 0)\",\"line\":{\"color\":\"green\"}},\"low\":[117.0],\"open\":[122.55999755859375],\"showlegend\":false,\"x\":[\"2023-01-12T00:00:00\"],\"type\":\"candlestick\",\"xaxis\":\"x\",\"yaxis\":\"y\"},{\"close\":[122.4000015258789],\"decreasing\":{\"fillcolor\":\"rgba(255, 0, 0, 0)\",\"line\":{\"color\":\"red\"}},\"high\":[122.62999725341797],\"increasing\":{\"fillcolor\":\"rgba(255, 0, 0, 0)\",\"line\":{\"color\":\"red\"}},\"low\":[115.5999984741211],\"open\":[116.55000305175781],\"showlegend\":false,\"x\":[\"2023-01-13T00:00:00\"],\"type\":\"candlestick\",\"xaxis\":\"x\",\"yaxis\":\"y\"},{\"close\":[122.4000015258789],\"decreasing\":{\"fillcolor\":\"rgba(255, 0, 0, 0)\",\"line\":{\"color\":\"red\"}},\"high\":[122.62999725341797],\"increasing\":{\"fillcolor\":\"rgba(255, 0, 0, 0)\",\"line\":{\"color\":\"red\"}},\"low\":[115.5999984741211],\"open\":[116.55000305175781],\"showlegend\":false,\"x\":[\"2023-01-14T00:00:00\"],\"type\":\"candlestick\",\"xaxis\":\"x\",\"yaxis\":\"y\"},{\"close\":[122.4000015258789],\"decreasing\":{\"fillcolor\":\"rgba(255, 0, 0, 0)\",\"line\":{\"color\":\"red\"}},\"high\":[122.62999725341797],\"increasing\":{\"fillcolor\":\"rgba(255, 0, 0, 0)\",\"line\":{\"color\":\"red\"}},\"low\":[115.5999984741211],\"open\":[116.55000305175781],\"showlegend\":false,\"x\":[\"2023-01-15T00:00:00\"],\"type\":\"candlestick\",\"xaxis\":\"x\",\"yaxis\":\"y\"},{\"close\":[122.4000015258789],\"decreasing\":{\"fillcolor\":\"rgba(255, 0, 0, 0)\",\"line\":{\"color\":\"red\"}},\"high\":[122.62999725341797],\"increasing\":{\"fillcolor\":\"rgba(255, 0, 0, 0)\",\"line\":{\"color\":\"red\"}},\"low\":[115.5999984741211],\"open\":[116.55000305175781],\"showlegend\":false,\"x\":[\"2023-01-16T00:00:00\"],\"type\":\"candlestick\",\"xaxis\":\"x\",\"yaxis\":\"y\"},{\"close\":[131.49000549316406],\"decreasing\":{\"fillcolor\":\"rgba(255, 0, 0, 0)\",\"line\":{\"color\":\"green\"}},\"high\":[131.6999969482422],\"increasing\":{\"fillcolor\":\"rgba(255, 0, 0, 0)\",\"line\":{\"color\":\"green\"}},\"low\":[125.0199966430664],\"open\":[125.69999694824219],\"showlegend\":false,\"x\":[\"2023-01-17T00:00:00\"],\"type\":\"candlestick\",\"xaxis\":\"x\",\"yaxis\":\"y\"},{\"close\":[128.77999877929688],\"decreasing\":{\"fillcolor\":\"red\",\"line\":{\"color\":\"red\"}},\"high\":[136.67999267578125],\"increasing\":{\"fillcolor\":\"red\",\"line\":{\"color\":\"red\"}},\"low\":[127.01000213623047],\"open\":[136.55999755859375],\"showlegend\":false,\"x\":[\"2023-01-18T00:00:00\"],\"type\":\"candlestick\",\"xaxis\":\"x\",\"yaxis\":\"y\"},{\"close\":[127.16999816894531],\"decreasing\":{\"fillcolor\":\"red\",\"line\":{\"color\":\"red\"}},\"high\":[129.99000549316406],\"increasing\":{\"fillcolor\":\"red\",\"line\":{\"color\":\"red\"}},\"low\":[124.30999755859375],\"open\":[127.26000213623047],\"showlegend\":false,\"x\":[\"2023-01-19T00:00:00\"],\"type\":\"candlestick\",\"xaxis\":\"x\",\"yaxis\":\"y\"},{\"close\":[133.4199981689453],\"decreasing\":{\"fillcolor\":\"rgba(255, 0, 0, 0)\",\"line\":{\"color\":\"green\"}},\"high\":[133.50999450683594],\"increasing\":{\"fillcolor\":\"rgba(255, 0, 0, 0)\",\"line\":{\"color\":\"green\"}},\"low\":[127.3499984741211],\"open\":[128.67999267578125],\"showlegend\":false,\"x\":[\"2023-01-20T00:00:00\"],\"type\":\"candlestick\",\"xaxis\":\"x\",\"yaxis\":\"y\"},{\"close\":[133.4199981689453],\"decreasing\":{\"fillcolor\":\"rgba(255, 0, 0, 0)\",\"line\":{\"color\":\"red\"}},\"high\":[133.50999450683594],\"increasing\":{\"fillcolor\":\"rgba(255, 0, 0, 0)\",\"line\":{\"color\":\"red\"}},\"low\":[127.3499984741211],\"open\":[128.67999267578125],\"showlegend\":false,\"x\":[\"2023-01-21T00:00:00\"],\"type\":\"candlestick\",\"xaxis\":\"x\",\"yaxis\":\"y\"},{\"close\":[133.4199981689453],\"decreasing\":{\"fillcolor\":\"rgba(255, 0, 0, 0)\",\"line\":{\"color\":\"red\"}},\"high\":[133.50999450683594],\"increasing\":{\"fillcolor\":\"rgba(255, 0, 0, 0)\",\"line\":{\"color\":\"red\"}},\"low\":[127.3499984741211],\"open\":[128.67999267578125],\"showlegend\":false,\"x\":[\"2023-01-22T00:00:00\"],\"type\":\"candlestick\",\"xaxis\":\"x\",\"yaxis\":\"y\"},{\"close\":[143.75],\"decreasing\":{\"fillcolor\":\"rgba(255, 0, 0, 0)\",\"line\":{\"color\":\"green\"}},\"high\":[145.3800048828125],\"increasing\":{\"fillcolor\":\"rgba(255, 0, 0, 0)\",\"line\":{\"color\":\"green\"}},\"low\":[134.27000427246094],\"open\":[135.8699951171875],\"showlegend\":false,\"x\":[\"2023-01-23T00:00:00\"],\"type\":\"candlestick\",\"xaxis\":\"x\",\"yaxis\":\"y\"},{\"close\":[143.88999938964844],\"decreasing\":{\"fillcolor\":\"rgba(255, 0, 0, 0)\",\"line\":{\"color\":\"green\"}},\"high\":[146.5],\"increasing\":{\"fillcolor\":\"rgba(255, 0, 0, 0)\",\"line\":{\"color\":\"green\"}},\"low\":[141.10000610351562],\"open\":[143.0],\"showlegend\":false,\"x\":[\"2023-01-24T00:00:00\"],\"type\":\"candlestick\",\"xaxis\":\"x\",\"yaxis\":\"y\"},{\"close\":[144.42999267578125],\"decreasing\":{\"fillcolor\":\"rgba(255, 0, 0, 0)\",\"line\":{\"color\":\"green\"}},\"high\":[146.41000366210938],\"increasing\":{\"fillcolor\":\"rgba(255, 0, 0, 0)\",\"line\":{\"color\":\"green\"}},\"low\":[138.07000732421875],\"open\":[141.91000366210938],\"showlegend\":false,\"x\":[\"2023-01-25T00:00:00\"],\"type\":\"candlestick\",\"xaxis\":\"x\",\"yaxis\":\"y\"},{\"close\":[160.27000427246094],\"decreasing\":{\"fillcolor\":\"rgba(255, 0, 0, 0)\",\"line\":{\"color\":\"green\"}},\"high\":[161.4199981689453],\"increasing\":{\"fillcolor\":\"rgba(255, 0, 0, 0)\",\"line\":{\"color\":\"green\"}},\"low\":[154.75999450683594],\"open\":[159.97000122070312],\"showlegend\":false,\"x\":[\"2023-01-26T00:00:00\"],\"type\":\"candlestick\",\"xaxis\":\"x\",\"yaxis\":\"y\"},{\"close\":[177.89999389648438],\"decreasing\":{\"fillcolor\":\"rgba(255, 0, 0, 0)\",\"line\":{\"color\":\"green\"}},\"high\":[180.67999267578125],\"increasing\":{\"fillcolor\":\"rgba(255, 0, 0, 0)\",\"line\":{\"color\":\"green\"}},\"low\":[161.1699981689453],\"open\":[162.42999267578125],\"showlegend\":false,\"x\":[\"2023-01-27T00:00:00\"],\"type\":\"candlestick\",\"xaxis\":\"x\",\"yaxis\":\"y\"},{\"close\":[177.89999389648438],\"decreasing\":{\"fillcolor\":\"rgba(255, 0, 0, 0)\",\"line\":{\"color\":\"red\"}},\"high\":[180.67999267578125],\"increasing\":{\"fillcolor\":\"rgba(255, 0, 0, 0)\",\"line\":{\"color\":\"red\"}},\"low\":[161.1699981689453],\"open\":[162.42999267578125],\"showlegend\":false,\"x\":[\"2023-01-28T00:00:00\"],\"type\":\"candlestick\",\"xaxis\":\"x\",\"yaxis\":\"y\"},{\"close\":[177.89999389648438],\"decreasing\":{\"fillcolor\":\"rgba(255, 0, 0, 0)\",\"line\":{\"color\":\"red\"}},\"high\":[180.67999267578125],\"increasing\":{\"fillcolor\":\"rgba(255, 0, 0, 0)\",\"line\":{\"color\":\"red\"}},\"low\":[161.1699981689453],\"open\":[162.42999267578125],\"showlegend\":false,\"x\":[\"2023-01-29T00:00:00\"],\"type\":\"candlestick\",\"xaxis\":\"x\",\"yaxis\":\"y\"},{\"close\":[166.66000366210938],\"decreasing\":{\"fillcolor\":\"red\",\"line\":{\"color\":\"red\"}},\"high\":[179.77000427246094],\"increasing\":{\"fillcolor\":\"red\",\"line\":{\"color\":\"red\"}},\"low\":[166.5],\"open\":[178.0500030517578],\"showlegend\":false,\"x\":[\"2023-01-30T00:00:00\"],\"type\":\"candlestick\",\"xaxis\":\"x\",\"yaxis\":\"y\"},{\"close\":[173.22000122070312],\"decreasing\":{\"fillcolor\":\"rgba(255, 0, 0, 0)\",\"line\":{\"color\":\"green\"}},\"high\":[174.3000030517578],\"increasing\":{\"fillcolor\":\"rgba(255, 0, 0, 0)\",\"line\":{\"color\":\"green\"}},\"low\":[162.77999877929688],\"open\":[164.57000732421875],\"showlegend\":false,\"x\":[\"2023-01-31T00:00:00\"],\"type\":\"candlestick\",\"xaxis\":\"x\",\"yaxis\":\"y\"},{\"close\":[181.41000366210938],\"decreasing\":{\"fillcolor\":\"rgba(255, 0, 0, 0)\",\"line\":{\"color\":\"green\"}},\"high\":[183.80999755859375],\"increasing\":{\"fillcolor\":\"rgba(255, 0, 0, 0)\",\"line\":{\"color\":\"green\"}},\"low\":[169.92999267578125],\"open\":[173.88999938964844],\"showlegend\":false,\"x\":[\"2023-02-01T00:00:00\"],\"type\":\"candlestick\",\"xaxis\":\"x\",\"yaxis\":\"y\"},{\"close\":[188.27000427246094],\"decreasing\":{\"fillcolor\":\"rgba(255, 0, 0, 0)\",\"line\":{\"color\":\"green\"}},\"high\":[196.75],\"increasing\":{\"fillcolor\":\"rgba(255, 0, 0, 0)\",\"line\":{\"color\":\"green\"}},\"low\":[182.61000061035156],\"open\":[187.3300018310547],\"showlegend\":false,\"x\":[\"2023-02-02T00:00:00\"],\"type\":\"candlestick\",\"xaxis\":\"x\",\"yaxis\":\"y\"},{\"close\":[189.97999572753906],\"decreasing\":{\"fillcolor\":\"rgba(255, 0, 0, 0)\",\"line\":{\"color\":\"green\"}},\"high\":[199.0],\"increasing\":{\"fillcolor\":\"rgba(255, 0, 0, 0)\",\"line\":{\"color\":\"green\"}},\"low\":[183.69000244140625],\"open\":[183.9499969482422],\"showlegend\":false,\"x\":[\"2023-02-03T00:00:00\"],\"type\":\"candlestick\",\"xaxis\":\"x\",\"yaxis\":\"y\"},{\"close\":[189.97999572753906],\"decreasing\":{\"fillcolor\":\"rgba(255, 0, 0, 0)\",\"line\":{\"color\":\"red\"}},\"high\":[199.0],\"increasing\":{\"fillcolor\":\"rgba(255, 0, 0, 0)\",\"line\":{\"color\":\"red\"}},\"low\":[183.69000244140625],\"open\":[183.9499969482422],\"showlegend\":false,\"x\":[\"2023-02-04T00:00:00\"],\"type\":\"candlestick\",\"xaxis\":\"x\",\"yaxis\":\"y\"},{\"close\":[189.97999572753906],\"decreasing\":{\"fillcolor\":\"rgba(255, 0, 0, 0)\",\"line\":{\"color\":\"red\"}},\"high\":[199.0],\"increasing\":{\"fillcolor\":\"rgba(255, 0, 0, 0)\",\"line\":{\"color\":\"red\"}},\"low\":[183.69000244140625],\"open\":[183.9499969482422],\"showlegend\":false,\"x\":[\"2023-02-05T00:00:00\"],\"type\":\"candlestick\",\"xaxis\":\"x\",\"yaxis\":\"y\"},{\"close\":[194.75999450683594],\"decreasing\":{\"fillcolor\":\"rgba(255, 0, 0, 0)\",\"line\":{\"color\":\"green\"}},\"high\":[198.1699981689453],\"increasing\":{\"fillcolor\":\"rgba(255, 0, 0, 0)\",\"line\":{\"color\":\"green\"}},\"low\":[189.9199981689453],\"open\":[193.00999450683594],\"showlegend\":false,\"x\":[\"2023-02-06T00:00:00\"],\"type\":\"candlestick\",\"xaxis\":\"x\",\"yaxis\":\"y\"},{\"close\":[196.80999755859375],\"decreasing\":{\"fillcolor\":\"rgba(255, 0, 0, 0)\",\"line\":{\"color\":\"green\"}},\"high\":[197.5],\"increasing\":{\"fillcolor\":\"rgba(255, 0, 0, 0)\",\"line\":{\"color\":\"green\"}},\"low\":[189.5500030517578],\"open\":[196.42999267578125],\"showlegend\":false,\"x\":[\"2023-02-07T00:00:00\"],\"type\":\"candlestick\",\"xaxis\":\"x\",\"yaxis\":\"y\"},{\"close\":[201.2899932861328],\"decreasing\":{\"fillcolor\":\"rgba(255, 0, 0, 0)\",\"line\":{\"color\":\"green\"}},\"high\":[203.0],\"increasing\":{\"fillcolor\":\"rgba(255, 0, 0, 0)\",\"line\":{\"color\":\"green\"}},\"low\":[194.30999755859375],\"open\":[196.10000610351562],\"showlegend\":false,\"x\":[\"2023-02-08T00:00:00\"],\"type\":\"candlestick\",\"xaxis\":\"x\",\"yaxis\":\"y\"},{\"close\":[207.32000732421875],\"decreasing\":{\"fillcolor\":\"green\",\"line\":{\"color\":\"green\"}},\"high\":[214.0],\"increasing\":{\"fillcolor\":\"green\",\"line\":{\"color\":\"green\"}},\"low\":[204.77000427246094],\"open\":[207.77999877929688],\"showlegend\":false,\"x\":[\"2023-02-09T00:00:00\"],\"type\":\"candlestick\",\"xaxis\":\"x\",\"yaxis\":\"y\"},{\"close\":[196.88999938964844],\"decreasing\":{\"fillcolor\":\"red\",\"line\":{\"color\":\"red\"}},\"high\":[206.1999969482422],\"increasing\":{\"fillcolor\":\"red\",\"line\":{\"color\":\"red\"}},\"low\":[192.88999938964844],\"open\":[202.22999572753906],\"showlegend\":false,\"x\":[\"2023-02-10T00:00:00\"],\"type\":\"candlestick\",\"xaxis\":\"x\",\"yaxis\":\"y\"},{\"close\":[196.88999938964844],\"decreasing\":{\"fillcolor\":\"red\",\"line\":{\"color\":\"red\"}},\"high\":[206.1999969482422],\"increasing\":{\"fillcolor\":\"red\",\"line\":{\"color\":\"red\"}},\"low\":[192.88999938964844],\"open\":[202.22999572753906],\"showlegend\":false,\"x\":[\"2023-02-11T00:00:00\"],\"type\":\"candlestick\",\"xaxis\":\"x\",\"yaxis\":\"y\"},{\"close\":[196.88999938964844],\"decreasing\":{\"fillcolor\":\"red\",\"line\":{\"color\":\"red\"}},\"high\":[206.1999969482422],\"increasing\":{\"fillcolor\":\"red\",\"line\":{\"color\":\"red\"}},\"low\":[192.88999938964844],\"open\":[202.22999572753906],\"showlegend\":false,\"x\":[\"2023-02-12T00:00:00\"],\"type\":\"candlestick\",\"xaxis\":\"x\",\"yaxis\":\"y\"},{\"close\":[194.63999938964844],\"decreasing\":{\"fillcolor\":\"rgba(255, 0, 0, 0)\",\"line\":{\"color\":\"red\"}},\"high\":[196.3000030517578],\"increasing\":{\"fillcolor\":\"rgba(255, 0, 0, 0)\",\"line\":{\"color\":\"red\"}},\"low\":[187.61000061035156],\"open\":[194.4199981689453],\"showlegend\":false,\"x\":[\"2023-02-13T00:00:00\"],\"type\":\"candlestick\",\"xaxis\":\"x\",\"yaxis\":\"y\"},{\"close\":[209.25],\"decreasing\":{\"fillcolor\":\"rgba(255, 0, 0, 0)\",\"line\":{\"color\":\"green\"}},\"high\":[209.82000732421875],\"increasing\":{\"fillcolor\":\"rgba(255, 0, 0, 0)\",\"line\":{\"color\":\"green\"}},\"low\":[189.44000244140625],\"open\":[191.94000244140625],\"showlegend\":false,\"x\":[\"2023-02-14T00:00:00\"],\"type\":\"candlestick\",\"xaxis\":\"x\",\"yaxis\":\"y\"},{\"close\":[214.24000549316406],\"decreasing\":{\"fillcolor\":\"rgba(255, 0, 0, 0)\",\"line\":{\"color\":\"green\"}},\"high\":[214.66000366210938],\"increasing\":{\"fillcolor\":\"rgba(255, 0, 0, 0)\",\"line\":{\"color\":\"green\"}},\"low\":[206.11000061035156],\"open\":[211.75999450683594],\"showlegend\":false,\"x\":[\"2023-02-15T00:00:00\"],\"type\":\"candlestick\",\"xaxis\":\"x\",\"yaxis\":\"y\"},{\"close\":[202.0399932861328],\"decreasing\":{\"fillcolor\":\"red\",\"line\":{\"color\":\"red\"}},\"high\":[217.64999389648438],\"increasing\":{\"fillcolor\":\"red\",\"line\":{\"color\":\"red\"}},\"low\":[201.83999633789062],\"open\":[210.77999877929688],\"showlegend\":false,\"x\":[\"2023-02-16T00:00:00\"],\"type\":\"candlestick\",\"xaxis\":\"x\",\"yaxis\":\"y\"},{\"close\":[208.30999755859375],\"decreasing\":{\"fillcolor\":\"rgba(255, 0, 0, 0)\",\"line\":{\"color\":\"green\"}},\"high\":[208.44000244140625],\"increasing\":{\"fillcolor\":\"rgba(255, 0, 0, 0)\",\"line\":{\"color\":\"green\"}},\"low\":[197.5],\"open\":[199.99000549316406],\"showlegend\":false,\"x\":[\"2023-02-17T00:00:00\"],\"type\":\"candlestick\",\"xaxis\":\"x\",\"yaxis\":\"y\"},{\"close\":[208.30999755859375],\"decreasing\":{\"fillcolor\":\"rgba(255, 0, 0, 0)\",\"line\":{\"color\":\"red\"}},\"high\":[208.44000244140625],\"increasing\":{\"fillcolor\":\"rgba(255, 0, 0, 0)\",\"line\":{\"color\":\"red\"}},\"low\":[197.5],\"open\":[199.99000549316406],\"showlegend\":false,\"x\":[\"2023-02-18T00:00:00\"],\"type\":\"candlestick\",\"xaxis\":\"x\",\"yaxis\":\"y\"},{\"close\":[208.30999755859375],\"decreasing\":{\"fillcolor\":\"rgba(255, 0, 0, 0)\",\"line\":{\"color\":\"red\"}},\"high\":[208.44000244140625],\"increasing\":{\"fillcolor\":\"rgba(255, 0, 0, 0)\",\"line\":{\"color\":\"red\"}},\"low\":[197.5],\"open\":[199.99000549316406],\"showlegend\":false,\"x\":[\"2023-02-19T00:00:00\"],\"type\":\"candlestick\",\"xaxis\":\"x\",\"yaxis\":\"y\"},{\"close\":[208.30999755859375],\"decreasing\":{\"fillcolor\":\"rgba(255, 0, 0, 0)\",\"line\":{\"color\":\"red\"}},\"high\":[208.44000244140625],\"increasing\":{\"fillcolor\":\"rgba(255, 0, 0, 0)\",\"line\":{\"color\":\"red\"}},\"low\":[197.5],\"open\":[199.99000549316406],\"showlegend\":false,\"x\":[\"2023-02-20T00:00:00\"],\"type\":\"candlestick\",\"xaxis\":\"x\",\"yaxis\":\"y\"},{\"close\":[197.3699951171875],\"decreasing\":{\"fillcolor\":\"red\",\"line\":{\"color\":\"red\"}},\"high\":[209.7100067138672],\"increasing\":{\"fillcolor\":\"red\",\"line\":{\"color\":\"red\"}},\"low\":[197.22000122070312],\"open\":[204.99000549316406],\"showlegend\":false,\"x\":[\"2023-02-21T00:00:00\"],\"type\":\"candlestick\",\"xaxis\":\"x\",\"yaxis\":\"y\"},{\"close\":[200.86000061035156],\"decreasing\":{\"fillcolor\":\"rgba(255, 0, 0, 0)\",\"line\":{\"color\":\"green\"}},\"high\":[201.99000549316406],\"increasing\":{\"fillcolor\":\"rgba(255, 0, 0, 0)\",\"line\":{\"color\":\"green\"}},\"low\":[191.77999877929688],\"open\":[197.92999267578125],\"showlegend\":false,\"x\":[\"2023-02-22T00:00:00\"],\"type\":\"candlestick\",\"xaxis\":\"x\",\"yaxis\":\"y\"},{\"close\":[202.07000732421875],\"decreasing\":{\"fillcolor\":\"green\",\"line\":{\"color\":\"green\"}},\"high\":[205.13999938964844],\"increasing\":{\"fillcolor\":\"green\",\"line\":{\"color\":\"green\"}},\"low\":[196.3300018310547],\"open\":[203.91000366210938],\"showlegend\":false,\"x\":[\"2023-02-23T00:00:00\"],\"type\":\"candlestick\",\"xaxis\":\"x\",\"yaxis\":\"y\"},{\"close\":[196.8800048828125],\"decreasing\":{\"fillcolor\":\"rgba(255, 0, 0, 0)\",\"line\":{\"color\":\"red\"}},\"high\":[197.6699981689453],\"increasing\":{\"fillcolor\":\"rgba(255, 0, 0, 0)\",\"line\":{\"color\":\"red\"}},\"low\":[192.8000030517578],\"open\":[196.3300018310547],\"showlegend\":false,\"x\":[\"2023-02-24T00:00:00\"],\"type\":\"candlestick\",\"xaxis\":\"x\",\"yaxis\":\"y\"},{\"close\":[196.8800048828125],\"decreasing\":{\"fillcolor\":\"rgba(255, 0, 0, 0)\",\"line\":{\"color\":\"red\"}},\"high\":[197.6699981689453],\"increasing\":{\"fillcolor\":\"rgba(255, 0, 0, 0)\",\"line\":{\"color\":\"red\"}},\"low\":[192.8000030517578],\"open\":[196.3300018310547],\"showlegend\":false,\"x\":[\"2023-02-25T00:00:00\"],\"type\":\"candlestick\",\"xaxis\":\"x\",\"yaxis\":\"y\"},{\"close\":[196.8800048828125],\"decreasing\":{\"fillcolor\":\"rgba(255, 0, 0, 0)\",\"line\":{\"color\":\"red\"}},\"high\":[197.6699981689453],\"increasing\":{\"fillcolor\":\"rgba(255, 0, 0, 0)\",\"line\":{\"color\":\"red\"}},\"low\":[192.8000030517578],\"open\":[196.3300018310547],\"showlegend\":false,\"x\":[\"2023-02-26T00:00:00\"],\"type\":\"candlestick\",\"xaxis\":\"x\",\"yaxis\":\"y\"},{\"close\":[207.6300048828125],\"decreasing\":{\"fillcolor\":\"rgba(255, 0, 0, 0)\",\"line\":{\"color\":\"green\"}},\"high\":[209.4199981689453],\"increasing\":{\"fillcolor\":\"rgba(255, 0, 0, 0)\",\"line\":{\"color\":\"green\"}},\"low\":[201.25999450683594],\"open\":[202.02999877929688],\"showlegend\":false,\"x\":[\"2023-02-27T00:00:00\"],\"type\":\"candlestick\",\"xaxis\":\"x\",\"yaxis\":\"y\"},{\"close\":[205.7100067138672],\"decreasing\":{\"fillcolor\":\"red\",\"line\":{\"color\":\"red\"}},\"high\":[211.22999572753906],\"increasing\":{\"fillcolor\":\"red\",\"line\":{\"color\":\"red\"}},\"low\":[203.75],\"open\":[210.58999633789062],\"showlegend\":false,\"x\":[\"2023-02-28T00:00:00\"],\"type\":\"candlestick\",\"xaxis\":\"x\",\"yaxis\":\"y\"},{\"close\":[202.77000427246094],\"decreasing\":{\"fillcolor\":\"red\",\"line\":{\"color\":\"red\"}},\"high\":[207.1999969482422],\"increasing\":{\"fillcolor\":\"red\",\"line\":{\"color\":\"red\"}},\"low\":[198.52000427246094],\"open\":[206.2100067138672],\"showlegend\":false,\"x\":[\"2023-03-01T00:00:00\"],\"type\":\"candlestick\",\"xaxis\":\"x\",\"yaxis\":\"y\"},{\"close\":[190.89999389648438],\"decreasing\":{\"fillcolor\":\"rgba(255, 0, 0, 0)\",\"line\":{\"color\":\"red\"}},\"high\":[193.75],\"increasing\":{\"fillcolor\":\"rgba(255, 0, 0, 0)\",\"line\":{\"color\":\"red\"}},\"low\":[186.00999450683594],\"open\":[186.74000549316406],\"showlegend\":false,\"x\":[\"2023-03-02T00:00:00\"],\"type\":\"candlestick\",\"xaxis\":\"x\",\"yaxis\":\"y\"},{\"close\":[197.7899932861328],\"decreasing\":{\"fillcolor\":\"rgba(255, 0, 0, 0)\",\"line\":{\"color\":\"green\"}},\"high\":[200.47999572753906],\"increasing\":{\"fillcolor\":\"rgba(255, 0, 0, 0)\",\"line\":{\"color\":\"green\"}},\"low\":[192.8800048828125],\"open\":[194.8000030517578],\"showlegend\":false,\"x\":[\"2023-03-03T00:00:00\"],\"type\":\"candlestick\",\"xaxis\":\"x\",\"yaxis\":\"y\"},{\"close\":[197.7899932861328],\"decreasing\":{\"fillcolor\":\"rgba(255, 0, 0, 0)\",\"line\":{\"color\":\"red\"}},\"high\":[200.47999572753906],\"increasing\":{\"fillcolor\":\"rgba(255, 0, 0, 0)\",\"line\":{\"color\":\"red\"}},\"low\":[192.8800048828125],\"open\":[194.8000030517578],\"showlegend\":false,\"x\":[\"2023-03-04T00:00:00\"],\"type\":\"candlestick\",\"xaxis\":\"x\",\"yaxis\":\"y\"},{\"close\":[197.7899932861328],\"decreasing\":{\"fillcolor\":\"rgba(255, 0, 0, 0)\",\"line\":{\"color\":\"red\"}},\"high\":[200.47999572753906],\"increasing\":{\"fillcolor\":\"rgba(255, 0, 0, 0)\",\"line\":{\"color\":\"red\"}},\"low\":[192.8800048828125],\"open\":[194.8000030517578],\"showlegend\":false,\"x\":[\"2023-03-05T00:00:00\"],\"type\":\"candlestick\",\"xaxis\":\"x\",\"yaxis\":\"y\"},{\"close\":[193.80999755859375],\"decreasing\":{\"fillcolor\":\"red\",\"line\":{\"color\":\"red\"}},\"high\":[198.60000610351562],\"increasing\":{\"fillcolor\":\"red\",\"line\":{\"color\":\"red\"}},\"low\":[192.3000030517578],\"open\":[198.5399932861328],\"showlegend\":false,\"x\":[\"2023-03-06T00:00:00\"],\"type\":\"candlestick\",\"xaxis\":\"x\",\"yaxis\":\"y\"},{\"close\":[187.7100067138672],\"decreasing\":{\"fillcolor\":\"red\",\"line\":{\"color\":\"red\"}},\"high\":[194.1999969482422],\"increasing\":{\"fillcolor\":\"red\",\"line\":{\"color\":\"red\"}},\"low\":[186.10000610351562],\"open\":[191.3800048828125],\"showlegend\":false,\"x\":[\"2023-03-07T00:00:00\"],\"type\":\"candlestick\",\"xaxis\":\"x\",\"yaxis\":\"y\"},{\"close\":[182.0],\"decreasing\":{\"fillcolor\":\"red\",\"line\":{\"color\":\"red\"}},\"high\":[186.5],\"increasing\":{\"fillcolor\":\"red\",\"line\":{\"color\":\"red\"}},\"low\":[180.0],\"open\":[185.0399932861328],\"showlegend\":false,\"x\":[\"2023-03-08T00:00:00\"],\"type\":\"candlestick\",\"xaxis\":\"x\",\"yaxis\":\"y\"},{\"close\":[172.9199981689453],\"decreasing\":{\"fillcolor\":\"red\",\"line\":{\"color\":\"red\"}},\"high\":[185.17999267578125],\"increasing\":{\"fillcolor\":\"red\",\"line\":{\"color\":\"red\"}},\"low\":[172.50999450683594],\"open\":[180.25],\"showlegend\":false,\"x\":[\"2023-03-09T00:00:00\"],\"type\":\"candlestick\",\"xaxis\":\"x\",\"yaxis\":\"y\"},{\"close\":[173.44000244140625],\"decreasing\":{\"fillcolor\":\"green\",\"line\":{\"color\":\"green\"}},\"high\":[178.2899932861328],\"increasing\":{\"fillcolor\":\"green\",\"line\":{\"color\":\"green\"}},\"low\":[168.44000244140625],\"open\":[175.1300048828125],\"showlegend\":false,\"x\":[\"2023-03-10T00:00:00\"],\"type\":\"candlestick\",\"xaxis\":\"x\",\"yaxis\":\"y\"},{\"close\":[173.44000244140625],\"decreasing\":{\"fillcolor\":\"red\",\"line\":{\"color\":\"red\"}},\"high\":[178.2899932861328],\"increasing\":{\"fillcolor\":\"red\",\"line\":{\"color\":\"red\"}},\"low\":[168.44000244140625],\"open\":[175.1300048828125],\"showlegend\":false,\"x\":[\"2023-03-11T00:00:00\"],\"type\":\"candlestick\",\"xaxis\":\"x\",\"yaxis\":\"y\"},{\"close\":[173.44000244140625],\"decreasing\":{\"fillcolor\":\"red\",\"line\":{\"color\":\"red\"}},\"high\":[178.2899932861328],\"increasing\":{\"fillcolor\":\"red\",\"line\":{\"color\":\"red\"}},\"low\":[168.44000244140625],\"open\":[175.1300048828125],\"showlegend\":false,\"x\":[\"2023-03-12T00:00:00\"],\"type\":\"candlestick\",\"xaxis\":\"x\",\"yaxis\":\"y\"},{\"close\":[174.47999572753906],\"decreasing\":{\"fillcolor\":\"rgba(255, 0, 0, 0)\",\"line\":{\"color\":\"green\"}},\"high\":[177.35000610351562],\"increasing\":{\"fillcolor\":\"rgba(255, 0, 0, 0)\",\"line\":{\"color\":\"green\"}},\"low\":[163.91000366210938],\"open\":[167.4600067138672],\"showlegend\":false,\"x\":[\"2023-03-13T00:00:00\"],\"type\":\"candlestick\",\"xaxis\":\"x\",\"yaxis\":\"y\"},{\"close\":[183.25999450683594],\"decreasing\":{\"fillcolor\":\"rgba(255, 0, 0, 0)\",\"line\":{\"color\":\"green\"}},\"high\":[183.8000030517578],\"increasing\":{\"fillcolor\":\"rgba(255, 0, 0, 0)\",\"line\":{\"color\":\"green\"}},\"low\":[177.13999938964844],\"open\":[177.30999755859375],\"showlegend\":false,\"x\":[\"2023-03-14T00:00:00\"],\"type\":\"candlestick\",\"xaxis\":\"x\",\"yaxis\":\"y\"},{\"close\":[180.4499969482422],\"decreasing\":{\"fillcolor\":\"red\",\"line\":{\"color\":\"red\"}},\"high\":[182.33999633789062],\"increasing\":{\"fillcolor\":\"red\",\"line\":{\"color\":\"red\"}},\"low\":[176.02999877929688],\"open\":[180.8000030517578],\"showlegend\":false,\"x\":[\"2023-03-15T00:00:00\"],\"type\":\"candlestick\",\"xaxis\":\"x\",\"yaxis\":\"y\"},{\"close\":[184.1300048828125],\"decreasing\":{\"fillcolor\":\"rgba(255, 0, 0, 0)\",\"line\":{\"color\":\"green\"}},\"high\":[185.80999755859375],\"increasing\":{\"fillcolor\":\"rgba(255, 0, 0, 0)\",\"line\":{\"color\":\"green\"}},\"low\":[178.83999633789062],\"open\":[180.3699951171875],\"showlegend\":false,\"x\":[\"2023-03-16T00:00:00\"],\"type\":\"candlestick\",\"xaxis\":\"x\",\"yaxis\":\"y\"},{\"close\":[180.1300048828125],\"decreasing\":{\"fillcolor\":\"red\",\"line\":{\"color\":\"red\"}},\"high\":[186.22000122070312],\"increasing\":{\"fillcolor\":\"red\",\"line\":{\"color\":\"red\"}},\"low\":[177.3300018310547],\"open\":[184.52000427246094],\"showlegend\":false,\"x\":[\"2023-03-17T00:00:00\"],\"type\":\"candlestick\",\"xaxis\":\"x\",\"yaxis\":\"y\"},{\"close\":[180.1300048828125],\"decreasing\":{\"fillcolor\":\"red\",\"line\":{\"color\":\"red\"}},\"high\":[186.22000122070312],\"increasing\":{\"fillcolor\":\"red\",\"line\":{\"color\":\"red\"}},\"low\":[177.3300018310547],\"open\":[184.52000427246094],\"showlegend\":false,\"x\":[\"2023-03-18T00:00:00\"],\"type\":\"candlestick\",\"xaxis\":\"x\",\"yaxis\":\"y\"},{\"close\":[180.1300048828125],\"decreasing\":{\"fillcolor\":\"red\",\"line\":{\"color\":\"red\"}},\"high\":[186.22000122070312],\"increasing\":{\"fillcolor\":\"red\",\"line\":{\"color\":\"red\"}},\"low\":[177.3300018310547],\"open\":[184.52000427246094],\"showlegend\":false,\"x\":[\"2023-03-19T00:00:00\"],\"type\":\"candlestick\",\"xaxis\":\"x\",\"yaxis\":\"y\"},{\"close\":[183.25],\"decreasing\":{\"fillcolor\":\"rgba(255, 0, 0, 0)\",\"line\":{\"color\":\"green\"}},\"high\":[186.44000244140625],\"increasing\":{\"fillcolor\":\"rgba(255, 0, 0, 0)\",\"line\":{\"color\":\"green\"}},\"low\":[176.35000610351562],\"open\":[178.0800018310547],\"showlegend\":false,\"x\":[\"2023-03-20T00:00:00\"],\"type\":\"candlestick\",\"xaxis\":\"x\",\"yaxis\":\"y\"},{\"close\":[197.5800018310547],\"decreasing\":{\"fillcolor\":\"rgba(255, 0, 0, 0)\",\"line\":{\"color\":\"green\"}},\"high\":[198.0],\"increasing\":{\"fillcolor\":\"rgba(255, 0, 0, 0)\",\"line\":{\"color\":\"green\"}},\"low\":[188.0399932861328],\"open\":[188.27999877929688],\"showlegend\":false,\"x\":[\"2023-03-21T00:00:00\"],\"type\":\"candlestick\",\"xaxis\":\"x\",\"yaxis\":\"y\"},{\"close\":[191.14999389648438],\"decreasing\":{\"fillcolor\":\"red\",\"line\":{\"color\":\"red\"}},\"high\":[200.66000366210938],\"increasing\":{\"fillcolor\":\"red\",\"line\":{\"color\":\"red\"}},\"low\":[190.9499969482422],\"open\":[199.3000030517578],\"showlegend\":false,\"x\":[\"2023-03-22T00:00:00\"],\"type\":\"candlestick\",\"xaxis\":\"x\",\"yaxis\":\"y\"},{\"close\":[192.22000122070312],\"decreasing\":{\"fillcolor\":\"green\",\"line\":{\"color\":\"green\"}},\"high\":[199.30999755859375],\"increasing\":{\"fillcolor\":\"green\",\"line\":{\"color\":\"green\"}},\"low\":[188.64999389648438],\"open\":[195.25999450683594],\"showlegend\":false,\"x\":[\"2023-03-23T00:00:00\"],\"type\":\"candlestick\",\"xaxis\":\"x\",\"yaxis\":\"y\"},{\"close\":[190.41000366210938],\"decreasing\":{\"fillcolor\":\"red\",\"line\":{\"color\":\"red\"}},\"high\":[192.36000061035156],\"increasing\":{\"fillcolor\":\"red\",\"line\":{\"color\":\"red\"}},\"low\":[187.14999389648438],\"open\":[191.64999389648438],\"showlegend\":false,\"x\":[\"2023-03-24T00:00:00\"],\"type\":\"candlestick\",\"xaxis\":\"x\",\"yaxis\":\"y\"},{\"close\":[190.41000366210938],\"decreasing\":{\"fillcolor\":\"red\",\"line\":{\"color\":\"red\"}},\"high\":[192.36000061035156],\"increasing\":{\"fillcolor\":\"red\",\"line\":{\"color\":\"red\"}},\"low\":[187.14999389648438],\"open\":[191.64999389648438],\"showlegend\":false,\"x\":[\"2023-03-25T00:00:00\"],\"type\":\"candlestick\",\"xaxis\":\"x\",\"yaxis\":\"y\"},{\"close\":[190.41000366210938],\"decreasing\":{\"fillcolor\":\"red\",\"line\":{\"color\":\"red\"}},\"high\":[192.36000061035156],\"increasing\":{\"fillcolor\":\"red\",\"line\":{\"color\":\"red\"}},\"low\":[187.14999389648438],\"open\":[191.64999389648438],\"showlegend\":false,\"x\":[\"2023-03-26T00:00:00\"],\"type\":\"candlestick\",\"xaxis\":\"x\",\"yaxis\":\"y\"},{\"close\":[191.80999755859375],\"decreasing\":{\"fillcolor\":\"green\",\"line\":{\"color\":\"green\"}},\"high\":[197.38999938964844],\"increasing\":{\"fillcolor\":\"green\",\"line\":{\"color\":\"green\"}},\"low\":[189.94000244140625],\"open\":[194.4199981689453],\"showlegend\":false,\"x\":[\"2023-03-27T00:00:00\"],\"type\":\"candlestick\",\"xaxis\":\"x\",\"yaxis\":\"y\"},{\"close\":[189.19000244140625],\"decreasing\":{\"fillcolor\":\"red\",\"line\":{\"color\":\"red\"}},\"high\":[192.35000610351562],\"increasing\":{\"fillcolor\":\"red\",\"line\":{\"color\":\"red\"}},\"low\":[185.42999267578125],\"open\":[192.0],\"showlegend\":false,\"x\":[\"2023-03-28T00:00:00\"],\"type\":\"candlestick\",\"xaxis\":\"x\",\"yaxis\":\"y\"},{\"close\":[193.8800048828125],\"decreasing\":{\"fillcolor\":\"rgba(255, 0, 0, 0)\",\"line\":{\"color\":\"green\"}},\"high\":[195.2899932861328],\"increasing\":{\"fillcolor\":\"rgba(255, 0, 0, 0)\",\"line\":{\"color\":\"green\"}},\"low\":[189.44000244140625],\"open\":[193.1300048828125],\"showlegend\":false,\"x\":[\"2023-03-29T00:00:00\"],\"type\":\"candlestick\",\"xaxis\":\"x\",\"yaxis\":\"y\"},{\"close\":[195.27999877929688],\"decreasing\":{\"fillcolor\":\"green\",\"line\":{\"color\":\"green\"}},\"high\":[197.3300018310547],\"increasing\":{\"fillcolor\":\"green\",\"line\":{\"color\":\"green\"}},\"low\":[194.4199981689453],\"open\":[195.5800018310547],\"showlegend\":false,\"x\":[\"2023-03-30T00:00:00\"],\"type\":\"candlestick\",\"xaxis\":\"x\",\"yaxis\":\"y\"},{\"close\":[207.4600067138672],\"decreasing\":{\"fillcolor\":\"rgba(255, 0, 0, 0)\",\"line\":{\"color\":\"green\"}},\"high\":[207.7899932861328],\"increasing\":{\"fillcolor\":\"rgba(255, 0, 0, 0)\",\"line\":{\"color\":\"green\"}},\"low\":[197.1999969482422],\"open\":[197.52999877929688],\"showlegend\":false,\"x\":[\"2023-03-31T00:00:00\"],\"type\":\"candlestick\",\"xaxis\":\"x\",\"yaxis\":\"y\"},{\"close\":[207.4600067138672],\"decreasing\":{\"fillcolor\":\"rgba(255, 0, 0, 0)\",\"line\":{\"color\":\"red\"}},\"high\":[207.7899932861328],\"increasing\":{\"fillcolor\":\"rgba(255, 0, 0, 0)\",\"line\":{\"color\":\"red\"}},\"low\":[197.1999969482422],\"open\":[197.52999877929688],\"showlegend\":false,\"x\":[\"2023-04-01T00:00:00\"],\"type\":\"candlestick\",\"xaxis\":\"x\",\"yaxis\":\"y\"},{\"close\":[207.4600067138672],\"decreasing\":{\"fillcolor\":\"rgba(255, 0, 0, 0)\",\"line\":{\"color\":\"red\"}},\"high\":[207.7899932861328],\"increasing\":{\"fillcolor\":\"rgba(255, 0, 0, 0)\",\"line\":{\"color\":\"red\"}},\"low\":[197.1999969482422],\"open\":[197.52999877929688],\"showlegend\":false,\"x\":[\"2023-04-02T00:00:00\"],\"type\":\"candlestick\",\"xaxis\":\"x\",\"yaxis\":\"y\"},{\"close\":[194.77000427246094],\"decreasing\":{\"fillcolor\":\"red\",\"line\":{\"color\":\"red\"}},\"high\":[202.69000244140625],\"increasing\":{\"fillcolor\":\"red\",\"line\":{\"color\":\"red\"}},\"low\":[192.1999969482422],\"open\":[199.91000366210938],\"showlegend\":false,\"x\":[\"2023-04-03T00:00:00\"],\"type\":\"candlestick\",\"xaxis\":\"x\",\"yaxis\":\"y\"},{\"close\":[192.5800018310547],\"decreasing\":{\"fillcolor\":\"red\",\"line\":{\"color\":\"red\"}},\"high\":[198.74000549316406],\"increasing\":{\"fillcolor\":\"red\",\"line\":{\"color\":\"red\"}},\"low\":[190.32000732421875],\"open\":[197.32000732421875],\"showlegend\":false,\"x\":[\"2023-04-04T00:00:00\"],\"type\":\"candlestick\",\"xaxis\":\"x\",\"yaxis\":\"y\"},{\"close\":[185.52000427246094],\"decreasing\":{\"fillcolor\":\"red\",\"line\":{\"color\":\"red\"}},\"high\":[190.67999267578125],\"increasing\":{\"fillcolor\":\"red\",\"line\":{\"color\":\"red\"}},\"low\":[183.75999450683594],\"open\":[190.52000427246094],\"showlegend\":false,\"x\":[\"2023-04-05T00:00:00\"],\"type\":\"candlestick\",\"xaxis\":\"x\",\"yaxis\":\"y\"},{\"close\":[185.05999755859375],\"decreasing\":{\"fillcolor\":\"rgba(255, 0, 0, 0)\",\"line\":{\"color\":\"red\"}},\"high\":[186.38999938964844],\"increasing\":{\"fillcolor\":\"rgba(255, 0, 0, 0)\",\"line\":{\"color\":\"red\"}},\"low\":[179.74000549316406],\"open\":[183.0800018310547],\"showlegend\":false,\"x\":[\"2023-04-06T00:00:00\"],\"type\":\"candlestick\",\"xaxis\":\"x\",\"yaxis\":\"y\"},{\"close\":[185.05999755859375],\"decreasing\":{\"fillcolor\":\"rgba(255, 0, 0, 0)\",\"line\":{\"color\":\"red\"}},\"high\":[186.38999938964844],\"increasing\":{\"fillcolor\":\"rgba(255, 0, 0, 0)\",\"line\":{\"color\":\"red\"}},\"low\":[179.74000549316406],\"open\":[183.0800018310547],\"showlegend\":false,\"x\":[\"2023-04-07T00:00:00\"],\"type\":\"candlestick\",\"xaxis\":\"x\",\"yaxis\":\"y\"},{\"close\":[185.05999755859375],\"decreasing\":{\"fillcolor\":\"rgba(255, 0, 0, 0)\",\"line\":{\"color\":\"red\"}},\"high\":[186.38999938964844],\"increasing\":{\"fillcolor\":\"rgba(255, 0, 0, 0)\",\"line\":{\"color\":\"red\"}},\"low\":[179.74000549316406],\"open\":[183.0800018310547],\"showlegend\":false,\"x\":[\"2023-04-08T00:00:00\"],\"type\":\"candlestick\",\"xaxis\":\"x\",\"yaxis\":\"y\"},{\"close\":[185.05999755859375],\"decreasing\":{\"fillcolor\":\"rgba(255, 0, 0, 0)\",\"line\":{\"color\":\"red\"}},\"high\":[186.38999938964844],\"increasing\":{\"fillcolor\":\"rgba(255, 0, 0, 0)\",\"line\":{\"color\":\"red\"}},\"low\":[179.74000549316406],\"open\":[183.0800018310547],\"showlegend\":false,\"x\":[\"2023-04-09T00:00:00\"],\"type\":\"candlestick\",\"xaxis\":\"x\",\"yaxis\":\"y\"},{\"close\":[184.50999450683594],\"decreasing\":{\"fillcolor\":\"rgba(255, 0, 0, 0)\",\"line\":{\"color\":\"red\"}},\"high\":[185.10000610351562],\"increasing\":{\"fillcolor\":\"rgba(255, 0, 0, 0)\",\"line\":{\"color\":\"red\"}},\"low\":[176.11000061035156],\"open\":[179.94000244140625],\"showlegend\":false,\"x\":[\"2023-04-10T00:00:00\"],\"type\":\"candlestick\",\"xaxis\":\"x\",\"yaxis\":\"y\"},{\"close\":[186.7899932861328],\"decreasing\":{\"fillcolor\":\"rgba(255, 0, 0, 0)\",\"line\":{\"color\":\"green\"}},\"high\":[189.19000244140625],\"increasing\":{\"fillcolor\":\"rgba(255, 0, 0, 0)\",\"line\":{\"color\":\"green\"}},\"low\":[185.64999389648438],\"open\":[186.69000244140625],\"showlegend\":false,\"x\":[\"2023-04-11T00:00:00\"],\"type\":\"candlestick\",\"xaxis\":\"x\",\"yaxis\":\"y\"},{\"close\":[180.5399932861328],\"decreasing\":{\"fillcolor\":\"red\",\"line\":{\"color\":\"red\"}},\"high\":[191.5800018310547],\"increasing\":{\"fillcolor\":\"red\",\"line\":{\"color\":\"red\"}},\"low\":[180.30999755859375],\"open\":[190.74000549316406],\"showlegend\":false,\"x\":[\"2023-04-12T00:00:00\"],\"type\":\"candlestick\",\"xaxis\":\"x\",\"yaxis\":\"y\"},{\"close\":[185.89999389648438],\"decreasing\":{\"fillcolor\":\"rgba(255, 0, 0, 0)\",\"line\":{\"color\":\"green\"}},\"high\":[186.5],\"increasing\":{\"fillcolor\":\"rgba(255, 0, 0, 0)\",\"line\":{\"color\":\"green\"}},\"low\":[180.94000244140625],\"open\":[182.9600067138672],\"showlegend\":false,\"x\":[\"2023-04-13T00:00:00\"],\"type\":\"candlestick\",\"xaxis\":\"x\",\"yaxis\":\"y\"},{\"close\":[185.0],\"decreasing\":{\"fillcolor\":\"rgba(255, 0, 0, 0)\",\"line\":{\"color\":\"red\"}},\"high\":[186.27999877929688],\"increasing\":{\"fillcolor\":\"rgba(255, 0, 0, 0)\",\"line\":{\"color\":\"red\"}},\"low\":[182.00999450683594],\"open\":[183.9499969482422],\"showlegend\":false,\"x\":[\"2023-04-14T00:00:00\"],\"type\":\"candlestick\",\"xaxis\":\"x\",\"yaxis\":\"y\"},{\"close\":[185.0],\"decreasing\":{\"fillcolor\":\"rgba(255, 0, 0, 0)\",\"line\":{\"color\":\"red\"}},\"high\":[186.27999877929688],\"increasing\":{\"fillcolor\":\"rgba(255, 0, 0, 0)\",\"line\":{\"color\":\"red\"}},\"low\":[182.00999450683594],\"open\":[183.9499969482422],\"showlegend\":false,\"x\":[\"2023-04-15T00:00:00\"],\"type\":\"candlestick\",\"xaxis\":\"x\",\"yaxis\":\"y\"},{\"close\":[185.0],\"decreasing\":{\"fillcolor\":\"rgba(255, 0, 0, 0)\",\"line\":{\"color\":\"red\"}},\"high\":[186.27999877929688],\"increasing\":{\"fillcolor\":\"rgba(255, 0, 0, 0)\",\"line\":{\"color\":\"red\"}},\"low\":[182.00999450683594],\"open\":[183.9499969482422],\"showlegend\":false,\"x\":[\"2023-04-16T00:00:00\"],\"type\":\"candlestick\",\"xaxis\":\"x\",\"yaxis\":\"y\"},{\"close\":[187.0399932861328],\"decreasing\":{\"fillcolor\":\"rgba(255, 0, 0, 0)\",\"line\":{\"color\":\"green\"}},\"high\":[189.69000244140625],\"increasing\":{\"fillcolor\":\"rgba(255, 0, 0, 0)\",\"line\":{\"color\":\"green\"}},\"low\":[182.69000244140625],\"open\":[186.32000732421875],\"showlegend\":false,\"x\":[\"2023-04-17T00:00:00\"],\"type\":\"candlestick\",\"xaxis\":\"x\",\"yaxis\":\"y\"},{\"close\":[184.30999755859375],\"decreasing\":{\"fillcolor\":\"red\",\"line\":{\"color\":\"red\"}},\"high\":[187.69000244140625],\"increasing\":{\"fillcolor\":\"red\",\"line\":{\"color\":\"red\"}},\"low\":[183.5800018310547],\"open\":[187.14999389648438],\"showlegend\":false,\"x\":[\"2023-04-18T00:00:00\"],\"type\":\"candlestick\",\"xaxis\":\"x\",\"yaxis\":\"y\"},{\"close\":[180.58999633789062],\"decreasing\":{\"fillcolor\":\"rgba(255, 0, 0, 0)\",\"line\":{\"color\":\"red\"}},\"high\":[183.5],\"increasing\":{\"fillcolor\":\"rgba(255, 0, 0, 0)\",\"line\":{\"color\":\"red\"}},\"low\":[177.64999389648438],\"open\":[179.10000610351562],\"showlegend\":false,\"x\":[\"2023-04-19T00:00:00\"],\"type\":\"candlestick\",\"xaxis\":\"x\",\"yaxis\":\"y\"},{\"close\":[162.99000549316406],\"decreasing\":{\"fillcolor\":\"red\",\"line\":{\"color\":\"red\"}},\"high\":[169.6999969482422],\"increasing\":{\"fillcolor\":\"red\",\"line\":{\"color\":\"red\"}},\"low\":[160.55999755859375],\"open\":[166.1699981689453],\"showlegend\":false,\"x\":[\"2023-04-20T00:00:00\"],\"type\":\"candlestick\",\"xaxis\":\"x\",\"yaxis\":\"y\"},{\"close\":[165.0800018310547],\"decreasing\":{\"fillcolor\":\"rgba(255, 0, 0, 0)\",\"line\":{\"color\":\"green\"}},\"high\":[166.0],\"increasing\":{\"fillcolor\":\"rgba(255, 0, 0, 0)\",\"line\":{\"color\":\"green\"}},\"low\":[161.32000732421875],\"open\":[164.8000030517578],\"showlegend\":false,\"x\":[\"2023-04-21T00:00:00\"],\"type\":\"candlestick\",\"xaxis\":\"x\",\"yaxis\":\"y\"},{\"close\":[165.0800018310547],\"decreasing\":{\"fillcolor\":\"rgba(255, 0, 0, 0)\",\"line\":{\"color\":\"red\"}},\"high\":[166.0],\"increasing\":{\"fillcolor\":\"rgba(255, 0, 0, 0)\",\"line\":{\"color\":\"red\"}},\"low\":[161.32000732421875],\"open\":[164.8000030517578],\"showlegend\":false,\"x\":[\"2023-04-22T00:00:00\"],\"type\":\"candlestick\",\"xaxis\":\"x\",\"yaxis\":\"y\"},{\"close\":[165.0800018310547],\"decreasing\":{\"fillcolor\":\"rgba(255, 0, 0, 0)\",\"line\":{\"color\":\"red\"}},\"high\":[166.0],\"increasing\":{\"fillcolor\":\"rgba(255, 0, 0, 0)\",\"line\":{\"color\":\"red\"}},\"low\":[161.32000732421875],\"open\":[164.8000030517578],\"showlegend\":false,\"x\":[\"2023-04-23T00:00:00\"],\"type\":\"candlestick\",\"xaxis\":\"x\",\"yaxis\":\"y\"},{\"close\":[162.5500030517578],\"decreasing\":{\"fillcolor\":\"red\",\"line\":{\"color\":\"red\"}},\"high\":[165.64999389648438],\"increasing\":{\"fillcolor\":\"red\",\"line\":{\"color\":\"red\"}},\"low\":[158.61000061035156],\"open\":[164.64999389648438],\"showlegend\":false,\"x\":[\"2023-04-24T00:00:00\"],\"type\":\"candlestick\",\"xaxis\":\"x\",\"yaxis\":\"y\"},{\"close\":[160.6699981689453],\"decreasing\":{\"fillcolor\":\"rgba(255, 0, 0, 0)\",\"line\":{\"color\":\"red\"}},\"high\":[163.47000122070312],\"increasing\":{\"fillcolor\":\"rgba(255, 0, 0, 0)\",\"line\":{\"color\":\"red\"}},\"low\":[158.75],\"open\":[159.82000732421875],\"showlegend\":false,\"x\":[\"2023-04-25T00:00:00\"],\"type\":\"candlestick\",\"xaxis\":\"x\",\"yaxis\":\"y\"},{\"close\":[153.75],\"decreasing\":{\"fillcolor\":\"red\",\"line\":{\"color\":\"red\"}},\"high\":[160.6699981689453],\"increasing\":{\"fillcolor\":\"red\",\"line\":{\"color\":\"red\"}},\"low\":[153.13999938964844],\"open\":[160.2899932861328],\"showlegend\":false,\"x\":[\"2023-04-26T00:00:00\"],\"type\":\"candlestick\",\"xaxis\":\"x\",\"yaxis\":\"y\"},{\"close\":[160.19000244140625],\"decreasing\":{\"fillcolor\":\"rgba(255, 0, 0, 0)\",\"line\":{\"color\":\"green\"}},\"high\":[160.47999572753906],\"increasing\":{\"fillcolor\":\"rgba(255, 0, 0, 0)\",\"line\":{\"color\":\"green\"}},\"low\":[152.3699951171875],\"open\":[152.63999938964844],\"showlegend\":false,\"x\":[\"2023-04-27T00:00:00\"],\"type\":\"candlestick\",\"xaxis\":\"x\",\"yaxis\":\"y\"},{\"close\":[164.30999755859375],\"decreasing\":{\"fillcolor\":\"rgba(255, 0, 0, 0)\",\"line\":{\"color\":\"green\"}},\"high\":[165.0],\"increasing\":{\"fillcolor\":\"rgba(255, 0, 0, 0)\",\"line\":{\"color\":\"green\"}},\"low\":[157.32000732421875],\"open\":[160.89999389648438],\"showlegend\":false,\"x\":[\"2023-04-28T00:00:00\"],\"type\":\"candlestick\",\"xaxis\":\"x\",\"yaxis\":\"y\"},{\"close\":[164.30999755859375],\"decreasing\":{\"fillcolor\":\"rgba(255, 0, 0, 0)\",\"line\":{\"color\":\"red\"}},\"high\":[165.0],\"increasing\":{\"fillcolor\":\"rgba(255, 0, 0, 0)\",\"line\":{\"color\":\"red\"}},\"low\":[157.32000732421875],\"open\":[160.89999389648438],\"showlegend\":false,\"x\":[\"2023-04-29T00:00:00\"],\"type\":\"candlestick\",\"xaxis\":\"x\",\"yaxis\":\"y\"},{\"close\":[164.30999755859375],\"decreasing\":{\"fillcolor\":\"rgba(255, 0, 0, 0)\",\"line\":{\"color\":\"red\"}},\"high\":[165.0],\"increasing\":{\"fillcolor\":\"rgba(255, 0, 0, 0)\",\"line\":{\"color\":\"red\"}},\"low\":[157.32000732421875],\"open\":[160.89999389648438],\"showlegend\":false,\"x\":[\"2023-04-30T00:00:00\"],\"type\":\"candlestick\",\"xaxis\":\"x\",\"yaxis\":\"y\"},{\"close\":[161.8300018310547],\"decreasing\":{\"fillcolor\":\"red\",\"line\":{\"color\":\"red\"}},\"high\":[163.27999877929688],\"increasing\":{\"fillcolor\":\"red\",\"line\":{\"color\":\"red\"}},\"low\":[158.8300018310547],\"open\":[163.1699981689453],\"showlegend\":false,\"x\":[\"2023-05-01T00:00:00\"],\"type\":\"candlestick\",\"xaxis\":\"x\",\"yaxis\":\"y\"},{\"close\":[160.30999755859375],\"decreasing\":{\"fillcolor\":\"red\",\"line\":{\"color\":\"red\"}},\"high\":[165.49000549316406],\"increasing\":{\"fillcolor\":\"red\",\"line\":{\"color\":\"red\"}},\"low\":[158.92999267578125],\"open\":[161.8800048828125],\"showlegend\":false,\"x\":[\"2023-05-02T00:00:00\"],\"type\":\"candlestick\",\"xaxis\":\"x\",\"yaxis\":\"y\"},{\"close\":[160.61000061035156],\"decreasing\":{\"fillcolor\":\"rgba(255, 0, 0, 0)\",\"line\":{\"color\":\"green\"}},\"high\":[165.0],\"increasing\":{\"fillcolor\":\"rgba(255, 0, 0, 0)\",\"line\":{\"color\":\"green\"}},\"low\":[159.91000366210938],\"open\":[160.00999450683594],\"showlegend\":false,\"x\":[\"2023-05-03T00:00:00\"],\"type\":\"candlestick\",\"xaxis\":\"x\",\"yaxis\":\"y\"},{\"close\":[161.1999969482422],\"decreasing\":{\"fillcolor\":\"green\",\"line\":{\"color\":\"green\"}},\"high\":[162.9499969482422],\"increasing\":{\"fillcolor\":\"green\",\"line\":{\"color\":\"green\"}},\"low\":[159.64999389648438],\"open\":[162.7100067138672],\"showlegend\":false,\"x\":[\"2023-05-04T00:00:00\"],\"type\":\"candlestick\",\"xaxis\":\"x\",\"yaxis\":\"y\"},{\"close\":[170.05999755859375],\"decreasing\":{\"fillcolor\":\"rgba(255, 0, 0, 0)\",\"line\":{\"color\":\"green\"}},\"high\":[170.7899932861328],\"increasing\":{\"fillcolor\":\"rgba(255, 0, 0, 0)\",\"line\":{\"color\":\"green\"}},\"low\":[163.50999450683594],\"open\":[163.97000122070312],\"showlegend\":false,\"x\":[\"2023-05-05T00:00:00\"],\"type\":\"candlestick\",\"xaxis\":\"x\",\"yaxis\":\"y\"},{\"close\":[170.05999755859375],\"decreasing\":{\"fillcolor\":\"rgba(255, 0, 0, 0)\",\"line\":{\"color\":\"red\"}},\"high\":[170.7899932861328],\"increasing\":{\"fillcolor\":\"rgba(255, 0, 0, 0)\",\"line\":{\"color\":\"red\"}},\"low\":[163.50999450683594],\"open\":[163.97000122070312],\"showlegend\":false,\"x\":[\"2023-05-06T00:00:00\"],\"type\":\"candlestick\",\"xaxis\":\"x\",\"yaxis\":\"y\"},{\"close\":[170.05999755859375],\"decreasing\":{\"fillcolor\":\"rgba(255, 0, 0, 0)\",\"line\":{\"color\":\"red\"}},\"high\":[170.7899932861328],\"increasing\":{\"fillcolor\":\"rgba(255, 0, 0, 0)\",\"line\":{\"color\":\"red\"}},\"low\":[163.50999450683594],\"open\":[163.97000122070312],\"showlegend\":false,\"x\":[\"2023-05-07T00:00:00\"],\"type\":\"candlestick\",\"xaxis\":\"x\",\"yaxis\":\"y\"},{\"close\":[171.7899932861328],\"decreasing\":{\"fillcolor\":\"green\",\"line\":{\"color\":\"green\"}},\"high\":[173.8000030517578],\"increasing\":{\"fillcolor\":\"green\",\"line\":{\"color\":\"green\"}},\"low\":[169.19000244140625],\"open\":[173.72000122070312],\"showlegend\":false,\"x\":[\"2023-05-08T00:00:00\"],\"type\":\"candlestick\",\"xaxis\":\"x\",\"yaxis\":\"y\"},{\"close\":[169.14999389648438],\"decreasing\":{\"fillcolor\":\"rgba(255, 0, 0, 0)\",\"line\":{\"color\":\"red\"}},\"high\":[169.82000732421875],\"increasing\":{\"fillcolor\":\"rgba(255, 0, 0, 0)\",\"line\":{\"color\":\"red\"}},\"low\":[166.55999755859375],\"open\":[168.9499969482422],\"showlegend\":false,\"x\":[\"2023-05-09T00:00:00\"],\"type\":\"candlestick\",\"xaxis\":\"x\",\"yaxis\":\"y\"},{\"close\":[168.5399932861328],\"decreasing\":{\"fillcolor\":\"red\",\"line\":{\"color\":\"red\"}},\"high\":[174.42999267578125],\"increasing\":{\"fillcolor\":\"red\",\"line\":{\"color\":\"red\"}},\"low\":[166.67999267578125],\"open\":[172.5500030517578],\"showlegend\":false,\"x\":[\"2023-05-10T00:00:00\"],\"type\":\"candlestick\",\"xaxis\":\"x\",\"yaxis\":\"y\"},{\"close\":[172.0800018310547],\"decreasing\":{\"fillcolor\":\"rgba(255, 0, 0, 0)\",\"line\":{\"color\":\"green\"}},\"high\":[173.57000732421875],\"increasing\":{\"fillcolor\":\"rgba(255, 0, 0, 0)\",\"line\":{\"color\":\"green\"}},\"low\":[166.7899932861328],\"open\":[168.6999969482422],\"showlegend\":false,\"x\":[\"2023-05-11T00:00:00\"],\"type\":\"candlestick\",\"xaxis\":\"x\",\"yaxis\":\"y\"},{\"close\":[167.97999572753906],\"decreasing\":{\"fillcolor\":\"red\",\"line\":{\"color\":\"red\"}},\"high\":[177.3800048828125],\"increasing\":{\"fillcolor\":\"red\",\"line\":{\"color\":\"red\"}},\"low\":[167.22999572753906],\"open\":[176.07000732421875],\"showlegend\":false,\"x\":[\"2023-05-12T00:00:00\"],\"type\":\"candlestick\",\"xaxis\":\"x\",\"yaxis\":\"y\"},{\"close\":[167.97999572753906],\"decreasing\":{\"fillcolor\":\"red\",\"line\":{\"color\":\"red\"}},\"high\":[177.3800048828125],\"increasing\":{\"fillcolor\":\"red\",\"line\":{\"color\":\"red\"}},\"low\":[167.22999572753906],\"open\":[176.07000732421875],\"showlegend\":false,\"x\":[\"2023-05-13T00:00:00\"],\"type\":\"candlestick\",\"xaxis\":\"x\",\"yaxis\":\"y\"},{\"close\":[167.97999572753906],\"decreasing\":{\"fillcolor\":\"red\",\"line\":{\"color\":\"red\"}},\"high\":[177.3800048828125],\"increasing\":{\"fillcolor\":\"red\",\"line\":{\"color\":\"red\"}},\"low\":[167.22999572753906],\"open\":[176.07000732421875],\"showlegend\":false,\"x\":[\"2023-05-14T00:00:00\"],\"type\":\"candlestick\",\"xaxis\":\"x\",\"yaxis\":\"y\"},{\"close\":[166.35000610351562],\"decreasing\":{\"fillcolor\":\"red\",\"line\":{\"color\":\"red\"}},\"high\":[169.75999450683594],\"increasing\":{\"fillcolor\":\"red\",\"line\":{\"color\":\"red\"}},\"low\":[164.5500030517578],\"open\":[167.66000366210938],\"showlegend\":false,\"x\":[\"2023-05-15T00:00:00\"],\"type\":\"candlestick\",\"xaxis\":\"x\",\"yaxis\":\"y\"},{\"close\":[166.52000427246094],\"decreasing\":{\"fillcolor\":\"rgba(255, 0, 0, 0)\",\"line\":{\"color\":\"green\"}},\"high\":[169.52000427246094],\"increasing\":{\"fillcolor\":\"rgba(255, 0, 0, 0)\",\"line\":{\"color\":\"green\"}},\"low\":[164.35000610351562],\"open\":[165.64999389648438],\"showlegend\":false,\"x\":[\"2023-05-16T00:00:00\"],\"type\":\"candlestick\",\"xaxis\":\"x\",\"yaxis\":\"y\"},{\"close\":[173.86000061035156],\"decreasing\":{\"fillcolor\":\"rgba(255, 0, 0, 0)\",\"line\":{\"color\":\"green\"}},\"high\":[174.5],\"increasing\":{\"fillcolor\":\"rgba(255, 0, 0, 0)\",\"line\":{\"color\":\"green\"}},\"low\":[167.19000244140625],\"open\":[168.41000366210938],\"showlegend\":false,\"x\":[\"2023-05-17T00:00:00\"],\"type\":\"candlestick\",\"xaxis\":\"x\",\"yaxis\":\"y\"},{\"close\":[176.88999938964844],\"decreasing\":{\"fillcolor\":\"rgba(255, 0, 0, 0)\",\"line\":{\"color\":\"green\"}},\"high\":[177.05999755859375],\"increasing\":{\"fillcolor\":\"rgba(255, 0, 0, 0)\",\"line\":{\"color\":\"green\"}},\"low\":[172.4499969482422],\"open\":[174.22000122070312],\"showlegend\":false,\"x\":[\"2023-05-18T00:00:00\"],\"type\":\"candlestick\",\"xaxis\":\"x\",\"yaxis\":\"y\"},{\"close\":[180.13999938964844],\"decreasing\":{\"fillcolor\":\"rgba(255, 0, 0, 0)\",\"line\":{\"color\":\"green\"}},\"high\":[181.9499969482422],\"increasing\":{\"fillcolor\":\"rgba(255, 0, 0, 0)\",\"line\":{\"color\":\"green\"}},\"low\":[176.30999755859375],\"open\":[177.1699981689453],\"showlegend\":false,\"x\":[\"2023-05-19T00:00:00\"],\"type\":\"candlestick\",\"xaxis\":\"x\",\"yaxis\":\"y\"},{\"close\":[180.13999938964844],\"decreasing\":{\"fillcolor\":\"rgba(255, 0, 0, 0)\",\"line\":{\"color\":\"red\"}},\"high\":[181.9499969482422],\"increasing\":{\"fillcolor\":\"rgba(255, 0, 0, 0)\",\"line\":{\"color\":\"red\"}},\"low\":[176.30999755859375],\"open\":[177.1699981689453],\"showlegend\":false,\"x\":[\"2023-05-20T00:00:00\"],\"type\":\"candlestick\",\"xaxis\":\"x\",\"yaxis\":\"y\"},{\"close\":[180.13999938964844],\"decreasing\":{\"fillcolor\":\"rgba(255, 0, 0, 0)\",\"line\":{\"color\":\"red\"}},\"high\":[181.9499969482422],\"increasing\":{\"fillcolor\":\"rgba(255, 0, 0, 0)\",\"line\":{\"color\":\"red\"}},\"low\":[176.30999755859375],\"open\":[177.1699981689453],\"showlegend\":false,\"x\":[\"2023-05-21T00:00:00\"],\"type\":\"candlestick\",\"xaxis\":\"x\",\"yaxis\":\"y\"},{\"close\":[188.8699951171875],\"decreasing\":{\"fillcolor\":\"rgba(255, 0, 0, 0)\",\"line\":{\"color\":\"green\"}},\"high\":[189.32000732421875],\"increasing\":{\"fillcolor\":\"rgba(255, 0, 0, 0)\",\"line\":{\"color\":\"green\"}},\"low\":[180.11000061035156],\"open\":[180.6999969482422],\"showlegend\":false,\"x\":[\"2023-05-22T00:00:00\"],\"type\":\"candlestick\",\"xaxis\":\"x\",\"yaxis\":\"y\"},{\"close\":[185.77000427246094],\"decreasing\":{\"fillcolor\":\"red\",\"line\":{\"color\":\"red\"}},\"high\":[192.9600067138672],\"increasing\":{\"fillcolor\":\"red\",\"line\":{\"color\":\"red\"}},\"low\":[185.25999450683594],\"open\":[186.1999969482422],\"showlegend\":false,\"x\":[\"2023-05-23T00:00:00\"],\"type\":\"candlestick\",\"xaxis\":\"x\",\"yaxis\":\"y\"},{\"close\":[182.89999389648438],\"decreasing\":{\"fillcolor\":\"rgba(255, 0, 0, 0)\",\"line\":{\"color\":\"red\"}},\"high\":[184.22000122070312],\"increasing\":{\"fillcolor\":\"rgba(255, 0, 0, 0)\",\"line\":{\"color\":\"red\"}},\"low\":[178.22000122070312],\"open\":[182.22999572753906],\"showlegend\":false,\"x\":[\"2023-05-24T00:00:00\"],\"type\":\"candlestick\",\"xaxis\":\"x\",\"yaxis\":\"y\"},{\"close\":[184.47000122070312],\"decreasing\":{\"fillcolor\":\"green\",\"line\":{\"color\":\"green\"}},\"high\":[186.77999877929688],\"increasing\":{\"fillcolor\":\"green\",\"line\":{\"color\":\"green\"}},\"low\":[180.5800018310547],\"open\":[186.5399932861328],\"showlegend\":false,\"x\":[\"2023-05-25T00:00:00\"],\"type\":\"candlestick\",\"xaxis\":\"x\",\"yaxis\":\"y\"},{\"close\":[193.1699981689453],\"decreasing\":{\"fillcolor\":\"rgba(255, 0, 0, 0)\",\"line\":{\"color\":\"green\"}},\"high\":[198.60000610351562],\"increasing\":{\"fillcolor\":\"rgba(255, 0, 0, 0)\",\"line\":{\"color\":\"green\"}},\"low\":[184.52999877929688],\"open\":[184.6199951171875],\"showlegend\":false,\"x\":[\"2023-05-26T00:00:00\"],\"type\":\"candlestick\",\"xaxis\":\"x\",\"yaxis\":\"y\"},{\"close\":[193.1699981689453],\"decreasing\":{\"fillcolor\":\"rgba(255, 0, 0, 0)\",\"line\":{\"color\":\"red\"}},\"high\":[198.60000610351562],\"increasing\":{\"fillcolor\":\"rgba(255, 0, 0, 0)\",\"line\":{\"color\":\"red\"}},\"low\":[184.52999877929688],\"open\":[184.6199951171875],\"showlegend\":false,\"x\":[\"2023-05-27T00:00:00\"],\"type\":\"candlestick\",\"xaxis\":\"x\",\"yaxis\":\"y\"},{\"close\":[193.1699981689453],\"decreasing\":{\"fillcolor\":\"rgba(255, 0, 0, 0)\",\"line\":{\"color\":\"red\"}},\"high\":[198.60000610351562],\"increasing\":{\"fillcolor\":\"rgba(255, 0, 0, 0)\",\"line\":{\"color\":\"red\"}},\"low\":[184.52999877929688],\"open\":[184.6199951171875],\"showlegend\":false,\"x\":[\"2023-05-28T00:00:00\"],\"type\":\"candlestick\",\"xaxis\":\"x\",\"yaxis\":\"y\"},{\"close\":[193.1699981689453],\"decreasing\":{\"fillcolor\":\"rgba(255, 0, 0, 0)\",\"line\":{\"color\":\"red\"}},\"high\":[198.60000610351562],\"increasing\":{\"fillcolor\":\"rgba(255, 0, 0, 0)\",\"line\":{\"color\":\"red\"}},\"low\":[184.52999877929688],\"open\":[184.6199951171875],\"showlegend\":false,\"x\":[\"2023-05-29T00:00:00\"],\"type\":\"candlestick\",\"xaxis\":\"x\",\"yaxis\":\"y\"},{\"close\":[201.16000366210938],\"decreasing\":{\"fillcolor\":\"rgba(255, 0, 0, 0)\",\"line\":{\"color\":\"green\"}},\"high\":[204.47999572753906],\"increasing\":{\"fillcolor\":\"rgba(255, 0, 0, 0)\",\"line\":{\"color\":\"green\"}},\"low\":[197.52999877929688],\"open\":[200.10000610351562],\"showlegend\":false,\"x\":[\"2023-05-30T00:00:00\"],\"type\":\"candlestick\",\"xaxis\":\"x\",\"yaxis\":\"y\"},{\"close\":[203.92999267578125],\"decreasing\":{\"fillcolor\":\"rgba(255, 0, 0, 0)\",\"line\":{\"color\":\"green\"}},\"high\":[203.9499969482422],\"increasing\":{\"fillcolor\":\"rgba(255, 0, 0, 0)\",\"line\":{\"color\":\"green\"}},\"low\":[195.1199951171875],\"open\":[199.77999877929688],\"showlegend\":false,\"x\":[\"2023-05-31T00:00:00\"],\"type\":\"candlestick\",\"xaxis\":\"x\",\"yaxis\":\"y\"},{\"close\":[207.52000427246094],\"decreasing\":{\"fillcolor\":\"rgba(255, 0, 0, 0)\",\"line\":{\"color\":\"green\"}},\"high\":[209.8000030517578],\"increasing\":{\"fillcolor\":\"rgba(255, 0, 0, 0)\",\"line\":{\"color\":\"green\"}},\"low\":[199.3699951171875],\"open\":[202.58999633789062],\"showlegend\":false,\"x\":[\"2023-06-01T00:00:00\"],\"type\":\"candlestick\",\"xaxis\":\"x\",\"yaxis\":\"y\"},{\"close\":[213.97000122070312],\"decreasing\":{\"fillcolor\":\"rgba(255, 0, 0, 0)\",\"line\":{\"color\":\"green\"}},\"high\":[217.25],\"increasing\":{\"fillcolor\":\"rgba(255, 0, 0, 0)\",\"line\":{\"color\":\"green\"}},\"low\":[209.75],\"open\":[210.14999389648438],\"showlegend\":false,\"x\":[\"2023-06-02T00:00:00\"],\"type\":\"candlestick\",\"xaxis\":\"x\",\"yaxis\":\"y\"},{\"close\":[213.97000122070312],\"decreasing\":{\"fillcolor\":\"rgba(255, 0, 0, 0)\",\"line\":{\"color\":\"red\"}},\"high\":[217.25],\"increasing\":{\"fillcolor\":\"rgba(255, 0, 0, 0)\",\"line\":{\"color\":\"red\"}},\"low\":[209.75],\"open\":[210.14999389648438],\"showlegend\":false,\"x\":[\"2023-06-03T00:00:00\"],\"type\":\"candlestick\",\"xaxis\":\"x\",\"yaxis\":\"y\"},{\"close\":[213.97000122070312],\"decreasing\":{\"fillcolor\":\"rgba(255, 0, 0, 0)\",\"line\":{\"color\":\"red\"}},\"high\":[217.25],\"increasing\":{\"fillcolor\":\"rgba(255, 0, 0, 0)\",\"line\":{\"color\":\"red\"}},\"low\":[209.75],\"open\":[210.14999389648438],\"showlegend\":false,\"x\":[\"2023-06-04T00:00:00\"],\"type\":\"candlestick\",\"xaxis\":\"x\",\"yaxis\":\"y\"},{\"close\":[217.61000061035156],\"decreasing\":{\"fillcolor\":\"green\",\"line\":{\"color\":\"green\"}},\"high\":[221.2899932861328],\"increasing\":{\"fillcolor\":\"green\",\"line\":{\"color\":\"green\"}},\"low\":[214.52000427246094],\"open\":[217.8000030517578],\"showlegend\":false,\"x\":[\"2023-06-05T00:00:00\"],\"type\":\"candlestick\",\"xaxis\":\"x\",\"yaxis\":\"y\"},{\"close\":[221.30999755859375],\"decreasing\":{\"fillcolor\":\"rgba(255, 0, 0, 0)\",\"line\":{\"color\":\"green\"}},\"high\":[221.91000366210938],\"increasing\":{\"fillcolor\":\"rgba(255, 0, 0, 0)\",\"line\":{\"color\":\"green\"}},\"low\":[212.52999877929688],\"open\":[216.13999938964844],\"showlegend\":false,\"x\":[\"2023-06-06T00:00:00\"],\"type\":\"candlestick\",\"xaxis\":\"x\",\"yaxis\":\"y\"},{\"close\":[224.57000732421875],\"decreasing\":{\"fillcolor\":\"green\",\"line\":{\"color\":\"green\"}},\"high\":[230.8300018310547],\"increasing\":{\"fillcolor\":\"green\",\"line\":{\"color\":\"green\"}},\"low\":[223.1999969482422],\"open\":[228.0],\"showlegend\":false,\"x\":[\"2023-06-07T00:00:00\"],\"type\":\"candlestick\",\"xaxis\":\"x\",\"yaxis\":\"y\"},{\"close\":[234.86000061035156],\"decreasing\":{\"fillcolor\":\"rgba(255, 0, 0, 0)\",\"line\":{\"color\":\"green\"}},\"high\":[235.22999572753906],\"increasing\":{\"fillcolor\":\"rgba(255, 0, 0, 0)\",\"line\":{\"color\":\"green\"}},\"low\":[223.00999450683594],\"open\":[224.22000122070312],\"showlegend\":false,\"x\":[\"2023-06-08T00:00:00\"],\"type\":\"candlestick\",\"xaxis\":\"x\",\"yaxis\":\"y\"},{\"close\":[244.39999389648438],\"decreasing\":{\"fillcolor\":\"green\",\"line\":{\"color\":\"green\"}},\"high\":[252.4199981689453],\"increasing\":{\"fillcolor\":\"green\",\"line\":{\"color\":\"green\"}},\"low\":[242.02000427246094],\"open\":[249.07000732421875],\"showlegend\":false,\"x\":[\"2023-06-09T00:00:00\"],\"type\":\"candlestick\",\"xaxis\":\"x\",\"yaxis\":\"y\"},{\"close\":[244.39999389648438],\"decreasing\":{\"fillcolor\":\"red\",\"line\":{\"color\":\"red\"}},\"high\":[252.4199981689453],\"increasing\":{\"fillcolor\":\"red\",\"line\":{\"color\":\"red\"}},\"low\":[242.02000427246094],\"open\":[249.07000732421875],\"showlegend\":false,\"x\":[\"2023-06-10T00:00:00\"],\"type\":\"candlestick\",\"xaxis\":\"x\",\"yaxis\":\"y\"},{\"close\":[244.39999389648438],\"decreasing\":{\"fillcolor\":\"red\",\"line\":{\"color\":\"red\"}},\"high\":[252.4199981689453],\"increasing\":{\"fillcolor\":\"red\",\"line\":{\"color\":\"red\"}},\"low\":[242.02000427246094],\"open\":[249.07000732421875],\"showlegend\":false,\"x\":[\"2023-06-11T00:00:00\"],\"type\":\"candlestick\",\"xaxis\":\"x\",\"yaxis\":\"y\"},{\"close\":[249.8300018310547],\"decreasing\":{\"fillcolor\":\"rgba(255, 0, 0, 0)\",\"line\":{\"color\":\"green\"}},\"high\":[250.97000122070312],\"increasing\":{\"fillcolor\":\"rgba(255, 0, 0, 0)\",\"line\":{\"color\":\"green\"}},\"low\":[244.58999633789062],\"open\":[247.94000244140625],\"showlegend\":false,\"x\":[\"2023-06-12T00:00:00\"],\"type\":\"candlestick\",\"xaxis\":\"x\",\"yaxis\":\"y\"},{\"close\":[258.7099914550781],\"decreasing\":{\"fillcolor\":\"rgba(255, 0, 0, 0)\",\"line\":{\"color\":\"green\"}},\"high\":[259.67999267578125],\"increasing\":{\"fillcolor\":\"rgba(255, 0, 0, 0)\",\"line\":{\"color\":\"green\"}},\"low\":[251.33999633789062],\"open\":[253.50999450683594],\"showlegend\":false,\"x\":[\"2023-06-13T00:00:00\"],\"type\":\"candlestick\",\"xaxis\":\"x\",\"yaxis\":\"y\"},{\"close\":[256.7900085449219],\"decreasing\":{\"fillcolor\":\"red\",\"line\":{\"color\":\"red\"}},\"high\":[261.57000732421875],\"increasing\":{\"fillcolor\":\"red\",\"line\":{\"color\":\"red\"}},\"low\":[250.5],\"open\":[260.1700134277344],\"showlegend\":false,\"x\":[\"2023-06-14T00:00:00\"],\"type\":\"candlestick\",\"xaxis\":\"x\",\"yaxis\":\"y\"},{\"close\":[255.89999389648438],\"decreasing\":{\"fillcolor\":\"rgba(255, 0, 0, 0)\",\"line\":{\"color\":\"red\"}},\"high\":[258.95001220703125],\"increasing\":{\"fillcolor\":\"rgba(255, 0, 0, 0)\",\"line\":{\"color\":\"red\"}},\"low\":[247.2899932861328],\"open\":[248.39999389648438],\"showlegend\":false,\"x\":[\"2023-06-15T00:00:00\"],\"type\":\"candlestick\",\"xaxis\":\"x\",\"yaxis\":\"y\"},{\"close\":[260.5400085449219],\"decreasing\":{\"fillcolor\":\"rgba(255, 0, 0, 0)\",\"line\":{\"color\":\"green\"}},\"high\":[263.6000061035156],\"increasing\":{\"fillcolor\":\"rgba(255, 0, 0, 0)\",\"line\":{\"color\":\"green\"}},\"low\":[257.2099914550781],\"open\":[258.9200134277344],\"showlegend\":false,\"x\":[\"2023-06-16T00:00:00\"],\"type\":\"candlestick\",\"xaxis\":\"x\",\"yaxis\":\"y\"},{\"close\":[260.5400085449219],\"decreasing\":{\"fillcolor\":\"rgba(255, 0, 0, 0)\",\"line\":{\"color\":\"red\"}},\"high\":[263.6000061035156],\"increasing\":{\"fillcolor\":\"rgba(255, 0, 0, 0)\",\"line\":{\"color\":\"red\"}},\"low\":[257.2099914550781],\"open\":[258.9200134277344],\"showlegend\":false,\"x\":[\"2023-06-17T00:00:00\"],\"type\":\"candlestick\",\"xaxis\":\"x\",\"yaxis\":\"y\"},{\"close\":[260.5400085449219],\"decreasing\":{\"fillcolor\":\"rgba(255, 0, 0, 0)\",\"line\":{\"color\":\"red\"}},\"high\":[263.6000061035156],\"increasing\":{\"fillcolor\":\"rgba(255, 0, 0, 0)\",\"line\":{\"color\":\"red\"}},\"low\":[257.2099914550781],\"open\":[258.9200134277344],\"showlegend\":false,\"x\":[\"2023-06-18T00:00:00\"],\"type\":\"candlestick\",\"xaxis\":\"x\",\"yaxis\":\"y\"},{\"close\":[260.5400085449219],\"decreasing\":{\"fillcolor\":\"rgba(255, 0, 0, 0)\",\"line\":{\"color\":\"red\"}},\"high\":[263.6000061035156],\"increasing\":{\"fillcolor\":\"rgba(255, 0, 0, 0)\",\"line\":{\"color\":\"red\"}},\"low\":[257.2099914550781],\"open\":[258.9200134277344],\"showlegend\":false,\"x\":[\"2023-06-19T00:00:00\"],\"type\":\"candlestick\",\"xaxis\":\"x\",\"yaxis\":\"y\"},{\"close\":[274.45001220703125],\"decreasing\":{\"fillcolor\":\"rgba(255, 0, 0, 0)\",\"line\":{\"color\":\"green\"}},\"high\":[274.75],\"increasing\":{\"fillcolor\":\"rgba(255, 0, 0, 0)\",\"line\":{\"color\":\"green\"}},\"low\":[261.1199951171875],\"open\":[261.5],\"showlegend\":false,\"x\":[\"2023-06-20T00:00:00\"],\"type\":\"candlestick\",\"xaxis\":\"x\",\"yaxis\":\"y\"},{\"close\":[259.4599914550781],\"decreasing\":{\"fillcolor\":\"red\",\"line\":{\"color\":\"red\"}},\"high\":[276.989990234375],\"increasing\":{\"fillcolor\":\"red\",\"line\":{\"color\":\"red\"}},\"low\":[257.7799987792969],\"open\":[275.1300048828125],\"showlegend\":false,\"x\":[\"2023-06-21T00:00:00\"],\"type\":\"candlestick\",\"xaxis\":\"x\",\"yaxis\":\"y\"},{\"close\":[264.6099853515625],\"decreasing\":{\"fillcolor\":\"rgba(255, 0, 0, 0)\",\"line\":{\"color\":\"green\"}},\"high\":[265.0],\"increasing\":{\"fillcolor\":\"rgba(255, 0, 0, 0)\",\"line\":{\"color\":\"green\"}},\"low\":[248.25],\"open\":[250.77000427246094],\"showlegend\":false,\"x\":[\"2023-06-22T00:00:00\"],\"type\":\"candlestick\",\"xaxis\":\"x\",\"yaxis\":\"y\"},{\"close\":[256.6000061035156],\"decreasing\":{\"fillcolor\":\"red\",\"line\":{\"color\":\"red\"}},\"high\":[262.45001220703125],\"increasing\":{\"fillcolor\":\"red\",\"line\":{\"color\":\"red\"}},\"low\":[252.8000030517578],\"open\":[259.2900085449219],\"showlegend\":false,\"x\":[\"2023-06-23T00:00:00\"],\"type\":\"candlestick\",\"xaxis\":\"x\",\"yaxis\":\"y\"},{\"close\":[256.6000061035156],\"decreasing\":{\"fillcolor\":\"red\",\"line\":{\"color\":\"red\"}},\"high\":[262.45001220703125],\"increasing\":{\"fillcolor\":\"red\",\"line\":{\"color\":\"red\"}},\"low\":[252.8000030517578],\"open\":[259.2900085449219],\"showlegend\":false,\"x\":[\"2023-06-24T00:00:00\"],\"type\":\"candlestick\",\"xaxis\":\"x\",\"yaxis\":\"y\"},{\"close\":[256.6000061035156],\"decreasing\":{\"fillcolor\":\"red\",\"line\":{\"color\":\"red\"}},\"high\":[262.45001220703125],\"increasing\":{\"fillcolor\":\"red\",\"line\":{\"color\":\"red\"}},\"low\":[252.8000030517578],\"open\":[259.2900085449219],\"showlegend\":false,\"x\":[\"2023-06-25T00:00:00\"],\"type\":\"candlestick\",\"xaxis\":\"x\",\"yaxis\":\"y\"},{\"close\":[241.0500030517578],\"decreasing\":{\"fillcolor\":\"red\",\"line\":{\"color\":\"red\"}},\"high\":[258.3699951171875],\"increasing\":{\"fillcolor\":\"red\",\"line\":{\"color\":\"red\"}},\"low\":[240.6999969482422],\"open\":[250.07000732421875],\"showlegend\":false,\"x\":[\"2023-06-26T00:00:00\"],\"type\":\"candlestick\",\"xaxis\":\"x\",\"yaxis\":\"y\"},{\"close\":[250.2100067138672],\"decreasing\":{\"fillcolor\":\"rgba(255, 0, 0, 0)\",\"line\":{\"color\":\"green\"}},\"high\":[250.38999938964844],\"increasing\":{\"fillcolor\":\"rgba(255, 0, 0, 0)\",\"line\":{\"color\":\"green\"}},\"low\":[240.85000610351562],\"open\":[243.24000549316406],\"showlegend\":false,\"x\":[\"2023-06-27T00:00:00\"],\"type\":\"candlestick\",\"xaxis\":\"x\",\"yaxis\":\"y\"},{\"close\":[256.239990234375],\"decreasing\":{\"fillcolor\":\"rgba(255, 0, 0, 0)\",\"line\":{\"color\":\"green\"}},\"high\":[259.8800048828125],\"increasing\":{\"fillcolor\":\"rgba(255, 0, 0, 0)\",\"line\":{\"color\":\"green\"}},\"low\":[248.88999938964844],\"open\":[249.6999969482422],\"showlegend\":false,\"x\":[\"2023-06-28T00:00:00\"],\"type\":\"candlestick\",\"xaxis\":\"x\",\"yaxis\":\"y\"},{\"close\":[257.5],\"decreasing\":{\"fillcolor\":\"green\",\"line\":{\"color\":\"green\"}},\"high\":[260.739990234375],\"increasing\":{\"fillcolor\":\"green\",\"line\":{\"color\":\"green\"}},\"low\":[253.61000061035156],\"open\":[258.0299987792969],\"showlegend\":false,\"x\":[\"2023-06-29T00:00:00\"],\"type\":\"candlestick\",\"xaxis\":\"x\",\"yaxis\":\"y\"},{\"close\":[261.7699890136719],\"decreasing\":{\"fillcolor\":\"rgba(255, 0, 0, 0)\",\"line\":{\"color\":\"green\"}},\"high\":[264.45001220703125],\"increasing\":{\"fillcolor\":\"rgba(255, 0, 0, 0)\",\"line\":{\"color\":\"green\"}},\"low\":[259.8900146484375],\"open\":[260.6000061035156],\"showlegend\":false,\"x\":[\"2023-06-30T00:00:00\"],\"type\":\"candlestick\",\"xaxis\":\"x\",\"yaxis\":\"y\"},{\"close\":[261.7699890136719],\"decreasing\":{\"fillcolor\":\"rgba(255, 0, 0, 0)\",\"line\":{\"color\":\"red\"}},\"high\":[264.45001220703125],\"increasing\":{\"fillcolor\":\"rgba(255, 0, 0, 0)\",\"line\":{\"color\":\"red\"}},\"low\":[259.8900146484375],\"open\":[260.6000061035156],\"showlegend\":false,\"x\":[\"2023-07-01T00:00:00\"],\"type\":\"candlestick\",\"xaxis\":\"x\",\"yaxis\":\"y\"},{\"close\":[261.7699890136719],\"decreasing\":{\"fillcolor\":\"rgba(255, 0, 0, 0)\",\"line\":{\"color\":\"red\"}},\"high\":[264.45001220703125],\"increasing\":{\"fillcolor\":\"rgba(255, 0, 0, 0)\",\"line\":{\"color\":\"red\"}},\"low\":[259.8900146484375],\"open\":[260.6000061035156],\"showlegend\":false,\"x\":[\"2023-07-02T00:00:00\"],\"type\":\"candlestick\",\"xaxis\":\"x\",\"yaxis\":\"y\"},{\"close\":[279.82000732421875],\"decreasing\":{\"fillcolor\":\"rgba(255, 0, 0, 0)\",\"line\":{\"color\":\"green\"}},\"high\":[284.25],\"increasing\":{\"fillcolor\":\"rgba(255, 0, 0, 0)\",\"line\":{\"color\":\"green\"}},\"low\":[275.1099853515625],\"open\":[276.489990234375],\"showlegend\":false,\"x\":[\"2023-07-03T00:00:00\"],\"type\":\"candlestick\",\"xaxis\":\"x\",\"yaxis\":\"y\"},{\"close\":[279.82000732421875],\"decreasing\":{\"fillcolor\":\"rgba(255, 0, 0, 0)\",\"line\":{\"color\":\"red\"}},\"high\":[284.25],\"increasing\":{\"fillcolor\":\"rgba(255, 0, 0, 0)\",\"line\":{\"color\":\"red\"}},\"low\":[275.1099853515625],\"open\":[276.489990234375],\"showlegend\":false,\"x\":[\"2023-07-04T00:00:00\"],\"type\":\"candlestick\",\"xaxis\":\"x\",\"yaxis\":\"y\"},{\"close\":[282.4800109863281],\"decreasing\":{\"fillcolor\":\"rgba(255, 0, 0, 0)\",\"line\":{\"color\":\"green\"}},\"high\":[283.8500061035156],\"increasing\":{\"fillcolor\":\"rgba(255, 0, 0, 0)\",\"line\":{\"color\":\"green\"}},\"low\":[277.6000061035156],\"open\":[278.82000732421875],\"showlegend\":false,\"x\":[\"2023-07-05T00:00:00\"],\"type\":\"candlestick\",\"xaxis\":\"x\",\"yaxis\":\"y\"},{\"close\":[276.5400085449219],\"decreasing\":{\"fillcolor\":\"red\",\"line\":{\"color\":\"red\"}},\"high\":[279.9700012207031],\"increasing\":{\"fillcolor\":\"red\",\"line\":{\"color\":\"red\"}},\"low\":[272.8800048828125],\"open\":[278.0899963378906],\"showlegend\":false,\"x\":[\"2023-07-06T00:00:00\"],\"type\":\"candlestick\",\"xaxis\":\"x\",\"yaxis\":\"y\"},{\"close\":[274.42999267578125],\"decreasing\":{\"fillcolor\":\"red\",\"line\":{\"color\":\"red\"}},\"high\":[280.7799987792969],\"increasing\":{\"fillcolor\":\"red\",\"line\":{\"color\":\"red\"}},\"low\":[273.7699890136719],\"open\":[278.42999267578125],\"showlegend\":false,\"x\":[\"2023-07-07T00:00:00\"],\"type\":\"candlestick\",\"xaxis\":\"x\",\"yaxis\":\"y\"},{\"close\":[274.42999267578125],\"decreasing\":{\"fillcolor\":\"red\",\"line\":{\"color\":\"red\"}},\"high\":[280.7799987792969],\"increasing\":{\"fillcolor\":\"red\",\"line\":{\"color\":\"red\"}},\"low\":[273.7699890136719],\"open\":[278.42999267578125],\"showlegend\":false,\"x\":[\"2023-07-08T00:00:00\"],\"type\":\"candlestick\",\"xaxis\":\"x\",\"yaxis\":\"y\"},{\"close\":[274.42999267578125],\"decreasing\":{\"fillcolor\":\"red\",\"line\":{\"color\":\"red\"}},\"high\":[280.7799987792969],\"increasing\":{\"fillcolor\":\"red\",\"line\":{\"color\":\"red\"}},\"low\":[273.7699890136719],\"open\":[278.42999267578125],\"showlegend\":false,\"x\":[\"2023-07-09T00:00:00\"],\"type\":\"candlestick\",\"xaxis\":\"x\",\"yaxis\":\"y\"},{\"close\":[269.6099853515625],\"decreasing\":{\"fillcolor\":\"red\",\"line\":{\"color\":\"red\"}},\"high\":[277.5199890136719],\"increasing\":{\"fillcolor\":\"red\",\"line\":{\"color\":\"red\"}},\"low\":[265.1000061035156],\"open\":[276.4700012207031],\"showlegend\":false,\"x\":[\"2023-07-10T00:00:00\"],\"type\":\"candlestick\",\"xaxis\":\"x\",\"yaxis\":\"y\"},{\"close\":[269.7900085449219],\"decreasing\":{\"fillcolor\":\"rgba(255, 0, 0, 0)\",\"line\":{\"color\":\"green\"}},\"high\":[270.8999938964844],\"increasing\":{\"fillcolor\":\"rgba(255, 0, 0, 0)\",\"line\":{\"color\":\"green\"}},\"low\":[266.3699951171875],\"open\":[268.6499938964844],\"showlegend\":false,\"x\":[\"2023-07-11T00:00:00\"],\"type\":\"candlestick\",\"xaxis\":\"x\",\"yaxis\":\"y\"},{\"close\":[271.989990234375],\"decreasing\":{\"fillcolor\":\"green\",\"line\":{\"color\":\"green\"}},\"high\":[276.5199890136719],\"increasing\":{\"fillcolor\":\"green\",\"line\":{\"color\":\"green\"}},\"low\":[271.4599914550781],\"open\":[276.3299865722656],\"showlegend\":false,\"x\":[\"2023-07-12T00:00:00\"],\"type\":\"candlestick\",\"xaxis\":\"x\",\"yaxis\":\"y\"},{\"close\":[277.8999938964844],\"decreasing\":{\"fillcolor\":\"rgba(255, 0, 0, 0)\",\"line\":{\"color\":\"green\"}},\"high\":[279.45001220703125],\"increasing\":{\"fillcolor\":\"rgba(255, 0, 0, 0)\",\"line\":{\"color\":\"green\"}},\"low\":[270.6000061035156],\"open\":[274.5899963378906],\"showlegend\":false,\"x\":[\"2023-07-13T00:00:00\"],\"type\":\"candlestick\",\"xaxis\":\"x\",\"yaxis\":\"y\"},{\"close\":[281.3800048828125],\"decreasing\":{\"fillcolor\":\"rgba(255, 0, 0, 0)\",\"line\":{\"color\":\"green\"}},\"high\":[285.29998779296875],\"increasing\":{\"fillcolor\":\"rgba(255, 0, 0, 0)\",\"line\":{\"color\":\"green\"}},\"low\":[276.30999755859375],\"open\":[277.010009765625],\"showlegend\":false,\"x\":[\"2023-07-14T00:00:00\"],\"type\":\"candlestick\",\"xaxis\":\"x\",\"yaxis\":\"y\"},{\"close\":[281.3800048828125],\"decreasing\":{\"fillcolor\":\"rgba(255, 0, 0, 0)\",\"line\":{\"color\":\"red\"}},\"high\":[285.29998779296875],\"increasing\":{\"fillcolor\":\"rgba(255, 0, 0, 0)\",\"line\":{\"color\":\"red\"}},\"low\":[276.30999755859375],\"open\":[277.010009765625],\"showlegend\":false,\"x\":[\"2023-07-15T00:00:00\"],\"type\":\"candlestick\",\"xaxis\":\"x\",\"yaxis\":\"y\"},{\"close\":[281.3800048828125],\"decreasing\":{\"fillcolor\":\"rgba(255, 0, 0, 0)\",\"line\":{\"color\":\"red\"}},\"high\":[285.29998779296875],\"increasing\":{\"fillcolor\":\"rgba(255, 0, 0, 0)\",\"line\":{\"color\":\"red\"}},\"low\":[276.30999755859375],\"open\":[277.010009765625],\"showlegend\":false,\"x\":[\"2023-07-16T00:00:00\"],\"type\":\"candlestick\",\"xaxis\":\"x\",\"yaxis\":\"y\"},{\"close\":[290.3800048828125],\"decreasing\":{\"fillcolor\":\"rgba(255, 0, 0, 0)\",\"line\":{\"color\":\"green\"}},\"high\":[292.2300109863281],\"increasing\":{\"fillcolor\":\"rgba(255, 0, 0, 0)\",\"line\":{\"color\":\"green\"}},\"low\":[283.57000732421875],\"open\":[286.6300048828125],\"showlegend\":false,\"x\":[\"2023-07-17T00:00:00\"],\"type\":\"candlestick\",\"xaxis\":\"x\",\"yaxis\":\"y\"},{\"close\":[293.3399963378906],\"decreasing\":{\"fillcolor\":\"rgba(255, 0, 0, 0)\",\"line\":{\"color\":\"green\"}},\"high\":[295.260009765625],\"increasing\":{\"fillcolor\":\"rgba(255, 0, 0, 0)\",\"line\":{\"color\":\"green\"}},\"low\":[286.010009765625],\"open\":[290.1499938964844],\"showlegend\":false,\"x\":[\"2023-07-18T00:00:00\"],\"type\":\"candlestick\",\"xaxis\":\"x\",\"yaxis\":\"y\"},{\"close\":[291.260009765625],\"decreasing\":{\"fillcolor\":\"red\",\"line\":{\"color\":\"red\"}},\"high\":[299.2900085449219],\"increasing\":{\"fillcolor\":\"red\",\"line\":{\"color\":\"red\"}},\"low\":[289.5199890136719],\"open\":[296.0400085449219],\"showlegend\":false,\"x\":[\"2023-07-19T00:00:00\"],\"type\":\"candlestick\",\"xaxis\":\"x\",\"yaxis\":\"y\"},{\"marker\":{\"color\":\"orange\"},\"mode\":\"lines\",\"name\":\"RSI\",\"x\":[\"2023-01-03T00:00:00\",\"2023-01-04T00:00:00\",\"2023-01-05T00:00:00\",\"2023-01-06T00:00:00\",\"2023-01-07T00:00:00\",\"2023-01-08T00:00:00\",\"2023-01-09T00:00:00\",\"2023-01-10T00:00:00\",\"2023-01-11T00:00:00\",\"2023-01-12T00:00:00\",\"2023-01-13T00:00:00\",\"2023-01-14T00:00:00\",\"2023-01-15T00:00:00\",\"2023-01-16T00:00:00\",\"2023-01-17T00:00:00\",\"2023-01-18T00:00:00\",\"2023-01-19T00:00:00\",\"2023-01-20T00:00:00\",\"2023-01-21T00:00:00\",\"2023-01-22T00:00:00\",\"2023-01-23T00:00:00\",\"2023-01-24T00:00:00\",\"2023-01-25T00:00:00\",\"2023-01-26T00:00:00\",\"2023-01-27T00:00:00\",\"2023-01-28T00:00:00\",\"2023-01-29T00:00:00\",\"2023-01-30T00:00:00\",\"2023-01-31T00:00:00\",\"2023-02-01T00:00:00\",\"2023-02-02T00:00:00\",\"2023-02-03T00:00:00\",\"2023-02-04T00:00:00\",\"2023-02-05T00:00:00\",\"2023-02-06T00:00:00\",\"2023-02-07T00:00:00\",\"2023-02-08T00:00:00\",\"2023-02-09T00:00:00\",\"2023-02-10T00:00:00\",\"2023-02-11T00:00:00\",\"2023-02-12T00:00:00\",\"2023-02-13T00:00:00\",\"2023-02-14T00:00:00\",\"2023-02-15T00:00:00\",\"2023-02-16T00:00:00\",\"2023-02-17T00:00:00\",\"2023-02-18T00:00:00\",\"2023-02-19T00:00:00\",\"2023-02-20T00:00:00\",\"2023-02-21T00:00:00\",\"2023-02-22T00:00:00\",\"2023-02-23T00:00:00\",\"2023-02-24T00:00:00\",\"2023-02-25T00:00:00\",\"2023-02-26T00:00:00\",\"2023-02-27T00:00:00\",\"2023-02-28T00:00:00\",\"2023-03-01T00:00:00\",\"2023-03-02T00:00:00\",\"2023-03-03T00:00:00\",\"2023-03-04T00:00:00\",\"2023-03-05T00:00:00\",\"2023-03-06T00:00:00\",\"2023-03-07T00:00:00\",\"2023-03-08T00:00:00\",\"2023-03-09T00:00:00\",\"2023-03-10T00:00:00\",\"2023-03-11T00:00:00\",\"2023-03-12T00:00:00\",\"2023-03-13T00:00:00\",\"2023-03-14T00:00:00\",\"2023-03-15T00:00:00\",\"2023-03-16T00:00:00\",\"2023-03-17T00:00:00\",\"2023-03-18T00:00:00\",\"2023-03-19T00:00:00\",\"2023-03-20T00:00:00\",\"2023-03-21T00:00:00\",\"2023-03-22T00:00:00\",\"2023-03-23T00:00:00\",\"2023-03-24T00:00:00\",\"2023-03-25T00:00:00\",\"2023-03-26T00:00:00\",\"2023-03-27T00:00:00\",\"2023-03-28T00:00:00\",\"2023-03-29T00:00:00\",\"2023-03-30T00:00:00\",\"2023-03-31T00:00:00\",\"2023-04-01T00:00:00\",\"2023-04-02T00:00:00\",\"2023-04-03T00:00:00\",\"2023-04-04T00:00:00\",\"2023-04-05T00:00:00\",\"2023-04-06T00:00:00\",\"2023-04-07T00:00:00\",\"2023-04-08T00:00:00\",\"2023-04-09T00:00:00\",\"2023-04-10T00:00:00\",\"2023-04-11T00:00:00\",\"2023-04-12T00:00:00\",\"2023-04-13T00:00:00\",\"2023-04-14T00:00:00\",\"2023-04-15T00:00:00\",\"2023-04-16T00:00:00\",\"2023-04-17T00:00:00\",\"2023-04-18T00:00:00\",\"2023-04-19T00:00:00\",\"2023-04-20T00:00:00\",\"2023-04-21T00:00:00\",\"2023-04-22T00:00:00\",\"2023-04-23T00:00:00\",\"2023-04-24T00:00:00\",\"2023-04-25T00:00:00\",\"2023-04-26T00:00:00\",\"2023-04-27T00:00:00\",\"2023-04-28T00:00:00\",\"2023-04-29T00:00:00\",\"2023-04-30T00:00:00\",\"2023-05-01T00:00:00\",\"2023-05-02T00:00:00\",\"2023-05-03T00:00:00\",\"2023-05-04T00:00:00\",\"2023-05-05T00:00:00\",\"2023-05-06T00:00:00\",\"2023-05-07T00:00:00\",\"2023-05-08T00:00:00\",\"2023-05-09T00:00:00\",\"2023-05-10T00:00:00\",\"2023-05-11T00:00:00\",\"2023-05-12T00:00:00\",\"2023-05-13T00:00:00\",\"2023-05-14T00:00:00\",\"2023-05-15T00:00:00\",\"2023-05-16T00:00:00\",\"2023-05-17T00:00:00\",\"2023-05-18T00:00:00\",\"2023-05-19T00:00:00\",\"2023-05-20T00:00:00\",\"2023-05-21T00:00:00\",\"2023-05-22T00:00:00\",\"2023-05-23T00:00:00\",\"2023-05-24T00:00:00\",\"2023-05-25T00:00:00\",\"2023-05-26T00:00:00\",\"2023-05-27T00:00:00\",\"2023-05-28T00:00:00\",\"2023-05-29T00:00:00\",\"2023-05-30T00:00:00\",\"2023-05-31T00:00:00\",\"2023-06-01T00:00:00\",\"2023-06-02T00:00:00\",\"2023-06-03T00:00:00\",\"2023-06-04T00:00:00\",\"2023-06-05T00:00:00\",\"2023-06-06T00:00:00\",\"2023-06-07T00:00:00\",\"2023-06-08T00:00:00\",\"2023-06-09T00:00:00\",\"2023-06-10T00:00:00\",\"2023-06-11T00:00:00\",\"2023-06-12T00:00:00\",\"2023-06-13T00:00:00\",\"2023-06-14T00:00:00\",\"2023-06-15T00:00:00\",\"2023-06-16T00:00:00\",\"2023-06-17T00:00:00\",\"2023-06-18T00:00:00\",\"2023-06-19T00:00:00\",\"2023-06-20T00:00:00\",\"2023-06-21T00:00:00\",\"2023-06-22T00:00:00\",\"2023-06-23T00:00:00\",\"2023-06-24T00:00:00\",\"2023-06-25T00:00:00\",\"2023-06-26T00:00:00\",\"2023-06-27T00:00:00\",\"2023-06-28T00:00:00\",\"2023-06-29T00:00:00\",\"2023-06-30T00:00:00\",\"2023-07-01T00:00:00\",\"2023-07-02T00:00:00\",\"2023-07-03T00:00:00\",\"2023-07-04T00:00:00\",\"2023-07-05T00:00:00\",\"2023-07-06T00:00:00\",\"2023-07-07T00:00:00\",\"2023-07-08T00:00:00\",\"2023-07-09T00:00:00\",\"2023-07-10T00:00:00\",\"2023-07-11T00:00:00\",\"2023-07-12T00:00:00\",\"2023-07-13T00:00:00\",\"2023-07-14T00:00:00\",\"2023-07-15T00:00:00\",\"2023-07-16T00:00:00\",\"2023-07-17T00:00:00\",\"2023-07-18T00:00:00\",\"2023-07-19T00:00:00\"],\"y\":[null,null,null,null,null,null,null,null,null,null,null,null,null,78.43802671017986,87.37998358517288,77.11258740264756,71.72078748105378,78.11735476139454,78.11735476139452,78.11735476139454,85.08271824257343,85.15169950533151,85.43153458499295,90.86820793500134,93.6904715675104,93.6904715675104,93.6904715675104,75.18703308139808,77.92697467141232,80.78043133839614,82.78756601493707,83.25694332734203,83.25694332734203,83.25694332734203,84.71242365785434,85.3025238588464,86.52650613309953,87.97775932875598,73.27581943596923,73.27581943596923,73.27581943596923,70.11872421360141,77.03712427709381,78.83920403642455,65.3383866021677,68.33915571084442,68.33915571084442,68.33915571084442,68.33915571084442,56.798974760982745,59.16783166842409,59.98703527980871,54.89934094391904,54.89934094391904,54.89934094391904,63.014393087897716,60.90649754252339,57.72240761103221,47.03182002943453,52.52784677461494,52.52784677461494,52.52784677461494,48.86946641604706,43.83085921450197,39.70417530454314,34.191380177343106,34.75013457312302,34.75013457312302,34.75013457312302,36.105264451999155,46.253687774213255,43.85303513294719,47.68265898720734,44.15711268358409,44.15711268358409,44.15711268358409,47.90921629052717,60.90281525087718,54.351479143411076,55.21482871324723,53.37583366238961,53.37583366238961,53.37583366238961,54.829231513679716,51.58820296083272,56.5405615031649,57.92422584098963,67.59163106876025,67.59163106876026,67.59163106876026,52.03428303716032,49.89972310427922,43.679059807825425,43.30029145803095,43.30029145803095,43.30029145803095,43.30029145803095,42.70474425682185,46.019247881644965,39.3065797349422,46.51232473146072,45.534772753630406,45.53477275363041,45.53477275363042,48.59344895201509,44.955047959157,40.50460686859365,26.92401998025126,29.928526388317096,29.928526388317096,29.928526388317096,28.176979533643802,26.916381986756846,22.861974122118994,32.9796786899324,38.53414988823735,38.53414988823735,38.53414988823735,36.27398676269179,34.922002305422154,35.43350645059172,36.490714662390694,49.78720062780258,49.78720062780258,49.78720062780258,52.22643020277795,48.36529043814898,47.49160883871863,52.818235866406646,46.88583963184049,46.88583963184048,46.88583963184049,44.409141787750535,44.737017866404656,56.63088744715781,60.41807696738614,64.0448714019217,64.0448714019217,64.04487140192171,72.49885717280297,66.51790547335249,61.462488163286096,63.11400441032102,70.62612467042479,70.62612467042479,70.62612467042479,70.62612467042479,76.53047407543947,78.16881319283178,80.10702692694338,83.0232870955567,83.0232870955567,83.0232870955567,84.6131913652947,86.0439447734978,87.17545963872894,89.94626436328679,91.73019188112892,91.73019188112892,91.73019188112892,92.65650723010475,93.86646672195778,90.39831504340783,88.76114058154891,89.79844858549242,89.79844858549242,89.79844858549242,89.79844858549242,92.56534516670857,70.40448151438899,72.81268784670802,64.0790856360343,64.0790856360343,64.0790856360343,49.641762567571405,55.939310859324515,59.52743056571176,60.255767315786436,62.705156342768184,62.70515634276819,62.705156342768184,71.86098221267794,71.86098221267794,72.9941157409501,66.5493782702441,64.3750808625587,64.37508086255869,64.3750808625587,58.885960711265355,59.02648571671902,60.79022000541512,65.13237815884926,67.42027379900296,67.42027379900296,67.42027379900296,73.11788989946761,74.6858728695888,71.52859755979641],\"type\":\"scatter\",\"xaxis\":\"x2\",\"yaxis\":\"y2\"}],                        {\"template\":{\"data\":{\"histogram2dcontour\":[{\"type\":\"histogram2dcontour\",\"colorbar\":{\"outlinewidth\":0,\"ticks\":\"\"},\"colorscale\":[[0.0,\"#0d0887\"],[0.1111111111111111,\"#46039f\"],[0.2222222222222222,\"#7201a8\"],[0.3333333333333333,\"#9c179e\"],[0.4444444444444444,\"#bd3786\"],[0.5555555555555556,\"#d8576b\"],[0.6666666666666666,\"#ed7953\"],[0.7777777777777778,\"#fb9f3a\"],[0.8888888888888888,\"#fdca26\"],[1.0,\"#f0f921\"]]}],\"choropleth\":[{\"type\":\"choropleth\",\"colorbar\":{\"outlinewidth\":0,\"ticks\":\"\"}}],\"histogram2d\":[{\"type\":\"histogram2d\",\"colorbar\":{\"outlinewidth\":0,\"ticks\":\"\"},\"colorscale\":[[0.0,\"#0d0887\"],[0.1111111111111111,\"#46039f\"],[0.2222222222222222,\"#7201a8\"],[0.3333333333333333,\"#9c179e\"],[0.4444444444444444,\"#bd3786\"],[0.5555555555555556,\"#d8576b\"],[0.6666666666666666,\"#ed7953\"],[0.7777777777777778,\"#fb9f3a\"],[0.8888888888888888,\"#fdca26\"],[1.0,\"#f0f921\"]]}],\"heatmap\":[{\"type\":\"heatmap\",\"colorbar\":{\"outlinewidth\":0,\"ticks\":\"\"},\"colorscale\":[[0.0,\"#0d0887\"],[0.1111111111111111,\"#46039f\"],[0.2222222222222222,\"#7201a8\"],[0.3333333333333333,\"#9c179e\"],[0.4444444444444444,\"#bd3786\"],[0.5555555555555556,\"#d8576b\"],[0.6666666666666666,\"#ed7953\"],[0.7777777777777778,\"#fb9f3a\"],[0.8888888888888888,\"#fdca26\"],[1.0,\"#f0f921\"]]}],\"heatmapgl\":[{\"type\":\"heatmapgl\",\"colorbar\":{\"outlinewidth\":0,\"ticks\":\"\"},\"colorscale\":[[0.0,\"#0d0887\"],[0.1111111111111111,\"#46039f\"],[0.2222222222222222,\"#7201a8\"],[0.3333333333333333,\"#9c179e\"],[0.4444444444444444,\"#bd3786\"],[0.5555555555555556,\"#d8576b\"],[0.6666666666666666,\"#ed7953\"],[0.7777777777777778,\"#fb9f3a\"],[0.8888888888888888,\"#fdca26\"],[1.0,\"#f0f921\"]]}],\"contourcarpet\":[{\"type\":\"contourcarpet\",\"colorbar\":{\"outlinewidth\":0,\"ticks\":\"\"}}],\"contour\":[{\"type\":\"contour\",\"colorbar\":{\"outlinewidth\":0,\"ticks\":\"\"},\"colorscale\":[[0.0,\"#0d0887\"],[0.1111111111111111,\"#46039f\"],[0.2222222222222222,\"#7201a8\"],[0.3333333333333333,\"#9c179e\"],[0.4444444444444444,\"#bd3786\"],[0.5555555555555556,\"#d8576b\"],[0.6666666666666666,\"#ed7953\"],[0.7777777777777778,\"#fb9f3a\"],[0.8888888888888888,\"#fdca26\"],[1.0,\"#f0f921\"]]}],\"surface\":[{\"type\":\"surface\",\"colorbar\":{\"outlinewidth\":0,\"ticks\":\"\"},\"colorscale\":[[0.0,\"#0d0887\"],[0.1111111111111111,\"#46039f\"],[0.2222222222222222,\"#7201a8\"],[0.3333333333333333,\"#9c179e\"],[0.4444444444444444,\"#bd3786\"],[0.5555555555555556,\"#d8576b\"],[0.6666666666666666,\"#ed7953\"],[0.7777777777777778,\"#fb9f3a\"],[0.8888888888888888,\"#fdca26\"],[1.0,\"#f0f921\"]]}],\"mesh3d\":[{\"type\":\"mesh3d\",\"colorbar\":{\"outlinewidth\":0,\"ticks\":\"\"}}],\"scatter\":[{\"marker\":{\"line\":{\"color\":\"#283442\"}},\"type\":\"scatter\"}],\"parcoords\":[{\"type\":\"parcoords\",\"line\":{\"colorbar\":{\"outlinewidth\":0,\"ticks\":\"\"}}}],\"scatterpolargl\":[{\"type\":\"scatterpolargl\",\"marker\":{\"colorbar\":{\"outlinewidth\":0,\"ticks\":\"\"}}}],\"bar\":[{\"error_x\":{\"color\":\"#f2f5fa\"},\"error_y\":{\"color\":\"#f2f5fa\"},\"marker\":{\"line\":{\"color\":\"rgb(17,17,17)\",\"width\":0.5},\"pattern\":{\"fillmode\":\"overlay\",\"size\":10,\"solidity\":0.2}},\"type\":\"bar\"}],\"scattergeo\":[{\"type\":\"scattergeo\",\"marker\":{\"colorbar\":{\"outlinewidth\":0,\"ticks\":\"\"}}}],\"scatterpolar\":[{\"type\":\"scatterpolar\",\"marker\":{\"colorbar\":{\"outlinewidth\":0,\"ticks\":\"\"}}}],\"histogram\":[{\"marker\":{\"pattern\":{\"fillmode\":\"overlay\",\"size\":10,\"solidity\":0.2}},\"type\":\"histogram\"}],\"scattergl\":[{\"marker\":{\"line\":{\"color\":\"#283442\"}},\"type\":\"scattergl\"}],\"scatter3d\":[{\"type\":\"scatter3d\",\"line\":{\"colorbar\":{\"outlinewidth\":0,\"ticks\":\"\"}},\"marker\":{\"colorbar\":{\"outlinewidth\":0,\"ticks\":\"\"}}}],\"scattermapbox\":[{\"type\":\"scattermapbox\",\"marker\":{\"colorbar\":{\"outlinewidth\":0,\"ticks\":\"\"}}}],\"scatterternary\":[{\"type\":\"scatterternary\",\"marker\":{\"colorbar\":{\"outlinewidth\":0,\"ticks\":\"\"}}}],\"scattercarpet\":[{\"type\":\"scattercarpet\",\"marker\":{\"colorbar\":{\"outlinewidth\":0,\"ticks\":\"\"}}}],\"carpet\":[{\"aaxis\":{\"endlinecolor\":\"#A2B1C6\",\"gridcolor\":\"#506784\",\"linecolor\":\"#506784\",\"minorgridcolor\":\"#506784\",\"startlinecolor\":\"#A2B1C6\"},\"baxis\":{\"endlinecolor\":\"#A2B1C6\",\"gridcolor\":\"#506784\",\"linecolor\":\"#506784\",\"minorgridcolor\":\"#506784\",\"startlinecolor\":\"#A2B1C6\"},\"type\":\"carpet\"}],\"table\":[{\"cells\":{\"fill\":{\"color\":\"#506784\"},\"line\":{\"color\":\"rgb(17,17,17)\"}},\"header\":{\"fill\":{\"color\":\"#2a3f5f\"},\"line\":{\"color\":\"rgb(17,17,17)\"}},\"type\":\"table\"}],\"barpolar\":[{\"marker\":{\"line\":{\"color\":\"rgb(17,17,17)\",\"width\":0.5},\"pattern\":{\"fillmode\":\"overlay\",\"size\":10,\"solidity\":0.2}},\"type\":\"barpolar\"}],\"pie\":[{\"automargin\":true,\"type\":\"pie\"}]},\"layout\":{\"autotypenumbers\":\"strict\",\"colorway\":[\"#636efa\",\"#EF553B\",\"#00cc96\",\"#ab63fa\",\"#FFA15A\",\"#19d3f3\",\"#FF6692\",\"#B6E880\",\"#FF97FF\",\"#FECB52\"],\"font\":{\"color\":\"#f2f5fa\"},\"hovermode\":\"closest\",\"hoverlabel\":{\"align\":\"left\"},\"paper_bgcolor\":\"#383838\",\"plot_bgcolor\":\"#383838\",\"polar\":{\"bgcolor\":\"rgb(17,17,17)\",\"angularaxis\":{\"gridcolor\":\"#506784\",\"linecolor\":\"#506784\",\"ticks\":\"\"},\"radialaxis\":{\"gridcolor\":\"#506784\",\"linecolor\":\"#506784\",\"ticks\":\"\"}},\"ternary\":{\"bgcolor\":\"rgb(17,17,17)\",\"aaxis\":{\"gridcolor\":\"#506784\",\"linecolor\":\"#506784\",\"ticks\":\"\"},\"baxis\":{\"gridcolor\":\"#506784\",\"linecolor\":\"#506784\",\"ticks\":\"\"},\"caxis\":{\"gridcolor\":\"#506784\",\"linecolor\":\"#506784\",\"ticks\":\"\"}},\"coloraxis\":{\"colorbar\":{\"outlinewidth\":0,\"ticks\":\"\"}},\"colorscale\":{\"sequential\":[[0.0,\"#0d0887\"],[0.1111111111111111,\"#46039f\"],[0.2222222222222222,\"#7201a8\"],[0.3333333333333333,\"#9c179e\"],[0.4444444444444444,\"#bd3786\"],[0.5555555555555556,\"#d8576b\"],[0.6666666666666666,\"#ed7953\"],[0.7777777777777778,\"#fb9f3a\"],[0.8888888888888888,\"#fdca26\"],[1.0,\"#f0f921\"]],\"sequentialminus\":[[0.0,\"#0d0887\"],[0.1111111111111111,\"#46039f\"],[0.2222222222222222,\"#7201a8\"],[0.3333333333333333,\"#9c179e\"],[0.4444444444444444,\"#bd3786\"],[0.5555555555555556,\"#d8576b\"],[0.6666666666666666,\"#ed7953\"],[0.7777777777777778,\"#fb9f3a\"],[0.8888888888888888,\"#fdca26\"],[1.0,\"#f0f921\"]],\"diverging\":[[0,\"#8e0152\"],[0.1,\"#c51b7d\"],[0.2,\"#de77ae\"],[0.3,\"#f1b6da\"],[0.4,\"#fde0ef\"],[0.5,\"#f7f7f7\"],[0.6,\"#e6f5d0\"],[0.7,\"#b8e186\"],[0.8,\"#7fbc41\"],[0.9,\"#4d9221\"],[1,\"#276419\"]]},\"xaxis\":{\"gridcolor\":\"#D5D5D5\",\"linecolor\":\"#D5D5D5\",\"ticks\":\"\",\"title\":{\"standoff\":15},\"zerolinecolor\":\"#D5D5D5\",\"automargin\":true,\"zerolinewidth\":2},\"yaxis\":{\"gridcolor\":\"#D5D5D5\",\"linecolor\":\"#D5D5D5\",\"ticks\":\"\",\"title\":{\"standoff\":15},\"zerolinecolor\":\"#D5D5D5\",\"automargin\":true,\"zerolinewidth\":2},\"scene\":{\"xaxis\":{\"backgroundcolor\":\"rgb(17,17,17)\",\"gridcolor\":\"#506784\",\"linecolor\":\"#506784\",\"showbackground\":true,\"ticks\":\"\",\"zerolinecolor\":\"#C8D4E3\",\"gridwidth\":2},\"yaxis\":{\"backgroundcolor\":\"rgb(17,17,17)\",\"gridcolor\":\"#506784\",\"linecolor\":\"#506784\",\"showbackground\":true,\"ticks\":\"\",\"zerolinecolor\":\"#C8D4E3\",\"gridwidth\":2},\"zaxis\":{\"backgroundcolor\":\"rgb(17,17,17)\",\"gridcolor\":\"#506784\",\"linecolor\":\"#506784\",\"showbackground\":true,\"ticks\":\"\",\"zerolinecolor\":\"#C8D4E3\",\"gridwidth\":2}},\"shapedefaults\":{\"line\":{\"color\":\"#f2f5fa\"}},\"annotationdefaults\":{\"arrowcolor\":\"#f2f5fa\",\"arrowhead\":0,\"arrowwidth\":1},\"geo\":{\"bgcolor\":\"rgb(17,17,17)\",\"landcolor\":\"rgb(17,17,17)\",\"subunitcolor\":\"#506784\",\"showland\":true,\"showlakes\":true,\"lakecolor\":\"rgb(17,17,17)\"},\"title\":{\"x\":0.05},\"updatemenudefaults\":{\"bgcolor\":\"#506784\",\"borderwidth\":0},\"sliderdefaults\":{\"bgcolor\":\"#C8D4E3\",\"borderwidth\":1,\"bordercolor\":\"rgb(17,17,17)\",\"tickwidth\":0},\"mapbox\":{\"style\":\"dark\"}}},\"xaxis\":{\"anchor\":\"y\",\"domain\":[0.0,1.0],\"matches\":\"x2\",\"showticklabels\":false,\"rangeslider\":{\"visible\":false}},\"yaxis\":{\"anchor\":\"x\",\"domain\":[0.525,1.0]},\"xaxis2\":{\"anchor\":\"y2\",\"domain\":[0.0,1.0]},\"yaxis2\":{\"anchor\":\"x2\",\"domain\":[0.0,0.475],\"title\":{\"text\":\"RSI\"},\"range\":[0,100]},\"annotations\":[{\"font\":{\"size\":16},\"showarrow\":false,\"text\":\"Candlestick\",\"x\":0.5,\"xanchor\":\"center\",\"xref\":\"paper\",\"y\":1.0,\"yanchor\":\"bottom\",\"yref\":\"paper\"},{\"font\":{\"size\":16},\"showarrow\":false,\"text\":\"RSI\",\"x\":0.5,\"xanchor\":\"center\",\"xref\":\"paper\",\"y\":0.475,\"yanchor\":\"bottom\",\"yref\":\"paper\"}],\"title\":{\"text\":\"TSLA Stock Price and RSI (Last 14 days)\"}},                        {\"responsive\": true}                    ).then(function(){\n",
              "                            \n",
              "var gd = document.getElementById('7cf15f79-deb1-400b-9ed8-bb436cde1f3d');\n",
              "var x = new MutationObserver(function (mutations, observer) {{\n",
              "        var display = window.getComputedStyle(gd).display;\n",
              "        if (!display || display === 'none') {{\n",
              "            console.log([gd, 'removed!']);\n",
              "            Plotly.purge(gd);\n",
              "            observer.disconnect();\n",
              "        }}\n",
              "}});\n",
              "\n",
              "// Listen for the removal of the full notebook cells\n",
              "var notebookContainer = gd.closest('#notebook-container');\n",
              "if (notebookContainer) {{\n",
              "    x.observe(notebookContainer, {childList: true});\n",
              "}}\n",
              "\n",
              "// Listen for the clearing of the current output cell\n",
              "var outputEl = gd.closest('.output');\n",
              "if (outputEl) {{\n",
              "    x.observe(outputEl, {childList: true});\n",
              "}}\n",
              "\n",
              "                        })                };                            </script>        </div>\n",
              "</body>\n",
              "</html>"
            ]
          },
          "metadata": {}
        }
      ]
    },
    {
      "cell_type": "code",
      "source": [
        "# Melhoria do plot anterior, agora com sinalizações de compra e venda\n",
        "\n",
        "fig = make_subplots(rows=2, cols=1, shared_xaxes=True, vertical_spacing=0.05,\n",
        "                    subplot_titles=(\"Candlestick\", \"RSI\"))\n",
        "\n",
        "\n",
        "for index, row in tsla_df.iterrows():\n",
        "    color = dict(fillcolor=row[\"fill\"], line=dict(color=row[\"color\"]))\n",
        "    fig.add_trace(\n",
        "        go.Candlestick(\n",
        "            x=[index],\n",
        "            open=[row[\"Open\"]],\n",
        "            high=[row[\"High\"]],\n",
        "            low=[row[\"Low\"]],\n",
        "            close=[row[\"Close\"]],\n",
        "            increasing=color,\n",
        "            decreasing=color,\n",
        "            showlegend=False,\n",
        "        ),\n",
        "        row=1, col=1\n",
        "    )\n",
        "\n",
        "\n",
        "fig.add_trace(\n",
        "    go.Scatter(x=tsla_df.index, y=tsla_df['RSI'], mode='lines', name='RSI', marker=dict(color='orange')),\n",
        "    row=2, col=1\n",
        ")\n",
        "\n",
        "\n",
        "for index, row in tsla_df.iterrows():\n",
        "    if row['Signal'] == 'SELL':\n",
        "        fig.add_trace(\n",
        "            go.Scatter(x=[index], y=[row['RSI']], mode='markers', marker=dict(color='red'), showlegend=False),\n",
        "            row=2, col=1\n",
        "        )\n",
        "    elif row['Signal'] == 'BUY':\n",
        "        fig.add_trace(\n",
        "            go.Scatter(x=[index], y=[row['RSI']], mode='markers', marker=dict(color='green'), showlegend=False),\n",
        "            row=2, col=1\n",
        "        )\n",
        "\n",
        "\n",
        "fig.add_hline(y=30, line_dash=\"dash\", line_color=\"blue\", row=2, col=1, name=\"RSI 30\")\n",
        "fig.add_hline(y=70, line_dash=\"dash\", line_color=\"red\", row=2, col=1, name=\"RSI 70\")\n",
        "\n",
        "\n",
        "fig.update_layout(title=\"TSLA Stock Price and RSI (Last 14 days)\",\n",
        "                  xaxis_rangeslider_visible=False,\n",
        "                  yaxis2=dict(title=\"RSI\", range=[0, 100]))\n",
        "\n",
        "\n",
        "fig.show()"
      ],
      "metadata": {
        "colab": {
          "base_uri": "https://localhost:8080/",
          "height": 542
        },
        "id": "39dHAuyiwAfl",
        "outputId": "cb1ddf55-552d-486e-bb5d-f78acfab1f81"
      },
      "execution_count": 34,
      "outputs": [
        {
          "output_type": "display_data",
          "data": {
            "text/html": [
              "<html>\n",
              "<head><meta charset=\"utf-8\" /></head>\n",
              "<body>\n",
              "    <div>            <script src=\"https://cdnjs.cloudflare.com/ajax/libs/mathjax/2.7.5/MathJax.js?config=TeX-AMS-MML_SVG\"></script><script type=\"text/javascript\">if (window.MathJax && window.MathJax.Hub && window.MathJax.Hub.Config) {window.MathJax.Hub.Config({SVG: {font: \"STIX-Web\"}});}</script>                <script type=\"text/javascript\">window.PlotlyConfig = {MathJaxConfig: 'local'};</script>\n",
              "        <script charset=\"utf-8\" src=\"https://cdn.plot.ly/plotly-2.24.1.min.js\"></script>                <div id=\"4f8f25ca-0ef2-4a00-9139-974a3e43dc38\" class=\"plotly-graph-div\" style=\"height:525px; width:100%;\"></div>            <script type=\"text/javascript\">                                    window.PLOTLYENV=window.PLOTLYENV || {};                                    if (document.getElementById(\"4f8f25ca-0ef2-4a00-9139-974a3e43dc38\")) {                    Plotly.newPlot(                        \"4f8f25ca-0ef2-4a00-9139-974a3e43dc38\",                        [{\"close\":[108.0999984741211],\"decreasing\":{\"fillcolor\":\"red\",\"line\":{\"color\":\"red\"}},\"high\":[118.80000305175781],\"increasing\":{\"fillcolor\":\"red\",\"line\":{\"color\":\"red\"}},\"low\":[104.63999938964844],\"open\":[118.47000122070312],\"showlegend\":false,\"x\":[\"2023-01-03T00:00:00\"],\"type\":\"candlestick\",\"xaxis\":\"x\",\"yaxis\":\"y\"},{\"close\":[113.63999938964844],\"decreasing\":{\"fillcolor\":\"rgba(255, 0, 0, 0)\",\"line\":{\"color\":\"green\"}},\"high\":[114.58999633789062],\"increasing\":{\"fillcolor\":\"rgba(255, 0, 0, 0)\",\"line\":{\"color\":\"green\"}},\"low\":[107.5199966430664],\"open\":[109.11000061035156],\"showlegend\":false,\"x\":[\"2023-01-04T00:00:00\"],\"type\":\"candlestick\",\"xaxis\":\"x\",\"yaxis\":\"y\"},{\"close\":[110.33999633789062],\"decreasing\":{\"fillcolor\":\"red\",\"line\":{\"color\":\"red\"}},\"high\":[111.75],\"increasing\":{\"fillcolor\":\"red\",\"line\":{\"color\":\"red\"}},\"low\":[107.16000366210938],\"open\":[110.51000213623047],\"showlegend\":false,\"x\":[\"2023-01-05T00:00:00\"],\"type\":\"candlestick\",\"xaxis\":\"x\",\"yaxis\":\"y\"},{\"close\":[113.05999755859375],\"decreasing\":{\"fillcolor\":\"rgba(255, 0, 0, 0)\",\"line\":{\"color\":\"green\"}},\"high\":[114.38999938964844],\"increasing\":{\"fillcolor\":\"rgba(255, 0, 0, 0)\",\"line\":{\"color\":\"green\"}},\"low\":[101.80999755859375],\"open\":[103.0],\"showlegend\":false,\"x\":[\"2023-01-06T00:00:00\"],\"type\":\"candlestick\",\"xaxis\":\"x\",\"yaxis\":\"y\"},{\"close\":[113.05999755859375],\"decreasing\":{\"fillcolor\":\"rgba(255, 0, 0, 0)\",\"line\":{\"color\":\"red\"}},\"high\":[114.38999938964844],\"increasing\":{\"fillcolor\":\"rgba(255, 0, 0, 0)\",\"line\":{\"color\":\"red\"}},\"low\":[101.80999755859375],\"open\":[103.0],\"showlegend\":false,\"x\":[\"2023-01-07T00:00:00\"],\"type\":\"candlestick\",\"xaxis\":\"x\",\"yaxis\":\"y\"},{\"close\":[113.05999755859375],\"decreasing\":{\"fillcolor\":\"rgba(255, 0, 0, 0)\",\"line\":{\"color\":\"red\"}},\"high\":[114.38999938964844],\"increasing\":{\"fillcolor\":\"rgba(255, 0, 0, 0)\",\"line\":{\"color\":\"red\"}},\"low\":[101.80999755859375],\"open\":[103.0],\"showlegend\":false,\"x\":[\"2023-01-08T00:00:00\"],\"type\":\"candlestick\",\"xaxis\":\"x\",\"yaxis\":\"y\"},{\"close\":[119.7699966430664],\"decreasing\":{\"fillcolor\":\"rgba(255, 0, 0, 0)\",\"line\":{\"color\":\"green\"}},\"high\":[123.5199966430664],\"increasing\":{\"fillcolor\":\"rgba(255, 0, 0, 0)\",\"line\":{\"color\":\"green\"}},\"low\":[117.11000061035156],\"open\":[118.95999908447266],\"showlegend\":false,\"x\":[\"2023-01-09T00:00:00\"],\"type\":\"candlestick\",\"xaxis\":\"x\",\"yaxis\":\"y\"},{\"close\":[118.8499984741211],\"decreasing\":{\"fillcolor\":\"red\",\"line\":{\"color\":\"red\"}},\"high\":[122.76000213623047],\"increasing\":{\"fillcolor\":\"red\",\"line\":{\"color\":\"red\"}},\"low\":[114.91999816894531],\"open\":[121.06999969482422],\"showlegend\":false,\"x\":[\"2023-01-10T00:00:00\"],\"type\":\"candlestick\",\"xaxis\":\"x\",\"yaxis\":\"y\"},{\"close\":[123.22000122070312],\"decreasing\":{\"fillcolor\":\"rgba(255, 0, 0, 0)\",\"line\":{\"color\":\"green\"}},\"high\":[125.94999694824219],\"increasing\":{\"fillcolor\":\"rgba(255, 0, 0, 0)\",\"line\":{\"color\":\"green\"}},\"low\":[120.51000213623047],\"open\":[122.08999633789062],\"showlegend\":false,\"x\":[\"2023-01-11T00:00:00\"],\"type\":\"candlestick\",\"xaxis\":\"x\",\"yaxis\":\"y\"},{\"close\":[123.55999755859375],\"decreasing\":{\"fillcolor\":\"rgba(255, 0, 0, 0)\",\"line\":{\"color\":\"green\"}},\"high\":[124.12999725341797],\"increasing\":{\"fillcolor\":\"rgba(255, 0, 0, 0)\",\"line\":{\"color\":\"green\"}},\"low\":[117.0],\"open\":[122.55999755859375],\"showlegend\":false,\"x\":[\"2023-01-12T00:00:00\"],\"type\":\"candlestick\",\"xaxis\":\"x\",\"yaxis\":\"y\"},{\"close\":[122.4000015258789],\"decreasing\":{\"fillcolor\":\"rgba(255, 0, 0, 0)\",\"line\":{\"color\":\"red\"}},\"high\":[122.62999725341797],\"increasing\":{\"fillcolor\":\"rgba(255, 0, 0, 0)\",\"line\":{\"color\":\"red\"}},\"low\":[115.5999984741211],\"open\":[116.55000305175781],\"showlegend\":false,\"x\":[\"2023-01-13T00:00:00\"],\"type\":\"candlestick\",\"xaxis\":\"x\",\"yaxis\":\"y\"},{\"close\":[122.4000015258789],\"decreasing\":{\"fillcolor\":\"rgba(255, 0, 0, 0)\",\"line\":{\"color\":\"red\"}},\"high\":[122.62999725341797],\"increasing\":{\"fillcolor\":\"rgba(255, 0, 0, 0)\",\"line\":{\"color\":\"red\"}},\"low\":[115.5999984741211],\"open\":[116.55000305175781],\"showlegend\":false,\"x\":[\"2023-01-14T00:00:00\"],\"type\":\"candlestick\",\"xaxis\":\"x\",\"yaxis\":\"y\"},{\"close\":[122.4000015258789],\"decreasing\":{\"fillcolor\":\"rgba(255, 0, 0, 0)\",\"line\":{\"color\":\"red\"}},\"high\":[122.62999725341797],\"increasing\":{\"fillcolor\":\"rgba(255, 0, 0, 0)\",\"line\":{\"color\":\"red\"}},\"low\":[115.5999984741211],\"open\":[116.55000305175781],\"showlegend\":false,\"x\":[\"2023-01-15T00:00:00\"],\"type\":\"candlestick\",\"xaxis\":\"x\",\"yaxis\":\"y\"},{\"close\":[122.4000015258789],\"decreasing\":{\"fillcolor\":\"rgba(255, 0, 0, 0)\",\"line\":{\"color\":\"red\"}},\"high\":[122.62999725341797],\"increasing\":{\"fillcolor\":\"rgba(255, 0, 0, 0)\",\"line\":{\"color\":\"red\"}},\"low\":[115.5999984741211],\"open\":[116.55000305175781],\"showlegend\":false,\"x\":[\"2023-01-16T00:00:00\"],\"type\":\"candlestick\",\"xaxis\":\"x\",\"yaxis\":\"y\"},{\"close\":[131.49000549316406],\"decreasing\":{\"fillcolor\":\"rgba(255, 0, 0, 0)\",\"line\":{\"color\":\"green\"}},\"high\":[131.6999969482422],\"increasing\":{\"fillcolor\":\"rgba(255, 0, 0, 0)\",\"line\":{\"color\":\"green\"}},\"low\":[125.0199966430664],\"open\":[125.69999694824219],\"showlegend\":false,\"x\":[\"2023-01-17T00:00:00\"],\"type\":\"candlestick\",\"xaxis\":\"x\",\"yaxis\":\"y\"},{\"close\":[128.77999877929688],\"decreasing\":{\"fillcolor\":\"red\",\"line\":{\"color\":\"red\"}},\"high\":[136.67999267578125],\"increasing\":{\"fillcolor\":\"red\",\"line\":{\"color\":\"red\"}},\"low\":[127.01000213623047],\"open\":[136.55999755859375],\"showlegend\":false,\"x\":[\"2023-01-18T00:00:00\"],\"type\":\"candlestick\",\"xaxis\":\"x\",\"yaxis\":\"y\"},{\"close\":[127.16999816894531],\"decreasing\":{\"fillcolor\":\"red\",\"line\":{\"color\":\"red\"}},\"high\":[129.99000549316406],\"increasing\":{\"fillcolor\":\"red\",\"line\":{\"color\":\"red\"}},\"low\":[124.30999755859375],\"open\":[127.26000213623047],\"showlegend\":false,\"x\":[\"2023-01-19T00:00:00\"],\"type\":\"candlestick\",\"xaxis\":\"x\",\"yaxis\":\"y\"},{\"close\":[133.4199981689453],\"decreasing\":{\"fillcolor\":\"rgba(255, 0, 0, 0)\",\"line\":{\"color\":\"green\"}},\"high\":[133.50999450683594],\"increasing\":{\"fillcolor\":\"rgba(255, 0, 0, 0)\",\"line\":{\"color\":\"green\"}},\"low\":[127.3499984741211],\"open\":[128.67999267578125],\"showlegend\":false,\"x\":[\"2023-01-20T00:00:00\"],\"type\":\"candlestick\",\"xaxis\":\"x\",\"yaxis\":\"y\"},{\"close\":[133.4199981689453],\"decreasing\":{\"fillcolor\":\"rgba(255, 0, 0, 0)\",\"line\":{\"color\":\"red\"}},\"high\":[133.50999450683594],\"increasing\":{\"fillcolor\":\"rgba(255, 0, 0, 0)\",\"line\":{\"color\":\"red\"}},\"low\":[127.3499984741211],\"open\":[128.67999267578125],\"showlegend\":false,\"x\":[\"2023-01-21T00:00:00\"],\"type\":\"candlestick\",\"xaxis\":\"x\",\"yaxis\":\"y\"},{\"close\":[133.4199981689453],\"decreasing\":{\"fillcolor\":\"rgba(255, 0, 0, 0)\",\"line\":{\"color\":\"red\"}},\"high\":[133.50999450683594],\"increasing\":{\"fillcolor\":\"rgba(255, 0, 0, 0)\",\"line\":{\"color\":\"red\"}},\"low\":[127.3499984741211],\"open\":[128.67999267578125],\"showlegend\":false,\"x\":[\"2023-01-22T00:00:00\"],\"type\":\"candlestick\",\"xaxis\":\"x\",\"yaxis\":\"y\"},{\"close\":[143.75],\"decreasing\":{\"fillcolor\":\"rgba(255, 0, 0, 0)\",\"line\":{\"color\":\"green\"}},\"high\":[145.3800048828125],\"increasing\":{\"fillcolor\":\"rgba(255, 0, 0, 0)\",\"line\":{\"color\":\"green\"}},\"low\":[134.27000427246094],\"open\":[135.8699951171875],\"showlegend\":false,\"x\":[\"2023-01-23T00:00:00\"],\"type\":\"candlestick\",\"xaxis\":\"x\",\"yaxis\":\"y\"},{\"close\":[143.88999938964844],\"decreasing\":{\"fillcolor\":\"rgba(255, 0, 0, 0)\",\"line\":{\"color\":\"green\"}},\"high\":[146.5],\"increasing\":{\"fillcolor\":\"rgba(255, 0, 0, 0)\",\"line\":{\"color\":\"green\"}},\"low\":[141.10000610351562],\"open\":[143.0],\"showlegend\":false,\"x\":[\"2023-01-24T00:00:00\"],\"type\":\"candlestick\",\"xaxis\":\"x\",\"yaxis\":\"y\"},{\"close\":[144.42999267578125],\"decreasing\":{\"fillcolor\":\"rgba(255, 0, 0, 0)\",\"line\":{\"color\":\"green\"}},\"high\":[146.41000366210938],\"increasing\":{\"fillcolor\":\"rgba(255, 0, 0, 0)\",\"line\":{\"color\":\"green\"}},\"low\":[138.07000732421875],\"open\":[141.91000366210938],\"showlegend\":false,\"x\":[\"2023-01-25T00:00:00\"],\"type\":\"candlestick\",\"xaxis\":\"x\",\"yaxis\":\"y\"},{\"close\":[160.27000427246094],\"decreasing\":{\"fillcolor\":\"rgba(255, 0, 0, 0)\",\"line\":{\"color\":\"green\"}},\"high\":[161.4199981689453],\"increasing\":{\"fillcolor\":\"rgba(255, 0, 0, 0)\",\"line\":{\"color\":\"green\"}},\"low\":[154.75999450683594],\"open\":[159.97000122070312],\"showlegend\":false,\"x\":[\"2023-01-26T00:00:00\"],\"type\":\"candlestick\",\"xaxis\":\"x\",\"yaxis\":\"y\"},{\"close\":[177.89999389648438],\"decreasing\":{\"fillcolor\":\"rgba(255, 0, 0, 0)\",\"line\":{\"color\":\"green\"}},\"high\":[180.67999267578125],\"increasing\":{\"fillcolor\":\"rgba(255, 0, 0, 0)\",\"line\":{\"color\":\"green\"}},\"low\":[161.1699981689453],\"open\":[162.42999267578125],\"showlegend\":false,\"x\":[\"2023-01-27T00:00:00\"],\"type\":\"candlestick\",\"xaxis\":\"x\",\"yaxis\":\"y\"},{\"close\":[177.89999389648438],\"decreasing\":{\"fillcolor\":\"rgba(255, 0, 0, 0)\",\"line\":{\"color\":\"red\"}},\"high\":[180.67999267578125],\"increasing\":{\"fillcolor\":\"rgba(255, 0, 0, 0)\",\"line\":{\"color\":\"red\"}},\"low\":[161.1699981689453],\"open\":[162.42999267578125],\"showlegend\":false,\"x\":[\"2023-01-28T00:00:00\"],\"type\":\"candlestick\",\"xaxis\":\"x\",\"yaxis\":\"y\"},{\"close\":[177.89999389648438],\"decreasing\":{\"fillcolor\":\"rgba(255, 0, 0, 0)\",\"line\":{\"color\":\"red\"}},\"high\":[180.67999267578125],\"increasing\":{\"fillcolor\":\"rgba(255, 0, 0, 0)\",\"line\":{\"color\":\"red\"}},\"low\":[161.1699981689453],\"open\":[162.42999267578125],\"showlegend\":false,\"x\":[\"2023-01-29T00:00:00\"],\"type\":\"candlestick\",\"xaxis\":\"x\",\"yaxis\":\"y\"},{\"close\":[166.66000366210938],\"decreasing\":{\"fillcolor\":\"red\",\"line\":{\"color\":\"red\"}},\"high\":[179.77000427246094],\"increasing\":{\"fillcolor\":\"red\",\"line\":{\"color\":\"red\"}},\"low\":[166.5],\"open\":[178.0500030517578],\"showlegend\":false,\"x\":[\"2023-01-30T00:00:00\"],\"type\":\"candlestick\",\"xaxis\":\"x\",\"yaxis\":\"y\"},{\"close\":[173.22000122070312],\"decreasing\":{\"fillcolor\":\"rgba(255, 0, 0, 0)\",\"line\":{\"color\":\"green\"}},\"high\":[174.3000030517578],\"increasing\":{\"fillcolor\":\"rgba(255, 0, 0, 0)\",\"line\":{\"color\":\"green\"}},\"low\":[162.77999877929688],\"open\":[164.57000732421875],\"showlegend\":false,\"x\":[\"2023-01-31T00:00:00\"],\"type\":\"candlestick\",\"xaxis\":\"x\",\"yaxis\":\"y\"},{\"close\":[181.41000366210938],\"decreasing\":{\"fillcolor\":\"rgba(255, 0, 0, 0)\",\"line\":{\"color\":\"green\"}},\"high\":[183.80999755859375],\"increasing\":{\"fillcolor\":\"rgba(255, 0, 0, 0)\",\"line\":{\"color\":\"green\"}},\"low\":[169.92999267578125],\"open\":[173.88999938964844],\"showlegend\":false,\"x\":[\"2023-02-01T00:00:00\"],\"type\":\"candlestick\",\"xaxis\":\"x\",\"yaxis\":\"y\"},{\"close\":[188.27000427246094],\"decreasing\":{\"fillcolor\":\"rgba(255, 0, 0, 0)\",\"line\":{\"color\":\"green\"}},\"high\":[196.75],\"increasing\":{\"fillcolor\":\"rgba(255, 0, 0, 0)\",\"line\":{\"color\":\"green\"}},\"low\":[182.61000061035156],\"open\":[187.3300018310547],\"showlegend\":false,\"x\":[\"2023-02-02T00:00:00\"],\"type\":\"candlestick\",\"xaxis\":\"x\",\"yaxis\":\"y\"},{\"close\":[189.97999572753906],\"decreasing\":{\"fillcolor\":\"rgba(255, 0, 0, 0)\",\"line\":{\"color\":\"green\"}},\"high\":[199.0],\"increasing\":{\"fillcolor\":\"rgba(255, 0, 0, 0)\",\"line\":{\"color\":\"green\"}},\"low\":[183.69000244140625],\"open\":[183.9499969482422],\"showlegend\":false,\"x\":[\"2023-02-03T00:00:00\"],\"type\":\"candlestick\",\"xaxis\":\"x\",\"yaxis\":\"y\"},{\"close\":[189.97999572753906],\"decreasing\":{\"fillcolor\":\"rgba(255, 0, 0, 0)\",\"line\":{\"color\":\"red\"}},\"high\":[199.0],\"increasing\":{\"fillcolor\":\"rgba(255, 0, 0, 0)\",\"line\":{\"color\":\"red\"}},\"low\":[183.69000244140625],\"open\":[183.9499969482422],\"showlegend\":false,\"x\":[\"2023-02-04T00:00:00\"],\"type\":\"candlestick\",\"xaxis\":\"x\",\"yaxis\":\"y\"},{\"close\":[189.97999572753906],\"decreasing\":{\"fillcolor\":\"rgba(255, 0, 0, 0)\",\"line\":{\"color\":\"red\"}},\"high\":[199.0],\"increasing\":{\"fillcolor\":\"rgba(255, 0, 0, 0)\",\"line\":{\"color\":\"red\"}},\"low\":[183.69000244140625],\"open\":[183.9499969482422],\"showlegend\":false,\"x\":[\"2023-02-05T00:00:00\"],\"type\":\"candlestick\",\"xaxis\":\"x\",\"yaxis\":\"y\"},{\"close\":[194.75999450683594],\"decreasing\":{\"fillcolor\":\"rgba(255, 0, 0, 0)\",\"line\":{\"color\":\"green\"}},\"high\":[198.1699981689453],\"increasing\":{\"fillcolor\":\"rgba(255, 0, 0, 0)\",\"line\":{\"color\":\"green\"}},\"low\":[189.9199981689453],\"open\":[193.00999450683594],\"showlegend\":false,\"x\":[\"2023-02-06T00:00:00\"],\"type\":\"candlestick\",\"xaxis\":\"x\",\"yaxis\":\"y\"},{\"close\":[196.80999755859375],\"decreasing\":{\"fillcolor\":\"rgba(255, 0, 0, 0)\",\"line\":{\"color\":\"green\"}},\"high\":[197.5],\"increasing\":{\"fillcolor\":\"rgba(255, 0, 0, 0)\",\"line\":{\"color\":\"green\"}},\"low\":[189.5500030517578],\"open\":[196.42999267578125],\"showlegend\":false,\"x\":[\"2023-02-07T00:00:00\"],\"type\":\"candlestick\",\"xaxis\":\"x\",\"yaxis\":\"y\"},{\"close\":[201.2899932861328],\"decreasing\":{\"fillcolor\":\"rgba(255, 0, 0, 0)\",\"line\":{\"color\":\"green\"}},\"high\":[203.0],\"increasing\":{\"fillcolor\":\"rgba(255, 0, 0, 0)\",\"line\":{\"color\":\"green\"}},\"low\":[194.30999755859375],\"open\":[196.10000610351562],\"showlegend\":false,\"x\":[\"2023-02-08T00:00:00\"],\"type\":\"candlestick\",\"xaxis\":\"x\",\"yaxis\":\"y\"},{\"close\":[207.32000732421875],\"decreasing\":{\"fillcolor\":\"green\",\"line\":{\"color\":\"green\"}},\"high\":[214.0],\"increasing\":{\"fillcolor\":\"green\",\"line\":{\"color\":\"green\"}},\"low\":[204.77000427246094],\"open\":[207.77999877929688],\"showlegend\":false,\"x\":[\"2023-02-09T00:00:00\"],\"type\":\"candlestick\",\"xaxis\":\"x\",\"yaxis\":\"y\"},{\"close\":[196.88999938964844],\"decreasing\":{\"fillcolor\":\"red\",\"line\":{\"color\":\"red\"}},\"high\":[206.1999969482422],\"increasing\":{\"fillcolor\":\"red\",\"line\":{\"color\":\"red\"}},\"low\":[192.88999938964844],\"open\":[202.22999572753906],\"showlegend\":false,\"x\":[\"2023-02-10T00:00:00\"],\"type\":\"candlestick\",\"xaxis\":\"x\",\"yaxis\":\"y\"},{\"close\":[196.88999938964844],\"decreasing\":{\"fillcolor\":\"red\",\"line\":{\"color\":\"red\"}},\"high\":[206.1999969482422],\"increasing\":{\"fillcolor\":\"red\",\"line\":{\"color\":\"red\"}},\"low\":[192.88999938964844],\"open\":[202.22999572753906],\"showlegend\":false,\"x\":[\"2023-02-11T00:00:00\"],\"type\":\"candlestick\",\"xaxis\":\"x\",\"yaxis\":\"y\"},{\"close\":[196.88999938964844],\"decreasing\":{\"fillcolor\":\"red\",\"line\":{\"color\":\"red\"}},\"high\":[206.1999969482422],\"increasing\":{\"fillcolor\":\"red\",\"line\":{\"color\":\"red\"}},\"low\":[192.88999938964844],\"open\":[202.22999572753906],\"showlegend\":false,\"x\":[\"2023-02-12T00:00:00\"],\"type\":\"candlestick\",\"xaxis\":\"x\",\"yaxis\":\"y\"},{\"close\":[194.63999938964844],\"decreasing\":{\"fillcolor\":\"rgba(255, 0, 0, 0)\",\"line\":{\"color\":\"red\"}},\"high\":[196.3000030517578],\"increasing\":{\"fillcolor\":\"rgba(255, 0, 0, 0)\",\"line\":{\"color\":\"red\"}},\"low\":[187.61000061035156],\"open\":[194.4199981689453],\"showlegend\":false,\"x\":[\"2023-02-13T00:00:00\"],\"type\":\"candlestick\",\"xaxis\":\"x\",\"yaxis\":\"y\"},{\"close\":[209.25],\"decreasing\":{\"fillcolor\":\"rgba(255, 0, 0, 0)\",\"line\":{\"color\":\"green\"}},\"high\":[209.82000732421875],\"increasing\":{\"fillcolor\":\"rgba(255, 0, 0, 0)\",\"line\":{\"color\":\"green\"}},\"low\":[189.44000244140625],\"open\":[191.94000244140625],\"showlegend\":false,\"x\":[\"2023-02-14T00:00:00\"],\"type\":\"candlestick\",\"xaxis\":\"x\",\"yaxis\":\"y\"},{\"close\":[214.24000549316406],\"decreasing\":{\"fillcolor\":\"rgba(255, 0, 0, 0)\",\"line\":{\"color\":\"green\"}},\"high\":[214.66000366210938],\"increasing\":{\"fillcolor\":\"rgba(255, 0, 0, 0)\",\"line\":{\"color\":\"green\"}},\"low\":[206.11000061035156],\"open\":[211.75999450683594],\"showlegend\":false,\"x\":[\"2023-02-15T00:00:00\"],\"type\":\"candlestick\",\"xaxis\":\"x\",\"yaxis\":\"y\"},{\"close\":[202.0399932861328],\"decreasing\":{\"fillcolor\":\"red\",\"line\":{\"color\":\"red\"}},\"high\":[217.64999389648438],\"increasing\":{\"fillcolor\":\"red\",\"line\":{\"color\":\"red\"}},\"low\":[201.83999633789062],\"open\":[210.77999877929688],\"showlegend\":false,\"x\":[\"2023-02-16T00:00:00\"],\"type\":\"candlestick\",\"xaxis\":\"x\",\"yaxis\":\"y\"},{\"close\":[208.30999755859375],\"decreasing\":{\"fillcolor\":\"rgba(255, 0, 0, 0)\",\"line\":{\"color\":\"green\"}},\"high\":[208.44000244140625],\"increasing\":{\"fillcolor\":\"rgba(255, 0, 0, 0)\",\"line\":{\"color\":\"green\"}},\"low\":[197.5],\"open\":[199.99000549316406],\"showlegend\":false,\"x\":[\"2023-02-17T00:00:00\"],\"type\":\"candlestick\",\"xaxis\":\"x\",\"yaxis\":\"y\"},{\"close\":[208.30999755859375],\"decreasing\":{\"fillcolor\":\"rgba(255, 0, 0, 0)\",\"line\":{\"color\":\"red\"}},\"high\":[208.44000244140625],\"increasing\":{\"fillcolor\":\"rgba(255, 0, 0, 0)\",\"line\":{\"color\":\"red\"}},\"low\":[197.5],\"open\":[199.99000549316406],\"showlegend\":false,\"x\":[\"2023-02-18T00:00:00\"],\"type\":\"candlestick\",\"xaxis\":\"x\",\"yaxis\":\"y\"},{\"close\":[208.30999755859375],\"decreasing\":{\"fillcolor\":\"rgba(255, 0, 0, 0)\",\"line\":{\"color\":\"red\"}},\"high\":[208.44000244140625],\"increasing\":{\"fillcolor\":\"rgba(255, 0, 0, 0)\",\"line\":{\"color\":\"red\"}},\"low\":[197.5],\"open\":[199.99000549316406],\"showlegend\":false,\"x\":[\"2023-02-19T00:00:00\"],\"type\":\"candlestick\",\"xaxis\":\"x\",\"yaxis\":\"y\"},{\"close\":[208.30999755859375],\"decreasing\":{\"fillcolor\":\"rgba(255, 0, 0, 0)\",\"line\":{\"color\":\"red\"}},\"high\":[208.44000244140625],\"increasing\":{\"fillcolor\":\"rgba(255, 0, 0, 0)\",\"line\":{\"color\":\"red\"}},\"low\":[197.5],\"open\":[199.99000549316406],\"showlegend\":false,\"x\":[\"2023-02-20T00:00:00\"],\"type\":\"candlestick\",\"xaxis\":\"x\",\"yaxis\":\"y\"},{\"close\":[197.3699951171875],\"decreasing\":{\"fillcolor\":\"red\",\"line\":{\"color\":\"red\"}},\"high\":[209.7100067138672],\"increasing\":{\"fillcolor\":\"red\",\"line\":{\"color\":\"red\"}},\"low\":[197.22000122070312],\"open\":[204.99000549316406],\"showlegend\":false,\"x\":[\"2023-02-21T00:00:00\"],\"type\":\"candlestick\",\"xaxis\":\"x\",\"yaxis\":\"y\"},{\"close\":[200.86000061035156],\"decreasing\":{\"fillcolor\":\"rgba(255, 0, 0, 0)\",\"line\":{\"color\":\"green\"}},\"high\":[201.99000549316406],\"increasing\":{\"fillcolor\":\"rgba(255, 0, 0, 0)\",\"line\":{\"color\":\"green\"}},\"low\":[191.77999877929688],\"open\":[197.92999267578125],\"showlegend\":false,\"x\":[\"2023-02-22T00:00:00\"],\"type\":\"candlestick\",\"xaxis\":\"x\",\"yaxis\":\"y\"},{\"close\":[202.07000732421875],\"decreasing\":{\"fillcolor\":\"green\",\"line\":{\"color\":\"green\"}},\"high\":[205.13999938964844],\"increasing\":{\"fillcolor\":\"green\",\"line\":{\"color\":\"green\"}},\"low\":[196.3300018310547],\"open\":[203.91000366210938],\"showlegend\":false,\"x\":[\"2023-02-23T00:00:00\"],\"type\":\"candlestick\",\"xaxis\":\"x\",\"yaxis\":\"y\"},{\"close\":[196.8800048828125],\"decreasing\":{\"fillcolor\":\"rgba(255, 0, 0, 0)\",\"line\":{\"color\":\"red\"}},\"high\":[197.6699981689453],\"increasing\":{\"fillcolor\":\"rgba(255, 0, 0, 0)\",\"line\":{\"color\":\"red\"}},\"low\":[192.8000030517578],\"open\":[196.3300018310547],\"showlegend\":false,\"x\":[\"2023-02-24T00:00:00\"],\"type\":\"candlestick\",\"xaxis\":\"x\",\"yaxis\":\"y\"},{\"close\":[196.8800048828125],\"decreasing\":{\"fillcolor\":\"rgba(255, 0, 0, 0)\",\"line\":{\"color\":\"red\"}},\"high\":[197.6699981689453],\"increasing\":{\"fillcolor\":\"rgba(255, 0, 0, 0)\",\"line\":{\"color\":\"red\"}},\"low\":[192.8000030517578],\"open\":[196.3300018310547],\"showlegend\":false,\"x\":[\"2023-02-25T00:00:00\"],\"type\":\"candlestick\",\"xaxis\":\"x\",\"yaxis\":\"y\"},{\"close\":[196.8800048828125],\"decreasing\":{\"fillcolor\":\"rgba(255, 0, 0, 0)\",\"line\":{\"color\":\"red\"}},\"high\":[197.6699981689453],\"increasing\":{\"fillcolor\":\"rgba(255, 0, 0, 0)\",\"line\":{\"color\":\"red\"}},\"low\":[192.8000030517578],\"open\":[196.3300018310547],\"showlegend\":false,\"x\":[\"2023-02-26T00:00:00\"],\"type\":\"candlestick\",\"xaxis\":\"x\",\"yaxis\":\"y\"},{\"close\":[207.6300048828125],\"decreasing\":{\"fillcolor\":\"rgba(255, 0, 0, 0)\",\"line\":{\"color\":\"green\"}},\"high\":[209.4199981689453],\"increasing\":{\"fillcolor\":\"rgba(255, 0, 0, 0)\",\"line\":{\"color\":\"green\"}},\"low\":[201.25999450683594],\"open\":[202.02999877929688],\"showlegend\":false,\"x\":[\"2023-02-27T00:00:00\"],\"type\":\"candlestick\",\"xaxis\":\"x\",\"yaxis\":\"y\"},{\"close\":[205.7100067138672],\"decreasing\":{\"fillcolor\":\"red\",\"line\":{\"color\":\"red\"}},\"high\":[211.22999572753906],\"increasing\":{\"fillcolor\":\"red\",\"line\":{\"color\":\"red\"}},\"low\":[203.75],\"open\":[210.58999633789062],\"showlegend\":false,\"x\":[\"2023-02-28T00:00:00\"],\"type\":\"candlestick\",\"xaxis\":\"x\",\"yaxis\":\"y\"},{\"close\":[202.77000427246094],\"decreasing\":{\"fillcolor\":\"red\",\"line\":{\"color\":\"red\"}},\"high\":[207.1999969482422],\"increasing\":{\"fillcolor\":\"red\",\"line\":{\"color\":\"red\"}},\"low\":[198.52000427246094],\"open\":[206.2100067138672],\"showlegend\":false,\"x\":[\"2023-03-01T00:00:00\"],\"type\":\"candlestick\",\"xaxis\":\"x\",\"yaxis\":\"y\"},{\"close\":[190.89999389648438],\"decreasing\":{\"fillcolor\":\"rgba(255, 0, 0, 0)\",\"line\":{\"color\":\"red\"}},\"high\":[193.75],\"increasing\":{\"fillcolor\":\"rgba(255, 0, 0, 0)\",\"line\":{\"color\":\"red\"}},\"low\":[186.00999450683594],\"open\":[186.74000549316406],\"showlegend\":false,\"x\":[\"2023-03-02T00:00:00\"],\"type\":\"candlestick\",\"xaxis\":\"x\",\"yaxis\":\"y\"},{\"close\":[197.7899932861328],\"decreasing\":{\"fillcolor\":\"rgba(255, 0, 0, 0)\",\"line\":{\"color\":\"green\"}},\"high\":[200.47999572753906],\"increasing\":{\"fillcolor\":\"rgba(255, 0, 0, 0)\",\"line\":{\"color\":\"green\"}},\"low\":[192.8800048828125],\"open\":[194.8000030517578],\"showlegend\":false,\"x\":[\"2023-03-03T00:00:00\"],\"type\":\"candlestick\",\"xaxis\":\"x\",\"yaxis\":\"y\"},{\"close\":[197.7899932861328],\"decreasing\":{\"fillcolor\":\"rgba(255, 0, 0, 0)\",\"line\":{\"color\":\"red\"}},\"high\":[200.47999572753906],\"increasing\":{\"fillcolor\":\"rgba(255, 0, 0, 0)\",\"line\":{\"color\":\"red\"}},\"low\":[192.8800048828125],\"open\":[194.8000030517578],\"showlegend\":false,\"x\":[\"2023-03-04T00:00:00\"],\"type\":\"candlestick\",\"xaxis\":\"x\",\"yaxis\":\"y\"},{\"close\":[197.7899932861328],\"decreasing\":{\"fillcolor\":\"rgba(255, 0, 0, 0)\",\"line\":{\"color\":\"red\"}},\"high\":[200.47999572753906],\"increasing\":{\"fillcolor\":\"rgba(255, 0, 0, 0)\",\"line\":{\"color\":\"red\"}},\"low\":[192.8800048828125],\"open\":[194.8000030517578],\"showlegend\":false,\"x\":[\"2023-03-05T00:00:00\"],\"type\":\"candlestick\",\"xaxis\":\"x\",\"yaxis\":\"y\"},{\"close\":[193.80999755859375],\"decreasing\":{\"fillcolor\":\"red\",\"line\":{\"color\":\"red\"}},\"high\":[198.60000610351562],\"increasing\":{\"fillcolor\":\"red\",\"line\":{\"color\":\"red\"}},\"low\":[192.3000030517578],\"open\":[198.5399932861328],\"showlegend\":false,\"x\":[\"2023-03-06T00:00:00\"],\"type\":\"candlestick\",\"xaxis\":\"x\",\"yaxis\":\"y\"},{\"close\":[187.7100067138672],\"decreasing\":{\"fillcolor\":\"red\",\"line\":{\"color\":\"red\"}},\"high\":[194.1999969482422],\"increasing\":{\"fillcolor\":\"red\",\"line\":{\"color\":\"red\"}},\"low\":[186.10000610351562],\"open\":[191.3800048828125],\"showlegend\":false,\"x\":[\"2023-03-07T00:00:00\"],\"type\":\"candlestick\",\"xaxis\":\"x\",\"yaxis\":\"y\"},{\"close\":[182.0],\"decreasing\":{\"fillcolor\":\"red\",\"line\":{\"color\":\"red\"}},\"high\":[186.5],\"increasing\":{\"fillcolor\":\"red\",\"line\":{\"color\":\"red\"}},\"low\":[180.0],\"open\":[185.0399932861328],\"showlegend\":false,\"x\":[\"2023-03-08T00:00:00\"],\"type\":\"candlestick\",\"xaxis\":\"x\",\"yaxis\":\"y\"},{\"close\":[172.9199981689453],\"decreasing\":{\"fillcolor\":\"red\",\"line\":{\"color\":\"red\"}},\"high\":[185.17999267578125],\"increasing\":{\"fillcolor\":\"red\",\"line\":{\"color\":\"red\"}},\"low\":[172.50999450683594],\"open\":[180.25],\"showlegend\":false,\"x\":[\"2023-03-09T00:00:00\"],\"type\":\"candlestick\",\"xaxis\":\"x\",\"yaxis\":\"y\"},{\"close\":[173.44000244140625],\"decreasing\":{\"fillcolor\":\"green\",\"line\":{\"color\":\"green\"}},\"high\":[178.2899932861328],\"increasing\":{\"fillcolor\":\"green\",\"line\":{\"color\":\"green\"}},\"low\":[168.44000244140625],\"open\":[175.1300048828125],\"showlegend\":false,\"x\":[\"2023-03-10T00:00:00\"],\"type\":\"candlestick\",\"xaxis\":\"x\",\"yaxis\":\"y\"},{\"close\":[173.44000244140625],\"decreasing\":{\"fillcolor\":\"red\",\"line\":{\"color\":\"red\"}},\"high\":[178.2899932861328],\"increasing\":{\"fillcolor\":\"red\",\"line\":{\"color\":\"red\"}},\"low\":[168.44000244140625],\"open\":[175.1300048828125],\"showlegend\":false,\"x\":[\"2023-03-11T00:00:00\"],\"type\":\"candlestick\",\"xaxis\":\"x\",\"yaxis\":\"y\"},{\"close\":[173.44000244140625],\"decreasing\":{\"fillcolor\":\"red\",\"line\":{\"color\":\"red\"}},\"high\":[178.2899932861328],\"increasing\":{\"fillcolor\":\"red\",\"line\":{\"color\":\"red\"}},\"low\":[168.44000244140625],\"open\":[175.1300048828125],\"showlegend\":false,\"x\":[\"2023-03-12T00:00:00\"],\"type\":\"candlestick\",\"xaxis\":\"x\",\"yaxis\":\"y\"},{\"close\":[174.47999572753906],\"decreasing\":{\"fillcolor\":\"rgba(255, 0, 0, 0)\",\"line\":{\"color\":\"green\"}},\"high\":[177.35000610351562],\"increasing\":{\"fillcolor\":\"rgba(255, 0, 0, 0)\",\"line\":{\"color\":\"green\"}},\"low\":[163.91000366210938],\"open\":[167.4600067138672],\"showlegend\":false,\"x\":[\"2023-03-13T00:00:00\"],\"type\":\"candlestick\",\"xaxis\":\"x\",\"yaxis\":\"y\"},{\"close\":[183.25999450683594],\"decreasing\":{\"fillcolor\":\"rgba(255, 0, 0, 0)\",\"line\":{\"color\":\"green\"}},\"high\":[183.8000030517578],\"increasing\":{\"fillcolor\":\"rgba(255, 0, 0, 0)\",\"line\":{\"color\":\"green\"}},\"low\":[177.13999938964844],\"open\":[177.30999755859375],\"showlegend\":false,\"x\":[\"2023-03-14T00:00:00\"],\"type\":\"candlestick\",\"xaxis\":\"x\",\"yaxis\":\"y\"},{\"close\":[180.4499969482422],\"decreasing\":{\"fillcolor\":\"red\",\"line\":{\"color\":\"red\"}},\"high\":[182.33999633789062],\"increasing\":{\"fillcolor\":\"red\",\"line\":{\"color\":\"red\"}},\"low\":[176.02999877929688],\"open\":[180.8000030517578],\"showlegend\":false,\"x\":[\"2023-03-15T00:00:00\"],\"type\":\"candlestick\",\"xaxis\":\"x\",\"yaxis\":\"y\"},{\"close\":[184.1300048828125],\"decreasing\":{\"fillcolor\":\"rgba(255, 0, 0, 0)\",\"line\":{\"color\":\"green\"}},\"high\":[185.80999755859375],\"increasing\":{\"fillcolor\":\"rgba(255, 0, 0, 0)\",\"line\":{\"color\":\"green\"}},\"low\":[178.83999633789062],\"open\":[180.3699951171875],\"showlegend\":false,\"x\":[\"2023-03-16T00:00:00\"],\"type\":\"candlestick\",\"xaxis\":\"x\",\"yaxis\":\"y\"},{\"close\":[180.1300048828125],\"decreasing\":{\"fillcolor\":\"red\",\"line\":{\"color\":\"red\"}},\"high\":[186.22000122070312],\"increasing\":{\"fillcolor\":\"red\",\"line\":{\"color\":\"red\"}},\"low\":[177.3300018310547],\"open\":[184.52000427246094],\"showlegend\":false,\"x\":[\"2023-03-17T00:00:00\"],\"type\":\"candlestick\",\"xaxis\":\"x\",\"yaxis\":\"y\"},{\"close\":[180.1300048828125],\"decreasing\":{\"fillcolor\":\"red\",\"line\":{\"color\":\"red\"}},\"high\":[186.22000122070312],\"increasing\":{\"fillcolor\":\"red\",\"line\":{\"color\":\"red\"}},\"low\":[177.3300018310547],\"open\":[184.52000427246094],\"showlegend\":false,\"x\":[\"2023-03-18T00:00:00\"],\"type\":\"candlestick\",\"xaxis\":\"x\",\"yaxis\":\"y\"},{\"close\":[180.1300048828125],\"decreasing\":{\"fillcolor\":\"red\",\"line\":{\"color\":\"red\"}},\"high\":[186.22000122070312],\"increasing\":{\"fillcolor\":\"red\",\"line\":{\"color\":\"red\"}},\"low\":[177.3300018310547],\"open\":[184.52000427246094],\"showlegend\":false,\"x\":[\"2023-03-19T00:00:00\"],\"type\":\"candlestick\",\"xaxis\":\"x\",\"yaxis\":\"y\"},{\"close\":[183.25],\"decreasing\":{\"fillcolor\":\"rgba(255, 0, 0, 0)\",\"line\":{\"color\":\"green\"}},\"high\":[186.44000244140625],\"increasing\":{\"fillcolor\":\"rgba(255, 0, 0, 0)\",\"line\":{\"color\":\"green\"}},\"low\":[176.35000610351562],\"open\":[178.0800018310547],\"showlegend\":false,\"x\":[\"2023-03-20T00:00:00\"],\"type\":\"candlestick\",\"xaxis\":\"x\",\"yaxis\":\"y\"},{\"close\":[197.5800018310547],\"decreasing\":{\"fillcolor\":\"rgba(255, 0, 0, 0)\",\"line\":{\"color\":\"green\"}},\"high\":[198.0],\"increasing\":{\"fillcolor\":\"rgba(255, 0, 0, 0)\",\"line\":{\"color\":\"green\"}},\"low\":[188.0399932861328],\"open\":[188.27999877929688],\"showlegend\":false,\"x\":[\"2023-03-21T00:00:00\"],\"type\":\"candlestick\",\"xaxis\":\"x\",\"yaxis\":\"y\"},{\"close\":[191.14999389648438],\"decreasing\":{\"fillcolor\":\"red\",\"line\":{\"color\":\"red\"}},\"high\":[200.66000366210938],\"increasing\":{\"fillcolor\":\"red\",\"line\":{\"color\":\"red\"}},\"low\":[190.9499969482422],\"open\":[199.3000030517578],\"showlegend\":false,\"x\":[\"2023-03-22T00:00:00\"],\"type\":\"candlestick\",\"xaxis\":\"x\",\"yaxis\":\"y\"},{\"close\":[192.22000122070312],\"decreasing\":{\"fillcolor\":\"green\",\"line\":{\"color\":\"green\"}},\"high\":[199.30999755859375],\"increasing\":{\"fillcolor\":\"green\",\"line\":{\"color\":\"green\"}},\"low\":[188.64999389648438],\"open\":[195.25999450683594],\"showlegend\":false,\"x\":[\"2023-03-23T00:00:00\"],\"type\":\"candlestick\",\"xaxis\":\"x\",\"yaxis\":\"y\"},{\"close\":[190.41000366210938],\"decreasing\":{\"fillcolor\":\"red\",\"line\":{\"color\":\"red\"}},\"high\":[192.36000061035156],\"increasing\":{\"fillcolor\":\"red\",\"line\":{\"color\":\"red\"}},\"low\":[187.14999389648438],\"open\":[191.64999389648438],\"showlegend\":false,\"x\":[\"2023-03-24T00:00:00\"],\"type\":\"candlestick\",\"xaxis\":\"x\",\"yaxis\":\"y\"},{\"close\":[190.41000366210938],\"decreasing\":{\"fillcolor\":\"red\",\"line\":{\"color\":\"red\"}},\"high\":[192.36000061035156],\"increasing\":{\"fillcolor\":\"red\",\"line\":{\"color\":\"red\"}},\"low\":[187.14999389648438],\"open\":[191.64999389648438],\"showlegend\":false,\"x\":[\"2023-03-25T00:00:00\"],\"type\":\"candlestick\",\"xaxis\":\"x\",\"yaxis\":\"y\"},{\"close\":[190.41000366210938],\"decreasing\":{\"fillcolor\":\"red\",\"line\":{\"color\":\"red\"}},\"high\":[192.36000061035156],\"increasing\":{\"fillcolor\":\"red\",\"line\":{\"color\":\"red\"}},\"low\":[187.14999389648438],\"open\":[191.64999389648438],\"showlegend\":false,\"x\":[\"2023-03-26T00:00:00\"],\"type\":\"candlestick\",\"xaxis\":\"x\",\"yaxis\":\"y\"},{\"close\":[191.80999755859375],\"decreasing\":{\"fillcolor\":\"green\",\"line\":{\"color\":\"green\"}},\"high\":[197.38999938964844],\"increasing\":{\"fillcolor\":\"green\",\"line\":{\"color\":\"green\"}},\"low\":[189.94000244140625],\"open\":[194.4199981689453],\"showlegend\":false,\"x\":[\"2023-03-27T00:00:00\"],\"type\":\"candlestick\",\"xaxis\":\"x\",\"yaxis\":\"y\"},{\"close\":[189.19000244140625],\"decreasing\":{\"fillcolor\":\"red\",\"line\":{\"color\":\"red\"}},\"high\":[192.35000610351562],\"increasing\":{\"fillcolor\":\"red\",\"line\":{\"color\":\"red\"}},\"low\":[185.42999267578125],\"open\":[192.0],\"showlegend\":false,\"x\":[\"2023-03-28T00:00:00\"],\"type\":\"candlestick\",\"xaxis\":\"x\",\"yaxis\":\"y\"},{\"close\":[193.8800048828125],\"decreasing\":{\"fillcolor\":\"rgba(255, 0, 0, 0)\",\"line\":{\"color\":\"green\"}},\"high\":[195.2899932861328],\"increasing\":{\"fillcolor\":\"rgba(255, 0, 0, 0)\",\"line\":{\"color\":\"green\"}},\"low\":[189.44000244140625],\"open\":[193.1300048828125],\"showlegend\":false,\"x\":[\"2023-03-29T00:00:00\"],\"type\":\"candlestick\",\"xaxis\":\"x\",\"yaxis\":\"y\"},{\"close\":[195.27999877929688],\"decreasing\":{\"fillcolor\":\"green\",\"line\":{\"color\":\"green\"}},\"high\":[197.3300018310547],\"increasing\":{\"fillcolor\":\"green\",\"line\":{\"color\":\"green\"}},\"low\":[194.4199981689453],\"open\":[195.5800018310547],\"showlegend\":false,\"x\":[\"2023-03-30T00:00:00\"],\"type\":\"candlestick\",\"xaxis\":\"x\",\"yaxis\":\"y\"},{\"close\":[207.4600067138672],\"decreasing\":{\"fillcolor\":\"rgba(255, 0, 0, 0)\",\"line\":{\"color\":\"green\"}},\"high\":[207.7899932861328],\"increasing\":{\"fillcolor\":\"rgba(255, 0, 0, 0)\",\"line\":{\"color\":\"green\"}},\"low\":[197.1999969482422],\"open\":[197.52999877929688],\"showlegend\":false,\"x\":[\"2023-03-31T00:00:00\"],\"type\":\"candlestick\",\"xaxis\":\"x\",\"yaxis\":\"y\"},{\"close\":[207.4600067138672],\"decreasing\":{\"fillcolor\":\"rgba(255, 0, 0, 0)\",\"line\":{\"color\":\"red\"}},\"high\":[207.7899932861328],\"increasing\":{\"fillcolor\":\"rgba(255, 0, 0, 0)\",\"line\":{\"color\":\"red\"}},\"low\":[197.1999969482422],\"open\":[197.52999877929688],\"showlegend\":false,\"x\":[\"2023-04-01T00:00:00\"],\"type\":\"candlestick\",\"xaxis\":\"x\",\"yaxis\":\"y\"},{\"close\":[207.4600067138672],\"decreasing\":{\"fillcolor\":\"rgba(255, 0, 0, 0)\",\"line\":{\"color\":\"red\"}},\"high\":[207.7899932861328],\"increasing\":{\"fillcolor\":\"rgba(255, 0, 0, 0)\",\"line\":{\"color\":\"red\"}},\"low\":[197.1999969482422],\"open\":[197.52999877929688],\"showlegend\":false,\"x\":[\"2023-04-02T00:00:00\"],\"type\":\"candlestick\",\"xaxis\":\"x\",\"yaxis\":\"y\"},{\"close\":[194.77000427246094],\"decreasing\":{\"fillcolor\":\"red\",\"line\":{\"color\":\"red\"}},\"high\":[202.69000244140625],\"increasing\":{\"fillcolor\":\"red\",\"line\":{\"color\":\"red\"}},\"low\":[192.1999969482422],\"open\":[199.91000366210938],\"showlegend\":false,\"x\":[\"2023-04-03T00:00:00\"],\"type\":\"candlestick\",\"xaxis\":\"x\",\"yaxis\":\"y\"},{\"close\":[192.5800018310547],\"decreasing\":{\"fillcolor\":\"red\",\"line\":{\"color\":\"red\"}},\"high\":[198.74000549316406],\"increasing\":{\"fillcolor\":\"red\",\"line\":{\"color\":\"red\"}},\"low\":[190.32000732421875],\"open\":[197.32000732421875],\"showlegend\":false,\"x\":[\"2023-04-04T00:00:00\"],\"type\":\"candlestick\",\"xaxis\":\"x\",\"yaxis\":\"y\"},{\"close\":[185.52000427246094],\"decreasing\":{\"fillcolor\":\"red\",\"line\":{\"color\":\"red\"}},\"high\":[190.67999267578125],\"increasing\":{\"fillcolor\":\"red\",\"line\":{\"color\":\"red\"}},\"low\":[183.75999450683594],\"open\":[190.52000427246094],\"showlegend\":false,\"x\":[\"2023-04-05T00:00:00\"],\"type\":\"candlestick\",\"xaxis\":\"x\",\"yaxis\":\"y\"},{\"close\":[185.05999755859375],\"decreasing\":{\"fillcolor\":\"rgba(255, 0, 0, 0)\",\"line\":{\"color\":\"red\"}},\"high\":[186.38999938964844],\"increasing\":{\"fillcolor\":\"rgba(255, 0, 0, 0)\",\"line\":{\"color\":\"red\"}},\"low\":[179.74000549316406],\"open\":[183.0800018310547],\"showlegend\":false,\"x\":[\"2023-04-06T00:00:00\"],\"type\":\"candlestick\",\"xaxis\":\"x\",\"yaxis\":\"y\"},{\"close\":[185.05999755859375],\"decreasing\":{\"fillcolor\":\"rgba(255, 0, 0, 0)\",\"line\":{\"color\":\"red\"}},\"high\":[186.38999938964844],\"increasing\":{\"fillcolor\":\"rgba(255, 0, 0, 0)\",\"line\":{\"color\":\"red\"}},\"low\":[179.74000549316406],\"open\":[183.0800018310547],\"showlegend\":false,\"x\":[\"2023-04-07T00:00:00\"],\"type\":\"candlestick\",\"xaxis\":\"x\",\"yaxis\":\"y\"},{\"close\":[185.05999755859375],\"decreasing\":{\"fillcolor\":\"rgba(255, 0, 0, 0)\",\"line\":{\"color\":\"red\"}},\"high\":[186.38999938964844],\"increasing\":{\"fillcolor\":\"rgba(255, 0, 0, 0)\",\"line\":{\"color\":\"red\"}},\"low\":[179.74000549316406],\"open\":[183.0800018310547],\"showlegend\":false,\"x\":[\"2023-04-08T00:00:00\"],\"type\":\"candlestick\",\"xaxis\":\"x\",\"yaxis\":\"y\"},{\"close\":[185.05999755859375],\"decreasing\":{\"fillcolor\":\"rgba(255, 0, 0, 0)\",\"line\":{\"color\":\"red\"}},\"high\":[186.38999938964844],\"increasing\":{\"fillcolor\":\"rgba(255, 0, 0, 0)\",\"line\":{\"color\":\"red\"}},\"low\":[179.74000549316406],\"open\":[183.0800018310547],\"showlegend\":false,\"x\":[\"2023-04-09T00:00:00\"],\"type\":\"candlestick\",\"xaxis\":\"x\",\"yaxis\":\"y\"},{\"close\":[184.50999450683594],\"decreasing\":{\"fillcolor\":\"rgba(255, 0, 0, 0)\",\"line\":{\"color\":\"red\"}},\"high\":[185.10000610351562],\"increasing\":{\"fillcolor\":\"rgba(255, 0, 0, 0)\",\"line\":{\"color\":\"red\"}},\"low\":[176.11000061035156],\"open\":[179.94000244140625],\"showlegend\":false,\"x\":[\"2023-04-10T00:00:00\"],\"type\":\"candlestick\",\"xaxis\":\"x\",\"yaxis\":\"y\"},{\"close\":[186.7899932861328],\"decreasing\":{\"fillcolor\":\"rgba(255, 0, 0, 0)\",\"line\":{\"color\":\"green\"}},\"high\":[189.19000244140625],\"increasing\":{\"fillcolor\":\"rgba(255, 0, 0, 0)\",\"line\":{\"color\":\"green\"}},\"low\":[185.64999389648438],\"open\":[186.69000244140625],\"showlegend\":false,\"x\":[\"2023-04-11T00:00:00\"],\"type\":\"candlestick\",\"xaxis\":\"x\",\"yaxis\":\"y\"},{\"close\":[180.5399932861328],\"decreasing\":{\"fillcolor\":\"red\",\"line\":{\"color\":\"red\"}},\"high\":[191.5800018310547],\"increasing\":{\"fillcolor\":\"red\",\"line\":{\"color\":\"red\"}},\"low\":[180.30999755859375],\"open\":[190.74000549316406],\"showlegend\":false,\"x\":[\"2023-04-12T00:00:00\"],\"type\":\"candlestick\",\"xaxis\":\"x\",\"yaxis\":\"y\"},{\"close\":[185.89999389648438],\"decreasing\":{\"fillcolor\":\"rgba(255, 0, 0, 0)\",\"line\":{\"color\":\"green\"}},\"high\":[186.5],\"increasing\":{\"fillcolor\":\"rgba(255, 0, 0, 0)\",\"line\":{\"color\":\"green\"}},\"low\":[180.94000244140625],\"open\":[182.9600067138672],\"showlegend\":false,\"x\":[\"2023-04-13T00:00:00\"],\"type\":\"candlestick\",\"xaxis\":\"x\",\"yaxis\":\"y\"},{\"close\":[185.0],\"decreasing\":{\"fillcolor\":\"rgba(255, 0, 0, 0)\",\"line\":{\"color\":\"red\"}},\"high\":[186.27999877929688],\"increasing\":{\"fillcolor\":\"rgba(255, 0, 0, 0)\",\"line\":{\"color\":\"red\"}},\"low\":[182.00999450683594],\"open\":[183.9499969482422],\"showlegend\":false,\"x\":[\"2023-04-14T00:00:00\"],\"type\":\"candlestick\",\"xaxis\":\"x\",\"yaxis\":\"y\"},{\"close\":[185.0],\"decreasing\":{\"fillcolor\":\"rgba(255, 0, 0, 0)\",\"line\":{\"color\":\"red\"}},\"high\":[186.27999877929688],\"increasing\":{\"fillcolor\":\"rgba(255, 0, 0, 0)\",\"line\":{\"color\":\"red\"}},\"low\":[182.00999450683594],\"open\":[183.9499969482422],\"showlegend\":false,\"x\":[\"2023-04-15T00:00:00\"],\"type\":\"candlestick\",\"xaxis\":\"x\",\"yaxis\":\"y\"},{\"close\":[185.0],\"decreasing\":{\"fillcolor\":\"rgba(255, 0, 0, 0)\",\"line\":{\"color\":\"red\"}},\"high\":[186.27999877929688],\"increasing\":{\"fillcolor\":\"rgba(255, 0, 0, 0)\",\"line\":{\"color\":\"red\"}},\"low\":[182.00999450683594],\"open\":[183.9499969482422],\"showlegend\":false,\"x\":[\"2023-04-16T00:00:00\"],\"type\":\"candlestick\",\"xaxis\":\"x\",\"yaxis\":\"y\"},{\"close\":[187.0399932861328],\"decreasing\":{\"fillcolor\":\"rgba(255, 0, 0, 0)\",\"line\":{\"color\":\"green\"}},\"high\":[189.69000244140625],\"increasing\":{\"fillcolor\":\"rgba(255, 0, 0, 0)\",\"line\":{\"color\":\"green\"}},\"low\":[182.69000244140625],\"open\":[186.32000732421875],\"showlegend\":false,\"x\":[\"2023-04-17T00:00:00\"],\"type\":\"candlestick\",\"xaxis\":\"x\",\"yaxis\":\"y\"},{\"close\":[184.30999755859375],\"decreasing\":{\"fillcolor\":\"red\",\"line\":{\"color\":\"red\"}},\"high\":[187.69000244140625],\"increasing\":{\"fillcolor\":\"red\",\"line\":{\"color\":\"red\"}},\"low\":[183.5800018310547],\"open\":[187.14999389648438],\"showlegend\":false,\"x\":[\"2023-04-18T00:00:00\"],\"type\":\"candlestick\",\"xaxis\":\"x\",\"yaxis\":\"y\"},{\"close\":[180.58999633789062],\"decreasing\":{\"fillcolor\":\"rgba(255, 0, 0, 0)\",\"line\":{\"color\":\"red\"}},\"high\":[183.5],\"increasing\":{\"fillcolor\":\"rgba(255, 0, 0, 0)\",\"line\":{\"color\":\"red\"}},\"low\":[177.64999389648438],\"open\":[179.10000610351562],\"showlegend\":false,\"x\":[\"2023-04-19T00:00:00\"],\"type\":\"candlestick\",\"xaxis\":\"x\",\"yaxis\":\"y\"},{\"close\":[162.99000549316406],\"decreasing\":{\"fillcolor\":\"red\",\"line\":{\"color\":\"red\"}},\"high\":[169.6999969482422],\"increasing\":{\"fillcolor\":\"red\",\"line\":{\"color\":\"red\"}},\"low\":[160.55999755859375],\"open\":[166.1699981689453],\"showlegend\":false,\"x\":[\"2023-04-20T00:00:00\"],\"type\":\"candlestick\",\"xaxis\":\"x\",\"yaxis\":\"y\"},{\"close\":[165.0800018310547],\"decreasing\":{\"fillcolor\":\"rgba(255, 0, 0, 0)\",\"line\":{\"color\":\"green\"}},\"high\":[166.0],\"increasing\":{\"fillcolor\":\"rgba(255, 0, 0, 0)\",\"line\":{\"color\":\"green\"}},\"low\":[161.32000732421875],\"open\":[164.8000030517578],\"showlegend\":false,\"x\":[\"2023-04-21T00:00:00\"],\"type\":\"candlestick\",\"xaxis\":\"x\",\"yaxis\":\"y\"},{\"close\":[165.0800018310547],\"decreasing\":{\"fillcolor\":\"rgba(255, 0, 0, 0)\",\"line\":{\"color\":\"red\"}},\"high\":[166.0],\"increasing\":{\"fillcolor\":\"rgba(255, 0, 0, 0)\",\"line\":{\"color\":\"red\"}},\"low\":[161.32000732421875],\"open\":[164.8000030517578],\"showlegend\":false,\"x\":[\"2023-04-22T00:00:00\"],\"type\":\"candlestick\",\"xaxis\":\"x\",\"yaxis\":\"y\"},{\"close\":[165.0800018310547],\"decreasing\":{\"fillcolor\":\"rgba(255, 0, 0, 0)\",\"line\":{\"color\":\"red\"}},\"high\":[166.0],\"increasing\":{\"fillcolor\":\"rgba(255, 0, 0, 0)\",\"line\":{\"color\":\"red\"}},\"low\":[161.32000732421875],\"open\":[164.8000030517578],\"showlegend\":false,\"x\":[\"2023-04-23T00:00:00\"],\"type\":\"candlestick\",\"xaxis\":\"x\",\"yaxis\":\"y\"},{\"close\":[162.5500030517578],\"decreasing\":{\"fillcolor\":\"red\",\"line\":{\"color\":\"red\"}},\"high\":[165.64999389648438],\"increasing\":{\"fillcolor\":\"red\",\"line\":{\"color\":\"red\"}},\"low\":[158.61000061035156],\"open\":[164.64999389648438],\"showlegend\":false,\"x\":[\"2023-04-24T00:00:00\"],\"type\":\"candlestick\",\"xaxis\":\"x\",\"yaxis\":\"y\"},{\"close\":[160.6699981689453],\"decreasing\":{\"fillcolor\":\"rgba(255, 0, 0, 0)\",\"line\":{\"color\":\"red\"}},\"high\":[163.47000122070312],\"increasing\":{\"fillcolor\":\"rgba(255, 0, 0, 0)\",\"line\":{\"color\":\"red\"}},\"low\":[158.75],\"open\":[159.82000732421875],\"showlegend\":false,\"x\":[\"2023-04-25T00:00:00\"],\"type\":\"candlestick\",\"xaxis\":\"x\",\"yaxis\":\"y\"},{\"close\":[153.75],\"decreasing\":{\"fillcolor\":\"red\",\"line\":{\"color\":\"red\"}},\"high\":[160.6699981689453],\"increasing\":{\"fillcolor\":\"red\",\"line\":{\"color\":\"red\"}},\"low\":[153.13999938964844],\"open\":[160.2899932861328],\"showlegend\":false,\"x\":[\"2023-04-26T00:00:00\"],\"type\":\"candlestick\",\"xaxis\":\"x\",\"yaxis\":\"y\"},{\"close\":[160.19000244140625],\"decreasing\":{\"fillcolor\":\"rgba(255, 0, 0, 0)\",\"line\":{\"color\":\"green\"}},\"high\":[160.47999572753906],\"increasing\":{\"fillcolor\":\"rgba(255, 0, 0, 0)\",\"line\":{\"color\":\"green\"}},\"low\":[152.3699951171875],\"open\":[152.63999938964844],\"showlegend\":false,\"x\":[\"2023-04-27T00:00:00\"],\"type\":\"candlestick\",\"xaxis\":\"x\",\"yaxis\":\"y\"},{\"close\":[164.30999755859375],\"decreasing\":{\"fillcolor\":\"rgba(255, 0, 0, 0)\",\"line\":{\"color\":\"green\"}},\"high\":[165.0],\"increasing\":{\"fillcolor\":\"rgba(255, 0, 0, 0)\",\"line\":{\"color\":\"green\"}},\"low\":[157.32000732421875],\"open\":[160.89999389648438],\"showlegend\":false,\"x\":[\"2023-04-28T00:00:00\"],\"type\":\"candlestick\",\"xaxis\":\"x\",\"yaxis\":\"y\"},{\"close\":[164.30999755859375],\"decreasing\":{\"fillcolor\":\"rgba(255, 0, 0, 0)\",\"line\":{\"color\":\"red\"}},\"high\":[165.0],\"increasing\":{\"fillcolor\":\"rgba(255, 0, 0, 0)\",\"line\":{\"color\":\"red\"}},\"low\":[157.32000732421875],\"open\":[160.89999389648438],\"showlegend\":false,\"x\":[\"2023-04-29T00:00:00\"],\"type\":\"candlestick\",\"xaxis\":\"x\",\"yaxis\":\"y\"},{\"close\":[164.30999755859375],\"decreasing\":{\"fillcolor\":\"rgba(255, 0, 0, 0)\",\"line\":{\"color\":\"red\"}},\"high\":[165.0],\"increasing\":{\"fillcolor\":\"rgba(255, 0, 0, 0)\",\"line\":{\"color\":\"red\"}},\"low\":[157.32000732421875],\"open\":[160.89999389648438],\"showlegend\":false,\"x\":[\"2023-04-30T00:00:00\"],\"type\":\"candlestick\",\"xaxis\":\"x\",\"yaxis\":\"y\"},{\"close\":[161.8300018310547],\"decreasing\":{\"fillcolor\":\"red\",\"line\":{\"color\":\"red\"}},\"high\":[163.27999877929688],\"increasing\":{\"fillcolor\":\"red\",\"line\":{\"color\":\"red\"}},\"low\":[158.8300018310547],\"open\":[163.1699981689453],\"showlegend\":false,\"x\":[\"2023-05-01T00:00:00\"],\"type\":\"candlestick\",\"xaxis\":\"x\",\"yaxis\":\"y\"},{\"close\":[160.30999755859375],\"decreasing\":{\"fillcolor\":\"red\",\"line\":{\"color\":\"red\"}},\"high\":[165.49000549316406],\"increasing\":{\"fillcolor\":\"red\",\"line\":{\"color\":\"red\"}},\"low\":[158.92999267578125],\"open\":[161.8800048828125],\"showlegend\":false,\"x\":[\"2023-05-02T00:00:00\"],\"type\":\"candlestick\",\"xaxis\":\"x\",\"yaxis\":\"y\"},{\"close\":[160.61000061035156],\"decreasing\":{\"fillcolor\":\"rgba(255, 0, 0, 0)\",\"line\":{\"color\":\"green\"}},\"high\":[165.0],\"increasing\":{\"fillcolor\":\"rgba(255, 0, 0, 0)\",\"line\":{\"color\":\"green\"}},\"low\":[159.91000366210938],\"open\":[160.00999450683594],\"showlegend\":false,\"x\":[\"2023-05-03T00:00:00\"],\"type\":\"candlestick\",\"xaxis\":\"x\",\"yaxis\":\"y\"},{\"close\":[161.1999969482422],\"decreasing\":{\"fillcolor\":\"green\",\"line\":{\"color\":\"green\"}},\"high\":[162.9499969482422],\"increasing\":{\"fillcolor\":\"green\",\"line\":{\"color\":\"green\"}},\"low\":[159.64999389648438],\"open\":[162.7100067138672],\"showlegend\":false,\"x\":[\"2023-05-04T00:00:00\"],\"type\":\"candlestick\",\"xaxis\":\"x\",\"yaxis\":\"y\"},{\"close\":[170.05999755859375],\"decreasing\":{\"fillcolor\":\"rgba(255, 0, 0, 0)\",\"line\":{\"color\":\"green\"}},\"high\":[170.7899932861328],\"increasing\":{\"fillcolor\":\"rgba(255, 0, 0, 0)\",\"line\":{\"color\":\"green\"}},\"low\":[163.50999450683594],\"open\":[163.97000122070312],\"showlegend\":false,\"x\":[\"2023-05-05T00:00:00\"],\"type\":\"candlestick\",\"xaxis\":\"x\",\"yaxis\":\"y\"},{\"close\":[170.05999755859375],\"decreasing\":{\"fillcolor\":\"rgba(255, 0, 0, 0)\",\"line\":{\"color\":\"red\"}},\"high\":[170.7899932861328],\"increasing\":{\"fillcolor\":\"rgba(255, 0, 0, 0)\",\"line\":{\"color\":\"red\"}},\"low\":[163.50999450683594],\"open\":[163.97000122070312],\"showlegend\":false,\"x\":[\"2023-05-06T00:00:00\"],\"type\":\"candlestick\",\"xaxis\":\"x\",\"yaxis\":\"y\"},{\"close\":[170.05999755859375],\"decreasing\":{\"fillcolor\":\"rgba(255, 0, 0, 0)\",\"line\":{\"color\":\"red\"}},\"high\":[170.7899932861328],\"increasing\":{\"fillcolor\":\"rgba(255, 0, 0, 0)\",\"line\":{\"color\":\"red\"}},\"low\":[163.50999450683594],\"open\":[163.97000122070312],\"showlegend\":false,\"x\":[\"2023-05-07T00:00:00\"],\"type\":\"candlestick\",\"xaxis\":\"x\",\"yaxis\":\"y\"},{\"close\":[171.7899932861328],\"decreasing\":{\"fillcolor\":\"green\",\"line\":{\"color\":\"green\"}},\"high\":[173.8000030517578],\"increasing\":{\"fillcolor\":\"green\",\"line\":{\"color\":\"green\"}},\"low\":[169.19000244140625],\"open\":[173.72000122070312],\"showlegend\":false,\"x\":[\"2023-05-08T00:00:00\"],\"type\":\"candlestick\",\"xaxis\":\"x\",\"yaxis\":\"y\"},{\"close\":[169.14999389648438],\"decreasing\":{\"fillcolor\":\"rgba(255, 0, 0, 0)\",\"line\":{\"color\":\"red\"}},\"high\":[169.82000732421875],\"increasing\":{\"fillcolor\":\"rgba(255, 0, 0, 0)\",\"line\":{\"color\":\"red\"}},\"low\":[166.55999755859375],\"open\":[168.9499969482422],\"showlegend\":false,\"x\":[\"2023-05-09T00:00:00\"],\"type\":\"candlestick\",\"xaxis\":\"x\",\"yaxis\":\"y\"},{\"close\":[168.5399932861328],\"decreasing\":{\"fillcolor\":\"red\",\"line\":{\"color\":\"red\"}},\"high\":[174.42999267578125],\"increasing\":{\"fillcolor\":\"red\",\"line\":{\"color\":\"red\"}},\"low\":[166.67999267578125],\"open\":[172.5500030517578],\"showlegend\":false,\"x\":[\"2023-05-10T00:00:00\"],\"type\":\"candlestick\",\"xaxis\":\"x\",\"yaxis\":\"y\"},{\"close\":[172.0800018310547],\"decreasing\":{\"fillcolor\":\"rgba(255, 0, 0, 0)\",\"line\":{\"color\":\"green\"}},\"high\":[173.57000732421875],\"increasing\":{\"fillcolor\":\"rgba(255, 0, 0, 0)\",\"line\":{\"color\":\"green\"}},\"low\":[166.7899932861328],\"open\":[168.6999969482422],\"showlegend\":false,\"x\":[\"2023-05-11T00:00:00\"],\"type\":\"candlestick\",\"xaxis\":\"x\",\"yaxis\":\"y\"},{\"close\":[167.97999572753906],\"decreasing\":{\"fillcolor\":\"red\",\"line\":{\"color\":\"red\"}},\"high\":[177.3800048828125],\"increasing\":{\"fillcolor\":\"red\",\"line\":{\"color\":\"red\"}},\"low\":[167.22999572753906],\"open\":[176.07000732421875],\"showlegend\":false,\"x\":[\"2023-05-12T00:00:00\"],\"type\":\"candlestick\",\"xaxis\":\"x\",\"yaxis\":\"y\"},{\"close\":[167.97999572753906],\"decreasing\":{\"fillcolor\":\"red\",\"line\":{\"color\":\"red\"}},\"high\":[177.3800048828125],\"increasing\":{\"fillcolor\":\"red\",\"line\":{\"color\":\"red\"}},\"low\":[167.22999572753906],\"open\":[176.07000732421875],\"showlegend\":false,\"x\":[\"2023-05-13T00:00:00\"],\"type\":\"candlestick\",\"xaxis\":\"x\",\"yaxis\":\"y\"},{\"close\":[167.97999572753906],\"decreasing\":{\"fillcolor\":\"red\",\"line\":{\"color\":\"red\"}},\"high\":[177.3800048828125],\"increasing\":{\"fillcolor\":\"red\",\"line\":{\"color\":\"red\"}},\"low\":[167.22999572753906],\"open\":[176.07000732421875],\"showlegend\":false,\"x\":[\"2023-05-14T00:00:00\"],\"type\":\"candlestick\",\"xaxis\":\"x\",\"yaxis\":\"y\"},{\"close\":[166.35000610351562],\"decreasing\":{\"fillcolor\":\"red\",\"line\":{\"color\":\"red\"}},\"high\":[169.75999450683594],\"increasing\":{\"fillcolor\":\"red\",\"line\":{\"color\":\"red\"}},\"low\":[164.5500030517578],\"open\":[167.66000366210938],\"showlegend\":false,\"x\":[\"2023-05-15T00:00:00\"],\"type\":\"candlestick\",\"xaxis\":\"x\",\"yaxis\":\"y\"},{\"close\":[166.52000427246094],\"decreasing\":{\"fillcolor\":\"rgba(255, 0, 0, 0)\",\"line\":{\"color\":\"green\"}},\"high\":[169.52000427246094],\"increasing\":{\"fillcolor\":\"rgba(255, 0, 0, 0)\",\"line\":{\"color\":\"green\"}},\"low\":[164.35000610351562],\"open\":[165.64999389648438],\"showlegend\":false,\"x\":[\"2023-05-16T00:00:00\"],\"type\":\"candlestick\",\"xaxis\":\"x\",\"yaxis\":\"y\"},{\"close\":[173.86000061035156],\"decreasing\":{\"fillcolor\":\"rgba(255, 0, 0, 0)\",\"line\":{\"color\":\"green\"}},\"high\":[174.5],\"increasing\":{\"fillcolor\":\"rgba(255, 0, 0, 0)\",\"line\":{\"color\":\"green\"}},\"low\":[167.19000244140625],\"open\":[168.41000366210938],\"showlegend\":false,\"x\":[\"2023-05-17T00:00:00\"],\"type\":\"candlestick\",\"xaxis\":\"x\",\"yaxis\":\"y\"},{\"close\":[176.88999938964844],\"decreasing\":{\"fillcolor\":\"rgba(255, 0, 0, 0)\",\"line\":{\"color\":\"green\"}},\"high\":[177.05999755859375],\"increasing\":{\"fillcolor\":\"rgba(255, 0, 0, 0)\",\"line\":{\"color\":\"green\"}},\"low\":[172.4499969482422],\"open\":[174.22000122070312],\"showlegend\":false,\"x\":[\"2023-05-18T00:00:00\"],\"type\":\"candlestick\",\"xaxis\":\"x\",\"yaxis\":\"y\"},{\"close\":[180.13999938964844],\"decreasing\":{\"fillcolor\":\"rgba(255, 0, 0, 0)\",\"line\":{\"color\":\"green\"}},\"high\":[181.9499969482422],\"increasing\":{\"fillcolor\":\"rgba(255, 0, 0, 0)\",\"line\":{\"color\":\"green\"}},\"low\":[176.30999755859375],\"open\":[177.1699981689453],\"showlegend\":false,\"x\":[\"2023-05-19T00:00:00\"],\"type\":\"candlestick\",\"xaxis\":\"x\",\"yaxis\":\"y\"},{\"close\":[180.13999938964844],\"decreasing\":{\"fillcolor\":\"rgba(255, 0, 0, 0)\",\"line\":{\"color\":\"red\"}},\"high\":[181.9499969482422],\"increasing\":{\"fillcolor\":\"rgba(255, 0, 0, 0)\",\"line\":{\"color\":\"red\"}},\"low\":[176.30999755859375],\"open\":[177.1699981689453],\"showlegend\":false,\"x\":[\"2023-05-20T00:00:00\"],\"type\":\"candlestick\",\"xaxis\":\"x\",\"yaxis\":\"y\"},{\"close\":[180.13999938964844],\"decreasing\":{\"fillcolor\":\"rgba(255, 0, 0, 0)\",\"line\":{\"color\":\"red\"}},\"high\":[181.9499969482422],\"increasing\":{\"fillcolor\":\"rgba(255, 0, 0, 0)\",\"line\":{\"color\":\"red\"}},\"low\":[176.30999755859375],\"open\":[177.1699981689453],\"showlegend\":false,\"x\":[\"2023-05-21T00:00:00\"],\"type\":\"candlestick\",\"xaxis\":\"x\",\"yaxis\":\"y\"},{\"close\":[188.8699951171875],\"decreasing\":{\"fillcolor\":\"rgba(255, 0, 0, 0)\",\"line\":{\"color\":\"green\"}},\"high\":[189.32000732421875],\"increasing\":{\"fillcolor\":\"rgba(255, 0, 0, 0)\",\"line\":{\"color\":\"green\"}},\"low\":[180.11000061035156],\"open\":[180.6999969482422],\"showlegend\":false,\"x\":[\"2023-05-22T00:00:00\"],\"type\":\"candlestick\",\"xaxis\":\"x\",\"yaxis\":\"y\"},{\"close\":[185.77000427246094],\"decreasing\":{\"fillcolor\":\"red\",\"line\":{\"color\":\"red\"}},\"high\":[192.9600067138672],\"increasing\":{\"fillcolor\":\"red\",\"line\":{\"color\":\"red\"}},\"low\":[185.25999450683594],\"open\":[186.1999969482422],\"showlegend\":false,\"x\":[\"2023-05-23T00:00:00\"],\"type\":\"candlestick\",\"xaxis\":\"x\",\"yaxis\":\"y\"},{\"close\":[182.89999389648438],\"decreasing\":{\"fillcolor\":\"rgba(255, 0, 0, 0)\",\"line\":{\"color\":\"red\"}},\"high\":[184.22000122070312],\"increasing\":{\"fillcolor\":\"rgba(255, 0, 0, 0)\",\"line\":{\"color\":\"red\"}},\"low\":[178.22000122070312],\"open\":[182.22999572753906],\"showlegend\":false,\"x\":[\"2023-05-24T00:00:00\"],\"type\":\"candlestick\",\"xaxis\":\"x\",\"yaxis\":\"y\"},{\"close\":[184.47000122070312],\"decreasing\":{\"fillcolor\":\"green\",\"line\":{\"color\":\"green\"}},\"high\":[186.77999877929688],\"increasing\":{\"fillcolor\":\"green\",\"line\":{\"color\":\"green\"}},\"low\":[180.5800018310547],\"open\":[186.5399932861328],\"showlegend\":false,\"x\":[\"2023-05-25T00:00:00\"],\"type\":\"candlestick\",\"xaxis\":\"x\",\"yaxis\":\"y\"},{\"close\":[193.1699981689453],\"decreasing\":{\"fillcolor\":\"rgba(255, 0, 0, 0)\",\"line\":{\"color\":\"green\"}},\"high\":[198.60000610351562],\"increasing\":{\"fillcolor\":\"rgba(255, 0, 0, 0)\",\"line\":{\"color\":\"green\"}},\"low\":[184.52999877929688],\"open\":[184.6199951171875],\"showlegend\":false,\"x\":[\"2023-05-26T00:00:00\"],\"type\":\"candlestick\",\"xaxis\":\"x\",\"yaxis\":\"y\"},{\"close\":[193.1699981689453],\"decreasing\":{\"fillcolor\":\"rgba(255, 0, 0, 0)\",\"line\":{\"color\":\"red\"}},\"high\":[198.60000610351562],\"increasing\":{\"fillcolor\":\"rgba(255, 0, 0, 0)\",\"line\":{\"color\":\"red\"}},\"low\":[184.52999877929688],\"open\":[184.6199951171875],\"showlegend\":false,\"x\":[\"2023-05-27T00:00:00\"],\"type\":\"candlestick\",\"xaxis\":\"x\",\"yaxis\":\"y\"},{\"close\":[193.1699981689453],\"decreasing\":{\"fillcolor\":\"rgba(255, 0, 0, 0)\",\"line\":{\"color\":\"red\"}},\"high\":[198.60000610351562],\"increasing\":{\"fillcolor\":\"rgba(255, 0, 0, 0)\",\"line\":{\"color\":\"red\"}},\"low\":[184.52999877929688],\"open\":[184.6199951171875],\"showlegend\":false,\"x\":[\"2023-05-28T00:00:00\"],\"type\":\"candlestick\",\"xaxis\":\"x\",\"yaxis\":\"y\"},{\"close\":[193.1699981689453],\"decreasing\":{\"fillcolor\":\"rgba(255, 0, 0, 0)\",\"line\":{\"color\":\"red\"}},\"high\":[198.60000610351562],\"increasing\":{\"fillcolor\":\"rgba(255, 0, 0, 0)\",\"line\":{\"color\":\"red\"}},\"low\":[184.52999877929688],\"open\":[184.6199951171875],\"showlegend\":false,\"x\":[\"2023-05-29T00:00:00\"],\"type\":\"candlestick\",\"xaxis\":\"x\",\"yaxis\":\"y\"},{\"close\":[201.16000366210938],\"decreasing\":{\"fillcolor\":\"rgba(255, 0, 0, 0)\",\"line\":{\"color\":\"green\"}},\"high\":[204.47999572753906],\"increasing\":{\"fillcolor\":\"rgba(255, 0, 0, 0)\",\"line\":{\"color\":\"green\"}},\"low\":[197.52999877929688],\"open\":[200.10000610351562],\"showlegend\":false,\"x\":[\"2023-05-30T00:00:00\"],\"type\":\"candlestick\",\"xaxis\":\"x\",\"yaxis\":\"y\"},{\"close\":[203.92999267578125],\"decreasing\":{\"fillcolor\":\"rgba(255, 0, 0, 0)\",\"line\":{\"color\":\"green\"}},\"high\":[203.9499969482422],\"increasing\":{\"fillcolor\":\"rgba(255, 0, 0, 0)\",\"line\":{\"color\":\"green\"}},\"low\":[195.1199951171875],\"open\":[199.77999877929688],\"showlegend\":false,\"x\":[\"2023-05-31T00:00:00\"],\"type\":\"candlestick\",\"xaxis\":\"x\",\"yaxis\":\"y\"},{\"close\":[207.52000427246094],\"decreasing\":{\"fillcolor\":\"rgba(255, 0, 0, 0)\",\"line\":{\"color\":\"green\"}},\"high\":[209.8000030517578],\"increasing\":{\"fillcolor\":\"rgba(255, 0, 0, 0)\",\"line\":{\"color\":\"green\"}},\"low\":[199.3699951171875],\"open\":[202.58999633789062],\"showlegend\":false,\"x\":[\"2023-06-01T00:00:00\"],\"type\":\"candlestick\",\"xaxis\":\"x\",\"yaxis\":\"y\"},{\"close\":[213.97000122070312],\"decreasing\":{\"fillcolor\":\"rgba(255, 0, 0, 0)\",\"line\":{\"color\":\"green\"}},\"high\":[217.25],\"increasing\":{\"fillcolor\":\"rgba(255, 0, 0, 0)\",\"line\":{\"color\":\"green\"}},\"low\":[209.75],\"open\":[210.14999389648438],\"showlegend\":false,\"x\":[\"2023-06-02T00:00:00\"],\"type\":\"candlestick\",\"xaxis\":\"x\",\"yaxis\":\"y\"},{\"close\":[213.97000122070312],\"decreasing\":{\"fillcolor\":\"rgba(255, 0, 0, 0)\",\"line\":{\"color\":\"red\"}},\"high\":[217.25],\"increasing\":{\"fillcolor\":\"rgba(255, 0, 0, 0)\",\"line\":{\"color\":\"red\"}},\"low\":[209.75],\"open\":[210.14999389648438],\"showlegend\":false,\"x\":[\"2023-06-03T00:00:00\"],\"type\":\"candlestick\",\"xaxis\":\"x\",\"yaxis\":\"y\"},{\"close\":[213.97000122070312],\"decreasing\":{\"fillcolor\":\"rgba(255, 0, 0, 0)\",\"line\":{\"color\":\"red\"}},\"high\":[217.25],\"increasing\":{\"fillcolor\":\"rgba(255, 0, 0, 0)\",\"line\":{\"color\":\"red\"}},\"low\":[209.75],\"open\":[210.14999389648438],\"showlegend\":false,\"x\":[\"2023-06-04T00:00:00\"],\"type\":\"candlestick\",\"xaxis\":\"x\",\"yaxis\":\"y\"},{\"close\":[217.61000061035156],\"decreasing\":{\"fillcolor\":\"green\",\"line\":{\"color\":\"green\"}},\"high\":[221.2899932861328],\"increasing\":{\"fillcolor\":\"green\",\"line\":{\"color\":\"green\"}},\"low\":[214.52000427246094],\"open\":[217.8000030517578],\"showlegend\":false,\"x\":[\"2023-06-05T00:00:00\"],\"type\":\"candlestick\",\"xaxis\":\"x\",\"yaxis\":\"y\"},{\"close\":[221.30999755859375],\"decreasing\":{\"fillcolor\":\"rgba(255, 0, 0, 0)\",\"line\":{\"color\":\"green\"}},\"high\":[221.91000366210938],\"increasing\":{\"fillcolor\":\"rgba(255, 0, 0, 0)\",\"line\":{\"color\":\"green\"}},\"low\":[212.52999877929688],\"open\":[216.13999938964844],\"showlegend\":false,\"x\":[\"2023-06-06T00:00:00\"],\"type\":\"candlestick\",\"xaxis\":\"x\",\"yaxis\":\"y\"},{\"close\":[224.57000732421875],\"decreasing\":{\"fillcolor\":\"green\",\"line\":{\"color\":\"green\"}},\"high\":[230.8300018310547],\"increasing\":{\"fillcolor\":\"green\",\"line\":{\"color\":\"green\"}},\"low\":[223.1999969482422],\"open\":[228.0],\"showlegend\":false,\"x\":[\"2023-06-07T00:00:00\"],\"type\":\"candlestick\",\"xaxis\":\"x\",\"yaxis\":\"y\"},{\"close\":[234.86000061035156],\"decreasing\":{\"fillcolor\":\"rgba(255, 0, 0, 0)\",\"line\":{\"color\":\"green\"}},\"high\":[235.22999572753906],\"increasing\":{\"fillcolor\":\"rgba(255, 0, 0, 0)\",\"line\":{\"color\":\"green\"}},\"low\":[223.00999450683594],\"open\":[224.22000122070312],\"showlegend\":false,\"x\":[\"2023-06-08T00:00:00\"],\"type\":\"candlestick\",\"xaxis\":\"x\",\"yaxis\":\"y\"},{\"close\":[244.39999389648438],\"decreasing\":{\"fillcolor\":\"green\",\"line\":{\"color\":\"green\"}},\"high\":[252.4199981689453],\"increasing\":{\"fillcolor\":\"green\",\"line\":{\"color\":\"green\"}},\"low\":[242.02000427246094],\"open\":[249.07000732421875],\"showlegend\":false,\"x\":[\"2023-06-09T00:00:00\"],\"type\":\"candlestick\",\"xaxis\":\"x\",\"yaxis\":\"y\"},{\"close\":[244.39999389648438],\"decreasing\":{\"fillcolor\":\"red\",\"line\":{\"color\":\"red\"}},\"high\":[252.4199981689453],\"increasing\":{\"fillcolor\":\"red\",\"line\":{\"color\":\"red\"}},\"low\":[242.02000427246094],\"open\":[249.07000732421875],\"showlegend\":false,\"x\":[\"2023-06-10T00:00:00\"],\"type\":\"candlestick\",\"xaxis\":\"x\",\"yaxis\":\"y\"},{\"close\":[244.39999389648438],\"decreasing\":{\"fillcolor\":\"red\",\"line\":{\"color\":\"red\"}},\"high\":[252.4199981689453],\"increasing\":{\"fillcolor\":\"red\",\"line\":{\"color\":\"red\"}},\"low\":[242.02000427246094],\"open\":[249.07000732421875],\"showlegend\":false,\"x\":[\"2023-06-11T00:00:00\"],\"type\":\"candlestick\",\"xaxis\":\"x\",\"yaxis\":\"y\"},{\"close\":[249.8300018310547],\"decreasing\":{\"fillcolor\":\"rgba(255, 0, 0, 0)\",\"line\":{\"color\":\"green\"}},\"high\":[250.97000122070312],\"increasing\":{\"fillcolor\":\"rgba(255, 0, 0, 0)\",\"line\":{\"color\":\"green\"}},\"low\":[244.58999633789062],\"open\":[247.94000244140625],\"showlegend\":false,\"x\":[\"2023-06-12T00:00:00\"],\"type\":\"candlestick\",\"xaxis\":\"x\",\"yaxis\":\"y\"},{\"close\":[258.7099914550781],\"decreasing\":{\"fillcolor\":\"rgba(255, 0, 0, 0)\",\"line\":{\"color\":\"green\"}},\"high\":[259.67999267578125],\"increasing\":{\"fillcolor\":\"rgba(255, 0, 0, 0)\",\"line\":{\"color\":\"green\"}},\"low\":[251.33999633789062],\"open\":[253.50999450683594],\"showlegend\":false,\"x\":[\"2023-06-13T00:00:00\"],\"type\":\"candlestick\",\"xaxis\":\"x\",\"yaxis\":\"y\"},{\"close\":[256.7900085449219],\"decreasing\":{\"fillcolor\":\"red\",\"line\":{\"color\":\"red\"}},\"high\":[261.57000732421875],\"increasing\":{\"fillcolor\":\"red\",\"line\":{\"color\":\"red\"}},\"low\":[250.5],\"open\":[260.1700134277344],\"showlegend\":false,\"x\":[\"2023-06-14T00:00:00\"],\"type\":\"candlestick\",\"xaxis\":\"x\",\"yaxis\":\"y\"},{\"close\":[255.89999389648438],\"decreasing\":{\"fillcolor\":\"rgba(255, 0, 0, 0)\",\"line\":{\"color\":\"red\"}},\"high\":[258.95001220703125],\"increasing\":{\"fillcolor\":\"rgba(255, 0, 0, 0)\",\"line\":{\"color\":\"red\"}},\"low\":[247.2899932861328],\"open\":[248.39999389648438],\"showlegend\":false,\"x\":[\"2023-06-15T00:00:00\"],\"type\":\"candlestick\",\"xaxis\":\"x\",\"yaxis\":\"y\"},{\"close\":[260.5400085449219],\"decreasing\":{\"fillcolor\":\"rgba(255, 0, 0, 0)\",\"line\":{\"color\":\"green\"}},\"high\":[263.6000061035156],\"increasing\":{\"fillcolor\":\"rgba(255, 0, 0, 0)\",\"line\":{\"color\":\"green\"}},\"low\":[257.2099914550781],\"open\":[258.9200134277344],\"showlegend\":false,\"x\":[\"2023-06-16T00:00:00\"],\"type\":\"candlestick\",\"xaxis\":\"x\",\"yaxis\":\"y\"},{\"close\":[260.5400085449219],\"decreasing\":{\"fillcolor\":\"rgba(255, 0, 0, 0)\",\"line\":{\"color\":\"red\"}},\"high\":[263.6000061035156],\"increasing\":{\"fillcolor\":\"rgba(255, 0, 0, 0)\",\"line\":{\"color\":\"red\"}},\"low\":[257.2099914550781],\"open\":[258.9200134277344],\"showlegend\":false,\"x\":[\"2023-06-17T00:00:00\"],\"type\":\"candlestick\",\"xaxis\":\"x\",\"yaxis\":\"y\"},{\"close\":[260.5400085449219],\"decreasing\":{\"fillcolor\":\"rgba(255, 0, 0, 0)\",\"line\":{\"color\":\"red\"}},\"high\":[263.6000061035156],\"increasing\":{\"fillcolor\":\"rgba(255, 0, 0, 0)\",\"line\":{\"color\":\"red\"}},\"low\":[257.2099914550781],\"open\":[258.9200134277344],\"showlegend\":false,\"x\":[\"2023-06-18T00:00:00\"],\"type\":\"candlestick\",\"xaxis\":\"x\",\"yaxis\":\"y\"},{\"close\":[260.5400085449219],\"decreasing\":{\"fillcolor\":\"rgba(255, 0, 0, 0)\",\"line\":{\"color\":\"red\"}},\"high\":[263.6000061035156],\"increasing\":{\"fillcolor\":\"rgba(255, 0, 0, 0)\",\"line\":{\"color\":\"red\"}},\"low\":[257.2099914550781],\"open\":[258.9200134277344],\"showlegend\":false,\"x\":[\"2023-06-19T00:00:00\"],\"type\":\"candlestick\",\"xaxis\":\"x\",\"yaxis\":\"y\"},{\"close\":[274.45001220703125],\"decreasing\":{\"fillcolor\":\"rgba(255, 0, 0, 0)\",\"line\":{\"color\":\"green\"}},\"high\":[274.75],\"increasing\":{\"fillcolor\":\"rgba(255, 0, 0, 0)\",\"line\":{\"color\":\"green\"}},\"low\":[261.1199951171875],\"open\":[261.5],\"showlegend\":false,\"x\":[\"2023-06-20T00:00:00\"],\"type\":\"candlestick\",\"xaxis\":\"x\",\"yaxis\":\"y\"},{\"close\":[259.4599914550781],\"decreasing\":{\"fillcolor\":\"red\",\"line\":{\"color\":\"red\"}},\"high\":[276.989990234375],\"increasing\":{\"fillcolor\":\"red\",\"line\":{\"color\":\"red\"}},\"low\":[257.7799987792969],\"open\":[275.1300048828125],\"showlegend\":false,\"x\":[\"2023-06-21T00:00:00\"],\"type\":\"candlestick\",\"xaxis\":\"x\",\"yaxis\":\"y\"},{\"close\":[264.6099853515625],\"decreasing\":{\"fillcolor\":\"rgba(255, 0, 0, 0)\",\"line\":{\"color\":\"green\"}},\"high\":[265.0],\"increasing\":{\"fillcolor\":\"rgba(255, 0, 0, 0)\",\"line\":{\"color\":\"green\"}},\"low\":[248.25],\"open\":[250.77000427246094],\"showlegend\":false,\"x\":[\"2023-06-22T00:00:00\"],\"type\":\"candlestick\",\"xaxis\":\"x\",\"yaxis\":\"y\"},{\"close\":[256.6000061035156],\"decreasing\":{\"fillcolor\":\"red\",\"line\":{\"color\":\"red\"}},\"high\":[262.45001220703125],\"increasing\":{\"fillcolor\":\"red\",\"line\":{\"color\":\"red\"}},\"low\":[252.8000030517578],\"open\":[259.2900085449219],\"showlegend\":false,\"x\":[\"2023-06-23T00:00:00\"],\"type\":\"candlestick\",\"xaxis\":\"x\",\"yaxis\":\"y\"},{\"close\":[256.6000061035156],\"decreasing\":{\"fillcolor\":\"red\",\"line\":{\"color\":\"red\"}},\"high\":[262.45001220703125],\"increasing\":{\"fillcolor\":\"red\",\"line\":{\"color\":\"red\"}},\"low\":[252.8000030517578],\"open\":[259.2900085449219],\"showlegend\":false,\"x\":[\"2023-06-24T00:00:00\"],\"type\":\"candlestick\",\"xaxis\":\"x\",\"yaxis\":\"y\"},{\"close\":[256.6000061035156],\"decreasing\":{\"fillcolor\":\"red\",\"line\":{\"color\":\"red\"}},\"high\":[262.45001220703125],\"increasing\":{\"fillcolor\":\"red\",\"line\":{\"color\":\"red\"}},\"low\":[252.8000030517578],\"open\":[259.2900085449219],\"showlegend\":false,\"x\":[\"2023-06-25T00:00:00\"],\"type\":\"candlestick\",\"xaxis\":\"x\",\"yaxis\":\"y\"},{\"close\":[241.0500030517578],\"decreasing\":{\"fillcolor\":\"red\",\"line\":{\"color\":\"red\"}},\"high\":[258.3699951171875],\"increasing\":{\"fillcolor\":\"red\",\"line\":{\"color\":\"red\"}},\"low\":[240.6999969482422],\"open\":[250.07000732421875],\"showlegend\":false,\"x\":[\"2023-06-26T00:00:00\"],\"type\":\"candlestick\",\"xaxis\":\"x\",\"yaxis\":\"y\"},{\"close\":[250.2100067138672],\"decreasing\":{\"fillcolor\":\"rgba(255, 0, 0, 0)\",\"line\":{\"color\":\"green\"}},\"high\":[250.38999938964844],\"increasing\":{\"fillcolor\":\"rgba(255, 0, 0, 0)\",\"line\":{\"color\":\"green\"}},\"low\":[240.85000610351562],\"open\":[243.24000549316406],\"showlegend\":false,\"x\":[\"2023-06-27T00:00:00\"],\"type\":\"candlestick\",\"xaxis\":\"x\",\"yaxis\":\"y\"},{\"close\":[256.239990234375],\"decreasing\":{\"fillcolor\":\"rgba(255, 0, 0, 0)\",\"line\":{\"color\":\"green\"}},\"high\":[259.8800048828125],\"increasing\":{\"fillcolor\":\"rgba(255, 0, 0, 0)\",\"line\":{\"color\":\"green\"}},\"low\":[248.88999938964844],\"open\":[249.6999969482422],\"showlegend\":false,\"x\":[\"2023-06-28T00:00:00\"],\"type\":\"candlestick\",\"xaxis\":\"x\",\"yaxis\":\"y\"},{\"close\":[257.5],\"decreasing\":{\"fillcolor\":\"green\",\"line\":{\"color\":\"green\"}},\"high\":[260.739990234375],\"increasing\":{\"fillcolor\":\"green\",\"line\":{\"color\":\"green\"}},\"low\":[253.61000061035156],\"open\":[258.0299987792969],\"showlegend\":false,\"x\":[\"2023-06-29T00:00:00\"],\"type\":\"candlestick\",\"xaxis\":\"x\",\"yaxis\":\"y\"},{\"close\":[261.7699890136719],\"decreasing\":{\"fillcolor\":\"rgba(255, 0, 0, 0)\",\"line\":{\"color\":\"green\"}},\"high\":[264.45001220703125],\"increasing\":{\"fillcolor\":\"rgba(255, 0, 0, 0)\",\"line\":{\"color\":\"green\"}},\"low\":[259.8900146484375],\"open\":[260.6000061035156],\"showlegend\":false,\"x\":[\"2023-06-30T00:00:00\"],\"type\":\"candlestick\",\"xaxis\":\"x\",\"yaxis\":\"y\"},{\"close\":[261.7699890136719],\"decreasing\":{\"fillcolor\":\"rgba(255, 0, 0, 0)\",\"line\":{\"color\":\"red\"}},\"high\":[264.45001220703125],\"increasing\":{\"fillcolor\":\"rgba(255, 0, 0, 0)\",\"line\":{\"color\":\"red\"}},\"low\":[259.8900146484375],\"open\":[260.6000061035156],\"showlegend\":false,\"x\":[\"2023-07-01T00:00:00\"],\"type\":\"candlestick\",\"xaxis\":\"x\",\"yaxis\":\"y\"},{\"close\":[261.7699890136719],\"decreasing\":{\"fillcolor\":\"rgba(255, 0, 0, 0)\",\"line\":{\"color\":\"red\"}},\"high\":[264.45001220703125],\"increasing\":{\"fillcolor\":\"rgba(255, 0, 0, 0)\",\"line\":{\"color\":\"red\"}},\"low\":[259.8900146484375],\"open\":[260.6000061035156],\"showlegend\":false,\"x\":[\"2023-07-02T00:00:00\"],\"type\":\"candlestick\",\"xaxis\":\"x\",\"yaxis\":\"y\"},{\"close\":[279.82000732421875],\"decreasing\":{\"fillcolor\":\"rgba(255, 0, 0, 0)\",\"line\":{\"color\":\"green\"}},\"high\":[284.25],\"increasing\":{\"fillcolor\":\"rgba(255, 0, 0, 0)\",\"line\":{\"color\":\"green\"}},\"low\":[275.1099853515625],\"open\":[276.489990234375],\"showlegend\":false,\"x\":[\"2023-07-03T00:00:00\"],\"type\":\"candlestick\",\"xaxis\":\"x\",\"yaxis\":\"y\"},{\"close\":[279.82000732421875],\"decreasing\":{\"fillcolor\":\"rgba(255, 0, 0, 0)\",\"line\":{\"color\":\"red\"}},\"high\":[284.25],\"increasing\":{\"fillcolor\":\"rgba(255, 0, 0, 0)\",\"line\":{\"color\":\"red\"}},\"low\":[275.1099853515625],\"open\":[276.489990234375],\"showlegend\":false,\"x\":[\"2023-07-04T00:00:00\"],\"type\":\"candlestick\",\"xaxis\":\"x\",\"yaxis\":\"y\"},{\"close\":[282.4800109863281],\"decreasing\":{\"fillcolor\":\"rgba(255, 0, 0, 0)\",\"line\":{\"color\":\"green\"}},\"high\":[283.8500061035156],\"increasing\":{\"fillcolor\":\"rgba(255, 0, 0, 0)\",\"line\":{\"color\":\"green\"}},\"low\":[277.6000061035156],\"open\":[278.82000732421875],\"showlegend\":false,\"x\":[\"2023-07-05T00:00:00\"],\"type\":\"candlestick\",\"xaxis\":\"x\",\"yaxis\":\"y\"},{\"close\":[276.5400085449219],\"decreasing\":{\"fillcolor\":\"red\",\"line\":{\"color\":\"red\"}},\"high\":[279.9700012207031],\"increasing\":{\"fillcolor\":\"red\",\"line\":{\"color\":\"red\"}},\"low\":[272.8800048828125],\"open\":[278.0899963378906],\"showlegend\":false,\"x\":[\"2023-07-06T00:00:00\"],\"type\":\"candlestick\",\"xaxis\":\"x\",\"yaxis\":\"y\"},{\"close\":[274.42999267578125],\"decreasing\":{\"fillcolor\":\"red\",\"line\":{\"color\":\"red\"}},\"high\":[280.7799987792969],\"increasing\":{\"fillcolor\":\"red\",\"line\":{\"color\":\"red\"}},\"low\":[273.7699890136719],\"open\":[278.42999267578125],\"showlegend\":false,\"x\":[\"2023-07-07T00:00:00\"],\"type\":\"candlestick\",\"xaxis\":\"x\",\"yaxis\":\"y\"},{\"close\":[274.42999267578125],\"decreasing\":{\"fillcolor\":\"red\",\"line\":{\"color\":\"red\"}},\"high\":[280.7799987792969],\"increasing\":{\"fillcolor\":\"red\",\"line\":{\"color\":\"red\"}},\"low\":[273.7699890136719],\"open\":[278.42999267578125],\"showlegend\":false,\"x\":[\"2023-07-08T00:00:00\"],\"type\":\"candlestick\",\"xaxis\":\"x\",\"yaxis\":\"y\"},{\"close\":[274.42999267578125],\"decreasing\":{\"fillcolor\":\"red\",\"line\":{\"color\":\"red\"}},\"high\":[280.7799987792969],\"increasing\":{\"fillcolor\":\"red\",\"line\":{\"color\":\"red\"}},\"low\":[273.7699890136719],\"open\":[278.42999267578125],\"showlegend\":false,\"x\":[\"2023-07-09T00:00:00\"],\"type\":\"candlestick\",\"xaxis\":\"x\",\"yaxis\":\"y\"},{\"close\":[269.6099853515625],\"decreasing\":{\"fillcolor\":\"red\",\"line\":{\"color\":\"red\"}},\"high\":[277.5199890136719],\"increasing\":{\"fillcolor\":\"red\",\"line\":{\"color\":\"red\"}},\"low\":[265.1000061035156],\"open\":[276.4700012207031],\"showlegend\":false,\"x\":[\"2023-07-10T00:00:00\"],\"type\":\"candlestick\",\"xaxis\":\"x\",\"yaxis\":\"y\"},{\"close\":[269.7900085449219],\"decreasing\":{\"fillcolor\":\"rgba(255, 0, 0, 0)\",\"line\":{\"color\":\"green\"}},\"high\":[270.8999938964844],\"increasing\":{\"fillcolor\":\"rgba(255, 0, 0, 0)\",\"line\":{\"color\":\"green\"}},\"low\":[266.3699951171875],\"open\":[268.6499938964844],\"showlegend\":false,\"x\":[\"2023-07-11T00:00:00\"],\"type\":\"candlestick\",\"xaxis\":\"x\",\"yaxis\":\"y\"},{\"close\":[271.989990234375],\"decreasing\":{\"fillcolor\":\"green\",\"line\":{\"color\":\"green\"}},\"high\":[276.5199890136719],\"increasing\":{\"fillcolor\":\"green\",\"line\":{\"color\":\"green\"}},\"low\":[271.4599914550781],\"open\":[276.3299865722656],\"showlegend\":false,\"x\":[\"2023-07-12T00:00:00\"],\"type\":\"candlestick\",\"xaxis\":\"x\",\"yaxis\":\"y\"},{\"close\":[277.8999938964844],\"decreasing\":{\"fillcolor\":\"rgba(255, 0, 0, 0)\",\"line\":{\"color\":\"green\"}},\"high\":[279.45001220703125],\"increasing\":{\"fillcolor\":\"rgba(255, 0, 0, 0)\",\"line\":{\"color\":\"green\"}},\"low\":[270.6000061035156],\"open\":[274.5899963378906],\"showlegend\":false,\"x\":[\"2023-07-13T00:00:00\"],\"type\":\"candlestick\",\"xaxis\":\"x\",\"yaxis\":\"y\"},{\"close\":[281.3800048828125],\"decreasing\":{\"fillcolor\":\"rgba(255, 0, 0, 0)\",\"line\":{\"color\":\"green\"}},\"high\":[285.29998779296875],\"increasing\":{\"fillcolor\":\"rgba(255, 0, 0, 0)\",\"line\":{\"color\":\"green\"}},\"low\":[276.30999755859375],\"open\":[277.010009765625],\"showlegend\":false,\"x\":[\"2023-07-14T00:00:00\"],\"type\":\"candlestick\",\"xaxis\":\"x\",\"yaxis\":\"y\"},{\"close\":[281.3800048828125],\"decreasing\":{\"fillcolor\":\"rgba(255, 0, 0, 0)\",\"line\":{\"color\":\"red\"}},\"high\":[285.29998779296875],\"increasing\":{\"fillcolor\":\"rgba(255, 0, 0, 0)\",\"line\":{\"color\":\"red\"}},\"low\":[276.30999755859375],\"open\":[277.010009765625],\"showlegend\":false,\"x\":[\"2023-07-15T00:00:00\"],\"type\":\"candlestick\",\"xaxis\":\"x\",\"yaxis\":\"y\"},{\"close\":[281.3800048828125],\"decreasing\":{\"fillcolor\":\"rgba(255, 0, 0, 0)\",\"line\":{\"color\":\"red\"}},\"high\":[285.29998779296875],\"increasing\":{\"fillcolor\":\"rgba(255, 0, 0, 0)\",\"line\":{\"color\":\"red\"}},\"low\":[276.30999755859375],\"open\":[277.010009765625],\"showlegend\":false,\"x\":[\"2023-07-16T00:00:00\"],\"type\":\"candlestick\",\"xaxis\":\"x\",\"yaxis\":\"y\"},{\"close\":[290.3800048828125],\"decreasing\":{\"fillcolor\":\"rgba(255, 0, 0, 0)\",\"line\":{\"color\":\"green\"}},\"high\":[292.2300109863281],\"increasing\":{\"fillcolor\":\"rgba(255, 0, 0, 0)\",\"line\":{\"color\":\"green\"}},\"low\":[283.57000732421875],\"open\":[286.6300048828125],\"showlegend\":false,\"x\":[\"2023-07-17T00:00:00\"],\"type\":\"candlestick\",\"xaxis\":\"x\",\"yaxis\":\"y\"},{\"close\":[293.3399963378906],\"decreasing\":{\"fillcolor\":\"rgba(255, 0, 0, 0)\",\"line\":{\"color\":\"green\"}},\"high\":[295.260009765625],\"increasing\":{\"fillcolor\":\"rgba(255, 0, 0, 0)\",\"line\":{\"color\":\"green\"}},\"low\":[286.010009765625],\"open\":[290.1499938964844],\"showlegend\":false,\"x\":[\"2023-07-18T00:00:00\"],\"type\":\"candlestick\",\"xaxis\":\"x\",\"yaxis\":\"y\"},{\"close\":[291.260009765625],\"decreasing\":{\"fillcolor\":\"red\",\"line\":{\"color\":\"red\"}},\"high\":[299.2900085449219],\"increasing\":{\"fillcolor\":\"red\",\"line\":{\"color\":\"red\"}},\"low\":[289.5199890136719],\"open\":[296.0400085449219],\"showlegend\":false,\"x\":[\"2023-07-19T00:00:00\"],\"type\":\"candlestick\",\"xaxis\":\"x\",\"yaxis\":\"y\"},{\"marker\":{\"color\":\"orange\"},\"mode\":\"lines\",\"name\":\"RSI\",\"x\":[\"2023-01-03T00:00:00\",\"2023-01-04T00:00:00\",\"2023-01-05T00:00:00\",\"2023-01-06T00:00:00\",\"2023-01-07T00:00:00\",\"2023-01-08T00:00:00\",\"2023-01-09T00:00:00\",\"2023-01-10T00:00:00\",\"2023-01-11T00:00:00\",\"2023-01-12T00:00:00\",\"2023-01-13T00:00:00\",\"2023-01-14T00:00:00\",\"2023-01-15T00:00:00\",\"2023-01-16T00:00:00\",\"2023-01-17T00:00:00\",\"2023-01-18T00:00:00\",\"2023-01-19T00:00:00\",\"2023-01-20T00:00:00\",\"2023-01-21T00:00:00\",\"2023-01-22T00:00:00\",\"2023-01-23T00:00:00\",\"2023-01-24T00:00:00\",\"2023-01-25T00:00:00\",\"2023-01-26T00:00:00\",\"2023-01-27T00:00:00\",\"2023-01-28T00:00:00\",\"2023-01-29T00:00:00\",\"2023-01-30T00:00:00\",\"2023-01-31T00:00:00\",\"2023-02-01T00:00:00\",\"2023-02-02T00:00:00\",\"2023-02-03T00:00:00\",\"2023-02-04T00:00:00\",\"2023-02-05T00:00:00\",\"2023-02-06T00:00:00\",\"2023-02-07T00:00:00\",\"2023-02-08T00:00:00\",\"2023-02-09T00:00:00\",\"2023-02-10T00:00:00\",\"2023-02-11T00:00:00\",\"2023-02-12T00:00:00\",\"2023-02-13T00:00:00\",\"2023-02-14T00:00:00\",\"2023-02-15T00:00:00\",\"2023-02-16T00:00:00\",\"2023-02-17T00:00:00\",\"2023-02-18T00:00:00\",\"2023-02-19T00:00:00\",\"2023-02-20T00:00:00\",\"2023-02-21T00:00:00\",\"2023-02-22T00:00:00\",\"2023-02-23T00:00:00\",\"2023-02-24T00:00:00\",\"2023-02-25T00:00:00\",\"2023-02-26T00:00:00\",\"2023-02-27T00:00:00\",\"2023-02-28T00:00:00\",\"2023-03-01T00:00:00\",\"2023-03-02T00:00:00\",\"2023-03-03T00:00:00\",\"2023-03-04T00:00:00\",\"2023-03-05T00:00:00\",\"2023-03-06T00:00:00\",\"2023-03-07T00:00:00\",\"2023-03-08T00:00:00\",\"2023-03-09T00:00:00\",\"2023-03-10T00:00:00\",\"2023-03-11T00:00:00\",\"2023-03-12T00:00:00\",\"2023-03-13T00:00:00\",\"2023-03-14T00:00:00\",\"2023-03-15T00:00:00\",\"2023-03-16T00:00:00\",\"2023-03-17T00:00:00\",\"2023-03-18T00:00:00\",\"2023-03-19T00:00:00\",\"2023-03-20T00:00:00\",\"2023-03-21T00:00:00\",\"2023-03-22T00:00:00\",\"2023-03-23T00:00:00\",\"2023-03-24T00:00:00\",\"2023-03-25T00:00:00\",\"2023-03-26T00:00:00\",\"2023-03-27T00:00:00\",\"2023-03-28T00:00:00\",\"2023-03-29T00:00:00\",\"2023-03-30T00:00:00\",\"2023-03-31T00:00:00\",\"2023-04-01T00:00:00\",\"2023-04-02T00:00:00\",\"2023-04-03T00:00:00\",\"2023-04-04T00:00:00\",\"2023-04-05T00:00:00\",\"2023-04-06T00:00:00\",\"2023-04-07T00:00:00\",\"2023-04-08T00:00:00\",\"2023-04-09T00:00:00\",\"2023-04-10T00:00:00\",\"2023-04-11T00:00:00\",\"2023-04-12T00:00:00\",\"2023-04-13T00:00:00\",\"2023-04-14T00:00:00\",\"2023-04-15T00:00:00\",\"2023-04-16T00:00:00\",\"2023-04-17T00:00:00\",\"2023-04-18T00:00:00\",\"2023-04-19T00:00:00\",\"2023-04-20T00:00:00\",\"2023-04-21T00:00:00\",\"2023-04-22T00:00:00\",\"2023-04-23T00:00:00\",\"2023-04-24T00:00:00\",\"2023-04-25T00:00:00\",\"2023-04-26T00:00:00\",\"2023-04-27T00:00:00\",\"2023-04-28T00:00:00\",\"2023-04-29T00:00:00\",\"2023-04-30T00:00:00\",\"2023-05-01T00:00:00\",\"2023-05-02T00:00:00\",\"2023-05-03T00:00:00\",\"2023-05-04T00:00:00\",\"2023-05-05T00:00:00\",\"2023-05-06T00:00:00\",\"2023-05-07T00:00:00\",\"2023-05-08T00:00:00\",\"2023-05-09T00:00:00\",\"2023-05-10T00:00:00\",\"2023-05-11T00:00:00\",\"2023-05-12T00:00:00\",\"2023-05-13T00:00:00\",\"2023-05-14T00:00:00\",\"2023-05-15T00:00:00\",\"2023-05-16T00:00:00\",\"2023-05-17T00:00:00\",\"2023-05-18T00:00:00\",\"2023-05-19T00:00:00\",\"2023-05-20T00:00:00\",\"2023-05-21T00:00:00\",\"2023-05-22T00:00:00\",\"2023-05-23T00:00:00\",\"2023-05-24T00:00:00\",\"2023-05-25T00:00:00\",\"2023-05-26T00:00:00\",\"2023-05-27T00:00:00\",\"2023-05-28T00:00:00\",\"2023-05-29T00:00:00\",\"2023-05-30T00:00:00\",\"2023-05-31T00:00:00\",\"2023-06-01T00:00:00\",\"2023-06-02T00:00:00\",\"2023-06-03T00:00:00\",\"2023-06-04T00:00:00\",\"2023-06-05T00:00:00\",\"2023-06-06T00:00:00\",\"2023-06-07T00:00:00\",\"2023-06-08T00:00:00\",\"2023-06-09T00:00:00\",\"2023-06-10T00:00:00\",\"2023-06-11T00:00:00\",\"2023-06-12T00:00:00\",\"2023-06-13T00:00:00\",\"2023-06-14T00:00:00\",\"2023-06-15T00:00:00\",\"2023-06-16T00:00:00\",\"2023-06-17T00:00:00\",\"2023-06-18T00:00:00\",\"2023-06-19T00:00:00\",\"2023-06-20T00:00:00\",\"2023-06-21T00:00:00\",\"2023-06-22T00:00:00\",\"2023-06-23T00:00:00\",\"2023-06-24T00:00:00\",\"2023-06-25T00:00:00\",\"2023-06-26T00:00:00\",\"2023-06-27T00:00:00\",\"2023-06-28T00:00:00\",\"2023-06-29T00:00:00\",\"2023-06-30T00:00:00\",\"2023-07-01T00:00:00\",\"2023-07-02T00:00:00\",\"2023-07-03T00:00:00\",\"2023-07-04T00:00:00\",\"2023-07-05T00:00:00\",\"2023-07-06T00:00:00\",\"2023-07-07T00:00:00\",\"2023-07-08T00:00:00\",\"2023-07-09T00:00:00\",\"2023-07-10T00:00:00\",\"2023-07-11T00:00:00\",\"2023-07-12T00:00:00\",\"2023-07-13T00:00:00\",\"2023-07-14T00:00:00\",\"2023-07-15T00:00:00\",\"2023-07-16T00:00:00\",\"2023-07-17T00:00:00\",\"2023-07-18T00:00:00\",\"2023-07-19T00:00:00\"],\"y\":[null,null,null,null,null,null,null,null,null,null,null,null,null,78.43802671017986,87.37998358517288,77.11258740264756,71.72078748105378,78.11735476139454,78.11735476139452,78.11735476139454,85.08271824257343,85.15169950533151,85.43153458499295,90.86820793500134,93.6904715675104,93.6904715675104,93.6904715675104,75.18703308139808,77.92697467141232,80.78043133839614,82.78756601493707,83.25694332734203,83.25694332734203,83.25694332734203,84.71242365785434,85.3025238588464,86.52650613309953,87.97775932875598,73.27581943596923,73.27581943596923,73.27581943596923,70.11872421360141,77.03712427709381,78.83920403642455,65.3383866021677,68.33915571084442,68.33915571084442,68.33915571084442,68.33915571084442,56.798974760982745,59.16783166842409,59.98703527980871,54.89934094391904,54.89934094391904,54.89934094391904,63.014393087897716,60.90649754252339,57.72240761103221,47.03182002943453,52.52784677461494,52.52784677461494,52.52784677461494,48.86946641604706,43.83085921450197,39.70417530454314,34.191380177343106,34.75013457312302,34.75013457312302,34.75013457312302,36.105264451999155,46.253687774213255,43.85303513294719,47.68265898720734,44.15711268358409,44.15711268358409,44.15711268358409,47.90921629052717,60.90281525087718,54.351479143411076,55.21482871324723,53.37583366238961,53.37583366238961,53.37583366238961,54.829231513679716,51.58820296083272,56.5405615031649,57.92422584098963,67.59163106876025,67.59163106876026,67.59163106876026,52.03428303716032,49.89972310427922,43.679059807825425,43.30029145803095,43.30029145803095,43.30029145803095,43.30029145803095,42.70474425682185,46.019247881644965,39.3065797349422,46.51232473146072,45.534772753630406,45.53477275363041,45.53477275363042,48.59344895201509,44.955047959157,40.50460686859365,26.92401998025126,29.928526388317096,29.928526388317096,29.928526388317096,28.176979533643802,26.916381986756846,22.861974122118994,32.9796786899324,38.53414988823735,38.53414988823735,38.53414988823735,36.27398676269179,34.922002305422154,35.43350645059172,36.490714662390694,49.78720062780258,49.78720062780258,49.78720062780258,52.22643020277795,48.36529043814898,47.49160883871863,52.818235866406646,46.88583963184049,46.88583963184048,46.88583963184049,44.409141787750535,44.737017866404656,56.63088744715781,60.41807696738614,64.0448714019217,64.0448714019217,64.04487140192171,72.49885717280297,66.51790547335249,61.462488163286096,63.11400441032102,70.62612467042479,70.62612467042479,70.62612467042479,70.62612467042479,76.53047407543947,78.16881319283178,80.10702692694338,83.0232870955567,83.0232870955567,83.0232870955567,84.6131913652947,86.0439447734978,87.17545963872894,89.94626436328679,91.73019188112892,91.73019188112892,91.73019188112892,92.65650723010475,93.86646672195778,90.39831504340783,88.76114058154891,89.79844858549242,89.79844858549242,89.79844858549242,89.79844858549242,92.56534516670857,70.40448151438899,72.81268784670802,64.0790856360343,64.0790856360343,64.0790856360343,49.641762567571405,55.939310859324515,59.52743056571176,60.255767315786436,62.705156342768184,62.70515634276819,62.705156342768184,71.86098221267794,71.86098221267794,72.9941157409501,66.5493782702441,64.3750808625587,64.37508086255869,64.3750808625587,58.885960711265355,59.02648571671902,60.79022000541512,65.13237815884926,67.42027379900296,67.42027379900296,67.42027379900296,73.11788989946761,74.6858728695888,71.52859755979641],\"type\":\"scatter\",\"xaxis\":\"x2\",\"yaxis\":\"y2\"},{\"marker\":{\"color\":\"red\"},\"mode\":\"markers\",\"showlegend\":false,\"x\":[\"2023-01-16T00:00:00\"],\"y\":[78.43802671017986],\"type\":\"scatter\",\"xaxis\":\"x2\",\"yaxis\":\"y2\"},{\"marker\":{\"color\":\"green\"},\"mode\":\"markers\",\"showlegend\":false,\"x\":[\"2023-04-20T00:00:00\"],\"y\":[26.92401998025126],\"type\":\"scatter\",\"xaxis\":\"x2\",\"yaxis\":\"y2\"},{\"marker\":{\"color\":\"red\"},\"mode\":\"markers\",\"showlegend\":false,\"x\":[\"2023-05-22T00:00:00\"],\"y\":[72.49885717280297],\"type\":\"scatter\",\"xaxis\":\"x2\",\"yaxis\":\"y2\"},{\"marker\":{\"color\":\"red\"},\"mode\":\"markers\",\"showlegend\":false,\"x\":[\"2023-05-26T00:00:00\"],\"y\":[70.62612467042479],\"type\":\"scatter\",\"xaxis\":\"x2\",\"yaxis\":\"y2\"},{\"marker\":{\"color\":\"red\"},\"mode\":\"markers\",\"showlegend\":false,\"x\":[\"2023-07-03T00:00:00\"],\"y\":[71.86098221267794],\"type\":\"scatter\",\"xaxis\":\"x2\",\"yaxis\":\"y2\"},{\"marker\":{\"color\":\"red\"},\"mode\":\"markers\",\"showlegend\":false,\"x\":[\"2023-07-17T00:00:00\"],\"y\":[73.11788989946761],\"type\":\"scatter\",\"xaxis\":\"x2\",\"yaxis\":\"y2\"}],                        {\"template\":{\"data\":{\"histogram2dcontour\":[{\"type\":\"histogram2dcontour\",\"colorbar\":{\"outlinewidth\":0,\"ticks\":\"\"},\"colorscale\":[[0.0,\"#0d0887\"],[0.1111111111111111,\"#46039f\"],[0.2222222222222222,\"#7201a8\"],[0.3333333333333333,\"#9c179e\"],[0.4444444444444444,\"#bd3786\"],[0.5555555555555556,\"#d8576b\"],[0.6666666666666666,\"#ed7953\"],[0.7777777777777778,\"#fb9f3a\"],[0.8888888888888888,\"#fdca26\"],[1.0,\"#f0f921\"]]}],\"choropleth\":[{\"type\":\"choropleth\",\"colorbar\":{\"outlinewidth\":0,\"ticks\":\"\"}}],\"histogram2d\":[{\"type\":\"histogram2d\",\"colorbar\":{\"outlinewidth\":0,\"ticks\":\"\"},\"colorscale\":[[0.0,\"#0d0887\"],[0.1111111111111111,\"#46039f\"],[0.2222222222222222,\"#7201a8\"],[0.3333333333333333,\"#9c179e\"],[0.4444444444444444,\"#bd3786\"],[0.5555555555555556,\"#d8576b\"],[0.6666666666666666,\"#ed7953\"],[0.7777777777777778,\"#fb9f3a\"],[0.8888888888888888,\"#fdca26\"],[1.0,\"#f0f921\"]]}],\"heatmap\":[{\"type\":\"heatmap\",\"colorbar\":{\"outlinewidth\":0,\"ticks\":\"\"},\"colorscale\":[[0.0,\"#0d0887\"],[0.1111111111111111,\"#46039f\"],[0.2222222222222222,\"#7201a8\"],[0.3333333333333333,\"#9c179e\"],[0.4444444444444444,\"#bd3786\"],[0.5555555555555556,\"#d8576b\"],[0.6666666666666666,\"#ed7953\"],[0.7777777777777778,\"#fb9f3a\"],[0.8888888888888888,\"#fdca26\"],[1.0,\"#f0f921\"]]}],\"heatmapgl\":[{\"type\":\"heatmapgl\",\"colorbar\":{\"outlinewidth\":0,\"ticks\":\"\"},\"colorscale\":[[0.0,\"#0d0887\"],[0.1111111111111111,\"#46039f\"],[0.2222222222222222,\"#7201a8\"],[0.3333333333333333,\"#9c179e\"],[0.4444444444444444,\"#bd3786\"],[0.5555555555555556,\"#d8576b\"],[0.6666666666666666,\"#ed7953\"],[0.7777777777777778,\"#fb9f3a\"],[0.8888888888888888,\"#fdca26\"],[1.0,\"#f0f921\"]]}],\"contourcarpet\":[{\"type\":\"contourcarpet\",\"colorbar\":{\"outlinewidth\":0,\"ticks\":\"\"}}],\"contour\":[{\"type\":\"contour\",\"colorbar\":{\"outlinewidth\":0,\"ticks\":\"\"},\"colorscale\":[[0.0,\"#0d0887\"],[0.1111111111111111,\"#46039f\"],[0.2222222222222222,\"#7201a8\"],[0.3333333333333333,\"#9c179e\"],[0.4444444444444444,\"#bd3786\"],[0.5555555555555556,\"#d8576b\"],[0.6666666666666666,\"#ed7953\"],[0.7777777777777778,\"#fb9f3a\"],[0.8888888888888888,\"#fdca26\"],[1.0,\"#f0f921\"]]}],\"surface\":[{\"type\":\"surface\",\"colorbar\":{\"outlinewidth\":0,\"ticks\":\"\"},\"colorscale\":[[0.0,\"#0d0887\"],[0.1111111111111111,\"#46039f\"],[0.2222222222222222,\"#7201a8\"],[0.3333333333333333,\"#9c179e\"],[0.4444444444444444,\"#bd3786\"],[0.5555555555555556,\"#d8576b\"],[0.6666666666666666,\"#ed7953\"],[0.7777777777777778,\"#fb9f3a\"],[0.8888888888888888,\"#fdca26\"],[1.0,\"#f0f921\"]]}],\"mesh3d\":[{\"type\":\"mesh3d\",\"colorbar\":{\"outlinewidth\":0,\"ticks\":\"\"}}],\"scatter\":[{\"marker\":{\"line\":{\"color\":\"#283442\"}},\"type\":\"scatter\"}],\"parcoords\":[{\"type\":\"parcoords\",\"line\":{\"colorbar\":{\"outlinewidth\":0,\"ticks\":\"\"}}}],\"scatterpolargl\":[{\"type\":\"scatterpolargl\",\"marker\":{\"colorbar\":{\"outlinewidth\":0,\"ticks\":\"\"}}}],\"bar\":[{\"error_x\":{\"color\":\"#f2f5fa\"},\"error_y\":{\"color\":\"#f2f5fa\"},\"marker\":{\"line\":{\"color\":\"rgb(17,17,17)\",\"width\":0.5},\"pattern\":{\"fillmode\":\"overlay\",\"size\":10,\"solidity\":0.2}},\"type\":\"bar\"}],\"scattergeo\":[{\"type\":\"scattergeo\",\"marker\":{\"colorbar\":{\"outlinewidth\":0,\"ticks\":\"\"}}}],\"scatterpolar\":[{\"type\":\"scatterpolar\",\"marker\":{\"colorbar\":{\"outlinewidth\":0,\"ticks\":\"\"}}}],\"histogram\":[{\"marker\":{\"pattern\":{\"fillmode\":\"overlay\",\"size\":10,\"solidity\":0.2}},\"type\":\"histogram\"}],\"scattergl\":[{\"marker\":{\"line\":{\"color\":\"#283442\"}},\"type\":\"scattergl\"}],\"scatter3d\":[{\"type\":\"scatter3d\",\"line\":{\"colorbar\":{\"outlinewidth\":0,\"ticks\":\"\"}},\"marker\":{\"colorbar\":{\"outlinewidth\":0,\"ticks\":\"\"}}}],\"scattermapbox\":[{\"type\":\"scattermapbox\",\"marker\":{\"colorbar\":{\"outlinewidth\":0,\"ticks\":\"\"}}}],\"scatterternary\":[{\"type\":\"scatterternary\",\"marker\":{\"colorbar\":{\"outlinewidth\":0,\"ticks\":\"\"}}}],\"scattercarpet\":[{\"type\":\"scattercarpet\",\"marker\":{\"colorbar\":{\"outlinewidth\":0,\"ticks\":\"\"}}}],\"carpet\":[{\"aaxis\":{\"endlinecolor\":\"#A2B1C6\",\"gridcolor\":\"#506784\",\"linecolor\":\"#506784\",\"minorgridcolor\":\"#506784\",\"startlinecolor\":\"#A2B1C6\"},\"baxis\":{\"endlinecolor\":\"#A2B1C6\",\"gridcolor\":\"#506784\",\"linecolor\":\"#506784\",\"minorgridcolor\":\"#506784\",\"startlinecolor\":\"#A2B1C6\"},\"type\":\"carpet\"}],\"table\":[{\"cells\":{\"fill\":{\"color\":\"#506784\"},\"line\":{\"color\":\"rgb(17,17,17)\"}},\"header\":{\"fill\":{\"color\":\"#2a3f5f\"},\"line\":{\"color\":\"rgb(17,17,17)\"}},\"type\":\"table\"}],\"barpolar\":[{\"marker\":{\"line\":{\"color\":\"rgb(17,17,17)\",\"width\":0.5},\"pattern\":{\"fillmode\":\"overlay\",\"size\":10,\"solidity\":0.2}},\"type\":\"barpolar\"}],\"pie\":[{\"automargin\":true,\"type\":\"pie\"}]},\"layout\":{\"autotypenumbers\":\"strict\",\"colorway\":[\"#636efa\",\"#EF553B\",\"#00cc96\",\"#ab63fa\",\"#FFA15A\",\"#19d3f3\",\"#FF6692\",\"#B6E880\",\"#FF97FF\",\"#FECB52\"],\"font\":{\"color\":\"#f2f5fa\"},\"hovermode\":\"closest\",\"hoverlabel\":{\"align\":\"left\"},\"paper_bgcolor\":\"#383838\",\"plot_bgcolor\":\"#383838\",\"polar\":{\"bgcolor\":\"rgb(17,17,17)\",\"angularaxis\":{\"gridcolor\":\"#506784\",\"linecolor\":\"#506784\",\"ticks\":\"\"},\"radialaxis\":{\"gridcolor\":\"#506784\",\"linecolor\":\"#506784\",\"ticks\":\"\"}},\"ternary\":{\"bgcolor\":\"rgb(17,17,17)\",\"aaxis\":{\"gridcolor\":\"#506784\",\"linecolor\":\"#506784\",\"ticks\":\"\"},\"baxis\":{\"gridcolor\":\"#506784\",\"linecolor\":\"#506784\",\"ticks\":\"\"},\"caxis\":{\"gridcolor\":\"#506784\",\"linecolor\":\"#506784\",\"ticks\":\"\"}},\"coloraxis\":{\"colorbar\":{\"outlinewidth\":0,\"ticks\":\"\"}},\"colorscale\":{\"sequential\":[[0.0,\"#0d0887\"],[0.1111111111111111,\"#46039f\"],[0.2222222222222222,\"#7201a8\"],[0.3333333333333333,\"#9c179e\"],[0.4444444444444444,\"#bd3786\"],[0.5555555555555556,\"#d8576b\"],[0.6666666666666666,\"#ed7953\"],[0.7777777777777778,\"#fb9f3a\"],[0.8888888888888888,\"#fdca26\"],[1.0,\"#f0f921\"]],\"sequentialminus\":[[0.0,\"#0d0887\"],[0.1111111111111111,\"#46039f\"],[0.2222222222222222,\"#7201a8\"],[0.3333333333333333,\"#9c179e\"],[0.4444444444444444,\"#bd3786\"],[0.5555555555555556,\"#d8576b\"],[0.6666666666666666,\"#ed7953\"],[0.7777777777777778,\"#fb9f3a\"],[0.8888888888888888,\"#fdca26\"],[1.0,\"#f0f921\"]],\"diverging\":[[0,\"#8e0152\"],[0.1,\"#c51b7d\"],[0.2,\"#de77ae\"],[0.3,\"#f1b6da\"],[0.4,\"#fde0ef\"],[0.5,\"#f7f7f7\"],[0.6,\"#e6f5d0\"],[0.7,\"#b8e186\"],[0.8,\"#7fbc41\"],[0.9,\"#4d9221\"],[1,\"#276419\"]]},\"xaxis\":{\"gridcolor\":\"#D5D5D5\",\"linecolor\":\"#D5D5D5\",\"ticks\":\"\",\"title\":{\"standoff\":15},\"zerolinecolor\":\"#D5D5D5\",\"automargin\":true,\"zerolinewidth\":2},\"yaxis\":{\"gridcolor\":\"#D5D5D5\",\"linecolor\":\"#D5D5D5\",\"ticks\":\"\",\"title\":{\"standoff\":15},\"zerolinecolor\":\"#D5D5D5\",\"automargin\":true,\"zerolinewidth\":2},\"scene\":{\"xaxis\":{\"backgroundcolor\":\"rgb(17,17,17)\",\"gridcolor\":\"#506784\",\"linecolor\":\"#506784\",\"showbackground\":true,\"ticks\":\"\",\"zerolinecolor\":\"#C8D4E3\",\"gridwidth\":2},\"yaxis\":{\"backgroundcolor\":\"rgb(17,17,17)\",\"gridcolor\":\"#506784\",\"linecolor\":\"#506784\",\"showbackground\":true,\"ticks\":\"\",\"zerolinecolor\":\"#C8D4E3\",\"gridwidth\":2},\"zaxis\":{\"backgroundcolor\":\"rgb(17,17,17)\",\"gridcolor\":\"#506784\",\"linecolor\":\"#506784\",\"showbackground\":true,\"ticks\":\"\",\"zerolinecolor\":\"#C8D4E3\",\"gridwidth\":2}},\"shapedefaults\":{\"line\":{\"color\":\"#f2f5fa\"}},\"annotationdefaults\":{\"arrowcolor\":\"#f2f5fa\",\"arrowhead\":0,\"arrowwidth\":1},\"geo\":{\"bgcolor\":\"rgb(17,17,17)\",\"landcolor\":\"rgb(17,17,17)\",\"subunitcolor\":\"#506784\",\"showland\":true,\"showlakes\":true,\"lakecolor\":\"rgb(17,17,17)\"},\"title\":{\"x\":0.05},\"updatemenudefaults\":{\"bgcolor\":\"#506784\",\"borderwidth\":0},\"sliderdefaults\":{\"bgcolor\":\"#C8D4E3\",\"borderwidth\":1,\"bordercolor\":\"rgb(17,17,17)\",\"tickwidth\":0},\"mapbox\":{\"style\":\"dark\"}}},\"xaxis\":{\"anchor\":\"y\",\"domain\":[0.0,1.0],\"matches\":\"x2\",\"showticklabels\":false,\"rangeslider\":{\"visible\":false}},\"yaxis\":{\"anchor\":\"x\",\"domain\":[0.525,1.0]},\"xaxis2\":{\"anchor\":\"y2\",\"domain\":[0.0,1.0]},\"yaxis2\":{\"anchor\":\"x2\",\"domain\":[0.0,0.475],\"title\":{\"text\":\"RSI\"},\"range\":[0,100]},\"annotations\":[{\"font\":{\"size\":16},\"showarrow\":false,\"text\":\"Candlestick\",\"x\":0.5,\"xanchor\":\"center\",\"xref\":\"paper\",\"y\":1.0,\"yanchor\":\"bottom\",\"yref\":\"paper\"},{\"font\":{\"size\":16},\"showarrow\":false,\"text\":\"RSI\",\"x\":0.5,\"xanchor\":\"center\",\"xref\":\"paper\",\"y\":0.475,\"yanchor\":\"bottom\",\"yref\":\"paper\"}],\"shapes\":[{\"line\":{\"color\":\"blue\",\"dash\":\"dash\"},\"name\":\"RSI 30\",\"type\":\"line\",\"x0\":0,\"x1\":1,\"xref\":\"x2 domain\",\"y0\":30,\"y1\":30,\"yref\":\"y2\"},{\"line\":{\"color\":\"red\",\"dash\":\"dash\"},\"name\":\"RSI 70\",\"type\":\"line\",\"x0\":0,\"x1\":1,\"xref\":\"x2 domain\",\"y0\":70,\"y1\":70,\"yref\":\"y2\"}],\"title\":{\"text\":\"TSLA Stock Price and RSI (Last 14 days)\"}},                        {\"responsive\": true}                    ).then(function(){\n",
              "                            \n",
              "var gd = document.getElementById('4f8f25ca-0ef2-4a00-9139-974a3e43dc38');\n",
              "var x = new MutationObserver(function (mutations, observer) {{\n",
              "        var display = window.getComputedStyle(gd).display;\n",
              "        if (!display || display === 'none') {{\n",
              "            console.log([gd, 'removed!']);\n",
              "            Plotly.purge(gd);\n",
              "            observer.disconnect();\n",
              "        }}\n",
              "}});\n",
              "\n",
              "// Listen for the removal of the full notebook cells\n",
              "var notebookContainer = gd.closest('#notebook-container');\n",
              "if (notebookContainer) {{\n",
              "    x.observe(notebookContainer, {childList: true});\n",
              "}}\n",
              "\n",
              "// Listen for the clearing of the current output cell\n",
              "var outputEl = gd.closest('.output');\n",
              "if (outputEl) {{\n",
              "    x.observe(outputEl, {childList: true});\n",
              "}}\n",
              "\n",
              "                        })                };                            </script>        </div>\n",
              "</body>\n",
              "</html>"
            ]
          },
          "metadata": {}
        }
      ]
    },
    {
      "cell_type": "code",
      "source": [
        "tsla_df[tsla_df.index == '2023-05-21']"
      ],
      "metadata": {
        "colab": {
          "base_uri": "https://localhost:8080/",
          "height": 81
        },
        "id": "IrMV926fWBpd",
        "outputId": "c30545bc-2db1-4015-8f74-d5e9ec0888b1"
      },
      "execution_count": 35,
      "outputs": [
        {
          "output_type": "execute_result",
          "data": {
            "text/plain": [
              "                  Open        High         Low       Close   Adj Close  \\\n",
              "2023-05-21  177.169998  181.949997  176.309998  180.139999  180.139999   \n",
              "\n",
              "                 Volume        RSI Signal  SMA_200  Trend  previousClose  \\\n",
              "2023-05-21  136024200.0  64.044871   HOLD      NaN  Range     180.139999   \n",
              "\n",
              "           color                fill  \n",
              "2023-05-21   red  rgba(255, 0, 0, 0)  "
            ],
            "text/html": [
              "\n",
              "  <div id=\"df-d8154bf9-b76e-4e4d-b37a-be39d7236fac\" class=\"colab-df-container\">\n",
              "    <div>\n",
              "<style scoped>\n",
              "    .dataframe tbody tr th:only-of-type {\n",
              "        vertical-align: middle;\n",
              "    }\n",
              "\n",
              "    .dataframe tbody tr th {\n",
              "        vertical-align: top;\n",
              "    }\n",
              "\n",
              "    .dataframe thead th {\n",
              "        text-align: right;\n",
              "    }\n",
              "</style>\n",
              "<table border=\"1\" class=\"dataframe\">\n",
              "  <thead>\n",
              "    <tr style=\"text-align: right;\">\n",
              "      <th></th>\n",
              "      <th>Open</th>\n",
              "      <th>High</th>\n",
              "      <th>Low</th>\n",
              "      <th>Close</th>\n",
              "      <th>Adj Close</th>\n",
              "      <th>Volume</th>\n",
              "      <th>RSI</th>\n",
              "      <th>Signal</th>\n",
              "      <th>SMA_200</th>\n",
              "      <th>Trend</th>\n",
              "      <th>previousClose</th>\n",
              "      <th>color</th>\n",
              "      <th>fill</th>\n",
              "    </tr>\n",
              "  </thead>\n",
              "  <tbody>\n",
              "    <tr>\n",
              "      <th>2023-05-21</th>\n",
              "      <td>177.169998</td>\n",
              "      <td>181.949997</td>\n",
              "      <td>176.309998</td>\n",
              "      <td>180.139999</td>\n",
              "      <td>180.139999</td>\n",
              "      <td>136024200.0</td>\n",
              "      <td>64.044871</td>\n",
              "      <td>HOLD</td>\n",
              "      <td>NaN</td>\n",
              "      <td>Range</td>\n",
              "      <td>180.139999</td>\n",
              "      <td>red</td>\n",
              "      <td>rgba(255, 0, 0, 0)</td>\n",
              "    </tr>\n",
              "  </tbody>\n",
              "</table>\n",
              "</div>\n",
              "    <div class=\"colab-df-buttons\">\n",
              "\n",
              "  <div class=\"colab-df-container\">\n",
              "    <button class=\"colab-df-convert\" onclick=\"convertToInteractive('df-d8154bf9-b76e-4e4d-b37a-be39d7236fac')\"\n",
              "            title=\"Convert this dataframe to an interactive table.\"\n",
              "            style=\"display:none;\">\n",
              "\n",
              "  <svg xmlns=\"http://www.w3.org/2000/svg\" height=\"24px\" viewBox=\"0 -960 960 960\">\n",
              "    <path d=\"M120-120v-720h720v720H120Zm60-500h600v-160H180v160Zm220 220h160v-160H400v160Zm0 220h160v-160H400v160ZM180-400h160v-160H180v160Zm440 0h160v-160H620v160ZM180-180h160v-160H180v160Zm440 0h160v-160H620v160Z\"/>\n",
              "  </svg>\n",
              "    </button>\n",
              "\n",
              "  <style>\n",
              "    .colab-df-container {\n",
              "      display:flex;\n",
              "      gap: 12px;\n",
              "    }\n",
              "\n",
              "    .colab-df-convert {\n",
              "      background-color: #E8F0FE;\n",
              "      border: none;\n",
              "      border-radius: 50%;\n",
              "      cursor: pointer;\n",
              "      display: none;\n",
              "      fill: #1967D2;\n",
              "      height: 32px;\n",
              "      padding: 0 0 0 0;\n",
              "      width: 32px;\n",
              "    }\n",
              "\n",
              "    .colab-df-convert:hover {\n",
              "      background-color: #E2EBFA;\n",
              "      box-shadow: 0px 1px 2px rgba(60, 64, 67, 0.3), 0px 1px 3px 1px rgba(60, 64, 67, 0.15);\n",
              "      fill: #174EA6;\n",
              "    }\n",
              "\n",
              "    .colab-df-buttons div {\n",
              "      margin-bottom: 4px;\n",
              "    }\n",
              "\n",
              "    [theme=dark] .colab-df-convert {\n",
              "      background-color: #3B4455;\n",
              "      fill: #D2E3FC;\n",
              "    }\n",
              "\n",
              "    [theme=dark] .colab-df-convert:hover {\n",
              "      background-color: #434B5C;\n",
              "      box-shadow: 0px 1px 3px 1px rgba(0, 0, 0, 0.15);\n",
              "      filter: drop-shadow(0px 1px 2px rgba(0, 0, 0, 0.3));\n",
              "      fill: #FFFFFF;\n",
              "    }\n",
              "  </style>\n",
              "\n",
              "    <script>\n",
              "      const buttonEl =\n",
              "        document.querySelector('#df-d8154bf9-b76e-4e4d-b37a-be39d7236fac button.colab-df-convert');\n",
              "      buttonEl.style.display =\n",
              "        google.colab.kernel.accessAllowed ? 'block' : 'none';\n",
              "\n",
              "      async function convertToInteractive(key) {\n",
              "        const element = document.querySelector('#df-d8154bf9-b76e-4e4d-b37a-be39d7236fac');\n",
              "        const dataTable =\n",
              "          await google.colab.kernel.invokeFunction('convertToInteractive',\n",
              "                                                    [key], {});\n",
              "        if (!dataTable) return;\n",
              "\n",
              "        const docLinkHtml = 'Like what you see? Visit the ' +\n",
              "          '<a target=\"_blank\" href=https://colab.research.google.com/notebooks/data_table.ipynb>data table notebook</a>'\n",
              "          + ' to learn more about interactive tables.';\n",
              "        element.innerHTML = '';\n",
              "        dataTable['output_type'] = 'display_data';\n",
              "        await google.colab.output.renderOutput(dataTable, element);\n",
              "        const docLink = document.createElement('div');\n",
              "        docLink.innerHTML = docLinkHtml;\n",
              "        element.appendChild(docLink);\n",
              "      }\n",
              "    </script>\n",
              "  </div>\n",
              "\n",
              "    </div>\n",
              "  </div>\n"
            ],
            "application/vnd.google.colaboratory.intrinsic+json": {
              "type": "dataframe",
              "summary": "{\n  \"name\": \"tsla_df[tsla_df\",\n  \"rows\": 1,\n  \"fields\": [\n    {\n      \"column\": \"Open\",\n      \"properties\": {\n        \"dtype\": \"number\",\n        \"std\": null,\n        \"min\": 177.1699981689453,\n        \"max\": 177.1699981689453,\n        \"num_unique_values\": 1,\n        \"samples\": [\n          177.1699981689453\n        ],\n        \"semantic_type\": \"\",\n        \"description\": \"\"\n      }\n    },\n    {\n      \"column\": \"High\",\n      \"properties\": {\n        \"dtype\": \"number\",\n        \"std\": null,\n        \"min\": 181.9499969482422,\n        \"max\": 181.9499969482422,\n        \"num_unique_values\": 1,\n        \"samples\": [\n          181.9499969482422\n        ],\n        \"semantic_type\": \"\",\n        \"description\": \"\"\n      }\n    },\n    {\n      \"column\": \"Low\",\n      \"properties\": {\n        \"dtype\": \"number\",\n        \"std\": null,\n        \"min\": 176.30999755859375,\n        \"max\": 176.30999755859375,\n        \"num_unique_values\": 1,\n        \"samples\": [\n          176.30999755859375\n        ],\n        \"semantic_type\": \"\",\n        \"description\": \"\"\n      }\n    },\n    {\n      \"column\": \"Close\",\n      \"properties\": {\n        \"dtype\": \"number\",\n        \"std\": null,\n        \"min\": 180.13999938964844,\n        \"max\": 180.13999938964844,\n        \"num_unique_values\": 1,\n        \"samples\": [\n          180.13999938964844\n        ],\n        \"semantic_type\": \"\",\n        \"description\": \"\"\n      }\n    },\n    {\n      \"column\": \"Adj Close\",\n      \"properties\": {\n        \"dtype\": \"number\",\n        \"std\": null,\n        \"min\": 180.13999938964844,\n        \"max\": 180.13999938964844,\n        \"num_unique_values\": 1,\n        \"samples\": [\n          180.13999938964844\n        ],\n        \"semantic_type\": \"\",\n        \"description\": \"\"\n      }\n    },\n    {\n      \"column\": \"Volume\",\n      \"properties\": {\n        \"dtype\": \"number\",\n        \"std\": null,\n        \"min\": 136024200.0,\n        \"max\": 136024200.0,\n        \"num_unique_values\": 1,\n        \"samples\": [\n          136024200.0\n        ],\n        \"semantic_type\": \"\",\n        \"description\": \"\"\n      }\n    },\n    {\n      \"column\": \"RSI\",\n      \"properties\": {\n        \"dtype\": \"number\",\n        \"std\": null,\n        \"min\": 64.04487140192171,\n        \"max\": 64.04487140192171,\n        \"num_unique_values\": 1,\n        \"samples\": [\n          64.04487140192171\n        ],\n        \"semantic_type\": \"\",\n        \"description\": \"\"\n      }\n    },\n    {\n      \"column\": \"Signal\",\n      \"properties\": {\n        \"dtype\": \"string\",\n        \"num_unique_values\": 1,\n        \"samples\": [\n          \"HOLD\"\n        ],\n        \"semantic_type\": \"\",\n        \"description\": \"\"\n      }\n    },\n    {\n      \"column\": \"SMA_200\",\n      \"properties\": {\n        \"dtype\": \"number\",\n        \"std\": null,\n        \"min\": null,\n        \"max\": null,\n        \"num_unique_values\": 0,\n        \"samples\": [],\n        \"semantic_type\": \"\",\n        \"description\": \"\"\n      }\n    },\n    {\n      \"column\": \"Trend\",\n      \"properties\": {\n        \"dtype\": \"string\",\n        \"num_unique_values\": 1,\n        \"samples\": [],\n        \"semantic_type\": \"\",\n        \"description\": \"\"\n      }\n    },\n    {\n      \"column\": \"previousClose\",\n      \"properties\": {\n        \"dtype\": \"number\",\n        \"std\": null,\n        \"min\": 180.13999938964844,\n        \"max\": 180.13999938964844,\n        \"num_unique_values\": 1,\n        \"samples\": [],\n        \"semantic_type\": \"\",\n        \"description\": \"\"\n      }\n    },\n    {\n      \"column\": \"color\",\n      \"properties\": {\n        \"dtype\": \"string\",\n        \"num_unique_values\": 1,\n        \"samples\": [],\n        \"semantic_type\": \"\",\n        \"description\": \"\"\n      }\n    },\n    {\n      \"column\": \"fill\",\n      \"properties\": {\n        \"dtype\": \"string\",\n        \"num_unique_values\": 1,\n        \"samples\": [],\n        \"semantic_type\": \"\",\n        \"description\": \"\"\n      }\n    }\n  ]\n}"
            }
          },
          "metadata": {},
          "execution_count": 35
        }
      ]
    },
    {
      "cell_type": "code",
      "source": [
        "tsla_df[(tsla_df.index == '2023-05-21') & (tsla_df['RSI'] >= 70)]"
      ],
      "metadata": {
        "colab": {
          "base_uri": "https://localhost:8080/",
          "height": 53
        },
        "id": "gov0gzsXgN_d",
        "outputId": "afc0fc22-4c34-417d-8e95-ce7508920e8e"
      },
      "execution_count": 36,
      "outputs": [
        {
          "output_type": "execute_result",
          "data": {
            "text/plain": [
              "Empty DataFrame\n",
              "Columns: [Open, High, Low, Close, Adj Close, Volume, RSI, Signal, SMA_200, Trend, previousClose, color, fill]\n",
              "Index: []"
            ],
            "text/html": [
              "\n",
              "  <div id=\"df-f397f242-4c5b-4fe6-a1d8-ff13d2c9a9cc\" class=\"colab-df-container\">\n",
              "    <div>\n",
              "<style scoped>\n",
              "    .dataframe tbody tr th:only-of-type {\n",
              "        vertical-align: middle;\n",
              "    }\n",
              "\n",
              "    .dataframe tbody tr th {\n",
              "        vertical-align: top;\n",
              "    }\n",
              "\n",
              "    .dataframe thead th {\n",
              "        text-align: right;\n",
              "    }\n",
              "</style>\n",
              "<table border=\"1\" class=\"dataframe\">\n",
              "  <thead>\n",
              "    <tr style=\"text-align: right;\">\n",
              "      <th></th>\n",
              "      <th>Open</th>\n",
              "      <th>High</th>\n",
              "      <th>Low</th>\n",
              "      <th>Close</th>\n",
              "      <th>Adj Close</th>\n",
              "      <th>Volume</th>\n",
              "      <th>RSI</th>\n",
              "      <th>Signal</th>\n",
              "      <th>SMA_200</th>\n",
              "      <th>Trend</th>\n",
              "      <th>previousClose</th>\n",
              "      <th>color</th>\n",
              "      <th>fill</th>\n",
              "    </tr>\n",
              "  </thead>\n",
              "  <tbody>\n",
              "  </tbody>\n",
              "</table>\n",
              "</div>\n",
              "    <div class=\"colab-df-buttons\">\n",
              "\n",
              "  <div class=\"colab-df-container\">\n",
              "    <button class=\"colab-df-convert\" onclick=\"convertToInteractive('df-f397f242-4c5b-4fe6-a1d8-ff13d2c9a9cc')\"\n",
              "            title=\"Convert this dataframe to an interactive table.\"\n",
              "            style=\"display:none;\">\n",
              "\n",
              "  <svg xmlns=\"http://www.w3.org/2000/svg\" height=\"24px\" viewBox=\"0 -960 960 960\">\n",
              "    <path d=\"M120-120v-720h720v720H120Zm60-500h600v-160H180v160Zm220 220h160v-160H400v160Zm0 220h160v-160H400v160ZM180-400h160v-160H180v160Zm440 0h160v-160H620v160ZM180-180h160v-160H180v160Zm440 0h160v-160H620v160Z\"/>\n",
              "  </svg>\n",
              "    </button>\n",
              "\n",
              "  <style>\n",
              "    .colab-df-container {\n",
              "      display:flex;\n",
              "      gap: 12px;\n",
              "    }\n",
              "\n",
              "    .colab-df-convert {\n",
              "      background-color: #E8F0FE;\n",
              "      border: none;\n",
              "      border-radius: 50%;\n",
              "      cursor: pointer;\n",
              "      display: none;\n",
              "      fill: #1967D2;\n",
              "      height: 32px;\n",
              "      padding: 0 0 0 0;\n",
              "      width: 32px;\n",
              "    }\n",
              "\n",
              "    .colab-df-convert:hover {\n",
              "      background-color: #E2EBFA;\n",
              "      box-shadow: 0px 1px 2px rgba(60, 64, 67, 0.3), 0px 1px 3px 1px rgba(60, 64, 67, 0.15);\n",
              "      fill: #174EA6;\n",
              "    }\n",
              "\n",
              "    .colab-df-buttons div {\n",
              "      margin-bottom: 4px;\n",
              "    }\n",
              "\n",
              "    [theme=dark] .colab-df-convert {\n",
              "      background-color: #3B4455;\n",
              "      fill: #D2E3FC;\n",
              "    }\n",
              "\n",
              "    [theme=dark] .colab-df-convert:hover {\n",
              "      background-color: #434B5C;\n",
              "      box-shadow: 0px 1px 3px 1px rgba(0, 0, 0, 0.15);\n",
              "      filter: drop-shadow(0px 1px 2px rgba(0, 0, 0, 0.3));\n",
              "      fill: #FFFFFF;\n",
              "    }\n",
              "  </style>\n",
              "\n",
              "    <script>\n",
              "      const buttonEl =\n",
              "        document.querySelector('#df-f397f242-4c5b-4fe6-a1d8-ff13d2c9a9cc button.colab-df-convert');\n",
              "      buttonEl.style.display =\n",
              "        google.colab.kernel.accessAllowed ? 'block' : 'none';\n",
              "\n",
              "      async function convertToInteractive(key) {\n",
              "        const element = document.querySelector('#df-f397f242-4c5b-4fe6-a1d8-ff13d2c9a9cc');\n",
              "        const dataTable =\n",
              "          await google.colab.kernel.invokeFunction('convertToInteractive',\n",
              "                                                    [key], {});\n",
              "        if (!dataTable) return;\n",
              "\n",
              "        const docLinkHtml = 'Like what you see? Visit the ' +\n",
              "          '<a target=\"_blank\" href=https://colab.research.google.com/notebooks/data_table.ipynb>data table notebook</a>'\n",
              "          + ' to learn more about interactive tables.';\n",
              "        element.innerHTML = '';\n",
              "        dataTable['output_type'] = 'display_data';\n",
              "        await google.colab.output.renderOutput(dataTable, element);\n",
              "        const docLink = document.createElement('div');\n",
              "        docLink.innerHTML = docLinkHtml;\n",
              "        element.appendChild(docLink);\n",
              "      }\n",
              "    </script>\n",
              "  </div>\n",
              "\n",
              "    </div>\n",
              "  </div>\n"
            ],
            "application/vnd.google.colaboratory.intrinsic+json": {
              "type": "dataframe",
              "repr_error": "'str' object has no attribute 'empty'"
            }
          },
          "metadata": {},
          "execution_count": 36
        }
      ]
    },
    {
      "cell_type": "code",
      "source": [
        "tsla_df[tsla_df['Signal'] != 'HOLD']"
      ],
      "metadata": {
        "colab": {
          "base_uri": "https://localhost:8080/",
          "height": 238
        },
        "id": "F6PTelUmT60N",
        "outputId": "ad5200df-6d99-4fe4-9270-ea7420dbd4c9"
      },
      "execution_count": 37,
      "outputs": [
        {
          "output_type": "execute_result",
          "data": {
            "text/plain": [
              "                  Open        High         Low       Close   Adj Close  \\\n",
              "2023-01-16  116.550003  122.629997  115.599998  122.400002  122.400002   \n",
              "2023-04-20  166.169998  169.699997  160.559998  162.990005  162.990005   \n",
              "2023-05-22  180.699997  189.320007  180.110001  188.869995  188.869995   \n",
              "2023-05-26  184.619995  198.600006  184.529999  193.169998  193.169998   \n",
              "2023-07-03  276.489990  284.250000  275.109985  279.820007  279.820007   \n",
              "2023-07-17  286.630005  292.230011  283.570007  290.380005  290.380005   \n",
              "\n",
              "                 Volume        RSI Signal  SMA_200  Trend  previousClose  \\\n",
              "2023-01-16  180714100.0  78.438027   SELL      NaN  Range     122.400002   \n",
              "2023-04-20  210970800.0  26.924020    BUY      NaN  Range     180.589996   \n",
              "2023-05-22  132001400.0  72.498857   SELL      NaN  Range     180.139999   \n",
              "2023-05-26  162061500.0  70.626125   SELL      NaN  Range     184.470001   \n",
              "2023-07-03  119685900.0  71.860982   SELL      NaN  Range     261.769989   \n",
              "2023-07-17  131569600.0  73.117890   SELL      NaN  Range     281.380005   \n",
              "\n",
              "            color                fill  \n",
              "2023-01-16    red  rgba(255, 0, 0, 0)  \n",
              "2023-04-20    red                 red  \n",
              "2023-05-22  green  rgba(255, 0, 0, 0)  \n",
              "2023-05-26  green  rgba(255, 0, 0, 0)  \n",
              "2023-07-03  green  rgba(255, 0, 0, 0)  \n",
              "2023-07-17  green  rgba(255, 0, 0, 0)  "
            ],
            "text/html": [
              "\n",
              "  <div id=\"df-8b47d25d-626f-4518-8e63-a82f9a35eb0e\" class=\"colab-df-container\">\n",
              "    <div>\n",
              "<style scoped>\n",
              "    .dataframe tbody tr th:only-of-type {\n",
              "        vertical-align: middle;\n",
              "    }\n",
              "\n",
              "    .dataframe tbody tr th {\n",
              "        vertical-align: top;\n",
              "    }\n",
              "\n",
              "    .dataframe thead th {\n",
              "        text-align: right;\n",
              "    }\n",
              "</style>\n",
              "<table border=\"1\" class=\"dataframe\">\n",
              "  <thead>\n",
              "    <tr style=\"text-align: right;\">\n",
              "      <th></th>\n",
              "      <th>Open</th>\n",
              "      <th>High</th>\n",
              "      <th>Low</th>\n",
              "      <th>Close</th>\n",
              "      <th>Adj Close</th>\n",
              "      <th>Volume</th>\n",
              "      <th>RSI</th>\n",
              "      <th>Signal</th>\n",
              "      <th>SMA_200</th>\n",
              "      <th>Trend</th>\n",
              "      <th>previousClose</th>\n",
              "      <th>color</th>\n",
              "      <th>fill</th>\n",
              "    </tr>\n",
              "  </thead>\n",
              "  <tbody>\n",
              "    <tr>\n",
              "      <th>2023-01-16</th>\n",
              "      <td>116.550003</td>\n",
              "      <td>122.629997</td>\n",
              "      <td>115.599998</td>\n",
              "      <td>122.400002</td>\n",
              "      <td>122.400002</td>\n",
              "      <td>180714100.0</td>\n",
              "      <td>78.438027</td>\n",
              "      <td>SELL</td>\n",
              "      <td>NaN</td>\n",
              "      <td>Range</td>\n",
              "      <td>122.400002</td>\n",
              "      <td>red</td>\n",
              "      <td>rgba(255, 0, 0, 0)</td>\n",
              "    </tr>\n",
              "    <tr>\n",
              "      <th>2023-04-20</th>\n",
              "      <td>166.169998</td>\n",
              "      <td>169.699997</td>\n",
              "      <td>160.559998</td>\n",
              "      <td>162.990005</td>\n",
              "      <td>162.990005</td>\n",
              "      <td>210970800.0</td>\n",
              "      <td>26.924020</td>\n",
              "      <td>BUY</td>\n",
              "      <td>NaN</td>\n",
              "      <td>Range</td>\n",
              "      <td>180.589996</td>\n",
              "      <td>red</td>\n",
              "      <td>red</td>\n",
              "    </tr>\n",
              "    <tr>\n",
              "      <th>2023-05-22</th>\n",
              "      <td>180.699997</td>\n",
              "      <td>189.320007</td>\n",
              "      <td>180.110001</td>\n",
              "      <td>188.869995</td>\n",
              "      <td>188.869995</td>\n",
              "      <td>132001400.0</td>\n",
              "      <td>72.498857</td>\n",
              "      <td>SELL</td>\n",
              "      <td>NaN</td>\n",
              "      <td>Range</td>\n",
              "      <td>180.139999</td>\n",
              "      <td>green</td>\n",
              "      <td>rgba(255, 0, 0, 0)</td>\n",
              "    </tr>\n",
              "    <tr>\n",
              "      <th>2023-05-26</th>\n",
              "      <td>184.619995</td>\n",
              "      <td>198.600006</td>\n",
              "      <td>184.529999</td>\n",
              "      <td>193.169998</td>\n",
              "      <td>193.169998</td>\n",
              "      <td>162061500.0</td>\n",
              "      <td>70.626125</td>\n",
              "      <td>SELL</td>\n",
              "      <td>NaN</td>\n",
              "      <td>Range</td>\n",
              "      <td>184.470001</td>\n",
              "      <td>green</td>\n",
              "      <td>rgba(255, 0, 0, 0)</td>\n",
              "    </tr>\n",
              "    <tr>\n",
              "      <th>2023-07-03</th>\n",
              "      <td>276.489990</td>\n",
              "      <td>284.250000</td>\n",
              "      <td>275.109985</td>\n",
              "      <td>279.820007</td>\n",
              "      <td>279.820007</td>\n",
              "      <td>119685900.0</td>\n",
              "      <td>71.860982</td>\n",
              "      <td>SELL</td>\n",
              "      <td>NaN</td>\n",
              "      <td>Range</td>\n",
              "      <td>261.769989</td>\n",
              "      <td>green</td>\n",
              "      <td>rgba(255, 0, 0, 0)</td>\n",
              "    </tr>\n",
              "    <tr>\n",
              "      <th>2023-07-17</th>\n",
              "      <td>286.630005</td>\n",
              "      <td>292.230011</td>\n",
              "      <td>283.570007</td>\n",
              "      <td>290.380005</td>\n",
              "      <td>290.380005</td>\n",
              "      <td>131569600.0</td>\n",
              "      <td>73.117890</td>\n",
              "      <td>SELL</td>\n",
              "      <td>NaN</td>\n",
              "      <td>Range</td>\n",
              "      <td>281.380005</td>\n",
              "      <td>green</td>\n",
              "      <td>rgba(255, 0, 0, 0)</td>\n",
              "    </tr>\n",
              "  </tbody>\n",
              "</table>\n",
              "</div>\n",
              "    <div class=\"colab-df-buttons\">\n",
              "\n",
              "  <div class=\"colab-df-container\">\n",
              "    <button class=\"colab-df-convert\" onclick=\"convertToInteractive('df-8b47d25d-626f-4518-8e63-a82f9a35eb0e')\"\n",
              "            title=\"Convert this dataframe to an interactive table.\"\n",
              "            style=\"display:none;\">\n",
              "\n",
              "  <svg xmlns=\"http://www.w3.org/2000/svg\" height=\"24px\" viewBox=\"0 -960 960 960\">\n",
              "    <path d=\"M120-120v-720h720v720H120Zm60-500h600v-160H180v160Zm220 220h160v-160H400v160Zm0 220h160v-160H400v160ZM180-400h160v-160H180v160Zm440 0h160v-160H620v160ZM180-180h160v-160H180v160Zm440 0h160v-160H620v160Z\"/>\n",
              "  </svg>\n",
              "    </button>\n",
              "\n",
              "  <style>\n",
              "    .colab-df-container {\n",
              "      display:flex;\n",
              "      gap: 12px;\n",
              "    }\n",
              "\n",
              "    .colab-df-convert {\n",
              "      background-color: #E8F0FE;\n",
              "      border: none;\n",
              "      border-radius: 50%;\n",
              "      cursor: pointer;\n",
              "      display: none;\n",
              "      fill: #1967D2;\n",
              "      height: 32px;\n",
              "      padding: 0 0 0 0;\n",
              "      width: 32px;\n",
              "    }\n",
              "\n",
              "    .colab-df-convert:hover {\n",
              "      background-color: #E2EBFA;\n",
              "      box-shadow: 0px 1px 2px rgba(60, 64, 67, 0.3), 0px 1px 3px 1px rgba(60, 64, 67, 0.15);\n",
              "      fill: #174EA6;\n",
              "    }\n",
              "\n",
              "    .colab-df-buttons div {\n",
              "      margin-bottom: 4px;\n",
              "    }\n",
              "\n",
              "    [theme=dark] .colab-df-convert {\n",
              "      background-color: #3B4455;\n",
              "      fill: #D2E3FC;\n",
              "    }\n",
              "\n",
              "    [theme=dark] .colab-df-convert:hover {\n",
              "      background-color: #434B5C;\n",
              "      box-shadow: 0px 1px 3px 1px rgba(0, 0, 0, 0.15);\n",
              "      filter: drop-shadow(0px 1px 2px rgba(0, 0, 0, 0.3));\n",
              "      fill: #FFFFFF;\n",
              "    }\n",
              "  </style>\n",
              "\n",
              "    <script>\n",
              "      const buttonEl =\n",
              "        document.querySelector('#df-8b47d25d-626f-4518-8e63-a82f9a35eb0e button.colab-df-convert');\n",
              "      buttonEl.style.display =\n",
              "        google.colab.kernel.accessAllowed ? 'block' : 'none';\n",
              "\n",
              "      async function convertToInteractive(key) {\n",
              "        const element = document.querySelector('#df-8b47d25d-626f-4518-8e63-a82f9a35eb0e');\n",
              "        const dataTable =\n",
              "          await google.colab.kernel.invokeFunction('convertToInteractive',\n",
              "                                                    [key], {});\n",
              "        if (!dataTable) return;\n",
              "\n",
              "        const docLinkHtml = 'Like what you see? Visit the ' +\n",
              "          '<a target=\"_blank\" href=https://colab.research.google.com/notebooks/data_table.ipynb>data table notebook</a>'\n",
              "          + ' to learn more about interactive tables.';\n",
              "        element.innerHTML = '';\n",
              "        dataTable['output_type'] = 'display_data';\n",
              "        await google.colab.output.renderOutput(dataTable, element);\n",
              "        const docLink = document.createElement('div');\n",
              "        docLink.innerHTML = docLinkHtml;\n",
              "        element.appendChild(docLink);\n",
              "      }\n",
              "    </script>\n",
              "  </div>\n",
              "\n",
              "\n",
              "<div id=\"df-80162cea-3cd7-4e40-bf86-0624468107c8\">\n",
              "  <button class=\"colab-df-quickchart\" onclick=\"quickchart('df-80162cea-3cd7-4e40-bf86-0624468107c8')\"\n",
              "            title=\"Suggest charts\"\n",
              "            style=\"display:none;\">\n",
              "\n",
              "<svg xmlns=\"http://www.w3.org/2000/svg\" height=\"24px\"viewBox=\"0 0 24 24\"\n",
              "     width=\"24px\">\n",
              "    <g>\n",
              "        <path d=\"M19 3H5c-1.1 0-2 .9-2 2v14c0 1.1.9 2 2 2h14c1.1 0 2-.9 2-2V5c0-1.1-.9-2-2-2zM9 17H7v-7h2v7zm4 0h-2V7h2v10zm4 0h-2v-4h2v4z\"/>\n",
              "    </g>\n",
              "</svg>\n",
              "  </button>\n",
              "\n",
              "<style>\n",
              "  .colab-df-quickchart {\n",
              "      --bg-color: #E8F0FE;\n",
              "      --fill-color: #1967D2;\n",
              "      --hover-bg-color: #E2EBFA;\n",
              "      --hover-fill-color: #174EA6;\n",
              "      --disabled-fill-color: #AAA;\n",
              "      --disabled-bg-color: #DDD;\n",
              "  }\n",
              "\n",
              "  [theme=dark] .colab-df-quickchart {\n",
              "      --bg-color: #3B4455;\n",
              "      --fill-color: #D2E3FC;\n",
              "      --hover-bg-color: #434B5C;\n",
              "      --hover-fill-color: #FFFFFF;\n",
              "      --disabled-bg-color: #3B4455;\n",
              "      --disabled-fill-color: #666;\n",
              "  }\n",
              "\n",
              "  .colab-df-quickchart {\n",
              "    background-color: var(--bg-color);\n",
              "    border: none;\n",
              "    border-radius: 50%;\n",
              "    cursor: pointer;\n",
              "    display: none;\n",
              "    fill: var(--fill-color);\n",
              "    height: 32px;\n",
              "    padding: 0;\n",
              "    width: 32px;\n",
              "  }\n",
              "\n",
              "  .colab-df-quickchart:hover {\n",
              "    background-color: var(--hover-bg-color);\n",
              "    box-shadow: 0 1px 2px rgba(60, 64, 67, 0.3), 0 1px 3px 1px rgba(60, 64, 67, 0.15);\n",
              "    fill: var(--button-hover-fill-color);\n",
              "  }\n",
              "\n",
              "  .colab-df-quickchart-complete:disabled,\n",
              "  .colab-df-quickchart-complete:disabled:hover {\n",
              "    background-color: var(--disabled-bg-color);\n",
              "    fill: var(--disabled-fill-color);\n",
              "    box-shadow: none;\n",
              "  }\n",
              "\n",
              "  .colab-df-spinner {\n",
              "    border: 2px solid var(--fill-color);\n",
              "    border-color: transparent;\n",
              "    border-bottom-color: var(--fill-color);\n",
              "    animation:\n",
              "      spin 1s steps(1) infinite;\n",
              "  }\n",
              "\n",
              "  @keyframes spin {\n",
              "    0% {\n",
              "      border-color: transparent;\n",
              "      border-bottom-color: var(--fill-color);\n",
              "      border-left-color: var(--fill-color);\n",
              "    }\n",
              "    20% {\n",
              "      border-color: transparent;\n",
              "      border-left-color: var(--fill-color);\n",
              "      border-top-color: var(--fill-color);\n",
              "    }\n",
              "    30% {\n",
              "      border-color: transparent;\n",
              "      border-left-color: var(--fill-color);\n",
              "      border-top-color: var(--fill-color);\n",
              "      border-right-color: var(--fill-color);\n",
              "    }\n",
              "    40% {\n",
              "      border-color: transparent;\n",
              "      border-right-color: var(--fill-color);\n",
              "      border-top-color: var(--fill-color);\n",
              "    }\n",
              "    60% {\n",
              "      border-color: transparent;\n",
              "      border-right-color: var(--fill-color);\n",
              "    }\n",
              "    80% {\n",
              "      border-color: transparent;\n",
              "      border-right-color: var(--fill-color);\n",
              "      border-bottom-color: var(--fill-color);\n",
              "    }\n",
              "    90% {\n",
              "      border-color: transparent;\n",
              "      border-bottom-color: var(--fill-color);\n",
              "    }\n",
              "  }\n",
              "</style>\n",
              "\n",
              "  <script>\n",
              "    async function quickchart(key) {\n",
              "      const quickchartButtonEl =\n",
              "        document.querySelector('#' + key + ' button');\n",
              "      quickchartButtonEl.disabled = true;  // To prevent multiple clicks.\n",
              "      quickchartButtonEl.classList.add('colab-df-spinner');\n",
              "      try {\n",
              "        const charts = await google.colab.kernel.invokeFunction(\n",
              "            'suggestCharts', [key], {});\n",
              "      } catch (error) {\n",
              "        console.error('Error during call to suggestCharts:', error);\n",
              "      }\n",
              "      quickchartButtonEl.classList.remove('colab-df-spinner');\n",
              "      quickchartButtonEl.classList.add('colab-df-quickchart-complete');\n",
              "    }\n",
              "    (() => {\n",
              "      let quickchartButtonEl =\n",
              "        document.querySelector('#df-80162cea-3cd7-4e40-bf86-0624468107c8 button');\n",
              "      quickchartButtonEl.style.display =\n",
              "        google.colab.kernel.accessAllowed ? 'block' : 'none';\n",
              "    })();\n",
              "  </script>\n",
              "</div>\n",
              "    </div>\n",
              "  </div>\n"
            ],
            "application/vnd.google.colaboratory.intrinsic+json": {
              "type": "dataframe",
              "summary": "{\n  \"name\": \"tsla_df[tsla_df['Signal'] != 'HOLD']\",\n  \"rows\": 6,\n  \"fields\": [\n    {\n      \"column\": \"Open\",\n      \"properties\": {\n        \"dtype\": \"number\",\n        \"std\": 66.41102992385304,\n        \"min\": 116.55000305175781,\n        \"max\": 286.6300048828125,\n        \"num_unique_values\": 6,\n        \"samples\": [\n          116.55000305175781,\n          166.1699981689453,\n          286.6300048828125\n        ],\n        \"semantic_type\": \"\",\n        \"description\": \"\"\n      }\n    },\n    {\n      \"column\": \"High\",\n      \"properties\": {\n        \"dtype\": \"number\",\n        \"std\": 66.46545668378788,\n        \"min\": 122.62999725341797,\n        \"max\": 292.2300109863281,\n        \"num_unique_values\": 6,\n        \"samples\": [\n          122.62999725341797,\n          169.6999969482422,\n          292.2300109863281\n        ],\n        \"semantic_type\": \"\",\n        \"description\": \"\"\n      }\n    },\n    {\n      \"column\": \"Low\",\n      \"properties\": {\n        \"dtype\": \"number\",\n        \"std\": 66.24080014400111,\n        \"min\": 115.5999984741211,\n        \"max\": 283.57000732421875,\n        \"num_unique_values\": 6,\n        \"samples\": [\n          115.5999984741211,\n          160.55999755859375,\n          283.57000732421875\n        ],\n        \"semantic_type\": \"\",\n        \"description\": \"\"\n      }\n    },\n    {\n      \"column\": \"Close\",\n      \"properties\": {\n        \"dtype\": \"number\",\n        \"std\": 66.12987413949513,\n        \"min\": 122.4000015258789,\n        \"max\": 290.3800048828125,\n        \"num_unique_values\": 6,\n        \"samples\": [\n          122.4000015258789,\n          162.99000549316406,\n          290.3800048828125\n        ],\n        \"semantic_type\": \"\",\n        \"description\": \"\"\n      }\n    },\n    {\n      \"column\": \"Adj Close\",\n      \"properties\": {\n        \"dtype\": \"number\",\n        \"std\": 66.12987413949513,\n        \"min\": 122.4000015258789,\n        \"max\": 290.3800048828125,\n        \"num_unique_values\": 6,\n        \"samples\": [\n          122.4000015258789,\n          162.99000549316406,\n          290.3800048828125\n        ],\n        \"semantic_type\": \"\",\n        \"description\": \"\"\n      }\n    },\n    {\n      \"column\": \"Volume\",\n      \"properties\": {\n        \"dtype\": \"number\",\n        \"std\": 35101682.89455175,\n        \"min\": 119685900.0,\n        \"max\": 210970800.0,\n        \"num_unique_values\": 6,\n        \"samples\": [\n          180714100.0,\n          210970800.0,\n          131569600.0\n        ],\n        \"semantic_type\": \"\",\n        \"description\": \"\"\n      }\n    },\n    {\n      \"column\": \"RSI\",\n      \"properties\": {\n        \"dtype\": \"number\",\n        \"std\": 19.12703892135182,\n        \"min\": 26.92401998025126,\n        \"max\": 78.43802671017986,\n        \"num_unique_values\": 6,\n        \"samples\": [\n          78.43802671017986,\n          26.92401998025126,\n          73.11788989946761\n        ],\n        \"semantic_type\": \"\",\n        \"description\": \"\"\n      }\n    },\n    {\n      \"column\": \"Signal\",\n      \"properties\": {\n        \"dtype\": \"category\",\n        \"num_unique_values\": 2,\n        \"samples\": [\n          \"BUY\",\n          \"SELL\"\n        ],\n        \"semantic_type\": \"\",\n        \"description\": \"\"\n      }\n    },\n    {\n      \"column\": \"SMA_200\",\n      \"properties\": {\n        \"dtype\": \"number\",\n        \"std\": null,\n        \"min\": null,\n        \"max\": null,\n        \"num_unique_values\": 0,\n        \"samples\": [],\n        \"semantic_type\": \"\",\n        \"description\": \"\"\n      }\n    },\n    {\n      \"column\": \"Trend\",\n      \"properties\": {\n        \"dtype\": \"category\",\n        \"num_unique_values\": 1,\n        \"samples\": [],\n        \"semantic_type\": \"\",\n        \"description\": \"\"\n      }\n    },\n    {\n      \"column\": \"previousClose\",\n      \"properties\": {\n        \"dtype\": \"number\",\n        \"std\": 59.08144351625566,\n        \"min\": 122.4000015258789,\n        \"max\": 281.3800048828125,\n        \"num_unique_values\": 6,\n        \"samples\": [],\n        \"semantic_type\": \"\",\n        \"description\": \"\"\n      }\n    },\n    {\n      \"column\": \"color\",\n      \"properties\": {\n        \"dtype\": \"category\",\n        \"num_unique_values\": 2,\n        \"samples\": [],\n        \"semantic_type\": \"\",\n        \"description\": \"\"\n      }\n    },\n    {\n      \"column\": \"fill\",\n      \"properties\": {\n        \"dtype\": \"category\",\n        \"num_unique_values\": 2,\n        \"samples\": [],\n        \"semantic_type\": \"\",\n        \"description\": \"\"\n      }\n    }\n  ]\n}"
            }
          },
          "metadata": {},
          "execution_count": 37
        }
      ]
    },
    {
      "cell_type": "markdown",
      "source": [
        "**Melhorias da reunião 25 Janeiro**"
      ],
      "metadata": {
        "id": "QKDzcvCgK_E9"
      }
    },
    {
      "cell_type": "code",
      "source": [
        "# rsi separado do plot principal (gráfico) > makesubplot(para plotar grafico principal em cima e rsi embaixo)  FEITO"
      ],
      "metadata": {
        "id": "PBKju2DU1g6O"
      },
      "execution_count": 38,
      "outputs": []
    },
    {
      "cell_type": "code",
      "source": [
        "# plotly (graficos interativos) / dash (mesma coisa) > desenvolvimento web FEITO"
      ],
      "metadata": {
        "id": "h5sD5WuO1q45"
      },
      "execution_count": 39,
      "outputs": []
    },
    {
      "cell_type": "code",
      "source": [
        "# analisar tendencia (calculo simples de ema ou sma) FALTA"
      ],
      "metadata": {
        "id": "mmrhGp9615ui"
      },
      "execution_count": 40,
      "outputs": []
    },
    {
      "cell_type": "code",
      "source": [
        "# utilizar ap iq (50 a 100 velas) >> get_candles (! Nao pega a do momento atual no montante !). estrutura de deck (nao array). Nao sobrescreve o candle (entao tem que passar um loop na chamada de funcao) FEITO"
      ],
      "metadata": {
        "id": "Dlgc_rBx2bBD"
      },
      "execution_count": 41,
      "outputs": []
    },
    {
      "cell_type": "code",
      "source": [
        "# colocar minha senha e email num .env FEITO"
      ],
      "metadata": {
        "id": "jeb7he9gPCUp"
      },
      "execution_count": 42,
      "outputs": []
    },
    {
      "cell_type": "markdown",
      "source": [
        "# **Plot a partir da iqoption (com indicador técnico RSI a partir de funcao propria)**\n",
        "\n",
        "(https://medium.com/@maxwell.langford/its-2023-stop-leaking-secrets-in-google-colab-part-2-8215d47a76f2)\n",
        "\n"
      ],
      "metadata": {
        "id": "egXCvrxFJCHG"
      }
    },
    {
      "cell_type": "code",
      "source": [
        "# o arquivo .env já deve estar montado no ambiente de execução a partir dessa célula"
      ],
      "metadata": {
        "id": "7meRmw_pQjWQ"
      },
      "execution_count": 43,
      "outputs": []
    },
    {
      "cell_type": "code",
      "source": [
        "load_dotenv()"
      ],
      "metadata": {
        "colab": {
          "base_uri": "https://localhost:8080/"
        },
        "id": "2dWVAodgPAmp",
        "outputId": "048e30f8-baf4-4bb3-c963-408bcaa11884"
      },
      "execution_count": 44,
      "outputs": [
        {
          "output_type": "execute_result",
          "data": {
            "text/plain": [
              "False"
            ]
          },
          "metadata": {},
          "execution_count": 44
        }
      ]
    },
    {
      "cell_type": "code",
      "source": [
        "iqoption_email = os.getenv(\"my_email\")"
      ],
      "metadata": {
        "id": "12wgQCrnQBz3"
      },
      "execution_count": 45,
      "outputs": []
    },
    {
      "cell_type": "code",
      "source": [
        "iqoption_password = os.getenv(\"my_password\")"
      ],
      "metadata": {
        "id": "GHg0McGJQMe8"
      },
      "execution_count": 46,
      "outputs": []
    },
    {
      "cell_type": "code",
      "source": [
        "# logando na conta iqoption atráves da api iqoption"
      ],
      "metadata": {
        "id": "W8olAo3NvcC2"
      },
      "execution_count": 47,
      "outputs": []
    },
    {
      "cell_type": "code",
      "source": [
        "logging.basicConfig(level=logging.DEBUG,format='%(asctime)s %(message)s')\n",
        "Iq=IQ_Option('', '')"
      ],
      "metadata": {
        "id": "q_hMprE7JwPl"
      },
      "execution_count": 48,
      "outputs": []
    },
    {
      "cell_type": "code",
      "source": [
        "# checando resposta da requisição"
      ],
      "metadata": {
        "id": "LIdjIqcNJ6LQ"
      },
      "execution_count": 49,
      "outputs": []
    },
    {
      "cell_type": "code",
      "source": [
        "check, reason=Iq.connect()\n",
        "print(check, reason)"
      ],
      "metadata": {
        "colab": {
          "base_uri": "https://localhost:8080/"
        },
        "id": "J5edkyguwZqN",
        "outputId": "a5f59cfb-1e80-4d04-f9c9-1f6c8ba08036"
      },
      "execution_count": 50,
      "outputs": [
        {
          "output_type": "stream",
          "name": "stdout",
          "text": [
            "True None\n"
          ]
        }
      ]
    },
    {
      "cell_type": "code",
      "source": [
        "goal=\"EURUSD\""
      ],
      "metadata": {
        "id": "JRLOLevhw65c"
      },
      "execution_count": 51,
      "outputs": []
    },
    {
      "cell_type": "code",
      "source": [
        "# pegando os valores das velas (lembrando que utiliza deck)\n",
        "velas = Iq.get_candles(goal,60,111,time.time())"
      ],
      "metadata": {
        "id": "u_JQWynkxtFa"
      },
      "execution_count": 52,
      "outputs": []
    },
    {
      "cell_type": "code",
      "source": [
        "len(velas)"
      ],
      "metadata": {
        "colab": {
          "base_uri": "https://localhost:8080/"
        },
        "id": "HPZimPnmxUZC",
        "outputId": "f0cfb19d-6968-49cb-ec34-59f372ae1f3d"
      },
      "execution_count": 53,
      "outputs": [
        {
          "output_type": "execute_result",
          "data": {
            "text/plain": [
              "111"
            ]
          },
          "metadata": {},
          "execution_count": 53
        }
      ]
    },
    {
      "cell_type": "code",
      "source": [
        "type(velas)"
      ],
      "metadata": {
        "colab": {
          "base_uri": "https://localhost:8080/"
        },
        "id": "yjQy4H640bHP",
        "outputId": "3bc1c257-69b1-4f2d-b68d-87a5071579d2"
      },
      "execution_count": 54,
      "outputs": [
        {
          "output_type": "execute_result",
          "data": {
            "text/plain": [
              "list"
            ]
          },
          "metadata": {},
          "execution_count": 54
        }
      ]
    },
    {
      "cell_type": "code",
      "source": [
        "velas[0]"
      ],
      "metadata": {
        "colab": {
          "base_uri": "https://localhost:8080/"
        },
        "id": "7v2bL-iYxYuK",
        "outputId": "1476aca3-693c-41a8-c5e2-4858c9a94dc8"
      },
      "execution_count": 55,
      "outputs": [
        {
          "output_type": "execute_result",
          "data": {
            "text/plain": [
              "{'id': 2367275,\n",
              " 'from': 1709229120,\n",
              " 'at': 1709229180000000000,\n",
              " 'to': 1709229180,\n",
              " 'open': 1.079785,\n",
              " 'close': 1.07993,\n",
              " 'min': 1.079755,\n",
              " 'max': 1.07993,\n",
              " 'volume': 118}"
            ]
          },
          "metadata": {},
          "execution_count": 55
        }
      ]
    },
    {
      "cell_type": "code",
      "source": [
        "velas[-1]"
      ],
      "metadata": {
        "colab": {
          "base_uri": "https://localhost:8080/"
        },
        "id": "-Lf717q3x00y",
        "outputId": "7f7a7549-0bf3-4caf-b175-b291e0a04db8"
      },
      "execution_count": 56,
      "outputs": [
        {
          "output_type": "execute_result",
          "data": {
            "text/plain": [
              "{'id': 2367385,\n",
              " 'from': 1709235720,\n",
              " 'at': 1709235722004338237,\n",
              " 'to': 1709235780,\n",
              " 'open': 1.080455,\n",
              " 'close': 1.080465,\n",
              " 'min': 1.080455,\n",
              " 'max': 1.080465,\n",
              " 'volume': 4}"
            ]
          },
          "metadata": {},
          "execution_count": 56
        }
      ]
    },
    {
      "cell_type": "code",
      "source": [
        "EURUSD_df = pd.DataFrame(velas)"
      ],
      "metadata": {
        "id": "KA4cZERa0wfx"
      },
      "execution_count": 57,
      "outputs": []
    },
    {
      "cell_type": "markdown",
      "source": [
        "**Checando valores faltantes no dataframe originado**"
      ],
      "metadata": {
        "id": "NoWFXk47KLoo"
      }
    },
    {
      "cell_type": "code",
      "source": [
        "EURUSD_df.head()"
      ],
      "metadata": {
        "colab": {
          "base_uri": "https://localhost:8080/",
          "height": 206
        },
        "id": "mcPPtHtI07Dz",
        "outputId": "27a960c1-2fd3-47db-ff1e-1734ba7279f6"
      },
      "execution_count": 58,
      "outputs": [
        {
          "output_type": "execute_result",
          "data": {
            "text/plain": [
              "        id        from                   at          to      open     close  \\\n",
              "0  2367275  1709229120  1709229180000000000  1709229180  1.079785  1.079930   \n",
              "1  2367276  1709229180  1709229240000000000  1709229240  1.079925  1.079995   \n",
              "2  2367277  1709229240  1709229300000000000  1709229300  1.080000  1.080060   \n",
              "3  2367278  1709229300  1709229360001236569  1709229360  1.080060  1.079990   \n",
              "4  2367279  1709229360  1709229420000000000  1709229420  1.079990  1.079925   \n",
              "\n",
              "        min       max  volume  \n",
              "0  1.079755  1.079930     118  \n",
              "1  1.079925  1.080040     110  \n",
              "2  1.079995  1.080090     117  \n",
              "3  1.079965  1.080065     114  \n",
              "4  1.079830  1.079990     115  "
            ],
            "text/html": [
              "\n",
              "  <div id=\"df-637ead60-70ec-428e-b49a-2d37004eb02e\" class=\"colab-df-container\">\n",
              "    <div>\n",
              "<style scoped>\n",
              "    .dataframe tbody tr th:only-of-type {\n",
              "        vertical-align: middle;\n",
              "    }\n",
              "\n",
              "    .dataframe tbody tr th {\n",
              "        vertical-align: top;\n",
              "    }\n",
              "\n",
              "    .dataframe thead th {\n",
              "        text-align: right;\n",
              "    }\n",
              "</style>\n",
              "<table border=\"1\" class=\"dataframe\">\n",
              "  <thead>\n",
              "    <tr style=\"text-align: right;\">\n",
              "      <th></th>\n",
              "      <th>id</th>\n",
              "      <th>from</th>\n",
              "      <th>at</th>\n",
              "      <th>to</th>\n",
              "      <th>open</th>\n",
              "      <th>close</th>\n",
              "      <th>min</th>\n",
              "      <th>max</th>\n",
              "      <th>volume</th>\n",
              "    </tr>\n",
              "  </thead>\n",
              "  <tbody>\n",
              "    <tr>\n",
              "      <th>0</th>\n",
              "      <td>2367275</td>\n",
              "      <td>1709229120</td>\n",
              "      <td>1709229180000000000</td>\n",
              "      <td>1709229180</td>\n",
              "      <td>1.079785</td>\n",
              "      <td>1.079930</td>\n",
              "      <td>1.079755</td>\n",
              "      <td>1.079930</td>\n",
              "      <td>118</td>\n",
              "    </tr>\n",
              "    <tr>\n",
              "      <th>1</th>\n",
              "      <td>2367276</td>\n",
              "      <td>1709229180</td>\n",
              "      <td>1709229240000000000</td>\n",
              "      <td>1709229240</td>\n",
              "      <td>1.079925</td>\n",
              "      <td>1.079995</td>\n",
              "      <td>1.079925</td>\n",
              "      <td>1.080040</td>\n",
              "      <td>110</td>\n",
              "    </tr>\n",
              "    <tr>\n",
              "      <th>2</th>\n",
              "      <td>2367277</td>\n",
              "      <td>1709229240</td>\n",
              "      <td>1709229300000000000</td>\n",
              "      <td>1709229300</td>\n",
              "      <td>1.080000</td>\n",
              "      <td>1.080060</td>\n",
              "      <td>1.079995</td>\n",
              "      <td>1.080090</td>\n",
              "      <td>117</td>\n",
              "    </tr>\n",
              "    <tr>\n",
              "      <th>3</th>\n",
              "      <td>2367278</td>\n",
              "      <td>1709229300</td>\n",
              "      <td>1709229360001236569</td>\n",
              "      <td>1709229360</td>\n",
              "      <td>1.080060</td>\n",
              "      <td>1.079990</td>\n",
              "      <td>1.079965</td>\n",
              "      <td>1.080065</td>\n",
              "      <td>114</td>\n",
              "    </tr>\n",
              "    <tr>\n",
              "      <th>4</th>\n",
              "      <td>2367279</td>\n",
              "      <td>1709229360</td>\n",
              "      <td>1709229420000000000</td>\n",
              "      <td>1709229420</td>\n",
              "      <td>1.079990</td>\n",
              "      <td>1.079925</td>\n",
              "      <td>1.079830</td>\n",
              "      <td>1.079990</td>\n",
              "      <td>115</td>\n",
              "    </tr>\n",
              "  </tbody>\n",
              "</table>\n",
              "</div>\n",
              "    <div class=\"colab-df-buttons\">\n",
              "\n",
              "  <div class=\"colab-df-container\">\n",
              "    <button class=\"colab-df-convert\" onclick=\"convertToInteractive('df-637ead60-70ec-428e-b49a-2d37004eb02e')\"\n",
              "            title=\"Convert this dataframe to an interactive table.\"\n",
              "            style=\"display:none;\">\n",
              "\n",
              "  <svg xmlns=\"http://www.w3.org/2000/svg\" height=\"24px\" viewBox=\"0 -960 960 960\">\n",
              "    <path d=\"M120-120v-720h720v720H120Zm60-500h600v-160H180v160Zm220 220h160v-160H400v160Zm0 220h160v-160H400v160ZM180-400h160v-160H180v160Zm440 0h160v-160H620v160ZM180-180h160v-160H180v160Zm440 0h160v-160H620v160Z\"/>\n",
              "  </svg>\n",
              "    </button>\n",
              "\n",
              "  <style>\n",
              "    .colab-df-container {\n",
              "      display:flex;\n",
              "      gap: 12px;\n",
              "    }\n",
              "\n",
              "    .colab-df-convert {\n",
              "      background-color: #E8F0FE;\n",
              "      border: none;\n",
              "      border-radius: 50%;\n",
              "      cursor: pointer;\n",
              "      display: none;\n",
              "      fill: #1967D2;\n",
              "      height: 32px;\n",
              "      padding: 0 0 0 0;\n",
              "      width: 32px;\n",
              "    }\n",
              "\n",
              "    .colab-df-convert:hover {\n",
              "      background-color: #E2EBFA;\n",
              "      box-shadow: 0px 1px 2px rgba(60, 64, 67, 0.3), 0px 1px 3px 1px rgba(60, 64, 67, 0.15);\n",
              "      fill: #174EA6;\n",
              "    }\n",
              "\n",
              "    .colab-df-buttons div {\n",
              "      margin-bottom: 4px;\n",
              "    }\n",
              "\n",
              "    [theme=dark] .colab-df-convert {\n",
              "      background-color: #3B4455;\n",
              "      fill: #D2E3FC;\n",
              "    }\n",
              "\n",
              "    [theme=dark] .colab-df-convert:hover {\n",
              "      background-color: #434B5C;\n",
              "      box-shadow: 0px 1px 3px 1px rgba(0, 0, 0, 0.15);\n",
              "      filter: drop-shadow(0px 1px 2px rgba(0, 0, 0, 0.3));\n",
              "      fill: #FFFFFF;\n",
              "    }\n",
              "  </style>\n",
              "\n",
              "    <script>\n",
              "      const buttonEl =\n",
              "        document.querySelector('#df-637ead60-70ec-428e-b49a-2d37004eb02e button.colab-df-convert');\n",
              "      buttonEl.style.display =\n",
              "        google.colab.kernel.accessAllowed ? 'block' : 'none';\n",
              "\n",
              "      async function convertToInteractive(key) {\n",
              "        const element = document.querySelector('#df-637ead60-70ec-428e-b49a-2d37004eb02e');\n",
              "        const dataTable =\n",
              "          await google.colab.kernel.invokeFunction('convertToInteractive',\n",
              "                                                    [key], {});\n",
              "        if (!dataTable) return;\n",
              "\n",
              "        const docLinkHtml = 'Like what you see? Visit the ' +\n",
              "          '<a target=\"_blank\" href=https://colab.research.google.com/notebooks/data_table.ipynb>data table notebook</a>'\n",
              "          + ' to learn more about interactive tables.';\n",
              "        element.innerHTML = '';\n",
              "        dataTable['output_type'] = 'display_data';\n",
              "        await google.colab.output.renderOutput(dataTable, element);\n",
              "        const docLink = document.createElement('div');\n",
              "        docLink.innerHTML = docLinkHtml;\n",
              "        element.appendChild(docLink);\n",
              "      }\n",
              "    </script>\n",
              "  </div>\n",
              "\n",
              "\n",
              "<div id=\"df-f8d959b7-ddb7-4ebd-9661-60098181637c\">\n",
              "  <button class=\"colab-df-quickchart\" onclick=\"quickchart('df-f8d959b7-ddb7-4ebd-9661-60098181637c')\"\n",
              "            title=\"Suggest charts\"\n",
              "            style=\"display:none;\">\n",
              "\n",
              "<svg xmlns=\"http://www.w3.org/2000/svg\" height=\"24px\"viewBox=\"0 0 24 24\"\n",
              "     width=\"24px\">\n",
              "    <g>\n",
              "        <path d=\"M19 3H5c-1.1 0-2 .9-2 2v14c0 1.1.9 2 2 2h14c1.1 0 2-.9 2-2V5c0-1.1-.9-2-2-2zM9 17H7v-7h2v7zm4 0h-2V7h2v10zm4 0h-2v-4h2v4z\"/>\n",
              "    </g>\n",
              "</svg>\n",
              "  </button>\n",
              "\n",
              "<style>\n",
              "  .colab-df-quickchart {\n",
              "      --bg-color: #E8F0FE;\n",
              "      --fill-color: #1967D2;\n",
              "      --hover-bg-color: #E2EBFA;\n",
              "      --hover-fill-color: #174EA6;\n",
              "      --disabled-fill-color: #AAA;\n",
              "      --disabled-bg-color: #DDD;\n",
              "  }\n",
              "\n",
              "  [theme=dark] .colab-df-quickchart {\n",
              "      --bg-color: #3B4455;\n",
              "      --fill-color: #D2E3FC;\n",
              "      --hover-bg-color: #434B5C;\n",
              "      --hover-fill-color: #FFFFFF;\n",
              "      --disabled-bg-color: #3B4455;\n",
              "      --disabled-fill-color: #666;\n",
              "  }\n",
              "\n",
              "  .colab-df-quickchart {\n",
              "    background-color: var(--bg-color);\n",
              "    border: none;\n",
              "    border-radius: 50%;\n",
              "    cursor: pointer;\n",
              "    display: none;\n",
              "    fill: var(--fill-color);\n",
              "    height: 32px;\n",
              "    padding: 0;\n",
              "    width: 32px;\n",
              "  }\n",
              "\n",
              "  .colab-df-quickchart:hover {\n",
              "    background-color: var(--hover-bg-color);\n",
              "    box-shadow: 0 1px 2px rgba(60, 64, 67, 0.3), 0 1px 3px 1px rgba(60, 64, 67, 0.15);\n",
              "    fill: var(--button-hover-fill-color);\n",
              "  }\n",
              "\n",
              "  .colab-df-quickchart-complete:disabled,\n",
              "  .colab-df-quickchart-complete:disabled:hover {\n",
              "    background-color: var(--disabled-bg-color);\n",
              "    fill: var(--disabled-fill-color);\n",
              "    box-shadow: none;\n",
              "  }\n",
              "\n",
              "  .colab-df-spinner {\n",
              "    border: 2px solid var(--fill-color);\n",
              "    border-color: transparent;\n",
              "    border-bottom-color: var(--fill-color);\n",
              "    animation:\n",
              "      spin 1s steps(1) infinite;\n",
              "  }\n",
              "\n",
              "  @keyframes spin {\n",
              "    0% {\n",
              "      border-color: transparent;\n",
              "      border-bottom-color: var(--fill-color);\n",
              "      border-left-color: var(--fill-color);\n",
              "    }\n",
              "    20% {\n",
              "      border-color: transparent;\n",
              "      border-left-color: var(--fill-color);\n",
              "      border-top-color: var(--fill-color);\n",
              "    }\n",
              "    30% {\n",
              "      border-color: transparent;\n",
              "      border-left-color: var(--fill-color);\n",
              "      border-top-color: var(--fill-color);\n",
              "      border-right-color: var(--fill-color);\n",
              "    }\n",
              "    40% {\n",
              "      border-color: transparent;\n",
              "      border-right-color: var(--fill-color);\n",
              "      border-top-color: var(--fill-color);\n",
              "    }\n",
              "    60% {\n",
              "      border-color: transparent;\n",
              "      border-right-color: var(--fill-color);\n",
              "    }\n",
              "    80% {\n",
              "      border-color: transparent;\n",
              "      border-right-color: var(--fill-color);\n",
              "      border-bottom-color: var(--fill-color);\n",
              "    }\n",
              "    90% {\n",
              "      border-color: transparent;\n",
              "      border-bottom-color: var(--fill-color);\n",
              "    }\n",
              "  }\n",
              "</style>\n",
              "\n",
              "  <script>\n",
              "    async function quickchart(key) {\n",
              "      const quickchartButtonEl =\n",
              "        document.querySelector('#' + key + ' button');\n",
              "      quickchartButtonEl.disabled = true;  // To prevent multiple clicks.\n",
              "      quickchartButtonEl.classList.add('colab-df-spinner');\n",
              "      try {\n",
              "        const charts = await google.colab.kernel.invokeFunction(\n",
              "            'suggestCharts', [key], {});\n",
              "      } catch (error) {\n",
              "        console.error('Error during call to suggestCharts:', error);\n",
              "      }\n",
              "      quickchartButtonEl.classList.remove('colab-df-spinner');\n",
              "      quickchartButtonEl.classList.add('colab-df-quickchart-complete');\n",
              "    }\n",
              "    (() => {\n",
              "      let quickchartButtonEl =\n",
              "        document.querySelector('#df-f8d959b7-ddb7-4ebd-9661-60098181637c button');\n",
              "      quickchartButtonEl.style.display =\n",
              "        google.colab.kernel.accessAllowed ? 'block' : 'none';\n",
              "    })();\n",
              "  </script>\n",
              "</div>\n",
              "    </div>\n",
              "  </div>\n"
            ],
            "application/vnd.google.colaboratory.intrinsic+json": {
              "type": "dataframe",
              "variable_name": "EURUSD_df",
              "summary": "{\n  \"name\": \"EURUSD_df\",\n  \"rows\": 111,\n  \"fields\": [\n    {\n      \"column\": \"id\",\n      \"properties\": {\n        \"dtype\": \"number\",\n        \"std\": 32,\n        \"min\": 2367275,\n        \"max\": 2367385,\n        \"num_unique_values\": 111,\n        \"samples\": [\n          2367353,\n          2367285,\n          2367279\n        ],\n        \"semantic_type\": \"\",\n        \"description\": \"\"\n      }\n    },\n    {\n      \"column\": \"from\",\n      \"properties\": {\n        \"dtype\": \"number\",\n        \"std\": 1931,\n        \"min\": 1709229120,\n        \"max\": 1709235720,\n        \"num_unique_values\": 111,\n        \"samples\": [\n          1709233800,\n          1709229720,\n          1709229360\n        ],\n        \"semantic_type\": \"\",\n        \"description\": \"\"\n      }\n    },\n    {\n      \"column\": \"at\",\n      \"properties\": {\n        \"dtype\": \"number\",\n        \"std\": 1930323850367,\n        \"min\": 1709229180000000000,\n        \"max\": 1709235722004338237,\n        \"num_unique_values\": 111,\n        \"samples\": [\n          1709233860000000000,\n          1709229780000000000,\n          1709229420000000000\n        ],\n        \"semantic_type\": \"\",\n        \"description\": \"\"\n      }\n    },\n    {\n      \"column\": \"to\",\n      \"properties\": {\n        \"dtype\": \"number\",\n        \"std\": 1931,\n        \"min\": 1709229180,\n        \"max\": 1709235780,\n        \"num_unique_values\": 111,\n        \"samples\": [\n          1709233860,\n          1709229780,\n          1709229420\n        ],\n        \"semantic_type\": \"\",\n        \"description\": \"\"\n      }\n    },\n    {\n      \"column\": \"open\",\n      \"properties\": {\n        \"dtype\": \"number\",\n        \"std\": 0.00036671920738894857,\n        \"min\": 1.079785,\n        \"max\": 1.08112,\n        \"num_unique_values\": 96,\n        \"samples\": [\n          1.08094,\n          1.08102,\n          1.080905\n        ],\n        \"semantic_type\": \"\",\n        \"description\": \"\"\n      }\n    },\n    {\n      \"column\": \"close\",\n      \"properties\": {\n        \"dtype\": \"number\",\n        \"std\": 0.00035986055516631866,\n        \"min\": 1.07987,\n        \"max\": 1.081125,\n        \"num_unique_values\": 87,\n        \"samples\": [\n          1.08096,\n          1.07993,\n          1.080315\n        ],\n        \"semantic_type\": \"\",\n        \"description\": \"\"\n      }\n    },\n    {\n      \"column\": \"min\",\n      \"properties\": {\n        \"dtype\": \"number\",\n        \"std\": 0.0003617642919753138,\n        \"min\": 1.079755,\n        \"max\": 1.081,\n        \"num_unique_values\": 85,\n        \"samples\": [\n          1.08071,\n          1.079755,\n          1.08088\n        ],\n        \"semantic_type\": \"\",\n        \"description\": \"\"\n      }\n    },\n    {\n      \"column\": \"max\",\n      \"properties\": {\n        \"dtype\": \"number\",\n        \"std\": 0.00036174901593833596,\n        \"min\": 1.07993,\n        \"max\": 1.08113,\n        \"num_unique_values\": 82,\n        \"samples\": [\n          1.08066,\n          1.07993,\n          1.080345\n        ],\n        \"semantic_type\": \"\",\n        \"description\": \"\"\n      }\n    },\n    {\n      \"column\": \"volume\",\n      \"properties\": {\n        \"dtype\": \"number\",\n        \"std\": 11,\n        \"min\": 4,\n        \"max\": 119,\n        \"num_unique_values\": 21,\n        \"samples\": [\n          118,\n          119,\n          98\n        ],\n        \"semantic_type\": \"\",\n        \"description\": \"\"\n      }\n    }\n  ]\n}"
            }
          },
          "metadata": {},
          "execution_count": 58
        }
      ]
    },
    {
      "cell_type": "code",
      "source": [
        "EURUSD_df.isna().sum()"
      ],
      "metadata": {
        "colab": {
          "base_uri": "https://localhost:8080/"
        },
        "id": "WwPlNn492Oiv",
        "outputId": "d073f8bc-65cd-4b50-ba81-d042656d060a"
      },
      "execution_count": 59,
      "outputs": [
        {
          "output_type": "execute_result",
          "data": {
            "text/plain": [
              "id        0\n",
              "from      0\n",
              "at        0\n",
              "to        0\n",
              "open      0\n",
              "close     0\n",
              "min       0\n",
              "max       0\n",
              "volume    0\n",
              "dtype: int64"
            ]
          },
          "metadata": {},
          "execution_count": 59
        }
      ]
    },
    {
      "cell_type": "code",
      "source": [
        "rsi_values_2 = calculate_rsi(EURUSD_df['close'])"
      ],
      "metadata": {
        "id": "DAm_HouU1Csy"
      },
      "execution_count": 60,
      "outputs": []
    },
    {
      "cell_type": "code",
      "source": [
        "EURUSD_df['rsi'] = rsi_values_2"
      ],
      "metadata": {
        "id": "e0BlEwtD2A9O"
      },
      "execution_count": 61,
      "outputs": []
    },
    {
      "cell_type": "code",
      "source": [
        "EURUSD_df['rsi'].isna().sum()"
      ],
      "metadata": {
        "colab": {
          "base_uri": "https://localhost:8080/"
        },
        "id": "ouoFFdf02MSH",
        "outputId": "ddbfba82-989b-4317-9f47-01ee1e60ca02"
      },
      "execution_count": 62,
      "outputs": [
        {
          "output_type": "execute_result",
          "data": {
            "text/plain": [
              "13"
            ]
          },
          "metadata": {},
          "execution_count": 62
        }
      ]
    },
    {
      "cell_type": "code",
      "source": [
        "EURUSD_df['signal'] = generate_signals(EURUSD_df['rsi'])"
      ],
      "metadata": {
        "id": "OfxsAEer2NwW"
      },
      "execution_count": 63,
      "outputs": []
    },
    {
      "cell_type": "code",
      "source": [
        "EURUSD_df['signal'].isna().sum()"
      ],
      "metadata": {
        "colab": {
          "base_uri": "https://localhost:8080/"
        },
        "id": "yoCsptHV21De",
        "outputId": "919e91c5-1f27-4246-f605-307c844f11b2"
      },
      "execution_count": 64,
      "outputs": [
        {
          "output_type": "execute_result",
          "data": {
            "text/plain": [
              "0"
            ]
          },
          "metadata": {},
          "execution_count": 64
        }
      ]
    },
    {
      "cell_type": "code",
      "source": [
        "EURUSD_df['signal'].unique()"
      ],
      "metadata": {
        "colab": {
          "base_uri": "https://localhost:8080/"
        },
        "id": "Q5HZnDBs222t",
        "outputId": "7ecfa65c-b247-4ddf-f5e4-90872a7e2608"
      },
      "execution_count": 65,
      "outputs": [
        {
          "output_type": "execute_result",
          "data": {
            "text/plain": [
              "array(['HOLD', 'SELL', 'BUY'], dtype=object)"
            ]
          },
          "metadata": {},
          "execution_count": 65
        }
      ]
    },
    {
      "cell_type": "code",
      "source": [
        "EURUSD_df[\"previousClose\"] = EURUSD_df[\"close\"].shift(1)\n",
        "\n",
        "\n",
        "EURUSD_df[\"color\"] = np.where(EURUSD_df[\"close\"] > EURUSD_df[\"previousClose\"], \"green\", \"red\")\n",
        "\n",
        "\n",
        "EURUSD_df[\"fill\"] = np.where(EURUSD_df[\"close\"] > EURUSD_df[\"open\"], \"rgba(255, 0, 0, 0)\", EURUSD_df[\"color\"])"
      ],
      "metadata": {
        "id": "ij9zuJFE3Fa1"
      },
      "execution_count": 66,
      "outputs": []
    },
    {
      "cell_type": "code",
      "source": [
        "EURUSD_df[[\"previousClose\", \"color\", \"fill\"]].isna().sum()"
      ],
      "metadata": {
        "colab": {
          "base_uri": "https://localhost:8080/"
        },
        "id": "R88-xBn43UW9",
        "outputId": "202d535f-b849-4258-fdfb-c558f641cdbe"
      },
      "execution_count": 67,
      "outputs": [
        {
          "output_type": "execute_result",
          "data": {
            "text/plain": [
              "previousClose    1\n",
              "color            0\n",
              "fill             0\n",
              "dtype: int64"
            ]
          },
          "metadata": {},
          "execution_count": 67
        }
      ]
    },
    {
      "cell_type": "markdown",
      "source": [
        "**Checando valores únicos presentes no dataframe**"
      ],
      "metadata": {
        "id": "VIE38RwwKSdj"
      }
    },
    {
      "cell_type": "code",
      "source": [
        "EURUSD_df[\"color\"].unique()"
      ],
      "metadata": {
        "colab": {
          "base_uri": "https://localhost:8080/"
        },
        "id": "rbXMsuwJ3hod",
        "outputId": "f0546f90-ec09-4a0a-f185-abf7e522aff2"
      },
      "execution_count": 68,
      "outputs": [
        {
          "output_type": "execute_result",
          "data": {
            "text/plain": [
              "array(['red', 'green'], dtype=object)"
            ]
          },
          "metadata": {},
          "execution_count": 68
        }
      ]
    },
    {
      "cell_type": "code",
      "source": [
        "EURUSD_df[\"fill\"].unique()"
      ],
      "metadata": {
        "colab": {
          "base_uri": "https://localhost:8080/"
        },
        "id": "tb6quK3Y3nCs",
        "outputId": "04f86a53-b12a-4c8a-e63a-4e1bea9d2d6f"
      },
      "execution_count": 69,
      "outputs": [
        {
          "output_type": "execute_result",
          "data": {
            "text/plain": [
              "array(['rgba(255, 0, 0, 0)', 'red'], dtype=object)"
            ]
          },
          "metadata": {},
          "execution_count": 69
        }
      ]
    },
    {
      "cell_type": "code",
      "source": [
        "# Plot a partir do dataframe gerado com dados requisitado da api iqoption. Possui sinalização básica utilizando apenas limiares de rsi\n",
        "\n",
        "fig = make_subplots(rows=2, cols=1, shared_xaxes=True, vertical_spacing=0.05,\n",
        "                    subplot_titles=(\"Candlestick\", \"RSI\"))\n",
        "\n",
        "\n",
        "for index, row in EURUSD_df.iterrows():\n",
        "    color = dict(fillcolor=row[\"fill\"], line=dict(color=row[\"color\"])) # TA FALTANDO O FILL NO DICIONARIO E PRONTO!\n",
        "    fig.add_trace(\n",
        "        go.Candlestick(\n",
        "            x=[index],\n",
        "            open=[row[\"open\"]],\n",
        "            high=[row[\"max\"]],\n",
        "            low=[row[\"min\"]],\n",
        "            close=[row[\"close\"]],\n",
        "            increasing=color,\n",
        "            decreasing=color,\n",
        "            showlegend=False,\n",
        "        ),\n",
        "        row=1, col=1\n",
        "    )\n",
        "\n",
        "\n",
        "fig.add_trace(\n",
        "    go.Scatter(x=EURUSD_df.index, y=EURUSD_df['rsi'], mode='lines', name='RSI', marker=dict(color='orange')),\n",
        "    row=2, col=1\n",
        ")\n",
        "\n",
        "\n",
        "for index, row in EURUSD_df.iterrows():\n",
        "    if row['signal'] == 'SELL':\n",
        "        fig.add_trace(\n",
        "            go.Scatter(x=[index], y=[row['rsi']], mode='markers', marker=dict(color='red'), showlegend=False),\n",
        "            row=2, col=1\n",
        "        )\n",
        "    elif row['signal'] == 'BUY':\n",
        "        fig.add_trace(\n",
        "            go.Scatter(x=[index], y=[row['rsi']], mode='markers', marker=dict(color='green'), showlegend=False),\n",
        "            row=2, col=1\n",
        "        )\n",
        "\n",
        "\n",
        "fig.add_hline(y=30, line_dash=\"dash\", line_color=\"blue\", row=2, col=1, name=\"RSI 30\")\n",
        "fig.add_hline(y=70, line_dash=\"dash\", line_color=\"red\", row=2, col=1, name=\"RSI 70\")\n",
        "\n",
        "\n",
        "fig.update_layout(title=\"EURUSD\",\n",
        "                  xaxis_rangeslider_visible=False,\n",
        "                  yaxis2=dict(title=\"RSI\", range=[0, 100]))\n",
        "\n",
        "\n",
        "fig.show()"
      ],
      "metadata": {
        "colab": {
          "base_uri": "https://localhost:8080/",
          "height": 542
        },
        "id": "kwedJMnL3u50",
        "outputId": "93f56abc-de2b-48ff-b2f9-8469779b30aa"
      },
      "execution_count": 70,
      "outputs": [
        {
          "output_type": "display_data",
          "data": {
            "text/html": [
              "<html>\n",
              "<head><meta charset=\"utf-8\" /></head>\n",
              "<body>\n",
              "    <div>            <script src=\"https://cdnjs.cloudflare.com/ajax/libs/mathjax/2.7.5/MathJax.js?config=TeX-AMS-MML_SVG\"></script><script type=\"text/javascript\">if (window.MathJax && window.MathJax.Hub && window.MathJax.Hub.Config) {window.MathJax.Hub.Config({SVG: {font: \"STIX-Web\"}});}</script>                <script type=\"text/javascript\">window.PlotlyConfig = {MathJaxConfig: 'local'};</script>\n",
              "        <script charset=\"utf-8\" src=\"https://cdn.plot.ly/plotly-2.24.1.min.js\"></script>                <div id=\"4b9f81b0-178a-412c-985c-12d7d755fbbd\" class=\"plotly-graph-div\" style=\"height:525px; width:100%;\"></div>            <script type=\"text/javascript\">                                    window.PLOTLYENV=window.PLOTLYENV || {};                                    if (document.getElementById(\"4b9f81b0-178a-412c-985c-12d7d755fbbd\")) {                    Plotly.newPlot(                        \"4b9f81b0-178a-412c-985c-12d7d755fbbd\",                        [{\"close\":[1.07993],\"decreasing\":{\"fillcolor\":\"rgba(255, 0, 0, 0)\",\"line\":{\"color\":\"red\"}},\"high\":[1.07993],\"increasing\":{\"fillcolor\":\"rgba(255, 0, 0, 0)\",\"line\":{\"color\":\"red\"}},\"low\":[1.079755],\"open\":[1.079785],\"showlegend\":false,\"x\":[0],\"type\":\"candlestick\",\"xaxis\":\"x\",\"yaxis\":\"y\"},{\"close\":[1.079995],\"decreasing\":{\"fillcolor\":\"rgba(255, 0, 0, 0)\",\"line\":{\"color\":\"green\"}},\"high\":[1.08004],\"increasing\":{\"fillcolor\":\"rgba(255, 0, 0, 0)\",\"line\":{\"color\":\"green\"}},\"low\":[1.079925],\"open\":[1.079925],\"showlegend\":false,\"x\":[1],\"type\":\"candlestick\",\"xaxis\":\"x\",\"yaxis\":\"y\"},{\"close\":[1.08006],\"decreasing\":{\"fillcolor\":\"rgba(255, 0, 0, 0)\",\"line\":{\"color\":\"green\"}},\"high\":[1.08009],\"increasing\":{\"fillcolor\":\"rgba(255, 0, 0, 0)\",\"line\":{\"color\":\"green\"}},\"low\":[1.079995],\"open\":[1.08],\"showlegend\":false,\"x\":[2],\"type\":\"candlestick\",\"xaxis\":\"x\",\"yaxis\":\"y\"},{\"close\":[1.07999],\"decreasing\":{\"fillcolor\":\"red\",\"line\":{\"color\":\"red\"}},\"high\":[1.080065],\"increasing\":{\"fillcolor\":\"red\",\"line\":{\"color\":\"red\"}},\"low\":[1.079965],\"open\":[1.08006],\"showlegend\":false,\"x\":[3],\"type\":\"candlestick\",\"xaxis\":\"x\",\"yaxis\":\"y\"},{\"close\":[1.079925],\"decreasing\":{\"fillcolor\":\"red\",\"line\":{\"color\":\"red\"}},\"high\":[1.07999],\"increasing\":{\"fillcolor\":\"red\",\"line\":{\"color\":\"red\"}},\"low\":[1.07983],\"open\":[1.07999],\"showlegend\":false,\"x\":[4],\"type\":\"candlestick\",\"xaxis\":\"x\",\"yaxis\":\"y\"},{\"close\":[1.07997],\"decreasing\":{\"fillcolor\":\"rgba(255, 0, 0, 0)\",\"line\":{\"color\":\"green\"}},\"high\":[1.080065],\"increasing\":{\"fillcolor\":\"rgba(255, 0, 0, 0)\",\"line\":{\"color\":\"green\"}},\"low\":[1.079915],\"open\":[1.079925],\"showlegend\":false,\"x\":[5],\"type\":\"candlestick\",\"xaxis\":\"x\",\"yaxis\":\"y\"},{\"close\":[1.07999],\"decreasing\":{\"fillcolor\":\"rgba(255, 0, 0, 0)\",\"line\":{\"color\":\"green\"}},\"high\":[1.08001],\"increasing\":{\"fillcolor\":\"rgba(255, 0, 0, 0)\",\"line\":{\"color\":\"green\"}},\"low\":[1.07994],\"open\":[1.079965],\"showlegend\":false,\"x\":[6],\"type\":\"candlestick\",\"xaxis\":\"x\",\"yaxis\":\"y\"},{\"close\":[1.079985],\"decreasing\":{\"fillcolor\":\"red\",\"line\":{\"color\":\"red\"}},\"high\":[1.080075],\"increasing\":{\"fillcolor\":\"red\",\"line\":{\"color\":\"red\"}},\"low\":[1.079945],\"open\":[1.08],\"showlegend\":false,\"x\":[7],\"type\":\"candlestick\",\"xaxis\":\"x\",\"yaxis\":\"y\"},{\"close\":[1.0799],\"decreasing\":{\"fillcolor\":\"red\",\"line\":{\"color\":\"red\"}},\"high\":[1.08005],\"increasing\":{\"fillcolor\":\"red\",\"line\":{\"color\":\"red\"}},\"low\":[1.079895],\"open\":[1.079985],\"showlegend\":false,\"x\":[8],\"type\":\"candlestick\",\"xaxis\":\"x\",\"yaxis\":\"y\"},{\"close\":[1.08003],\"decreasing\":{\"fillcolor\":\"rgba(255, 0, 0, 0)\",\"line\":{\"color\":\"green\"}},\"high\":[1.08003],\"increasing\":{\"fillcolor\":\"rgba(255, 0, 0, 0)\",\"line\":{\"color\":\"green\"}},\"low\":[1.079875],\"open\":[1.079905],\"showlegend\":false,\"x\":[9],\"type\":\"candlestick\",\"xaxis\":\"x\",\"yaxis\":\"y\"},{\"close\":[1.080075],\"decreasing\":{\"fillcolor\":\"rgba(255, 0, 0, 0)\",\"line\":{\"color\":\"green\"}},\"high\":[1.0801],\"increasing\":{\"fillcolor\":\"rgba(255, 0, 0, 0)\",\"line\":{\"color\":\"green\"}},\"low\":[1.080005],\"open\":[1.080025],\"showlegend\":false,\"x\":[10],\"type\":\"candlestick\",\"xaxis\":\"x\",\"yaxis\":\"y\"},{\"close\":[1.080025],\"decreasing\":{\"fillcolor\":\"red\",\"line\":{\"color\":\"red\"}},\"high\":[1.08009],\"increasing\":{\"fillcolor\":\"red\",\"line\":{\"color\":\"red\"}},\"low\":[1.080005],\"open\":[1.080075],\"showlegend\":false,\"x\":[11],\"type\":\"candlestick\",\"xaxis\":\"x\",\"yaxis\":\"y\"},{\"close\":[1.08003],\"decreasing\":{\"fillcolor\":\"rgba(255, 0, 0, 0)\",\"line\":{\"color\":\"green\"}},\"high\":[1.080055],\"increasing\":{\"fillcolor\":\"rgba(255, 0, 0, 0)\",\"line\":{\"color\":\"green\"}},\"low\":[1.079975],\"open\":[1.08002],\"showlegend\":false,\"x\":[12],\"type\":\"candlestick\",\"xaxis\":\"x\",\"yaxis\":\"y\"},{\"close\":[1.07993],\"decreasing\":{\"fillcolor\":\"red\",\"line\":{\"color\":\"red\"}},\"high\":[1.080055],\"increasing\":{\"fillcolor\":\"red\",\"line\":{\"color\":\"red\"}},\"low\":[1.07991],\"open\":[1.08003],\"showlegend\":false,\"x\":[13],\"type\":\"candlestick\",\"xaxis\":\"x\",\"yaxis\":\"y\"},{\"close\":[1.07987],\"decreasing\":{\"fillcolor\":\"red\",\"line\":{\"color\":\"red\"}},\"high\":[1.07995],\"increasing\":{\"fillcolor\":\"red\",\"line\":{\"color\":\"red\"}},\"low\":[1.079835],\"open\":[1.079925],\"showlegend\":false,\"x\":[14],\"type\":\"candlestick\",\"xaxis\":\"x\",\"yaxis\":\"y\"},{\"close\":[1.080065],\"decreasing\":{\"fillcolor\":\"rgba(255, 0, 0, 0)\",\"line\":{\"color\":\"green\"}},\"high\":[1.080085],\"increasing\":{\"fillcolor\":\"rgba(255, 0, 0, 0)\",\"line\":{\"color\":\"green\"}},\"low\":[1.07985],\"open\":[1.079875],\"showlegend\":false,\"x\":[15],\"type\":\"candlestick\",\"xaxis\":\"x\",\"yaxis\":\"y\"},{\"close\":[1.080005],\"decreasing\":{\"fillcolor\":\"red\",\"line\":{\"color\":\"red\"}},\"high\":[1.08006],\"increasing\":{\"fillcolor\":\"red\",\"line\":{\"color\":\"red\"}},\"low\":[1.079995],\"open\":[1.08006],\"showlegend\":false,\"x\":[16],\"type\":\"candlestick\",\"xaxis\":\"x\",\"yaxis\":\"y\"},{\"close\":[1.07997],\"decreasing\":{\"fillcolor\":\"red\",\"line\":{\"color\":\"red\"}},\"high\":[1.08003],\"increasing\":{\"fillcolor\":\"red\",\"line\":{\"color\":\"red\"}},\"low\":[1.07993],\"open\":[1.08],\"showlegend\":false,\"x\":[17],\"type\":\"candlestick\",\"xaxis\":\"x\",\"yaxis\":\"y\"},{\"close\":[1.079955],\"decreasing\":{\"fillcolor\":\"red\",\"line\":{\"color\":\"red\"}},\"high\":[1.08003],\"increasing\":{\"fillcolor\":\"red\",\"line\":{\"color\":\"red\"}},\"low\":[1.079915],\"open\":[1.07997],\"showlegend\":false,\"x\":[18],\"type\":\"candlestick\",\"xaxis\":\"x\",\"yaxis\":\"y\"},{\"close\":[1.08001],\"decreasing\":{\"fillcolor\":\"rgba(255, 0, 0, 0)\",\"line\":{\"color\":\"green\"}},\"high\":[1.080015],\"increasing\":{\"fillcolor\":\"rgba(255, 0, 0, 0)\",\"line\":{\"color\":\"green\"}},\"low\":[1.07992],\"open\":[1.07995],\"showlegend\":false,\"x\":[19],\"type\":\"candlestick\",\"xaxis\":\"x\",\"yaxis\":\"y\"},{\"close\":[1.079975],\"decreasing\":{\"fillcolor\":\"red\",\"line\":{\"color\":\"red\"}},\"high\":[1.08001],\"increasing\":{\"fillcolor\":\"red\",\"line\":{\"color\":\"red\"}},\"low\":[1.079925],\"open\":[1.08001],\"showlegend\":false,\"x\":[20],\"type\":\"candlestick\",\"xaxis\":\"x\",\"yaxis\":\"y\"},{\"close\":[1.08008],\"decreasing\":{\"fillcolor\":\"rgba(255, 0, 0, 0)\",\"line\":{\"color\":\"green\"}},\"high\":[1.080105],\"increasing\":{\"fillcolor\":\"rgba(255, 0, 0, 0)\",\"line\":{\"color\":\"green\"}},\"low\":[1.07997],\"open\":[1.079975],\"showlegend\":false,\"x\":[21],\"type\":\"candlestick\",\"xaxis\":\"x\",\"yaxis\":\"y\"},{\"close\":[1.080105],\"decreasing\":{\"fillcolor\":\"rgba(255, 0, 0, 0)\",\"line\":{\"color\":\"green\"}},\"high\":[1.08013],\"increasing\":{\"fillcolor\":\"rgba(255, 0, 0, 0)\",\"line\":{\"color\":\"green\"}},\"low\":[1.080055],\"open\":[1.08008],\"showlegend\":false,\"x\":[22],\"type\":\"candlestick\",\"xaxis\":\"x\",\"yaxis\":\"y\"},{\"close\":[1.080185],\"decreasing\":{\"fillcolor\":\"rgba(255, 0, 0, 0)\",\"line\":{\"color\":\"green\"}},\"high\":[1.0802],\"increasing\":{\"fillcolor\":\"rgba(255, 0, 0, 0)\",\"line\":{\"color\":\"green\"}},\"low\":[1.080085],\"open\":[1.08011],\"showlegend\":false,\"x\":[23],\"type\":\"candlestick\",\"xaxis\":\"x\",\"yaxis\":\"y\"},{\"close\":[1.080145],\"decreasing\":{\"fillcolor\":\"red\",\"line\":{\"color\":\"red\"}},\"high\":[1.0802],\"increasing\":{\"fillcolor\":\"red\",\"line\":{\"color\":\"red\"}},\"low\":[1.08011],\"open\":[1.080185],\"showlegend\":false,\"x\":[24],\"type\":\"candlestick\",\"xaxis\":\"x\",\"yaxis\":\"y\"},{\"close\":[1.08017],\"decreasing\":{\"fillcolor\":\"rgba(255, 0, 0, 0)\",\"line\":{\"color\":\"green\"}},\"high\":[1.080215],\"increasing\":{\"fillcolor\":\"rgba(255, 0, 0, 0)\",\"line\":{\"color\":\"green\"}},\"low\":[1.080115],\"open\":[1.080145],\"showlegend\":false,\"x\":[25],\"type\":\"candlestick\",\"xaxis\":\"x\",\"yaxis\":\"y\"},{\"close\":[1.080125],\"decreasing\":{\"fillcolor\":\"red\",\"line\":{\"color\":\"red\"}},\"high\":[1.080225],\"increasing\":{\"fillcolor\":\"red\",\"line\":{\"color\":\"red\"}},\"low\":[1.080125],\"open\":[1.08019],\"showlegend\":false,\"x\":[26],\"type\":\"candlestick\",\"xaxis\":\"x\",\"yaxis\":\"y\"},{\"close\":[1.080165],\"decreasing\":{\"fillcolor\":\"rgba(255, 0, 0, 0)\",\"line\":{\"color\":\"green\"}},\"high\":[1.08019],\"increasing\":{\"fillcolor\":\"rgba(255, 0, 0, 0)\",\"line\":{\"color\":\"green\"}},\"low\":[1.080115],\"open\":[1.080115],\"showlegend\":false,\"x\":[27],\"type\":\"candlestick\",\"xaxis\":\"x\",\"yaxis\":\"y\"},{\"close\":[1.08028],\"decreasing\":{\"fillcolor\":\"rgba(255, 0, 0, 0)\",\"line\":{\"color\":\"green\"}},\"high\":[1.0803],\"increasing\":{\"fillcolor\":\"rgba(255, 0, 0, 0)\",\"line\":{\"color\":\"green\"}},\"low\":[1.08016],\"open\":[1.080165],\"showlegend\":false,\"x\":[28],\"type\":\"candlestick\",\"xaxis\":\"x\",\"yaxis\":\"y\"},{\"close\":[1.08032],\"decreasing\":{\"fillcolor\":\"rgba(255, 0, 0, 0)\",\"line\":{\"color\":\"green\"}},\"high\":[1.080345],\"increasing\":{\"fillcolor\":\"rgba(255, 0, 0, 0)\",\"line\":{\"color\":\"green\"}},\"low\":[1.080275],\"open\":[1.080275],\"showlegend\":false,\"x\":[29],\"type\":\"candlestick\",\"xaxis\":\"x\",\"yaxis\":\"y\"},{\"close\":[1.080315],\"decreasing\":{\"fillcolor\":\"red\",\"line\":{\"color\":\"red\"}},\"high\":[1.08037],\"increasing\":{\"fillcolor\":\"red\",\"line\":{\"color\":\"red\"}},\"low\":[1.08031],\"open\":[1.08032],\"showlegend\":false,\"x\":[30],\"type\":\"candlestick\",\"xaxis\":\"x\",\"yaxis\":\"y\"},{\"close\":[1.080295],\"decreasing\":{\"fillcolor\":\"red\",\"line\":{\"color\":\"red\"}},\"high\":[1.080335],\"increasing\":{\"fillcolor\":\"red\",\"line\":{\"color\":\"red\"}},\"low\":[1.080255],\"open\":[1.08031],\"showlegend\":false,\"x\":[31],\"type\":\"candlestick\",\"xaxis\":\"x\",\"yaxis\":\"y\"},{\"close\":[1.08034],\"decreasing\":{\"fillcolor\":\"rgba(255, 0, 0, 0)\",\"line\":{\"color\":\"green\"}},\"high\":[1.080355],\"increasing\":{\"fillcolor\":\"rgba(255, 0, 0, 0)\",\"line\":{\"color\":\"green\"}},\"low\":[1.08028],\"open\":[1.080295],\"showlegend\":false,\"x\":[32],\"type\":\"candlestick\",\"xaxis\":\"x\",\"yaxis\":\"y\"},{\"close\":[1.080435],\"decreasing\":{\"fillcolor\":\"rgba(255, 0, 0, 0)\",\"line\":{\"color\":\"green\"}},\"high\":[1.08045],\"increasing\":{\"fillcolor\":\"rgba(255, 0, 0, 0)\",\"line\":{\"color\":\"green\"}},\"low\":[1.08033],\"open\":[1.08034],\"showlegend\":false,\"x\":[33],\"type\":\"candlestick\",\"xaxis\":\"x\",\"yaxis\":\"y\"},{\"close\":[1.08047],\"decreasing\":{\"fillcolor\":\"rgba(255, 0, 0, 0)\",\"line\":{\"color\":\"green\"}},\"high\":[1.080495],\"increasing\":{\"fillcolor\":\"rgba(255, 0, 0, 0)\",\"line\":{\"color\":\"green\"}},\"low\":[1.080425],\"open\":[1.080435],\"showlegend\":false,\"x\":[34],\"type\":\"candlestick\",\"xaxis\":\"x\",\"yaxis\":\"y\"},{\"close\":[1.08059],\"decreasing\":{\"fillcolor\":\"rgba(255, 0, 0, 0)\",\"line\":{\"color\":\"green\"}},\"high\":[1.080635],\"increasing\":{\"fillcolor\":\"rgba(255, 0, 0, 0)\",\"line\":{\"color\":\"green\"}},\"low\":[1.08046],\"open\":[1.08047],\"showlegend\":false,\"x\":[35],\"type\":\"candlestick\",\"xaxis\":\"x\",\"yaxis\":\"y\"},{\"close\":[1.080635],\"decreasing\":{\"fillcolor\":\"rgba(255, 0, 0, 0)\",\"line\":{\"color\":\"green\"}},\"high\":[1.080645],\"increasing\":{\"fillcolor\":\"rgba(255, 0, 0, 0)\",\"line\":{\"color\":\"green\"}},\"low\":[1.080545],\"open\":[1.080585],\"showlegend\":false,\"x\":[36],\"type\":\"candlestick\",\"xaxis\":\"x\",\"yaxis\":\"y\"},{\"close\":[1.080545],\"decreasing\":{\"fillcolor\":\"red\",\"line\":{\"color\":\"red\"}},\"high\":[1.08066],\"increasing\":{\"fillcolor\":\"red\",\"line\":{\"color\":\"red\"}},\"low\":[1.080545],\"open\":[1.08064],\"showlegend\":false,\"x\":[37],\"type\":\"candlestick\",\"xaxis\":\"x\",\"yaxis\":\"y\"},{\"close\":[1.08043],\"decreasing\":{\"fillcolor\":\"red\",\"line\":{\"color\":\"red\"}},\"high\":[1.080545],\"increasing\":{\"fillcolor\":\"red\",\"line\":{\"color\":\"red\"}},\"low\":[1.080415],\"open\":[1.080545],\"showlegend\":false,\"x\":[38],\"type\":\"candlestick\",\"xaxis\":\"x\",\"yaxis\":\"y\"},{\"close\":[1.080485],\"decreasing\":{\"fillcolor\":\"rgba(255, 0, 0, 0)\",\"line\":{\"color\":\"green\"}},\"high\":[1.0805],\"increasing\":{\"fillcolor\":\"rgba(255, 0, 0, 0)\",\"line\":{\"color\":\"green\"}},\"low\":[1.080425],\"open\":[1.080425],\"showlegend\":false,\"x\":[39],\"type\":\"candlestick\",\"xaxis\":\"x\",\"yaxis\":\"y\"},{\"close\":[1.08054],\"decreasing\":{\"fillcolor\":\"rgba(255, 0, 0, 0)\",\"line\":{\"color\":\"green\"}},\"high\":[1.080605],\"increasing\":{\"fillcolor\":\"rgba(255, 0, 0, 0)\",\"line\":{\"color\":\"green\"}},\"low\":[1.080475],\"open\":[1.080485],\"showlegend\":false,\"x\":[40],\"type\":\"candlestick\",\"xaxis\":\"x\",\"yaxis\":\"y\"},{\"close\":[1.08051],\"decreasing\":{\"fillcolor\":\"red\",\"line\":{\"color\":\"red\"}},\"high\":[1.080565],\"increasing\":{\"fillcolor\":\"red\",\"line\":{\"color\":\"red\"}},\"low\":[1.080485],\"open\":[1.08055],\"showlegend\":false,\"x\":[41],\"type\":\"candlestick\",\"xaxis\":\"x\",\"yaxis\":\"y\"},{\"close\":[1.080445],\"decreasing\":{\"fillcolor\":\"red\",\"line\":{\"color\":\"red\"}},\"high\":[1.08051],\"increasing\":{\"fillcolor\":\"red\",\"line\":{\"color\":\"red\"}},\"low\":[1.080415],\"open\":[1.080505],\"showlegend\":false,\"x\":[42],\"type\":\"candlestick\",\"xaxis\":\"x\",\"yaxis\":\"y\"},{\"close\":[1.08047],\"decreasing\":{\"fillcolor\":\"rgba(255, 0, 0, 0)\",\"line\":{\"color\":\"green\"}},\"high\":[1.080485],\"increasing\":{\"fillcolor\":\"rgba(255, 0, 0, 0)\",\"line\":{\"color\":\"green\"}},\"low\":[1.080405],\"open\":[1.080445],\"showlegend\":false,\"x\":[43],\"type\":\"candlestick\",\"xaxis\":\"x\",\"yaxis\":\"y\"},{\"close\":[1.080335],\"decreasing\":{\"fillcolor\":\"red\",\"line\":{\"color\":\"red\"}},\"high\":[1.080485],\"increasing\":{\"fillcolor\":\"red\",\"line\":{\"color\":\"red\"}},\"low\":[1.08032],\"open\":[1.08046],\"showlegend\":false,\"x\":[44],\"type\":\"candlestick\",\"xaxis\":\"x\",\"yaxis\":\"y\"},{\"close\":[1.080325],\"decreasing\":{\"fillcolor\":\"red\",\"line\":{\"color\":\"red\"}},\"high\":[1.080395],\"increasing\":{\"fillcolor\":\"red\",\"line\":{\"color\":\"red\"}},\"low\":[1.080325],\"open\":[1.080345],\"showlegend\":false,\"x\":[45],\"type\":\"candlestick\",\"xaxis\":\"x\",\"yaxis\":\"y\"},{\"close\":[1.080365],\"decreasing\":{\"fillcolor\":\"rgba(255, 0, 0, 0)\",\"line\":{\"color\":\"green\"}},\"high\":[1.080395],\"increasing\":{\"fillcolor\":\"rgba(255, 0, 0, 0)\",\"line\":{\"color\":\"green\"}},\"low\":[1.080315],\"open\":[1.080325],\"showlegend\":false,\"x\":[46],\"type\":\"candlestick\",\"xaxis\":\"x\",\"yaxis\":\"y\"},{\"close\":[1.080345],\"decreasing\":{\"fillcolor\":\"red\",\"line\":{\"color\":\"red\"}},\"high\":[1.080395],\"increasing\":{\"fillcolor\":\"red\",\"line\":{\"color\":\"red\"}},\"low\":[1.080335],\"open\":[1.080365],\"showlegend\":false,\"x\":[47],\"type\":\"candlestick\",\"xaxis\":\"x\",\"yaxis\":\"y\"},{\"close\":[1.080405],\"decreasing\":{\"fillcolor\":\"rgba(255, 0, 0, 0)\",\"line\":{\"color\":\"green\"}},\"high\":[1.080405],\"increasing\":{\"fillcolor\":\"rgba(255, 0, 0, 0)\",\"line\":{\"color\":\"green\"}},\"low\":[1.080335],\"open\":[1.080335],\"showlegend\":false,\"x\":[48],\"type\":\"candlestick\",\"xaxis\":\"x\",\"yaxis\":\"y\"},{\"close\":[1.080445],\"decreasing\":{\"fillcolor\":\"rgba(255, 0, 0, 0)\",\"line\":{\"color\":\"green\"}},\"high\":[1.08049],\"increasing\":{\"fillcolor\":\"rgba(255, 0, 0, 0)\",\"line\":{\"color\":\"green\"}},\"low\":[1.080375],\"open\":[1.080395],\"showlegend\":false,\"x\":[49],\"type\":\"candlestick\",\"xaxis\":\"x\",\"yaxis\":\"y\"},{\"close\":[1.080395],\"decreasing\":{\"fillcolor\":\"red\",\"line\":{\"color\":\"red\"}},\"high\":[1.08059],\"increasing\":{\"fillcolor\":\"red\",\"line\":{\"color\":\"red\"}},\"low\":[1.08033],\"open\":[1.080505],\"showlegend\":false,\"x\":[50],\"type\":\"candlestick\",\"xaxis\":\"x\",\"yaxis\":\"y\"},{\"close\":[1.080385],\"decreasing\":{\"fillcolor\":\"red\",\"line\":{\"color\":\"red\"}},\"high\":[1.080455],\"increasing\":{\"fillcolor\":\"red\",\"line\":{\"color\":\"red\"}},\"low\":[1.080325],\"open\":[1.080385],\"showlegend\":false,\"x\":[51],\"type\":\"candlestick\",\"xaxis\":\"x\",\"yaxis\":\"y\"},{\"close\":[1.080435],\"decreasing\":{\"fillcolor\":\"rgba(255, 0, 0, 0)\",\"line\":{\"color\":\"green\"}},\"high\":[1.080585],\"increasing\":{\"fillcolor\":\"rgba(255, 0, 0, 0)\",\"line\":{\"color\":\"green\"}},\"low\":[1.08034],\"open\":[1.08038],\"showlegend\":false,\"x\":[52],\"type\":\"candlestick\",\"xaxis\":\"x\",\"yaxis\":\"y\"},{\"close\":[1.08047],\"decreasing\":{\"fillcolor\":\"rgba(255, 0, 0, 0)\",\"line\":{\"color\":\"green\"}},\"high\":[1.0805],\"increasing\":{\"fillcolor\":\"rgba(255, 0, 0, 0)\",\"line\":{\"color\":\"green\"}},\"low\":[1.08043],\"open\":[1.08043],\"showlegend\":false,\"x\":[53],\"type\":\"candlestick\",\"xaxis\":\"x\",\"yaxis\":\"y\"},{\"close\":[1.08048],\"decreasing\":{\"fillcolor\":\"rgba(255, 0, 0, 0)\",\"line\":{\"color\":\"green\"}},\"high\":[1.080505],\"increasing\":{\"fillcolor\":\"rgba(255, 0, 0, 0)\",\"line\":{\"color\":\"green\"}},\"low\":[1.08043],\"open\":[1.080465],\"showlegend\":false,\"x\":[54],\"type\":\"candlestick\",\"xaxis\":\"x\",\"yaxis\":\"y\"},{\"close\":[1.080585],\"decreasing\":{\"fillcolor\":\"rgba(255, 0, 0, 0)\",\"line\":{\"color\":\"green\"}},\"high\":[1.08059],\"increasing\":{\"fillcolor\":\"rgba(255, 0, 0, 0)\",\"line\":{\"color\":\"green\"}},\"low\":[1.080465],\"open\":[1.080475],\"showlegend\":false,\"x\":[55],\"type\":\"candlestick\",\"xaxis\":\"x\",\"yaxis\":\"y\"},{\"close\":[1.0807],\"decreasing\":{\"fillcolor\":\"rgba(255, 0, 0, 0)\",\"line\":{\"color\":\"green\"}},\"high\":[1.08078],\"increasing\":{\"fillcolor\":\"rgba(255, 0, 0, 0)\",\"line\":{\"color\":\"green\"}},\"low\":[1.08056],\"open\":[1.08059],\"showlegend\":false,\"x\":[56],\"type\":\"candlestick\",\"xaxis\":\"x\",\"yaxis\":\"y\"},{\"close\":[1.080725],\"decreasing\":{\"fillcolor\":\"rgba(255, 0, 0, 0)\",\"line\":{\"color\":\"green\"}},\"high\":[1.08078],\"increasing\":{\"fillcolor\":\"rgba(255, 0, 0, 0)\",\"line\":{\"color\":\"green\"}},\"low\":[1.08069],\"open\":[1.080705],\"showlegend\":false,\"x\":[57],\"type\":\"candlestick\",\"xaxis\":\"x\",\"yaxis\":\"y\"},{\"close\":[1.080865],\"decreasing\":{\"fillcolor\":\"rgba(255, 0, 0, 0)\",\"line\":{\"color\":\"green\"}},\"high\":[1.080895],\"increasing\":{\"fillcolor\":\"rgba(255, 0, 0, 0)\",\"line\":{\"color\":\"green\"}},\"low\":[1.080725],\"open\":[1.080725],\"showlegend\":false,\"x\":[58],\"type\":\"candlestick\",\"xaxis\":\"x\",\"yaxis\":\"y\"},{\"close\":[1.080835],\"decreasing\":{\"fillcolor\":\"red\",\"line\":{\"color\":\"red\"}},\"high\":[1.080935],\"increasing\":{\"fillcolor\":\"red\",\"line\":{\"color\":\"red\"}},\"low\":[1.08078],\"open\":[1.08086],\"showlegend\":false,\"x\":[59],\"type\":\"candlestick\",\"xaxis\":\"x\",\"yaxis\":\"y\"},{\"close\":[1.08089],\"decreasing\":{\"fillcolor\":\"rgba(255, 0, 0, 0)\",\"line\":{\"color\":\"green\"}},\"high\":[1.080925],\"increasing\":{\"fillcolor\":\"rgba(255, 0, 0, 0)\",\"line\":{\"color\":\"green\"}},\"low\":[1.080805],\"open\":[1.08084],\"showlegend\":false,\"x\":[60],\"type\":\"candlestick\",\"xaxis\":\"x\",\"yaxis\":\"y\"},{\"close\":[1.080855],\"decreasing\":{\"fillcolor\":\"red\",\"line\":{\"color\":\"red\"}},\"high\":[1.0809],\"increasing\":{\"fillcolor\":\"red\",\"line\":{\"color\":\"red\"}},\"low\":[1.080855],\"open\":[1.08089],\"showlegend\":false,\"x\":[61],\"type\":\"candlestick\",\"xaxis\":\"x\",\"yaxis\":\"y\"},{\"close\":[1.08092],\"decreasing\":{\"fillcolor\":\"rgba(255, 0, 0, 0)\",\"line\":{\"color\":\"green\"}},\"high\":[1.08093],\"increasing\":{\"fillcolor\":\"rgba(255, 0, 0, 0)\",\"line\":{\"color\":\"green\"}},\"low\":[1.0808],\"open\":[1.08086],\"showlegend\":false,\"x\":[62],\"type\":\"candlestick\",\"xaxis\":\"x\",\"yaxis\":\"y\"},{\"close\":[1.08092],\"decreasing\":{\"fillcolor\":\"rgba(255, 0, 0, 0)\",\"line\":{\"color\":\"red\"}},\"high\":[1.080975],\"increasing\":{\"fillcolor\":\"rgba(255, 0, 0, 0)\",\"line\":{\"color\":\"red\"}},\"low\":[1.080885],\"open\":[1.080915],\"showlegend\":false,\"x\":[63],\"type\":\"candlestick\",\"xaxis\":\"x\",\"yaxis\":\"y\"},{\"close\":[1.08088],\"decreasing\":{\"fillcolor\":\"red\",\"line\":{\"color\":\"red\"}},\"high\":[1.08093],\"increasing\":{\"fillcolor\":\"red\",\"line\":{\"color\":\"red\"}},\"low\":[1.080765],\"open\":[1.08092],\"showlegend\":false,\"x\":[64],\"type\":\"candlestick\",\"xaxis\":\"x\",\"yaxis\":\"y\"},{\"close\":[1.080975],\"decreasing\":{\"fillcolor\":\"rgba(255, 0, 0, 0)\",\"line\":{\"color\":\"green\"}},\"high\":[1.080975],\"increasing\":{\"fillcolor\":\"rgba(255, 0, 0, 0)\",\"line\":{\"color\":\"green\"}},\"low\":[1.080855],\"open\":[1.08089],\"showlegend\":false,\"x\":[65],\"type\":\"candlestick\",\"xaxis\":\"x\",\"yaxis\":\"y\"},{\"close\":[1.080915],\"decreasing\":{\"fillcolor\":\"red\",\"line\":{\"color\":\"red\"}},\"high\":[1.080995],\"increasing\":{\"fillcolor\":\"red\",\"line\":{\"color\":\"red\"}},\"low\":[1.080905],\"open\":[1.080965],\"showlegend\":false,\"x\":[66],\"type\":\"candlestick\",\"xaxis\":\"x\",\"yaxis\":\"y\"},{\"close\":[1.08093],\"decreasing\":{\"fillcolor\":\"rgba(255, 0, 0, 0)\",\"line\":{\"color\":\"green\"}},\"high\":[1.081045],\"increasing\":{\"fillcolor\":\"rgba(255, 0, 0, 0)\",\"line\":{\"color\":\"green\"}},\"low\":[1.080915],\"open\":[1.08092],\"showlegend\":false,\"x\":[67],\"type\":\"candlestick\",\"xaxis\":\"x\",\"yaxis\":\"y\"},{\"close\":[1.080825],\"decreasing\":{\"fillcolor\":\"red\",\"line\":{\"color\":\"red\"}},\"high\":[1.080955],\"increasing\":{\"fillcolor\":\"red\",\"line\":{\"color\":\"red\"}},\"low\":[1.08081],\"open\":[1.08093],\"showlegend\":false,\"x\":[68],\"type\":\"candlestick\",\"xaxis\":\"x\",\"yaxis\":\"y\"},{\"close\":[1.080975],\"decreasing\":{\"fillcolor\":\"rgba(255, 0, 0, 0)\",\"line\":{\"color\":\"green\"}},\"high\":[1.080975],\"increasing\":{\"fillcolor\":\"rgba(255, 0, 0, 0)\",\"line\":{\"color\":\"green\"}},\"low\":[1.080825],\"open\":[1.080825],\"showlegend\":false,\"x\":[69],\"type\":\"candlestick\",\"xaxis\":\"x\",\"yaxis\":\"y\"},{\"close\":[1.08094],\"decreasing\":{\"fillcolor\":\"red\",\"line\":{\"color\":\"red\"}},\"high\":[1.08102],\"increasing\":{\"fillcolor\":\"red\",\"line\":{\"color\":\"red\"}},\"low\":[1.08093],\"open\":[1.080975],\"showlegend\":false,\"x\":[70],\"type\":\"candlestick\",\"xaxis\":\"x\",\"yaxis\":\"y\"},{\"close\":[1.080925],\"decreasing\":{\"fillcolor\":\"red\",\"line\":{\"color\":\"red\"}},\"high\":[1.080955],\"increasing\":{\"fillcolor\":\"red\",\"line\":{\"color\":\"red\"}},\"low\":[1.080875],\"open\":[1.08095],\"showlegend\":false,\"x\":[71],\"type\":\"candlestick\",\"xaxis\":\"x\",\"yaxis\":\"y\"},{\"close\":[1.080935],\"decreasing\":{\"fillcolor\":\"rgba(255, 0, 0, 0)\",\"line\":{\"color\":\"green\"}},\"high\":[1.08099],\"increasing\":{\"fillcolor\":\"rgba(255, 0, 0, 0)\",\"line\":{\"color\":\"green\"}},\"low\":[1.08092],\"open\":[1.08093],\"showlegend\":false,\"x\":[72],\"type\":\"candlestick\",\"xaxis\":\"x\",\"yaxis\":\"y\"},{\"close\":[1.080725],\"decreasing\":{\"fillcolor\":\"red\",\"line\":{\"color\":\"red\"}},\"high\":[1.08094],\"increasing\":{\"fillcolor\":\"red\",\"line\":{\"color\":\"red\"}},\"low\":[1.080725],\"open\":[1.080935],\"showlegend\":false,\"x\":[73],\"type\":\"candlestick\",\"xaxis\":\"x\",\"yaxis\":\"y\"},{\"close\":[1.080785],\"decreasing\":{\"fillcolor\":\"rgba(255, 0, 0, 0)\",\"line\":{\"color\":\"green\"}},\"high\":[1.080835],\"increasing\":{\"fillcolor\":\"rgba(255, 0, 0, 0)\",\"line\":{\"color\":\"green\"}},\"low\":[1.08074],\"open\":[1.08074],\"showlegend\":false,\"x\":[74],\"type\":\"candlestick\",\"xaxis\":\"x\",\"yaxis\":\"y\"},{\"close\":[1.080875],\"decreasing\":{\"fillcolor\":\"rgba(255, 0, 0, 0)\",\"line\":{\"color\":\"green\"}},\"high\":[1.0809],\"increasing\":{\"fillcolor\":\"rgba(255, 0, 0, 0)\",\"line\":{\"color\":\"green\"}},\"low\":[1.08078],\"open\":[1.080795],\"showlegend\":false,\"x\":[75],\"type\":\"candlestick\",\"xaxis\":\"x\",\"yaxis\":\"y\"},{\"close\":[1.080855],\"decreasing\":{\"fillcolor\":\"red\",\"line\":{\"color\":\"red\"}},\"high\":[1.080905],\"increasing\":{\"fillcolor\":\"red\",\"line\":{\"color\":\"red\"}},\"low\":[1.08084],\"open\":[1.08088],\"showlegend\":false,\"x\":[76],\"type\":\"candlestick\",\"xaxis\":\"x\",\"yaxis\":\"y\"},{\"close\":[1.080865],\"decreasing\":{\"fillcolor\":\"rgba(255, 0, 0, 0)\",\"line\":{\"color\":\"green\"}},\"high\":[1.08088],\"increasing\":{\"fillcolor\":\"rgba(255, 0, 0, 0)\",\"line\":{\"color\":\"green\"}},\"low\":[1.08083],\"open\":[1.080855],\"showlegend\":false,\"x\":[77],\"type\":\"candlestick\",\"xaxis\":\"x\",\"yaxis\":\"y\"},{\"close\":[1.080795],\"decreasing\":{\"fillcolor\":\"red\",\"line\":{\"color\":\"red\"}},\"high\":[1.080905],\"increasing\":{\"fillcolor\":\"red\",\"line\":{\"color\":\"red\"}},\"low\":[1.080755],\"open\":[1.080855],\"showlegend\":false,\"x\":[78],\"type\":\"candlestick\",\"xaxis\":\"x\",\"yaxis\":\"y\"},{\"close\":[1.080695],\"decreasing\":{\"fillcolor\":\"red\",\"line\":{\"color\":\"red\"}},\"high\":[1.080815],\"increasing\":{\"fillcolor\":\"red\",\"line\":{\"color\":\"red\"}},\"low\":[1.08067],\"open\":[1.0808],\"showlegend\":false,\"x\":[79],\"type\":\"candlestick\",\"xaxis\":\"x\",\"yaxis\":\"y\"},{\"close\":[1.080665],\"decreasing\":{\"fillcolor\":\"red\",\"line\":{\"color\":\"red\"}},\"high\":[1.080725],\"increasing\":{\"fillcolor\":\"red\",\"line\":{\"color\":\"red\"}},\"low\":[1.080655],\"open\":[1.08069],\"showlegend\":false,\"x\":[80],\"type\":\"candlestick\",\"xaxis\":\"x\",\"yaxis\":\"y\"},{\"close\":[1.080745],\"decreasing\":{\"fillcolor\":\"rgba(255, 0, 0, 0)\",\"line\":{\"color\":\"green\"}},\"high\":[1.08075],\"increasing\":{\"fillcolor\":\"rgba(255, 0, 0, 0)\",\"line\":{\"color\":\"green\"}},\"low\":[1.08064],\"open\":[1.08067],\"showlegend\":false,\"x\":[81],\"type\":\"candlestick\",\"xaxis\":\"x\",\"yaxis\":\"y\"},{\"close\":[1.080805],\"decreasing\":{\"fillcolor\":\"rgba(255, 0, 0, 0)\",\"line\":{\"color\":\"green\"}},\"high\":[1.080835],\"increasing\":{\"fillcolor\":\"rgba(255, 0, 0, 0)\",\"line\":{\"color\":\"green\"}},\"low\":[1.08072],\"open\":[1.080735],\"showlegend\":false,\"x\":[82],\"type\":\"candlestick\",\"xaxis\":\"x\",\"yaxis\":\"y\"},{\"close\":[1.08091],\"decreasing\":{\"fillcolor\":\"rgba(255, 0, 0, 0)\",\"line\":{\"color\":\"green\"}},\"high\":[1.08091],\"increasing\":{\"fillcolor\":\"rgba(255, 0, 0, 0)\",\"line\":{\"color\":\"green\"}},\"low\":[1.08078],\"open\":[1.080805],\"showlegend\":false,\"x\":[83],\"type\":\"candlestick\",\"xaxis\":\"x\",\"yaxis\":\"y\"},{\"close\":[1.081005],\"decreasing\":{\"fillcolor\":\"rgba(255, 0, 0, 0)\",\"line\":{\"color\":\"green\"}},\"high\":[1.081055],\"increasing\":{\"fillcolor\":\"rgba(255, 0, 0, 0)\",\"line\":{\"color\":\"green\"}},\"low\":[1.08088],\"open\":[1.080905],\"showlegend\":false,\"x\":[84],\"type\":\"candlestick\",\"xaxis\":\"x\",\"yaxis\":\"y\"},{\"close\":[1.080995],\"decreasing\":{\"fillcolor\":\"red\",\"line\":{\"color\":\"red\"}},\"high\":[1.08105],\"increasing\":{\"fillcolor\":\"red\",\"line\":{\"color\":\"red\"}},\"low\":[1.080925],\"open\":[1.080995],\"showlegend\":false,\"x\":[85],\"type\":\"candlestick\",\"xaxis\":\"x\",\"yaxis\":\"y\"},{\"close\":[1.081125],\"decreasing\":{\"fillcolor\":\"rgba(255, 0, 0, 0)\",\"line\":{\"color\":\"green\"}},\"high\":[1.08113],\"increasing\":{\"fillcolor\":\"rgba(255, 0, 0, 0)\",\"line\":{\"color\":\"green\"}},\"low\":[1.080965],\"open\":[1.08099],\"showlegend\":false,\"x\":[86],\"type\":\"candlestick\",\"xaxis\":\"x\",\"yaxis\":\"y\"},{\"close\":[1.08102],\"decreasing\":{\"fillcolor\":\"red\",\"line\":{\"color\":\"red\"}},\"high\":[1.08112],\"increasing\":{\"fillcolor\":\"red\",\"line\":{\"color\":\"red\"}},\"low\":[1.081],\"open\":[1.08112],\"showlegend\":false,\"x\":[87],\"type\":\"candlestick\",\"xaxis\":\"x\",\"yaxis\":\"y\"},{\"close\":[1.081015],\"decreasing\":{\"fillcolor\":\"red\",\"line\":{\"color\":\"red\"}},\"high\":[1.081085],\"increasing\":{\"fillcolor\":\"red\",\"line\":{\"color\":\"red\"}},\"low\":[1.080995],\"open\":[1.08102],\"showlegend\":false,\"x\":[88],\"type\":\"candlestick\",\"xaxis\":\"x\",\"yaxis\":\"y\"},{\"close\":[1.08096],\"decreasing\":{\"fillcolor\":\"red\",\"line\":{\"color\":\"red\"}},\"high\":[1.08102],\"increasing\":{\"fillcolor\":\"red\",\"line\":{\"color\":\"red\"}},\"low\":[1.080905],\"open\":[1.081015],\"showlegend\":false,\"x\":[89],\"type\":\"candlestick\",\"xaxis\":\"x\",\"yaxis\":\"y\"},{\"close\":[1.081005],\"decreasing\":{\"fillcolor\":\"rgba(255, 0, 0, 0)\",\"line\":{\"color\":\"green\"}},\"high\":[1.081035],\"increasing\":{\"fillcolor\":\"rgba(255, 0, 0, 0)\",\"line\":{\"color\":\"green\"}},\"low\":[1.080925],\"open\":[1.080965],\"showlegend\":false,\"x\":[90],\"type\":\"candlestick\",\"xaxis\":\"x\",\"yaxis\":\"y\"},{\"close\":[1.08095],\"decreasing\":{\"fillcolor\":\"red\",\"line\":{\"color\":\"red\"}},\"high\":[1.081035],\"increasing\":{\"fillcolor\":\"red\",\"line\":{\"color\":\"red\"}},\"low\":[1.08095],\"open\":[1.081005],\"showlegend\":false,\"x\":[91],\"type\":\"candlestick\",\"xaxis\":\"x\",\"yaxis\":\"y\"},{\"close\":[1.08103],\"decreasing\":{\"fillcolor\":\"rgba(255, 0, 0, 0)\",\"line\":{\"color\":\"green\"}},\"high\":[1.08104],\"increasing\":{\"fillcolor\":\"rgba(255, 0, 0, 0)\",\"line\":{\"color\":\"green\"}},\"low\":[1.08093],\"open\":[1.08094],\"showlegend\":false,\"x\":[92],\"type\":\"candlestick\",\"xaxis\":\"x\",\"yaxis\":\"y\"},{\"close\":[1.08092],\"decreasing\":{\"fillcolor\":\"red\",\"line\":{\"color\":\"red\"}},\"high\":[1.08105],\"increasing\":{\"fillcolor\":\"red\",\"line\":{\"color\":\"red\"}},\"low\":[1.08092],\"open\":[1.08102],\"showlegend\":false,\"x\":[93],\"type\":\"candlestick\",\"xaxis\":\"x\",\"yaxis\":\"y\"},{\"close\":[1.08092],\"decreasing\":{\"fillcolor\":\"red\",\"line\":{\"color\":\"red\"}},\"high\":[1.08093],\"increasing\":{\"fillcolor\":\"red\",\"line\":{\"color\":\"red\"}},\"low\":[1.08089],\"open\":[1.08093],\"showlegend\":false,\"x\":[94],\"type\":\"candlestick\",\"xaxis\":\"x\",\"yaxis\":\"y\"},{\"close\":[1.08088],\"decreasing\":{\"fillcolor\":\"red\",\"line\":{\"color\":\"red\"}},\"high\":[1.080985],\"increasing\":{\"fillcolor\":\"red\",\"line\":{\"color\":\"red\"}},\"low\":[1.08086],\"open\":[1.08091],\"showlegend\":false,\"x\":[95],\"type\":\"candlestick\",\"xaxis\":\"x\",\"yaxis\":\"y\"},{\"close\":[1.080865],\"decreasing\":{\"fillcolor\":\"red\",\"line\":{\"color\":\"red\"}},\"high\":[1.08089],\"increasing\":{\"fillcolor\":\"red\",\"line\":{\"color\":\"red\"}},\"low\":[1.0808],\"open\":[1.080885],\"showlegend\":false,\"x\":[96],\"type\":\"candlestick\",\"xaxis\":\"x\",\"yaxis\":\"y\"},{\"close\":[1.08082],\"decreasing\":{\"fillcolor\":\"red\",\"line\":{\"color\":\"red\"}},\"high\":[1.080885],\"increasing\":{\"fillcolor\":\"red\",\"line\":{\"color\":\"red\"}},\"low\":[1.08078],\"open\":[1.08087],\"showlegend\":false,\"x\":[97],\"type\":\"candlestick\",\"xaxis\":\"x\",\"yaxis\":\"y\"},{\"close\":[1.080865],\"decreasing\":{\"fillcolor\":\"rgba(255, 0, 0, 0)\",\"line\":{\"color\":\"green\"}},\"high\":[1.08089],\"increasing\":{\"fillcolor\":\"rgba(255, 0, 0, 0)\",\"line\":{\"color\":\"green\"}},\"low\":[1.08081],\"open\":[1.080815],\"showlegend\":false,\"x\":[98],\"type\":\"candlestick\",\"xaxis\":\"x\",\"yaxis\":\"y\"},{\"close\":[1.080855],\"decreasing\":{\"fillcolor\":\"red\",\"line\":{\"color\":\"red\"}},\"high\":[1.08089],\"increasing\":{\"fillcolor\":\"red\",\"line\":{\"color\":\"red\"}},\"low\":[1.08079],\"open\":[1.080875],\"showlegend\":false,\"x\":[99],\"type\":\"candlestick\",\"xaxis\":\"x\",\"yaxis\":\"y\"},{\"close\":[1.08082],\"decreasing\":{\"fillcolor\":\"red\",\"line\":{\"color\":\"red\"}},\"high\":[1.080885],\"increasing\":{\"fillcolor\":\"red\",\"line\":{\"color\":\"red\"}},\"low\":[1.080795],\"open\":[1.080845],\"showlegend\":false,\"x\":[100],\"type\":\"candlestick\",\"xaxis\":\"x\",\"yaxis\":\"y\"},{\"close\":[1.080835],\"decreasing\":{\"fillcolor\":\"rgba(255, 0, 0, 0)\",\"line\":{\"color\":\"green\"}},\"high\":[1.08085],\"increasing\":{\"fillcolor\":\"rgba(255, 0, 0, 0)\",\"line\":{\"color\":\"green\"}},\"low\":[1.08071],\"open\":[1.08082],\"showlegend\":false,\"x\":[101],\"type\":\"candlestick\",\"xaxis\":\"x\",\"yaxis\":\"y\"},{\"close\":[1.080785],\"decreasing\":{\"fillcolor\":\"red\",\"line\":{\"color\":\"red\"}},\"high\":[1.080835],\"increasing\":{\"fillcolor\":\"red\",\"line\":{\"color\":\"red\"}},\"low\":[1.08073],\"open\":[1.080835],\"showlegend\":false,\"x\":[102],\"type\":\"candlestick\",\"xaxis\":\"x\",\"yaxis\":\"y\"},{\"close\":[1.08077],\"decreasing\":{\"fillcolor\":\"red\",\"line\":{\"color\":\"red\"}},\"high\":[1.080835],\"increasing\":{\"fillcolor\":\"red\",\"line\":{\"color\":\"red\"}},\"low\":[1.08075],\"open\":[1.08078],\"showlegend\":false,\"x\":[103],\"type\":\"candlestick\",\"xaxis\":\"x\",\"yaxis\":\"y\"},{\"close\":[1.080675],\"decreasing\":{\"fillcolor\":\"red\",\"line\":{\"color\":\"red\"}},\"high\":[1.08083],\"increasing\":{\"fillcolor\":\"red\",\"line\":{\"color\":\"red\"}},\"low\":[1.08064],\"open\":[1.08077],\"showlegend\":false,\"x\":[104],\"type\":\"candlestick\",\"xaxis\":\"x\",\"yaxis\":\"y\"},{\"close\":[1.080665],\"decreasing\":{\"fillcolor\":\"red\",\"line\":{\"color\":\"red\"}},\"high\":[1.08072],\"increasing\":{\"fillcolor\":\"red\",\"line\":{\"color\":\"red\"}},\"low\":[1.08064],\"open\":[1.08067],\"showlegend\":false,\"x\":[105],\"type\":\"candlestick\",\"xaxis\":\"x\",\"yaxis\":\"y\"},{\"close\":[1.0806],\"decreasing\":{\"fillcolor\":\"red\",\"line\":{\"color\":\"red\"}},\"high\":[1.080665],\"increasing\":{\"fillcolor\":\"red\",\"line\":{\"color\":\"red\"}},\"low\":[1.08057],\"open\":[1.08066],\"showlegend\":false,\"x\":[106],\"type\":\"candlestick\",\"xaxis\":\"x\",\"yaxis\":\"y\"},{\"close\":[1.080625],\"decreasing\":{\"fillcolor\":\"rgba(255, 0, 0, 0)\",\"line\":{\"color\":\"green\"}},\"high\":[1.08063],\"increasing\":{\"fillcolor\":\"rgba(255, 0, 0, 0)\",\"line\":{\"color\":\"green\"}},\"low\":[1.08059],\"open\":[1.080595],\"showlegend\":false,\"x\":[107],\"type\":\"candlestick\",\"xaxis\":\"x\",\"yaxis\":\"y\"},{\"close\":[1.08062],\"decreasing\":{\"fillcolor\":\"red\",\"line\":{\"color\":\"red\"}},\"high\":[1.080685],\"increasing\":{\"fillcolor\":\"red\",\"line\":{\"color\":\"red\"}},\"low\":[1.08056],\"open\":[1.08063],\"showlegend\":false,\"x\":[108],\"type\":\"candlestick\",\"xaxis\":\"x\",\"yaxis\":\"y\"},{\"close\":[1.080455],\"decreasing\":{\"fillcolor\":\"red\",\"line\":{\"color\":\"red\"}},\"high\":[1.08062],\"increasing\":{\"fillcolor\":\"red\",\"line\":{\"color\":\"red\"}},\"low\":[1.08044],\"open\":[1.08062],\"showlegend\":false,\"x\":[109],\"type\":\"candlestick\",\"xaxis\":\"x\",\"yaxis\":\"y\"},{\"close\":[1.080465],\"decreasing\":{\"fillcolor\":\"rgba(255, 0, 0, 0)\",\"line\":{\"color\":\"green\"}},\"high\":[1.080465],\"increasing\":{\"fillcolor\":\"rgba(255, 0, 0, 0)\",\"line\":{\"color\":\"green\"}},\"low\":[1.080455],\"open\":[1.080455],\"showlegend\":false,\"x\":[110],\"type\":\"candlestick\",\"xaxis\":\"x\",\"yaxis\":\"y\"},{\"marker\":{\"color\":\"orange\"},\"mode\":\"lines\",\"name\":\"RSI\",\"x\":[0,1,2,3,4,5,6,7,8,9,10,11,12,13,14,15,16,17,18,19,20,21,22,23,24,25,26,27,28,29,30,31,32,33,34,35,36,37,38,39,40,41,42,43,44,45,46,47,48,49,50,51,52,53,54,55,56,57,58,59,60,61,62,63,64,65,66,67,68,69,70,71,72,73,74,75,76,77,78,79,80,81,82,83,84,85,86,87,88,89,90,91,92,93,94,95,96,97,98,99,100,101,102,103,104,105,106,107,108,109,110],\"y\":[null,null,null,null,null,null,null,null,null,null,null,null,null,45.796648949093594,40.56766686388559,57.53692729050072,52.563814266429574,49.85669950597201,48.69912526680709,53.00746839459769,50.122705914164776,57.58099792805458,59.14735951481124,63.75910331878866,60.1055590852961,61.58710103735641,57.4513090484104,60.02128977092126,66.31983686996276,68.19669191833296,67.68891982751545,65.58534952823842,67.99536343116783,72.39100749795209,73.81775033529087,78.01300967175712,79.34930507571961,70.164521334684,60.52413548537716,63.13307100075174,65.58266240950886,63.11911547629058,58.03259740958395,59.388172426337235,49.99674441046414,49.37389936282583,51.95232911985513,50.56560297205445,54.490212282848084,56.9443063378149,53.09043365774404,52.327664565273516,55.750893962656576,58.02317420958438,58.67611703468765,64.85733712870824,70.12764278702385,71.14087986747408,76.04171430078324,73.17409047398556,75.03301795675048,71.63128084724967,73.98971342727586,73.98971342727587,69.84553552339136,73.62406798500619,67.84200840622023,68.50787827900646,59.258107891340565,66.26543234425137,63.52016818442869,62.328402171009806,62.82910016993766,48.30837716074372,51.740234658061794,56.414633093476326,55.13656958800999,55.67725174157656,51.040173516201804,45.24313760066957,43.64173049916446,48.84189301022228,52.39005084826581,57.893784472951396,62.1563555323786,61.451148707762826,66.73495738938132,59.62605794883038,59.30210311267504,55.716132695905365,57.95625880831134,54.33826706976413,58.4056371077419,51.599590316222596,51.5995903162226,49.182528858518815,48.269405730715725,45.53792783721182,48.66626317911488,48.006345211315605,45.67200189689547,46.86450284017912,43.441529145332034,42.44005121111788,36.67362028197136,36.11732187943315,32.65042511896398,35.225790346172516,34.93803912548779,27.077341731513783,28.132687312571548],\"type\":\"scatter\",\"xaxis\":\"x2\",\"yaxis\":\"y2\"},{\"marker\":{\"color\":\"red\"},\"mode\":\"markers\",\"showlegend\":false,\"x\":[33],\"y\":[72.39100749795209],\"type\":\"scatter\",\"xaxis\":\"x2\",\"yaxis\":\"y2\"},{\"marker\":{\"color\":\"red\"},\"mode\":\"markers\",\"showlegend\":false,\"x\":[56],\"y\":[70.12764278702385],\"type\":\"scatter\",\"xaxis\":\"x2\",\"yaxis\":\"y2\"},{\"marker\":{\"color\":\"red\"},\"mode\":\"markers\",\"showlegend\":false,\"x\":[65],\"y\":[73.62406798500619],\"type\":\"scatter\",\"xaxis\":\"x2\",\"yaxis\":\"y2\"},{\"marker\":{\"color\":\"green\"},\"mode\":\"markers\",\"showlegend\":false,\"x\":[109],\"y\":[27.077341731513783],\"type\":\"scatter\",\"xaxis\":\"x2\",\"yaxis\":\"y2\"}],                        {\"template\":{\"data\":{\"histogram2dcontour\":[{\"type\":\"histogram2dcontour\",\"colorbar\":{\"outlinewidth\":0,\"ticks\":\"\"},\"colorscale\":[[0.0,\"#0d0887\"],[0.1111111111111111,\"#46039f\"],[0.2222222222222222,\"#7201a8\"],[0.3333333333333333,\"#9c179e\"],[0.4444444444444444,\"#bd3786\"],[0.5555555555555556,\"#d8576b\"],[0.6666666666666666,\"#ed7953\"],[0.7777777777777778,\"#fb9f3a\"],[0.8888888888888888,\"#fdca26\"],[1.0,\"#f0f921\"]]}],\"choropleth\":[{\"type\":\"choropleth\",\"colorbar\":{\"outlinewidth\":0,\"ticks\":\"\"}}],\"histogram2d\":[{\"type\":\"histogram2d\",\"colorbar\":{\"outlinewidth\":0,\"ticks\":\"\"},\"colorscale\":[[0.0,\"#0d0887\"],[0.1111111111111111,\"#46039f\"],[0.2222222222222222,\"#7201a8\"],[0.3333333333333333,\"#9c179e\"],[0.4444444444444444,\"#bd3786\"],[0.5555555555555556,\"#d8576b\"],[0.6666666666666666,\"#ed7953\"],[0.7777777777777778,\"#fb9f3a\"],[0.8888888888888888,\"#fdca26\"],[1.0,\"#f0f921\"]]}],\"heatmap\":[{\"type\":\"heatmap\",\"colorbar\":{\"outlinewidth\":0,\"ticks\":\"\"},\"colorscale\":[[0.0,\"#0d0887\"],[0.1111111111111111,\"#46039f\"],[0.2222222222222222,\"#7201a8\"],[0.3333333333333333,\"#9c179e\"],[0.4444444444444444,\"#bd3786\"],[0.5555555555555556,\"#d8576b\"],[0.6666666666666666,\"#ed7953\"],[0.7777777777777778,\"#fb9f3a\"],[0.8888888888888888,\"#fdca26\"],[1.0,\"#f0f921\"]]}],\"heatmapgl\":[{\"type\":\"heatmapgl\",\"colorbar\":{\"outlinewidth\":0,\"ticks\":\"\"},\"colorscale\":[[0.0,\"#0d0887\"],[0.1111111111111111,\"#46039f\"],[0.2222222222222222,\"#7201a8\"],[0.3333333333333333,\"#9c179e\"],[0.4444444444444444,\"#bd3786\"],[0.5555555555555556,\"#d8576b\"],[0.6666666666666666,\"#ed7953\"],[0.7777777777777778,\"#fb9f3a\"],[0.8888888888888888,\"#fdca26\"],[1.0,\"#f0f921\"]]}],\"contourcarpet\":[{\"type\":\"contourcarpet\",\"colorbar\":{\"outlinewidth\":0,\"ticks\":\"\"}}],\"contour\":[{\"type\":\"contour\",\"colorbar\":{\"outlinewidth\":0,\"ticks\":\"\"},\"colorscale\":[[0.0,\"#0d0887\"],[0.1111111111111111,\"#46039f\"],[0.2222222222222222,\"#7201a8\"],[0.3333333333333333,\"#9c179e\"],[0.4444444444444444,\"#bd3786\"],[0.5555555555555556,\"#d8576b\"],[0.6666666666666666,\"#ed7953\"],[0.7777777777777778,\"#fb9f3a\"],[0.8888888888888888,\"#fdca26\"],[1.0,\"#f0f921\"]]}],\"surface\":[{\"type\":\"surface\",\"colorbar\":{\"outlinewidth\":0,\"ticks\":\"\"},\"colorscale\":[[0.0,\"#0d0887\"],[0.1111111111111111,\"#46039f\"],[0.2222222222222222,\"#7201a8\"],[0.3333333333333333,\"#9c179e\"],[0.4444444444444444,\"#bd3786\"],[0.5555555555555556,\"#d8576b\"],[0.6666666666666666,\"#ed7953\"],[0.7777777777777778,\"#fb9f3a\"],[0.8888888888888888,\"#fdca26\"],[1.0,\"#f0f921\"]]}],\"mesh3d\":[{\"type\":\"mesh3d\",\"colorbar\":{\"outlinewidth\":0,\"ticks\":\"\"}}],\"scatter\":[{\"marker\":{\"line\":{\"color\":\"#283442\"}},\"type\":\"scatter\"}],\"parcoords\":[{\"type\":\"parcoords\",\"line\":{\"colorbar\":{\"outlinewidth\":0,\"ticks\":\"\"}}}],\"scatterpolargl\":[{\"type\":\"scatterpolargl\",\"marker\":{\"colorbar\":{\"outlinewidth\":0,\"ticks\":\"\"}}}],\"bar\":[{\"error_x\":{\"color\":\"#f2f5fa\"},\"error_y\":{\"color\":\"#f2f5fa\"},\"marker\":{\"line\":{\"color\":\"rgb(17,17,17)\",\"width\":0.5},\"pattern\":{\"fillmode\":\"overlay\",\"size\":10,\"solidity\":0.2}},\"type\":\"bar\"}],\"scattergeo\":[{\"type\":\"scattergeo\",\"marker\":{\"colorbar\":{\"outlinewidth\":0,\"ticks\":\"\"}}}],\"scatterpolar\":[{\"type\":\"scatterpolar\",\"marker\":{\"colorbar\":{\"outlinewidth\":0,\"ticks\":\"\"}}}],\"histogram\":[{\"marker\":{\"pattern\":{\"fillmode\":\"overlay\",\"size\":10,\"solidity\":0.2}},\"type\":\"histogram\"}],\"scattergl\":[{\"marker\":{\"line\":{\"color\":\"#283442\"}},\"type\":\"scattergl\"}],\"scatter3d\":[{\"type\":\"scatter3d\",\"line\":{\"colorbar\":{\"outlinewidth\":0,\"ticks\":\"\"}},\"marker\":{\"colorbar\":{\"outlinewidth\":0,\"ticks\":\"\"}}}],\"scattermapbox\":[{\"type\":\"scattermapbox\",\"marker\":{\"colorbar\":{\"outlinewidth\":0,\"ticks\":\"\"}}}],\"scatterternary\":[{\"type\":\"scatterternary\",\"marker\":{\"colorbar\":{\"outlinewidth\":0,\"ticks\":\"\"}}}],\"scattercarpet\":[{\"type\":\"scattercarpet\",\"marker\":{\"colorbar\":{\"outlinewidth\":0,\"ticks\":\"\"}}}],\"carpet\":[{\"aaxis\":{\"endlinecolor\":\"#A2B1C6\",\"gridcolor\":\"#506784\",\"linecolor\":\"#506784\",\"minorgridcolor\":\"#506784\",\"startlinecolor\":\"#A2B1C6\"},\"baxis\":{\"endlinecolor\":\"#A2B1C6\",\"gridcolor\":\"#506784\",\"linecolor\":\"#506784\",\"minorgridcolor\":\"#506784\",\"startlinecolor\":\"#A2B1C6\"},\"type\":\"carpet\"}],\"table\":[{\"cells\":{\"fill\":{\"color\":\"#506784\"},\"line\":{\"color\":\"rgb(17,17,17)\"}},\"header\":{\"fill\":{\"color\":\"#2a3f5f\"},\"line\":{\"color\":\"rgb(17,17,17)\"}},\"type\":\"table\"}],\"barpolar\":[{\"marker\":{\"line\":{\"color\":\"rgb(17,17,17)\",\"width\":0.5},\"pattern\":{\"fillmode\":\"overlay\",\"size\":10,\"solidity\":0.2}},\"type\":\"barpolar\"}],\"pie\":[{\"automargin\":true,\"type\":\"pie\"}]},\"layout\":{\"autotypenumbers\":\"strict\",\"colorway\":[\"#636efa\",\"#EF553B\",\"#00cc96\",\"#ab63fa\",\"#FFA15A\",\"#19d3f3\",\"#FF6692\",\"#B6E880\",\"#FF97FF\",\"#FECB52\"],\"font\":{\"color\":\"#f2f5fa\"},\"hovermode\":\"closest\",\"hoverlabel\":{\"align\":\"left\"},\"paper_bgcolor\":\"#383838\",\"plot_bgcolor\":\"#383838\",\"polar\":{\"bgcolor\":\"rgb(17,17,17)\",\"angularaxis\":{\"gridcolor\":\"#506784\",\"linecolor\":\"#506784\",\"ticks\":\"\"},\"radialaxis\":{\"gridcolor\":\"#506784\",\"linecolor\":\"#506784\",\"ticks\":\"\"}},\"ternary\":{\"bgcolor\":\"rgb(17,17,17)\",\"aaxis\":{\"gridcolor\":\"#506784\",\"linecolor\":\"#506784\",\"ticks\":\"\"},\"baxis\":{\"gridcolor\":\"#506784\",\"linecolor\":\"#506784\",\"ticks\":\"\"},\"caxis\":{\"gridcolor\":\"#506784\",\"linecolor\":\"#506784\",\"ticks\":\"\"}},\"coloraxis\":{\"colorbar\":{\"outlinewidth\":0,\"ticks\":\"\"}},\"colorscale\":{\"sequential\":[[0.0,\"#0d0887\"],[0.1111111111111111,\"#46039f\"],[0.2222222222222222,\"#7201a8\"],[0.3333333333333333,\"#9c179e\"],[0.4444444444444444,\"#bd3786\"],[0.5555555555555556,\"#d8576b\"],[0.6666666666666666,\"#ed7953\"],[0.7777777777777778,\"#fb9f3a\"],[0.8888888888888888,\"#fdca26\"],[1.0,\"#f0f921\"]],\"sequentialminus\":[[0.0,\"#0d0887\"],[0.1111111111111111,\"#46039f\"],[0.2222222222222222,\"#7201a8\"],[0.3333333333333333,\"#9c179e\"],[0.4444444444444444,\"#bd3786\"],[0.5555555555555556,\"#d8576b\"],[0.6666666666666666,\"#ed7953\"],[0.7777777777777778,\"#fb9f3a\"],[0.8888888888888888,\"#fdca26\"],[1.0,\"#f0f921\"]],\"diverging\":[[0,\"#8e0152\"],[0.1,\"#c51b7d\"],[0.2,\"#de77ae\"],[0.3,\"#f1b6da\"],[0.4,\"#fde0ef\"],[0.5,\"#f7f7f7\"],[0.6,\"#e6f5d0\"],[0.7,\"#b8e186\"],[0.8,\"#7fbc41\"],[0.9,\"#4d9221\"],[1,\"#276419\"]]},\"xaxis\":{\"gridcolor\":\"#D5D5D5\",\"linecolor\":\"#D5D5D5\",\"ticks\":\"\",\"title\":{\"standoff\":15},\"zerolinecolor\":\"#D5D5D5\",\"automargin\":true,\"zerolinewidth\":2},\"yaxis\":{\"gridcolor\":\"#D5D5D5\",\"linecolor\":\"#D5D5D5\",\"ticks\":\"\",\"title\":{\"standoff\":15},\"zerolinecolor\":\"#D5D5D5\",\"automargin\":true,\"zerolinewidth\":2},\"scene\":{\"xaxis\":{\"backgroundcolor\":\"rgb(17,17,17)\",\"gridcolor\":\"#506784\",\"linecolor\":\"#506784\",\"showbackground\":true,\"ticks\":\"\",\"zerolinecolor\":\"#C8D4E3\",\"gridwidth\":2},\"yaxis\":{\"backgroundcolor\":\"rgb(17,17,17)\",\"gridcolor\":\"#506784\",\"linecolor\":\"#506784\",\"showbackground\":true,\"ticks\":\"\",\"zerolinecolor\":\"#C8D4E3\",\"gridwidth\":2},\"zaxis\":{\"backgroundcolor\":\"rgb(17,17,17)\",\"gridcolor\":\"#506784\",\"linecolor\":\"#506784\",\"showbackground\":true,\"ticks\":\"\",\"zerolinecolor\":\"#C8D4E3\",\"gridwidth\":2}},\"shapedefaults\":{\"line\":{\"color\":\"#f2f5fa\"}},\"annotationdefaults\":{\"arrowcolor\":\"#f2f5fa\",\"arrowhead\":0,\"arrowwidth\":1},\"geo\":{\"bgcolor\":\"rgb(17,17,17)\",\"landcolor\":\"rgb(17,17,17)\",\"subunitcolor\":\"#506784\",\"showland\":true,\"showlakes\":true,\"lakecolor\":\"rgb(17,17,17)\"},\"title\":{\"x\":0.05},\"updatemenudefaults\":{\"bgcolor\":\"#506784\",\"borderwidth\":0},\"sliderdefaults\":{\"bgcolor\":\"#C8D4E3\",\"borderwidth\":1,\"bordercolor\":\"rgb(17,17,17)\",\"tickwidth\":0},\"mapbox\":{\"style\":\"dark\"}}},\"xaxis\":{\"anchor\":\"y\",\"domain\":[0.0,1.0],\"matches\":\"x2\",\"showticklabels\":false,\"rangeslider\":{\"visible\":false}},\"yaxis\":{\"anchor\":\"x\",\"domain\":[0.525,1.0]},\"xaxis2\":{\"anchor\":\"y2\",\"domain\":[0.0,1.0]},\"yaxis2\":{\"anchor\":\"x2\",\"domain\":[0.0,0.475],\"title\":{\"text\":\"RSI\"},\"range\":[0,100]},\"annotations\":[{\"font\":{\"size\":16},\"showarrow\":false,\"text\":\"Candlestick\",\"x\":0.5,\"xanchor\":\"center\",\"xref\":\"paper\",\"y\":1.0,\"yanchor\":\"bottom\",\"yref\":\"paper\"},{\"font\":{\"size\":16},\"showarrow\":false,\"text\":\"RSI\",\"x\":0.5,\"xanchor\":\"center\",\"xref\":\"paper\",\"y\":0.475,\"yanchor\":\"bottom\",\"yref\":\"paper\"}],\"shapes\":[{\"line\":{\"color\":\"blue\",\"dash\":\"dash\"},\"name\":\"RSI 30\",\"type\":\"line\",\"x0\":0,\"x1\":1,\"xref\":\"x2 domain\",\"y0\":30,\"y1\":30,\"yref\":\"y2\"},{\"line\":{\"color\":\"red\",\"dash\":\"dash\"},\"name\":\"RSI 70\",\"type\":\"line\",\"x0\":0,\"x1\":1,\"xref\":\"x2 domain\",\"y0\":70,\"y1\":70,\"yref\":\"y2\"}],\"title\":{\"text\":\"EURUSD\"}},                        {\"responsive\": true}                    ).then(function(){\n",
              "                            \n",
              "var gd = document.getElementById('4b9f81b0-178a-412c-985c-12d7d755fbbd');\n",
              "var x = new MutationObserver(function (mutations, observer) {{\n",
              "        var display = window.getComputedStyle(gd).display;\n",
              "        if (!display || display === 'none') {{\n",
              "            console.log([gd, 'removed!']);\n",
              "            Plotly.purge(gd);\n",
              "            observer.disconnect();\n",
              "        }}\n",
              "}});\n",
              "\n",
              "// Listen for the removal of the full notebook cells\n",
              "var notebookContainer = gd.closest('#notebook-container');\n",
              "if (notebookContainer) {{\n",
              "    x.observe(notebookContainer, {childList: true});\n",
              "}}\n",
              "\n",
              "// Listen for the clearing of the current output cell\n",
              "var outputEl = gd.closest('.output');\n",
              "if (outputEl) {{\n",
              "    x.observe(outputEl, {childList: true});\n",
              "}}\n",
              "\n",
              "                        })                };                            </script>        </div>\n",
              "</body>\n",
              "</html>"
            ]
          },
          "metadata": {}
        }
      ]
    },
    {
      "cell_type": "markdown",
      "source": [
        "**Melhorias da reunião 15 fevereiro**"
      ],
      "metadata": {
        "id": "7H6VV50nKw0a"
      }
    },
    {
      "cell_type": "code",
      "source": [
        "# candles definidas pelo plotly, nao necessaria coluna no df FEITO"
      ],
      "metadata": {
        "id": "xnDzd5mFcygX"
      },
      "execution_count": 71,
      "outputs": []
    },
    {
      "cell_type": "code",
      "source": [
        "# candle cinza quando fechamento igual a abertura FEITO"
      ],
      "metadata": {
        "id": "_olyx2-39dY0"
      },
      "execution_count": 72,
      "outputs": []
    },
    {
      "cell_type": "code",
      "source": [
        "# iq get techinical indicator documentacao api FEITO"
      ],
      "metadata": {
        "id": "Q-fnEZvV-R0E"
      },
      "execution_count": 73,
      "outputs": []
    },
    {
      "cell_type": "code",
      "source": [
        "# usar ema FEITO"
      ],
      "metadata": {
        "id": "6b4_uM7mb1AO"
      },
      "execution_count": 74,
      "outputs": []
    },
    {
      "cell_type": "code",
      "source": [
        "# combinar rsi com ema FEITO"
      ],
      "metadata": {
        "id": "4llmBuM7404j"
      },
      "execution_count": 75,
      "outputs": []
    },
    {
      "cell_type": "code",
      "source": [
        "# usar pivots (suporte resistencia) fibonacci (pontos compra ou venda) principais sao os mais proximos de 50 < o cara do mercadO FALTA"
      ],
      "metadata": {
        "id": "u-K3AB_I--Cq"
      },
      "execution_count": 76,
      "outputs": []
    },
    {
      "cell_type": "code",
      "source": [
        "# fazer as entradas FALTA"
      ],
      "metadata": {
        "id": "9q3yYYAr_PAx"
      },
      "execution_count": 77,
      "outputs": []
    },
    {
      "cell_type": "markdown",
      "source": [
        "# **Plot sem definir colunas de cor e fill anteriores no dataframe e plot com velas cinzas**\n",
        "\n",
        "(https://medium.com/@lucasjamar47/advanced-tips-for-candlestick-plots-in-python-66977793bee)\n",
        "\n",
        "(https://tradingqna.com/t/what-is-this-grey-candle-in-my-candlestick-chart/16296)"
      ],
      "metadata": {
        "id": "OYhPshCn1-4A"
      }
    },
    {
      "cell_type": "code",
      "source": [
        "# Melhoria do plot anterior, agora sem utilizar colunas adicionais no dataframe dos valores de registros\n",
        "\n",
        "fig = make_subplots(rows=2, cols=1, shared_xaxes=True, vertical_spacing=0.05,\n",
        "                    subplot_titles=(\"Candlestick\", \"RSI\"))\n",
        "\n",
        "\n",
        "for index, row in EURUSD_df.iterrows():\n",
        "    color = 'green' if row[\"close\"] > row[\"previousClose\"] else 'red'\n",
        "    fill_color = 'rgba(255, 0, 0, 0)' if row[\"close\"] > row[\"open\"] else color\n",
        "    coloring = dict(fillcolor=fill_color, line=dict(color=color))\n",
        "    fig.add_trace(\n",
        "        go.Candlestick(\n",
        "            x=[index],\n",
        "            open=[row[\"open\"]],\n",
        "            high=[row[\"max\"]],\n",
        "            low=[row[\"min\"]],\n",
        "            close=[row[\"close\"]],\n",
        "            increasing=coloring,\n",
        "            decreasing=coloring,\n",
        "            showlegend=False,\n",
        "        ),\n",
        "        row=1, col=1\n",
        "    )\n",
        "\n",
        "\n",
        "fig.add_trace(\n",
        "    go.Scatter(x=EURUSD_df.index, y=EURUSD_df['rsi'], mode='lines', name='RSI', marker=dict(color='orange')),\n",
        "    row=2, col=1\n",
        ")\n",
        "\n",
        "\n",
        "for index, row in EURUSD_df.iterrows():\n",
        "    if row['signal'] == 'SELL':\n",
        "        fig.add_trace(\n",
        "            go.Scatter(x=[index], y=[row['rsi']], mode='markers', marker=dict(color='red'), showlegend=False),\n",
        "            row=2, col=1\n",
        "        )\n",
        "    elif row['signal'] == 'BUY':\n",
        "        fig.add_trace(\n",
        "            go.Scatter(x=[index], y=[row['rsi']], mode='markers', marker=dict(color='green'), showlegend=False),\n",
        "            row=2, col=1\n",
        "        )\n",
        "\n",
        "\n",
        "fig.add_hline(y=30, line_dash=\"dash\", line_color=\"blue\", row=2, col=1, name=\"RSI 30\")\n",
        "fig.add_hline(y=70, line_dash=\"dash\", line_color=\"red\", row=2, col=1, name=\"RSI 70\")\n",
        "\n",
        "\n",
        "fig.update_layout(title=\"EURUSD\",\n",
        "                  xaxis_rangeslider_visible=False,\n",
        "                  yaxis2=dict(title=\"RSI\", range=[0, 100]))\n",
        "\n",
        "\n",
        "fig.show()"
      ],
      "metadata": {
        "colab": {
          "base_uri": "https://localhost:8080/",
          "height": 542
        },
        "id": "lTdGxVRKEcZr",
        "outputId": "729bc6fe-5e30-474e-9cb6-60995d244462"
      },
      "execution_count": 78,
      "outputs": [
        {
          "output_type": "display_data",
          "data": {
            "text/html": [
              "<html>\n",
              "<head><meta charset=\"utf-8\" /></head>\n",
              "<body>\n",
              "    <div>            <script src=\"https://cdnjs.cloudflare.com/ajax/libs/mathjax/2.7.5/MathJax.js?config=TeX-AMS-MML_SVG\"></script><script type=\"text/javascript\">if (window.MathJax && window.MathJax.Hub && window.MathJax.Hub.Config) {window.MathJax.Hub.Config({SVG: {font: \"STIX-Web\"}});}</script>                <script type=\"text/javascript\">window.PlotlyConfig = {MathJaxConfig: 'local'};</script>\n",
              "        <script charset=\"utf-8\" src=\"https://cdn.plot.ly/plotly-2.24.1.min.js\"></script>                <div id=\"b65505bd-003f-4b37-a87c-e953a3a98767\" class=\"plotly-graph-div\" style=\"height:525px; width:100%;\"></div>            <script type=\"text/javascript\">                                    window.PLOTLYENV=window.PLOTLYENV || {};                                    if (document.getElementById(\"b65505bd-003f-4b37-a87c-e953a3a98767\")) {                    Plotly.newPlot(                        \"b65505bd-003f-4b37-a87c-e953a3a98767\",                        [{\"close\":[1.07993],\"decreasing\":{\"fillcolor\":\"rgba(255, 0, 0, 0)\",\"line\":{\"color\":\"red\"}},\"high\":[1.07993],\"increasing\":{\"fillcolor\":\"rgba(255, 0, 0, 0)\",\"line\":{\"color\":\"red\"}},\"low\":[1.079755],\"open\":[1.079785],\"showlegend\":false,\"x\":[0],\"type\":\"candlestick\",\"xaxis\":\"x\",\"yaxis\":\"y\"},{\"close\":[1.079995],\"decreasing\":{\"fillcolor\":\"rgba(255, 0, 0, 0)\",\"line\":{\"color\":\"green\"}},\"high\":[1.08004],\"increasing\":{\"fillcolor\":\"rgba(255, 0, 0, 0)\",\"line\":{\"color\":\"green\"}},\"low\":[1.079925],\"open\":[1.079925],\"showlegend\":false,\"x\":[1],\"type\":\"candlestick\",\"xaxis\":\"x\",\"yaxis\":\"y\"},{\"close\":[1.08006],\"decreasing\":{\"fillcolor\":\"rgba(255, 0, 0, 0)\",\"line\":{\"color\":\"green\"}},\"high\":[1.08009],\"increasing\":{\"fillcolor\":\"rgba(255, 0, 0, 0)\",\"line\":{\"color\":\"green\"}},\"low\":[1.079995],\"open\":[1.08],\"showlegend\":false,\"x\":[2],\"type\":\"candlestick\",\"xaxis\":\"x\",\"yaxis\":\"y\"},{\"close\":[1.07999],\"decreasing\":{\"fillcolor\":\"red\",\"line\":{\"color\":\"red\"}},\"high\":[1.080065],\"increasing\":{\"fillcolor\":\"red\",\"line\":{\"color\":\"red\"}},\"low\":[1.079965],\"open\":[1.08006],\"showlegend\":false,\"x\":[3],\"type\":\"candlestick\",\"xaxis\":\"x\",\"yaxis\":\"y\"},{\"close\":[1.079925],\"decreasing\":{\"fillcolor\":\"red\",\"line\":{\"color\":\"red\"}},\"high\":[1.07999],\"increasing\":{\"fillcolor\":\"red\",\"line\":{\"color\":\"red\"}},\"low\":[1.07983],\"open\":[1.07999],\"showlegend\":false,\"x\":[4],\"type\":\"candlestick\",\"xaxis\":\"x\",\"yaxis\":\"y\"},{\"close\":[1.07997],\"decreasing\":{\"fillcolor\":\"rgba(255, 0, 0, 0)\",\"line\":{\"color\":\"green\"}},\"high\":[1.080065],\"increasing\":{\"fillcolor\":\"rgba(255, 0, 0, 0)\",\"line\":{\"color\":\"green\"}},\"low\":[1.079915],\"open\":[1.079925],\"showlegend\":false,\"x\":[5],\"type\":\"candlestick\",\"xaxis\":\"x\",\"yaxis\":\"y\"},{\"close\":[1.07999],\"decreasing\":{\"fillcolor\":\"rgba(255, 0, 0, 0)\",\"line\":{\"color\":\"green\"}},\"high\":[1.08001],\"increasing\":{\"fillcolor\":\"rgba(255, 0, 0, 0)\",\"line\":{\"color\":\"green\"}},\"low\":[1.07994],\"open\":[1.079965],\"showlegend\":false,\"x\":[6],\"type\":\"candlestick\",\"xaxis\":\"x\",\"yaxis\":\"y\"},{\"close\":[1.079985],\"decreasing\":{\"fillcolor\":\"red\",\"line\":{\"color\":\"red\"}},\"high\":[1.080075],\"increasing\":{\"fillcolor\":\"red\",\"line\":{\"color\":\"red\"}},\"low\":[1.079945],\"open\":[1.08],\"showlegend\":false,\"x\":[7],\"type\":\"candlestick\",\"xaxis\":\"x\",\"yaxis\":\"y\"},{\"close\":[1.0799],\"decreasing\":{\"fillcolor\":\"red\",\"line\":{\"color\":\"red\"}},\"high\":[1.08005],\"increasing\":{\"fillcolor\":\"red\",\"line\":{\"color\":\"red\"}},\"low\":[1.079895],\"open\":[1.079985],\"showlegend\":false,\"x\":[8],\"type\":\"candlestick\",\"xaxis\":\"x\",\"yaxis\":\"y\"},{\"close\":[1.08003],\"decreasing\":{\"fillcolor\":\"rgba(255, 0, 0, 0)\",\"line\":{\"color\":\"green\"}},\"high\":[1.08003],\"increasing\":{\"fillcolor\":\"rgba(255, 0, 0, 0)\",\"line\":{\"color\":\"green\"}},\"low\":[1.079875],\"open\":[1.079905],\"showlegend\":false,\"x\":[9],\"type\":\"candlestick\",\"xaxis\":\"x\",\"yaxis\":\"y\"},{\"close\":[1.080075],\"decreasing\":{\"fillcolor\":\"rgba(255, 0, 0, 0)\",\"line\":{\"color\":\"green\"}},\"high\":[1.0801],\"increasing\":{\"fillcolor\":\"rgba(255, 0, 0, 0)\",\"line\":{\"color\":\"green\"}},\"low\":[1.080005],\"open\":[1.080025],\"showlegend\":false,\"x\":[10],\"type\":\"candlestick\",\"xaxis\":\"x\",\"yaxis\":\"y\"},{\"close\":[1.080025],\"decreasing\":{\"fillcolor\":\"red\",\"line\":{\"color\":\"red\"}},\"high\":[1.08009],\"increasing\":{\"fillcolor\":\"red\",\"line\":{\"color\":\"red\"}},\"low\":[1.080005],\"open\":[1.080075],\"showlegend\":false,\"x\":[11],\"type\":\"candlestick\",\"xaxis\":\"x\",\"yaxis\":\"y\"},{\"close\":[1.08003],\"decreasing\":{\"fillcolor\":\"rgba(255, 0, 0, 0)\",\"line\":{\"color\":\"green\"}},\"high\":[1.080055],\"increasing\":{\"fillcolor\":\"rgba(255, 0, 0, 0)\",\"line\":{\"color\":\"green\"}},\"low\":[1.079975],\"open\":[1.08002],\"showlegend\":false,\"x\":[12],\"type\":\"candlestick\",\"xaxis\":\"x\",\"yaxis\":\"y\"},{\"close\":[1.07993],\"decreasing\":{\"fillcolor\":\"red\",\"line\":{\"color\":\"red\"}},\"high\":[1.080055],\"increasing\":{\"fillcolor\":\"red\",\"line\":{\"color\":\"red\"}},\"low\":[1.07991],\"open\":[1.08003],\"showlegend\":false,\"x\":[13],\"type\":\"candlestick\",\"xaxis\":\"x\",\"yaxis\":\"y\"},{\"close\":[1.07987],\"decreasing\":{\"fillcolor\":\"red\",\"line\":{\"color\":\"red\"}},\"high\":[1.07995],\"increasing\":{\"fillcolor\":\"red\",\"line\":{\"color\":\"red\"}},\"low\":[1.079835],\"open\":[1.079925],\"showlegend\":false,\"x\":[14],\"type\":\"candlestick\",\"xaxis\":\"x\",\"yaxis\":\"y\"},{\"close\":[1.080065],\"decreasing\":{\"fillcolor\":\"rgba(255, 0, 0, 0)\",\"line\":{\"color\":\"green\"}},\"high\":[1.080085],\"increasing\":{\"fillcolor\":\"rgba(255, 0, 0, 0)\",\"line\":{\"color\":\"green\"}},\"low\":[1.07985],\"open\":[1.079875],\"showlegend\":false,\"x\":[15],\"type\":\"candlestick\",\"xaxis\":\"x\",\"yaxis\":\"y\"},{\"close\":[1.080005],\"decreasing\":{\"fillcolor\":\"red\",\"line\":{\"color\":\"red\"}},\"high\":[1.08006],\"increasing\":{\"fillcolor\":\"red\",\"line\":{\"color\":\"red\"}},\"low\":[1.079995],\"open\":[1.08006],\"showlegend\":false,\"x\":[16],\"type\":\"candlestick\",\"xaxis\":\"x\",\"yaxis\":\"y\"},{\"close\":[1.07997],\"decreasing\":{\"fillcolor\":\"red\",\"line\":{\"color\":\"red\"}},\"high\":[1.08003],\"increasing\":{\"fillcolor\":\"red\",\"line\":{\"color\":\"red\"}},\"low\":[1.07993],\"open\":[1.08],\"showlegend\":false,\"x\":[17],\"type\":\"candlestick\",\"xaxis\":\"x\",\"yaxis\":\"y\"},{\"close\":[1.079955],\"decreasing\":{\"fillcolor\":\"red\",\"line\":{\"color\":\"red\"}},\"high\":[1.08003],\"increasing\":{\"fillcolor\":\"red\",\"line\":{\"color\":\"red\"}},\"low\":[1.079915],\"open\":[1.07997],\"showlegend\":false,\"x\":[18],\"type\":\"candlestick\",\"xaxis\":\"x\",\"yaxis\":\"y\"},{\"close\":[1.08001],\"decreasing\":{\"fillcolor\":\"rgba(255, 0, 0, 0)\",\"line\":{\"color\":\"green\"}},\"high\":[1.080015],\"increasing\":{\"fillcolor\":\"rgba(255, 0, 0, 0)\",\"line\":{\"color\":\"green\"}},\"low\":[1.07992],\"open\":[1.07995],\"showlegend\":false,\"x\":[19],\"type\":\"candlestick\",\"xaxis\":\"x\",\"yaxis\":\"y\"},{\"close\":[1.079975],\"decreasing\":{\"fillcolor\":\"red\",\"line\":{\"color\":\"red\"}},\"high\":[1.08001],\"increasing\":{\"fillcolor\":\"red\",\"line\":{\"color\":\"red\"}},\"low\":[1.079925],\"open\":[1.08001],\"showlegend\":false,\"x\":[20],\"type\":\"candlestick\",\"xaxis\":\"x\",\"yaxis\":\"y\"},{\"close\":[1.08008],\"decreasing\":{\"fillcolor\":\"rgba(255, 0, 0, 0)\",\"line\":{\"color\":\"green\"}},\"high\":[1.080105],\"increasing\":{\"fillcolor\":\"rgba(255, 0, 0, 0)\",\"line\":{\"color\":\"green\"}},\"low\":[1.07997],\"open\":[1.079975],\"showlegend\":false,\"x\":[21],\"type\":\"candlestick\",\"xaxis\":\"x\",\"yaxis\":\"y\"},{\"close\":[1.080105],\"decreasing\":{\"fillcolor\":\"rgba(255, 0, 0, 0)\",\"line\":{\"color\":\"green\"}},\"high\":[1.08013],\"increasing\":{\"fillcolor\":\"rgba(255, 0, 0, 0)\",\"line\":{\"color\":\"green\"}},\"low\":[1.080055],\"open\":[1.08008],\"showlegend\":false,\"x\":[22],\"type\":\"candlestick\",\"xaxis\":\"x\",\"yaxis\":\"y\"},{\"close\":[1.080185],\"decreasing\":{\"fillcolor\":\"rgba(255, 0, 0, 0)\",\"line\":{\"color\":\"green\"}},\"high\":[1.0802],\"increasing\":{\"fillcolor\":\"rgba(255, 0, 0, 0)\",\"line\":{\"color\":\"green\"}},\"low\":[1.080085],\"open\":[1.08011],\"showlegend\":false,\"x\":[23],\"type\":\"candlestick\",\"xaxis\":\"x\",\"yaxis\":\"y\"},{\"close\":[1.080145],\"decreasing\":{\"fillcolor\":\"red\",\"line\":{\"color\":\"red\"}},\"high\":[1.0802],\"increasing\":{\"fillcolor\":\"red\",\"line\":{\"color\":\"red\"}},\"low\":[1.08011],\"open\":[1.080185],\"showlegend\":false,\"x\":[24],\"type\":\"candlestick\",\"xaxis\":\"x\",\"yaxis\":\"y\"},{\"close\":[1.08017],\"decreasing\":{\"fillcolor\":\"rgba(255, 0, 0, 0)\",\"line\":{\"color\":\"green\"}},\"high\":[1.080215],\"increasing\":{\"fillcolor\":\"rgba(255, 0, 0, 0)\",\"line\":{\"color\":\"green\"}},\"low\":[1.080115],\"open\":[1.080145],\"showlegend\":false,\"x\":[25],\"type\":\"candlestick\",\"xaxis\":\"x\",\"yaxis\":\"y\"},{\"close\":[1.080125],\"decreasing\":{\"fillcolor\":\"red\",\"line\":{\"color\":\"red\"}},\"high\":[1.080225],\"increasing\":{\"fillcolor\":\"red\",\"line\":{\"color\":\"red\"}},\"low\":[1.080125],\"open\":[1.08019],\"showlegend\":false,\"x\":[26],\"type\":\"candlestick\",\"xaxis\":\"x\",\"yaxis\":\"y\"},{\"close\":[1.080165],\"decreasing\":{\"fillcolor\":\"rgba(255, 0, 0, 0)\",\"line\":{\"color\":\"green\"}},\"high\":[1.08019],\"increasing\":{\"fillcolor\":\"rgba(255, 0, 0, 0)\",\"line\":{\"color\":\"green\"}},\"low\":[1.080115],\"open\":[1.080115],\"showlegend\":false,\"x\":[27],\"type\":\"candlestick\",\"xaxis\":\"x\",\"yaxis\":\"y\"},{\"close\":[1.08028],\"decreasing\":{\"fillcolor\":\"rgba(255, 0, 0, 0)\",\"line\":{\"color\":\"green\"}},\"high\":[1.0803],\"increasing\":{\"fillcolor\":\"rgba(255, 0, 0, 0)\",\"line\":{\"color\":\"green\"}},\"low\":[1.08016],\"open\":[1.080165],\"showlegend\":false,\"x\":[28],\"type\":\"candlestick\",\"xaxis\":\"x\",\"yaxis\":\"y\"},{\"close\":[1.08032],\"decreasing\":{\"fillcolor\":\"rgba(255, 0, 0, 0)\",\"line\":{\"color\":\"green\"}},\"high\":[1.080345],\"increasing\":{\"fillcolor\":\"rgba(255, 0, 0, 0)\",\"line\":{\"color\":\"green\"}},\"low\":[1.080275],\"open\":[1.080275],\"showlegend\":false,\"x\":[29],\"type\":\"candlestick\",\"xaxis\":\"x\",\"yaxis\":\"y\"},{\"close\":[1.080315],\"decreasing\":{\"fillcolor\":\"red\",\"line\":{\"color\":\"red\"}},\"high\":[1.08037],\"increasing\":{\"fillcolor\":\"red\",\"line\":{\"color\":\"red\"}},\"low\":[1.08031],\"open\":[1.08032],\"showlegend\":false,\"x\":[30],\"type\":\"candlestick\",\"xaxis\":\"x\",\"yaxis\":\"y\"},{\"close\":[1.080295],\"decreasing\":{\"fillcolor\":\"red\",\"line\":{\"color\":\"red\"}},\"high\":[1.080335],\"increasing\":{\"fillcolor\":\"red\",\"line\":{\"color\":\"red\"}},\"low\":[1.080255],\"open\":[1.08031],\"showlegend\":false,\"x\":[31],\"type\":\"candlestick\",\"xaxis\":\"x\",\"yaxis\":\"y\"},{\"close\":[1.08034],\"decreasing\":{\"fillcolor\":\"rgba(255, 0, 0, 0)\",\"line\":{\"color\":\"green\"}},\"high\":[1.080355],\"increasing\":{\"fillcolor\":\"rgba(255, 0, 0, 0)\",\"line\":{\"color\":\"green\"}},\"low\":[1.08028],\"open\":[1.080295],\"showlegend\":false,\"x\":[32],\"type\":\"candlestick\",\"xaxis\":\"x\",\"yaxis\":\"y\"},{\"close\":[1.080435],\"decreasing\":{\"fillcolor\":\"rgba(255, 0, 0, 0)\",\"line\":{\"color\":\"green\"}},\"high\":[1.08045],\"increasing\":{\"fillcolor\":\"rgba(255, 0, 0, 0)\",\"line\":{\"color\":\"green\"}},\"low\":[1.08033],\"open\":[1.08034],\"showlegend\":false,\"x\":[33],\"type\":\"candlestick\",\"xaxis\":\"x\",\"yaxis\":\"y\"},{\"close\":[1.08047],\"decreasing\":{\"fillcolor\":\"rgba(255, 0, 0, 0)\",\"line\":{\"color\":\"green\"}},\"high\":[1.080495],\"increasing\":{\"fillcolor\":\"rgba(255, 0, 0, 0)\",\"line\":{\"color\":\"green\"}},\"low\":[1.080425],\"open\":[1.080435],\"showlegend\":false,\"x\":[34],\"type\":\"candlestick\",\"xaxis\":\"x\",\"yaxis\":\"y\"},{\"close\":[1.08059],\"decreasing\":{\"fillcolor\":\"rgba(255, 0, 0, 0)\",\"line\":{\"color\":\"green\"}},\"high\":[1.080635],\"increasing\":{\"fillcolor\":\"rgba(255, 0, 0, 0)\",\"line\":{\"color\":\"green\"}},\"low\":[1.08046],\"open\":[1.08047],\"showlegend\":false,\"x\":[35],\"type\":\"candlestick\",\"xaxis\":\"x\",\"yaxis\":\"y\"},{\"close\":[1.080635],\"decreasing\":{\"fillcolor\":\"rgba(255, 0, 0, 0)\",\"line\":{\"color\":\"green\"}},\"high\":[1.080645],\"increasing\":{\"fillcolor\":\"rgba(255, 0, 0, 0)\",\"line\":{\"color\":\"green\"}},\"low\":[1.080545],\"open\":[1.080585],\"showlegend\":false,\"x\":[36],\"type\":\"candlestick\",\"xaxis\":\"x\",\"yaxis\":\"y\"},{\"close\":[1.080545],\"decreasing\":{\"fillcolor\":\"red\",\"line\":{\"color\":\"red\"}},\"high\":[1.08066],\"increasing\":{\"fillcolor\":\"red\",\"line\":{\"color\":\"red\"}},\"low\":[1.080545],\"open\":[1.08064],\"showlegend\":false,\"x\":[37],\"type\":\"candlestick\",\"xaxis\":\"x\",\"yaxis\":\"y\"},{\"close\":[1.08043],\"decreasing\":{\"fillcolor\":\"red\",\"line\":{\"color\":\"red\"}},\"high\":[1.080545],\"increasing\":{\"fillcolor\":\"red\",\"line\":{\"color\":\"red\"}},\"low\":[1.080415],\"open\":[1.080545],\"showlegend\":false,\"x\":[38],\"type\":\"candlestick\",\"xaxis\":\"x\",\"yaxis\":\"y\"},{\"close\":[1.080485],\"decreasing\":{\"fillcolor\":\"rgba(255, 0, 0, 0)\",\"line\":{\"color\":\"green\"}},\"high\":[1.0805],\"increasing\":{\"fillcolor\":\"rgba(255, 0, 0, 0)\",\"line\":{\"color\":\"green\"}},\"low\":[1.080425],\"open\":[1.080425],\"showlegend\":false,\"x\":[39],\"type\":\"candlestick\",\"xaxis\":\"x\",\"yaxis\":\"y\"},{\"close\":[1.08054],\"decreasing\":{\"fillcolor\":\"rgba(255, 0, 0, 0)\",\"line\":{\"color\":\"green\"}},\"high\":[1.080605],\"increasing\":{\"fillcolor\":\"rgba(255, 0, 0, 0)\",\"line\":{\"color\":\"green\"}},\"low\":[1.080475],\"open\":[1.080485],\"showlegend\":false,\"x\":[40],\"type\":\"candlestick\",\"xaxis\":\"x\",\"yaxis\":\"y\"},{\"close\":[1.08051],\"decreasing\":{\"fillcolor\":\"red\",\"line\":{\"color\":\"red\"}},\"high\":[1.080565],\"increasing\":{\"fillcolor\":\"red\",\"line\":{\"color\":\"red\"}},\"low\":[1.080485],\"open\":[1.08055],\"showlegend\":false,\"x\":[41],\"type\":\"candlestick\",\"xaxis\":\"x\",\"yaxis\":\"y\"},{\"close\":[1.080445],\"decreasing\":{\"fillcolor\":\"red\",\"line\":{\"color\":\"red\"}},\"high\":[1.08051],\"increasing\":{\"fillcolor\":\"red\",\"line\":{\"color\":\"red\"}},\"low\":[1.080415],\"open\":[1.080505],\"showlegend\":false,\"x\":[42],\"type\":\"candlestick\",\"xaxis\":\"x\",\"yaxis\":\"y\"},{\"close\":[1.08047],\"decreasing\":{\"fillcolor\":\"rgba(255, 0, 0, 0)\",\"line\":{\"color\":\"green\"}},\"high\":[1.080485],\"increasing\":{\"fillcolor\":\"rgba(255, 0, 0, 0)\",\"line\":{\"color\":\"green\"}},\"low\":[1.080405],\"open\":[1.080445],\"showlegend\":false,\"x\":[43],\"type\":\"candlestick\",\"xaxis\":\"x\",\"yaxis\":\"y\"},{\"close\":[1.080335],\"decreasing\":{\"fillcolor\":\"red\",\"line\":{\"color\":\"red\"}},\"high\":[1.080485],\"increasing\":{\"fillcolor\":\"red\",\"line\":{\"color\":\"red\"}},\"low\":[1.08032],\"open\":[1.08046],\"showlegend\":false,\"x\":[44],\"type\":\"candlestick\",\"xaxis\":\"x\",\"yaxis\":\"y\"},{\"close\":[1.080325],\"decreasing\":{\"fillcolor\":\"red\",\"line\":{\"color\":\"red\"}},\"high\":[1.080395],\"increasing\":{\"fillcolor\":\"red\",\"line\":{\"color\":\"red\"}},\"low\":[1.080325],\"open\":[1.080345],\"showlegend\":false,\"x\":[45],\"type\":\"candlestick\",\"xaxis\":\"x\",\"yaxis\":\"y\"},{\"close\":[1.080365],\"decreasing\":{\"fillcolor\":\"rgba(255, 0, 0, 0)\",\"line\":{\"color\":\"green\"}},\"high\":[1.080395],\"increasing\":{\"fillcolor\":\"rgba(255, 0, 0, 0)\",\"line\":{\"color\":\"green\"}},\"low\":[1.080315],\"open\":[1.080325],\"showlegend\":false,\"x\":[46],\"type\":\"candlestick\",\"xaxis\":\"x\",\"yaxis\":\"y\"},{\"close\":[1.080345],\"decreasing\":{\"fillcolor\":\"red\",\"line\":{\"color\":\"red\"}},\"high\":[1.080395],\"increasing\":{\"fillcolor\":\"red\",\"line\":{\"color\":\"red\"}},\"low\":[1.080335],\"open\":[1.080365],\"showlegend\":false,\"x\":[47],\"type\":\"candlestick\",\"xaxis\":\"x\",\"yaxis\":\"y\"},{\"close\":[1.080405],\"decreasing\":{\"fillcolor\":\"rgba(255, 0, 0, 0)\",\"line\":{\"color\":\"green\"}},\"high\":[1.080405],\"increasing\":{\"fillcolor\":\"rgba(255, 0, 0, 0)\",\"line\":{\"color\":\"green\"}},\"low\":[1.080335],\"open\":[1.080335],\"showlegend\":false,\"x\":[48],\"type\":\"candlestick\",\"xaxis\":\"x\",\"yaxis\":\"y\"},{\"close\":[1.080445],\"decreasing\":{\"fillcolor\":\"rgba(255, 0, 0, 0)\",\"line\":{\"color\":\"green\"}},\"high\":[1.08049],\"increasing\":{\"fillcolor\":\"rgba(255, 0, 0, 0)\",\"line\":{\"color\":\"green\"}},\"low\":[1.080375],\"open\":[1.080395],\"showlegend\":false,\"x\":[49],\"type\":\"candlestick\",\"xaxis\":\"x\",\"yaxis\":\"y\"},{\"close\":[1.080395],\"decreasing\":{\"fillcolor\":\"red\",\"line\":{\"color\":\"red\"}},\"high\":[1.08059],\"increasing\":{\"fillcolor\":\"red\",\"line\":{\"color\":\"red\"}},\"low\":[1.08033],\"open\":[1.080505],\"showlegend\":false,\"x\":[50],\"type\":\"candlestick\",\"xaxis\":\"x\",\"yaxis\":\"y\"},{\"close\":[1.080385],\"decreasing\":{\"fillcolor\":\"red\",\"line\":{\"color\":\"red\"}},\"high\":[1.080455],\"increasing\":{\"fillcolor\":\"red\",\"line\":{\"color\":\"red\"}},\"low\":[1.080325],\"open\":[1.080385],\"showlegend\":false,\"x\":[51],\"type\":\"candlestick\",\"xaxis\":\"x\",\"yaxis\":\"y\"},{\"close\":[1.080435],\"decreasing\":{\"fillcolor\":\"rgba(255, 0, 0, 0)\",\"line\":{\"color\":\"green\"}},\"high\":[1.080585],\"increasing\":{\"fillcolor\":\"rgba(255, 0, 0, 0)\",\"line\":{\"color\":\"green\"}},\"low\":[1.08034],\"open\":[1.08038],\"showlegend\":false,\"x\":[52],\"type\":\"candlestick\",\"xaxis\":\"x\",\"yaxis\":\"y\"},{\"close\":[1.08047],\"decreasing\":{\"fillcolor\":\"rgba(255, 0, 0, 0)\",\"line\":{\"color\":\"green\"}},\"high\":[1.0805],\"increasing\":{\"fillcolor\":\"rgba(255, 0, 0, 0)\",\"line\":{\"color\":\"green\"}},\"low\":[1.08043],\"open\":[1.08043],\"showlegend\":false,\"x\":[53],\"type\":\"candlestick\",\"xaxis\":\"x\",\"yaxis\":\"y\"},{\"close\":[1.08048],\"decreasing\":{\"fillcolor\":\"rgba(255, 0, 0, 0)\",\"line\":{\"color\":\"green\"}},\"high\":[1.080505],\"increasing\":{\"fillcolor\":\"rgba(255, 0, 0, 0)\",\"line\":{\"color\":\"green\"}},\"low\":[1.08043],\"open\":[1.080465],\"showlegend\":false,\"x\":[54],\"type\":\"candlestick\",\"xaxis\":\"x\",\"yaxis\":\"y\"},{\"close\":[1.080585],\"decreasing\":{\"fillcolor\":\"rgba(255, 0, 0, 0)\",\"line\":{\"color\":\"green\"}},\"high\":[1.08059],\"increasing\":{\"fillcolor\":\"rgba(255, 0, 0, 0)\",\"line\":{\"color\":\"green\"}},\"low\":[1.080465],\"open\":[1.080475],\"showlegend\":false,\"x\":[55],\"type\":\"candlestick\",\"xaxis\":\"x\",\"yaxis\":\"y\"},{\"close\":[1.0807],\"decreasing\":{\"fillcolor\":\"rgba(255, 0, 0, 0)\",\"line\":{\"color\":\"green\"}},\"high\":[1.08078],\"increasing\":{\"fillcolor\":\"rgba(255, 0, 0, 0)\",\"line\":{\"color\":\"green\"}},\"low\":[1.08056],\"open\":[1.08059],\"showlegend\":false,\"x\":[56],\"type\":\"candlestick\",\"xaxis\":\"x\",\"yaxis\":\"y\"},{\"close\":[1.080725],\"decreasing\":{\"fillcolor\":\"rgba(255, 0, 0, 0)\",\"line\":{\"color\":\"green\"}},\"high\":[1.08078],\"increasing\":{\"fillcolor\":\"rgba(255, 0, 0, 0)\",\"line\":{\"color\":\"green\"}},\"low\":[1.08069],\"open\":[1.080705],\"showlegend\":false,\"x\":[57],\"type\":\"candlestick\",\"xaxis\":\"x\",\"yaxis\":\"y\"},{\"close\":[1.080865],\"decreasing\":{\"fillcolor\":\"rgba(255, 0, 0, 0)\",\"line\":{\"color\":\"green\"}},\"high\":[1.080895],\"increasing\":{\"fillcolor\":\"rgba(255, 0, 0, 0)\",\"line\":{\"color\":\"green\"}},\"low\":[1.080725],\"open\":[1.080725],\"showlegend\":false,\"x\":[58],\"type\":\"candlestick\",\"xaxis\":\"x\",\"yaxis\":\"y\"},{\"close\":[1.080835],\"decreasing\":{\"fillcolor\":\"red\",\"line\":{\"color\":\"red\"}},\"high\":[1.080935],\"increasing\":{\"fillcolor\":\"red\",\"line\":{\"color\":\"red\"}},\"low\":[1.08078],\"open\":[1.08086],\"showlegend\":false,\"x\":[59],\"type\":\"candlestick\",\"xaxis\":\"x\",\"yaxis\":\"y\"},{\"close\":[1.08089],\"decreasing\":{\"fillcolor\":\"rgba(255, 0, 0, 0)\",\"line\":{\"color\":\"green\"}},\"high\":[1.080925],\"increasing\":{\"fillcolor\":\"rgba(255, 0, 0, 0)\",\"line\":{\"color\":\"green\"}},\"low\":[1.080805],\"open\":[1.08084],\"showlegend\":false,\"x\":[60],\"type\":\"candlestick\",\"xaxis\":\"x\",\"yaxis\":\"y\"},{\"close\":[1.080855],\"decreasing\":{\"fillcolor\":\"red\",\"line\":{\"color\":\"red\"}},\"high\":[1.0809],\"increasing\":{\"fillcolor\":\"red\",\"line\":{\"color\":\"red\"}},\"low\":[1.080855],\"open\":[1.08089],\"showlegend\":false,\"x\":[61],\"type\":\"candlestick\",\"xaxis\":\"x\",\"yaxis\":\"y\"},{\"close\":[1.08092],\"decreasing\":{\"fillcolor\":\"rgba(255, 0, 0, 0)\",\"line\":{\"color\":\"green\"}},\"high\":[1.08093],\"increasing\":{\"fillcolor\":\"rgba(255, 0, 0, 0)\",\"line\":{\"color\":\"green\"}},\"low\":[1.0808],\"open\":[1.08086],\"showlegend\":false,\"x\":[62],\"type\":\"candlestick\",\"xaxis\":\"x\",\"yaxis\":\"y\"},{\"close\":[1.08092],\"decreasing\":{\"fillcolor\":\"rgba(255, 0, 0, 0)\",\"line\":{\"color\":\"red\"}},\"high\":[1.080975],\"increasing\":{\"fillcolor\":\"rgba(255, 0, 0, 0)\",\"line\":{\"color\":\"red\"}},\"low\":[1.080885],\"open\":[1.080915],\"showlegend\":false,\"x\":[63],\"type\":\"candlestick\",\"xaxis\":\"x\",\"yaxis\":\"y\"},{\"close\":[1.08088],\"decreasing\":{\"fillcolor\":\"red\",\"line\":{\"color\":\"red\"}},\"high\":[1.08093],\"increasing\":{\"fillcolor\":\"red\",\"line\":{\"color\":\"red\"}},\"low\":[1.080765],\"open\":[1.08092],\"showlegend\":false,\"x\":[64],\"type\":\"candlestick\",\"xaxis\":\"x\",\"yaxis\":\"y\"},{\"close\":[1.080975],\"decreasing\":{\"fillcolor\":\"rgba(255, 0, 0, 0)\",\"line\":{\"color\":\"green\"}},\"high\":[1.080975],\"increasing\":{\"fillcolor\":\"rgba(255, 0, 0, 0)\",\"line\":{\"color\":\"green\"}},\"low\":[1.080855],\"open\":[1.08089],\"showlegend\":false,\"x\":[65],\"type\":\"candlestick\",\"xaxis\":\"x\",\"yaxis\":\"y\"},{\"close\":[1.080915],\"decreasing\":{\"fillcolor\":\"red\",\"line\":{\"color\":\"red\"}},\"high\":[1.080995],\"increasing\":{\"fillcolor\":\"red\",\"line\":{\"color\":\"red\"}},\"low\":[1.080905],\"open\":[1.080965],\"showlegend\":false,\"x\":[66],\"type\":\"candlestick\",\"xaxis\":\"x\",\"yaxis\":\"y\"},{\"close\":[1.08093],\"decreasing\":{\"fillcolor\":\"rgba(255, 0, 0, 0)\",\"line\":{\"color\":\"green\"}},\"high\":[1.081045],\"increasing\":{\"fillcolor\":\"rgba(255, 0, 0, 0)\",\"line\":{\"color\":\"green\"}},\"low\":[1.080915],\"open\":[1.08092],\"showlegend\":false,\"x\":[67],\"type\":\"candlestick\",\"xaxis\":\"x\",\"yaxis\":\"y\"},{\"close\":[1.080825],\"decreasing\":{\"fillcolor\":\"red\",\"line\":{\"color\":\"red\"}},\"high\":[1.080955],\"increasing\":{\"fillcolor\":\"red\",\"line\":{\"color\":\"red\"}},\"low\":[1.08081],\"open\":[1.08093],\"showlegend\":false,\"x\":[68],\"type\":\"candlestick\",\"xaxis\":\"x\",\"yaxis\":\"y\"},{\"close\":[1.080975],\"decreasing\":{\"fillcolor\":\"rgba(255, 0, 0, 0)\",\"line\":{\"color\":\"green\"}},\"high\":[1.080975],\"increasing\":{\"fillcolor\":\"rgba(255, 0, 0, 0)\",\"line\":{\"color\":\"green\"}},\"low\":[1.080825],\"open\":[1.080825],\"showlegend\":false,\"x\":[69],\"type\":\"candlestick\",\"xaxis\":\"x\",\"yaxis\":\"y\"},{\"close\":[1.08094],\"decreasing\":{\"fillcolor\":\"red\",\"line\":{\"color\":\"red\"}},\"high\":[1.08102],\"increasing\":{\"fillcolor\":\"red\",\"line\":{\"color\":\"red\"}},\"low\":[1.08093],\"open\":[1.080975],\"showlegend\":false,\"x\":[70],\"type\":\"candlestick\",\"xaxis\":\"x\",\"yaxis\":\"y\"},{\"close\":[1.080925],\"decreasing\":{\"fillcolor\":\"red\",\"line\":{\"color\":\"red\"}},\"high\":[1.080955],\"increasing\":{\"fillcolor\":\"red\",\"line\":{\"color\":\"red\"}},\"low\":[1.080875],\"open\":[1.08095],\"showlegend\":false,\"x\":[71],\"type\":\"candlestick\",\"xaxis\":\"x\",\"yaxis\":\"y\"},{\"close\":[1.080935],\"decreasing\":{\"fillcolor\":\"rgba(255, 0, 0, 0)\",\"line\":{\"color\":\"green\"}},\"high\":[1.08099],\"increasing\":{\"fillcolor\":\"rgba(255, 0, 0, 0)\",\"line\":{\"color\":\"green\"}},\"low\":[1.08092],\"open\":[1.08093],\"showlegend\":false,\"x\":[72],\"type\":\"candlestick\",\"xaxis\":\"x\",\"yaxis\":\"y\"},{\"close\":[1.080725],\"decreasing\":{\"fillcolor\":\"red\",\"line\":{\"color\":\"red\"}},\"high\":[1.08094],\"increasing\":{\"fillcolor\":\"red\",\"line\":{\"color\":\"red\"}},\"low\":[1.080725],\"open\":[1.080935],\"showlegend\":false,\"x\":[73],\"type\":\"candlestick\",\"xaxis\":\"x\",\"yaxis\":\"y\"},{\"close\":[1.080785],\"decreasing\":{\"fillcolor\":\"rgba(255, 0, 0, 0)\",\"line\":{\"color\":\"green\"}},\"high\":[1.080835],\"increasing\":{\"fillcolor\":\"rgba(255, 0, 0, 0)\",\"line\":{\"color\":\"green\"}},\"low\":[1.08074],\"open\":[1.08074],\"showlegend\":false,\"x\":[74],\"type\":\"candlestick\",\"xaxis\":\"x\",\"yaxis\":\"y\"},{\"close\":[1.080875],\"decreasing\":{\"fillcolor\":\"rgba(255, 0, 0, 0)\",\"line\":{\"color\":\"green\"}},\"high\":[1.0809],\"increasing\":{\"fillcolor\":\"rgba(255, 0, 0, 0)\",\"line\":{\"color\":\"green\"}},\"low\":[1.08078],\"open\":[1.080795],\"showlegend\":false,\"x\":[75],\"type\":\"candlestick\",\"xaxis\":\"x\",\"yaxis\":\"y\"},{\"close\":[1.080855],\"decreasing\":{\"fillcolor\":\"red\",\"line\":{\"color\":\"red\"}},\"high\":[1.080905],\"increasing\":{\"fillcolor\":\"red\",\"line\":{\"color\":\"red\"}},\"low\":[1.08084],\"open\":[1.08088],\"showlegend\":false,\"x\":[76],\"type\":\"candlestick\",\"xaxis\":\"x\",\"yaxis\":\"y\"},{\"close\":[1.080865],\"decreasing\":{\"fillcolor\":\"rgba(255, 0, 0, 0)\",\"line\":{\"color\":\"green\"}},\"high\":[1.08088],\"increasing\":{\"fillcolor\":\"rgba(255, 0, 0, 0)\",\"line\":{\"color\":\"green\"}},\"low\":[1.08083],\"open\":[1.080855],\"showlegend\":false,\"x\":[77],\"type\":\"candlestick\",\"xaxis\":\"x\",\"yaxis\":\"y\"},{\"close\":[1.080795],\"decreasing\":{\"fillcolor\":\"red\",\"line\":{\"color\":\"red\"}},\"high\":[1.080905],\"increasing\":{\"fillcolor\":\"red\",\"line\":{\"color\":\"red\"}},\"low\":[1.080755],\"open\":[1.080855],\"showlegend\":false,\"x\":[78],\"type\":\"candlestick\",\"xaxis\":\"x\",\"yaxis\":\"y\"},{\"close\":[1.080695],\"decreasing\":{\"fillcolor\":\"red\",\"line\":{\"color\":\"red\"}},\"high\":[1.080815],\"increasing\":{\"fillcolor\":\"red\",\"line\":{\"color\":\"red\"}},\"low\":[1.08067],\"open\":[1.0808],\"showlegend\":false,\"x\":[79],\"type\":\"candlestick\",\"xaxis\":\"x\",\"yaxis\":\"y\"},{\"close\":[1.080665],\"decreasing\":{\"fillcolor\":\"red\",\"line\":{\"color\":\"red\"}},\"high\":[1.080725],\"increasing\":{\"fillcolor\":\"red\",\"line\":{\"color\":\"red\"}},\"low\":[1.080655],\"open\":[1.08069],\"showlegend\":false,\"x\":[80],\"type\":\"candlestick\",\"xaxis\":\"x\",\"yaxis\":\"y\"},{\"close\":[1.080745],\"decreasing\":{\"fillcolor\":\"rgba(255, 0, 0, 0)\",\"line\":{\"color\":\"green\"}},\"high\":[1.08075],\"increasing\":{\"fillcolor\":\"rgba(255, 0, 0, 0)\",\"line\":{\"color\":\"green\"}},\"low\":[1.08064],\"open\":[1.08067],\"showlegend\":false,\"x\":[81],\"type\":\"candlestick\",\"xaxis\":\"x\",\"yaxis\":\"y\"},{\"close\":[1.080805],\"decreasing\":{\"fillcolor\":\"rgba(255, 0, 0, 0)\",\"line\":{\"color\":\"green\"}},\"high\":[1.080835],\"increasing\":{\"fillcolor\":\"rgba(255, 0, 0, 0)\",\"line\":{\"color\":\"green\"}},\"low\":[1.08072],\"open\":[1.080735],\"showlegend\":false,\"x\":[82],\"type\":\"candlestick\",\"xaxis\":\"x\",\"yaxis\":\"y\"},{\"close\":[1.08091],\"decreasing\":{\"fillcolor\":\"rgba(255, 0, 0, 0)\",\"line\":{\"color\":\"green\"}},\"high\":[1.08091],\"increasing\":{\"fillcolor\":\"rgba(255, 0, 0, 0)\",\"line\":{\"color\":\"green\"}},\"low\":[1.08078],\"open\":[1.080805],\"showlegend\":false,\"x\":[83],\"type\":\"candlestick\",\"xaxis\":\"x\",\"yaxis\":\"y\"},{\"close\":[1.081005],\"decreasing\":{\"fillcolor\":\"rgba(255, 0, 0, 0)\",\"line\":{\"color\":\"green\"}},\"high\":[1.081055],\"increasing\":{\"fillcolor\":\"rgba(255, 0, 0, 0)\",\"line\":{\"color\":\"green\"}},\"low\":[1.08088],\"open\":[1.080905],\"showlegend\":false,\"x\":[84],\"type\":\"candlestick\",\"xaxis\":\"x\",\"yaxis\":\"y\"},{\"close\":[1.080995],\"decreasing\":{\"fillcolor\":\"red\",\"line\":{\"color\":\"red\"}},\"high\":[1.08105],\"increasing\":{\"fillcolor\":\"red\",\"line\":{\"color\":\"red\"}},\"low\":[1.080925],\"open\":[1.080995],\"showlegend\":false,\"x\":[85],\"type\":\"candlestick\",\"xaxis\":\"x\",\"yaxis\":\"y\"},{\"close\":[1.081125],\"decreasing\":{\"fillcolor\":\"rgba(255, 0, 0, 0)\",\"line\":{\"color\":\"green\"}},\"high\":[1.08113],\"increasing\":{\"fillcolor\":\"rgba(255, 0, 0, 0)\",\"line\":{\"color\":\"green\"}},\"low\":[1.080965],\"open\":[1.08099],\"showlegend\":false,\"x\":[86],\"type\":\"candlestick\",\"xaxis\":\"x\",\"yaxis\":\"y\"},{\"close\":[1.08102],\"decreasing\":{\"fillcolor\":\"red\",\"line\":{\"color\":\"red\"}},\"high\":[1.08112],\"increasing\":{\"fillcolor\":\"red\",\"line\":{\"color\":\"red\"}},\"low\":[1.081],\"open\":[1.08112],\"showlegend\":false,\"x\":[87],\"type\":\"candlestick\",\"xaxis\":\"x\",\"yaxis\":\"y\"},{\"close\":[1.081015],\"decreasing\":{\"fillcolor\":\"red\",\"line\":{\"color\":\"red\"}},\"high\":[1.081085],\"increasing\":{\"fillcolor\":\"red\",\"line\":{\"color\":\"red\"}},\"low\":[1.080995],\"open\":[1.08102],\"showlegend\":false,\"x\":[88],\"type\":\"candlestick\",\"xaxis\":\"x\",\"yaxis\":\"y\"},{\"close\":[1.08096],\"decreasing\":{\"fillcolor\":\"red\",\"line\":{\"color\":\"red\"}},\"high\":[1.08102],\"increasing\":{\"fillcolor\":\"red\",\"line\":{\"color\":\"red\"}},\"low\":[1.080905],\"open\":[1.081015],\"showlegend\":false,\"x\":[89],\"type\":\"candlestick\",\"xaxis\":\"x\",\"yaxis\":\"y\"},{\"close\":[1.081005],\"decreasing\":{\"fillcolor\":\"rgba(255, 0, 0, 0)\",\"line\":{\"color\":\"green\"}},\"high\":[1.081035],\"increasing\":{\"fillcolor\":\"rgba(255, 0, 0, 0)\",\"line\":{\"color\":\"green\"}},\"low\":[1.080925],\"open\":[1.080965],\"showlegend\":false,\"x\":[90],\"type\":\"candlestick\",\"xaxis\":\"x\",\"yaxis\":\"y\"},{\"close\":[1.08095],\"decreasing\":{\"fillcolor\":\"red\",\"line\":{\"color\":\"red\"}},\"high\":[1.081035],\"increasing\":{\"fillcolor\":\"red\",\"line\":{\"color\":\"red\"}},\"low\":[1.08095],\"open\":[1.081005],\"showlegend\":false,\"x\":[91],\"type\":\"candlestick\",\"xaxis\":\"x\",\"yaxis\":\"y\"},{\"close\":[1.08103],\"decreasing\":{\"fillcolor\":\"rgba(255, 0, 0, 0)\",\"line\":{\"color\":\"green\"}},\"high\":[1.08104],\"increasing\":{\"fillcolor\":\"rgba(255, 0, 0, 0)\",\"line\":{\"color\":\"green\"}},\"low\":[1.08093],\"open\":[1.08094],\"showlegend\":false,\"x\":[92],\"type\":\"candlestick\",\"xaxis\":\"x\",\"yaxis\":\"y\"},{\"close\":[1.08092],\"decreasing\":{\"fillcolor\":\"red\",\"line\":{\"color\":\"red\"}},\"high\":[1.08105],\"increasing\":{\"fillcolor\":\"red\",\"line\":{\"color\":\"red\"}},\"low\":[1.08092],\"open\":[1.08102],\"showlegend\":false,\"x\":[93],\"type\":\"candlestick\",\"xaxis\":\"x\",\"yaxis\":\"y\"},{\"close\":[1.08092],\"decreasing\":{\"fillcolor\":\"red\",\"line\":{\"color\":\"red\"}},\"high\":[1.08093],\"increasing\":{\"fillcolor\":\"red\",\"line\":{\"color\":\"red\"}},\"low\":[1.08089],\"open\":[1.08093],\"showlegend\":false,\"x\":[94],\"type\":\"candlestick\",\"xaxis\":\"x\",\"yaxis\":\"y\"},{\"close\":[1.08088],\"decreasing\":{\"fillcolor\":\"red\",\"line\":{\"color\":\"red\"}},\"high\":[1.080985],\"increasing\":{\"fillcolor\":\"red\",\"line\":{\"color\":\"red\"}},\"low\":[1.08086],\"open\":[1.08091],\"showlegend\":false,\"x\":[95],\"type\":\"candlestick\",\"xaxis\":\"x\",\"yaxis\":\"y\"},{\"close\":[1.080865],\"decreasing\":{\"fillcolor\":\"red\",\"line\":{\"color\":\"red\"}},\"high\":[1.08089],\"increasing\":{\"fillcolor\":\"red\",\"line\":{\"color\":\"red\"}},\"low\":[1.0808],\"open\":[1.080885],\"showlegend\":false,\"x\":[96],\"type\":\"candlestick\",\"xaxis\":\"x\",\"yaxis\":\"y\"},{\"close\":[1.08082],\"decreasing\":{\"fillcolor\":\"red\",\"line\":{\"color\":\"red\"}},\"high\":[1.080885],\"increasing\":{\"fillcolor\":\"red\",\"line\":{\"color\":\"red\"}},\"low\":[1.08078],\"open\":[1.08087],\"showlegend\":false,\"x\":[97],\"type\":\"candlestick\",\"xaxis\":\"x\",\"yaxis\":\"y\"},{\"close\":[1.080865],\"decreasing\":{\"fillcolor\":\"rgba(255, 0, 0, 0)\",\"line\":{\"color\":\"green\"}},\"high\":[1.08089],\"increasing\":{\"fillcolor\":\"rgba(255, 0, 0, 0)\",\"line\":{\"color\":\"green\"}},\"low\":[1.08081],\"open\":[1.080815],\"showlegend\":false,\"x\":[98],\"type\":\"candlestick\",\"xaxis\":\"x\",\"yaxis\":\"y\"},{\"close\":[1.080855],\"decreasing\":{\"fillcolor\":\"red\",\"line\":{\"color\":\"red\"}},\"high\":[1.08089],\"increasing\":{\"fillcolor\":\"red\",\"line\":{\"color\":\"red\"}},\"low\":[1.08079],\"open\":[1.080875],\"showlegend\":false,\"x\":[99],\"type\":\"candlestick\",\"xaxis\":\"x\",\"yaxis\":\"y\"},{\"close\":[1.08082],\"decreasing\":{\"fillcolor\":\"red\",\"line\":{\"color\":\"red\"}},\"high\":[1.080885],\"increasing\":{\"fillcolor\":\"red\",\"line\":{\"color\":\"red\"}},\"low\":[1.080795],\"open\":[1.080845],\"showlegend\":false,\"x\":[100],\"type\":\"candlestick\",\"xaxis\":\"x\",\"yaxis\":\"y\"},{\"close\":[1.080835],\"decreasing\":{\"fillcolor\":\"rgba(255, 0, 0, 0)\",\"line\":{\"color\":\"green\"}},\"high\":[1.08085],\"increasing\":{\"fillcolor\":\"rgba(255, 0, 0, 0)\",\"line\":{\"color\":\"green\"}},\"low\":[1.08071],\"open\":[1.08082],\"showlegend\":false,\"x\":[101],\"type\":\"candlestick\",\"xaxis\":\"x\",\"yaxis\":\"y\"},{\"close\":[1.080785],\"decreasing\":{\"fillcolor\":\"red\",\"line\":{\"color\":\"red\"}},\"high\":[1.080835],\"increasing\":{\"fillcolor\":\"red\",\"line\":{\"color\":\"red\"}},\"low\":[1.08073],\"open\":[1.080835],\"showlegend\":false,\"x\":[102],\"type\":\"candlestick\",\"xaxis\":\"x\",\"yaxis\":\"y\"},{\"close\":[1.08077],\"decreasing\":{\"fillcolor\":\"red\",\"line\":{\"color\":\"red\"}},\"high\":[1.080835],\"increasing\":{\"fillcolor\":\"red\",\"line\":{\"color\":\"red\"}},\"low\":[1.08075],\"open\":[1.08078],\"showlegend\":false,\"x\":[103],\"type\":\"candlestick\",\"xaxis\":\"x\",\"yaxis\":\"y\"},{\"close\":[1.080675],\"decreasing\":{\"fillcolor\":\"red\",\"line\":{\"color\":\"red\"}},\"high\":[1.08083],\"increasing\":{\"fillcolor\":\"red\",\"line\":{\"color\":\"red\"}},\"low\":[1.08064],\"open\":[1.08077],\"showlegend\":false,\"x\":[104],\"type\":\"candlestick\",\"xaxis\":\"x\",\"yaxis\":\"y\"},{\"close\":[1.080665],\"decreasing\":{\"fillcolor\":\"red\",\"line\":{\"color\":\"red\"}},\"high\":[1.08072],\"increasing\":{\"fillcolor\":\"red\",\"line\":{\"color\":\"red\"}},\"low\":[1.08064],\"open\":[1.08067],\"showlegend\":false,\"x\":[105],\"type\":\"candlestick\",\"xaxis\":\"x\",\"yaxis\":\"y\"},{\"close\":[1.0806],\"decreasing\":{\"fillcolor\":\"red\",\"line\":{\"color\":\"red\"}},\"high\":[1.080665],\"increasing\":{\"fillcolor\":\"red\",\"line\":{\"color\":\"red\"}},\"low\":[1.08057],\"open\":[1.08066],\"showlegend\":false,\"x\":[106],\"type\":\"candlestick\",\"xaxis\":\"x\",\"yaxis\":\"y\"},{\"close\":[1.080625],\"decreasing\":{\"fillcolor\":\"rgba(255, 0, 0, 0)\",\"line\":{\"color\":\"green\"}},\"high\":[1.08063],\"increasing\":{\"fillcolor\":\"rgba(255, 0, 0, 0)\",\"line\":{\"color\":\"green\"}},\"low\":[1.08059],\"open\":[1.080595],\"showlegend\":false,\"x\":[107],\"type\":\"candlestick\",\"xaxis\":\"x\",\"yaxis\":\"y\"},{\"close\":[1.08062],\"decreasing\":{\"fillcolor\":\"red\",\"line\":{\"color\":\"red\"}},\"high\":[1.080685],\"increasing\":{\"fillcolor\":\"red\",\"line\":{\"color\":\"red\"}},\"low\":[1.08056],\"open\":[1.08063],\"showlegend\":false,\"x\":[108],\"type\":\"candlestick\",\"xaxis\":\"x\",\"yaxis\":\"y\"},{\"close\":[1.080455],\"decreasing\":{\"fillcolor\":\"red\",\"line\":{\"color\":\"red\"}},\"high\":[1.08062],\"increasing\":{\"fillcolor\":\"red\",\"line\":{\"color\":\"red\"}},\"low\":[1.08044],\"open\":[1.08062],\"showlegend\":false,\"x\":[109],\"type\":\"candlestick\",\"xaxis\":\"x\",\"yaxis\":\"y\"},{\"close\":[1.080465],\"decreasing\":{\"fillcolor\":\"rgba(255, 0, 0, 0)\",\"line\":{\"color\":\"green\"}},\"high\":[1.080465],\"increasing\":{\"fillcolor\":\"rgba(255, 0, 0, 0)\",\"line\":{\"color\":\"green\"}},\"low\":[1.080455],\"open\":[1.080455],\"showlegend\":false,\"x\":[110],\"type\":\"candlestick\",\"xaxis\":\"x\",\"yaxis\":\"y\"},{\"marker\":{\"color\":\"orange\"},\"mode\":\"lines\",\"name\":\"RSI\",\"x\":[0,1,2,3,4,5,6,7,8,9,10,11,12,13,14,15,16,17,18,19,20,21,22,23,24,25,26,27,28,29,30,31,32,33,34,35,36,37,38,39,40,41,42,43,44,45,46,47,48,49,50,51,52,53,54,55,56,57,58,59,60,61,62,63,64,65,66,67,68,69,70,71,72,73,74,75,76,77,78,79,80,81,82,83,84,85,86,87,88,89,90,91,92,93,94,95,96,97,98,99,100,101,102,103,104,105,106,107,108,109,110],\"y\":[null,null,null,null,null,null,null,null,null,null,null,null,null,45.796648949093594,40.56766686388559,57.53692729050072,52.563814266429574,49.85669950597201,48.69912526680709,53.00746839459769,50.122705914164776,57.58099792805458,59.14735951481124,63.75910331878866,60.1055590852961,61.58710103735641,57.4513090484104,60.02128977092126,66.31983686996276,68.19669191833296,67.68891982751545,65.58534952823842,67.99536343116783,72.39100749795209,73.81775033529087,78.01300967175712,79.34930507571961,70.164521334684,60.52413548537716,63.13307100075174,65.58266240950886,63.11911547629058,58.03259740958395,59.388172426337235,49.99674441046414,49.37389936282583,51.95232911985513,50.56560297205445,54.490212282848084,56.9443063378149,53.09043365774404,52.327664565273516,55.750893962656576,58.02317420958438,58.67611703468765,64.85733712870824,70.12764278702385,71.14087986747408,76.04171430078324,73.17409047398556,75.03301795675048,71.63128084724967,73.98971342727586,73.98971342727587,69.84553552339136,73.62406798500619,67.84200840622023,68.50787827900646,59.258107891340565,66.26543234425137,63.52016818442869,62.328402171009806,62.82910016993766,48.30837716074372,51.740234658061794,56.414633093476326,55.13656958800999,55.67725174157656,51.040173516201804,45.24313760066957,43.64173049916446,48.84189301022228,52.39005084826581,57.893784472951396,62.1563555323786,61.451148707762826,66.73495738938132,59.62605794883038,59.30210311267504,55.716132695905365,57.95625880831134,54.33826706976413,58.4056371077419,51.599590316222596,51.5995903162226,49.182528858518815,48.269405730715725,45.53792783721182,48.66626317911488,48.006345211315605,45.67200189689547,46.86450284017912,43.441529145332034,42.44005121111788,36.67362028197136,36.11732187943315,32.65042511896398,35.225790346172516,34.93803912548779,27.077341731513783,28.132687312571548],\"type\":\"scatter\",\"xaxis\":\"x2\",\"yaxis\":\"y2\"},{\"marker\":{\"color\":\"red\"},\"mode\":\"markers\",\"showlegend\":false,\"x\":[33],\"y\":[72.39100749795209],\"type\":\"scatter\",\"xaxis\":\"x2\",\"yaxis\":\"y2\"},{\"marker\":{\"color\":\"red\"},\"mode\":\"markers\",\"showlegend\":false,\"x\":[56],\"y\":[70.12764278702385],\"type\":\"scatter\",\"xaxis\":\"x2\",\"yaxis\":\"y2\"},{\"marker\":{\"color\":\"red\"},\"mode\":\"markers\",\"showlegend\":false,\"x\":[65],\"y\":[73.62406798500619],\"type\":\"scatter\",\"xaxis\":\"x2\",\"yaxis\":\"y2\"},{\"marker\":{\"color\":\"green\"},\"mode\":\"markers\",\"showlegend\":false,\"x\":[109],\"y\":[27.077341731513783],\"type\":\"scatter\",\"xaxis\":\"x2\",\"yaxis\":\"y2\"}],                        {\"template\":{\"data\":{\"histogram2dcontour\":[{\"type\":\"histogram2dcontour\",\"colorbar\":{\"outlinewidth\":0,\"ticks\":\"\"},\"colorscale\":[[0.0,\"#0d0887\"],[0.1111111111111111,\"#46039f\"],[0.2222222222222222,\"#7201a8\"],[0.3333333333333333,\"#9c179e\"],[0.4444444444444444,\"#bd3786\"],[0.5555555555555556,\"#d8576b\"],[0.6666666666666666,\"#ed7953\"],[0.7777777777777778,\"#fb9f3a\"],[0.8888888888888888,\"#fdca26\"],[1.0,\"#f0f921\"]]}],\"choropleth\":[{\"type\":\"choropleth\",\"colorbar\":{\"outlinewidth\":0,\"ticks\":\"\"}}],\"histogram2d\":[{\"type\":\"histogram2d\",\"colorbar\":{\"outlinewidth\":0,\"ticks\":\"\"},\"colorscale\":[[0.0,\"#0d0887\"],[0.1111111111111111,\"#46039f\"],[0.2222222222222222,\"#7201a8\"],[0.3333333333333333,\"#9c179e\"],[0.4444444444444444,\"#bd3786\"],[0.5555555555555556,\"#d8576b\"],[0.6666666666666666,\"#ed7953\"],[0.7777777777777778,\"#fb9f3a\"],[0.8888888888888888,\"#fdca26\"],[1.0,\"#f0f921\"]]}],\"heatmap\":[{\"type\":\"heatmap\",\"colorbar\":{\"outlinewidth\":0,\"ticks\":\"\"},\"colorscale\":[[0.0,\"#0d0887\"],[0.1111111111111111,\"#46039f\"],[0.2222222222222222,\"#7201a8\"],[0.3333333333333333,\"#9c179e\"],[0.4444444444444444,\"#bd3786\"],[0.5555555555555556,\"#d8576b\"],[0.6666666666666666,\"#ed7953\"],[0.7777777777777778,\"#fb9f3a\"],[0.8888888888888888,\"#fdca26\"],[1.0,\"#f0f921\"]]}],\"heatmapgl\":[{\"type\":\"heatmapgl\",\"colorbar\":{\"outlinewidth\":0,\"ticks\":\"\"},\"colorscale\":[[0.0,\"#0d0887\"],[0.1111111111111111,\"#46039f\"],[0.2222222222222222,\"#7201a8\"],[0.3333333333333333,\"#9c179e\"],[0.4444444444444444,\"#bd3786\"],[0.5555555555555556,\"#d8576b\"],[0.6666666666666666,\"#ed7953\"],[0.7777777777777778,\"#fb9f3a\"],[0.8888888888888888,\"#fdca26\"],[1.0,\"#f0f921\"]]}],\"contourcarpet\":[{\"type\":\"contourcarpet\",\"colorbar\":{\"outlinewidth\":0,\"ticks\":\"\"}}],\"contour\":[{\"type\":\"contour\",\"colorbar\":{\"outlinewidth\":0,\"ticks\":\"\"},\"colorscale\":[[0.0,\"#0d0887\"],[0.1111111111111111,\"#46039f\"],[0.2222222222222222,\"#7201a8\"],[0.3333333333333333,\"#9c179e\"],[0.4444444444444444,\"#bd3786\"],[0.5555555555555556,\"#d8576b\"],[0.6666666666666666,\"#ed7953\"],[0.7777777777777778,\"#fb9f3a\"],[0.8888888888888888,\"#fdca26\"],[1.0,\"#f0f921\"]]}],\"surface\":[{\"type\":\"surface\",\"colorbar\":{\"outlinewidth\":0,\"ticks\":\"\"},\"colorscale\":[[0.0,\"#0d0887\"],[0.1111111111111111,\"#46039f\"],[0.2222222222222222,\"#7201a8\"],[0.3333333333333333,\"#9c179e\"],[0.4444444444444444,\"#bd3786\"],[0.5555555555555556,\"#d8576b\"],[0.6666666666666666,\"#ed7953\"],[0.7777777777777778,\"#fb9f3a\"],[0.8888888888888888,\"#fdca26\"],[1.0,\"#f0f921\"]]}],\"mesh3d\":[{\"type\":\"mesh3d\",\"colorbar\":{\"outlinewidth\":0,\"ticks\":\"\"}}],\"scatter\":[{\"marker\":{\"line\":{\"color\":\"#283442\"}},\"type\":\"scatter\"}],\"parcoords\":[{\"type\":\"parcoords\",\"line\":{\"colorbar\":{\"outlinewidth\":0,\"ticks\":\"\"}}}],\"scatterpolargl\":[{\"type\":\"scatterpolargl\",\"marker\":{\"colorbar\":{\"outlinewidth\":0,\"ticks\":\"\"}}}],\"bar\":[{\"error_x\":{\"color\":\"#f2f5fa\"},\"error_y\":{\"color\":\"#f2f5fa\"},\"marker\":{\"line\":{\"color\":\"rgb(17,17,17)\",\"width\":0.5},\"pattern\":{\"fillmode\":\"overlay\",\"size\":10,\"solidity\":0.2}},\"type\":\"bar\"}],\"scattergeo\":[{\"type\":\"scattergeo\",\"marker\":{\"colorbar\":{\"outlinewidth\":0,\"ticks\":\"\"}}}],\"scatterpolar\":[{\"type\":\"scatterpolar\",\"marker\":{\"colorbar\":{\"outlinewidth\":0,\"ticks\":\"\"}}}],\"histogram\":[{\"marker\":{\"pattern\":{\"fillmode\":\"overlay\",\"size\":10,\"solidity\":0.2}},\"type\":\"histogram\"}],\"scattergl\":[{\"marker\":{\"line\":{\"color\":\"#283442\"}},\"type\":\"scattergl\"}],\"scatter3d\":[{\"type\":\"scatter3d\",\"line\":{\"colorbar\":{\"outlinewidth\":0,\"ticks\":\"\"}},\"marker\":{\"colorbar\":{\"outlinewidth\":0,\"ticks\":\"\"}}}],\"scattermapbox\":[{\"type\":\"scattermapbox\",\"marker\":{\"colorbar\":{\"outlinewidth\":0,\"ticks\":\"\"}}}],\"scatterternary\":[{\"type\":\"scatterternary\",\"marker\":{\"colorbar\":{\"outlinewidth\":0,\"ticks\":\"\"}}}],\"scattercarpet\":[{\"type\":\"scattercarpet\",\"marker\":{\"colorbar\":{\"outlinewidth\":0,\"ticks\":\"\"}}}],\"carpet\":[{\"aaxis\":{\"endlinecolor\":\"#A2B1C6\",\"gridcolor\":\"#506784\",\"linecolor\":\"#506784\",\"minorgridcolor\":\"#506784\",\"startlinecolor\":\"#A2B1C6\"},\"baxis\":{\"endlinecolor\":\"#A2B1C6\",\"gridcolor\":\"#506784\",\"linecolor\":\"#506784\",\"minorgridcolor\":\"#506784\",\"startlinecolor\":\"#A2B1C6\"},\"type\":\"carpet\"}],\"table\":[{\"cells\":{\"fill\":{\"color\":\"#506784\"},\"line\":{\"color\":\"rgb(17,17,17)\"}},\"header\":{\"fill\":{\"color\":\"#2a3f5f\"},\"line\":{\"color\":\"rgb(17,17,17)\"}},\"type\":\"table\"}],\"barpolar\":[{\"marker\":{\"line\":{\"color\":\"rgb(17,17,17)\",\"width\":0.5},\"pattern\":{\"fillmode\":\"overlay\",\"size\":10,\"solidity\":0.2}},\"type\":\"barpolar\"}],\"pie\":[{\"automargin\":true,\"type\":\"pie\"}]},\"layout\":{\"autotypenumbers\":\"strict\",\"colorway\":[\"#636efa\",\"#EF553B\",\"#00cc96\",\"#ab63fa\",\"#FFA15A\",\"#19d3f3\",\"#FF6692\",\"#B6E880\",\"#FF97FF\",\"#FECB52\"],\"font\":{\"color\":\"#f2f5fa\"},\"hovermode\":\"closest\",\"hoverlabel\":{\"align\":\"left\"},\"paper_bgcolor\":\"#383838\",\"plot_bgcolor\":\"#383838\",\"polar\":{\"bgcolor\":\"rgb(17,17,17)\",\"angularaxis\":{\"gridcolor\":\"#506784\",\"linecolor\":\"#506784\",\"ticks\":\"\"},\"radialaxis\":{\"gridcolor\":\"#506784\",\"linecolor\":\"#506784\",\"ticks\":\"\"}},\"ternary\":{\"bgcolor\":\"rgb(17,17,17)\",\"aaxis\":{\"gridcolor\":\"#506784\",\"linecolor\":\"#506784\",\"ticks\":\"\"},\"baxis\":{\"gridcolor\":\"#506784\",\"linecolor\":\"#506784\",\"ticks\":\"\"},\"caxis\":{\"gridcolor\":\"#506784\",\"linecolor\":\"#506784\",\"ticks\":\"\"}},\"coloraxis\":{\"colorbar\":{\"outlinewidth\":0,\"ticks\":\"\"}},\"colorscale\":{\"sequential\":[[0.0,\"#0d0887\"],[0.1111111111111111,\"#46039f\"],[0.2222222222222222,\"#7201a8\"],[0.3333333333333333,\"#9c179e\"],[0.4444444444444444,\"#bd3786\"],[0.5555555555555556,\"#d8576b\"],[0.6666666666666666,\"#ed7953\"],[0.7777777777777778,\"#fb9f3a\"],[0.8888888888888888,\"#fdca26\"],[1.0,\"#f0f921\"]],\"sequentialminus\":[[0.0,\"#0d0887\"],[0.1111111111111111,\"#46039f\"],[0.2222222222222222,\"#7201a8\"],[0.3333333333333333,\"#9c179e\"],[0.4444444444444444,\"#bd3786\"],[0.5555555555555556,\"#d8576b\"],[0.6666666666666666,\"#ed7953\"],[0.7777777777777778,\"#fb9f3a\"],[0.8888888888888888,\"#fdca26\"],[1.0,\"#f0f921\"]],\"diverging\":[[0,\"#8e0152\"],[0.1,\"#c51b7d\"],[0.2,\"#de77ae\"],[0.3,\"#f1b6da\"],[0.4,\"#fde0ef\"],[0.5,\"#f7f7f7\"],[0.6,\"#e6f5d0\"],[0.7,\"#b8e186\"],[0.8,\"#7fbc41\"],[0.9,\"#4d9221\"],[1,\"#276419\"]]},\"xaxis\":{\"gridcolor\":\"#D5D5D5\",\"linecolor\":\"#D5D5D5\",\"ticks\":\"\",\"title\":{\"standoff\":15},\"zerolinecolor\":\"#D5D5D5\",\"automargin\":true,\"zerolinewidth\":2},\"yaxis\":{\"gridcolor\":\"#D5D5D5\",\"linecolor\":\"#D5D5D5\",\"ticks\":\"\",\"title\":{\"standoff\":15},\"zerolinecolor\":\"#D5D5D5\",\"automargin\":true,\"zerolinewidth\":2},\"scene\":{\"xaxis\":{\"backgroundcolor\":\"rgb(17,17,17)\",\"gridcolor\":\"#506784\",\"linecolor\":\"#506784\",\"showbackground\":true,\"ticks\":\"\",\"zerolinecolor\":\"#C8D4E3\",\"gridwidth\":2},\"yaxis\":{\"backgroundcolor\":\"rgb(17,17,17)\",\"gridcolor\":\"#506784\",\"linecolor\":\"#506784\",\"showbackground\":true,\"ticks\":\"\",\"zerolinecolor\":\"#C8D4E3\",\"gridwidth\":2},\"zaxis\":{\"backgroundcolor\":\"rgb(17,17,17)\",\"gridcolor\":\"#506784\",\"linecolor\":\"#506784\",\"showbackground\":true,\"ticks\":\"\",\"zerolinecolor\":\"#C8D4E3\",\"gridwidth\":2}},\"shapedefaults\":{\"line\":{\"color\":\"#f2f5fa\"}},\"annotationdefaults\":{\"arrowcolor\":\"#f2f5fa\",\"arrowhead\":0,\"arrowwidth\":1},\"geo\":{\"bgcolor\":\"rgb(17,17,17)\",\"landcolor\":\"rgb(17,17,17)\",\"subunitcolor\":\"#506784\",\"showland\":true,\"showlakes\":true,\"lakecolor\":\"rgb(17,17,17)\"},\"title\":{\"x\":0.05},\"updatemenudefaults\":{\"bgcolor\":\"#506784\",\"borderwidth\":0},\"sliderdefaults\":{\"bgcolor\":\"#C8D4E3\",\"borderwidth\":1,\"bordercolor\":\"rgb(17,17,17)\",\"tickwidth\":0},\"mapbox\":{\"style\":\"dark\"}}},\"xaxis\":{\"anchor\":\"y\",\"domain\":[0.0,1.0],\"matches\":\"x2\",\"showticklabels\":false,\"rangeslider\":{\"visible\":false}},\"yaxis\":{\"anchor\":\"x\",\"domain\":[0.525,1.0]},\"xaxis2\":{\"anchor\":\"y2\",\"domain\":[0.0,1.0]},\"yaxis2\":{\"anchor\":\"x2\",\"domain\":[0.0,0.475],\"title\":{\"text\":\"RSI\"},\"range\":[0,100]},\"annotations\":[{\"font\":{\"size\":16},\"showarrow\":false,\"text\":\"Candlestick\",\"x\":0.5,\"xanchor\":\"center\",\"xref\":\"paper\",\"y\":1.0,\"yanchor\":\"bottom\",\"yref\":\"paper\"},{\"font\":{\"size\":16},\"showarrow\":false,\"text\":\"RSI\",\"x\":0.5,\"xanchor\":\"center\",\"xref\":\"paper\",\"y\":0.475,\"yanchor\":\"bottom\",\"yref\":\"paper\"}],\"shapes\":[{\"line\":{\"color\":\"blue\",\"dash\":\"dash\"},\"name\":\"RSI 30\",\"type\":\"line\",\"x0\":0,\"x1\":1,\"xref\":\"x2 domain\",\"y0\":30,\"y1\":30,\"yref\":\"y2\"},{\"line\":{\"color\":\"red\",\"dash\":\"dash\"},\"name\":\"RSI 70\",\"type\":\"line\",\"x0\":0,\"x1\":1,\"xref\":\"x2 domain\",\"y0\":70,\"y1\":70,\"yref\":\"y2\"}],\"title\":{\"text\":\"EURUSD\"}},                        {\"responsive\": true}                    ).then(function(){\n",
              "                            \n",
              "var gd = document.getElementById('b65505bd-003f-4b37-a87c-e953a3a98767');\n",
              "var x = new MutationObserver(function (mutations, observer) {{\n",
              "        var display = window.getComputedStyle(gd).display;\n",
              "        if (!display || display === 'none') {{\n",
              "            console.log([gd, 'removed!']);\n",
              "            Plotly.purge(gd);\n",
              "            observer.disconnect();\n",
              "        }}\n",
              "}});\n",
              "\n",
              "// Listen for the removal of the full notebook cells\n",
              "var notebookContainer = gd.closest('#notebook-container');\n",
              "if (notebookContainer) {{\n",
              "    x.observe(notebookContainer, {childList: true});\n",
              "}}\n",
              "\n",
              "// Listen for the clearing of the current output cell\n",
              "var outputEl = gd.closest('.output');\n",
              "if (outputEl) {{\n",
              "    x.observe(outputEl, {childList: true});\n",
              "}}\n",
              "\n",
              "                        })                };                            </script>        </div>\n",
              "</body>\n",
              "</html>"
            ]
          },
          "metadata": {}
        }
      ]
    },
    {
      "cell_type": "code",
      "source": [
        "# velas cinzas sao definidas quando o fechamento do candle atual é igual ao fechamento do anterior"
      ],
      "metadata": {
        "id": "vYRkqBAfIhFr"
      },
      "execution_count": 79,
      "outputs": []
    },
    {
      "cell_type": "code",
      "source": [
        "# Melhoria do plot anterior agora adicionando velas cinzas (nao houve nesse caso específico)\n",
        "\n",
        "fig = make_subplots(rows=2, cols=1, shared_xaxes=True, vertical_spacing=0.05,\n",
        "                    subplot_titles=(\"Candlestick\", \"RSI\"))\n",
        "\n",
        "\n",
        "for index, row in EURUSD_df.iterrows():\n",
        "    if row[\"close\"] == row[\"previousClose\"]:\n",
        "        color = 'gray'\n",
        "        fill_color = 'rgba(0, 0, 0, 0)'\n",
        "    else:\n",
        "        color = 'green' if row[\"close\"] > row[\"previousClose\"] else 'red'\n",
        "        fill_color = 'rgba(255, 0, 0, 0)' if row[\"close\"] > row[\"open\"] else color\n",
        "    coloring = dict(fillcolor=fill_color, line=dict(color=color))\n",
        "    fig.add_trace(\n",
        "        go.Candlestick(\n",
        "            x=[index],\n",
        "            open=[row[\"open\"]],\n",
        "            high=[row[\"max\"]],\n",
        "            low=[row[\"min\"]],\n",
        "            close=[row[\"close\"]],\n",
        "            increasing=coloring,\n",
        "            decreasing=coloring,\n",
        "            showlegend=False,\n",
        "        ),\n",
        "        row=1, col=1\n",
        "    )\n",
        "\n",
        "\n",
        "fig.add_trace(\n",
        "    go.Scatter(x=EURUSD_df.index, y=EURUSD_df['rsi'], mode='lines', name='RSI', marker=dict(color='orange')),\n",
        "    row=2, col=1\n",
        ")\n",
        "\n",
        "\n",
        "for index, row in EURUSD_df.iterrows():\n",
        "    if row['signal'] == 'SELL':\n",
        "        fig.add_trace(\n",
        "            go.Scatter(x=[index], y=[row['rsi']], mode='markers', marker=dict(color='red'), showlegend=False),\n",
        "            row=2, col=1\n",
        "        )\n",
        "    elif row['signal'] == 'BUY':\n",
        "        fig.add_trace(\n",
        "            go.Scatter(x=[index], y=[row['rsi']], mode='markers', marker=dict(color='green'), showlegend=False),\n",
        "            row=2, col=1\n",
        "        )\n",
        "\n",
        "\n",
        "fig.add_hline(y=30, line_dash=\"dash\", line_color=\"blue\", row=2, col=1, name=\"RSI 30\")\n",
        "fig.add_hline(y=70, line_dash=\"dash\", line_color=\"red\", row=2, col=1, name=\"RSI 70\")\n",
        "\n",
        "\n",
        "fig.update_layout(title=\"EURUSD\",\n",
        "                  xaxis_rangeslider_visible=False,\n",
        "                  yaxis2=dict(title=\"RSI\", range=[0, 100]))\n",
        "\n",
        "\n",
        "fig.show()\n"
      ],
      "metadata": {
        "colab": {
          "base_uri": "https://localhost:8080/",
          "height": 542
        },
        "id": "e7Imph7nHkxU",
        "outputId": "2d223e61-d38f-485b-9e5b-a640b3fadcae"
      },
      "execution_count": 80,
      "outputs": [
        {
          "output_type": "display_data",
          "data": {
            "text/html": [
              "<html>\n",
              "<head><meta charset=\"utf-8\" /></head>\n",
              "<body>\n",
              "    <div>            <script src=\"https://cdnjs.cloudflare.com/ajax/libs/mathjax/2.7.5/MathJax.js?config=TeX-AMS-MML_SVG\"></script><script type=\"text/javascript\">if (window.MathJax && window.MathJax.Hub && window.MathJax.Hub.Config) {window.MathJax.Hub.Config({SVG: {font: \"STIX-Web\"}});}</script>                <script type=\"text/javascript\">window.PlotlyConfig = {MathJaxConfig: 'local'};</script>\n",
              "        <script charset=\"utf-8\" src=\"https://cdn.plot.ly/plotly-2.24.1.min.js\"></script>                <div id=\"0d5ecca8-ebd3-4d79-b386-a3c09557cb90\" class=\"plotly-graph-div\" style=\"height:525px; width:100%;\"></div>            <script type=\"text/javascript\">                                    window.PLOTLYENV=window.PLOTLYENV || {};                                    if (document.getElementById(\"0d5ecca8-ebd3-4d79-b386-a3c09557cb90\")) {                    Plotly.newPlot(                        \"0d5ecca8-ebd3-4d79-b386-a3c09557cb90\",                        [{\"close\":[1.07993],\"decreasing\":{\"fillcolor\":\"rgba(255, 0, 0, 0)\",\"line\":{\"color\":\"red\"}},\"high\":[1.07993],\"increasing\":{\"fillcolor\":\"rgba(255, 0, 0, 0)\",\"line\":{\"color\":\"red\"}},\"low\":[1.079755],\"open\":[1.079785],\"showlegend\":false,\"x\":[0],\"type\":\"candlestick\",\"xaxis\":\"x\",\"yaxis\":\"y\"},{\"close\":[1.079995],\"decreasing\":{\"fillcolor\":\"rgba(255, 0, 0, 0)\",\"line\":{\"color\":\"green\"}},\"high\":[1.08004],\"increasing\":{\"fillcolor\":\"rgba(255, 0, 0, 0)\",\"line\":{\"color\":\"green\"}},\"low\":[1.079925],\"open\":[1.079925],\"showlegend\":false,\"x\":[1],\"type\":\"candlestick\",\"xaxis\":\"x\",\"yaxis\":\"y\"},{\"close\":[1.08006],\"decreasing\":{\"fillcolor\":\"rgba(255, 0, 0, 0)\",\"line\":{\"color\":\"green\"}},\"high\":[1.08009],\"increasing\":{\"fillcolor\":\"rgba(255, 0, 0, 0)\",\"line\":{\"color\":\"green\"}},\"low\":[1.079995],\"open\":[1.08],\"showlegend\":false,\"x\":[2],\"type\":\"candlestick\",\"xaxis\":\"x\",\"yaxis\":\"y\"},{\"close\":[1.07999],\"decreasing\":{\"fillcolor\":\"red\",\"line\":{\"color\":\"red\"}},\"high\":[1.080065],\"increasing\":{\"fillcolor\":\"red\",\"line\":{\"color\":\"red\"}},\"low\":[1.079965],\"open\":[1.08006],\"showlegend\":false,\"x\":[3],\"type\":\"candlestick\",\"xaxis\":\"x\",\"yaxis\":\"y\"},{\"close\":[1.079925],\"decreasing\":{\"fillcolor\":\"red\",\"line\":{\"color\":\"red\"}},\"high\":[1.07999],\"increasing\":{\"fillcolor\":\"red\",\"line\":{\"color\":\"red\"}},\"low\":[1.07983],\"open\":[1.07999],\"showlegend\":false,\"x\":[4],\"type\":\"candlestick\",\"xaxis\":\"x\",\"yaxis\":\"y\"},{\"close\":[1.07997],\"decreasing\":{\"fillcolor\":\"rgba(255, 0, 0, 0)\",\"line\":{\"color\":\"green\"}},\"high\":[1.080065],\"increasing\":{\"fillcolor\":\"rgba(255, 0, 0, 0)\",\"line\":{\"color\":\"green\"}},\"low\":[1.079915],\"open\":[1.079925],\"showlegend\":false,\"x\":[5],\"type\":\"candlestick\",\"xaxis\":\"x\",\"yaxis\":\"y\"},{\"close\":[1.07999],\"decreasing\":{\"fillcolor\":\"rgba(255, 0, 0, 0)\",\"line\":{\"color\":\"green\"}},\"high\":[1.08001],\"increasing\":{\"fillcolor\":\"rgba(255, 0, 0, 0)\",\"line\":{\"color\":\"green\"}},\"low\":[1.07994],\"open\":[1.079965],\"showlegend\":false,\"x\":[6],\"type\":\"candlestick\",\"xaxis\":\"x\",\"yaxis\":\"y\"},{\"close\":[1.079985],\"decreasing\":{\"fillcolor\":\"red\",\"line\":{\"color\":\"red\"}},\"high\":[1.080075],\"increasing\":{\"fillcolor\":\"red\",\"line\":{\"color\":\"red\"}},\"low\":[1.079945],\"open\":[1.08],\"showlegend\":false,\"x\":[7],\"type\":\"candlestick\",\"xaxis\":\"x\",\"yaxis\":\"y\"},{\"close\":[1.0799],\"decreasing\":{\"fillcolor\":\"red\",\"line\":{\"color\":\"red\"}},\"high\":[1.08005],\"increasing\":{\"fillcolor\":\"red\",\"line\":{\"color\":\"red\"}},\"low\":[1.079895],\"open\":[1.079985],\"showlegend\":false,\"x\":[8],\"type\":\"candlestick\",\"xaxis\":\"x\",\"yaxis\":\"y\"},{\"close\":[1.08003],\"decreasing\":{\"fillcolor\":\"rgba(255, 0, 0, 0)\",\"line\":{\"color\":\"green\"}},\"high\":[1.08003],\"increasing\":{\"fillcolor\":\"rgba(255, 0, 0, 0)\",\"line\":{\"color\":\"green\"}},\"low\":[1.079875],\"open\":[1.079905],\"showlegend\":false,\"x\":[9],\"type\":\"candlestick\",\"xaxis\":\"x\",\"yaxis\":\"y\"},{\"close\":[1.080075],\"decreasing\":{\"fillcolor\":\"rgba(255, 0, 0, 0)\",\"line\":{\"color\":\"green\"}},\"high\":[1.0801],\"increasing\":{\"fillcolor\":\"rgba(255, 0, 0, 0)\",\"line\":{\"color\":\"green\"}},\"low\":[1.080005],\"open\":[1.080025],\"showlegend\":false,\"x\":[10],\"type\":\"candlestick\",\"xaxis\":\"x\",\"yaxis\":\"y\"},{\"close\":[1.080025],\"decreasing\":{\"fillcolor\":\"red\",\"line\":{\"color\":\"red\"}},\"high\":[1.08009],\"increasing\":{\"fillcolor\":\"red\",\"line\":{\"color\":\"red\"}},\"low\":[1.080005],\"open\":[1.080075],\"showlegend\":false,\"x\":[11],\"type\":\"candlestick\",\"xaxis\":\"x\",\"yaxis\":\"y\"},{\"close\":[1.08003],\"decreasing\":{\"fillcolor\":\"rgba(255, 0, 0, 0)\",\"line\":{\"color\":\"green\"}},\"high\":[1.080055],\"increasing\":{\"fillcolor\":\"rgba(255, 0, 0, 0)\",\"line\":{\"color\":\"green\"}},\"low\":[1.079975],\"open\":[1.08002],\"showlegend\":false,\"x\":[12],\"type\":\"candlestick\",\"xaxis\":\"x\",\"yaxis\":\"y\"},{\"close\":[1.07993],\"decreasing\":{\"fillcolor\":\"red\",\"line\":{\"color\":\"red\"}},\"high\":[1.080055],\"increasing\":{\"fillcolor\":\"red\",\"line\":{\"color\":\"red\"}},\"low\":[1.07991],\"open\":[1.08003],\"showlegend\":false,\"x\":[13],\"type\":\"candlestick\",\"xaxis\":\"x\",\"yaxis\":\"y\"},{\"close\":[1.07987],\"decreasing\":{\"fillcolor\":\"red\",\"line\":{\"color\":\"red\"}},\"high\":[1.07995],\"increasing\":{\"fillcolor\":\"red\",\"line\":{\"color\":\"red\"}},\"low\":[1.079835],\"open\":[1.079925],\"showlegend\":false,\"x\":[14],\"type\":\"candlestick\",\"xaxis\":\"x\",\"yaxis\":\"y\"},{\"close\":[1.080065],\"decreasing\":{\"fillcolor\":\"rgba(255, 0, 0, 0)\",\"line\":{\"color\":\"green\"}},\"high\":[1.080085],\"increasing\":{\"fillcolor\":\"rgba(255, 0, 0, 0)\",\"line\":{\"color\":\"green\"}},\"low\":[1.07985],\"open\":[1.079875],\"showlegend\":false,\"x\":[15],\"type\":\"candlestick\",\"xaxis\":\"x\",\"yaxis\":\"y\"},{\"close\":[1.080005],\"decreasing\":{\"fillcolor\":\"red\",\"line\":{\"color\":\"red\"}},\"high\":[1.08006],\"increasing\":{\"fillcolor\":\"red\",\"line\":{\"color\":\"red\"}},\"low\":[1.079995],\"open\":[1.08006],\"showlegend\":false,\"x\":[16],\"type\":\"candlestick\",\"xaxis\":\"x\",\"yaxis\":\"y\"},{\"close\":[1.07997],\"decreasing\":{\"fillcolor\":\"red\",\"line\":{\"color\":\"red\"}},\"high\":[1.08003],\"increasing\":{\"fillcolor\":\"red\",\"line\":{\"color\":\"red\"}},\"low\":[1.07993],\"open\":[1.08],\"showlegend\":false,\"x\":[17],\"type\":\"candlestick\",\"xaxis\":\"x\",\"yaxis\":\"y\"},{\"close\":[1.079955],\"decreasing\":{\"fillcolor\":\"red\",\"line\":{\"color\":\"red\"}},\"high\":[1.08003],\"increasing\":{\"fillcolor\":\"red\",\"line\":{\"color\":\"red\"}},\"low\":[1.079915],\"open\":[1.07997],\"showlegend\":false,\"x\":[18],\"type\":\"candlestick\",\"xaxis\":\"x\",\"yaxis\":\"y\"},{\"close\":[1.08001],\"decreasing\":{\"fillcolor\":\"rgba(255, 0, 0, 0)\",\"line\":{\"color\":\"green\"}},\"high\":[1.080015],\"increasing\":{\"fillcolor\":\"rgba(255, 0, 0, 0)\",\"line\":{\"color\":\"green\"}},\"low\":[1.07992],\"open\":[1.07995],\"showlegend\":false,\"x\":[19],\"type\":\"candlestick\",\"xaxis\":\"x\",\"yaxis\":\"y\"},{\"close\":[1.079975],\"decreasing\":{\"fillcolor\":\"red\",\"line\":{\"color\":\"red\"}},\"high\":[1.08001],\"increasing\":{\"fillcolor\":\"red\",\"line\":{\"color\":\"red\"}},\"low\":[1.079925],\"open\":[1.08001],\"showlegend\":false,\"x\":[20],\"type\":\"candlestick\",\"xaxis\":\"x\",\"yaxis\":\"y\"},{\"close\":[1.08008],\"decreasing\":{\"fillcolor\":\"rgba(255, 0, 0, 0)\",\"line\":{\"color\":\"green\"}},\"high\":[1.080105],\"increasing\":{\"fillcolor\":\"rgba(255, 0, 0, 0)\",\"line\":{\"color\":\"green\"}},\"low\":[1.07997],\"open\":[1.079975],\"showlegend\":false,\"x\":[21],\"type\":\"candlestick\",\"xaxis\":\"x\",\"yaxis\":\"y\"},{\"close\":[1.080105],\"decreasing\":{\"fillcolor\":\"rgba(255, 0, 0, 0)\",\"line\":{\"color\":\"green\"}},\"high\":[1.08013],\"increasing\":{\"fillcolor\":\"rgba(255, 0, 0, 0)\",\"line\":{\"color\":\"green\"}},\"low\":[1.080055],\"open\":[1.08008],\"showlegend\":false,\"x\":[22],\"type\":\"candlestick\",\"xaxis\":\"x\",\"yaxis\":\"y\"},{\"close\":[1.080185],\"decreasing\":{\"fillcolor\":\"rgba(255, 0, 0, 0)\",\"line\":{\"color\":\"green\"}},\"high\":[1.0802],\"increasing\":{\"fillcolor\":\"rgba(255, 0, 0, 0)\",\"line\":{\"color\":\"green\"}},\"low\":[1.080085],\"open\":[1.08011],\"showlegend\":false,\"x\":[23],\"type\":\"candlestick\",\"xaxis\":\"x\",\"yaxis\":\"y\"},{\"close\":[1.080145],\"decreasing\":{\"fillcolor\":\"red\",\"line\":{\"color\":\"red\"}},\"high\":[1.0802],\"increasing\":{\"fillcolor\":\"red\",\"line\":{\"color\":\"red\"}},\"low\":[1.08011],\"open\":[1.080185],\"showlegend\":false,\"x\":[24],\"type\":\"candlestick\",\"xaxis\":\"x\",\"yaxis\":\"y\"},{\"close\":[1.08017],\"decreasing\":{\"fillcolor\":\"rgba(255, 0, 0, 0)\",\"line\":{\"color\":\"green\"}},\"high\":[1.080215],\"increasing\":{\"fillcolor\":\"rgba(255, 0, 0, 0)\",\"line\":{\"color\":\"green\"}},\"low\":[1.080115],\"open\":[1.080145],\"showlegend\":false,\"x\":[25],\"type\":\"candlestick\",\"xaxis\":\"x\",\"yaxis\":\"y\"},{\"close\":[1.080125],\"decreasing\":{\"fillcolor\":\"red\",\"line\":{\"color\":\"red\"}},\"high\":[1.080225],\"increasing\":{\"fillcolor\":\"red\",\"line\":{\"color\":\"red\"}},\"low\":[1.080125],\"open\":[1.08019],\"showlegend\":false,\"x\":[26],\"type\":\"candlestick\",\"xaxis\":\"x\",\"yaxis\":\"y\"},{\"close\":[1.080165],\"decreasing\":{\"fillcolor\":\"rgba(255, 0, 0, 0)\",\"line\":{\"color\":\"green\"}},\"high\":[1.08019],\"increasing\":{\"fillcolor\":\"rgba(255, 0, 0, 0)\",\"line\":{\"color\":\"green\"}},\"low\":[1.080115],\"open\":[1.080115],\"showlegend\":false,\"x\":[27],\"type\":\"candlestick\",\"xaxis\":\"x\",\"yaxis\":\"y\"},{\"close\":[1.08028],\"decreasing\":{\"fillcolor\":\"rgba(255, 0, 0, 0)\",\"line\":{\"color\":\"green\"}},\"high\":[1.0803],\"increasing\":{\"fillcolor\":\"rgba(255, 0, 0, 0)\",\"line\":{\"color\":\"green\"}},\"low\":[1.08016],\"open\":[1.080165],\"showlegend\":false,\"x\":[28],\"type\":\"candlestick\",\"xaxis\":\"x\",\"yaxis\":\"y\"},{\"close\":[1.08032],\"decreasing\":{\"fillcolor\":\"rgba(255, 0, 0, 0)\",\"line\":{\"color\":\"green\"}},\"high\":[1.080345],\"increasing\":{\"fillcolor\":\"rgba(255, 0, 0, 0)\",\"line\":{\"color\":\"green\"}},\"low\":[1.080275],\"open\":[1.080275],\"showlegend\":false,\"x\":[29],\"type\":\"candlestick\",\"xaxis\":\"x\",\"yaxis\":\"y\"},{\"close\":[1.080315],\"decreasing\":{\"fillcolor\":\"red\",\"line\":{\"color\":\"red\"}},\"high\":[1.08037],\"increasing\":{\"fillcolor\":\"red\",\"line\":{\"color\":\"red\"}},\"low\":[1.08031],\"open\":[1.08032],\"showlegend\":false,\"x\":[30],\"type\":\"candlestick\",\"xaxis\":\"x\",\"yaxis\":\"y\"},{\"close\":[1.080295],\"decreasing\":{\"fillcolor\":\"red\",\"line\":{\"color\":\"red\"}},\"high\":[1.080335],\"increasing\":{\"fillcolor\":\"red\",\"line\":{\"color\":\"red\"}},\"low\":[1.080255],\"open\":[1.08031],\"showlegend\":false,\"x\":[31],\"type\":\"candlestick\",\"xaxis\":\"x\",\"yaxis\":\"y\"},{\"close\":[1.08034],\"decreasing\":{\"fillcolor\":\"rgba(255, 0, 0, 0)\",\"line\":{\"color\":\"green\"}},\"high\":[1.080355],\"increasing\":{\"fillcolor\":\"rgba(255, 0, 0, 0)\",\"line\":{\"color\":\"green\"}},\"low\":[1.08028],\"open\":[1.080295],\"showlegend\":false,\"x\":[32],\"type\":\"candlestick\",\"xaxis\":\"x\",\"yaxis\":\"y\"},{\"close\":[1.080435],\"decreasing\":{\"fillcolor\":\"rgba(255, 0, 0, 0)\",\"line\":{\"color\":\"green\"}},\"high\":[1.08045],\"increasing\":{\"fillcolor\":\"rgba(255, 0, 0, 0)\",\"line\":{\"color\":\"green\"}},\"low\":[1.08033],\"open\":[1.08034],\"showlegend\":false,\"x\":[33],\"type\":\"candlestick\",\"xaxis\":\"x\",\"yaxis\":\"y\"},{\"close\":[1.08047],\"decreasing\":{\"fillcolor\":\"rgba(255, 0, 0, 0)\",\"line\":{\"color\":\"green\"}},\"high\":[1.080495],\"increasing\":{\"fillcolor\":\"rgba(255, 0, 0, 0)\",\"line\":{\"color\":\"green\"}},\"low\":[1.080425],\"open\":[1.080435],\"showlegend\":false,\"x\":[34],\"type\":\"candlestick\",\"xaxis\":\"x\",\"yaxis\":\"y\"},{\"close\":[1.08059],\"decreasing\":{\"fillcolor\":\"rgba(255, 0, 0, 0)\",\"line\":{\"color\":\"green\"}},\"high\":[1.080635],\"increasing\":{\"fillcolor\":\"rgba(255, 0, 0, 0)\",\"line\":{\"color\":\"green\"}},\"low\":[1.08046],\"open\":[1.08047],\"showlegend\":false,\"x\":[35],\"type\":\"candlestick\",\"xaxis\":\"x\",\"yaxis\":\"y\"},{\"close\":[1.080635],\"decreasing\":{\"fillcolor\":\"rgba(255, 0, 0, 0)\",\"line\":{\"color\":\"green\"}},\"high\":[1.080645],\"increasing\":{\"fillcolor\":\"rgba(255, 0, 0, 0)\",\"line\":{\"color\":\"green\"}},\"low\":[1.080545],\"open\":[1.080585],\"showlegend\":false,\"x\":[36],\"type\":\"candlestick\",\"xaxis\":\"x\",\"yaxis\":\"y\"},{\"close\":[1.080545],\"decreasing\":{\"fillcolor\":\"red\",\"line\":{\"color\":\"red\"}},\"high\":[1.08066],\"increasing\":{\"fillcolor\":\"red\",\"line\":{\"color\":\"red\"}},\"low\":[1.080545],\"open\":[1.08064],\"showlegend\":false,\"x\":[37],\"type\":\"candlestick\",\"xaxis\":\"x\",\"yaxis\":\"y\"},{\"close\":[1.08043],\"decreasing\":{\"fillcolor\":\"red\",\"line\":{\"color\":\"red\"}},\"high\":[1.080545],\"increasing\":{\"fillcolor\":\"red\",\"line\":{\"color\":\"red\"}},\"low\":[1.080415],\"open\":[1.080545],\"showlegend\":false,\"x\":[38],\"type\":\"candlestick\",\"xaxis\":\"x\",\"yaxis\":\"y\"},{\"close\":[1.080485],\"decreasing\":{\"fillcolor\":\"rgba(255, 0, 0, 0)\",\"line\":{\"color\":\"green\"}},\"high\":[1.0805],\"increasing\":{\"fillcolor\":\"rgba(255, 0, 0, 0)\",\"line\":{\"color\":\"green\"}},\"low\":[1.080425],\"open\":[1.080425],\"showlegend\":false,\"x\":[39],\"type\":\"candlestick\",\"xaxis\":\"x\",\"yaxis\":\"y\"},{\"close\":[1.08054],\"decreasing\":{\"fillcolor\":\"rgba(255, 0, 0, 0)\",\"line\":{\"color\":\"green\"}},\"high\":[1.080605],\"increasing\":{\"fillcolor\":\"rgba(255, 0, 0, 0)\",\"line\":{\"color\":\"green\"}},\"low\":[1.080475],\"open\":[1.080485],\"showlegend\":false,\"x\":[40],\"type\":\"candlestick\",\"xaxis\":\"x\",\"yaxis\":\"y\"},{\"close\":[1.08051],\"decreasing\":{\"fillcolor\":\"red\",\"line\":{\"color\":\"red\"}},\"high\":[1.080565],\"increasing\":{\"fillcolor\":\"red\",\"line\":{\"color\":\"red\"}},\"low\":[1.080485],\"open\":[1.08055],\"showlegend\":false,\"x\":[41],\"type\":\"candlestick\",\"xaxis\":\"x\",\"yaxis\":\"y\"},{\"close\":[1.080445],\"decreasing\":{\"fillcolor\":\"red\",\"line\":{\"color\":\"red\"}},\"high\":[1.08051],\"increasing\":{\"fillcolor\":\"red\",\"line\":{\"color\":\"red\"}},\"low\":[1.080415],\"open\":[1.080505],\"showlegend\":false,\"x\":[42],\"type\":\"candlestick\",\"xaxis\":\"x\",\"yaxis\":\"y\"},{\"close\":[1.08047],\"decreasing\":{\"fillcolor\":\"rgba(255, 0, 0, 0)\",\"line\":{\"color\":\"green\"}},\"high\":[1.080485],\"increasing\":{\"fillcolor\":\"rgba(255, 0, 0, 0)\",\"line\":{\"color\":\"green\"}},\"low\":[1.080405],\"open\":[1.080445],\"showlegend\":false,\"x\":[43],\"type\":\"candlestick\",\"xaxis\":\"x\",\"yaxis\":\"y\"},{\"close\":[1.080335],\"decreasing\":{\"fillcolor\":\"red\",\"line\":{\"color\":\"red\"}},\"high\":[1.080485],\"increasing\":{\"fillcolor\":\"red\",\"line\":{\"color\":\"red\"}},\"low\":[1.08032],\"open\":[1.08046],\"showlegend\":false,\"x\":[44],\"type\":\"candlestick\",\"xaxis\":\"x\",\"yaxis\":\"y\"},{\"close\":[1.080325],\"decreasing\":{\"fillcolor\":\"red\",\"line\":{\"color\":\"red\"}},\"high\":[1.080395],\"increasing\":{\"fillcolor\":\"red\",\"line\":{\"color\":\"red\"}},\"low\":[1.080325],\"open\":[1.080345],\"showlegend\":false,\"x\":[45],\"type\":\"candlestick\",\"xaxis\":\"x\",\"yaxis\":\"y\"},{\"close\":[1.080365],\"decreasing\":{\"fillcolor\":\"rgba(255, 0, 0, 0)\",\"line\":{\"color\":\"green\"}},\"high\":[1.080395],\"increasing\":{\"fillcolor\":\"rgba(255, 0, 0, 0)\",\"line\":{\"color\":\"green\"}},\"low\":[1.080315],\"open\":[1.080325],\"showlegend\":false,\"x\":[46],\"type\":\"candlestick\",\"xaxis\":\"x\",\"yaxis\":\"y\"},{\"close\":[1.080345],\"decreasing\":{\"fillcolor\":\"red\",\"line\":{\"color\":\"red\"}},\"high\":[1.080395],\"increasing\":{\"fillcolor\":\"red\",\"line\":{\"color\":\"red\"}},\"low\":[1.080335],\"open\":[1.080365],\"showlegend\":false,\"x\":[47],\"type\":\"candlestick\",\"xaxis\":\"x\",\"yaxis\":\"y\"},{\"close\":[1.080405],\"decreasing\":{\"fillcolor\":\"rgba(255, 0, 0, 0)\",\"line\":{\"color\":\"green\"}},\"high\":[1.080405],\"increasing\":{\"fillcolor\":\"rgba(255, 0, 0, 0)\",\"line\":{\"color\":\"green\"}},\"low\":[1.080335],\"open\":[1.080335],\"showlegend\":false,\"x\":[48],\"type\":\"candlestick\",\"xaxis\":\"x\",\"yaxis\":\"y\"},{\"close\":[1.080445],\"decreasing\":{\"fillcolor\":\"rgba(255, 0, 0, 0)\",\"line\":{\"color\":\"green\"}},\"high\":[1.08049],\"increasing\":{\"fillcolor\":\"rgba(255, 0, 0, 0)\",\"line\":{\"color\":\"green\"}},\"low\":[1.080375],\"open\":[1.080395],\"showlegend\":false,\"x\":[49],\"type\":\"candlestick\",\"xaxis\":\"x\",\"yaxis\":\"y\"},{\"close\":[1.080395],\"decreasing\":{\"fillcolor\":\"red\",\"line\":{\"color\":\"red\"}},\"high\":[1.08059],\"increasing\":{\"fillcolor\":\"red\",\"line\":{\"color\":\"red\"}},\"low\":[1.08033],\"open\":[1.080505],\"showlegend\":false,\"x\":[50],\"type\":\"candlestick\",\"xaxis\":\"x\",\"yaxis\":\"y\"},{\"close\":[1.080385],\"decreasing\":{\"fillcolor\":\"red\",\"line\":{\"color\":\"red\"}},\"high\":[1.080455],\"increasing\":{\"fillcolor\":\"red\",\"line\":{\"color\":\"red\"}},\"low\":[1.080325],\"open\":[1.080385],\"showlegend\":false,\"x\":[51],\"type\":\"candlestick\",\"xaxis\":\"x\",\"yaxis\":\"y\"},{\"close\":[1.080435],\"decreasing\":{\"fillcolor\":\"rgba(255, 0, 0, 0)\",\"line\":{\"color\":\"green\"}},\"high\":[1.080585],\"increasing\":{\"fillcolor\":\"rgba(255, 0, 0, 0)\",\"line\":{\"color\":\"green\"}},\"low\":[1.08034],\"open\":[1.08038],\"showlegend\":false,\"x\":[52],\"type\":\"candlestick\",\"xaxis\":\"x\",\"yaxis\":\"y\"},{\"close\":[1.08047],\"decreasing\":{\"fillcolor\":\"rgba(255, 0, 0, 0)\",\"line\":{\"color\":\"green\"}},\"high\":[1.0805],\"increasing\":{\"fillcolor\":\"rgba(255, 0, 0, 0)\",\"line\":{\"color\":\"green\"}},\"low\":[1.08043],\"open\":[1.08043],\"showlegend\":false,\"x\":[53],\"type\":\"candlestick\",\"xaxis\":\"x\",\"yaxis\":\"y\"},{\"close\":[1.08048],\"decreasing\":{\"fillcolor\":\"rgba(255, 0, 0, 0)\",\"line\":{\"color\":\"green\"}},\"high\":[1.080505],\"increasing\":{\"fillcolor\":\"rgba(255, 0, 0, 0)\",\"line\":{\"color\":\"green\"}},\"low\":[1.08043],\"open\":[1.080465],\"showlegend\":false,\"x\":[54],\"type\":\"candlestick\",\"xaxis\":\"x\",\"yaxis\":\"y\"},{\"close\":[1.080585],\"decreasing\":{\"fillcolor\":\"rgba(255, 0, 0, 0)\",\"line\":{\"color\":\"green\"}},\"high\":[1.08059],\"increasing\":{\"fillcolor\":\"rgba(255, 0, 0, 0)\",\"line\":{\"color\":\"green\"}},\"low\":[1.080465],\"open\":[1.080475],\"showlegend\":false,\"x\":[55],\"type\":\"candlestick\",\"xaxis\":\"x\",\"yaxis\":\"y\"},{\"close\":[1.0807],\"decreasing\":{\"fillcolor\":\"rgba(255, 0, 0, 0)\",\"line\":{\"color\":\"green\"}},\"high\":[1.08078],\"increasing\":{\"fillcolor\":\"rgba(255, 0, 0, 0)\",\"line\":{\"color\":\"green\"}},\"low\":[1.08056],\"open\":[1.08059],\"showlegend\":false,\"x\":[56],\"type\":\"candlestick\",\"xaxis\":\"x\",\"yaxis\":\"y\"},{\"close\":[1.080725],\"decreasing\":{\"fillcolor\":\"rgba(255, 0, 0, 0)\",\"line\":{\"color\":\"green\"}},\"high\":[1.08078],\"increasing\":{\"fillcolor\":\"rgba(255, 0, 0, 0)\",\"line\":{\"color\":\"green\"}},\"low\":[1.08069],\"open\":[1.080705],\"showlegend\":false,\"x\":[57],\"type\":\"candlestick\",\"xaxis\":\"x\",\"yaxis\":\"y\"},{\"close\":[1.080865],\"decreasing\":{\"fillcolor\":\"rgba(255, 0, 0, 0)\",\"line\":{\"color\":\"green\"}},\"high\":[1.080895],\"increasing\":{\"fillcolor\":\"rgba(255, 0, 0, 0)\",\"line\":{\"color\":\"green\"}},\"low\":[1.080725],\"open\":[1.080725],\"showlegend\":false,\"x\":[58],\"type\":\"candlestick\",\"xaxis\":\"x\",\"yaxis\":\"y\"},{\"close\":[1.080835],\"decreasing\":{\"fillcolor\":\"red\",\"line\":{\"color\":\"red\"}},\"high\":[1.080935],\"increasing\":{\"fillcolor\":\"red\",\"line\":{\"color\":\"red\"}},\"low\":[1.08078],\"open\":[1.08086],\"showlegend\":false,\"x\":[59],\"type\":\"candlestick\",\"xaxis\":\"x\",\"yaxis\":\"y\"},{\"close\":[1.08089],\"decreasing\":{\"fillcolor\":\"rgba(255, 0, 0, 0)\",\"line\":{\"color\":\"green\"}},\"high\":[1.080925],\"increasing\":{\"fillcolor\":\"rgba(255, 0, 0, 0)\",\"line\":{\"color\":\"green\"}},\"low\":[1.080805],\"open\":[1.08084],\"showlegend\":false,\"x\":[60],\"type\":\"candlestick\",\"xaxis\":\"x\",\"yaxis\":\"y\"},{\"close\":[1.080855],\"decreasing\":{\"fillcolor\":\"red\",\"line\":{\"color\":\"red\"}},\"high\":[1.0809],\"increasing\":{\"fillcolor\":\"red\",\"line\":{\"color\":\"red\"}},\"low\":[1.080855],\"open\":[1.08089],\"showlegend\":false,\"x\":[61],\"type\":\"candlestick\",\"xaxis\":\"x\",\"yaxis\":\"y\"},{\"close\":[1.08092],\"decreasing\":{\"fillcolor\":\"rgba(255, 0, 0, 0)\",\"line\":{\"color\":\"green\"}},\"high\":[1.08093],\"increasing\":{\"fillcolor\":\"rgba(255, 0, 0, 0)\",\"line\":{\"color\":\"green\"}},\"low\":[1.0808],\"open\":[1.08086],\"showlegend\":false,\"x\":[62],\"type\":\"candlestick\",\"xaxis\":\"x\",\"yaxis\":\"y\"},{\"close\":[1.08092],\"decreasing\":{\"fillcolor\":\"rgba(0, 0, 0, 0)\",\"line\":{\"color\":\"gray\"}},\"high\":[1.080975],\"increasing\":{\"fillcolor\":\"rgba(0, 0, 0, 0)\",\"line\":{\"color\":\"gray\"}},\"low\":[1.080885],\"open\":[1.080915],\"showlegend\":false,\"x\":[63],\"type\":\"candlestick\",\"xaxis\":\"x\",\"yaxis\":\"y\"},{\"close\":[1.08088],\"decreasing\":{\"fillcolor\":\"red\",\"line\":{\"color\":\"red\"}},\"high\":[1.08093],\"increasing\":{\"fillcolor\":\"red\",\"line\":{\"color\":\"red\"}},\"low\":[1.080765],\"open\":[1.08092],\"showlegend\":false,\"x\":[64],\"type\":\"candlestick\",\"xaxis\":\"x\",\"yaxis\":\"y\"},{\"close\":[1.080975],\"decreasing\":{\"fillcolor\":\"rgba(255, 0, 0, 0)\",\"line\":{\"color\":\"green\"}},\"high\":[1.080975],\"increasing\":{\"fillcolor\":\"rgba(255, 0, 0, 0)\",\"line\":{\"color\":\"green\"}},\"low\":[1.080855],\"open\":[1.08089],\"showlegend\":false,\"x\":[65],\"type\":\"candlestick\",\"xaxis\":\"x\",\"yaxis\":\"y\"},{\"close\":[1.080915],\"decreasing\":{\"fillcolor\":\"red\",\"line\":{\"color\":\"red\"}},\"high\":[1.080995],\"increasing\":{\"fillcolor\":\"red\",\"line\":{\"color\":\"red\"}},\"low\":[1.080905],\"open\":[1.080965],\"showlegend\":false,\"x\":[66],\"type\":\"candlestick\",\"xaxis\":\"x\",\"yaxis\":\"y\"},{\"close\":[1.08093],\"decreasing\":{\"fillcolor\":\"rgba(255, 0, 0, 0)\",\"line\":{\"color\":\"green\"}},\"high\":[1.081045],\"increasing\":{\"fillcolor\":\"rgba(255, 0, 0, 0)\",\"line\":{\"color\":\"green\"}},\"low\":[1.080915],\"open\":[1.08092],\"showlegend\":false,\"x\":[67],\"type\":\"candlestick\",\"xaxis\":\"x\",\"yaxis\":\"y\"},{\"close\":[1.080825],\"decreasing\":{\"fillcolor\":\"red\",\"line\":{\"color\":\"red\"}},\"high\":[1.080955],\"increasing\":{\"fillcolor\":\"red\",\"line\":{\"color\":\"red\"}},\"low\":[1.08081],\"open\":[1.08093],\"showlegend\":false,\"x\":[68],\"type\":\"candlestick\",\"xaxis\":\"x\",\"yaxis\":\"y\"},{\"close\":[1.080975],\"decreasing\":{\"fillcolor\":\"rgba(255, 0, 0, 0)\",\"line\":{\"color\":\"green\"}},\"high\":[1.080975],\"increasing\":{\"fillcolor\":\"rgba(255, 0, 0, 0)\",\"line\":{\"color\":\"green\"}},\"low\":[1.080825],\"open\":[1.080825],\"showlegend\":false,\"x\":[69],\"type\":\"candlestick\",\"xaxis\":\"x\",\"yaxis\":\"y\"},{\"close\":[1.08094],\"decreasing\":{\"fillcolor\":\"red\",\"line\":{\"color\":\"red\"}},\"high\":[1.08102],\"increasing\":{\"fillcolor\":\"red\",\"line\":{\"color\":\"red\"}},\"low\":[1.08093],\"open\":[1.080975],\"showlegend\":false,\"x\":[70],\"type\":\"candlestick\",\"xaxis\":\"x\",\"yaxis\":\"y\"},{\"close\":[1.080925],\"decreasing\":{\"fillcolor\":\"red\",\"line\":{\"color\":\"red\"}},\"high\":[1.080955],\"increasing\":{\"fillcolor\":\"red\",\"line\":{\"color\":\"red\"}},\"low\":[1.080875],\"open\":[1.08095],\"showlegend\":false,\"x\":[71],\"type\":\"candlestick\",\"xaxis\":\"x\",\"yaxis\":\"y\"},{\"close\":[1.080935],\"decreasing\":{\"fillcolor\":\"rgba(255, 0, 0, 0)\",\"line\":{\"color\":\"green\"}},\"high\":[1.08099],\"increasing\":{\"fillcolor\":\"rgba(255, 0, 0, 0)\",\"line\":{\"color\":\"green\"}},\"low\":[1.08092],\"open\":[1.08093],\"showlegend\":false,\"x\":[72],\"type\":\"candlestick\",\"xaxis\":\"x\",\"yaxis\":\"y\"},{\"close\":[1.080725],\"decreasing\":{\"fillcolor\":\"red\",\"line\":{\"color\":\"red\"}},\"high\":[1.08094],\"increasing\":{\"fillcolor\":\"red\",\"line\":{\"color\":\"red\"}},\"low\":[1.080725],\"open\":[1.080935],\"showlegend\":false,\"x\":[73],\"type\":\"candlestick\",\"xaxis\":\"x\",\"yaxis\":\"y\"},{\"close\":[1.080785],\"decreasing\":{\"fillcolor\":\"rgba(255, 0, 0, 0)\",\"line\":{\"color\":\"green\"}},\"high\":[1.080835],\"increasing\":{\"fillcolor\":\"rgba(255, 0, 0, 0)\",\"line\":{\"color\":\"green\"}},\"low\":[1.08074],\"open\":[1.08074],\"showlegend\":false,\"x\":[74],\"type\":\"candlestick\",\"xaxis\":\"x\",\"yaxis\":\"y\"},{\"close\":[1.080875],\"decreasing\":{\"fillcolor\":\"rgba(255, 0, 0, 0)\",\"line\":{\"color\":\"green\"}},\"high\":[1.0809],\"increasing\":{\"fillcolor\":\"rgba(255, 0, 0, 0)\",\"line\":{\"color\":\"green\"}},\"low\":[1.08078],\"open\":[1.080795],\"showlegend\":false,\"x\":[75],\"type\":\"candlestick\",\"xaxis\":\"x\",\"yaxis\":\"y\"},{\"close\":[1.080855],\"decreasing\":{\"fillcolor\":\"red\",\"line\":{\"color\":\"red\"}},\"high\":[1.080905],\"increasing\":{\"fillcolor\":\"red\",\"line\":{\"color\":\"red\"}},\"low\":[1.08084],\"open\":[1.08088],\"showlegend\":false,\"x\":[76],\"type\":\"candlestick\",\"xaxis\":\"x\",\"yaxis\":\"y\"},{\"close\":[1.080865],\"decreasing\":{\"fillcolor\":\"rgba(255, 0, 0, 0)\",\"line\":{\"color\":\"green\"}},\"high\":[1.08088],\"increasing\":{\"fillcolor\":\"rgba(255, 0, 0, 0)\",\"line\":{\"color\":\"green\"}},\"low\":[1.08083],\"open\":[1.080855],\"showlegend\":false,\"x\":[77],\"type\":\"candlestick\",\"xaxis\":\"x\",\"yaxis\":\"y\"},{\"close\":[1.080795],\"decreasing\":{\"fillcolor\":\"red\",\"line\":{\"color\":\"red\"}},\"high\":[1.080905],\"increasing\":{\"fillcolor\":\"red\",\"line\":{\"color\":\"red\"}},\"low\":[1.080755],\"open\":[1.080855],\"showlegend\":false,\"x\":[78],\"type\":\"candlestick\",\"xaxis\":\"x\",\"yaxis\":\"y\"},{\"close\":[1.080695],\"decreasing\":{\"fillcolor\":\"red\",\"line\":{\"color\":\"red\"}},\"high\":[1.080815],\"increasing\":{\"fillcolor\":\"red\",\"line\":{\"color\":\"red\"}},\"low\":[1.08067],\"open\":[1.0808],\"showlegend\":false,\"x\":[79],\"type\":\"candlestick\",\"xaxis\":\"x\",\"yaxis\":\"y\"},{\"close\":[1.080665],\"decreasing\":{\"fillcolor\":\"red\",\"line\":{\"color\":\"red\"}},\"high\":[1.080725],\"increasing\":{\"fillcolor\":\"red\",\"line\":{\"color\":\"red\"}},\"low\":[1.080655],\"open\":[1.08069],\"showlegend\":false,\"x\":[80],\"type\":\"candlestick\",\"xaxis\":\"x\",\"yaxis\":\"y\"},{\"close\":[1.080745],\"decreasing\":{\"fillcolor\":\"rgba(255, 0, 0, 0)\",\"line\":{\"color\":\"green\"}},\"high\":[1.08075],\"increasing\":{\"fillcolor\":\"rgba(255, 0, 0, 0)\",\"line\":{\"color\":\"green\"}},\"low\":[1.08064],\"open\":[1.08067],\"showlegend\":false,\"x\":[81],\"type\":\"candlestick\",\"xaxis\":\"x\",\"yaxis\":\"y\"},{\"close\":[1.080805],\"decreasing\":{\"fillcolor\":\"rgba(255, 0, 0, 0)\",\"line\":{\"color\":\"green\"}},\"high\":[1.080835],\"increasing\":{\"fillcolor\":\"rgba(255, 0, 0, 0)\",\"line\":{\"color\":\"green\"}},\"low\":[1.08072],\"open\":[1.080735],\"showlegend\":false,\"x\":[82],\"type\":\"candlestick\",\"xaxis\":\"x\",\"yaxis\":\"y\"},{\"close\":[1.08091],\"decreasing\":{\"fillcolor\":\"rgba(255, 0, 0, 0)\",\"line\":{\"color\":\"green\"}},\"high\":[1.08091],\"increasing\":{\"fillcolor\":\"rgba(255, 0, 0, 0)\",\"line\":{\"color\":\"green\"}},\"low\":[1.08078],\"open\":[1.080805],\"showlegend\":false,\"x\":[83],\"type\":\"candlestick\",\"xaxis\":\"x\",\"yaxis\":\"y\"},{\"close\":[1.081005],\"decreasing\":{\"fillcolor\":\"rgba(255, 0, 0, 0)\",\"line\":{\"color\":\"green\"}},\"high\":[1.081055],\"increasing\":{\"fillcolor\":\"rgba(255, 0, 0, 0)\",\"line\":{\"color\":\"green\"}},\"low\":[1.08088],\"open\":[1.080905],\"showlegend\":false,\"x\":[84],\"type\":\"candlestick\",\"xaxis\":\"x\",\"yaxis\":\"y\"},{\"close\":[1.080995],\"decreasing\":{\"fillcolor\":\"red\",\"line\":{\"color\":\"red\"}},\"high\":[1.08105],\"increasing\":{\"fillcolor\":\"red\",\"line\":{\"color\":\"red\"}},\"low\":[1.080925],\"open\":[1.080995],\"showlegend\":false,\"x\":[85],\"type\":\"candlestick\",\"xaxis\":\"x\",\"yaxis\":\"y\"},{\"close\":[1.081125],\"decreasing\":{\"fillcolor\":\"rgba(255, 0, 0, 0)\",\"line\":{\"color\":\"green\"}},\"high\":[1.08113],\"increasing\":{\"fillcolor\":\"rgba(255, 0, 0, 0)\",\"line\":{\"color\":\"green\"}},\"low\":[1.080965],\"open\":[1.08099],\"showlegend\":false,\"x\":[86],\"type\":\"candlestick\",\"xaxis\":\"x\",\"yaxis\":\"y\"},{\"close\":[1.08102],\"decreasing\":{\"fillcolor\":\"red\",\"line\":{\"color\":\"red\"}},\"high\":[1.08112],\"increasing\":{\"fillcolor\":\"red\",\"line\":{\"color\":\"red\"}},\"low\":[1.081],\"open\":[1.08112],\"showlegend\":false,\"x\":[87],\"type\":\"candlestick\",\"xaxis\":\"x\",\"yaxis\":\"y\"},{\"close\":[1.081015],\"decreasing\":{\"fillcolor\":\"red\",\"line\":{\"color\":\"red\"}},\"high\":[1.081085],\"increasing\":{\"fillcolor\":\"red\",\"line\":{\"color\":\"red\"}},\"low\":[1.080995],\"open\":[1.08102],\"showlegend\":false,\"x\":[88],\"type\":\"candlestick\",\"xaxis\":\"x\",\"yaxis\":\"y\"},{\"close\":[1.08096],\"decreasing\":{\"fillcolor\":\"red\",\"line\":{\"color\":\"red\"}},\"high\":[1.08102],\"increasing\":{\"fillcolor\":\"red\",\"line\":{\"color\":\"red\"}},\"low\":[1.080905],\"open\":[1.081015],\"showlegend\":false,\"x\":[89],\"type\":\"candlestick\",\"xaxis\":\"x\",\"yaxis\":\"y\"},{\"close\":[1.081005],\"decreasing\":{\"fillcolor\":\"rgba(255, 0, 0, 0)\",\"line\":{\"color\":\"green\"}},\"high\":[1.081035],\"increasing\":{\"fillcolor\":\"rgba(255, 0, 0, 0)\",\"line\":{\"color\":\"green\"}},\"low\":[1.080925],\"open\":[1.080965],\"showlegend\":false,\"x\":[90],\"type\":\"candlestick\",\"xaxis\":\"x\",\"yaxis\":\"y\"},{\"close\":[1.08095],\"decreasing\":{\"fillcolor\":\"red\",\"line\":{\"color\":\"red\"}},\"high\":[1.081035],\"increasing\":{\"fillcolor\":\"red\",\"line\":{\"color\":\"red\"}},\"low\":[1.08095],\"open\":[1.081005],\"showlegend\":false,\"x\":[91],\"type\":\"candlestick\",\"xaxis\":\"x\",\"yaxis\":\"y\"},{\"close\":[1.08103],\"decreasing\":{\"fillcolor\":\"rgba(255, 0, 0, 0)\",\"line\":{\"color\":\"green\"}},\"high\":[1.08104],\"increasing\":{\"fillcolor\":\"rgba(255, 0, 0, 0)\",\"line\":{\"color\":\"green\"}},\"low\":[1.08093],\"open\":[1.08094],\"showlegend\":false,\"x\":[92],\"type\":\"candlestick\",\"xaxis\":\"x\",\"yaxis\":\"y\"},{\"close\":[1.08092],\"decreasing\":{\"fillcolor\":\"red\",\"line\":{\"color\":\"red\"}},\"high\":[1.08105],\"increasing\":{\"fillcolor\":\"red\",\"line\":{\"color\":\"red\"}},\"low\":[1.08092],\"open\":[1.08102],\"showlegend\":false,\"x\":[93],\"type\":\"candlestick\",\"xaxis\":\"x\",\"yaxis\":\"y\"},{\"close\":[1.08092],\"decreasing\":{\"fillcolor\":\"rgba(0, 0, 0, 0)\",\"line\":{\"color\":\"gray\"}},\"high\":[1.08093],\"increasing\":{\"fillcolor\":\"rgba(0, 0, 0, 0)\",\"line\":{\"color\":\"gray\"}},\"low\":[1.08089],\"open\":[1.08093],\"showlegend\":false,\"x\":[94],\"type\":\"candlestick\",\"xaxis\":\"x\",\"yaxis\":\"y\"},{\"close\":[1.08088],\"decreasing\":{\"fillcolor\":\"red\",\"line\":{\"color\":\"red\"}},\"high\":[1.080985],\"increasing\":{\"fillcolor\":\"red\",\"line\":{\"color\":\"red\"}},\"low\":[1.08086],\"open\":[1.08091],\"showlegend\":false,\"x\":[95],\"type\":\"candlestick\",\"xaxis\":\"x\",\"yaxis\":\"y\"},{\"close\":[1.080865],\"decreasing\":{\"fillcolor\":\"red\",\"line\":{\"color\":\"red\"}},\"high\":[1.08089],\"increasing\":{\"fillcolor\":\"red\",\"line\":{\"color\":\"red\"}},\"low\":[1.0808],\"open\":[1.080885],\"showlegend\":false,\"x\":[96],\"type\":\"candlestick\",\"xaxis\":\"x\",\"yaxis\":\"y\"},{\"close\":[1.08082],\"decreasing\":{\"fillcolor\":\"red\",\"line\":{\"color\":\"red\"}},\"high\":[1.080885],\"increasing\":{\"fillcolor\":\"red\",\"line\":{\"color\":\"red\"}},\"low\":[1.08078],\"open\":[1.08087],\"showlegend\":false,\"x\":[97],\"type\":\"candlestick\",\"xaxis\":\"x\",\"yaxis\":\"y\"},{\"close\":[1.080865],\"decreasing\":{\"fillcolor\":\"rgba(255, 0, 0, 0)\",\"line\":{\"color\":\"green\"}},\"high\":[1.08089],\"increasing\":{\"fillcolor\":\"rgba(255, 0, 0, 0)\",\"line\":{\"color\":\"green\"}},\"low\":[1.08081],\"open\":[1.080815],\"showlegend\":false,\"x\":[98],\"type\":\"candlestick\",\"xaxis\":\"x\",\"yaxis\":\"y\"},{\"close\":[1.080855],\"decreasing\":{\"fillcolor\":\"red\",\"line\":{\"color\":\"red\"}},\"high\":[1.08089],\"increasing\":{\"fillcolor\":\"red\",\"line\":{\"color\":\"red\"}},\"low\":[1.08079],\"open\":[1.080875],\"showlegend\":false,\"x\":[99],\"type\":\"candlestick\",\"xaxis\":\"x\",\"yaxis\":\"y\"},{\"close\":[1.08082],\"decreasing\":{\"fillcolor\":\"red\",\"line\":{\"color\":\"red\"}},\"high\":[1.080885],\"increasing\":{\"fillcolor\":\"red\",\"line\":{\"color\":\"red\"}},\"low\":[1.080795],\"open\":[1.080845],\"showlegend\":false,\"x\":[100],\"type\":\"candlestick\",\"xaxis\":\"x\",\"yaxis\":\"y\"},{\"close\":[1.080835],\"decreasing\":{\"fillcolor\":\"rgba(255, 0, 0, 0)\",\"line\":{\"color\":\"green\"}},\"high\":[1.08085],\"increasing\":{\"fillcolor\":\"rgba(255, 0, 0, 0)\",\"line\":{\"color\":\"green\"}},\"low\":[1.08071],\"open\":[1.08082],\"showlegend\":false,\"x\":[101],\"type\":\"candlestick\",\"xaxis\":\"x\",\"yaxis\":\"y\"},{\"close\":[1.080785],\"decreasing\":{\"fillcolor\":\"red\",\"line\":{\"color\":\"red\"}},\"high\":[1.080835],\"increasing\":{\"fillcolor\":\"red\",\"line\":{\"color\":\"red\"}},\"low\":[1.08073],\"open\":[1.080835],\"showlegend\":false,\"x\":[102],\"type\":\"candlestick\",\"xaxis\":\"x\",\"yaxis\":\"y\"},{\"close\":[1.08077],\"decreasing\":{\"fillcolor\":\"red\",\"line\":{\"color\":\"red\"}},\"high\":[1.080835],\"increasing\":{\"fillcolor\":\"red\",\"line\":{\"color\":\"red\"}},\"low\":[1.08075],\"open\":[1.08078],\"showlegend\":false,\"x\":[103],\"type\":\"candlestick\",\"xaxis\":\"x\",\"yaxis\":\"y\"},{\"close\":[1.080675],\"decreasing\":{\"fillcolor\":\"red\",\"line\":{\"color\":\"red\"}},\"high\":[1.08083],\"increasing\":{\"fillcolor\":\"red\",\"line\":{\"color\":\"red\"}},\"low\":[1.08064],\"open\":[1.08077],\"showlegend\":false,\"x\":[104],\"type\":\"candlestick\",\"xaxis\":\"x\",\"yaxis\":\"y\"},{\"close\":[1.080665],\"decreasing\":{\"fillcolor\":\"red\",\"line\":{\"color\":\"red\"}},\"high\":[1.08072],\"increasing\":{\"fillcolor\":\"red\",\"line\":{\"color\":\"red\"}},\"low\":[1.08064],\"open\":[1.08067],\"showlegend\":false,\"x\":[105],\"type\":\"candlestick\",\"xaxis\":\"x\",\"yaxis\":\"y\"},{\"close\":[1.0806],\"decreasing\":{\"fillcolor\":\"red\",\"line\":{\"color\":\"red\"}},\"high\":[1.080665],\"increasing\":{\"fillcolor\":\"red\",\"line\":{\"color\":\"red\"}},\"low\":[1.08057],\"open\":[1.08066],\"showlegend\":false,\"x\":[106],\"type\":\"candlestick\",\"xaxis\":\"x\",\"yaxis\":\"y\"},{\"close\":[1.080625],\"decreasing\":{\"fillcolor\":\"rgba(255, 0, 0, 0)\",\"line\":{\"color\":\"green\"}},\"high\":[1.08063],\"increasing\":{\"fillcolor\":\"rgba(255, 0, 0, 0)\",\"line\":{\"color\":\"green\"}},\"low\":[1.08059],\"open\":[1.080595],\"showlegend\":false,\"x\":[107],\"type\":\"candlestick\",\"xaxis\":\"x\",\"yaxis\":\"y\"},{\"close\":[1.08062],\"decreasing\":{\"fillcolor\":\"red\",\"line\":{\"color\":\"red\"}},\"high\":[1.080685],\"increasing\":{\"fillcolor\":\"red\",\"line\":{\"color\":\"red\"}},\"low\":[1.08056],\"open\":[1.08063],\"showlegend\":false,\"x\":[108],\"type\":\"candlestick\",\"xaxis\":\"x\",\"yaxis\":\"y\"},{\"close\":[1.080455],\"decreasing\":{\"fillcolor\":\"red\",\"line\":{\"color\":\"red\"}},\"high\":[1.08062],\"increasing\":{\"fillcolor\":\"red\",\"line\":{\"color\":\"red\"}},\"low\":[1.08044],\"open\":[1.08062],\"showlegend\":false,\"x\":[109],\"type\":\"candlestick\",\"xaxis\":\"x\",\"yaxis\":\"y\"},{\"close\":[1.080465],\"decreasing\":{\"fillcolor\":\"rgba(255, 0, 0, 0)\",\"line\":{\"color\":\"green\"}},\"high\":[1.080465],\"increasing\":{\"fillcolor\":\"rgba(255, 0, 0, 0)\",\"line\":{\"color\":\"green\"}},\"low\":[1.080455],\"open\":[1.080455],\"showlegend\":false,\"x\":[110],\"type\":\"candlestick\",\"xaxis\":\"x\",\"yaxis\":\"y\"},{\"marker\":{\"color\":\"orange\"},\"mode\":\"lines\",\"name\":\"RSI\",\"x\":[0,1,2,3,4,5,6,7,8,9,10,11,12,13,14,15,16,17,18,19,20,21,22,23,24,25,26,27,28,29,30,31,32,33,34,35,36,37,38,39,40,41,42,43,44,45,46,47,48,49,50,51,52,53,54,55,56,57,58,59,60,61,62,63,64,65,66,67,68,69,70,71,72,73,74,75,76,77,78,79,80,81,82,83,84,85,86,87,88,89,90,91,92,93,94,95,96,97,98,99,100,101,102,103,104,105,106,107,108,109,110],\"y\":[null,null,null,null,null,null,null,null,null,null,null,null,null,45.796648949093594,40.56766686388559,57.53692729050072,52.563814266429574,49.85669950597201,48.69912526680709,53.00746839459769,50.122705914164776,57.58099792805458,59.14735951481124,63.75910331878866,60.1055590852961,61.58710103735641,57.4513090484104,60.02128977092126,66.31983686996276,68.19669191833296,67.68891982751545,65.58534952823842,67.99536343116783,72.39100749795209,73.81775033529087,78.01300967175712,79.34930507571961,70.164521334684,60.52413548537716,63.13307100075174,65.58266240950886,63.11911547629058,58.03259740958395,59.388172426337235,49.99674441046414,49.37389936282583,51.95232911985513,50.56560297205445,54.490212282848084,56.9443063378149,53.09043365774404,52.327664565273516,55.750893962656576,58.02317420958438,58.67611703468765,64.85733712870824,70.12764278702385,71.14087986747408,76.04171430078324,73.17409047398556,75.03301795675048,71.63128084724967,73.98971342727586,73.98971342727587,69.84553552339136,73.62406798500619,67.84200840622023,68.50787827900646,59.258107891340565,66.26543234425137,63.52016818442869,62.328402171009806,62.82910016993766,48.30837716074372,51.740234658061794,56.414633093476326,55.13656958800999,55.67725174157656,51.040173516201804,45.24313760066957,43.64173049916446,48.84189301022228,52.39005084826581,57.893784472951396,62.1563555323786,61.451148707762826,66.73495738938132,59.62605794883038,59.30210311267504,55.716132695905365,57.95625880831134,54.33826706976413,58.4056371077419,51.599590316222596,51.5995903162226,49.182528858518815,48.269405730715725,45.53792783721182,48.66626317911488,48.006345211315605,45.67200189689547,46.86450284017912,43.441529145332034,42.44005121111788,36.67362028197136,36.11732187943315,32.65042511896398,35.225790346172516,34.93803912548779,27.077341731513783,28.132687312571548],\"type\":\"scatter\",\"xaxis\":\"x2\",\"yaxis\":\"y2\"},{\"marker\":{\"color\":\"red\"},\"mode\":\"markers\",\"showlegend\":false,\"x\":[33],\"y\":[72.39100749795209],\"type\":\"scatter\",\"xaxis\":\"x2\",\"yaxis\":\"y2\"},{\"marker\":{\"color\":\"red\"},\"mode\":\"markers\",\"showlegend\":false,\"x\":[56],\"y\":[70.12764278702385],\"type\":\"scatter\",\"xaxis\":\"x2\",\"yaxis\":\"y2\"},{\"marker\":{\"color\":\"red\"},\"mode\":\"markers\",\"showlegend\":false,\"x\":[65],\"y\":[73.62406798500619],\"type\":\"scatter\",\"xaxis\":\"x2\",\"yaxis\":\"y2\"},{\"marker\":{\"color\":\"green\"},\"mode\":\"markers\",\"showlegend\":false,\"x\":[109],\"y\":[27.077341731513783],\"type\":\"scatter\",\"xaxis\":\"x2\",\"yaxis\":\"y2\"}],                        {\"template\":{\"data\":{\"histogram2dcontour\":[{\"type\":\"histogram2dcontour\",\"colorbar\":{\"outlinewidth\":0,\"ticks\":\"\"},\"colorscale\":[[0.0,\"#0d0887\"],[0.1111111111111111,\"#46039f\"],[0.2222222222222222,\"#7201a8\"],[0.3333333333333333,\"#9c179e\"],[0.4444444444444444,\"#bd3786\"],[0.5555555555555556,\"#d8576b\"],[0.6666666666666666,\"#ed7953\"],[0.7777777777777778,\"#fb9f3a\"],[0.8888888888888888,\"#fdca26\"],[1.0,\"#f0f921\"]]}],\"choropleth\":[{\"type\":\"choropleth\",\"colorbar\":{\"outlinewidth\":0,\"ticks\":\"\"}}],\"histogram2d\":[{\"type\":\"histogram2d\",\"colorbar\":{\"outlinewidth\":0,\"ticks\":\"\"},\"colorscale\":[[0.0,\"#0d0887\"],[0.1111111111111111,\"#46039f\"],[0.2222222222222222,\"#7201a8\"],[0.3333333333333333,\"#9c179e\"],[0.4444444444444444,\"#bd3786\"],[0.5555555555555556,\"#d8576b\"],[0.6666666666666666,\"#ed7953\"],[0.7777777777777778,\"#fb9f3a\"],[0.8888888888888888,\"#fdca26\"],[1.0,\"#f0f921\"]]}],\"heatmap\":[{\"type\":\"heatmap\",\"colorbar\":{\"outlinewidth\":0,\"ticks\":\"\"},\"colorscale\":[[0.0,\"#0d0887\"],[0.1111111111111111,\"#46039f\"],[0.2222222222222222,\"#7201a8\"],[0.3333333333333333,\"#9c179e\"],[0.4444444444444444,\"#bd3786\"],[0.5555555555555556,\"#d8576b\"],[0.6666666666666666,\"#ed7953\"],[0.7777777777777778,\"#fb9f3a\"],[0.8888888888888888,\"#fdca26\"],[1.0,\"#f0f921\"]]}],\"heatmapgl\":[{\"type\":\"heatmapgl\",\"colorbar\":{\"outlinewidth\":0,\"ticks\":\"\"},\"colorscale\":[[0.0,\"#0d0887\"],[0.1111111111111111,\"#46039f\"],[0.2222222222222222,\"#7201a8\"],[0.3333333333333333,\"#9c179e\"],[0.4444444444444444,\"#bd3786\"],[0.5555555555555556,\"#d8576b\"],[0.6666666666666666,\"#ed7953\"],[0.7777777777777778,\"#fb9f3a\"],[0.8888888888888888,\"#fdca26\"],[1.0,\"#f0f921\"]]}],\"contourcarpet\":[{\"type\":\"contourcarpet\",\"colorbar\":{\"outlinewidth\":0,\"ticks\":\"\"}}],\"contour\":[{\"type\":\"contour\",\"colorbar\":{\"outlinewidth\":0,\"ticks\":\"\"},\"colorscale\":[[0.0,\"#0d0887\"],[0.1111111111111111,\"#46039f\"],[0.2222222222222222,\"#7201a8\"],[0.3333333333333333,\"#9c179e\"],[0.4444444444444444,\"#bd3786\"],[0.5555555555555556,\"#d8576b\"],[0.6666666666666666,\"#ed7953\"],[0.7777777777777778,\"#fb9f3a\"],[0.8888888888888888,\"#fdca26\"],[1.0,\"#f0f921\"]]}],\"surface\":[{\"type\":\"surface\",\"colorbar\":{\"outlinewidth\":0,\"ticks\":\"\"},\"colorscale\":[[0.0,\"#0d0887\"],[0.1111111111111111,\"#46039f\"],[0.2222222222222222,\"#7201a8\"],[0.3333333333333333,\"#9c179e\"],[0.4444444444444444,\"#bd3786\"],[0.5555555555555556,\"#d8576b\"],[0.6666666666666666,\"#ed7953\"],[0.7777777777777778,\"#fb9f3a\"],[0.8888888888888888,\"#fdca26\"],[1.0,\"#f0f921\"]]}],\"mesh3d\":[{\"type\":\"mesh3d\",\"colorbar\":{\"outlinewidth\":0,\"ticks\":\"\"}}],\"scatter\":[{\"marker\":{\"line\":{\"color\":\"#283442\"}},\"type\":\"scatter\"}],\"parcoords\":[{\"type\":\"parcoords\",\"line\":{\"colorbar\":{\"outlinewidth\":0,\"ticks\":\"\"}}}],\"scatterpolargl\":[{\"type\":\"scatterpolargl\",\"marker\":{\"colorbar\":{\"outlinewidth\":0,\"ticks\":\"\"}}}],\"bar\":[{\"error_x\":{\"color\":\"#f2f5fa\"},\"error_y\":{\"color\":\"#f2f5fa\"},\"marker\":{\"line\":{\"color\":\"rgb(17,17,17)\",\"width\":0.5},\"pattern\":{\"fillmode\":\"overlay\",\"size\":10,\"solidity\":0.2}},\"type\":\"bar\"}],\"scattergeo\":[{\"type\":\"scattergeo\",\"marker\":{\"colorbar\":{\"outlinewidth\":0,\"ticks\":\"\"}}}],\"scatterpolar\":[{\"type\":\"scatterpolar\",\"marker\":{\"colorbar\":{\"outlinewidth\":0,\"ticks\":\"\"}}}],\"histogram\":[{\"marker\":{\"pattern\":{\"fillmode\":\"overlay\",\"size\":10,\"solidity\":0.2}},\"type\":\"histogram\"}],\"scattergl\":[{\"marker\":{\"line\":{\"color\":\"#283442\"}},\"type\":\"scattergl\"}],\"scatter3d\":[{\"type\":\"scatter3d\",\"line\":{\"colorbar\":{\"outlinewidth\":0,\"ticks\":\"\"}},\"marker\":{\"colorbar\":{\"outlinewidth\":0,\"ticks\":\"\"}}}],\"scattermapbox\":[{\"type\":\"scattermapbox\",\"marker\":{\"colorbar\":{\"outlinewidth\":0,\"ticks\":\"\"}}}],\"scatterternary\":[{\"type\":\"scatterternary\",\"marker\":{\"colorbar\":{\"outlinewidth\":0,\"ticks\":\"\"}}}],\"scattercarpet\":[{\"type\":\"scattercarpet\",\"marker\":{\"colorbar\":{\"outlinewidth\":0,\"ticks\":\"\"}}}],\"carpet\":[{\"aaxis\":{\"endlinecolor\":\"#A2B1C6\",\"gridcolor\":\"#506784\",\"linecolor\":\"#506784\",\"minorgridcolor\":\"#506784\",\"startlinecolor\":\"#A2B1C6\"},\"baxis\":{\"endlinecolor\":\"#A2B1C6\",\"gridcolor\":\"#506784\",\"linecolor\":\"#506784\",\"minorgridcolor\":\"#506784\",\"startlinecolor\":\"#A2B1C6\"},\"type\":\"carpet\"}],\"table\":[{\"cells\":{\"fill\":{\"color\":\"#506784\"},\"line\":{\"color\":\"rgb(17,17,17)\"}},\"header\":{\"fill\":{\"color\":\"#2a3f5f\"},\"line\":{\"color\":\"rgb(17,17,17)\"}},\"type\":\"table\"}],\"barpolar\":[{\"marker\":{\"line\":{\"color\":\"rgb(17,17,17)\",\"width\":0.5},\"pattern\":{\"fillmode\":\"overlay\",\"size\":10,\"solidity\":0.2}},\"type\":\"barpolar\"}],\"pie\":[{\"automargin\":true,\"type\":\"pie\"}]},\"layout\":{\"autotypenumbers\":\"strict\",\"colorway\":[\"#636efa\",\"#EF553B\",\"#00cc96\",\"#ab63fa\",\"#FFA15A\",\"#19d3f3\",\"#FF6692\",\"#B6E880\",\"#FF97FF\",\"#FECB52\"],\"font\":{\"color\":\"#f2f5fa\"},\"hovermode\":\"closest\",\"hoverlabel\":{\"align\":\"left\"},\"paper_bgcolor\":\"#383838\",\"plot_bgcolor\":\"#383838\",\"polar\":{\"bgcolor\":\"rgb(17,17,17)\",\"angularaxis\":{\"gridcolor\":\"#506784\",\"linecolor\":\"#506784\",\"ticks\":\"\"},\"radialaxis\":{\"gridcolor\":\"#506784\",\"linecolor\":\"#506784\",\"ticks\":\"\"}},\"ternary\":{\"bgcolor\":\"rgb(17,17,17)\",\"aaxis\":{\"gridcolor\":\"#506784\",\"linecolor\":\"#506784\",\"ticks\":\"\"},\"baxis\":{\"gridcolor\":\"#506784\",\"linecolor\":\"#506784\",\"ticks\":\"\"},\"caxis\":{\"gridcolor\":\"#506784\",\"linecolor\":\"#506784\",\"ticks\":\"\"}},\"coloraxis\":{\"colorbar\":{\"outlinewidth\":0,\"ticks\":\"\"}},\"colorscale\":{\"sequential\":[[0.0,\"#0d0887\"],[0.1111111111111111,\"#46039f\"],[0.2222222222222222,\"#7201a8\"],[0.3333333333333333,\"#9c179e\"],[0.4444444444444444,\"#bd3786\"],[0.5555555555555556,\"#d8576b\"],[0.6666666666666666,\"#ed7953\"],[0.7777777777777778,\"#fb9f3a\"],[0.8888888888888888,\"#fdca26\"],[1.0,\"#f0f921\"]],\"sequentialminus\":[[0.0,\"#0d0887\"],[0.1111111111111111,\"#46039f\"],[0.2222222222222222,\"#7201a8\"],[0.3333333333333333,\"#9c179e\"],[0.4444444444444444,\"#bd3786\"],[0.5555555555555556,\"#d8576b\"],[0.6666666666666666,\"#ed7953\"],[0.7777777777777778,\"#fb9f3a\"],[0.8888888888888888,\"#fdca26\"],[1.0,\"#f0f921\"]],\"diverging\":[[0,\"#8e0152\"],[0.1,\"#c51b7d\"],[0.2,\"#de77ae\"],[0.3,\"#f1b6da\"],[0.4,\"#fde0ef\"],[0.5,\"#f7f7f7\"],[0.6,\"#e6f5d0\"],[0.7,\"#b8e186\"],[0.8,\"#7fbc41\"],[0.9,\"#4d9221\"],[1,\"#276419\"]]},\"xaxis\":{\"gridcolor\":\"#D5D5D5\",\"linecolor\":\"#D5D5D5\",\"ticks\":\"\",\"title\":{\"standoff\":15},\"zerolinecolor\":\"#D5D5D5\",\"automargin\":true,\"zerolinewidth\":2},\"yaxis\":{\"gridcolor\":\"#D5D5D5\",\"linecolor\":\"#D5D5D5\",\"ticks\":\"\",\"title\":{\"standoff\":15},\"zerolinecolor\":\"#D5D5D5\",\"automargin\":true,\"zerolinewidth\":2},\"scene\":{\"xaxis\":{\"backgroundcolor\":\"rgb(17,17,17)\",\"gridcolor\":\"#506784\",\"linecolor\":\"#506784\",\"showbackground\":true,\"ticks\":\"\",\"zerolinecolor\":\"#C8D4E3\",\"gridwidth\":2},\"yaxis\":{\"backgroundcolor\":\"rgb(17,17,17)\",\"gridcolor\":\"#506784\",\"linecolor\":\"#506784\",\"showbackground\":true,\"ticks\":\"\",\"zerolinecolor\":\"#C8D4E3\",\"gridwidth\":2},\"zaxis\":{\"backgroundcolor\":\"rgb(17,17,17)\",\"gridcolor\":\"#506784\",\"linecolor\":\"#506784\",\"showbackground\":true,\"ticks\":\"\",\"zerolinecolor\":\"#C8D4E3\",\"gridwidth\":2}},\"shapedefaults\":{\"line\":{\"color\":\"#f2f5fa\"}},\"annotationdefaults\":{\"arrowcolor\":\"#f2f5fa\",\"arrowhead\":0,\"arrowwidth\":1},\"geo\":{\"bgcolor\":\"rgb(17,17,17)\",\"landcolor\":\"rgb(17,17,17)\",\"subunitcolor\":\"#506784\",\"showland\":true,\"showlakes\":true,\"lakecolor\":\"rgb(17,17,17)\"},\"title\":{\"x\":0.05},\"updatemenudefaults\":{\"bgcolor\":\"#506784\",\"borderwidth\":0},\"sliderdefaults\":{\"bgcolor\":\"#C8D4E3\",\"borderwidth\":1,\"bordercolor\":\"rgb(17,17,17)\",\"tickwidth\":0},\"mapbox\":{\"style\":\"dark\"}}},\"xaxis\":{\"anchor\":\"y\",\"domain\":[0.0,1.0],\"matches\":\"x2\",\"showticklabels\":false,\"rangeslider\":{\"visible\":false}},\"yaxis\":{\"anchor\":\"x\",\"domain\":[0.525,1.0]},\"xaxis2\":{\"anchor\":\"y2\",\"domain\":[0.0,1.0]},\"yaxis2\":{\"anchor\":\"x2\",\"domain\":[0.0,0.475],\"title\":{\"text\":\"RSI\"},\"range\":[0,100]},\"annotations\":[{\"font\":{\"size\":16},\"showarrow\":false,\"text\":\"Candlestick\",\"x\":0.5,\"xanchor\":\"center\",\"xref\":\"paper\",\"y\":1.0,\"yanchor\":\"bottom\",\"yref\":\"paper\"},{\"font\":{\"size\":16},\"showarrow\":false,\"text\":\"RSI\",\"x\":0.5,\"xanchor\":\"center\",\"xref\":\"paper\",\"y\":0.475,\"yanchor\":\"bottom\",\"yref\":\"paper\"}],\"shapes\":[{\"line\":{\"color\":\"blue\",\"dash\":\"dash\"},\"name\":\"RSI 30\",\"type\":\"line\",\"x0\":0,\"x1\":1,\"xref\":\"x2 domain\",\"y0\":30,\"y1\":30,\"yref\":\"y2\"},{\"line\":{\"color\":\"red\",\"dash\":\"dash\"},\"name\":\"RSI 70\",\"type\":\"line\",\"x0\":0,\"x1\":1,\"xref\":\"x2 domain\",\"y0\":70,\"y1\":70,\"yref\":\"y2\"}],\"title\":{\"text\":\"EURUSD\"}},                        {\"responsive\": true}                    ).then(function(){\n",
              "                            \n",
              "var gd = document.getElementById('0d5ecca8-ebd3-4d79-b386-a3c09557cb90');\n",
              "var x = new MutationObserver(function (mutations, observer) {{\n",
              "        var display = window.getComputedStyle(gd).display;\n",
              "        if (!display || display === 'none') {{\n",
              "            console.log([gd, 'removed!']);\n",
              "            Plotly.purge(gd);\n",
              "            observer.disconnect();\n",
              "        }}\n",
              "}});\n",
              "\n",
              "// Listen for the removal of the full notebook cells\n",
              "var notebookContainer = gd.closest('#notebook-container');\n",
              "if (notebookContainer) {{\n",
              "    x.observe(notebookContainer, {childList: true});\n",
              "}}\n",
              "\n",
              "// Listen for the clearing of the current output cell\n",
              "var outputEl = gd.closest('.output');\n",
              "if (outputEl) {{\n",
              "    x.observe(outputEl, {childList: true});\n",
              "}}\n",
              "\n",
              "                        })                };                            </script>        </div>\n",
              "</body>\n",
              "</html>"
            ]
          },
          "metadata": {}
        }
      ]
    },
    {
      "cell_type": "code",
      "source": [
        "# Plot utilizando a mesma lógica do anterior (presença de velas cinzas) apenas para demonstrar o funcionamento\n",
        "\n",
        "fig = make_subplots(rows=2, cols=1, shared_xaxes=True, vertical_spacing=0.05,\n",
        "                    subplot_titles=(\"Candlestick\", \"RSI\"))\n",
        "\n",
        "for index, row in tsla_df.iterrows():\n",
        "    if row[\"Close\"] == row[\"previousClose\"]:\n",
        "        color = 'gray'\n",
        "        fill_color = 'rgba(0, 0, 0, 0)'  # Define o fill color como transparente para os candles cinzas\n",
        "    else:\n",
        "        color = 'green' if row[\"Close\"] > row[\"previousClose\"] else 'red'\n",
        "        fill_color = 'rgba(255, 0, 0, 0)' if row[\"Close\"] > row[\"Open\"] else color\n",
        "    coloring = dict(fillcolor=fill_color, line=dict(color=color))\n",
        "    fig.add_trace(\n",
        "        go.Candlestick(\n",
        "            x=[index],\n",
        "            open=[row[\"Open\"]],\n",
        "            high=[row[\"High\"]],\n",
        "            low=[row[\"Low\"]],\n",
        "            close=[row[\"Close\"]],\n",
        "            increasing=coloring,\n",
        "            decreasing=coloring,\n",
        "            showlegend=False,\n",
        "        ),\n",
        "        row=1, col=1\n",
        "    )\n",
        "\n",
        "fig.add_trace(\n",
        "    go.Scatter(x=tsla_df.index, y=tsla_df['RSI'], mode='lines', name='RSI', marker=dict(color='orange')),\n",
        "    row=2, col=1\n",
        ")\n",
        "\n",
        "for index, row in tsla_df.iterrows():\n",
        "    if row['Signal'] == 'SELL':\n",
        "        fig.add_trace(\n",
        "            go.Scatter(x=[index], y=[row['RSI']], mode='markers', marker=dict(color='red'), showlegend=False),\n",
        "            row=2, col=1\n",
        "        )\n",
        "    elif row['Signal'] == 'BUY':\n",
        "        fig.add_trace(\n",
        "            go.Scatter(x=[index], y=[row['RSI']], mode='markers', marker=dict(color='green'), showlegend=False),\n",
        "            row=2, col=1\n",
        "        )\n",
        "\n",
        "fig.add_hline(y=30, line_dash=\"dash\", line_color=\"blue\", row=2, col=1, name=\"RSI 30\")\n",
        "fig.add_hline(y=70, line_dash=\"dash\", line_color=\"red\", row=2, col=1, name=\"RSI 70\")\n",
        "\n",
        "fig.update_layout(title=\"TSLA Stock Price and RSI (Last 14 days)\",\n",
        "                  xaxis_rangeslider_visible=False,\n",
        "                  yaxis2=dict(title=\"RSI\", range=[0, 100]))\n",
        "\n",
        "fig.show()\n",
        "\n"
      ],
      "metadata": {
        "colab": {
          "base_uri": "https://localhost:8080/",
          "height": 542
        },
        "id": "MrOyUH60GHpu",
        "outputId": "eb60e568-e3f6-46c7-f46e-a75a71dce138"
      },
      "execution_count": 81,
      "outputs": [
        {
          "output_type": "display_data",
          "data": {
            "text/html": [
              "<html>\n",
              "<head><meta charset=\"utf-8\" /></head>\n",
              "<body>\n",
              "    <div>            <script src=\"https://cdnjs.cloudflare.com/ajax/libs/mathjax/2.7.5/MathJax.js?config=TeX-AMS-MML_SVG\"></script><script type=\"text/javascript\">if (window.MathJax && window.MathJax.Hub && window.MathJax.Hub.Config) {window.MathJax.Hub.Config({SVG: {font: \"STIX-Web\"}});}</script>                <script type=\"text/javascript\">window.PlotlyConfig = {MathJaxConfig: 'local'};</script>\n",
              "        <script charset=\"utf-8\" src=\"https://cdn.plot.ly/plotly-2.24.1.min.js\"></script>                <div id=\"aead7fe7-fcf3-4445-a02f-42431003552a\" class=\"plotly-graph-div\" style=\"height:525px; width:100%;\"></div>            <script type=\"text/javascript\">                                    window.PLOTLYENV=window.PLOTLYENV || {};                                    if (document.getElementById(\"aead7fe7-fcf3-4445-a02f-42431003552a\")) {                    Plotly.newPlot(                        \"aead7fe7-fcf3-4445-a02f-42431003552a\",                        [{\"close\":[108.0999984741211],\"decreasing\":{\"fillcolor\":\"red\",\"line\":{\"color\":\"red\"}},\"high\":[118.80000305175781],\"increasing\":{\"fillcolor\":\"red\",\"line\":{\"color\":\"red\"}},\"low\":[104.63999938964844],\"open\":[118.47000122070312],\"showlegend\":false,\"x\":[\"2023-01-03T00:00:00\"],\"type\":\"candlestick\",\"xaxis\":\"x\",\"yaxis\":\"y\"},{\"close\":[113.63999938964844],\"decreasing\":{\"fillcolor\":\"rgba(255, 0, 0, 0)\",\"line\":{\"color\":\"green\"}},\"high\":[114.58999633789062],\"increasing\":{\"fillcolor\":\"rgba(255, 0, 0, 0)\",\"line\":{\"color\":\"green\"}},\"low\":[107.5199966430664],\"open\":[109.11000061035156],\"showlegend\":false,\"x\":[\"2023-01-04T00:00:00\"],\"type\":\"candlestick\",\"xaxis\":\"x\",\"yaxis\":\"y\"},{\"close\":[110.33999633789062],\"decreasing\":{\"fillcolor\":\"red\",\"line\":{\"color\":\"red\"}},\"high\":[111.75],\"increasing\":{\"fillcolor\":\"red\",\"line\":{\"color\":\"red\"}},\"low\":[107.16000366210938],\"open\":[110.51000213623047],\"showlegend\":false,\"x\":[\"2023-01-05T00:00:00\"],\"type\":\"candlestick\",\"xaxis\":\"x\",\"yaxis\":\"y\"},{\"close\":[113.05999755859375],\"decreasing\":{\"fillcolor\":\"rgba(255, 0, 0, 0)\",\"line\":{\"color\":\"green\"}},\"high\":[114.38999938964844],\"increasing\":{\"fillcolor\":\"rgba(255, 0, 0, 0)\",\"line\":{\"color\":\"green\"}},\"low\":[101.80999755859375],\"open\":[103.0],\"showlegend\":false,\"x\":[\"2023-01-06T00:00:00\"],\"type\":\"candlestick\",\"xaxis\":\"x\",\"yaxis\":\"y\"},{\"close\":[113.05999755859375],\"decreasing\":{\"fillcolor\":\"rgba(0, 0, 0, 0)\",\"line\":{\"color\":\"gray\"}},\"high\":[114.38999938964844],\"increasing\":{\"fillcolor\":\"rgba(0, 0, 0, 0)\",\"line\":{\"color\":\"gray\"}},\"low\":[101.80999755859375],\"open\":[103.0],\"showlegend\":false,\"x\":[\"2023-01-07T00:00:00\"],\"type\":\"candlestick\",\"xaxis\":\"x\",\"yaxis\":\"y\"},{\"close\":[113.05999755859375],\"decreasing\":{\"fillcolor\":\"rgba(0, 0, 0, 0)\",\"line\":{\"color\":\"gray\"}},\"high\":[114.38999938964844],\"increasing\":{\"fillcolor\":\"rgba(0, 0, 0, 0)\",\"line\":{\"color\":\"gray\"}},\"low\":[101.80999755859375],\"open\":[103.0],\"showlegend\":false,\"x\":[\"2023-01-08T00:00:00\"],\"type\":\"candlestick\",\"xaxis\":\"x\",\"yaxis\":\"y\"},{\"close\":[119.7699966430664],\"decreasing\":{\"fillcolor\":\"rgba(255, 0, 0, 0)\",\"line\":{\"color\":\"green\"}},\"high\":[123.5199966430664],\"increasing\":{\"fillcolor\":\"rgba(255, 0, 0, 0)\",\"line\":{\"color\":\"green\"}},\"low\":[117.11000061035156],\"open\":[118.95999908447266],\"showlegend\":false,\"x\":[\"2023-01-09T00:00:00\"],\"type\":\"candlestick\",\"xaxis\":\"x\",\"yaxis\":\"y\"},{\"close\":[118.8499984741211],\"decreasing\":{\"fillcolor\":\"red\",\"line\":{\"color\":\"red\"}},\"high\":[122.76000213623047],\"increasing\":{\"fillcolor\":\"red\",\"line\":{\"color\":\"red\"}},\"low\":[114.91999816894531],\"open\":[121.06999969482422],\"showlegend\":false,\"x\":[\"2023-01-10T00:00:00\"],\"type\":\"candlestick\",\"xaxis\":\"x\",\"yaxis\":\"y\"},{\"close\":[123.22000122070312],\"decreasing\":{\"fillcolor\":\"rgba(255, 0, 0, 0)\",\"line\":{\"color\":\"green\"}},\"high\":[125.94999694824219],\"increasing\":{\"fillcolor\":\"rgba(255, 0, 0, 0)\",\"line\":{\"color\":\"green\"}},\"low\":[120.51000213623047],\"open\":[122.08999633789062],\"showlegend\":false,\"x\":[\"2023-01-11T00:00:00\"],\"type\":\"candlestick\",\"xaxis\":\"x\",\"yaxis\":\"y\"},{\"close\":[123.55999755859375],\"decreasing\":{\"fillcolor\":\"rgba(255, 0, 0, 0)\",\"line\":{\"color\":\"green\"}},\"high\":[124.12999725341797],\"increasing\":{\"fillcolor\":\"rgba(255, 0, 0, 0)\",\"line\":{\"color\":\"green\"}},\"low\":[117.0],\"open\":[122.55999755859375],\"showlegend\":false,\"x\":[\"2023-01-12T00:00:00\"],\"type\":\"candlestick\",\"xaxis\":\"x\",\"yaxis\":\"y\"},{\"close\":[122.4000015258789],\"decreasing\":{\"fillcolor\":\"rgba(255, 0, 0, 0)\",\"line\":{\"color\":\"red\"}},\"high\":[122.62999725341797],\"increasing\":{\"fillcolor\":\"rgba(255, 0, 0, 0)\",\"line\":{\"color\":\"red\"}},\"low\":[115.5999984741211],\"open\":[116.55000305175781],\"showlegend\":false,\"x\":[\"2023-01-13T00:00:00\"],\"type\":\"candlestick\",\"xaxis\":\"x\",\"yaxis\":\"y\"},{\"close\":[122.4000015258789],\"decreasing\":{\"fillcolor\":\"rgba(0, 0, 0, 0)\",\"line\":{\"color\":\"gray\"}},\"high\":[122.62999725341797],\"increasing\":{\"fillcolor\":\"rgba(0, 0, 0, 0)\",\"line\":{\"color\":\"gray\"}},\"low\":[115.5999984741211],\"open\":[116.55000305175781],\"showlegend\":false,\"x\":[\"2023-01-14T00:00:00\"],\"type\":\"candlestick\",\"xaxis\":\"x\",\"yaxis\":\"y\"},{\"close\":[122.4000015258789],\"decreasing\":{\"fillcolor\":\"rgba(0, 0, 0, 0)\",\"line\":{\"color\":\"gray\"}},\"high\":[122.62999725341797],\"increasing\":{\"fillcolor\":\"rgba(0, 0, 0, 0)\",\"line\":{\"color\":\"gray\"}},\"low\":[115.5999984741211],\"open\":[116.55000305175781],\"showlegend\":false,\"x\":[\"2023-01-15T00:00:00\"],\"type\":\"candlestick\",\"xaxis\":\"x\",\"yaxis\":\"y\"},{\"close\":[122.4000015258789],\"decreasing\":{\"fillcolor\":\"rgba(0, 0, 0, 0)\",\"line\":{\"color\":\"gray\"}},\"high\":[122.62999725341797],\"increasing\":{\"fillcolor\":\"rgba(0, 0, 0, 0)\",\"line\":{\"color\":\"gray\"}},\"low\":[115.5999984741211],\"open\":[116.55000305175781],\"showlegend\":false,\"x\":[\"2023-01-16T00:00:00\"],\"type\":\"candlestick\",\"xaxis\":\"x\",\"yaxis\":\"y\"},{\"close\":[131.49000549316406],\"decreasing\":{\"fillcolor\":\"rgba(255, 0, 0, 0)\",\"line\":{\"color\":\"green\"}},\"high\":[131.6999969482422],\"increasing\":{\"fillcolor\":\"rgba(255, 0, 0, 0)\",\"line\":{\"color\":\"green\"}},\"low\":[125.0199966430664],\"open\":[125.69999694824219],\"showlegend\":false,\"x\":[\"2023-01-17T00:00:00\"],\"type\":\"candlestick\",\"xaxis\":\"x\",\"yaxis\":\"y\"},{\"close\":[128.77999877929688],\"decreasing\":{\"fillcolor\":\"red\",\"line\":{\"color\":\"red\"}},\"high\":[136.67999267578125],\"increasing\":{\"fillcolor\":\"red\",\"line\":{\"color\":\"red\"}},\"low\":[127.01000213623047],\"open\":[136.55999755859375],\"showlegend\":false,\"x\":[\"2023-01-18T00:00:00\"],\"type\":\"candlestick\",\"xaxis\":\"x\",\"yaxis\":\"y\"},{\"close\":[127.16999816894531],\"decreasing\":{\"fillcolor\":\"red\",\"line\":{\"color\":\"red\"}},\"high\":[129.99000549316406],\"increasing\":{\"fillcolor\":\"red\",\"line\":{\"color\":\"red\"}},\"low\":[124.30999755859375],\"open\":[127.26000213623047],\"showlegend\":false,\"x\":[\"2023-01-19T00:00:00\"],\"type\":\"candlestick\",\"xaxis\":\"x\",\"yaxis\":\"y\"},{\"close\":[133.4199981689453],\"decreasing\":{\"fillcolor\":\"rgba(255, 0, 0, 0)\",\"line\":{\"color\":\"green\"}},\"high\":[133.50999450683594],\"increasing\":{\"fillcolor\":\"rgba(255, 0, 0, 0)\",\"line\":{\"color\":\"green\"}},\"low\":[127.3499984741211],\"open\":[128.67999267578125],\"showlegend\":false,\"x\":[\"2023-01-20T00:00:00\"],\"type\":\"candlestick\",\"xaxis\":\"x\",\"yaxis\":\"y\"},{\"close\":[133.4199981689453],\"decreasing\":{\"fillcolor\":\"rgba(0, 0, 0, 0)\",\"line\":{\"color\":\"gray\"}},\"high\":[133.50999450683594],\"increasing\":{\"fillcolor\":\"rgba(0, 0, 0, 0)\",\"line\":{\"color\":\"gray\"}},\"low\":[127.3499984741211],\"open\":[128.67999267578125],\"showlegend\":false,\"x\":[\"2023-01-21T00:00:00\"],\"type\":\"candlestick\",\"xaxis\":\"x\",\"yaxis\":\"y\"},{\"close\":[133.4199981689453],\"decreasing\":{\"fillcolor\":\"rgba(0, 0, 0, 0)\",\"line\":{\"color\":\"gray\"}},\"high\":[133.50999450683594],\"increasing\":{\"fillcolor\":\"rgba(0, 0, 0, 0)\",\"line\":{\"color\":\"gray\"}},\"low\":[127.3499984741211],\"open\":[128.67999267578125],\"showlegend\":false,\"x\":[\"2023-01-22T00:00:00\"],\"type\":\"candlestick\",\"xaxis\":\"x\",\"yaxis\":\"y\"},{\"close\":[143.75],\"decreasing\":{\"fillcolor\":\"rgba(255, 0, 0, 0)\",\"line\":{\"color\":\"green\"}},\"high\":[145.3800048828125],\"increasing\":{\"fillcolor\":\"rgba(255, 0, 0, 0)\",\"line\":{\"color\":\"green\"}},\"low\":[134.27000427246094],\"open\":[135.8699951171875],\"showlegend\":false,\"x\":[\"2023-01-23T00:00:00\"],\"type\":\"candlestick\",\"xaxis\":\"x\",\"yaxis\":\"y\"},{\"close\":[143.88999938964844],\"decreasing\":{\"fillcolor\":\"rgba(255, 0, 0, 0)\",\"line\":{\"color\":\"green\"}},\"high\":[146.5],\"increasing\":{\"fillcolor\":\"rgba(255, 0, 0, 0)\",\"line\":{\"color\":\"green\"}},\"low\":[141.10000610351562],\"open\":[143.0],\"showlegend\":false,\"x\":[\"2023-01-24T00:00:00\"],\"type\":\"candlestick\",\"xaxis\":\"x\",\"yaxis\":\"y\"},{\"close\":[144.42999267578125],\"decreasing\":{\"fillcolor\":\"rgba(255, 0, 0, 0)\",\"line\":{\"color\":\"green\"}},\"high\":[146.41000366210938],\"increasing\":{\"fillcolor\":\"rgba(255, 0, 0, 0)\",\"line\":{\"color\":\"green\"}},\"low\":[138.07000732421875],\"open\":[141.91000366210938],\"showlegend\":false,\"x\":[\"2023-01-25T00:00:00\"],\"type\":\"candlestick\",\"xaxis\":\"x\",\"yaxis\":\"y\"},{\"close\":[160.27000427246094],\"decreasing\":{\"fillcolor\":\"rgba(255, 0, 0, 0)\",\"line\":{\"color\":\"green\"}},\"high\":[161.4199981689453],\"increasing\":{\"fillcolor\":\"rgba(255, 0, 0, 0)\",\"line\":{\"color\":\"green\"}},\"low\":[154.75999450683594],\"open\":[159.97000122070312],\"showlegend\":false,\"x\":[\"2023-01-26T00:00:00\"],\"type\":\"candlestick\",\"xaxis\":\"x\",\"yaxis\":\"y\"},{\"close\":[177.89999389648438],\"decreasing\":{\"fillcolor\":\"rgba(255, 0, 0, 0)\",\"line\":{\"color\":\"green\"}},\"high\":[180.67999267578125],\"increasing\":{\"fillcolor\":\"rgba(255, 0, 0, 0)\",\"line\":{\"color\":\"green\"}},\"low\":[161.1699981689453],\"open\":[162.42999267578125],\"showlegend\":false,\"x\":[\"2023-01-27T00:00:00\"],\"type\":\"candlestick\",\"xaxis\":\"x\",\"yaxis\":\"y\"},{\"close\":[177.89999389648438],\"decreasing\":{\"fillcolor\":\"rgba(0, 0, 0, 0)\",\"line\":{\"color\":\"gray\"}},\"high\":[180.67999267578125],\"increasing\":{\"fillcolor\":\"rgba(0, 0, 0, 0)\",\"line\":{\"color\":\"gray\"}},\"low\":[161.1699981689453],\"open\":[162.42999267578125],\"showlegend\":false,\"x\":[\"2023-01-28T00:00:00\"],\"type\":\"candlestick\",\"xaxis\":\"x\",\"yaxis\":\"y\"},{\"close\":[177.89999389648438],\"decreasing\":{\"fillcolor\":\"rgba(0, 0, 0, 0)\",\"line\":{\"color\":\"gray\"}},\"high\":[180.67999267578125],\"increasing\":{\"fillcolor\":\"rgba(0, 0, 0, 0)\",\"line\":{\"color\":\"gray\"}},\"low\":[161.1699981689453],\"open\":[162.42999267578125],\"showlegend\":false,\"x\":[\"2023-01-29T00:00:00\"],\"type\":\"candlestick\",\"xaxis\":\"x\",\"yaxis\":\"y\"},{\"close\":[166.66000366210938],\"decreasing\":{\"fillcolor\":\"red\",\"line\":{\"color\":\"red\"}},\"high\":[179.77000427246094],\"increasing\":{\"fillcolor\":\"red\",\"line\":{\"color\":\"red\"}},\"low\":[166.5],\"open\":[178.0500030517578],\"showlegend\":false,\"x\":[\"2023-01-30T00:00:00\"],\"type\":\"candlestick\",\"xaxis\":\"x\",\"yaxis\":\"y\"},{\"close\":[173.22000122070312],\"decreasing\":{\"fillcolor\":\"rgba(255, 0, 0, 0)\",\"line\":{\"color\":\"green\"}},\"high\":[174.3000030517578],\"increasing\":{\"fillcolor\":\"rgba(255, 0, 0, 0)\",\"line\":{\"color\":\"green\"}},\"low\":[162.77999877929688],\"open\":[164.57000732421875],\"showlegend\":false,\"x\":[\"2023-01-31T00:00:00\"],\"type\":\"candlestick\",\"xaxis\":\"x\",\"yaxis\":\"y\"},{\"close\":[181.41000366210938],\"decreasing\":{\"fillcolor\":\"rgba(255, 0, 0, 0)\",\"line\":{\"color\":\"green\"}},\"high\":[183.80999755859375],\"increasing\":{\"fillcolor\":\"rgba(255, 0, 0, 0)\",\"line\":{\"color\":\"green\"}},\"low\":[169.92999267578125],\"open\":[173.88999938964844],\"showlegend\":false,\"x\":[\"2023-02-01T00:00:00\"],\"type\":\"candlestick\",\"xaxis\":\"x\",\"yaxis\":\"y\"},{\"close\":[188.27000427246094],\"decreasing\":{\"fillcolor\":\"rgba(255, 0, 0, 0)\",\"line\":{\"color\":\"green\"}},\"high\":[196.75],\"increasing\":{\"fillcolor\":\"rgba(255, 0, 0, 0)\",\"line\":{\"color\":\"green\"}},\"low\":[182.61000061035156],\"open\":[187.3300018310547],\"showlegend\":false,\"x\":[\"2023-02-02T00:00:00\"],\"type\":\"candlestick\",\"xaxis\":\"x\",\"yaxis\":\"y\"},{\"close\":[189.97999572753906],\"decreasing\":{\"fillcolor\":\"rgba(255, 0, 0, 0)\",\"line\":{\"color\":\"green\"}},\"high\":[199.0],\"increasing\":{\"fillcolor\":\"rgba(255, 0, 0, 0)\",\"line\":{\"color\":\"green\"}},\"low\":[183.69000244140625],\"open\":[183.9499969482422],\"showlegend\":false,\"x\":[\"2023-02-03T00:00:00\"],\"type\":\"candlestick\",\"xaxis\":\"x\",\"yaxis\":\"y\"},{\"close\":[189.97999572753906],\"decreasing\":{\"fillcolor\":\"rgba(0, 0, 0, 0)\",\"line\":{\"color\":\"gray\"}},\"high\":[199.0],\"increasing\":{\"fillcolor\":\"rgba(0, 0, 0, 0)\",\"line\":{\"color\":\"gray\"}},\"low\":[183.69000244140625],\"open\":[183.9499969482422],\"showlegend\":false,\"x\":[\"2023-02-04T00:00:00\"],\"type\":\"candlestick\",\"xaxis\":\"x\",\"yaxis\":\"y\"},{\"close\":[189.97999572753906],\"decreasing\":{\"fillcolor\":\"rgba(0, 0, 0, 0)\",\"line\":{\"color\":\"gray\"}},\"high\":[199.0],\"increasing\":{\"fillcolor\":\"rgba(0, 0, 0, 0)\",\"line\":{\"color\":\"gray\"}},\"low\":[183.69000244140625],\"open\":[183.9499969482422],\"showlegend\":false,\"x\":[\"2023-02-05T00:00:00\"],\"type\":\"candlestick\",\"xaxis\":\"x\",\"yaxis\":\"y\"},{\"close\":[194.75999450683594],\"decreasing\":{\"fillcolor\":\"rgba(255, 0, 0, 0)\",\"line\":{\"color\":\"green\"}},\"high\":[198.1699981689453],\"increasing\":{\"fillcolor\":\"rgba(255, 0, 0, 0)\",\"line\":{\"color\":\"green\"}},\"low\":[189.9199981689453],\"open\":[193.00999450683594],\"showlegend\":false,\"x\":[\"2023-02-06T00:00:00\"],\"type\":\"candlestick\",\"xaxis\":\"x\",\"yaxis\":\"y\"},{\"close\":[196.80999755859375],\"decreasing\":{\"fillcolor\":\"rgba(255, 0, 0, 0)\",\"line\":{\"color\":\"green\"}},\"high\":[197.5],\"increasing\":{\"fillcolor\":\"rgba(255, 0, 0, 0)\",\"line\":{\"color\":\"green\"}},\"low\":[189.5500030517578],\"open\":[196.42999267578125],\"showlegend\":false,\"x\":[\"2023-02-07T00:00:00\"],\"type\":\"candlestick\",\"xaxis\":\"x\",\"yaxis\":\"y\"},{\"close\":[201.2899932861328],\"decreasing\":{\"fillcolor\":\"rgba(255, 0, 0, 0)\",\"line\":{\"color\":\"green\"}},\"high\":[203.0],\"increasing\":{\"fillcolor\":\"rgba(255, 0, 0, 0)\",\"line\":{\"color\":\"green\"}},\"low\":[194.30999755859375],\"open\":[196.10000610351562],\"showlegend\":false,\"x\":[\"2023-02-08T00:00:00\"],\"type\":\"candlestick\",\"xaxis\":\"x\",\"yaxis\":\"y\"},{\"close\":[207.32000732421875],\"decreasing\":{\"fillcolor\":\"green\",\"line\":{\"color\":\"green\"}},\"high\":[214.0],\"increasing\":{\"fillcolor\":\"green\",\"line\":{\"color\":\"green\"}},\"low\":[204.77000427246094],\"open\":[207.77999877929688],\"showlegend\":false,\"x\":[\"2023-02-09T00:00:00\"],\"type\":\"candlestick\",\"xaxis\":\"x\",\"yaxis\":\"y\"},{\"close\":[196.88999938964844],\"decreasing\":{\"fillcolor\":\"red\",\"line\":{\"color\":\"red\"}},\"high\":[206.1999969482422],\"increasing\":{\"fillcolor\":\"red\",\"line\":{\"color\":\"red\"}},\"low\":[192.88999938964844],\"open\":[202.22999572753906],\"showlegend\":false,\"x\":[\"2023-02-10T00:00:00\"],\"type\":\"candlestick\",\"xaxis\":\"x\",\"yaxis\":\"y\"},{\"close\":[196.88999938964844],\"decreasing\":{\"fillcolor\":\"rgba(0, 0, 0, 0)\",\"line\":{\"color\":\"gray\"}},\"high\":[206.1999969482422],\"increasing\":{\"fillcolor\":\"rgba(0, 0, 0, 0)\",\"line\":{\"color\":\"gray\"}},\"low\":[192.88999938964844],\"open\":[202.22999572753906],\"showlegend\":false,\"x\":[\"2023-02-11T00:00:00\"],\"type\":\"candlestick\",\"xaxis\":\"x\",\"yaxis\":\"y\"},{\"close\":[196.88999938964844],\"decreasing\":{\"fillcolor\":\"rgba(0, 0, 0, 0)\",\"line\":{\"color\":\"gray\"}},\"high\":[206.1999969482422],\"increasing\":{\"fillcolor\":\"rgba(0, 0, 0, 0)\",\"line\":{\"color\":\"gray\"}},\"low\":[192.88999938964844],\"open\":[202.22999572753906],\"showlegend\":false,\"x\":[\"2023-02-12T00:00:00\"],\"type\":\"candlestick\",\"xaxis\":\"x\",\"yaxis\":\"y\"},{\"close\":[194.63999938964844],\"decreasing\":{\"fillcolor\":\"rgba(255, 0, 0, 0)\",\"line\":{\"color\":\"red\"}},\"high\":[196.3000030517578],\"increasing\":{\"fillcolor\":\"rgba(255, 0, 0, 0)\",\"line\":{\"color\":\"red\"}},\"low\":[187.61000061035156],\"open\":[194.4199981689453],\"showlegend\":false,\"x\":[\"2023-02-13T00:00:00\"],\"type\":\"candlestick\",\"xaxis\":\"x\",\"yaxis\":\"y\"},{\"close\":[209.25],\"decreasing\":{\"fillcolor\":\"rgba(255, 0, 0, 0)\",\"line\":{\"color\":\"green\"}},\"high\":[209.82000732421875],\"increasing\":{\"fillcolor\":\"rgba(255, 0, 0, 0)\",\"line\":{\"color\":\"green\"}},\"low\":[189.44000244140625],\"open\":[191.94000244140625],\"showlegend\":false,\"x\":[\"2023-02-14T00:00:00\"],\"type\":\"candlestick\",\"xaxis\":\"x\",\"yaxis\":\"y\"},{\"close\":[214.24000549316406],\"decreasing\":{\"fillcolor\":\"rgba(255, 0, 0, 0)\",\"line\":{\"color\":\"green\"}},\"high\":[214.66000366210938],\"increasing\":{\"fillcolor\":\"rgba(255, 0, 0, 0)\",\"line\":{\"color\":\"green\"}},\"low\":[206.11000061035156],\"open\":[211.75999450683594],\"showlegend\":false,\"x\":[\"2023-02-15T00:00:00\"],\"type\":\"candlestick\",\"xaxis\":\"x\",\"yaxis\":\"y\"},{\"close\":[202.0399932861328],\"decreasing\":{\"fillcolor\":\"red\",\"line\":{\"color\":\"red\"}},\"high\":[217.64999389648438],\"increasing\":{\"fillcolor\":\"red\",\"line\":{\"color\":\"red\"}},\"low\":[201.83999633789062],\"open\":[210.77999877929688],\"showlegend\":false,\"x\":[\"2023-02-16T00:00:00\"],\"type\":\"candlestick\",\"xaxis\":\"x\",\"yaxis\":\"y\"},{\"close\":[208.30999755859375],\"decreasing\":{\"fillcolor\":\"rgba(255, 0, 0, 0)\",\"line\":{\"color\":\"green\"}},\"high\":[208.44000244140625],\"increasing\":{\"fillcolor\":\"rgba(255, 0, 0, 0)\",\"line\":{\"color\":\"green\"}},\"low\":[197.5],\"open\":[199.99000549316406],\"showlegend\":false,\"x\":[\"2023-02-17T00:00:00\"],\"type\":\"candlestick\",\"xaxis\":\"x\",\"yaxis\":\"y\"},{\"close\":[208.30999755859375],\"decreasing\":{\"fillcolor\":\"rgba(0, 0, 0, 0)\",\"line\":{\"color\":\"gray\"}},\"high\":[208.44000244140625],\"increasing\":{\"fillcolor\":\"rgba(0, 0, 0, 0)\",\"line\":{\"color\":\"gray\"}},\"low\":[197.5],\"open\":[199.99000549316406],\"showlegend\":false,\"x\":[\"2023-02-18T00:00:00\"],\"type\":\"candlestick\",\"xaxis\":\"x\",\"yaxis\":\"y\"},{\"close\":[208.30999755859375],\"decreasing\":{\"fillcolor\":\"rgba(0, 0, 0, 0)\",\"line\":{\"color\":\"gray\"}},\"high\":[208.44000244140625],\"increasing\":{\"fillcolor\":\"rgba(0, 0, 0, 0)\",\"line\":{\"color\":\"gray\"}},\"low\":[197.5],\"open\":[199.99000549316406],\"showlegend\":false,\"x\":[\"2023-02-19T00:00:00\"],\"type\":\"candlestick\",\"xaxis\":\"x\",\"yaxis\":\"y\"},{\"close\":[208.30999755859375],\"decreasing\":{\"fillcolor\":\"rgba(0, 0, 0, 0)\",\"line\":{\"color\":\"gray\"}},\"high\":[208.44000244140625],\"increasing\":{\"fillcolor\":\"rgba(0, 0, 0, 0)\",\"line\":{\"color\":\"gray\"}},\"low\":[197.5],\"open\":[199.99000549316406],\"showlegend\":false,\"x\":[\"2023-02-20T00:00:00\"],\"type\":\"candlestick\",\"xaxis\":\"x\",\"yaxis\":\"y\"},{\"close\":[197.3699951171875],\"decreasing\":{\"fillcolor\":\"red\",\"line\":{\"color\":\"red\"}},\"high\":[209.7100067138672],\"increasing\":{\"fillcolor\":\"red\",\"line\":{\"color\":\"red\"}},\"low\":[197.22000122070312],\"open\":[204.99000549316406],\"showlegend\":false,\"x\":[\"2023-02-21T00:00:00\"],\"type\":\"candlestick\",\"xaxis\":\"x\",\"yaxis\":\"y\"},{\"close\":[200.86000061035156],\"decreasing\":{\"fillcolor\":\"rgba(255, 0, 0, 0)\",\"line\":{\"color\":\"green\"}},\"high\":[201.99000549316406],\"increasing\":{\"fillcolor\":\"rgba(255, 0, 0, 0)\",\"line\":{\"color\":\"green\"}},\"low\":[191.77999877929688],\"open\":[197.92999267578125],\"showlegend\":false,\"x\":[\"2023-02-22T00:00:00\"],\"type\":\"candlestick\",\"xaxis\":\"x\",\"yaxis\":\"y\"},{\"close\":[202.07000732421875],\"decreasing\":{\"fillcolor\":\"green\",\"line\":{\"color\":\"green\"}},\"high\":[205.13999938964844],\"increasing\":{\"fillcolor\":\"green\",\"line\":{\"color\":\"green\"}},\"low\":[196.3300018310547],\"open\":[203.91000366210938],\"showlegend\":false,\"x\":[\"2023-02-23T00:00:00\"],\"type\":\"candlestick\",\"xaxis\":\"x\",\"yaxis\":\"y\"},{\"close\":[196.8800048828125],\"decreasing\":{\"fillcolor\":\"rgba(255, 0, 0, 0)\",\"line\":{\"color\":\"red\"}},\"high\":[197.6699981689453],\"increasing\":{\"fillcolor\":\"rgba(255, 0, 0, 0)\",\"line\":{\"color\":\"red\"}},\"low\":[192.8000030517578],\"open\":[196.3300018310547],\"showlegend\":false,\"x\":[\"2023-02-24T00:00:00\"],\"type\":\"candlestick\",\"xaxis\":\"x\",\"yaxis\":\"y\"},{\"close\":[196.8800048828125],\"decreasing\":{\"fillcolor\":\"rgba(0, 0, 0, 0)\",\"line\":{\"color\":\"gray\"}},\"high\":[197.6699981689453],\"increasing\":{\"fillcolor\":\"rgba(0, 0, 0, 0)\",\"line\":{\"color\":\"gray\"}},\"low\":[192.8000030517578],\"open\":[196.3300018310547],\"showlegend\":false,\"x\":[\"2023-02-25T00:00:00\"],\"type\":\"candlestick\",\"xaxis\":\"x\",\"yaxis\":\"y\"},{\"close\":[196.8800048828125],\"decreasing\":{\"fillcolor\":\"rgba(0, 0, 0, 0)\",\"line\":{\"color\":\"gray\"}},\"high\":[197.6699981689453],\"increasing\":{\"fillcolor\":\"rgba(0, 0, 0, 0)\",\"line\":{\"color\":\"gray\"}},\"low\":[192.8000030517578],\"open\":[196.3300018310547],\"showlegend\":false,\"x\":[\"2023-02-26T00:00:00\"],\"type\":\"candlestick\",\"xaxis\":\"x\",\"yaxis\":\"y\"},{\"close\":[207.6300048828125],\"decreasing\":{\"fillcolor\":\"rgba(255, 0, 0, 0)\",\"line\":{\"color\":\"green\"}},\"high\":[209.4199981689453],\"increasing\":{\"fillcolor\":\"rgba(255, 0, 0, 0)\",\"line\":{\"color\":\"green\"}},\"low\":[201.25999450683594],\"open\":[202.02999877929688],\"showlegend\":false,\"x\":[\"2023-02-27T00:00:00\"],\"type\":\"candlestick\",\"xaxis\":\"x\",\"yaxis\":\"y\"},{\"close\":[205.7100067138672],\"decreasing\":{\"fillcolor\":\"red\",\"line\":{\"color\":\"red\"}},\"high\":[211.22999572753906],\"increasing\":{\"fillcolor\":\"red\",\"line\":{\"color\":\"red\"}},\"low\":[203.75],\"open\":[210.58999633789062],\"showlegend\":false,\"x\":[\"2023-02-28T00:00:00\"],\"type\":\"candlestick\",\"xaxis\":\"x\",\"yaxis\":\"y\"},{\"close\":[202.77000427246094],\"decreasing\":{\"fillcolor\":\"red\",\"line\":{\"color\":\"red\"}},\"high\":[207.1999969482422],\"increasing\":{\"fillcolor\":\"red\",\"line\":{\"color\":\"red\"}},\"low\":[198.52000427246094],\"open\":[206.2100067138672],\"showlegend\":false,\"x\":[\"2023-03-01T00:00:00\"],\"type\":\"candlestick\",\"xaxis\":\"x\",\"yaxis\":\"y\"},{\"close\":[190.89999389648438],\"decreasing\":{\"fillcolor\":\"rgba(255, 0, 0, 0)\",\"line\":{\"color\":\"red\"}},\"high\":[193.75],\"increasing\":{\"fillcolor\":\"rgba(255, 0, 0, 0)\",\"line\":{\"color\":\"red\"}},\"low\":[186.00999450683594],\"open\":[186.74000549316406],\"showlegend\":false,\"x\":[\"2023-03-02T00:00:00\"],\"type\":\"candlestick\",\"xaxis\":\"x\",\"yaxis\":\"y\"},{\"close\":[197.7899932861328],\"decreasing\":{\"fillcolor\":\"rgba(255, 0, 0, 0)\",\"line\":{\"color\":\"green\"}},\"high\":[200.47999572753906],\"increasing\":{\"fillcolor\":\"rgba(255, 0, 0, 0)\",\"line\":{\"color\":\"green\"}},\"low\":[192.8800048828125],\"open\":[194.8000030517578],\"showlegend\":false,\"x\":[\"2023-03-03T00:00:00\"],\"type\":\"candlestick\",\"xaxis\":\"x\",\"yaxis\":\"y\"},{\"close\":[197.7899932861328],\"decreasing\":{\"fillcolor\":\"rgba(0, 0, 0, 0)\",\"line\":{\"color\":\"gray\"}},\"high\":[200.47999572753906],\"increasing\":{\"fillcolor\":\"rgba(0, 0, 0, 0)\",\"line\":{\"color\":\"gray\"}},\"low\":[192.8800048828125],\"open\":[194.8000030517578],\"showlegend\":false,\"x\":[\"2023-03-04T00:00:00\"],\"type\":\"candlestick\",\"xaxis\":\"x\",\"yaxis\":\"y\"},{\"close\":[197.7899932861328],\"decreasing\":{\"fillcolor\":\"rgba(0, 0, 0, 0)\",\"line\":{\"color\":\"gray\"}},\"high\":[200.47999572753906],\"increasing\":{\"fillcolor\":\"rgba(0, 0, 0, 0)\",\"line\":{\"color\":\"gray\"}},\"low\":[192.8800048828125],\"open\":[194.8000030517578],\"showlegend\":false,\"x\":[\"2023-03-05T00:00:00\"],\"type\":\"candlestick\",\"xaxis\":\"x\",\"yaxis\":\"y\"},{\"close\":[193.80999755859375],\"decreasing\":{\"fillcolor\":\"red\",\"line\":{\"color\":\"red\"}},\"high\":[198.60000610351562],\"increasing\":{\"fillcolor\":\"red\",\"line\":{\"color\":\"red\"}},\"low\":[192.3000030517578],\"open\":[198.5399932861328],\"showlegend\":false,\"x\":[\"2023-03-06T00:00:00\"],\"type\":\"candlestick\",\"xaxis\":\"x\",\"yaxis\":\"y\"},{\"close\":[187.7100067138672],\"decreasing\":{\"fillcolor\":\"red\",\"line\":{\"color\":\"red\"}},\"high\":[194.1999969482422],\"increasing\":{\"fillcolor\":\"red\",\"line\":{\"color\":\"red\"}},\"low\":[186.10000610351562],\"open\":[191.3800048828125],\"showlegend\":false,\"x\":[\"2023-03-07T00:00:00\"],\"type\":\"candlestick\",\"xaxis\":\"x\",\"yaxis\":\"y\"},{\"close\":[182.0],\"decreasing\":{\"fillcolor\":\"red\",\"line\":{\"color\":\"red\"}},\"high\":[186.5],\"increasing\":{\"fillcolor\":\"red\",\"line\":{\"color\":\"red\"}},\"low\":[180.0],\"open\":[185.0399932861328],\"showlegend\":false,\"x\":[\"2023-03-08T00:00:00\"],\"type\":\"candlestick\",\"xaxis\":\"x\",\"yaxis\":\"y\"},{\"close\":[172.9199981689453],\"decreasing\":{\"fillcolor\":\"red\",\"line\":{\"color\":\"red\"}},\"high\":[185.17999267578125],\"increasing\":{\"fillcolor\":\"red\",\"line\":{\"color\":\"red\"}},\"low\":[172.50999450683594],\"open\":[180.25],\"showlegend\":false,\"x\":[\"2023-03-09T00:00:00\"],\"type\":\"candlestick\",\"xaxis\":\"x\",\"yaxis\":\"y\"},{\"close\":[173.44000244140625],\"decreasing\":{\"fillcolor\":\"green\",\"line\":{\"color\":\"green\"}},\"high\":[178.2899932861328],\"increasing\":{\"fillcolor\":\"green\",\"line\":{\"color\":\"green\"}},\"low\":[168.44000244140625],\"open\":[175.1300048828125],\"showlegend\":false,\"x\":[\"2023-03-10T00:00:00\"],\"type\":\"candlestick\",\"xaxis\":\"x\",\"yaxis\":\"y\"},{\"close\":[173.44000244140625],\"decreasing\":{\"fillcolor\":\"rgba(0, 0, 0, 0)\",\"line\":{\"color\":\"gray\"}},\"high\":[178.2899932861328],\"increasing\":{\"fillcolor\":\"rgba(0, 0, 0, 0)\",\"line\":{\"color\":\"gray\"}},\"low\":[168.44000244140625],\"open\":[175.1300048828125],\"showlegend\":false,\"x\":[\"2023-03-11T00:00:00\"],\"type\":\"candlestick\",\"xaxis\":\"x\",\"yaxis\":\"y\"},{\"close\":[173.44000244140625],\"decreasing\":{\"fillcolor\":\"rgba(0, 0, 0, 0)\",\"line\":{\"color\":\"gray\"}},\"high\":[178.2899932861328],\"increasing\":{\"fillcolor\":\"rgba(0, 0, 0, 0)\",\"line\":{\"color\":\"gray\"}},\"low\":[168.44000244140625],\"open\":[175.1300048828125],\"showlegend\":false,\"x\":[\"2023-03-12T00:00:00\"],\"type\":\"candlestick\",\"xaxis\":\"x\",\"yaxis\":\"y\"},{\"close\":[174.47999572753906],\"decreasing\":{\"fillcolor\":\"rgba(255, 0, 0, 0)\",\"line\":{\"color\":\"green\"}},\"high\":[177.35000610351562],\"increasing\":{\"fillcolor\":\"rgba(255, 0, 0, 0)\",\"line\":{\"color\":\"green\"}},\"low\":[163.91000366210938],\"open\":[167.4600067138672],\"showlegend\":false,\"x\":[\"2023-03-13T00:00:00\"],\"type\":\"candlestick\",\"xaxis\":\"x\",\"yaxis\":\"y\"},{\"close\":[183.25999450683594],\"decreasing\":{\"fillcolor\":\"rgba(255, 0, 0, 0)\",\"line\":{\"color\":\"green\"}},\"high\":[183.8000030517578],\"increasing\":{\"fillcolor\":\"rgba(255, 0, 0, 0)\",\"line\":{\"color\":\"green\"}},\"low\":[177.13999938964844],\"open\":[177.30999755859375],\"showlegend\":false,\"x\":[\"2023-03-14T00:00:00\"],\"type\":\"candlestick\",\"xaxis\":\"x\",\"yaxis\":\"y\"},{\"close\":[180.4499969482422],\"decreasing\":{\"fillcolor\":\"red\",\"line\":{\"color\":\"red\"}},\"high\":[182.33999633789062],\"increasing\":{\"fillcolor\":\"red\",\"line\":{\"color\":\"red\"}},\"low\":[176.02999877929688],\"open\":[180.8000030517578],\"showlegend\":false,\"x\":[\"2023-03-15T00:00:00\"],\"type\":\"candlestick\",\"xaxis\":\"x\",\"yaxis\":\"y\"},{\"close\":[184.1300048828125],\"decreasing\":{\"fillcolor\":\"rgba(255, 0, 0, 0)\",\"line\":{\"color\":\"green\"}},\"high\":[185.80999755859375],\"increasing\":{\"fillcolor\":\"rgba(255, 0, 0, 0)\",\"line\":{\"color\":\"green\"}},\"low\":[178.83999633789062],\"open\":[180.3699951171875],\"showlegend\":false,\"x\":[\"2023-03-16T00:00:00\"],\"type\":\"candlestick\",\"xaxis\":\"x\",\"yaxis\":\"y\"},{\"close\":[180.1300048828125],\"decreasing\":{\"fillcolor\":\"red\",\"line\":{\"color\":\"red\"}},\"high\":[186.22000122070312],\"increasing\":{\"fillcolor\":\"red\",\"line\":{\"color\":\"red\"}},\"low\":[177.3300018310547],\"open\":[184.52000427246094],\"showlegend\":false,\"x\":[\"2023-03-17T00:00:00\"],\"type\":\"candlestick\",\"xaxis\":\"x\",\"yaxis\":\"y\"},{\"close\":[180.1300048828125],\"decreasing\":{\"fillcolor\":\"rgba(0, 0, 0, 0)\",\"line\":{\"color\":\"gray\"}},\"high\":[186.22000122070312],\"increasing\":{\"fillcolor\":\"rgba(0, 0, 0, 0)\",\"line\":{\"color\":\"gray\"}},\"low\":[177.3300018310547],\"open\":[184.52000427246094],\"showlegend\":false,\"x\":[\"2023-03-18T00:00:00\"],\"type\":\"candlestick\",\"xaxis\":\"x\",\"yaxis\":\"y\"},{\"close\":[180.1300048828125],\"decreasing\":{\"fillcolor\":\"rgba(0, 0, 0, 0)\",\"line\":{\"color\":\"gray\"}},\"high\":[186.22000122070312],\"increasing\":{\"fillcolor\":\"rgba(0, 0, 0, 0)\",\"line\":{\"color\":\"gray\"}},\"low\":[177.3300018310547],\"open\":[184.52000427246094],\"showlegend\":false,\"x\":[\"2023-03-19T00:00:00\"],\"type\":\"candlestick\",\"xaxis\":\"x\",\"yaxis\":\"y\"},{\"close\":[183.25],\"decreasing\":{\"fillcolor\":\"rgba(255, 0, 0, 0)\",\"line\":{\"color\":\"green\"}},\"high\":[186.44000244140625],\"increasing\":{\"fillcolor\":\"rgba(255, 0, 0, 0)\",\"line\":{\"color\":\"green\"}},\"low\":[176.35000610351562],\"open\":[178.0800018310547],\"showlegend\":false,\"x\":[\"2023-03-20T00:00:00\"],\"type\":\"candlestick\",\"xaxis\":\"x\",\"yaxis\":\"y\"},{\"close\":[197.5800018310547],\"decreasing\":{\"fillcolor\":\"rgba(255, 0, 0, 0)\",\"line\":{\"color\":\"green\"}},\"high\":[198.0],\"increasing\":{\"fillcolor\":\"rgba(255, 0, 0, 0)\",\"line\":{\"color\":\"green\"}},\"low\":[188.0399932861328],\"open\":[188.27999877929688],\"showlegend\":false,\"x\":[\"2023-03-21T00:00:00\"],\"type\":\"candlestick\",\"xaxis\":\"x\",\"yaxis\":\"y\"},{\"close\":[191.14999389648438],\"decreasing\":{\"fillcolor\":\"red\",\"line\":{\"color\":\"red\"}},\"high\":[200.66000366210938],\"increasing\":{\"fillcolor\":\"red\",\"line\":{\"color\":\"red\"}},\"low\":[190.9499969482422],\"open\":[199.3000030517578],\"showlegend\":false,\"x\":[\"2023-03-22T00:00:00\"],\"type\":\"candlestick\",\"xaxis\":\"x\",\"yaxis\":\"y\"},{\"close\":[192.22000122070312],\"decreasing\":{\"fillcolor\":\"green\",\"line\":{\"color\":\"green\"}},\"high\":[199.30999755859375],\"increasing\":{\"fillcolor\":\"green\",\"line\":{\"color\":\"green\"}},\"low\":[188.64999389648438],\"open\":[195.25999450683594],\"showlegend\":false,\"x\":[\"2023-03-23T00:00:00\"],\"type\":\"candlestick\",\"xaxis\":\"x\",\"yaxis\":\"y\"},{\"close\":[190.41000366210938],\"decreasing\":{\"fillcolor\":\"red\",\"line\":{\"color\":\"red\"}},\"high\":[192.36000061035156],\"increasing\":{\"fillcolor\":\"red\",\"line\":{\"color\":\"red\"}},\"low\":[187.14999389648438],\"open\":[191.64999389648438],\"showlegend\":false,\"x\":[\"2023-03-24T00:00:00\"],\"type\":\"candlestick\",\"xaxis\":\"x\",\"yaxis\":\"y\"},{\"close\":[190.41000366210938],\"decreasing\":{\"fillcolor\":\"rgba(0, 0, 0, 0)\",\"line\":{\"color\":\"gray\"}},\"high\":[192.36000061035156],\"increasing\":{\"fillcolor\":\"rgba(0, 0, 0, 0)\",\"line\":{\"color\":\"gray\"}},\"low\":[187.14999389648438],\"open\":[191.64999389648438],\"showlegend\":false,\"x\":[\"2023-03-25T00:00:00\"],\"type\":\"candlestick\",\"xaxis\":\"x\",\"yaxis\":\"y\"},{\"close\":[190.41000366210938],\"decreasing\":{\"fillcolor\":\"rgba(0, 0, 0, 0)\",\"line\":{\"color\":\"gray\"}},\"high\":[192.36000061035156],\"increasing\":{\"fillcolor\":\"rgba(0, 0, 0, 0)\",\"line\":{\"color\":\"gray\"}},\"low\":[187.14999389648438],\"open\":[191.64999389648438],\"showlegend\":false,\"x\":[\"2023-03-26T00:00:00\"],\"type\":\"candlestick\",\"xaxis\":\"x\",\"yaxis\":\"y\"},{\"close\":[191.80999755859375],\"decreasing\":{\"fillcolor\":\"green\",\"line\":{\"color\":\"green\"}},\"high\":[197.38999938964844],\"increasing\":{\"fillcolor\":\"green\",\"line\":{\"color\":\"green\"}},\"low\":[189.94000244140625],\"open\":[194.4199981689453],\"showlegend\":false,\"x\":[\"2023-03-27T00:00:00\"],\"type\":\"candlestick\",\"xaxis\":\"x\",\"yaxis\":\"y\"},{\"close\":[189.19000244140625],\"decreasing\":{\"fillcolor\":\"red\",\"line\":{\"color\":\"red\"}},\"high\":[192.35000610351562],\"increasing\":{\"fillcolor\":\"red\",\"line\":{\"color\":\"red\"}},\"low\":[185.42999267578125],\"open\":[192.0],\"showlegend\":false,\"x\":[\"2023-03-28T00:00:00\"],\"type\":\"candlestick\",\"xaxis\":\"x\",\"yaxis\":\"y\"},{\"close\":[193.8800048828125],\"decreasing\":{\"fillcolor\":\"rgba(255, 0, 0, 0)\",\"line\":{\"color\":\"green\"}},\"high\":[195.2899932861328],\"increasing\":{\"fillcolor\":\"rgba(255, 0, 0, 0)\",\"line\":{\"color\":\"green\"}},\"low\":[189.44000244140625],\"open\":[193.1300048828125],\"showlegend\":false,\"x\":[\"2023-03-29T00:00:00\"],\"type\":\"candlestick\",\"xaxis\":\"x\",\"yaxis\":\"y\"},{\"close\":[195.27999877929688],\"decreasing\":{\"fillcolor\":\"green\",\"line\":{\"color\":\"green\"}},\"high\":[197.3300018310547],\"increasing\":{\"fillcolor\":\"green\",\"line\":{\"color\":\"green\"}},\"low\":[194.4199981689453],\"open\":[195.5800018310547],\"showlegend\":false,\"x\":[\"2023-03-30T00:00:00\"],\"type\":\"candlestick\",\"xaxis\":\"x\",\"yaxis\":\"y\"},{\"close\":[207.4600067138672],\"decreasing\":{\"fillcolor\":\"rgba(255, 0, 0, 0)\",\"line\":{\"color\":\"green\"}},\"high\":[207.7899932861328],\"increasing\":{\"fillcolor\":\"rgba(255, 0, 0, 0)\",\"line\":{\"color\":\"green\"}},\"low\":[197.1999969482422],\"open\":[197.52999877929688],\"showlegend\":false,\"x\":[\"2023-03-31T00:00:00\"],\"type\":\"candlestick\",\"xaxis\":\"x\",\"yaxis\":\"y\"},{\"close\":[207.4600067138672],\"decreasing\":{\"fillcolor\":\"rgba(0, 0, 0, 0)\",\"line\":{\"color\":\"gray\"}},\"high\":[207.7899932861328],\"increasing\":{\"fillcolor\":\"rgba(0, 0, 0, 0)\",\"line\":{\"color\":\"gray\"}},\"low\":[197.1999969482422],\"open\":[197.52999877929688],\"showlegend\":false,\"x\":[\"2023-04-01T00:00:00\"],\"type\":\"candlestick\",\"xaxis\":\"x\",\"yaxis\":\"y\"},{\"close\":[207.4600067138672],\"decreasing\":{\"fillcolor\":\"rgba(0, 0, 0, 0)\",\"line\":{\"color\":\"gray\"}},\"high\":[207.7899932861328],\"increasing\":{\"fillcolor\":\"rgba(0, 0, 0, 0)\",\"line\":{\"color\":\"gray\"}},\"low\":[197.1999969482422],\"open\":[197.52999877929688],\"showlegend\":false,\"x\":[\"2023-04-02T00:00:00\"],\"type\":\"candlestick\",\"xaxis\":\"x\",\"yaxis\":\"y\"},{\"close\":[194.77000427246094],\"decreasing\":{\"fillcolor\":\"red\",\"line\":{\"color\":\"red\"}},\"high\":[202.69000244140625],\"increasing\":{\"fillcolor\":\"red\",\"line\":{\"color\":\"red\"}},\"low\":[192.1999969482422],\"open\":[199.91000366210938],\"showlegend\":false,\"x\":[\"2023-04-03T00:00:00\"],\"type\":\"candlestick\",\"xaxis\":\"x\",\"yaxis\":\"y\"},{\"close\":[192.5800018310547],\"decreasing\":{\"fillcolor\":\"red\",\"line\":{\"color\":\"red\"}},\"high\":[198.74000549316406],\"increasing\":{\"fillcolor\":\"red\",\"line\":{\"color\":\"red\"}},\"low\":[190.32000732421875],\"open\":[197.32000732421875],\"showlegend\":false,\"x\":[\"2023-04-04T00:00:00\"],\"type\":\"candlestick\",\"xaxis\":\"x\",\"yaxis\":\"y\"},{\"close\":[185.52000427246094],\"decreasing\":{\"fillcolor\":\"red\",\"line\":{\"color\":\"red\"}},\"high\":[190.67999267578125],\"increasing\":{\"fillcolor\":\"red\",\"line\":{\"color\":\"red\"}},\"low\":[183.75999450683594],\"open\":[190.52000427246094],\"showlegend\":false,\"x\":[\"2023-04-05T00:00:00\"],\"type\":\"candlestick\",\"xaxis\":\"x\",\"yaxis\":\"y\"},{\"close\":[185.05999755859375],\"decreasing\":{\"fillcolor\":\"rgba(255, 0, 0, 0)\",\"line\":{\"color\":\"red\"}},\"high\":[186.38999938964844],\"increasing\":{\"fillcolor\":\"rgba(255, 0, 0, 0)\",\"line\":{\"color\":\"red\"}},\"low\":[179.74000549316406],\"open\":[183.0800018310547],\"showlegend\":false,\"x\":[\"2023-04-06T00:00:00\"],\"type\":\"candlestick\",\"xaxis\":\"x\",\"yaxis\":\"y\"},{\"close\":[185.05999755859375],\"decreasing\":{\"fillcolor\":\"rgba(0, 0, 0, 0)\",\"line\":{\"color\":\"gray\"}},\"high\":[186.38999938964844],\"increasing\":{\"fillcolor\":\"rgba(0, 0, 0, 0)\",\"line\":{\"color\":\"gray\"}},\"low\":[179.74000549316406],\"open\":[183.0800018310547],\"showlegend\":false,\"x\":[\"2023-04-07T00:00:00\"],\"type\":\"candlestick\",\"xaxis\":\"x\",\"yaxis\":\"y\"},{\"close\":[185.05999755859375],\"decreasing\":{\"fillcolor\":\"rgba(0, 0, 0, 0)\",\"line\":{\"color\":\"gray\"}},\"high\":[186.38999938964844],\"increasing\":{\"fillcolor\":\"rgba(0, 0, 0, 0)\",\"line\":{\"color\":\"gray\"}},\"low\":[179.74000549316406],\"open\":[183.0800018310547],\"showlegend\":false,\"x\":[\"2023-04-08T00:00:00\"],\"type\":\"candlestick\",\"xaxis\":\"x\",\"yaxis\":\"y\"},{\"close\":[185.05999755859375],\"decreasing\":{\"fillcolor\":\"rgba(0, 0, 0, 0)\",\"line\":{\"color\":\"gray\"}},\"high\":[186.38999938964844],\"increasing\":{\"fillcolor\":\"rgba(0, 0, 0, 0)\",\"line\":{\"color\":\"gray\"}},\"low\":[179.74000549316406],\"open\":[183.0800018310547],\"showlegend\":false,\"x\":[\"2023-04-09T00:00:00\"],\"type\":\"candlestick\",\"xaxis\":\"x\",\"yaxis\":\"y\"},{\"close\":[184.50999450683594],\"decreasing\":{\"fillcolor\":\"rgba(255, 0, 0, 0)\",\"line\":{\"color\":\"red\"}},\"high\":[185.10000610351562],\"increasing\":{\"fillcolor\":\"rgba(255, 0, 0, 0)\",\"line\":{\"color\":\"red\"}},\"low\":[176.11000061035156],\"open\":[179.94000244140625],\"showlegend\":false,\"x\":[\"2023-04-10T00:00:00\"],\"type\":\"candlestick\",\"xaxis\":\"x\",\"yaxis\":\"y\"},{\"close\":[186.7899932861328],\"decreasing\":{\"fillcolor\":\"rgba(255, 0, 0, 0)\",\"line\":{\"color\":\"green\"}},\"high\":[189.19000244140625],\"increasing\":{\"fillcolor\":\"rgba(255, 0, 0, 0)\",\"line\":{\"color\":\"green\"}},\"low\":[185.64999389648438],\"open\":[186.69000244140625],\"showlegend\":false,\"x\":[\"2023-04-11T00:00:00\"],\"type\":\"candlestick\",\"xaxis\":\"x\",\"yaxis\":\"y\"},{\"close\":[180.5399932861328],\"decreasing\":{\"fillcolor\":\"red\",\"line\":{\"color\":\"red\"}},\"high\":[191.5800018310547],\"increasing\":{\"fillcolor\":\"red\",\"line\":{\"color\":\"red\"}},\"low\":[180.30999755859375],\"open\":[190.74000549316406],\"showlegend\":false,\"x\":[\"2023-04-12T00:00:00\"],\"type\":\"candlestick\",\"xaxis\":\"x\",\"yaxis\":\"y\"},{\"close\":[185.89999389648438],\"decreasing\":{\"fillcolor\":\"rgba(255, 0, 0, 0)\",\"line\":{\"color\":\"green\"}},\"high\":[186.5],\"increasing\":{\"fillcolor\":\"rgba(255, 0, 0, 0)\",\"line\":{\"color\":\"green\"}},\"low\":[180.94000244140625],\"open\":[182.9600067138672],\"showlegend\":false,\"x\":[\"2023-04-13T00:00:00\"],\"type\":\"candlestick\",\"xaxis\":\"x\",\"yaxis\":\"y\"},{\"close\":[185.0],\"decreasing\":{\"fillcolor\":\"rgba(255, 0, 0, 0)\",\"line\":{\"color\":\"red\"}},\"high\":[186.27999877929688],\"increasing\":{\"fillcolor\":\"rgba(255, 0, 0, 0)\",\"line\":{\"color\":\"red\"}},\"low\":[182.00999450683594],\"open\":[183.9499969482422],\"showlegend\":false,\"x\":[\"2023-04-14T00:00:00\"],\"type\":\"candlestick\",\"xaxis\":\"x\",\"yaxis\":\"y\"},{\"close\":[185.0],\"decreasing\":{\"fillcolor\":\"rgba(0, 0, 0, 0)\",\"line\":{\"color\":\"gray\"}},\"high\":[186.27999877929688],\"increasing\":{\"fillcolor\":\"rgba(0, 0, 0, 0)\",\"line\":{\"color\":\"gray\"}},\"low\":[182.00999450683594],\"open\":[183.9499969482422],\"showlegend\":false,\"x\":[\"2023-04-15T00:00:00\"],\"type\":\"candlestick\",\"xaxis\":\"x\",\"yaxis\":\"y\"},{\"close\":[185.0],\"decreasing\":{\"fillcolor\":\"rgba(0, 0, 0, 0)\",\"line\":{\"color\":\"gray\"}},\"high\":[186.27999877929688],\"increasing\":{\"fillcolor\":\"rgba(0, 0, 0, 0)\",\"line\":{\"color\":\"gray\"}},\"low\":[182.00999450683594],\"open\":[183.9499969482422],\"showlegend\":false,\"x\":[\"2023-04-16T00:00:00\"],\"type\":\"candlestick\",\"xaxis\":\"x\",\"yaxis\":\"y\"},{\"close\":[187.0399932861328],\"decreasing\":{\"fillcolor\":\"rgba(255, 0, 0, 0)\",\"line\":{\"color\":\"green\"}},\"high\":[189.69000244140625],\"increasing\":{\"fillcolor\":\"rgba(255, 0, 0, 0)\",\"line\":{\"color\":\"green\"}},\"low\":[182.69000244140625],\"open\":[186.32000732421875],\"showlegend\":false,\"x\":[\"2023-04-17T00:00:00\"],\"type\":\"candlestick\",\"xaxis\":\"x\",\"yaxis\":\"y\"},{\"close\":[184.30999755859375],\"decreasing\":{\"fillcolor\":\"red\",\"line\":{\"color\":\"red\"}},\"high\":[187.69000244140625],\"increasing\":{\"fillcolor\":\"red\",\"line\":{\"color\":\"red\"}},\"low\":[183.5800018310547],\"open\":[187.14999389648438],\"showlegend\":false,\"x\":[\"2023-04-18T00:00:00\"],\"type\":\"candlestick\",\"xaxis\":\"x\",\"yaxis\":\"y\"},{\"close\":[180.58999633789062],\"decreasing\":{\"fillcolor\":\"rgba(255, 0, 0, 0)\",\"line\":{\"color\":\"red\"}},\"high\":[183.5],\"increasing\":{\"fillcolor\":\"rgba(255, 0, 0, 0)\",\"line\":{\"color\":\"red\"}},\"low\":[177.64999389648438],\"open\":[179.10000610351562],\"showlegend\":false,\"x\":[\"2023-04-19T00:00:00\"],\"type\":\"candlestick\",\"xaxis\":\"x\",\"yaxis\":\"y\"},{\"close\":[162.99000549316406],\"decreasing\":{\"fillcolor\":\"red\",\"line\":{\"color\":\"red\"}},\"high\":[169.6999969482422],\"increasing\":{\"fillcolor\":\"red\",\"line\":{\"color\":\"red\"}},\"low\":[160.55999755859375],\"open\":[166.1699981689453],\"showlegend\":false,\"x\":[\"2023-04-20T00:00:00\"],\"type\":\"candlestick\",\"xaxis\":\"x\",\"yaxis\":\"y\"},{\"close\":[165.0800018310547],\"decreasing\":{\"fillcolor\":\"rgba(255, 0, 0, 0)\",\"line\":{\"color\":\"green\"}},\"high\":[166.0],\"increasing\":{\"fillcolor\":\"rgba(255, 0, 0, 0)\",\"line\":{\"color\":\"green\"}},\"low\":[161.32000732421875],\"open\":[164.8000030517578],\"showlegend\":false,\"x\":[\"2023-04-21T00:00:00\"],\"type\":\"candlestick\",\"xaxis\":\"x\",\"yaxis\":\"y\"},{\"close\":[165.0800018310547],\"decreasing\":{\"fillcolor\":\"rgba(0, 0, 0, 0)\",\"line\":{\"color\":\"gray\"}},\"high\":[166.0],\"increasing\":{\"fillcolor\":\"rgba(0, 0, 0, 0)\",\"line\":{\"color\":\"gray\"}},\"low\":[161.32000732421875],\"open\":[164.8000030517578],\"showlegend\":false,\"x\":[\"2023-04-22T00:00:00\"],\"type\":\"candlestick\",\"xaxis\":\"x\",\"yaxis\":\"y\"},{\"close\":[165.0800018310547],\"decreasing\":{\"fillcolor\":\"rgba(0, 0, 0, 0)\",\"line\":{\"color\":\"gray\"}},\"high\":[166.0],\"increasing\":{\"fillcolor\":\"rgba(0, 0, 0, 0)\",\"line\":{\"color\":\"gray\"}},\"low\":[161.32000732421875],\"open\":[164.8000030517578],\"showlegend\":false,\"x\":[\"2023-04-23T00:00:00\"],\"type\":\"candlestick\",\"xaxis\":\"x\",\"yaxis\":\"y\"},{\"close\":[162.5500030517578],\"decreasing\":{\"fillcolor\":\"red\",\"line\":{\"color\":\"red\"}},\"high\":[165.64999389648438],\"increasing\":{\"fillcolor\":\"red\",\"line\":{\"color\":\"red\"}},\"low\":[158.61000061035156],\"open\":[164.64999389648438],\"showlegend\":false,\"x\":[\"2023-04-24T00:00:00\"],\"type\":\"candlestick\",\"xaxis\":\"x\",\"yaxis\":\"y\"},{\"close\":[160.6699981689453],\"decreasing\":{\"fillcolor\":\"rgba(255, 0, 0, 0)\",\"line\":{\"color\":\"red\"}},\"high\":[163.47000122070312],\"increasing\":{\"fillcolor\":\"rgba(255, 0, 0, 0)\",\"line\":{\"color\":\"red\"}},\"low\":[158.75],\"open\":[159.82000732421875],\"showlegend\":false,\"x\":[\"2023-04-25T00:00:00\"],\"type\":\"candlestick\",\"xaxis\":\"x\",\"yaxis\":\"y\"},{\"close\":[153.75],\"decreasing\":{\"fillcolor\":\"red\",\"line\":{\"color\":\"red\"}},\"high\":[160.6699981689453],\"increasing\":{\"fillcolor\":\"red\",\"line\":{\"color\":\"red\"}},\"low\":[153.13999938964844],\"open\":[160.2899932861328],\"showlegend\":false,\"x\":[\"2023-04-26T00:00:00\"],\"type\":\"candlestick\",\"xaxis\":\"x\",\"yaxis\":\"y\"},{\"close\":[160.19000244140625],\"decreasing\":{\"fillcolor\":\"rgba(255, 0, 0, 0)\",\"line\":{\"color\":\"green\"}},\"high\":[160.47999572753906],\"increasing\":{\"fillcolor\":\"rgba(255, 0, 0, 0)\",\"line\":{\"color\":\"green\"}},\"low\":[152.3699951171875],\"open\":[152.63999938964844],\"showlegend\":false,\"x\":[\"2023-04-27T00:00:00\"],\"type\":\"candlestick\",\"xaxis\":\"x\",\"yaxis\":\"y\"},{\"close\":[164.30999755859375],\"decreasing\":{\"fillcolor\":\"rgba(255, 0, 0, 0)\",\"line\":{\"color\":\"green\"}},\"high\":[165.0],\"increasing\":{\"fillcolor\":\"rgba(255, 0, 0, 0)\",\"line\":{\"color\":\"green\"}},\"low\":[157.32000732421875],\"open\":[160.89999389648438],\"showlegend\":false,\"x\":[\"2023-04-28T00:00:00\"],\"type\":\"candlestick\",\"xaxis\":\"x\",\"yaxis\":\"y\"},{\"close\":[164.30999755859375],\"decreasing\":{\"fillcolor\":\"rgba(0, 0, 0, 0)\",\"line\":{\"color\":\"gray\"}},\"high\":[165.0],\"increasing\":{\"fillcolor\":\"rgba(0, 0, 0, 0)\",\"line\":{\"color\":\"gray\"}},\"low\":[157.32000732421875],\"open\":[160.89999389648438],\"showlegend\":false,\"x\":[\"2023-04-29T00:00:00\"],\"type\":\"candlestick\",\"xaxis\":\"x\",\"yaxis\":\"y\"},{\"close\":[164.30999755859375],\"decreasing\":{\"fillcolor\":\"rgba(0, 0, 0, 0)\",\"line\":{\"color\":\"gray\"}},\"high\":[165.0],\"increasing\":{\"fillcolor\":\"rgba(0, 0, 0, 0)\",\"line\":{\"color\":\"gray\"}},\"low\":[157.32000732421875],\"open\":[160.89999389648438],\"showlegend\":false,\"x\":[\"2023-04-30T00:00:00\"],\"type\":\"candlestick\",\"xaxis\":\"x\",\"yaxis\":\"y\"},{\"close\":[161.8300018310547],\"decreasing\":{\"fillcolor\":\"red\",\"line\":{\"color\":\"red\"}},\"high\":[163.27999877929688],\"increasing\":{\"fillcolor\":\"red\",\"line\":{\"color\":\"red\"}},\"low\":[158.8300018310547],\"open\":[163.1699981689453],\"showlegend\":false,\"x\":[\"2023-05-01T00:00:00\"],\"type\":\"candlestick\",\"xaxis\":\"x\",\"yaxis\":\"y\"},{\"close\":[160.30999755859375],\"decreasing\":{\"fillcolor\":\"red\",\"line\":{\"color\":\"red\"}},\"high\":[165.49000549316406],\"increasing\":{\"fillcolor\":\"red\",\"line\":{\"color\":\"red\"}},\"low\":[158.92999267578125],\"open\":[161.8800048828125],\"showlegend\":false,\"x\":[\"2023-05-02T00:00:00\"],\"type\":\"candlestick\",\"xaxis\":\"x\",\"yaxis\":\"y\"},{\"close\":[160.61000061035156],\"decreasing\":{\"fillcolor\":\"rgba(255, 0, 0, 0)\",\"line\":{\"color\":\"green\"}},\"high\":[165.0],\"increasing\":{\"fillcolor\":\"rgba(255, 0, 0, 0)\",\"line\":{\"color\":\"green\"}},\"low\":[159.91000366210938],\"open\":[160.00999450683594],\"showlegend\":false,\"x\":[\"2023-05-03T00:00:00\"],\"type\":\"candlestick\",\"xaxis\":\"x\",\"yaxis\":\"y\"},{\"close\":[161.1999969482422],\"decreasing\":{\"fillcolor\":\"green\",\"line\":{\"color\":\"green\"}},\"high\":[162.9499969482422],\"increasing\":{\"fillcolor\":\"green\",\"line\":{\"color\":\"green\"}},\"low\":[159.64999389648438],\"open\":[162.7100067138672],\"showlegend\":false,\"x\":[\"2023-05-04T00:00:00\"],\"type\":\"candlestick\",\"xaxis\":\"x\",\"yaxis\":\"y\"},{\"close\":[170.05999755859375],\"decreasing\":{\"fillcolor\":\"rgba(255, 0, 0, 0)\",\"line\":{\"color\":\"green\"}},\"high\":[170.7899932861328],\"increasing\":{\"fillcolor\":\"rgba(255, 0, 0, 0)\",\"line\":{\"color\":\"green\"}},\"low\":[163.50999450683594],\"open\":[163.97000122070312],\"showlegend\":false,\"x\":[\"2023-05-05T00:00:00\"],\"type\":\"candlestick\",\"xaxis\":\"x\",\"yaxis\":\"y\"},{\"close\":[170.05999755859375],\"decreasing\":{\"fillcolor\":\"rgba(0, 0, 0, 0)\",\"line\":{\"color\":\"gray\"}},\"high\":[170.7899932861328],\"increasing\":{\"fillcolor\":\"rgba(0, 0, 0, 0)\",\"line\":{\"color\":\"gray\"}},\"low\":[163.50999450683594],\"open\":[163.97000122070312],\"showlegend\":false,\"x\":[\"2023-05-06T00:00:00\"],\"type\":\"candlestick\",\"xaxis\":\"x\",\"yaxis\":\"y\"},{\"close\":[170.05999755859375],\"decreasing\":{\"fillcolor\":\"rgba(0, 0, 0, 0)\",\"line\":{\"color\":\"gray\"}},\"high\":[170.7899932861328],\"increasing\":{\"fillcolor\":\"rgba(0, 0, 0, 0)\",\"line\":{\"color\":\"gray\"}},\"low\":[163.50999450683594],\"open\":[163.97000122070312],\"showlegend\":false,\"x\":[\"2023-05-07T00:00:00\"],\"type\":\"candlestick\",\"xaxis\":\"x\",\"yaxis\":\"y\"},{\"close\":[171.7899932861328],\"decreasing\":{\"fillcolor\":\"green\",\"line\":{\"color\":\"green\"}},\"high\":[173.8000030517578],\"increasing\":{\"fillcolor\":\"green\",\"line\":{\"color\":\"green\"}},\"low\":[169.19000244140625],\"open\":[173.72000122070312],\"showlegend\":false,\"x\":[\"2023-05-08T00:00:00\"],\"type\":\"candlestick\",\"xaxis\":\"x\",\"yaxis\":\"y\"},{\"close\":[169.14999389648438],\"decreasing\":{\"fillcolor\":\"rgba(255, 0, 0, 0)\",\"line\":{\"color\":\"red\"}},\"high\":[169.82000732421875],\"increasing\":{\"fillcolor\":\"rgba(255, 0, 0, 0)\",\"line\":{\"color\":\"red\"}},\"low\":[166.55999755859375],\"open\":[168.9499969482422],\"showlegend\":false,\"x\":[\"2023-05-09T00:00:00\"],\"type\":\"candlestick\",\"xaxis\":\"x\",\"yaxis\":\"y\"},{\"close\":[168.5399932861328],\"decreasing\":{\"fillcolor\":\"red\",\"line\":{\"color\":\"red\"}},\"high\":[174.42999267578125],\"increasing\":{\"fillcolor\":\"red\",\"line\":{\"color\":\"red\"}},\"low\":[166.67999267578125],\"open\":[172.5500030517578],\"showlegend\":false,\"x\":[\"2023-05-10T00:00:00\"],\"type\":\"candlestick\",\"xaxis\":\"x\",\"yaxis\":\"y\"},{\"close\":[172.0800018310547],\"decreasing\":{\"fillcolor\":\"rgba(255, 0, 0, 0)\",\"line\":{\"color\":\"green\"}},\"high\":[173.57000732421875],\"increasing\":{\"fillcolor\":\"rgba(255, 0, 0, 0)\",\"line\":{\"color\":\"green\"}},\"low\":[166.7899932861328],\"open\":[168.6999969482422],\"showlegend\":false,\"x\":[\"2023-05-11T00:00:00\"],\"type\":\"candlestick\",\"xaxis\":\"x\",\"yaxis\":\"y\"},{\"close\":[167.97999572753906],\"decreasing\":{\"fillcolor\":\"red\",\"line\":{\"color\":\"red\"}},\"high\":[177.3800048828125],\"increasing\":{\"fillcolor\":\"red\",\"line\":{\"color\":\"red\"}},\"low\":[167.22999572753906],\"open\":[176.07000732421875],\"showlegend\":false,\"x\":[\"2023-05-12T00:00:00\"],\"type\":\"candlestick\",\"xaxis\":\"x\",\"yaxis\":\"y\"},{\"close\":[167.97999572753906],\"decreasing\":{\"fillcolor\":\"rgba(0, 0, 0, 0)\",\"line\":{\"color\":\"gray\"}},\"high\":[177.3800048828125],\"increasing\":{\"fillcolor\":\"rgba(0, 0, 0, 0)\",\"line\":{\"color\":\"gray\"}},\"low\":[167.22999572753906],\"open\":[176.07000732421875],\"showlegend\":false,\"x\":[\"2023-05-13T00:00:00\"],\"type\":\"candlestick\",\"xaxis\":\"x\",\"yaxis\":\"y\"},{\"close\":[167.97999572753906],\"decreasing\":{\"fillcolor\":\"rgba(0, 0, 0, 0)\",\"line\":{\"color\":\"gray\"}},\"high\":[177.3800048828125],\"increasing\":{\"fillcolor\":\"rgba(0, 0, 0, 0)\",\"line\":{\"color\":\"gray\"}},\"low\":[167.22999572753906],\"open\":[176.07000732421875],\"showlegend\":false,\"x\":[\"2023-05-14T00:00:00\"],\"type\":\"candlestick\",\"xaxis\":\"x\",\"yaxis\":\"y\"},{\"close\":[166.35000610351562],\"decreasing\":{\"fillcolor\":\"red\",\"line\":{\"color\":\"red\"}},\"high\":[169.75999450683594],\"increasing\":{\"fillcolor\":\"red\",\"line\":{\"color\":\"red\"}},\"low\":[164.5500030517578],\"open\":[167.66000366210938],\"showlegend\":false,\"x\":[\"2023-05-15T00:00:00\"],\"type\":\"candlestick\",\"xaxis\":\"x\",\"yaxis\":\"y\"},{\"close\":[166.52000427246094],\"decreasing\":{\"fillcolor\":\"rgba(255, 0, 0, 0)\",\"line\":{\"color\":\"green\"}},\"high\":[169.52000427246094],\"increasing\":{\"fillcolor\":\"rgba(255, 0, 0, 0)\",\"line\":{\"color\":\"green\"}},\"low\":[164.35000610351562],\"open\":[165.64999389648438],\"showlegend\":false,\"x\":[\"2023-05-16T00:00:00\"],\"type\":\"candlestick\",\"xaxis\":\"x\",\"yaxis\":\"y\"},{\"close\":[173.86000061035156],\"decreasing\":{\"fillcolor\":\"rgba(255, 0, 0, 0)\",\"line\":{\"color\":\"green\"}},\"high\":[174.5],\"increasing\":{\"fillcolor\":\"rgba(255, 0, 0, 0)\",\"line\":{\"color\":\"green\"}},\"low\":[167.19000244140625],\"open\":[168.41000366210938],\"showlegend\":false,\"x\":[\"2023-05-17T00:00:00\"],\"type\":\"candlestick\",\"xaxis\":\"x\",\"yaxis\":\"y\"},{\"close\":[176.88999938964844],\"decreasing\":{\"fillcolor\":\"rgba(255, 0, 0, 0)\",\"line\":{\"color\":\"green\"}},\"high\":[177.05999755859375],\"increasing\":{\"fillcolor\":\"rgba(255, 0, 0, 0)\",\"line\":{\"color\":\"green\"}},\"low\":[172.4499969482422],\"open\":[174.22000122070312],\"showlegend\":false,\"x\":[\"2023-05-18T00:00:00\"],\"type\":\"candlestick\",\"xaxis\":\"x\",\"yaxis\":\"y\"},{\"close\":[180.13999938964844],\"decreasing\":{\"fillcolor\":\"rgba(255, 0, 0, 0)\",\"line\":{\"color\":\"green\"}},\"high\":[181.9499969482422],\"increasing\":{\"fillcolor\":\"rgba(255, 0, 0, 0)\",\"line\":{\"color\":\"green\"}},\"low\":[176.30999755859375],\"open\":[177.1699981689453],\"showlegend\":false,\"x\":[\"2023-05-19T00:00:00\"],\"type\":\"candlestick\",\"xaxis\":\"x\",\"yaxis\":\"y\"},{\"close\":[180.13999938964844],\"decreasing\":{\"fillcolor\":\"rgba(0, 0, 0, 0)\",\"line\":{\"color\":\"gray\"}},\"high\":[181.9499969482422],\"increasing\":{\"fillcolor\":\"rgba(0, 0, 0, 0)\",\"line\":{\"color\":\"gray\"}},\"low\":[176.30999755859375],\"open\":[177.1699981689453],\"showlegend\":false,\"x\":[\"2023-05-20T00:00:00\"],\"type\":\"candlestick\",\"xaxis\":\"x\",\"yaxis\":\"y\"},{\"close\":[180.13999938964844],\"decreasing\":{\"fillcolor\":\"rgba(0, 0, 0, 0)\",\"line\":{\"color\":\"gray\"}},\"high\":[181.9499969482422],\"increasing\":{\"fillcolor\":\"rgba(0, 0, 0, 0)\",\"line\":{\"color\":\"gray\"}},\"low\":[176.30999755859375],\"open\":[177.1699981689453],\"showlegend\":false,\"x\":[\"2023-05-21T00:00:00\"],\"type\":\"candlestick\",\"xaxis\":\"x\",\"yaxis\":\"y\"},{\"close\":[188.8699951171875],\"decreasing\":{\"fillcolor\":\"rgba(255, 0, 0, 0)\",\"line\":{\"color\":\"green\"}},\"high\":[189.32000732421875],\"increasing\":{\"fillcolor\":\"rgba(255, 0, 0, 0)\",\"line\":{\"color\":\"green\"}},\"low\":[180.11000061035156],\"open\":[180.6999969482422],\"showlegend\":false,\"x\":[\"2023-05-22T00:00:00\"],\"type\":\"candlestick\",\"xaxis\":\"x\",\"yaxis\":\"y\"},{\"close\":[185.77000427246094],\"decreasing\":{\"fillcolor\":\"red\",\"line\":{\"color\":\"red\"}},\"high\":[192.9600067138672],\"increasing\":{\"fillcolor\":\"red\",\"line\":{\"color\":\"red\"}},\"low\":[185.25999450683594],\"open\":[186.1999969482422],\"showlegend\":false,\"x\":[\"2023-05-23T00:00:00\"],\"type\":\"candlestick\",\"xaxis\":\"x\",\"yaxis\":\"y\"},{\"close\":[182.89999389648438],\"decreasing\":{\"fillcolor\":\"rgba(255, 0, 0, 0)\",\"line\":{\"color\":\"red\"}},\"high\":[184.22000122070312],\"increasing\":{\"fillcolor\":\"rgba(255, 0, 0, 0)\",\"line\":{\"color\":\"red\"}},\"low\":[178.22000122070312],\"open\":[182.22999572753906],\"showlegend\":false,\"x\":[\"2023-05-24T00:00:00\"],\"type\":\"candlestick\",\"xaxis\":\"x\",\"yaxis\":\"y\"},{\"close\":[184.47000122070312],\"decreasing\":{\"fillcolor\":\"green\",\"line\":{\"color\":\"green\"}},\"high\":[186.77999877929688],\"increasing\":{\"fillcolor\":\"green\",\"line\":{\"color\":\"green\"}},\"low\":[180.5800018310547],\"open\":[186.5399932861328],\"showlegend\":false,\"x\":[\"2023-05-25T00:00:00\"],\"type\":\"candlestick\",\"xaxis\":\"x\",\"yaxis\":\"y\"},{\"close\":[193.1699981689453],\"decreasing\":{\"fillcolor\":\"rgba(255, 0, 0, 0)\",\"line\":{\"color\":\"green\"}},\"high\":[198.60000610351562],\"increasing\":{\"fillcolor\":\"rgba(255, 0, 0, 0)\",\"line\":{\"color\":\"green\"}},\"low\":[184.52999877929688],\"open\":[184.6199951171875],\"showlegend\":false,\"x\":[\"2023-05-26T00:00:00\"],\"type\":\"candlestick\",\"xaxis\":\"x\",\"yaxis\":\"y\"},{\"close\":[193.1699981689453],\"decreasing\":{\"fillcolor\":\"rgba(0, 0, 0, 0)\",\"line\":{\"color\":\"gray\"}},\"high\":[198.60000610351562],\"increasing\":{\"fillcolor\":\"rgba(0, 0, 0, 0)\",\"line\":{\"color\":\"gray\"}},\"low\":[184.52999877929688],\"open\":[184.6199951171875],\"showlegend\":false,\"x\":[\"2023-05-27T00:00:00\"],\"type\":\"candlestick\",\"xaxis\":\"x\",\"yaxis\":\"y\"},{\"close\":[193.1699981689453],\"decreasing\":{\"fillcolor\":\"rgba(0, 0, 0, 0)\",\"line\":{\"color\":\"gray\"}},\"high\":[198.60000610351562],\"increasing\":{\"fillcolor\":\"rgba(0, 0, 0, 0)\",\"line\":{\"color\":\"gray\"}},\"low\":[184.52999877929688],\"open\":[184.6199951171875],\"showlegend\":false,\"x\":[\"2023-05-28T00:00:00\"],\"type\":\"candlestick\",\"xaxis\":\"x\",\"yaxis\":\"y\"},{\"close\":[193.1699981689453],\"decreasing\":{\"fillcolor\":\"rgba(0, 0, 0, 0)\",\"line\":{\"color\":\"gray\"}},\"high\":[198.60000610351562],\"increasing\":{\"fillcolor\":\"rgba(0, 0, 0, 0)\",\"line\":{\"color\":\"gray\"}},\"low\":[184.52999877929688],\"open\":[184.6199951171875],\"showlegend\":false,\"x\":[\"2023-05-29T00:00:00\"],\"type\":\"candlestick\",\"xaxis\":\"x\",\"yaxis\":\"y\"},{\"close\":[201.16000366210938],\"decreasing\":{\"fillcolor\":\"rgba(255, 0, 0, 0)\",\"line\":{\"color\":\"green\"}},\"high\":[204.47999572753906],\"increasing\":{\"fillcolor\":\"rgba(255, 0, 0, 0)\",\"line\":{\"color\":\"green\"}},\"low\":[197.52999877929688],\"open\":[200.10000610351562],\"showlegend\":false,\"x\":[\"2023-05-30T00:00:00\"],\"type\":\"candlestick\",\"xaxis\":\"x\",\"yaxis\":\"y\"},{\"close\":[203.92999267578125],\"decreasing\":{\"fillcolor\":\"rgba(255, 0, 0, 0)\",\"line\":{\"color\":\"green\"}},\"high\":[203.9499969482422],\"increasing\":{\"fillcolor\":\"rgba(255, 0, 0, 0)\",\"line\":{\"color\":\"green\"}},\"low\":[195.1199951171875],\"open\":[199.77999877929688],\"showlegend\":false,\"x\":[\"2023-05-31T00:00:00\"],\"type\":\"candlestick\",\"xaxis\":\"x\",\"yaxis\":\"y\"},{\"close\":[207.52000427246094],\"decreasing\":{\"fillcolor\":\"rgba(255, 0, 0, 0)\",\"line\":{\"color\":\"green\"}},\"high\":[209.8000030517578],\"increasing\":{\"fillcolor\":\"rgba(255, 0, 0, 0)\",\"line\":{\"color\":\"green\"}},\"low\":[199.3699951171875],\"open\":[202.58999633789062],\"showlegend\":false,\"x\":[\"2023-06-01T00:00:00\"],\"type\":\"candlestick\",\"xaxis\":\"x\",\"yaxis\":\"y\"},{\"close\":[213.97000122070312],\"decreasing\":{\"fillcolor\":\"rgba(255, 0, 0, 0)\",\"line\":{\"color\":\"green\"}},\"high\":[217.25],\"increasing\":{\"fillcolor\":\"rgba(255, 0, 0, 0)\",\"line\":{\"color\":\"green\"}},\"low\":[209.75],\"open\":[210.14999389648438],\"showlegend\":false,\"x\":[\"2023-06-02T00:00:00\"],\"type\":\"candlestick\",\"xaxis\":\"x\",\"yaxis\":\"y\"},{\"close\":[213.97000122070312],\"decreasing\":{\"fillcolor\":\"rgba(0, 0, 0, 0)\",\"line\":{\"color\":\"gray\"}},\"high\":[217.25],\"increasing\":{\"fillcolor\":\"rgba(0, 0, 0, 0)\",\"line\":{\"color\":\"gray\"}},\"low\":[209.75],\"open\":[210.14999389648438],\"showlegend\":false,\"x\":[\"2023-06-03T00:00:00\"],\"type\":\"candlestick\",\"xaxis\":\"x\",\"yaxis\":\"y\"},{\"close\":[213.97000122070312],\"decreasing\":{\"fillcolor\":\"rgba(0, 0, 0, 0)\",\"line\":{\"color\":\"gray\"}},\"high\":[217.25],\"increasing\":{\"fillcolor\":\"rgba(0, 0, 0, 0)\",\"line\":{\"color\":\"gray\"}},\"low\":[209.75],\"open\":[210.14999389648438],\"showlegend\":false,\"x\":[\"2023-06-04T00:00:00\"],\"type\":\"candlestick\",\"xaxis\":\"x\",\"yaxis\":\"y\"},{\"close\":[217.61000061035156],\"decreasing\":{\"fillcolor\":\"green\",\"line\":{\"color\":\"green\"}},\"high\":[221.2899932861328],\"increasing\":{\"fillcolor\":\"green\",\"line\":{\"color\":\"green\"}},\"low\":[214.52000427246094],\"open\":[217.8000030517578],\"showlegend\":false,\"x\":[\"2023-06-05T00:00:00\"],\"type\":\"candlestick\",\"xaxis\":\"x\",\"yaxis\":\"y\"},{\"close\":[221.30999755859375],\"decreasing\":{\"fillcolor\":\"rgba(255, 0, 0, 0)\",\"line\":{\"color\":\"green\"}},\"high\":[221.91000366210938],\"increasing\":{\"fillcolor\":\"rgba(255, 0, 0, 0)\",\"line\":{\"color\":\"green\"}},\"low\":[212.52999877929688],\"open\":[216.13999938964844],\"showlegend\":false,\"x\":[\"2023-06-06T00:00:00\"],\"type\":\"candlestick\",\"xaxis\":\"x\",\"yaxis\":\"y\"},{\"close\":[224.57000732421875],\"decreasing\":{\"fillcolor\":\"green\",\"line\":{\"color\":\"green\"}},\"high\":[230.8300018310547],\"increasing\":{\"fillcolor\":\"green\",\"line\":{\"color\":\"green\"}},\"low\":[223.1999969482422],\"open\":[228.0],\"showlegend\":false,\"x\":[\"2023-06-07T00:00:00\"],\"type\":\"candlestick\",\"xaxis\":\"x\",\"yaxis\":\"y\"},{\"close\":[234.86000061035156],\"decreasing\":{\"fillcolor\":\"rgba(255, 0, 0, 0)\",\"line\":{\"color\":\"green\"}},\"high\":[235.22999572753906],\"increasing\":{\"fillcolor\":\"rgba(255, 0, 0, 0)\",\"line\":{\"color\":\"green\"}},\"low\":[223.00999450683594],\"open\":[224.22000122070312],\"showlegend\":false,\"x\":[\"2023-06-08T00:00:00\"],\"type\":\"candlestick\",\"xaxis\":\"x\",\"yaxis\":\"y\"},{\"close\":[244.39999389648438],\"decreasing\":{\"fillcolor\":\"green\",\"line\":{\"color\":\"green\"}},\"high\":[252.4199981689453],\"increasing\":{\"fillcolor\":\"green\",\"line\":{\"color\":\"green\"}},\"low\":[242.02000427246094],\"open\":[249.07000732421875],\"showlegend\":false,\"x\":[\"2023-06-09T00:00:00\"],\"type\":\"candlestick\",\"xaxis\":\"x\",\"yaxis\":\"y\"},{\"close\":[244.39999389648438],\"decreasing\":{\"fillcolor\":\"rgba(0, 0, 0, 0)\",\"line\":{\"color\":\"gray\"}},\"high\":[252.4199981689453],\"increasing\":{\"fillcolor\":\"rgba(0, 0, 0, 0)\",\"line\":{\"color\":\"gray\"}},\"low\":[242.02000427246094],\"open\":[249.07000732421875],\"showlegend\":false,\"x\":[\"2023-06-10T00:00:00\"],\"type\":\"candlestick\",\"xaxis\":\"x\",\"yaxis\":\"y\"},{\"close\":[244.39999389648438],\"decreasing\":{\"fillcolor\":\"rgba(0, 0, 0, 0)\",\"line\":{\"color\":\"gray\"}},\"high\":[252.4199981689453],\"increasing\":{\"fillcolor\":\"rgba(0, 0, 0, 0)\",\"line\":{\"color\":\"gray\"}},\"low\":[242.02000427246094],\"open\":[249.07000732421875],\"showlegend\":false,\"x\":[\"2023-06-11T00:00:00\"],\"type\":\"candlestick\",\"xaxis\":\"x\",\"yaxis\":\"y\"},{\"close\":[249.8300018310547],\"decreasing\":{\"fillcolor\":\"rgba(255, 0, 0, 0)\",\"line\":{\"color\":\"green\"}},\"high\":[250.97000122070312],\"increasing\":{\"fillcolor\":\"rgba(255, 0, 0, 0)\",\"line\":{\"color\":\"green\"}},\"low\":[244.58999633789062],\"open\":[247.94000244140625],\"showlegend\":false,\"x\":[\"2023-06-12T00:00:00\"],\"type\":\"candlestick\",\"xaxis\":\"x\",\"yaxis\":\"y\"},{\"close\":[258.7099914550781],\"decreasing\":{\"fillcolor\":\"rgba(255, 0, 0, 0)\",\"line\":{\"color\":\"green\"}},\"high\":[259.67999267578125],\"increasing\":{\"fillcolor\":\"rgba(255, 0, 0, 0)\",\"line\":{\"color\":\"green\"}},\"low\":[251.33999633789062],\"open\":[253.50999450683594],\"showlegend\":false,\"x\":[\"2023-06-13T00:00:00\"],\"type\":\"candlestick\",\"xaxis\":\"x\",\"yaxis\":\"y\"},{\"close\":[256.7900085449219],\"decreasing\":{\"fillcolor\":\"red\",\"line\":{\"color\":\"red\"}},\"high\":[261.57000732421875],\"increasing\":{\"fillcolor\":\"red\",\"line\":{\"color\":\"red\"}},\"low\":[250.5],\"open\":[260.1700134277344],\"showlegend\":false,\"x\":[\"2023-06-14T00:00:00\"],\"type\":\"candlestick\",\"xaxis\":\"x\",\"yaxis\":\"y\"},{\"close\":[255.89999389648438],\"decreasing\":{\"fillcolor\":\"rgba(255, 0, 0, 0)\",\"line\":{\"color\":\"red\"}},\"high\":[258.95001220703125],\"increasing\":{\"fillcolor\":\"rgba(255, 0, 0, 0)\",\"line\":{\"color\":\"red\"}},\"low\":[247.2899932861328],\"open\":[248.39999389648438],\"showlegend\":false,\"x\":[\"2023-06-15T00:00:00\"],\"type\":\"candlestick\",\"xaxis\":\"x\",\"yaxis\":\"y\"},{\"close\":[260.5400085449219],\"decreasing\":{\"fillcolor\":\"rgba(255, 0, 0, 0)\",\"line\":{\"color\":\"green\"}},\"high\":[263.6000061035156],\"increasing\":{\"fillcolor\":\"rgba(255, 0, 0, 0)\",\"line\":{\"color\":\"green\"}},\"low\":[257.2099914550781],\"open\":[258.9200134277344],\"showlegend\":false,\"x\":[\"2023-06-16T00:00:00\"],\"type\":\"candlestick\",\"xaxis\":\"x\",\"yaxis\":\"y\"},{\"close\":[260.5400085449219],\"decreasing\":{\"fillcolor\":\"rgba(0, 0, 0, 0)\",\"line\":{\"color\":\"gray\"}},\"high\":[263.6000061035156],\"increasing\":{\"fillcolor\":\"rgba(0, 0, 0, 0)\",\"line\":{\"color\":\"gray\"}},\"low\":[257.2099914550781],\"open\":[258.9200134277344],\"showlegend\":false,\"x\":[\"2023-06-17T00:00:00\"],\"type\":\"candlestick\",\"xaxis\":\"x\",\"yaxis\":\"y\"},{\"close\":[260.5400085449219],\"decreasing\":{\"fillcolor\":\"rgba(0, 0, 0, 0)\",\"line\":{\"color\":\"gray\"}},\"high\":[263.6000061035156],\"increasing\":{\"fillcolor\":\"rgba(0, 0, 0, 0)\",\"line\":{\"color\":\"gray\"}},\"low\":[257.2099914550781],\"open\":[258.9200134277344],\"showlegend\":false,\"x\":[\"2023-06-18T00:00:00\"],\"type\":\"candlestick\",\"xaxis\":\"x\",\"yaxis\":\"y\"},{\"close\":[260.5400085449219],\"decreasing\":{\"fillcolor\":\"rgba(0, 0, 0, 0)\",\"line\":{\"color\":\"gray\"}},\"high\":[263.6000061035156],\"increasing\":{\"fillcolor\":\"rgba(0, 0, 0, 0)\",\"line\":{\"color\":\"gray\"}},\"low\":[257.2099914550781],\"open\":[258.9200134277344],\"showlegend\":false,\"x\":[\"2023-06-19T00:00:00\"],\"type\":\"candlestick\",\"xaxis\":\"x\",\"yaxis\":\"y\"},{\"close\":[274.45001220703125],\"decreasing\":{\"fillcolor\":\"rgba(255, 0, 0, 0)\",\"line\":{\"color\":\"green\"}},\"high\":[274.75],\"increasing\":{\"fillcolor\":\"rgba(255, 0, 0, 0)\",\"line\":{\"color\":\"green\"}},\"low\":[261.1199951171875],\"open\":[261.5],\"showlegend\":false,\"x\":[\"2023-06-20T00:00:00\"],\"type\":\"candlestick\",\"xaxis\":\"x\",\"yaxis\":\"y\"},{\"close\":[259.4599914550781],\"decreasing\":{\"fillcolor\":\"red\",\"line\":{\"color\":\"red\"}},\"high\":[276.989990234375],\"increasing\":{\"fillcolor\":\"red\",\"line\":{\"color\":\"red\"}},\"low\":[257.7799987792969],\"open\":[275.1300048828125],\"showlegend\":false,\"x\":[\"2023-06-21T00:00:00\"],\"type\":\"candlestick\",\"xaxis\":\"x\",\"yaxis\":\"y\"},{\"close\":[264.6099853515625],\"decreasing\":{\"fillcolor\":\"rgba(255, 0, 0, 0)\",\"line\":{\"color\":\"green\"}},\"high\":[265.0],\"increasing\":{\"fillcolor\":\"rgba(255, 0, 0, 0)\",\"line\":{\"color\":\"green\"}},\"low\":[248.25],\"open\":[250.77000427246094],\"showlegend\":false,\"x\":[\"2023-06-22T00:00:00\"],\"type\":\"candlestick\",\"xaxis\":\"x\",\"yaxis\":\"y\"},{\"close\":[256.6000061035156],\"decreasing\":{\"fillcolor\":\"red\",\"line\":{\"color\":\"red\"}},\"high\":[262.45001220703125],\"increasing\":{\"fillcolor\":\"red\",\"line\":{\"color\":\"red\"}},\"low\":[252.8000030517578],\"open\":[259.2900085449219],\"showlegend\":false,\"x\":[\"2023-06-23T00:00:00\"],\"type\":\"candlestick\",\"xaxis\":\"x\",\"yaxis\":\"y\"},{\"close\":[256.6000061035156],\"decreasing\":{\"fillcolor\":\"rgba(0, 0, 0, 0)\",\"line\":{\"color\":\"gray\"}},\"high\":[262.45001220703125],\"increasing\":{\"fillcolor\":\"rgba(0, 0, 0, 0)\",\"line\":{\"color\":\"gray\"}},\"low\":[252.8000030517578],\"open\":[259.2900085449219],\"showlegend\":false,\"x\":[\"2023-06-24T00:00:00\"],\"type\":\"candlestick\",\"xaxis\":\"x\",\"yaxis\":\"y\"},{\"close\":[256.6000061035156],\"decreasing\":{\"fillcolor\":\"rgba(0, 0, 0, 0)\",\"line\":{\"color\":\"gray\"}},\"high\":[262.45001220703125],\"increasing\":{\"fillcolor\":\"rgba(0, 0, 0, 0)\",\"line\":{\"color\":\"gray\"}},\"low\":[252.8000030517578],\"open\":[259.2900085449219],\"showlegend\":false,\"x\":[\"2023-06-25T00:00:00\"],\"type\":\"candlestick\",\"xaxis\":\"x\",\"yaxis\":\"y\"},{\"close\":[241.0500030517578],\"decreasing\":{\"fillcolor\":\"red\",\"line\":{\"color\":\"red\"}},\"high\":[258.3699951171875],\"increasing\":{\"fillcolor\":\"red\",\"line\":{\"color\":\"red\"}},\"low\":[240.6999969482422],\"open\":[250.07000732421875],\"showlegend\":false,\"x\":[\"2023-06-26T00:00:00\"],\"type\":\"candlestick\",\"xaxis\":\"x\",\"yaxis\":\"y\"},{\"close\":[250.2100067138672],\"decreasing\":{\"fillcolor\":\"rgba(255, 0, 0, 0)\",\"line\":{\"color\":\"green\"}},\"high\":[250.38999938964844],\"increasing\":{\"fillcolor\":\"rgba(255, 0, 0, 0)\",\"line\":{\"color\":\"green\"}},\"low\":[240.85000610351562],\"open\":[243.24000549316406],\"showlegend\":false,\"x\":[\"2023-06-27T00:00:00\"],\"type\":\"candlestick\",\"xaxis\":\"x\",\"yaxis\":\"y\"},{\"close\":[256.239990234375],\"decreasing\":{\"fillcolor\":\"rgba(255, 0, 0, 0)\",\"line\":{\"color\":\"green\"}},\"high\":[259.8800048828125],\"increasing\":{\"fillcolor\":\"rgba(255, 0, 0, 0)\",\"line\":{\"color\":\"green\"}},\"low\":[248.88999938964844],\"open\":[249.6999969482422],\"showlegend\":false,\"x\":[\"2023-06-28T00:00:00\"],\"type\":\"candlestick\",\"xaxis\":\"x\",\"yaxis\":\"y\"},{\"close\":[257.5],\"decreasing\":{\"fillcolor\":\"green\",\"line\":{\"color\":\"green\"}},\"high\":[260.739990234375],\"increasing\":{\"fillcolor\":\"green\",\"line\":{\"color\":\"green\"}},\"low\":[253.61000061035156],\"open\":[258.0299987792969],\"showlegend\":false,\"x\":[\"2023-06-29T00:00:00\"],\"type\":\"candlestick\",\"xaxis\":\"x\",\"yaxis\":\"y\"},{\"close\":[261.7699890136719],\"decreasing\":{\"fillcolor\":\"rgba(255, 0, 0, 0)\",\"line\":{\"color\":\"green\"}},\"high\":[264.45001220703125],\"increasing\":{\"fillcolor\":\"rgba(255, 0, 0, 0)\",\"line\":{\"color\":\"green\"}},\"low\":[259.8900146484375],\"open\":[260.6000061035156],\"showlegend\":false,\"x\":[\"2023-06-30T00:00:00\"],\"type\":\"candlestick\",\"xaxis\":\"x\",\"yaxis\":\"y\"},{\"close\":[261.7699890136719],\"decreasing\":{\"fillcolor\":\"rgba(0, 0, 0, 0)\",\"line\":{\"color\":\"gray\"}},\"high\":[264.45001220703125],\"increasing\":{\"fillcolor\":\"rgba(0, 0, 0, 0)\",\"line\":{\"color\":\"gray\"}},\"low\":[259.8900146484375],\"open\":[260.6000061035156],\"showlegend\":false,\"x\":[\"2023-07-01T00:00:00\"],\"type\":\"candlestick\",\"xaxis\":\"x\",\"yaxis\":\"y\"},{\"close\":[261.7699890136719],\"decreasing\":{\"fillcolor\":\"rgba(0, 0, 0, 0)\",\"line\":{\"color\":\"gray\"}},\"high\":[264.45001220703125],\"increasing\":{\"fillcolor\":\"rgba(0, 0, 0, 0)\",\"line\":{\"color\":\"gray\"}},\"low\":[259.8900146484375],\"open\":[260.6000061035156],\"showlegend\":false,\"x\":[\"2023-07-02T00:00:00\"],\"type\":\"candlestick\",\"xaxis\":\"x\",\"yaxis\":\"y\"},{\"close\":[279.82000732421875],\"decreasing\":{\"fillcolor\":\"rgba(255, 0, 0, 0)\",\"line\":{\"color\":\"green\"}},\"high\":[284.25],\"increasing\":{\"fillcolor\":\"rgba(255, 0, 0, 0)\",\"line\":{\"color\":\"green\"}},\"low\":[275.1099853515625],\"open\":[276.489990234375],\"showlegend\":false,\"x\":[\"2023-07-03T00:00:00\"],\"type\":\"candlestick\",\"xaxis\":\"x\",\"yaxis\":\"y\"},{\"close\":[279.82000732421875],\"decreasing\":{\"fillcolor\":\"rgba(0, 0, 0, 0)\",\"line\":{\"color\":\"gray\"}},\"high\":[284.25],\"increasing\":{\"fillcolor\":\"rgba(0, 0, 0, 0)\",\"line\":{\"color\":\"gray\"}},\"low\":[275.1099853515625],\"open\":[276.489990234375],\"showlegend\":false,\"x\":[\"2023-07-04T00:00:00\"],\"type\":\"candlestick\",\"xaxis\":\"x\",\"yaxis\":\"y\"},{\"close\":[282.4800109863281],\"decreasing\":{\"fillcolor\":\"rgba(255, 0, 0, 0)\",\"line\":{\"color\":\"green\"}},\"high\":[283.8500061035156],\"increasing\":{\"fillcolor\":\"rgba(255, 0, 0, 0)\",\"line\":{\"color\":\"green\"}},\"low\":[277.6000061035156],\"open\":[278.82000732421875],\"showlegend\":false,\"x\":[\"2023-07-05T00:00:00\"],\"type\":\"candlestick\",\"xaxis\":\"x\",\"yaxis\":\"y\"},{\"close\":[276.5400085449219],\"decreasing\":{\"fillcolor\":\"red\",\"line\":{\"color\":\"red\"}},\"high\":[279.9700012207031],\"increasing\":{\"fillcolor\":\"red\",\"line\":{\"color\":\"red\"}},\"low\":[272.8800048828125],\"open\":[278.0899963378906],\"showlegend\":false,\"x\":[\"2023-07-06T00:00:00\"],\"type\":\"candlestick\",\"xaxis\":\"x\",\"yaxis\":\"y\"},{\"close\":[274.42999267578125],\"decreasing\":{\"fillcolor\":\"red\",\"line\":{\"color\":\"red\"}},\"high\":[280.7799987792969],\"increasing\":{\"fillcolor\":\"red\",\"line\":{\"color\":\"red\"}},\"low\":[273.7699890136719],\"open\":[278.42999267578125],\"showlegend\":false,\"x\":[\"2023-07-07T00:00:00\"],\"type\":\"candlestick\",\"xaxis\":\"x\",\"yaxis\":\"y\"},{\"close\":[274.42999267578125],\"decreasing\":{\"fillcolor\":\"rgba(0, 0, 0, 0)\",\"line\":{\"color\":\"gray\"}},\"high\":[280.7799987792969],\"increasing\":{\"fillcolor\":\"rgba(0, 0, 0, 0)\",\"line\":{\"color\":\"gray\"}},\"low\":[273.7699890136719],\"open\":[278.42999267578125],\"showlegend\":false,\"x\":[\"2023-07-08T00:00:00\"],\"type\":\"candlestick\",\"xaxis\":\"x\",\"yaxis\":\"y\"},{\"close\":[274.42999267578125],\"decreasing\":{\"fillcolor\":\"rgba(0, 0, 0, 0)\",\"line\":{\"color\":\"gray\"}},\"high\":[280.7799987792969],\"increasing\":{\"fillcolor\":\"rgba(0, 0, 0, 0)\",\"line\":{\"color\":\"gray\"}},\"low\":[273.7699890136719],\"open\":[278.42999267578125],\"showlegend\":false,\"x\":[\"2023-07-09T00:00:00\"],\"type\":\"candlestick\",\"xaxis\":\"x\",\"yaxis\":\"y\"},{\"close\":[269.6099853515625],\"decreasing\":{\"fillcolor\":\"red\",\"line\":{\"color\":\"red\"}},\"high\":[277.5199890136719],\"increasing\":{\"fillcolor\":\"red\",\"line\":{\"color\":\"red\"}},\"low\":[265.1000061035156],\"open\":[276.4700012207031],\"showlegend\":false,\"x\":[\"2023-07-10T00:00:00\"],\"type\":\"candlestick\",\"xaxis\":\"x\",\"yaxis\":\"y\"},{\"close\":[269.7900085449219],\"decreasing\":{\"fillcolor\":\"rgba(255, 0, 0, 0)\",\"line\":{\"color\":\"green\"}},\"high\":[270.8999938964844],\"increasing\":{\"fillcolor\":\"rgba(255, 0, 0, 0)\",\"line\":{\"color\":\"green\"}},\"low\":[266.3699951171875],\"open\":[268.6499938964844],\"showlegend\":false,\"x\":[\"2023-07-11T00:00:00\"],\"type\":\"candlestick\",\"xaxis\":\"x\",\"yaxis\":\"y\"},{\"close\":[271.989990234375],\"decreasing\":{\"fillcolor\":\"green\",\"line\":{\"color\":\"green\"}},\"high\":[276.5199890136719],\"increasing\":{\"fillcolor\":\"green\",\"line\":{\"color\":\"green\"}},\"low\":[271.4599914550781],\"open\":[276.3299865722656],\"showlegend\":false,\"x\":[\"2023-07-12T00:00:00\"],\"type\":\"candlestick\",\"xaxis\":\"x\",\"yaxis\":\"y\"},{\"close\":[277.8999938964844],\"decreasing\":{\"fillcolor\":\"rgba(255, 0, 0, 0)\",\"line\":{\"color\":\"green\"}},\"high\":[279.45001220703125],\"increasing\":{\"fillcolor\":\"rgba(255, 0, 0, 0)\",\"line\":{\"color\":\"green\"}},\"low\":[270.6000061035156],\"open\":[274.5899963378906],\"showlegend\":false,\"x\":[\"2023-07-13T00:00:00\"],\"type\":\"candlestick\",\"xaxis\":\"x\",\"yaxis\":\"y\"},{\"close\":[281.3800048828125],\"decreasing\":{\"fillcolor\":\"rgba(255, 0, 0, 0)\",\"line\":{\"color\":\"green\"}},\"high\":[285.29998779296875],\"increasing\":{\"fillcolor\":\"rgba(255, 0, 0, 0)\",\"line\":{\"color\":\"green\"}},\"low\":[276.30999755859375],\"open\":[277.010009765625],\"showlegend\":false,\"x\":[\"2023-07-14T00:00:00\"],\"type\":\"candlestick\",\"xaxis\":\"x\",\"yaxis\":\"y\"},{\"close\":[281.3800048828125],\"decreasing\":{\"fillcolor\":\"rgba(0, 0, 0, 0)\",\"line\":{\"color\":\"gray\"}},\"high\":[285.29998779296875],\"increasing\":{\"fillcolor\":\"rgba(0, 0, 0, 0)\",\"line\":{\"color\":\"gray\"}},\"low\":[276.30999755859375],\"open\":[277.010009765625],\"showlegend\":false,\"x\":[\"2023-07-15T00:00:00\"],\"type\":\"candlestick\",\"xaxis\":\"x\",\"yaxis\":\"y\"},{\"close\":[281.3800048828125],\"decreasing\":{\"fillcolor\":\"rgba(0, 0, 0, 0)\",\"line\":{\"color\":\"gray\"}},\"high\":[285.29998779296875],\"increasing\":{\"fillcolor\":\"rgba(0, 0, 0, 0)\",\"line\":{\"color\":\"gray\"}},\"low\":[276.30999755859375],\"open\":[277.010009765625],\"showlegend\":false,\"x\":[\"2023-07-16T00:00:00\"],\"type\":\"candlestick\",\"xaxis\":\"x\",\"yaxis\":\"y\"},{\"close\":[290.3800048828125],\"decreasing\":{\"fillcolor\":\"rgba(255, 0, 0, 0)\",\"line\":{\"color\":\"green\"}},\"high\":[292.2300109863281],\"increasing\":{\"fillcolor\":\"rgba(255, 0, 0, 0)\",\"line\":{\"color\":\"green\"}},\"low\":[283.57000732421875],\"open\":[286.6300048828125],\"showlegend\":false,\"x\":[\"2023-07-17T00:00:00\"],\"type\":\"candlestick\",\"xaxis\":\"x\",\"yaxis\":\"y\"},{\"close\":[293.3399963378906],\"decreasing\":{\"fillcolor\":\"rgba(255, 0, 0, 0)\",\"line\":{\"color\":\"green\"}},\"high\":[295.260009765625],\"increasing\":{\"fillcolor\":\"rgba(255, 0, 0, 0)\",\"line\":{\"color\":\"green\"}},\"low\":[286.010009765625],\"open\":[290.1499938964844],\"showlegend\":false,\"x\":[\"2023-07-18T00:00:00\"],\"type\":\"candlestick\",\"xaxis\":\"x\",\"yaxis\":\"y\"},{\"close\":[291.260009765625],\"decreasing\":{\"fillcolor\":\"red\",\"line\":{\"color\":\"red\"}},\"high\":[299.2900085449219],\"increasing\":{\"fillcolor\":\"red\",\"line\":{\"color\":\"red\"}},\"low\":[289.5199890136719],\"open\":[296.0400085449219],\"showlegend\":false,\"x\":[\"2023-07-19T00:00:00\"],\"type\":\"candlestick\",\"xaxis\":\"x\",\"yaxis\":\"y\"},{\"marker\":{\"color\":\"orange\"},\"mode\":\"lines\",\"name\":\"RSI\",\"x\":[\"2023-01-03T00:00:00\",\"2023-01-04T00:00:00\",\"2023-01-05T00:00:00\",\"2023-01-06T00:00:00\",\"2023-01-07T00:00:00\",\"2023-01-08T00:00:00\",\"2023-01-09T00:00:00\",\"2023-01-10T00:00:00\",\"2023-01-11T00:00:00\",\"2023-01-12T00:00:00\",\"2023-01-13T00:00:00\",\"2023-01-14T00:00:00\",\"2023-01-15T00:00:00\",\"2023-01-16T00:00:00\",\"2023-01-17T00:00:00\",\"2023-01-18T00:00:00\",\"2023-01-19T00:00:00\",\"2023-01-20T00:00:00\",\"2023-01-21T00:00:00\",\"2023-01-22T00:00:00\",\"2023-01-23T00:00:00\",\"2023-01-24T00:00:00\",\"2023-01-25T00:00:00\",\"2023-01-26T00:00:00\",\"2023-01-27T00:00:00\",\"2023-01-28T00:00:00\",\"2023-01-29T00:00:00\",\"2023-01-30T00:00:00\",\"2023-01-31T00:00:00\",\"2023-02-01T00:00:00\",\"2023-02-02T00:00:00\",\"2023-02-03T00:00:00\",\"2023-02-04T00:00:00\",\"2023-02-05T00:00:00\",\"2023-02-06T00:00:00\",\"2023-02-07T00:00:00\",\"2023-02-08T00:00:00\",\"2023-02-09T00:00:00\",\"2023-02-10T00:00:00\",\"2023-02-11T00:00:00\",\"2023-02-12T00:00:00\",\"2023-02-13T00:00:00\",\"2023-02-14T00:00:00\",\"2023-02-15T00:00:00\",\"2023-02-16T00:00:00\",\"2023-02-17T00:00:00\",\"2023-02-18T00:00:00\",\"2023-02-19T00:00:00\",\"2023-02-20T00:00:00\",\"2023-02-21T00:00:00\",\"2023-02-22T00:00:00\",\"2023-02-23T00:00:00\",\"2023-02-24T00:00:00\",\"2023-02-25T00:00:00\",\"2023-02-26T00:00:00\",\"2023-02-27T00:00:00\",\"2023-02-28T00:00:00\",\"2023-03-01T00:00:00\",\"2023-03-02T00:00:00\",\"2023-03-03T00:00:00\",\"2023-03-04T00:00:00\",\"2023-03-05T00:00:00\",\"2023-03-06T00:00:00\",\"2023-03-07T00:00:00\",\"2023-03-08T00:00:00\",\"2023-03-09T00:00:00\",\"2023-03-10T00:00:00\",\"2023-03-11T00:00:00\",\"2023-03-12T00:00:00\",\"2023-03-13T00:00:00\",\"2023-03-14T00:00:00\",\"2023-03-15T00:00:00\",\"2023-03-16T00:00:00\",\"2023-03-17T00:00:00\",\"2023-03-18T00:00:00\",\"2023-03-19T00:00:00\",\"2023-03-20T00:00:00\",\"2023-03-21T00:00:00\",\"2023-03-22T00:00:00\",\"2023-03-23T00:00:00\",\"2023-03-24T00:00:00\",\"2023-03-25T00:00:00\",\"2023-03-26T00:00:00\",\"2023-03-27T00:00:00\",\"2023-03-28T00:00:00\",\"2023-03-29T00:00:00\",\"2023-03-30T00:00:00\",\"2023-03-31T00:00:00\",\"2023-04-01T00:00:00\",\"2023-04-02T00:00:00\",\"2023-04-03T00:00:00\",\"2023-04-04T00:00:00\",\"2023-04-05T00:00:00\",\"2023-04-06T00:00:00\",\"2023-04-07T00:00:00\",\"2023-04-08T00:00:00\",\"2023-04-09T00:00:00\",\"2023-04-10T00:00:00\",\"2023-04-11T00:00:00\",\"2023-04-12T00:00:00\",\"2023-04-13T00:00:00\",\"2023-04-14T00:00:00\",\"2023-04-15T00:00:00\",\"2023-04-16T00:00:00\",\"2023-04-17T00:00:00\",\"2023-04-18T00:00:00\",\"2023-04-19T00:00:00\",\"2023-04-20T00:00:00\",\"2023-04-21T00:00:00\",\"2023-04-22T00:00:00\",\"2023-04-23T00:00:00\",\"2023-04-24T00:00:00\",\"2023-04-25T00:00:00\",\"2023-04-26T00:00:00\",\"2023-04-27T00:00:00\",\"2023-04-28T00:00:00\",\"2023-04-29T00:00:00\",\"2023-04-30T00:00:00\",\"2023-05-01T00:00:00\",\"2023-05-02T00:00:00\",\"2023-05-03T00:00:00\",\"2023-05-04T00:00:00\",\"2023-05-05T00:00:00\",\"2023-05-06T00:00:00\",\"2023-05-07T00:00:00\",\"2023-05-08T00:00:00\",\"2023-05-09T00:00:00\",\"2023-05-10T00:00:00\",\"2023-05-11T00:00:00\",\"2023-05-12T00:00:00\",\"2023-05-13T00:00:00\",\"2023-05-14T00:00:00\",\"2023-05-15T00:00:00\",\"2023-05-16T00:00:00\",\"2023-05-17T00:00:00\",\"2023-05-18T00:00:00\",\"2023-05-19T00:00:00\",\"2023-05-20T00:00:00\",\"2023-05-21T00:00:00\",\"2023-05-22T00:00:00\",\"2023-05-23T00:00:00\",\"2023-05-24T00:00:00\",\"2023-05-25T00:00:00\",\"2023-05-26T00:00:00\",\"2023-05-27T00:00:00\",\"2023-05-28T00:00:00\",\"2023-05-29T00:00:00\",\"2023-05-30T00:00:00\",\"2023-05-31T00:00:00\",\"2023-06-01T00:00:00\",\"2023-06-02T00:00:00\",\"2023-06-03T00:00:00\",\"2023-06-04T00:00:00\",\"2023-06-05T00:00:00\",\"2023-06-06T00:00:00\",\"2023-06-07T00:00:00\",\"2023-06-08T00:00:00\",\"2023-06-09T00:00:00\",\"2023-06-10T00:00:00\",\"2023-06-11T00:00:00\",\"2023-06-12T00:00:00\",\"2023-06-13T00:00:00\",\"2023-06-14T00:00:00\",\"2023-06-15T00:00:00\",\"2023-06-16T00:00:00\",\"2023-06-17T00:00:00\",\"2023-06-18T00:00:00\",\"2023-06-19T00:00:00\",\"2023-06-20T00:00:00\",\"2023-06-21T00:00:00\",\"2023-06-22T00:00:00\",\"2023-06-23T00:00:00\",\"2023-06-24T00:00:00\",\"2023-06-25T00:00:00\",\"2023-06-26T00:00:00\",\"2023-06-27T00:00:00\",\"2023-06-28T00:00:00\",\"2023-06-29T00:00:00\",\"2023-06-30T00:00:00\",\"2023-07-01T00:00:00\",\"2023-07-02T00:00:00\",\"2023-07-03T00:00:00\",\"2023-07-04T00:00:00\",\"2023-07-05T00:00:00\",\"2023-07-06T00:00:00\",\"2023-07-07T00:00:00\",\"2023-07-08T00:00:00\",\"2023-07-09T00:00:00\",\"2023-07-10T00:00:00\",\"2023-07-11T00:00:00\",\"2023-07-12T00:00:00\",\"2023-07-13T00:00:00\",\"2023-07-14T00:00:00\",\"2023-07-15T00:00:00\",\"2023-07-16T00:00:00\",\"2023-07-17T00:00:00\",\"2023-07-18T00:00:00\",\"2023-07-19T00:00:00\"],\"y\":[null,null,null,null,null,null,null,null,null,null,null,null,null,78.43802671017986,87.37998358517288,77.11258740264756,71.72078748105378,78.11735476139454,78.11735476139452,78.11735476139454,85.08271824257343,85.15169950533151,85.43153458499295,90.86820793500134,93.6904715675104,93.6904715675104,93.6904715675104,75.18703308139808,77.92697467141232,80.78043133839614,82.78756601493707,83.25694332734203,83.25694332734203,83.25694332734203,84.71242365785434,85.3025238588464,86.52650613309953,87.97775932875598,73.27581943596923,73.27581943596923,73.27581943596923,70.11872421360141,77.03712427709381,78.83920403642455,65.3383866021677,68.33915571084442,68.33915571084442,68.33915571084442,68.33915571084442,56.798974760982745,59.16783166842409,59.98703527980871,54.89934094391904,54.89934094391904,54.89934094391904,63.014393087897716,60.90649754252339,57.72240761103221,47.03182002943453,52.52784677461494,52.52784677461494,52.52784677461494,48.86946641604706,43.83085921450197,39.70417530454314,34.191380177343106,34.75013457312302,34.75013457312302,34.75013457312302,36.105264451999155,46.253687774213255,43.85303513294719,47.68265898720734,44.15711268358409,44.15711268358409,44.15711268358409,47.90921629052717,60.90281525087718,54.351479143411076,55.21482871324723,53.37583366238961,53.37583366238961,53.37583366238961,54.829231513679716,51.58820296083272,56.5405615031649,57.92422584098963,67.59163106876025,67.59163106876026,67.59163106876026,52.03428303716032,49.89972310427922,43.679059807825425,43.30029145803095,43.30029145803095,43.30029145803095,43.30029145803095,42.70474425682185,46.019247881644965,39.3065797349422,46.51232473146072,45.534772753630406,45.53477275363041,45.53477275363042,48.59344895201509,44.955047959157,40.50460686859365,26.92401998025126,29.928526388317096,29.928526388317096,29.928526388317096,28.176979533643802,26.916381986756846,22.861974122118994,32.9796786899324,38.53414988823735,38.53414988823735,38.53414988823735,36.27398676269179,34.922002305422154,35.43350645059172,36.490714662390694,49.78720062780258,49.78720062780258,49.78720062780258,52.22643020277795,48.36529043814898,47.49160883871863,52.818235866406646,46.88583963184049,46.88583963184048,46.88583963184049,44.409141787750535,44.737017866404656,56.63088744715781,60.41807696738614,64.0448714019217,64.0448714019217,64.04487140192171,72.49885717280297,66.51790547335249,61.462488163286096,63.11400441032102,70.62612467042479,70.62612467042479,70.62612467042479,70.62612467042479,76.53047407543947,78.16881319283178,80.10702692694338,83.0232870955567,83.0232870955567,83.0232870955567,84.6131913652947,86.0439447734978,87.17545963872894,89.94626436328679,91.73019188112892,91.73019188112892,91.73019188112892,92.65650723010475,93.86646672195778,90.39831504340783,88.76114058154891,89.79844858549242,89.79844858549242,89.79844858549242,89.79844858549242,92.56534516670857,70.40448151438899,72.81268784670802,64.0790856360343,64.0790856360343,64.0790856360343,49.641762567571405,55.939310859324515,59.52743056571176,60.255767315786436,62.705156342768184,62.70515634276819,62.705156342768184,71.86098221267794,71.86098221267794,72.9941157409501,66.5493782702441,64.3750808625587,64.37508086255869,64.3750808625587,58.885960711265355,59.02648571671902,60.79022000541512,65.13237815884926,67.42027379900296,67.42027379900296,67.42027379900296,73.11788989946761,74.6858728695888,71.52859755979641],\"type\":\"scatter\",\"xaxis\":\"x2\",\"yaxis\":\"y2\"},{\"marker\":{\"color\":\"red\"},\"mode\":\"markers\",\"showlegend\":false,\"x\":[\"2023-01-16T00:00:00\"],\"y\":[78.43802671017986],\"type\":\"scatter\",\"xaxis\":\"x2\",\"yaxis\":\"y2\"},{\"marker\":{\"color\":\"green\"},\"mode\":\"markers\",\"showlegend\":false,\"x\":[\"2023-04-20T00:00:00\"],\"y\":[26.92401998025126],\"type\":\"scatter\",\"xaxis\":\"x2\",\"yaxis\":\"y2\"},{\"marker\":{\"color\":\"red\"},\"mode\":\"markers\",\"showlegend\":false,\"x\":[\"2023-05-22T00:00:00\"],\"y\":[72.49885717280297],\"type\":\"scatter\",\"xaxis\":\"x2\",\"yaxis\":\"y2\"},{\"marker\":{\"color\":\"red\"},\"mode\":\"markers\",\"showlegend\":false,\"x\":[\"2023-05-26T00:00:00\"],\"y\":[70.62612467042479],\"type\":\"scatter\",\"xaxis\":\"x2\",\"yaxis\":\"y2\"},{\"marker\":{\"color\":\"red\"},\"mode\":\"markers\",\"showlegend\":false,\"x\":[\"2023-07-03T00:00:00\"],\"y\":[71.86098221267794],\"type\":\"scatter\",\"xaxis\":\"x2\",\"yaxis\":\"y2\"},{\"marker\":{\"color\":\"red\"},\"mode\":\"markers\",\"showlegend\":false,\"x\":[\"2023-07-17T00:00:00\"],\"y\":[73.11788989946761],\"type\":\"scatter\",\"xaxis\":\"x2\",\"yaxis\":\"y2\"}],                        {\"template\":{\"data\":{\"histogram2dcontour\":[{\"type\":\"histogram2dcontour\",\"colorbar\":{\"outlinewidth\":0,\"ticks\":\"\"},\"colorscale\":[[0.0,\"#0d0887\"],[0.1111111111111111,\"#46039f\"],[0.2222222222222222,\"#7201a8\"],[0.3333333333333333,\"#9c179e\"],[0.4444444444444444,\"#bd3786\"],[0.5555555555555556,\"#d8576b\"],[0.6666666666666666,\"#ed7953\"],[0.7777777777777778,\"#fb9f3a\"],[0.8888888888888888,\"#fdca26\"],[1.0,\"#f0f921\"]]}],\"choropleth\":[{\"type\":\"choropleth\",\"colorbar\":{\"outlinewidth\":0,\"ticks\":\"\"}}],\"histogram2d\":[{\"type\":\"histogram2d\",\"colorbar\":{\"outlinewidth\":0,\"ticks\":\"\"},\"colorscale\":[[0.0,\"#0d0887\"],[0.1111111111111111,\"#46039f\"],[0.2222222222222222,\"#7201a8\"],[0.3333333333333333,\"#9c179e\"],[0.4444444444444444,\"#bd3786\"],[0.5555555555555556,\"#d8576b\"],[0.6666666666666666,\"#ed7953\"],[0.7777777777777778,\"#fb9f3a\"],[0.8888888888888888,\"#fdca26\"],[1.0,\"#f0f921\"]]}],\"heatmap\":[{\"type\":\"heatmap\",\"colorbar\":{\"outlinewidth\":0,\"ticks\":\"\"},\"colorscale\":[[0.0,\"#0d0887\"],[0.1111111111111111,\"#46039f\"],[0.2222222222222222,\"#7201a8\"],[0.3333333333333333,\"#9c179e\"],[0.4444444444444444,\"#bd3786\"],[0.5555555555555556,\"#d8576b\"],[0.6666666666666666,\"#ed7953\"],[0.7777777777777778,\"#fb9f3a\"],[0.8888888888888888,\"#fdca26\"],[1.0,\"#f0f921\"]]}],\"heatmapgl\":[{\"type\":\"heatmapgl\",\"colorbar\":{\"outlinewidth\":0,\"ticks\":\"\"},\"colorscale\":[[0.0,\"#0d0887\"],[0.1111111111111111,\"#46039f\"],[0.2222222222222222,\"#7201a8\"],[0.3333333333333333,\"#9c179e\"],[0.4444444444444444,\"#bd3786\"],[0.5555555555555556,\"#d8576b\"],[0.6666666666666666,\"#ed7953\"],[0.7777777777777778,\"#fb9f3a\"],[0.8888888888888888,\"#fdca26\"],[1.0,\"#f0f921\"]]}],\"contourcarpet\":[{\"type\":\"contourcarpet\",\"colorbar\":{\"outlinewidth\":0,\"ticks\":\"\"}}],\"contour\":[{\"type\":\"contour\",\"colorbar\":{\"outlinewidth\":0,\"ticks\":\"\"},\"colorscale\":[[0.0,\"#0d0887\"],[0.1111111111111111,\"#46039f\"],[0.2222222222222222,\"#7201a8\"],[0.3333333333333333,\"#9c179e\"],[0.4444444444444444,\"#bd3786\"],[0.5555555555555556,\"#d8576b\"],[0.6666666666666666,\"#ed7953\"],[0.7777777777777778,\"#fb9f3a\"],[0.8888888888888888,\"#fdca26\"],[1.0,\"#f0f921\"]]}],\"surface\":[{\"type\":\"surface\",\"colorbar\":{\"outlinewidth\":0,\"ticks\":\"\"},\"colorscale\":[[0.0,\"#0d0887\"],[0.1111111111111111,\"#46039f\"],[0.2222222222222222,\"#7201a8\"],[0.3333333333333333,\"#9c179e\"],[0.4444444444444444,\"#bd3786\"],[0.5555555555555556,\"#d8576b\"],[0.6666666666666666,\"#ed7953\"],[0.7777777777777778,\"#fb9f3a\"],[0.8888888888888888,\"#fdca26\"],[1.0,\"#f0f921\"]]}],\"mesh3d\":[{\"type\":\"mesh3d\",\"colorbar\":{\"outlinewidth\":0,\"ticks\":\"\"}}],\"scatter\":[{\"marker\":{\"line\":{\"color\":\"#283442\"}},\"type\":\"scatter\"}],\"parcoords\":[{\"type\":\"parcoords\",\"line\":{\"colorbar\":{\"outlinewidth\":0,\"ticks\":\"\"}}}],\"scatterpolargl\":[{\"type\":\"scatterpolargl\",\"marker\":{\"colorbar\":{\"outlinewidth\":0,\"ticks\":\"\"}}}],\"bar\":[{\"error_x\":{\"color\":\"#f2f5fa\"},\"error_y\":{\"color\":\"#f2f5fa\"},\"marker\":{\"line\":{\"color\":\"rgb(17,17,17)\",\"width\":0.5},\"pattern\":{\"fillmode\":\"overlay\",\"size\":10,\"solidity\":0.2}},\"type\":\"bar\"}],\"scattergeo\":[{\"type\":\"scattergeo\",\"marker\":{\"colorbar\":{\"outlinewidth\":0,\"ticks\":\"\"}}}],\"scatterpolar\":[{\"type\":\"scatterpolar\",\"marker\":{\"colorbar\":{\"outlinewidth\":0,\"ticks\":\"\"}}}],\"histogram\":[{\"marker\":{\"pattern\":{\"fillmode\":\"overlay\",\"size\":10,\"solidity\":0.2}},\"type\":\"histogram\"}],\"scattergl\":[{\"marker\":{\"line\":{\"color\":\"#283442\"}},\"type\":\"scattergl\"}],\"scatter3d\":[{\"type\":\"scatter3d\",\"line\":{\"colorbar\":{\"outlinewidth\":0,\"ticks\":\"\"}},\"marker\":{\"colorbar\":{\"outlinewidth\":0,\"ticks\":\"\"}}}],\"scattermapbox\":[{\"type\":\"scattermapbox\",\"marker\":{\"colorbar\":{\"outlinewidth\":0,\"ticks\":\"\"}}}],\"scatterternary\":[{\"type\":\"scatterternary\",\"marker\":{\"colorbar\":{\"outlinewidth\":0,\"ticks\":\"\"}}}],\"scattercarpet\":[{\"type\":\"scattercarpet\",\"marker\":{\"colorbar\":{\"outlinewidth\":0,\"ticks\":\"\"}}}],\"carpet\":[{\"aaxis\":{\"endlinecolor\":\"#A2B1C6\",\"gridcolor\":\"#506784\",\"linecolor\":\"#506784\",\"minorgridcolor\":\"#506784\",\"startlinecolor\":\"#A2B1C6\"},\"baxis\":{\"endlinecolor\":\"#A2B1C6\",\"gridcolor\":\"#506784\",\"linecolor\":\"#506784\",\"minorgridcolor\":\"#506784\",\"startlinecolor\":\"#A2B1C6\"},\"type\":\"carpet\"}],\"table\":[{\"cells\":{\"fill\":{\"color\":\"#506784\"},\"line\":{\"color\":\"rgb(17,17,17)\"}},\"header\":{\"fill\":{\"color\":\"#2a3f5f\"},\"line\":{\"color\":\"rgb(17,17,17)\"}},\"type\":\"table\"}],\"barpolar\":[{\"marker\":{\"line\":{\"color\":\"rgb(17,17,17)\",\"width\":0.5},\"pattern\":{\"fillmode\":\"overlay\",\"size\":10,\"solidity\":0.2}},\"type\":\"barpolar\"}],\"pie\":[{\"automargin\":true,\"type\":\"pie\"}]},\"layout\":{\"autotypenumbers\":\"strict\",\"colorway\":[\"#636efa\",\"#EF553B\",\"#00cc96\",\"#ab63fa\",\"#FFA15A\",\"#19d3f3\",\"#FF6692\",\"#B6E880\",\"#FF97FF\",\"#FECB52\"],\"font\":{\"color\":\"#f2f5fa\"},\"hovermode\":\"closest\",\"hoverlabel\":{\"align\":\"left\"},\"paper_bgcolor\":\"#383838\",\"plot_bgcolor\":\"#383838\",\"polar\":{\"bgcolor\":\"rgb(17,17,17)\",\"angularaxis\":{\"gridcolor\":\"#506784\",\"linecolor\":\"#506784\",\"ticks\":\"\"},\"radialaxis\":{\"gridcolor\":\"#506784\",\"linecolor\":\"#506784\",\"ticks\":\"\"}},\"ternary\":{\"bgcolor\":\"rgb(17,17,17)\",\"aaxis\":{\"gridcolor\":\"#506784\",\"linecolor\":\"#506784\",\"ticks\":\"\"},\"baxis\":{\"gridcolor\":\"#506784\",\"linecolor\":\"#506784\",\"ticks\":\"\"},\"caxis\":{\"gridcolor\":\"#506784\",\"linecolor\":\"#506784\",\"ticks\":\"\"}},\"coloraxis\":{\"colorbar\":{\"outlinewidth\":0,\"ticks\":\"\"}},\"colorscale\":{\"sequential\":[[0.0,\"#0d0887\"],[0.1111111111111111,\"#46039f\"],[0.2222222222222222,\"#7201a8\"],[0.3333333333333333,\"#9c179e\"],[0.4444444444444444,\"#bd3786\"],[0.5555555555555556,\"#d8576b\"],[0.6666666666666666,\"#ed7953\"],[0.7777777777777778,\"#fb9f3a\"],[0.8888888888888888,\"#fdca26\"],[1.0,\"#f0f921\"]],\"sequentialminus\":[[0.0,\"#0d0887\"],[0.1111111111111111,\"#46039f\"],[0.2222222222222222,\"#7201a8\"],[0.3333333333333333,\"#9c179e\"],[0.4444444444444444,\"#bd3786\"],[0.5555555555555556,\"#d8576b\"],[0.6666666666666666,\"#ed7953\"],[0.7777777777777778,\"#fb9f3a\"],[0.8888888888888888,\"#fdca26\"],[1.0,\"#f0f921\"]],\"diverging\":[[0,\"#8e0152\"],[0.1,\"#c51b7d\"],[0.2,\"#de77ae\"],[0.3,\"#f1b6da\"],[0.4,\"#fde0ef\"],[0.5,\"#f7f7f7\"],[0.6,\"#e6f5d0\"],[0.7,\"#b8e186\"],[0.8,\"#7fbc41\"],[0.9,\"#4d9221\"],[1,\"#276419\"]]},\"xaxis\":{\"gridcolor\":\"#D5D5D5\",\"linecolor\":\"#D5D5D5\",\"ticks\":\"\",\"title\":{\"standoff\":15},\"zerolinecolor\":\"#D5D5D5\",\"automargin\":true,\"zerolinewidth\":2},\"yaxis\":{\"gridcolor\":\"#D5D5D5\",\"linecolor\":\"#D5D5D5\",\"ticks\":\"\",\"title\":{\"standoff\":15},\"zerolinecolor\":\"#D5D5D5\",\"automargin\":true,\"zerolinewidth\":2},\"scene\":{\"xaxis\":{\"backgroundcolor\":\"rgb(17,17,17)\",\"gridcolor\":\"#506784\",\"linecolor\":\"#506784\",\"showbackground\":true,\"ticks\":\"\",\"zerolinecolor\":\"#C8D4E3\",\"gridwidth\":2},\"yaxis\":{\"backgroundcolor\":\"rgb(17,17,17)\",\"gridcolor\":\"#506784\",\"linecolor\":\"#506784\",\"showbackground\":true,\"ticks\":\"\",\"zerolinecolor\":\"#C8D4E3\",\"gridwidth\":2},\"zaxis\":{\"backgroundcolor\":\"rgb(17,17,17)\",\"gridcolor\":\"#506784\",\"linecolor\":\"#506784\",\"showbackground\":true,\"ticks\":\"\",\"zerolinecolor\":\"#C8D4E3\",\"gridwidth\":2}},\"shapedefaults\":{\"line\":{\"color\":\"#f2f5fa\"}},\"annotationdefaults\":{\"arrowcolor\":\"#f2f5fa\",\"arrowhead\":0,\"arrowwidth\":1},\"geo\":{\"bgcolor\":\"rgb(17,17,17)\",\"landcolor\":\"rgb(17,17,17)\",\"subunitcolor\":\"#506784\",\"showland\":true,\"showlakes\":true,\"lakecolor\":\"rgb(17,17,17)\"},\"title\":{\"x\":0.05},\"updatemenudefaults\":{\"bgcolor\":\"#506784\",\"borderwidth\":0},\"sliderdefaults\":{\"bgcolor\":\"#C8D4E3\",\"borderwidth\":1,\"bordercolor\":\"rgb(17,17,17)\",\"tickwidth\":0},\"mapbox\":{\"style\":\"dark\"}}},\"xaxis\":{\"anchor\":\"y\",\"domain\":[0.0,1.0],\"matches\":\"x2\",\"showticklabels\":false,\"rangeslider\":{\"visible\":false}},\"yaxis\":{\"anchor\":\"x\",\"domain\":[0.525,1.0]},\"xaxis2\":{\"anchor\":\"y2\",\"domain\":[0.0,1.0]},\"yaxis2\":{\"anchor\":\"x2\",\"domain\":[0.0,0.475],\"title\":{\"text\":\"RSI\"},\"range\":[0,100]},\"annotations\":[{\"font\":{\"size\":16},\"showarrow\":false,\"text\":\"Candlestick\",\"x\":0.5,\"xanchor\":\"center\",\"xref\":\"paper\",\"y\":1.0,\"yanchor\":\"bottom\",\"yref\":\"paper\"},{\"font\":{\"size\":16},\"showarrow\":false,\"text\":\"RSI\",\"x\":0.5,\"xanchor\":\"center\",\"xref\":\"paper\",\"y\":0.475,\"yanchor\":\"bottom\",\"yref\":\"paper\"}],\"shapes\":[{\"line\":{\"color\":\"blue\",\"dash\":\"dash\"},\"name\":\"RSI 30\",\"type\":\"line\",\"x0\":0,\"x1\":1,\"xref\":\"x2 domain\",\"y0\":30,\"y1\":30,\"yref\":\"y2\"},{\"line\":{\"color\":\"red\",\"dash\":\"dash\"},\"name\":\"RSI 70\",\"type\":\"line\",\"x0\":0,\"x1\":1,\"xref\":\"x2 domain\",\"y0\":70,\"y1\":70,\"yref\":\"y2\"}],\"title\":{\"text\":\"TSLA Stock Price and RSI (Last 14 days)\"}},                        {\"responsive\": true}                    ).then(function(){\n",
              "                            \n",
              "var gd = document.getElementById('aead7fe7-fcf3-4445-a02f-42431003552a');\n",
              "var x = new MutationObserver(function (mutations, observer) {{\n",
              "        var display = window.getComputedStyle(gd).display;\n",
              "        if (!display || display === 'none') {{\n",
              "            console.log([gd, 'removed!']);\n",
              "            Plotly.purge(gd);\n",
              "            observer.disconnect();\n",
              "        }}\n",
              "}});\n",
              "\n",
              "// Listen for the removal of the full notebook cells\n",
              "var notebookContainer = gd.closest('#notebook-container');\n",
              "if (notebookContainer) {{\n",
              "    x.observe(notebookContainer, {childList: true});\n",
              "}}\n",
              "\n",
              "// Listen for the clearing of the current output cell\n",
              "var outputEl = gd.closest('.output');\n",
              "if (outputEl) {{\n",
              "    x.observe(outputEl, {childList: true});\n",
              "}}\n",
              "\n",
              "                        })                };                            </script>        </div>\n",
              "</body>\n",
              "</html>"
            ]
          },
          "metadata": {}
        }
      ]
    },
    {
      "cell_type": "markdown",
      "source": [
        "# Retornando indíces técnicos diretamente da api iqoption (rsi, fibonacci e ema)\n",
        "\n",
        "(https://iqoptionapi.github.io/iqoptionapi/en/techinical%20analysis/)\n",
        "\n",
        "(https://www.fidelity.com/learning-center/trading-investing/technical-analysis/technical-indicator-guide/ema#:~:text=Exponential%20Moving%20Average%20(EMA)%20is,data%20that%20is%20more%20current.)\n",
        "\n",
        "(https://www.investopedia.com/terms/e/ema.asp)\n",
        "\n",
        "(https://capital.com/exponential-moving-average#:~:text=To%20read%20the%20EMA%20indicator,of%20the%20prevailing%20market%20conditions.)\n",
        "\n",
        "(https://www.tradingpedia.com/forex-trading-strategies/forex-trading-strategy-8-a-combination-of-rsi-ema-and-candlestick-setups/)"
      ],
      "metadata": {
        "id": "FMD0Fv6ZZ9eU"
      }
    },
    {
      "cell_type": "code",
      "source": [
        "indicators = Iq.get_technical_indicators(goal)"
      ],
      "metadata": {
        "id": "1lAyD_7iaH3w"
      },
      "execution_count": 82,
      "outputs": []
    },
    {
      "cell_type": "code",
      "source": [
        "type(indicators)"
      ],
      "metadata": {
        "colab": {
          "base_uri": "https://localhost:8080/"
        },
        "id": "JU2OOLEad4-6",
        "outputId": "fa99961e-ef21-464b-a994-0fb2bf2683f1"
      },
      "execution_count": 83,
      "outputs": [
        {
          "output_type": "execute_result",
          "data": {
            "text/plain": [
              "list"
            ]
          },
          "metadata": {},
          "execution_count": 83
        }
      ]
    },
    {
      "cell_type": "code",
      "source": [
        "indicators_df = pd.DataFrame(indicators)"
      ],
      "metadata": {
        "id": "CxH67aAOd-0Q"
      },
      "execution_count": 84,
      "outputs": []
    },
    {
      "cell_type": "code",
      "source": [
        "indicators_df['name'].unique()"
      ],
      "metadata": {
        "colab": {
          "base_uri": "https://localhost:8080/"
        },
        "id": "Zb6TsLUI4bm0",
        "outputId": "24d54943-d5df-439f-a891-588240ddfbe6"
      },
      "execution_count": 85,
      "outputs": [
        {
          "output_type": "execute_result",
          "data": {
            "text/plain": [
              "array(['Relative Strength Index (14)', 'Stochastic %K (14, 3, 3)',\n",
              "       'Commodity Channel Index (20)', 'Average Directional Index (14)',\n",
              "       'Awesome Oscillator', 'Momentum (10)', 'MACD Level (12, 26)',\n",
              "       'Stochastic RSI Fast (3, 3, 14, 14)',\n",
              "       'Williams Percent Range (14)', 'Bull Bear Power',\n",
              "       'Ultimate Oscillator (7, 14, 28)',\n",
              "       'Exponential Moving Average (5)', 'Simple Moving Average (5)',\n",
              "       'Exponential Moving Average (10)', 'Simple Moving Average (10)',\n",
              "       'Exponential Moving Average (20)', 'Simple Moving Average (20)',\n",
              "       'Exponential Moving Average (30)', 'Simple Moving Average (30)',\n",
              "       'Exponential Moving Average (50)', 'Simple Moving Average (50)',\n",
              "       'Exponential Moving Average (100)', 'Simple Moving Average (100)',\n",
              "       'Exponential Moving Average (200)', 'Simple Moving Average (200)',\n",
              "       'Ichimoku Cloud Base Line (9, 26, 52, 26)',\n",
              "       'Volume Weighted Moving Average (20)', 'Hull Moving Average (9)',\n",
              "       'Classic s3', 'Classic s2', 'Classic s1', 'Classic p',\n",
              "       'Classic r1', 'Classic r2', 'Classic r3', 'Fibonacci s3',\n",
              "       'Fibonacci s2', 'Fibonacci s1', 'Fibonacci p', 'Fibonacci r1',\n",
              "       'Fibonacci r2', 'Fibonacci r3', 'Camarilla s3', 'Camarilla s2',\n",
              "       'Camarilla s1', 'Camarilla p', 'Camarilla r1', 'Camarilla r2',\n",
              "       'Camarilla r3', 'Woodie s2', 'Woodie s1', 'Woodie p', 'Woodie r1',\n",
              "       'Woodie r2', 'DeMark s1', 'DeMark p', 'DeMark r1'], dtype=object)"
            ]
          },
          "metadata": {},
          "execution_count": 85
        }
      ]
    },
    {
      "cell_type": "code",
      "source": [
        "indicators_df[indicators_df['name'].str.contains('Fibonacci')]"
      ],
      "metadata": {
        "colab": {
          "base_uri": "https://localhost:8080/",
          "height": 1000
        },
        "id": "dPdZmdv2eLAo",
        "outputId": "53076262-e3fb-4c12-daf4-dd99bd8f471f"
      },
      "execution_count": 86,
      "outputs": [
        {
          "output_type": "execute_result",
          "data": {
            "text/plain": [
              "    action  candle_size   group          name     value\n",
              "35    hold           60  PIVOTS  Fibonacci s3  1.075908\n",
              "36    hold           60  PIVOTS  Fibonacci s2  1.078210\n",
              "37    hold           60  PIVOTS  Fibonacci s1  1.079632\n",
              "38    hold           60  PIVOTS   Fibonacci p  1.081933\n",
              "39    hold           60  PIVOTS  Fibonacci r1  1.084235\n",
              "40    hold           60  PIVOTS  Fibonacci r2  1.085657\n",
              "41    hold           60  PIVOTS  Fibonacci r3  1.087958\n",
              "92    hold          300  PIVOTS  Fibonacci s3  1.075907\n",
              "93    hold          300  PIVOTS  Fibonacci s2  1.078208\n",
              "94    hold          300  PIVOTS  Fibonacci s1  1.079630\n",
              "95    hold          300  PIVOTS   Fibonacci p  1.081932\n",
              "96    hold          300  PIVOTS  Fibonacci r1  1.084233\n",
              "97    hold          300  PIVOTS  Fibonacci r2  1.085655\n",
              "98    hold          300  PIVOTS  Fibonacci r3  1.087957\n",
              "149   hold          900  PIVOTS  Fibonacci s3  1.075907\n",
              "150   hold          900  PIVOTS  Fibonacci s2  1.078208\n",
              "151   hold          900  PIVOTS  Fibonacci s1  1.079630\n",
              "152   hold          900  PIVOTS   Fibonacci p  1.081932\n",
              "153   hold          900  PIVOTS  Fibonacci r1  1.084233\n",
              "154   hold          900  PIVOTS  Fibonacci r2  1.085655\n",
              "155   hold          900  PIVOTS  Fibonacci r3  1.087957\n",
              "206   hold         3600  PIVOTS  Fibonacci s3  1.075237\n",
              "207   hold         3600  PIVOTS  Fibonacci s2  1.077922\n",
              "208   hold         3600  PIVOTS  Fibonacci s1  1.079581\n",
              "209   hold         3600  PIVOTS   Fibonacci p  1.082267\n",
              "210   hold         3600  PIVOTS  Fibonacci r1  1.084952\n",
              "211   hold         3600  PIVOTS  Fibonacci r2  1.086611\n",
              "212   hold         3600  PIVOTS  Fibonacci r3  1.089297\n",
              "263   hold        14400  PIVOTS  Fibonacci s3  1.075238\n",
              "264   hold        14400  PIVOTS  Fibonacci s2  1.077924\n",
              "265   hold        14400  PIVOTS  Fibonacci s1  1.079583\n",
              "266   hold        14400  PIVOTS   Fibonacci p  1.082268\n",
              "267   hold        14400  PIVOTS  Fibonacci r1  1.084954\n",
              "268   hold        14400  PIVOTS  Fibonacci r2  1.086613\n",
              "269   hold        14400  PIVOTS  Fibonacci r3  1.089298\n",
              "320   hold        86400  PIVOTS  Fibonacci s3  1.059687\n",
              "321   hold        86400  PIVOTS  Fibonacci s2  1.067432\n",
              "322   hold        86400  PIVOTS  Fibonacci s1  1.072217\n",
              "323   hold        86400  PIVOTS   Fibonacci p  1.079962\n",
              "324   hold        86400  PIVOTS  Fibonacci r1  1.087707\n",
              "325   hold        86400  PIVOTS  Fibonacci r2  1.092492\n",
              "326   hold        86400  PIVOTS  Fibonacci r3  1.100237\n",
              "377   hold       604800  PIVOTS  Fibonacci s3  1.043557\n",
              "378   hold       604800  PIVOTS  Fibonacci s2  1.060544\n",
              "379   hold       604800  PIVOTS  Fibonacci s1  1.071039\n",
              "380   hold       604800  PIVOTS   Fibonacci p  1.088027\n",
              "381   hold       604800  PIVOTS  Fibonacci r1  1.105014\n",
              "382   hold       604800  PIVOTS  Fibonacci r2  1.115509\n",
              "383   hold       604800  PIVOTS  Fibonacci r3  1.132497\n",
              "434   hold      2592000  PIVOTS  Fibonacci s3  1.043558\n",
              "435   hold      2592000  PIVOTS  Fibonacci s2  1.060546\n",
              "436   hold      2592000  PIVOTS  Fibonacci s1  1.071041\n",
              "437   hold      2592000  PIVOTS   Fibonacci p  1.088028\n",
              "438   hold      2592000  PIVOTS  Fibonacci r1  1.105016\n",
              "439   hold      2592000  PIVOTS  Fibonacci r2  1.115511\n",
              "440   hold      2592000  PIVOTS  Fibonacci r3  1.132498"
            ],
            "text/html": [
              "\n",
              "  <div id=\"df-9f159e04-d76d-4946-80a8-bca0d6b756d8\" class=\"colab-df-container\">\n",
              "    <div>\n",
              "<style scoped>\n",
              "    .dataframe tbody tr th:only-of-type {\n",
              "        vertical-align: middle;\n",
              "    }\n",
              "\n",
              "    .dataframe tbody tr th {\n",
              "        vertical-align: top;\n",
              "    }\n",
              "\n",
              "    .dataframe thead th {\n",
              "        text-align: right;\n",
              "    }\n",
              "</style>\n",
              "<table border=\"1\" class=\"dataframe\">\n",
              "  <thead>\n",
              "    <tr style=\"text-align: right;\">\n",
              "      <th></th>\n",
              "      <th>action</th>\n",
              "      <th>candle_size</th>\n",
              "      <th>group</th>\n",
              "      <th>name</th>\n",
              "      <th>value</th>\n",
              "    </tr>\n",
              "  </thead>\n",
              "  <tbody>\n",
              "    <tr>\n",
              "      <th>35</th>\n",
              "      <td>hold</td>\n",
              "      <td>60</td>\n",
              "      <td>PIVOTS</td>\n",
              "      <td>Fibonacci s3</td>\n",
              "      <td>1.075908</td>\n",
              "    </tr>\n",
              "    <tr>\n",
              "      <th>36</th>\n",
              "      <td>hold</td>\n",
              "      <td>60</td>\n",
              "      <td>PIVOTS</td>\n",
              "      <td>Fibonacci s2</td>\n",
              "      <td>1.078210</td>\n",
              "    </tr>\n",
              "    <tr>\n",
              "      <th>37</th>\n",
              "      <td>hold</td>\n",
              "      <td>60</td>\n",
              "      <td>PIVOTS</td>\n",
              "      <td>Fibonacci s1</td>\n",
              "      <td>1.079632</td>\n",
              "    </tr>\n",
              "    <tr>\n",
              "      <th>38</th>\n",
              "      <td>hold</td>\n",
              "      <td>60</td>\n",
              "      <td>PIVOTS</td>\n",
              "      <td>Fibonacci p</td>\n",
              "      <td>1.081933</td>\n",
              "    </tr>\n",
              "    <tr>\n",
              "      <th>39</th>\n",
              "      <td>hold</td>\n",
              "      <td>60</td>\n",
              "      <td>PIVOTS</td>\n",
              "      <td>Fibonacci r1</td>\n",
              "      <td>1.084235</td>\n",
              "    </tr>\n",
              "    <tr>\n",
              "      <th>40</th>\n",
              "      <td>hold</td>\n",
              "      <td>60</td>\n",
              "      <td>PIVOTS</td>\n",
              "      <td>Fibonacci r2</td>\n",
              "      <td>1.085657</td>\n",
              "    </tr>\n",
              "    <tr>\n",
              "      <th>41</th>\n",
              "      <td>hold</td>\n",
              "      <td>60</td>\n",
              "      <td>PIVOTS</td>\n",
              "      <td>Fibonacci r3</td>\n",
              "      <td>1.087958</td>\n",
              "    </tr>\n",
              "    <tr>\n",
              "      <th>92</th>\n",
              "      <td>hold</td>\n",
              "      <td>300</td>\n",
              "      <td>PIVOTS</td>\n",
              "      <td>Fibonacci s3</td>\n",
              "      <td>1.075907</td>\n",
              "    </tr>\n",
              "    <tr>\n",
              "      <th>93</th>\n",
              "      <td>hold</td>\n",
              "      <td>300</td>\n",
              "      <td>PIVOTS</td>\n",
              "      <td>Fibonacci s2</td>\n",
              "      <td>1.078208</td>\n",
              "    </tr>\n",
              "    <tr>\n",
              "      <th>94</th>\n",
              "      <td>hold</td>\n",
              "      <td>300</td>\n",
              "      <td>PIVOTS</td>\n",
              "      <td>Fibonacci s1</td>\n",
              "      <td>1.079630</td>\n",
              "    </tr>\n",
              "    <tr>\n",
              "      <th>95</th>\n",
              "      <td>hold</td>\n",
              "      <td>300</td>\n",
              "      <td>PIVOTS</td>\n",
              "      <td>Fibonacci p</td>\n",
              "      <td>1.081932</td>\n",
              "    </tr>\n",
              "    <tr>\n",
              "      <th>96</th>\n",
              "      <td>hold</td>\n",
              "      <td>300</td>\n",
              "      <td>PIVOTS</td>\n",
              "      <td>Fibonacci r1</td>\n",
              "      <td>1.084233</td>\n",
              "    </tr>\n",
              "    <tr>\n",
              "      <th>97</th>\n",
              "      <td>hold</td>\n",
              "      <td>300</td>\n",
              "      <td>PIVOTS</td>\n",
              "      <td>Fibonacci r2</td>\n",
              "      <td>1.085655</td>\n",
              "    </tr>\n",
              "    <tr>\n",
              "      <th>98</th>\n",
              "      <td>hold</td>\n",
              "      <td>300</td>\n",
              "      <td>PIVOTS</td>\n",
              "      <td>Fibonacci r3</td>\n",
              "      <td>1.087957</td>\n",
              "    </tr>\n",
              "    <tr>\n",
              "      <th>149</th>\n",
              "      <td>hold</td>\n",
              "      <td>900</td>\n",
              "      <td>PIVOTS</td>\n",
              "      <td>Fibonacci s3</td>\n",
              "      <td>1.075907</td>\n",
              "    </tr>\n",
              "    <tr>\n",
              "      <th>150</th>\n",
              "      <td>hold</td>\n",
              "      <td>900</td>\n",
              "      <td>PIVOTS</td>\n",
              "      <td>Fibonacci s2</td>\n",
              "      <td>1.078208</td>\n",
              "    </tr>\n",
              "    <tr>\n",
              "      <th>151</th>\n",
              "      <td>hold</td>\n",
              "      <td>900</td>\n",
              "      <td>PIVOTS</td>\n",
              "      <td>Fibonacci s1</td>\n",
              "      <td>1.079630</td>\n",
              "    </tr>\n",
              "    <tr>\n",
              "      <th>152</th>\n",
              "      <td>hold</td>\n",
              "      <td>900</td>\n",
              "      <td>PIVOTS</td>\n",
              "      <td>Fibonacci p</td>\n",
              "      <td>1.081932</td>\n",
              "    </tr>\n",
              "    <tr>\n",
              "      <th>153</th>\n",
              "      <td>hold</td>\n",
              "      <td>900</td>\n",
              "      <td>PIVOTS</td>\n",
              "      <td>Fibonacci r1</td>\n",
              "      <td>1.084233</td>\n",
              "    </tr>\n",
              "    <tr>\n",
              "      <th>154</th>\n",
              "      <td>hold</td>\n",
              "      <td>900</td>\n",
              "      <td>PIVOTS</td>\n",
              "      <td>Fibonacci r2</td>\n",
              "      <td>1.085655</td>\n",
              "    </tr>\n",
              "    <tr>\n",
              "      <th>155</th>\n",
              "      <td>hold</td>\n",
              "      <td>900</td>\n",
              "      <td>PIVOTS</td>\n",
              "      <td>Fibonacci r3</td>\n",
              "      <td>1.087957</td>\n",
              "    </tr>\n",
              "    <tr>\n",
              "      <th>206</th>\n",
              "      <td>hold</td>\n",
              "      <td>3600</td>\n",
              "      <td>PIVOTS</td>\n",
              "      <td>Fibonacci s3</td>\n",
              "      <td>1.075237</td>\n",
              "    </tr>\n",
              "    <tr>\n",
              "      <th>207</th>\n",
              "      <td>hold</td>\n",
              "      <td>3600</td>\n",
              "      <td>PIVOTS</td>\n",
              "      <td>Fibonacci s2</td>\n",
              "      <td>1.077922</td>\n",
              "    </tr>\n",
              "    <tr>\n",
              "      <th>208</th>\n",
              "      <td>hold</td>\n",
              "      <td>3600</td>\n",
              "      <td>PIVOTS</td>\n",
              "      <td>Fibonacci s1</td>\n",
              "      <td>1.079581</td>\n",
              "    </tr>\n",
              "    <tr>\n",
              "      <th>209</th>\n",
              "      <td>hold</td>\n",
              "      <td>3600</td>\n",
              "      <td>PIVOTS</td>\n",
              "      <td>Fibonacci p</td>\n",
              "      <td>1.082267</td>\n",
              "    </tr>\n",
              "    <tr>\n",
              "      <th>210</th>\n",
              "      <td>hold</td>\n",
              "      <td>3600</td>\n",
              "      <td>PIVOTS</td>\n",
              "      <td>Fibonacci r1</td>\n",
              "      <td>1.084952</td>\n",
              "    </tr>\n",
              "    <tr>\n",
              "      <th>211</th>\n",
              "      <td>hold</td>\n",
              "      <td>3600</td>\n",
              "      <td>PIVOTS</td>\n",
              "      <td>Fibonacci r2</td>\n",
              "      <td>1.086611</td>\n",
              "    </tr>\n",
              "    <tr>\n",
              "      <th>212</th>\n",
              "      <td>hold</td>\n",
              "      <td>3600</td>\n",
              "      <td>PIVOTS</td>\n",
              "      <td>Fibonacci r3</td>\n",
              "      <td>1.089297</td>\n",
              "    </tr>\n",
              "    <tr>\n",
              "      <th>263</th>\n",
              "      <td>hold</td>\n",
              "      <td>14400</td>\n",
              "      <td>PIVOTS</td>\n",
              "      <td>Fibonacci s3</td>\n",
              "      <td>1.075238</td>\n",
              "    </tr>\n",
              "    <tr>\n",
              "      <th>264</th>\n",
              "      <td>hold</td>\n",
              "      <td>14400</td>\n",
              "      <td>PIVOTS</td>\n",
              "      <td>Fibonacci s2</td>\n",
              "      <td>1.077924</td>\n",
              "    </tr>\n",
              "    <tr>\n",
              "      <th>265</th>\n",
              "      <td>hold</td>\n",
              "      <td>14400</td>\n",
              "      <td>PIVOTS</td>\n",
              "      <td>Fibonacci s1</td>\n",
              "      <td>1.079583</td>\n",
              "    </tr>\n",
              "    <tr>\n",
              "      <th>266</th>\n",
              "      <td>hold</td>\n",
              "      <td>14400</td>\n",
              "      <td>PIVOTS</td>\n",
              "      <td>Fibonacci p</td>\n",
              "      <td>1.082268</td>\n",
              "    </tr>\n",
              "    <tr>\n",
              "      <th>267</th>\n",
              "      <td>hold</td>\n",
              "      <td>14400</td>\n",
              "      <td>PIVOTS</td>\n",
              "      <td>Fibonacci r1</td>\n",
              "      <td>1.084954</td>\n",
              "    </tr>\n",
              "    <tr>\n",
              "      <th>268</th>\n",
              "      <td>hold</td>\n",
              "      <td>14400</td>\n",
              "      <td>PIVOTS</td>\n",
              "      <td>Fibonacci r2</td>\n",
              "      <td>1.086613</td>\n",
              "    </tr>\n",
              "    <tr>\n",
              "      <th>269</th>\n",
              "      <td>hold</td>\n",
              "      <td>14400</td>\n",
              "      <td>PIVOTS</td>\n",
              "      <td>Fibonacci r3</td>\n",
              "      <td>1.089298</td>\n",
              "    </tr>\n",
              "    <tr>\n",
              "      <th>320</th>\n",
              "      <td>hold</td>\n",
              "      <td>86400</td>\n",
              "      <td>PIVOTS</td>\n",
              "      <td>Fibonacci s3</td>\n",
              "      <td>1.059687</td>\n",
              "    </tr>\n",
              "    <tr>\n",
              "      <th>321</th>\n",
              "      <td>hold</td>\n",
              "      <td>86400</td>\n",
              "      <td>PIVOTS</td>\n",
              "      <td>Fibonacci s2</td>\n",
              "      <td>1.067432</td>\n",
              "    </tr>\n",
              "    <tr>\n",
              "      <th>322</th>\n",
              "      <td>hold</td>\n",
              "      <td>86400</td>\n",
              "      <td>PIVOTS</td>\n",
              "      <td>Fibonacci s1</td>\n",
              "      <td>1.072217</td>\n",
              "    </tr>\n",
              "    <tr>\n",
              "      <th>323</th>\n",
              "      <td>hold</td>\n",
              "      <td>86400</td>\n",
              "      <td>PIVOTS</td>\n",
              "      <td>Fibonacci p</td>\n",
              "      <td>1.079962</td>\n",
              "    </tr>\n",
              "    <tr>\n",
              "      <th>324</th>\n",
              "      <td>hold</td>\n",
              "      <td>86400</td>\n",
              "      <td>PIVOTS</td>\n",
              "      <td>Fibonacci r1</td>\n",
              "      <td>1.087707</td>\n",
              "    </tr>\n",
              "    <tr>\n",
              "      <th>325</th>\n",
              "      <td>hold</td>\n",
              "      <td>86400</td>\n",
              "      <td>PIVOTS</td>\n",
              "      <td>Fibonacci r2</td>\n",
              "      <td>1.092492</td>\n",
              "    </tr>\n",
              "    <tr>\n",
              "      <th>326</th>\n",
              "      <td>hold</td>\n",
              "      <td>86400</td>\n",
              "      <td>PIVOTS</td>\n",
              "      <td>Fibonacci r3</td>\n",
              "      <td>1.100237</td>\n",
              "    </tr>\n",
              "    <tr>\n",
              "      <th>377</th>\n",
              "      <td>hold</td>\n",
              "      <td>604800</td>\n",
              "      <td>PIVOTS</td>\n",
              "      <td>Fibonacci s3</td>\n",
              "      <td>1.043557</td>\n",
              "    </tr>\n",
              "    <tr>\n",
              "      <th>378</th>\n",
              "      <td>hold</td>\n",
              "      <td>604800</td>\n",
              "      <td>PIVOTS</td>\n",
              "      <td>Fibonacci s2</td>\n",
              "      <td>1.060544</td>\n",
              "    </tr>\n",
              "    <tr>\n",
              "      <th>379</th>\n",
              "      <td>hold</td>\n",
              "      <td>604800</td>\n",
              "      <td>PIVOTS</td>\n",
              "      <td>Fibonacci s1</td>\n",
              "      <td>1.071039</td>\n",
              "    </tr>\n",
              "    <tr>\n",
              "      <th>380</th>\n",
              "      <td>hold</td>\n",
              "      <td>604800</td>\n",
              "      <td>PIVOTS</td>\n",
              "      <td>Fibonacci p</td>\n",
              "      <td>1.088027</td>\n",
              "    </tr>\n",
              "    <tr>\n",
              "      <th>381</th>\n",
              "      <td>hold</td>\n",
              "      <td>604800</td>\n",
              "      <td>PIVOTS</td>\n",
              "      <td>Fibonacci r1</td>\n",
              "      <td>1.105014</td>\n",
              "    </tr>\n",
              "    <tr>\n",
              "      <th>382</th>\n",
              "      <td>hold</td>\n",
              "      <td>604800</td>\n",
              "      <td>PIVOTS</td>\n",
              "      <td>Fibonacci r2</td>\n",
              "      <td>1.115509</td>\n",
              "    </tr>\n",
              "    <tr>\n",
              "      <th>383</th>\n",
              "      <td>hold</td>\n",
              "      <td>604800</td>\n",
              "      <td>PIVOTS</td>\n",
              "      <td>Fibonacci r3</td>\n",
              "      <td>1.132497</td>\n",
              "    </tr>\n",
              "    <tr>\n",
              "      <th>434</th>\n",
              "      <td>hold</td>\n",
              "      <td>2592000</td>\n",
              "      <td>PIVOTS</td>\n",
              "      <td>Fibonacci s3</td>\n",
              "      <td>1.043558</td>\n",
              "    </tr>\n",
              "    <tr>\n",
              "      <th>435</th>\n",
              "      <td>hold</td>\n",
              "      <td>2592000</td>\n",
              "      <td>PIVOTS</td>\n",
              "      <td>Fibonacci s2</td>\n",
              "      <td>1.060546</td>\n",
              "    </tr>\n",
              "    <tr>\n",
              "      <th>436</th>\n",
              "      <td>hold</td>\n",
              "      <td>2592000</td>\n",
              "      <td>PIVOTS</td>\n",
              "      <td>Fibonacci s1</td>\n",
              "      <td>1.071041</td>\n",
              "    </tr>\n",
              "    <tr>\n",
              "      <th>437</th>\n",
              "      <td>hold</td>\n",
              "      <td>2592000</td>\n",
              "      <td>PIVOTS</td>\n",
              "      <td>Fibonacci p</td>\n",
              "      <td>1.088028</td>\n",
              "    </tr>\n",
              "    <tr>\n",
              "      <th>438</th>\n",
              "      <td>hold</td>\n",
              "      <td>2592000</td>\n",
              "      <td>PIVOTS</td>\n",
              "      <td>Fibonacci r1</td>\n",
              "      <td>1.105016</td>\n",
              "    </tr>\n",
              "    <tr>\n",
              "      <th>439</th>\n",
              "      <td>hold</td>\n",
              "      <td>2592000</td>\n",
              "      <td>PIVOTS</td>\n",
              "      <td>Fibonacci r2</td>\n",
              "      <td>1.115511</td>\n",
              "    </tr>\n",
              "    <tr>\n",
              "      <th>440</th>\n",
              "      <td>hold</td>\n",
              "      <td>2592000</td>\n",
              "      <td>PIVOTS</td>\n",
              "      <td>Fibonacci r3</td>\n",
              "      <td>1.132498</td>\n",
              "    </tr>\n",
              "  </tbody>\n",
              "</table>\n",
              "</div>\n",
              "    <div class=\"colab-df-buttons\">\n",
              "\n",
              "  <div class=\"colab-df-container\">\n",
              "    <button class=\"colab-df-convert\" onclick=\"convertToInteractive('df-9f159e04-d76d-4946-80a8-bca0d6b756d8')\"\n",
              "            title=\"Convert this dataframe to an interactive table.\"\n",
              "            style=\"display:none;\">\n",
              "\n",
              "  <svg xmlns=\"http://www.w3.org/2000/svg\" height=\"24px\" viewBox=\"0 -960 960 960\">\n",
              "    <path d=\"M120-120v-720h720v720H120Zm60-500h600v-160H180v160Zm220 220h160v-160H400v160Zm0 220h160v-160H400v160ZM180-400h160v-160H180v160Zm440 0h160v-160H620v160ZM180-180h160v-160H180v160Zm440 0h160v-160H620v160Z\"/>\n",
              "  </svg>\n",
              "    </button>\n",
              "\n",
              "  <style>\n",
              "    .colab-df-container {\n",
              "      display:flex;\n",
              "      gap: 12px;\n",
              "    }\n",
              "\n",
              "    .colab-df-convert {\n",
              "      background-color: #E8F0FE;\n",
              "      border: none;\n",
              "      border-radius: 50%;\n",
              "      cursor: pointer;\n",
              "      display: none;\n",
              "      fill: #1967D2;\n",
              "      height: 32px;\n",
              "      padding: 0 0 0 0;\n",
              "      width: 32px;\n",
              "    }\n",
              "\n",
              "    .colab-df-convert:hover {\n",
              "      background-color: #E2EBFA;\n",
              "      box-shadow: 0px 1px 2px rgba(60, 64, 67, 0.3), 0px 1px 3px 1px rgba(60, 64, 67, 0.15);\n",
              "      fill: #174EA6;\n",
              "    }\n",
              "\n",
              "    .colab-df-buttons div {\n",
              "      margin-bottom: 4px;\n",
              "    }\n",
              "\n",
              "    [theme=dark] .colab-df-convert {\n",
              "      background-color: #3B4455;\n",
              "      fill: #D2E3FC;\n",
              "    }\n",
              "\n",
              "    [theme=dark] .colab-df-convert:hover {\n",
              "      background-color: #434B5C;\n",
              "      box-shadow: 0px 1px 3px 1px rgba(0, 0, 0, 0.15);\n",
              "      filter: drop-shadow(0px 1px 2px rgba(0, 0, 0, 0.3));\n",
              "      fill: #FFFFFF;\n",
              "    }\n",
              "  </style>\n",
              "\n",
              "    <script>\n",
              "      const buttonEl =\n",
              "        document.querySelector('#df-9f159e04-d76d-4946-80a8-bca0d6b756d8 button.colab-df-convert');\n",
              "      buttonEl.style.display =\n",
              "        google.colab.kernel.accessAllowed ? 'block' : 'none';\n",
              "\n",
              "      async function convertToInteractive(key) {\n",
              "        const element = document.querySelector('#df-9f159e04-d76d-4946-80a8-bca0d6b756d8');\n",
              "        const dataTable =\n",
              "          await google.colab.kernel.invokeFunction('convertToInteractive',\n",
              "                                                    [key], {});\n",
              "        if (!dataTable) return;\n",
              "\n",
              "        const docLinkHtml = 'Like what you see? Visit the ' +\n",
              "          '<a target=\"_blank\" href=https://colab.research.google.com/notebooks/data_table.ipynb>data table notebook</a>'\n",
              "          + ' to learn more about interactive tables.';\n",
              "        element.innerHTML = '';\n",
              "        dataTable['output_type'] = 'display_data';\n",
              "        await google.colab.output.renderOutput(dataTable, element);\n",
              "        const docLink = document.createElement('div');\n",
              "        docLink.innerHTML = docLinkHtml;\n",
              "        element.appendChild(docLink);\n",
              "      }\n",
              "    </script>\n",
              "  </div>\n",
              "\n",
              "\n",
              "<div id=\"df-dba67091-9564-4cf2-8f68-2ee4ca90b591\">\n",
              "  <button class=\"colab-df-quickchart\" onclick=\"quickchart('df-dba67091-9564-4cf2-8f68-2ee4ca90b591')\"\n",
              "            title=\"Suggest charts\"\n",
              "            style=\"display:none;\">\n",
              "\n",
              "<svg xmlns=\"http://www.w3.org/2000/svg\" height=\"24px\"viewBox=\"0 0 24 24\"\n",
              "     width=\"24px\">\n",
              "    <g>\n",
              "        <path d=\"M19 3H5c-1.1 0-2 .9-2 2v14c0 1.1.9 2 2 2h14c1.1 0 2-.9 2-2V5c0-1.1-.9-2-2-2zM9 17H7v-7h2v7zm4 0h-2V7h2v10zm4 0h-2v-4h2v4z\"/>\n",
              "    </g>\n",
              "</svg>\n",
              "  </button>\n",
              "\n",
              "<style>\n",
              "  .colab-df-quickchart {\n",
              "      --bg-color: #E8F0FE;\n",
              "      --fill-color: #1967D2;\n",
              "      --hover-bg-color: #E2EBFA;\n",
              "      --hover-fill-color: #174EA6;\n",
              "      --disabled-fill-color: #AAA;\n",
              "      --disabled-bg-color: #DDD;\n",
              "  }\n",
              "\n",
              "  [theme=dark] .colab-df-quickchart {\n",
              "      --bg-color: #3B4455;\n",
              "      --fill-color: #D2E3FC;\n",
              "      --hover-bg-color: #434B5C;\n",
              "      --hover-fill-color: #FFFFFF;\n",
              "      --disabled-bg-color: #3B4455;\n",
              "      --disabled-fill-color: #666;\n",
              "  }\n",
              "\n",
              "  .colab-df-quickchart {\n",
              "    background-color: var(--bg-color);\n",
              "    border: none;\n",
              "    border-radius: 50%;\n",
              "    cursor: pointer;\n",
              "    display: none;\n",
              "    fill: var(--fill-color);\n",
              "    height: 32px;\n",
              "    padding: 0;\n",
              "    width: 32px;\n",
              "  }\n",
              "\n",
              "  .colab-df-quickchart:hover {\n",
              "    background-color: var(--hover-bg-color);\n",
              "    box-shadow: 0 1px 2px rgba(60, 64, 67, 0.3), 0 1px 3px 1px rgba(60, 64, 67, 0.15);\n",
              "    fill: var(--button-hover-fill-color);\n",
              "  }\n",
              "\n",
              "  .colab-df-quickchart-complete:disabled,\n",
              "  .colab-df-quickchart-complete:disabled:hover {\n",
              "    background-color: var(--disabled-bg-color);\n",
              "    fill: var(--disabled-fill-color);\n",
              "    box-shadow: none;\n",
              "  }\n",
              "\n",
              "  .colab-df-spinner {\n",
              "    border: 2px solid var(--fill-color);\n",
              "    border-color: transparent;\n",
              "    border-bottom-color: var(--fill-color);\n",
              "    animation:\n",
              "      spin 1s steps(1) infinite;\n",
              "  }\n",
              "\n",
              "  @keyframes spin {\n",
              "    0% {\n",
              "      border-color: transparent;\n",
              "      border-bottom-color: var(--fill-color);\n",
              "      border-left-color: var(--fill-color);\n",
              "    }\n",
              "    20% {\n",
              "      border-color: transparent;\n",
              "      border-left-color: var(--fill-color);\n",
              "      border-top-color: var(--fill-color);\n",
              "    }\n",
              "    30% {\n",
              "      border-color: transparent;\n",
              "      border-left-color: var(--fill-color);\n",
              "      border-top-color: var(--fill-color);\n",
              "      border-right-color: var(--fill-color);\n",
              "    }\n",
              "    40% {\n",
              "      border-color: transparent;\n",
              "      border-right-color: var(--fill-color);\n",
              "      border-top-color: var(--fill-color);\n",
              "    }\n",
              "    60% {\n",
              "      border-color: transparent;\n",
              "      border-right-color: var(--fill-color);\n",
              "    }\n",
              "    80% {\n",
              "      border-color: transparent;\n",
              "      border-right-color: var(--fill-color);\n",
              "      border-bottom-color: var(--fill-color);\n",
              "    }\n",
              "    90% {\n",
              "      border-color: transparent;\n",
              "      border-bottom-color: var(--fill-color);\n",
              "    }\n",
              "  }\n",
              "</style>\n",
              "\n",
              "  <script>\n",
              "    async function quickchart(key) {\n",
              "      const quickchartButtonEl =\n",
              "        document.querySelector('#' + key + ' button');\n",
              "      quickchartButtonEl.disabled = true;  // To prevent multiple clicks.\n",
              "      quickchartButtonEl.classList.add('colab-df-spinner');\n",
              "      try {\n",
              "        const charts = await google.colab.kernel.invokeFunction(\n",
              "            'suggestCharts', [key], {});\n",
              "      } catch (error) {\n",
              "        console.error('Error during call to suggestCharts:', error);\n",
              "      }\n",
              "      quickchartButtonEl.classList.remove('colab-df-spinner');\n",
              "      quickchartButtonEl.classList.add('colab-df-quickchart-complete');\n",
              "    }\n",
              "    (() => {\n",
              "      let quickchartButtonEl =\n",
              "        document.querySelector('#df-dba67091-9564-4cf2-8f68-2ee4ca90b591 button');\n",
              "      quickchartButtonEl.style.display =\n",
              "        google.colab.kernel.accessAllowed ? 'block' : 'none';\n",
              "    })();\n",
              "  </script>\n",
              "</div>\n",
              "    </div>\n",
              "  </div>\n"
            ],
            "application/vnd.google.colaboratory.intrinsic+json": {
              "type": "dataframe",
              "summary": "{\n  \"name\": \"indicators_df[indicators_df['name']\",\n  \"rows\": 56,\n  \"fields\": [\n    {\n      \"column\": \"action\",\n      \"properties\": {\n        \"dtype\": \"category\",\n        \"num_unique_values\": 1,\n        \"samples\": [\n          \"hold\"\n        ],\n        \"semantic_type\": \"\",\n        \"description\": \"\"\n      }\n    },\n    {\n      \"column\": \"candle_size\",\n      \"properties\": {\n        \"dtype\": \"number\",\n        \"std\": 853874,\n        \"min\": 60,\n        \"max\": 2592000,\n        \"num_unique_values\": 8,\n        \"samples\": [\n          300\n        ],\n        \"semantic_type\": \"\",\n        \"description\": \"\"\n      }\n    },\n    {\n      \"column\": \"group\",\n      \"properties\": {\n        \"dtype\": \"category\",\n        \"num_unique_values\": 1,\n        \"samples\": [\n          \"PIVOTS\"\n        ],\n        \"semantic_type\": \"\",\n        \"description\": \"\"\n      }\n    },\n    {\n      \"column\": \"name\",\n      \"properties\": {\n        \"dtype\": \"category\",\n        \"num_unique_values\": 7,\n        \"samples\": [\n          \"Fibonacci s3\"\n        ],\n        \"semantic_type\": \"\",\n        \"description\": \"\"\n      }\n    },\n    {\n      \"column\": \"value\",\n      \"properties\": {\n        \"dtype\": \"number\",\n        \"std\": 0.016193036902858518,\n        \"min\": 1.043557,\n        \"max\": 1.132498,\n        \"num_unique_values\": 49,\n        \"samples\": [\n          1.087957\n        ],\n        \"semantic_type\": \"\",\n        \"description\": \"\"\n      }\n    }\n  ]\n}"
            }
          },
          "metadata": {},
          "execution_count": 86
        }
      ]
    },
    {
      "cell_type": "markdown",
      "source": [
        "**Plot rsi**"
      ],
      "metadata": {
        "id": "Z2SY_-qRbqqP"
      }
    },
    {
      "cell_type": "code",
      "source": [
        "rsi_df = indicators_df[indicators_df['name'] == 'Relative Strength Index (14)'].reset_index(drop=True)"
      ],
      "metadata": {
        "id": "pKPqJsy2QUrz"
      },
      "execution_count": 87,
      "outputs": []
    },
    {
      "cell_type": "code",
      "source": [
        "rsi_df.head()"
      ],
      "metadata": {
        "colab": {
          "base_uri": "https://localhost:8080/",
          "height": 206
        },
        "id": "O0Dhz_s7QXEK",
        "outputId": "12df3443-d334-4b66-ef36-f029c6724af7"
      },
      "execution_count": 88,
      "outputs": [
        {
          "output_type": "execute_result",
          "data": {
            "text/plain": [
              "  action  candle_size        group                          name      value\n",
              "0   hold           60  OSCILLATORS  Relative Strength Index (14)  33.759125\n",
              "1   hold          300  OSCILLATORS  Relative Strength Index (14)  46.422897\n",
              "2   hold          900  OSCILLATORS  Relative Strength Index (14)  38.657524\n",
              "3   hold         3600  OSCILLATORS  Relative Strength Index (14)  38.920628\n",
              "4   hold        14400  OSCILLATORS  Relative Strength Index (14)  42.573433"
            ],
            "text/html": [
              "\n",
              "  <div id=\"df-a2f3f45e-d17e-4694-8942-e76af48079fe\" class=\"colab-df-container\">\n",
              "    <div>\n",
              "<style scoped>\n",
              "    .dataframe tbody tr th:only-of-type {\n",
              "        vertical-align: middle;\n",
              "    }\n",
              "\n",
              "    .dataframe tbody tr th {\n",
              "        vertical-align: top;\n",
              "    }\n",
              "\n",
              "    .dataframe thead th {\n",
              "        text-align: right;\n",
              "    }\n",
              "</style>\n",
              "<table border=\"1\" class=\"dataframe\">\n",
              "  <thead>\n",
              "    <tr style=\"text-align: right;\">\n",
              "      <th></th>\n",
              "      <th>action</th>\n",
              "      <th>candle_size</th>\n",
              "      <th>group</th>\n",
              "      <th>name</th>\n",
              "      <th>value</th>\n",
              "    </tr>\n",
              "  </thead>\n",
              "  <tbody>\n",
              "    <tr>\n",
              "      <th>0</th>\n",
              "      <td>hold</td>\n",
              "      <td>60</td>\n",
              "      <td>OSCILLATORS</td>\n",
              "      <td>Relative Strength Index (14)</td>\n",
              "      <td>33.759125</td>\n",
              "    </tr>\n",
              "    <tr>\n",
              "      <th>1</th>\n",
              "      <td>hold</td>\n",
              "      <td>300</td>\n",
              "      <td>OSCILLATORS</td>\n",
              "      <td>Relative Strength Index (14)</td>\n",
              "      <td>46.422897</td>\n",
              "    </tr>\n",
              "    <tr>\n",
              "      <th>2</th>\n",
              "      <td>hold</td>\n",
              "      <td>900</td>\n",
              "      <td>OSCILLATORS</td>\n",
              "      <td>Relative Strength Index (14)</td>\n",
              "      <td>38.657524</td>\n",
              "    </tr>\n",
              "    <tr>\n",
              "      <th>3</th>\n",
              "      <td>hold</td>\n",
              "      <td>3600</td>\n",
              "      <td>OSCILLATORS</td>\n",
              "      <td>Relative Strength Index (14)</td>\n",
              "      <td>38.920628</td>\n",
              "    </tr>\n",
              "    <tr>\n",
              "      <th>4</th>\n",
              "      <td>hold</td>\n",
              "      <td>14400</td>\n",
              "      <td>OSCILLATORS</td>\n",
              "      <td>Relative Strength Index (14)</td>\n",
              "      <td>42.573433</td>\n",
              "    </tr>\n",
              "  </tbody>\n",
              "</table>\n",
              "</div>\n",
              "    <div class=\"colab-df-buttons\">\n",
              "\n",
              "  <div class=\"colab-df-container\">\n",
              "    <button class=\"colab-df-convert\" onclick=\"convertToInteractive('df-a2f3f45e-d17e-4694-8942-e76af48079fe')\"\n",
              "            title=\"Convert this dataframe to an interactive table.\"\n",
              "            style=\"display:none;\">\n",
              "\n",
              "  <svg xmlns=\"http://www.w3.org/2000/svg\" height=\"24px\" viewBox=\"0 -960 960 960\">\n",
              "    <path d=\"M120-120v-720h720v720H120Zm60-500h600v-160H180v160Zm220 220h160v-160H400v160Zm0 220h160v-160H400v160ZM180-400h160v-160H180v160Zm440 0h160v-160H620v160ZM180-180h160v-160H180v160Zm440 0h160v-160H620v160Z\"/>\n",
              "  </svg>\n",
              "    </button>\n",
              "\n",
              "  <style>\n",
              "    .colab-df-container {\n",
              "      display:flex;\n",
              "      gap: 12px;\n",
              "    }\n",
              "\n",
              "    .colab-df-convert {\n",
              "      background-color: #E8F0FE;\n",
              "      border: none;\n",
              "      border-radius: 50%;\n",
              "      cursor: pointer;\n",
              "      display: none;\n",
              "      fill: #1967D2;\n",
              "      height: 32px;\n",
              "      padding: 0 0 0 0;\n",
              "      width: 32px;\n",
              "    }\n",
              "\n",
              "    .colab-df-convert:hover {\n",
              "      background-color: #E2EBFA;\n",
              "      box-shadow: 0px 1px 2px rgba(60, 64, 67, 0.3), 0px 1px 3px 1px rgba(60, 64, 67, 0.15);\n",
              "      fill: #174EA6;\n",
              "    }\n",
              "\n",
              "    .colab-df-buttons div {\n",
              "      margin-bottom: 4px;\n",
              "    }\n",
              "\n",
              "    [theme=dark] .colab-df-convert {\n",
              "      background-color: #3B4455;\n",
              "      fill: #D2E3FC;\n",
              "    }\n",
              "\n",
              "    [theme=dark] .colab-df-convert:hover {\n",
              "      background-color: #434B5C;\n",
              "      box-shadow: 0px 1px 3px 1px rgba(0, 0, 0, 0.15);\n",
              "      filter: drop-shadow(0px 1px 2px rgba(0, 0, 0, 0.3));\n",
              "      fill: #FFFFFF;\n",
              "    }\n",
              "  </style>\n",
              "\n",
              "    <script>\n",
              "      const buttonEl =\n",
              "        document.querySelector('#df-a2f3f45e-d17e-4694-8942-e76af48079fe button.colab-df-convert');\n",
              "      buttonEl.style.display =\n",
              "        google.colab.kernel.accessAllowed ? 'block' : 'none';\n",
              "\n",
              "      async function convertToInteractive(key) {\n",
              "        const element = document.querySelector('#df-a2f3f45e-d17e-4694-8942-e76af48079fe');\n",
              "        const dataTable =\n",
              "          await google.colab.kernel.invokeFunction('convertToInteractive',\n",
              "                                                    [key], {});\n",
              "        if (!dataTable) return;\n",
              "\n",
              "        const docLinkHtml = 'Like what you see? Visit the ' +\n",
              "          '<a target=\"_blank\" href=https://colab.research.google.com/notebooks/data_table.ipynb>data table notebook</a>'\n",
              "          + ' to learn more about interactive tables.';\n",
              "        element.innerHTML = '';\n",
              "        dataTable['output_type'] = 'display_data';\n",
              "        await google.colab.output.renderOutput(dataTable, element);\n",
              "        const docLink = document.createElement('div');\n",
              "        docLink.innerHTML = docLinkHtml;\n",
              "        element.appendChild(docLink);\n",
              "      }\n",
              "    </script>\n",
              "  </div>\n",
              "\n",
              "\n",
              "<div id=\"df-39c6de31-9e1d-42c0-a5dd-ee86e51e785f\">\n",
              "  <button class=\"colab-df-quickchart\" onclick=\"quickchart('df-39c6de31-9e1d-42c0-a5dd-ee86e51e785f')\"\n",
              "            title=\"Suggest charts\"\n",
              "            style=\"display:none;\">\n",
              "\n",
              "<svg xmlns=\"http://www.w3.org/2000/svg\" height=\"24px\"viewBox=\"0 0 24 24\"\n",
              "     width=\"24px\">\n",
              "    <g>\n",
              "        <path d=\"M19 3H5c-1.1 0-2 .9-2 2v14c0 1.1.9 2 2 2h14c1.1 0 2-.9 2-2V5c0-1.1-.9-2-2-2zM9 17H7v-7h2v7zm4 0h-2V7h2v10zm4 0h-2v-4h2v4z\"/>\n",
              "    </g>\n",
              "</svg>\n",
              "  </button>\n",
              "\n",
              "<style>\n",
              "  .colab-df-quickchart {\n",
              "      --bg-color: #E8F0FE;\n",
              "      --fill-color: #1967D2;\n",
              "      --hover-bg-color: #E2EBFA;\n",
              "      --hover-fill-color: #174EA6;\n",
              "      --disabled-fill-color: #AAA;\n",
              "      --disabled-bg-color: #DDD;\n",
              "  }\n",
              "\n",
              "  [theme=dark] .colab-df-quickchart {\n",
              "      --bg-color: #3B4455;\n",
              "      --fill-color: #D2E3FC;\n",
              "      --hover-bg-color: #434B5C;\n",
              "      --hover-fill-color: #FFFFFF;\n",
              "      --disabled-bg-color: #3B4455;\n",
              "      --disabled-fill-color: #666;\n",
              "  }\n",
              "\n",
              "  .colab-df-quickchart {\n",
              "    background-color: var(--bg-color);\n",
              "    border: none;\n",
              "    border-radius: 50%;\n",
              "    cursor: pointer;\n",
              "    display: none;\n",
              "    fill: var(--fill-color);\n",
              "    height: 32px;\n",
              "    padding: 0;\n",
              "    width: 32px;\n",
              "  }\n",
              "\n",
              "  .colab-df-quickchart:hover {\n",
              "    background-color: var(--hover-bg-color);\n",
              "    box-shadow: 0 1px 2px rgba(60, 64, 67, 0.3), 0 1px 3px 1px rgba(60, 64, 67, 0.15);\n",
              "    fill: var(--button-hover-fill-color);\n",
              "  }\n",
              "\n",
              "  .colab-df-quickchart-complete:disabled,\n",
              "  .colab-df-quickchart-complete:disabled:hover {\n",
              "    background-color: var(--disabled-bg-color);\n",
              "    fill: var(--disabled-fill-color);\n",
              "    box-shadow: none;\n",
              "  }\n",
              "\n",
              "  .colab-df-spinner {\n",
              "    border: 2px solid var(--fill-color);\n",
              "    border-color: transparent;\n",
              "    border-bottom-color: var(--fill-color);\n",
              "    animation:\n",
              "      spin 1s steps(1) infinite;\n",
              "  }\n",
              "\n",
              "  @keyframes spin {\n",
              "    0% {\n",
              "      border-color: transparent;\n",
              "      border-bottom-color: var(--fill-color);\n",
              "      border-left-color: var(--fill-color);\n",
              "    }\n",
              "    20% {\n",
              "      border-color: transparent;\n",
              "      border-left-color: var(--fill-color);\n",
              "      border-top-color: var(--fill-color);\n",
              "    }\n",
              "    30% {\n",
              "      border-color: transparent;\n",
              "      border-left-color: var(--fill-color);\n",
              "      border-top-color: var(--fill-color);\n",
              "      border-right-color: var(--fill-color);\n",
              "    }\n",
              "    40% {\n",
              "      border-color: transparent;\n",
              "      border-right-color: var(--fill-color);\n",
              "      border-top-color: var(--fill-color);\n",
              "    }\n",
              "    60% {\n",
              "      border-color: transparent;\n",
              "      border-right-color: var(--fill-color);\n",
              "    }\n",
              "    80% {\n",
              "      border-color: transparent;\n",
              "      border-right-color: var(--fill-color);\n",
              "      border-bottom-color: var(--fill-color);\n",
              "    }\n",
              "    90% {\n",
              "      border-color: transparent;\n",
              "      border-bottom-color: var(--fill-color);\n",
              "    }\n",
              "  }\n",
              "</style>\n",
              "\n",
              "  <script>\n",
              "    async function quickchart(key) {\n",
              "      const quickchartButtonEl =\n",
              "        document.querySelector('#' + key + ' button');\n",
              "      quickchartButtonEl.disabled = true;  // To prevent multiple clicks.\n",
              "      quickchartButtonEl.classList.add('colab-df-spinner');\n",
              "      try {\n",
              "        const charts = await google.colab.kernel.invokeFunction(\n",
              "            'suggestCharts', [key], {});\n",
              "      } catch (error) {\n",
              "        console.error('Error during call to suggestCharts:', error);\n",
              "      }\n",
              "      quickchartButtonEl.classList.remove('colab-df-spinner');\n",
              "      quickchartButtonEl.classList.add('colab-df-quickchart-complete');\n",
              "    }\n",
              "    (() => {\n",
              "      let quickchartButtonEl =\n",
              "        document.querySelector('#df-39c6de31-9e1d-42c0-a5dd-ee86e51e785f button');\n",
              "      quickchartButtonEl.style.display =\n",
              "        google.colab.kernel.accessAllowed ? 'block' : 'none';\n",
              "    })();\n",
              "  </script>\n",
              "</div>\n",
              "    </div>\n",
              "  </div>\n"
            ],
            "application/vnd.google.colaboratory.intrinsic+json": {
              "type": "dataframe",
              "variable_name": "rsi_df",
              "summary": "{\n  \"name\": \"rsi_df\",\n  \"rows\": 8,\n  \"fields\": [\n    {\n      \"column\": \"action\",\n      \"properties\": {\n        \"dtype\": \"category\",\n        \"num_unique_values\": 1,\n        \"samples\": [\n          \"hold\"\n        ],\n        \"semantic_type\": \"\",\n        \"description\": \"\"\n      }\n    },\n    {\n      \"column\": \"candle_size\",\n      \"properties\": {\n        \"dtype\": \"number\",\n        \"std\": 904643,\n        \"min\": 60,\n        \"max\": 2592000,\n        \"num_unique_values\": 8,\n        \"samples\": [\n          300\n        ],\n        \"semantic_type\": \"\",\n        \"description\": \"\"\n      }\n    },\n    {\n      \"column\": \"group\",\n      \"properties\": {\n        \"dtype\": \"category\",\n        \"num_unique_values\": 1,\n        \"samples\": [\n          \"OSCILLATORS\"\n        ],\n        \"semantic_type\": \"\",\n        \"description\": \"\"\n      }\n    },\n    {\n      \"column\": \"name\",\n      \"properties\": {\n        \"dtype\": \"category\",\n        \"num_unique_values\": 1,\n        \"samples\": [\n          \"Relative Strength Index (14)\"\n        ],\n        \"semantic_type\": \"\",\n        \"description\": \"\"\n      }\n    },\n    {\n      \"column\": \"value\",\n      \"properties\": {\n        \"dtype\": \"number\",\n        \"std\": 5.599962194984826,\n        \"min\": 33.759125,\n        \"max\": 48.94014,\n        \"num_unique_values\": 8,\n        \"samples\": [\n          46.422897\n        ],\n        \"semantic_type\": \"\",\n        \"description\": \"\"\n      }\n    }\n  ]\n}"
            }
          },
          "metadata": {},
          "execution_count": 88
        }
      ]
    },
    {
      "cell_type": "code",
      "source": [
        "rsi_df.shape"
      ],
      "metadata": {
        "colab": {
          "base_uri": "https://localhost:8080/"
        },
        "id": "LC8r3Ag8cO9I",
        "outputId": "2805bc82-9889-42cf-8032-7c354c6cedf8"
      },
      "execution_count": 89,
      "outputs": [
        {
          "output_type": "execute_result",
          "data": {
            "text/plain": [
              "(8, 5)"
            ]
          },
          "metadata": {},
          "execution_count": 89
        }
      ]
    },
    {
      "cell_type": "code",
      "source": [
        "#Plot com os pontos marcados definindo os momentos de entrada. Os de hold como cinza, buy verde e sell vermelho\n",
        "\n",
        "fig = go.Figure()\n",
        "\n",
        "\n",
        "fig.add_trace(\n",
        "    go.Scatter(x=rsi_df.index, y=rsi_df['value'], mode='lines', name='RSI', marker=dict(color='orange'))\n",
        ")\n",
        "\n",
        "\n",
        "for index, row in rsi_df.iterrows():\n",
        "\n",
        "    in_overbought = False\n",
        "\n",
        "    in_oversold = False\n",
        "\n",
        "    if row['value'] >= 70 and not in_overbought:\n",
        "\n",
        "      color = 'red'\n",
        "\n",
        "      in_overbought = True\n",
        "\n",
        "      in_oversold = False\n",
        "\n",
        "    elif row['value'] <= 30 and not in_oversold:\n",
        "\n",
        "      color = 'green'\n",
        "\n",
        "      in_oversold = True\n",
        "\n",
        "      in_overbought = False\n",
        "\n",
        "    else:\n",
        "\n",
        "      color = 'grey'\n",
        "\n",
        "      in_oversold = False\n",
        "\n",
        "      in_overbought = False\n",
        "\n",
        "\n",
        "    fig.add_trace(\n",
        "        go.Scatter(\n",
        "            x=[index],\n",
        "            y=[row['value']],\n",
        "            mode=\"markers\",\n",
        "            marker=dict(color=color),\n",
        "            showlegend=False\n",
        "        )\n",
        "    )\n",
        "\n",
        "\n",
        "fig.update_layout(\n",
        "    title=\"Valores (RSI) em relação ao Candle Size\",\n",
        "    xaxis_title=\"Candle Size\",\n",
        "    yaxis_title=\"Valor (RSI)\"\n",
        ")\n",
        "\n",
        "fig.update_yaxes(range=[0, 100])\n",
        "\n",
        "fig.add_hline(y=30, line_dash=\"dash\", line_color=\"blue\", row=2, col=1, name=\"RSI 30\")\n",
        "fig.add_hline(y=70, line_dash=\"dash\", line_color=\"red\", row=2, col=1, name=\"RSI 70\")\n",
        "\n",
        "\n",
        "fig.show()"
      ],
      "metadata": {
        "colab": {
          "base_uri": "https://localhost:8080/",
          "height": 542
        },
        "id": "AK42oeh3QHck",
        "outputId": "ae77008d-7e38-4806-adcb-d9e74e731adc"
      },
      "execution_count": 90,
      "outputs": [
        {
          "output_type": "display_data",
          "data": {
            "text/html": [
              "<html>\n",
              "<head><meta charset=\"utf-8\" /></head>\n",
              "<body>\n",
              "    <div>            <script src=\"https://cdnjs.cloudflare.com/ajax/libs/mathjax/2.7.5/MathJax.js?config=TeX-AMS-MML_SVG\"></script><script type=\"text/javascript\">if (window.MathJax && window.MathJax.Hub && window.MathJax.Hub.Config) {window.MathJax.Hub.Config({SVG: {font: \"STIX-Web\"}});}</script>                <script type=\"text/javascript\">window.PlotlyConfig = {MathJaxConfig: 'local'};</script>\n",
              "        <script charset=\"utf-8\" src=\"https://cdn.plot.ly/plotly-2.24.1.min.js\"></script>                <div id=\"13f00165-8756-4da3-a4ca-66571761ce3a\" class=\"plotly-graph-div\" style=\"height:525px; width:100%;\"></div>            <script type=\"text/javascript\">                                    window.PLOTLYENV=window.PLOTLYENV || {};                                    if (document.getElementById(\"13f00165-8756-4da3-a4ca-66571761ce3a\")) {                    Plotly.newPlot(                        \"13f00165-8756-4da3-a4ca-66571761ce3a\",                        [{\"marker\":{\"color\":\"orange\"},\"mode\":\"lines\",\"name\":\"RSI\",\"x\":[0,1,2,3,4,5,6,7],\"y\":[33.759125,46.422897,38.657524,38.920628,42.573433,47.360661,48.94014,48.714321],\"type\":\"scatter\"},{\"marker\":{\"color\":\"grey\"},\"mode\":\"markers\",\"showlegend\":false,\"x\":[0],\"y\":[33.759125],\"type\":\"scatter\"},{\"marker\":{\"color\":\"grey\"},\"mode\":\"markers\",\"showlegend\":false,\"x\":[1],\"y\":[46.422897],\"type\":\"scatter\"},{\"marker\":{\"color\":\"grey\"},\"mode\":\"markers\",\"showlegend\":false,\"x\":[2],\"y\":[38.657524],\"type\":\"scatter\"},{\"marker\":{\"color\":\"grey\"},\"mode\":\"markers\",\"showlegend\":false,\"x\":[3],\"y\":[38.920628],\"type\":\"scatter\"},{\"marker\":{\"color\":\"grey\"},\"mode\":\"markers\",\"showlegend\":false,\"x\":[4],\"y\":[42.573433],\"type\":\"scatter\"},{\"marker\":{\"color\":\"grey\"},\"mode\":\"markers\",\"showlegend\":false,\"x\":[5],\"y\":[47.360661],\"type\":\"scatter\"},{\"marker\":{\"color\":\"grey\"},\"mode\":\"markers\",\"showlegend\":false,\"x\":[6],\"y\":[48.94014],\"type\":\"scatter\"},{\"marker\":{\"color\":\"grey\"},\"mode\":\"markers\",\"showlegend\":false,\"x\":[7],\"y\":[48.714321],\"type\":\"scatter\"}],                        {\"template\":{\"data\":{\"histogram2dcontour\":[{\"type\":\"histogram2dcontour\",\"colorbar\":{\"outlinewidth\":0,\"ticks\":\"\"},\"colorscale\":[[0.0,\"#0d0887\"],[0.1111111111111111,\"#46039f\"],[0.2222222222222222,\"#7201a8\"],[0.3333333333333333,\"#9c179e\"],[0.4444444444444444,\"#bd3786\"],[0.5555555555555556,\"#d8576b\"],[0.6666666666666666,\"#ed7953\"],[0.7777777777777778,\"#fb9f3a\"],[0.8888888888888888,\"#fdca26\"],[1.0,\"#f0f921\"]]}],\"choropleth\":[{\"type\":\"choropleth\",\"colorbar\":{\"outlinewidth\":0,\"ticks\":\"\"}}],\"histogram2d\":[{\"type\":\"histogram2d\",\"colorbar\":{\"outlinewidth\":0,\"ticks\":\"\"},\"colorscale\":[[0.0,\"#0d0887\"],[0.1111111111111111,\"#46039f\"],[0.2222222222222222,\"#7201a8\"],[0.3333333333333333,\"#9c179e\"],[0.4444444444444444,\"#bd3786\"],[0.5555555555555556,\"#d8576b\"],[0.6666666666666666,\"#ed7953\"],[0.7777777777777778,\"#fb9f3a\"],[0.8888888888888888,\"#fdca26\"],[1.0,\"#f0f921\"]]}],\"heatmap\":[{\"type\":\"heatmap\",\"colorbar\":{\"outlinewidth\":0,\"ticks\":\"\"},\"colorscale\":[[0.0,\"#0d0887\"],[0.1111111111111111,\"#46039f\"],[0.2222222222222222,\"#7201a8\"],[0.3333333333333333,\"#9c179e\"],[0.4444444444444444,\"#bd3786\"],[0.5555555555555556,\"#d8576b\"],[0.6666666666666666,\"#ed7953\"],[0.7777777777777778,\"#fb9f3a\"],[0.8888888888888888,\"#fdca26\"],[1.0,\"#f0f921\"]]}],\"heatmapgl\":[{\"type\":\"heatmapgl\",\"colorbar\":{\"outlinewidth\":0,\"ticks\":\"\"},\"colorscale\":[[0.0,\"#0d0887\"],[0.1111111111111111,\"#46039f\"],[0.2222222222222222,\"#7201a8\"],[0.3333333333333333,\"#9c179e\"],[0.4444444444444444,\"#bd3786\"],[0.5555555555555556,\"#d8576b\"],[0.6666666666666666,\"#ed7953\"],[0.7777777777777778,\"#fb9f3a\"],[0.8888888888888888,\"#fdca26\"],[1.0,\"#f0f921\"]]}],\"contourcarpet\":[{\"type\":\"contourcarpet\",\"colorbar\":{\"outlinewidth\":0,\"ticks\":\"\"}}],\"contour\":[{\"type\":\"contour\",\"colorbar\":{\"outlinewidth\":0,\"ticks\":\"\"},\"colorscale\":[[0.0,\"#0d0887\"],[0.1111111111111111,\"#46039f\"],[0.2222222222222222,\"#7201a8\"],[0.3333333333333333,\"#9c179e\"],[0.4444444444444444,\"#bd3786\"],[0.5555555555555556,\"#d8576b\"],[0.6666666666666666,\"#ed7953\"],[0.7777777777777778,\"#fb9f3a\"],[0.8888888888888888,\"#fdca26\"],[1.0,\"#f0f921\"]]}],\"surface\":[{\"type\":\"surface\",\"colorbar\":{\"outlinewidth\":0,\"ticks\":\"\"},\"colorscale\":[[0.0,\"#0d0887\"],[0.1111111111111111,\"#46039f\"],[0.2222222222222222,\"#7201a8\"],[0.3333333333333333,\"#9c179e\"],[0.4444444444444444,\"#bd3786\"],[0.5555555555555556,\"#d8576b\"],[0.6666666666666666,\"#ed7953\"],[0.7777777777777778,\"#fb9f3a\"],[0.8888888888888888,\"#fdca26\"],[1.0,\"#f0f921\"]]}],\"mesh3d\":[{\"type\":\"mesh3d\",\"colorbar\":{\"outlinewidth\":0,\"ticks\":\"\"}}],\"scatter\":[{\"marker\":{\"line\":{\"color\":\"#283442\"}},\"type\":\"scatter\"}],\"parcoords\":[{\"type\":\"parcoords\",\"line\":{\"colorbar\":{\"outlinewidth\":0,\"ticks\":\"\"}}}],\"scatterpolargl\":[{\"type\":\"scatterpolargl\",\"marker\":{\"colorbar\":{\"outlinewidth\":0,\"ticks\":\"\"}}}],\"bar\":[{\"error_x\":{\"color\":\"#f2f5fa\"},\"error_y\":{\"color\":\"#f2f5fa\"},\"marker\":{\"line\":{\"color\":\"rgb(17,17,17)\",\"width\":0.5},\"pattern\":{\"fillmode\":\"overlay\",\"size\":10,\"solidity\":0.2}},\"type\":\"bar\"}],\"scattergeo\":[{\"type\":\"scattergeo\",\"marker\":{\"colorbar\":{\"outlinewidth\":0,\"ticks\":\"\"}}}],\"scatterpolar\":[{\"type\":\"scatterpolar\",\"marker\":{\"colorbar\":{\"outlinewidth\":0,\"ticks\":\"\"}}}],\"histogram\":[{\"marker\":{\"pattern\":{\"fillmode\":\"overlay\",\"size\":10,\"solidity\":0.2}},\"type\":\"histogram\"}],\"scattergl\":[{\"marker\":{\"line\":{\"color\":\"#283442\"}},\"type\":\"scattergl\"}],\"scatter3d\":[{\"type\":\"scatter3d\",\"line\":{\"colorbar\":{\"outlinewidth\":0,\"ticks\":\"\"}},\"marker\":{\"colorbar\":{\"outlinewidth\":0,\"ticks\":\"\"}}}],\"scattermapbox\":[{\"type\":\"scattermapbox\",\"marker\":{\"colorbar\":{\"outlinewidth\":0,\"ticks\":\"\"}}}],\"scatterternary\":[{\"type\":\"scatterternary\",\"marker\":{\"colorbar\":{\"outlinewidth\":0,\"ticks\":\"\"}}}],\"scattercarpet\":[{\"type\":\"scattercarpet\",\"marker\":{\"colorbar\":{\"outlinewidth\":0,\"ticks\":\"\"}}}],\"carpet\":[{\"aaxis\":{\"endlinecolor\":\"#A2B1C6\",\"gridcolor\":\"#506784\",\"linecolor\":\"#506784\",\"minorgridcolor\":\"#506784\",\"startlinecolor\":\"#A2B1C6\"},\"baxis\":{\"endlinecolor\":\"#A2B1C6\",\"gridcolor\":\"#506784\",\"linecolor\":\"#506784\",\"minorgridcolor\":\"#506784\",\"startlinecolor\":\"#A2B1C6\"},\"type\":\"carpet\"}],\"table\":[{\"cells\":{\"fill\":{\"color\":\"#506784\"},\"line\":{\"color\":\"rgb(17,17,17)\"}},\"header\":{\"fill\":{\"color\":\"#2a3f5f\"},\"line\":{\"color\":\"rgb(17,17,17)\"}},\"type\":\"table\"}],\"barpolar\":[{\"marker\":{\"line\":{\"color\":\"rgb(17,17,17)\",\"width\":0.5},\"pattern\":{\"fillmode\":\"overlay\",\"size\":10,\"solidity\":0.2}},\"type\":\"barpolar\"}],\"pie\":[{\"automargin\":true,\"type\":\"pie\"}]},\"layout\":{\"autotypenumbers\":\"strict\",\"colorway\":[\"#636efa\",\"#EF553B\",\"#00cc96\",\"#ab63fa\",\"#FFA15A\",\"#19d3f3\",\"#FF6692\",\"#B6E880\",\"#FF97FF\",\"#FECB52\"],\"font\":{\"color\":\"#f2f5fa\"},\"hovermode\":\"closest\",\"hoverlabel\":{\"align\":\"left\"},\"paper_bgcolor\":\"#383838\",\"plot_bgcolor\":\"#383838\",\"polar\":{\"bgcolor\":\"rgb(17,17,17)\",\"angularaxis\":{\"gridcolor\":\"#506784\",\"linecolor\":\"#506784\",\"ticks\":\"\"},\"radialaxis\":{\"gridcolor\":\"#506784\",\"linecolor\":\"#506784\",\"ticks\":\"\"}},\"ternary\":{\"bgcolor\":\"rgb(17,17,17)\",\"aaxis\":{\"gridcolor\":\"#506784\",\"linecolor\":\"#506784\",\"ticks\":\"\"},\"baxis\":{\"gridcolor\":\"#506784\",\"linecolor\":\"#506784\",\"ticks\":\"\"},\"caxis\":{\"gridcolor\":\"#506784\",\"linecolor\":\"#506784\",\"ticks\":\"\"}},\"coloraxis\":{\"colorbar\":{\"outlinewidth\":0,\"ticks\":\"\"}},\"colorscale\":{\"sequential\":[[0.0,\"#0d0887\"],[0.1111111111111111,\"#46039f\"],[0.2222222222222222,\"#7201a8\"],[0.3333333333333333,\"#9c179e\"],[0.4444444444444444,\"#bd3786\"],[0.5555555555555556,\"#d8576b\"],[0.6666666666666666,\"#ed7953\"],[0.7777777777777778,\"#fb9f3a\"],[0.8888888888888888,\"#fdca26\"],[1.0,\"#f0f921\"]],\"sequentialminus\":[[0.0,\"#0d0887\"],[0.1111111111111111,\"#46039f\"],[0.2222222222222222,\"#7201a8\"],[0.3333333333333333,\"#9c179e\"],[0.4444444444444444,\"#bd3786\"],[0.5555555555555556,\"#d8576b\"],[0.6666666666666666,\"#ed7953\"],[0.7777777777777778,\"#fb9f3a\"],[0.8888888888888888,\"#fdca26\"],[1.0,\"#f0f921\"]],\"diverging\":[[0,\"#8e0152\"],[0.1,\"#c51b7d\"],[0.2,\"#de77ae\"],[0.3,\"#f1b6da\"],[0.4,\"#fde0ef\"],[0.5,\"#f7f7f7\"],[0.6,\"#e6f5d0\"],[0.7,\"#b8e186\"],[0.8,\"#7fbc41\"],[0.9,\"#4d9221\"],[1,\"#276419\"]]},\"xaxis\":{\"gridcolor\":\"#D5D5D5\",\"linecolor\":\"#D5D5D5\",\"ticks\":\"\",\"title\":{\"standoff\":15},\"zerolinecolor\":\"#D5D5D5\",\"automargin\":true,\"zerolinewidth\":2},\"yaxis\":{\"gridcolor\":\"#D5D5D5\",\"linecolor\":\"#D5D5D5\",\"ticks\":\"\",\"title\":{\"standoff\":15},\"zerolinecolor\":\"#D5D5D5\",\"automargin\":true,\"zerolinewidth\":2},\"scene\":{\"xaxis\":{\"backgroundcolor\":\"rgb(17,17,17)\",\"gridcolor\":\"#506784\",\"linecolor\":\"#506784\",\"showbackground\":true,\"ticks\":\"\",\"zerolinecolor\":\"#C8D4E3\",\"gridwidth\":2},\"yaxis\":{\"backgroundcolor\":\"rgb(17,17,17)\",\"gridcolor\":\"#506784\",\"linecolor\":\"#506784\",\"showbackground\":true,\"ticks\":\"\",\"zerolinecolor\":\"#C8D4E3\",\"gridwidth\":2},\"zaxis\":{\"backgroundcolor\":\"rgb(17,17,17)\",\"gridcolor\":\"#506784\",\"linecolor\":\"#506784\",\"showbackground\":true,\"ticks\":\"\",\"zerolinecolor\":\"#C8D4E3\",\"gridwidth\":2}},\"shapedefaults\":{\"line\":{\"color\":\"#f2f5fa\"}},\"annotationdefaults\":{\"arrowcolor\":\"#f2f5fa\",\"arrowhead\":0,\"arrowwidth\":1},\"geo\":{\"bgcolor\":\"rgb(17,17,17)\",\"landcolor\":\"rgb(17,17,17)\",\"subunitcolor\":\"#506784\",\"showland\":true,\"showlakes\":true,\"lakecolor\":\"rgb(17,17,17)\"},\"title\":{\"x\":0.05},\"updatemenudefaults\":{\"bgcolor\":\"#506784\",\"borderwidth\":0},\"sliderdefaults\":{\"bgcolor\":\"#C8D4E3\",\"borderwidth\":1,\"bordercolor\":\"rgb(17,17,17)\",\"tickwidth\":0},\"mapbox\":{\"style\":\"dark\"}}},\"title\":{\"text\":\"Valores (RSI) em rela\\u00e7\\u00e3o ao Candle Size\"},\"xaxis\":{\"title\":{\"text\":\"Candle Size\"}},\"yaxis\":{\"title\":{\"text\":\"Valor (RSI)\"},\"range\":[0,100]},\"shapes\":[{\"line\":{\"color\":\"blue\",\"dash\":\"dash\"},\"name\":\"RSI 30\",\"type\":\"line\",\"x0\":0,\"x1\":1,\"xref\":\"x domain\",\"y0\":30,\"y1\":30,\"yref\":\"y\"},{\"line\":{\"color\":\"red\",\"dash\":\"dash\"},\"name\":\"RSI 70\",\"type\":\"line\",\"x0\":0,\"x1\":1,\"xref\":\"x domain\",\"y0\":70,\"y1\":70,\"yref\":\"y\"}]},                        {\"responsive\": true}                    ).then(function(){\n",
              "                            \n",
              "var gd = document.getElementById('13f00165-8756-4da3-a4ca-66571761ce3a');\n",
              "var x = new MutationObserver(function (mutations, observer) {{\n",
              "        var display = window.getComputedStyle(gd).display;\n",
              "        if (!display || display === 'none') {{\n",
              "            console.log([gd, 'removed!']);\n",
              "            Plotly.purge(gd);\n",
              "            observer.disconnect();\n",
              "        }}\n",
              "}});\n",
              "\n",
              "// Listen for the removal of the full notebook cells\n",
              "var notebookContainer = gd.closest('#notebook-container');\n",
              "if (notebookContainer) {{\n",
              "    x.observe(notebookContainer, {childList: true});\n",
              "}}\n",
              "\n",
              "// Listen for the clearing of the current output cell\n",
              "var outputEl = gd.closest('.output');\n",
              "if (outputEl) {{\n",
              "    x.observe(outputEl, {childList: true});\n",
              "}}\n",
              "\n",
              "                        })                };                            </script>        </div>\n",
              "</body>\n",
              "</html>"
            ]
          },
          "metadata": {}
        }
      ]
    },
    {
      "cell_type": "markdown",
      "source": [
        "**Plot ema**\n",
        "\n",
        "The EMA focused more on recent price moves, which means it tends to respond more quickly to price changes than the SMA\n",
        "\n",
        "lembrando que a principal diferença entre ema e sma é que ema possui maior sensibilidade aos registros mais recentes.\n",
        "\n",
        "This can be a double-edged sword. On one side, it can help you identify trends earlier than an SMA would. On the flip side, the EMA will probably experience more short-term changes than a corresponding SMA.\n",
        "\n",
        "Like all moving average indicators, EMAs are much better suited for trending markets\n",
        "\n",
        "\"The 12- and 26-day exponential moving averages (EMAs) are often the most quoted and analyzed short-term averages\"\n",
        "\n",
        "\"short-term investors tend to use 8- and 20-day EMAs\""
      ],
      "metadata": {
        "id": "COtRxpj-ceyA"
      }
    },
    {
      "cell_type": "markdown",
      "source": [
        "EMA Sloping Upward and Below Price (Bullish): Indicates bullish momentum, suggesting that the price is likely to continue rising. This is considered a strong bullish signal.\n",
        "\n",
        "EMA Sloping Upward and Above Price (Bullish with Resistance): While still bullish, the presence of the EMA above the price suggests increased resistance. It indicates that although the trend is bullish, there might be some resistance levels overhead that could slow down or halt the upward movement.\n",
        "\n",
        "EMA Sloping Downward and Above Price (Bearish): Indicates a bearish trend, suggesting that the price is likely to continue falling. This is considered a strong bearish signal.\n",
        "\n",
        "EMA Sloping Downward and Below Price (Bearish with Resistance): While still bearish, the presence of the EMA below the price suggests resistance to further downward movement. It indicates that although the trend is bearish, there might be some support levels below the price that could slow down or halt the downward movement."
      ],
      "metadata": {
        "id": "FMJHvBPwb37v"
      }
    },
    {
      "cell_type": "code",
      "source": [
        "ema_20_df = indicators_df[indicators_df['name'] == 'Exponential Moving Average (20)'].reset_index(drop=True)"
      ],
      "metadata": {
        "id": "L3nA2RU_Z5xR"
      },
      "execution_count": 91,
      "outputs": []
    },
    {
      "cell_type": "code",
      "source": [
        "ema_20_df.head()"
      ],
      "metadata": {
        "colab": {
          "base_uri": "https://localhost:8080/",
          "height": 206
        },
        "id": "uMWOh3CncJOY",
        "outputId": "6f94559a-de07-4c16-d9ec-a644cf964b74"
      },
      "execution_count": 92,
      "outputs": [
        {
          "output_type": "execute_result",
          "data": {
            "text/plain": [
              "  action  candle_size            group                             name  \\\n",
              "0   sell           60  MOVING AVERAGES  Exponential Moving Average (20)   \n",
              "1   sell          300  MOVING AVERAGES  Exponential Moving Average (20)   \n",
              "2   sell          900  MOVING AVERAGES  Exponential Moving Average (20)   \n",
              "3   sell         3600  MOVING AVERAGES  Exponential Moving Average (20)   \n",
              "4   sell        14400  MOVING AVERAGES  Exponential Moving Average (20)   \n",
              "\n",
              "      value  \n",
              "0  1.080757  \n",
              "1  1.080692  \n",
              "2  1.081254  \n",
              "3  1.082534  \n",
              "4  1.082949  "
            ],
            "text/html": [
              "\n",
              "  <div id=\"df-3048ff2a-51ea-4320-bc9c-e0cb20c29ecb\" class=\"colab-df-container\">\n",
              "    <div>\n",
              "<style scoped>\n",
              "    .dataframe tbody tr th:only-of-type {\n",
              "        vertical-align: middle;\n",
              "    }\n",
              "\n",
              "    .dataframe tbody tr th {\n",
              "        vertical-align: top;\n",
              "    }\n",
              "\n",
              "    .dataframe thead th {\n",
              "        text-align: right;\n",
              "    }\n",
              "</style>\n",
              "<table border=\"1\" class=\"dataframe\">\n",
              "  <thead>\n",
              "    <tr style=\"text-align: right;\">\n",
              "      <th></th>\n",
              "      <th>action</th>\n",
              "      <th>candle_size</th>\n",
              "      <th>group</th>\n",
              "      <th>name</th>\n",
              "      <th>value</th>\n",
              "    </tr>\n",
              "  </thead>\n",
              "  <tbody>\n",
              "    <tr>\n",
              "      <th>0</th>\n",
              "      <td>sell</td>\n",
              "      <td>60</td>\n",
              "      <td>MOVING AVERAGES</td>\n",
              "      <td>Exponential Moving Average (20)</td>\n",
              "      <td>1.080757</td>\n",
              "    </tr>\n",
              "    <tr>\n",
              "      <th>1</th>\n",
              "      <td>sell</td>\n",
              "      <td>300</td>\n",
              "      <td>MOVING AVERAGES</td>\n",
              "      <td>Exponential Moving Average (20)</td>\n",
              "      <td>1.080692</td>\n",
              "    </tr>\n",
              "    <tr>\n",
              "      <th>2</th>\n",
              "      <td>sell</td>\n",
              "      <td>900</td>\n",
              "      <td>MOVING AVERAGES</td>\n",
              "      <td>Exponential Moving Average (20)</td>\n",
              "      <td>1.081254</td>\n",
              "    </tr>\n",
              "    <tr>\n",
              "      <th>3</th>\n",
              "      <td>sell</td>\n",
              "      <td>3600</td>\n",
              "      <td>MOVING AVERAGES</td>\n",
              "      <td>Exponential Moving Average (20)</td>\n",
              "      <td>1.082534</td>\n",
              "    </tr>\n",
              "    <tr>\n",
              "      <th>4</th>\n",
              "      <td>sell</td>\n",
              "      <td>14400</td>\n",
              "      <td>MOVING AVERAGES</td>\n",
              "      <td>Exponential Moving Average (20)</td>\n",
              "      <td>1.082949</td>\n",
              "    </tr>\n",
              "  </tbody>\n",
              "</table>\n",
              "</div>\n",
              "    <div class=\"colab-df-buttons\">\n",
              "\n",
              "  <div class=\"colab-df-container\">\n",
              "    <button class=\"colab-df-convert\" onclick=\"convertToInteractive('df-3048ff2a-51ea-4320-bc9c-e0cb20c29ecb')\"\n",
              "            title=\"Convert this dataframe to an interactive table.\"\n",
              "            style=\"display:none;\">\n",
              "\n",
              "  <svg xmlns=\"http://www.w3.org/2000/svg\" height=\"24px\" viewBox=\"0 -960 960 960\">\n",
              "    <path d=\"M120-120v-720h720v720H120Zm60-500h600v-160H180v160Zm220 220h160v-160H400v160Zm0 220h160v-160H400v160ZM180-400h160v-160H180v160Zm440 0h160v-160H620v160ZM180-180h160v-160H180v160Zm440 0h160v-160H620v160Z\"/>\n",
              "  </svg>\n",
              "    </button>\n",
              "\n",
              "  <style>\n",
              "    .colab-df-container {\n",
              "      display:flex;\n",
              "      gap: 12px;\n",
              "    }\n",
              "\n",
              "    .colab-df-convert {\n",
              "      background-color: #E8F0FE;\n",
              "      border: none;\n",
              "      border-radius: 50%;\n",
              "      cursor: pointer;\n",
              "      display: none;\n",
              "      fill: #1967D2;\n",
              "      height: 32px;\n",
              "      padding: 0 0 0 0;\n",
              "      width: 32px;\n",
              "    }\n",
              "\n",
              "    .colab-df-convert:hover {\n",
              "      background-color: #E2EBFA;\n",
              "      box-shadow: 0px 1px 2px rgba(60, 64, 67, 0.3), 0px 1px 3px 1px rgba(60, 64, 67, 0.15);\n",
              "      fill: #174EA6;\n",
              "    }\n",
              "\n",
              "    .colab-df-buttons div {\n",
              "      margin-bottom: 4px;\n",
              "    }\n",
              "\n",
              "    [theme=dark] .colab-df-convert {\n",
              "      background-color: #3B4455;\n",
              "      fill: #D2E3FC;\n",
              "    }\n",
              "\n",
              "    [theme=dark] .colab-df-convert:hover {\n",
              "      background-color: #434B5C;\n",
              "      box-shadow: 0px 1px 3px 1px rgba(0, 0, 0, 0.15);\n",
              "      filter: drop-shadow(0px 1px 2px rgba(0, 0, 0, 0.3));\n",
              "      fill: #FFFFFF;\n",
              "    }\n",
              "  </style>\n",
              "\n",
              "    <script>\n",
              "      const buttonEl =\n",
              "        document.querySelector('#df-3048ff2a-51ea-4320-bc9c-e0cb20c29ecb button.colab-df-convert');\n",
              "      buttonEl.style.display =\n",
              "        google.colab.kernel.accessAllowed ? 'block' : 'none';\n",
              "\n",
              "      async function convertToInteractive(key) {\n",
              "        const element = document.querySelector('#df-3048ff2a-51ea-4320-bc9c-e0cb20c29ecb');\n",
              "        const dataTable =\n",
              "          await google.colab.kernel.invokeFunction('convertToInteractive',\n",
              "                                                    [key], {});\n",
              "        if (!dataTable) return;\n",
              "\n",
              "        const docLinkHtml = 'Like what you see? Visit the ' +\n",
              "          '<a target=\"_blank\" href=https://colab.research.google.com/notebooks/data_table.ipynb>data table notebook</a>'\n",
              "          + ' to learn more about interactive tables.';\n",
              "        element.innerHTML = '';\n",
              "        dataTable['output_type'] = 'display_data';\n",
              "        await google.colab.output.renderOutput(dataTable, element);\n",
              "        const docLink = document.createElement('div');\n",
              "        docLink.innerHTML = docLinkHtml;\n",
              "        element.appendChild(docLink);\n",
              "      }\n",
              "    </script>\n",
              "  </div>\n",
              "\n",
              "\n",
              "<div id=\"df-cd2151eb-adb6-41cc-9090-77db27c114f0\">\n",
              "  <button class=\"colab-df-quickchart\" onclick=\"quickchart('df-cd2151eb-adb6-41cc-9090-77db27c114f0')\"\n",
              "            title=\"Suggest charts\"\n",
              "            style=\"display:none;\">\n",
              "\n",
              "<svg xmlns=\"http://www.w3.org/2000/svg\" height=\"24px\"viewBox=\"0 0 24 24\"\n",
              "     width=\"24px\">\n",
              "    <g>\n",
              "        <path d=\"M19 3H5c-1.1 0-2 .9-2 2v14c0 1.1.9 2 2 2h14c1.1 0 2-.9 2-2V5c0-1.1-.9-2-2-2zM9 17H7v-7h2v7zm4 0h-2V7h2v10zm4 0h-2v-4h2v4z\"/>\n",
              "    </g>\n",
              "</svg>\n",
              "  </button>\n",
              "\n",
              "<style>\n",
              "  .colab-df-quickchart {\n",
              "      --bg-color: #E8F0FE;\n",
              "      --fill-color: #1967D2;\n",
              "      --hover-bg-color: #E2EBFA;\n",
              "      --hover-fill-color: #174EA6;\n",
              "      --disabled-fill-color: #AAA;\n",
              "      --disabled-bg-color: #DDD;\n",
              "  }\n",
              "\n",
              "  [theme=dark] .colab-df-quickchart {\n",
              "      --bg-color: #3B4455;\n",
              "      --fill-color: #D2E3FC;\n",
              "      --hover-bg-color: #434B5C;\n",
              "      --hover-fill-color: #FFFFFF;\n",
              "      --disabled-bg-color: #3B4455;\n",
              "      --disabled-fill-color: #666;\n",
              "  }\n",
              "\n",
              "  .colab-df-quickchart {\n",
              "    background-color: var(--bg-color);\n",
              "    border: none;\n",
              "    border-radius: 50%;\n",
              "    cursor: pointer;\n",
              "    display: none;\n",
              "    fill: var(--fill-color);\n",
              "    height: 32px;\n",
              "    padding: 0;\n",
              "    width: 32px;\n",
              "  }\n",
              "\n",
              "  .colab-df-quickchart:hover {\n",
              "    background-color: var(--hover-bg-color);\n",
              "    box-shadow: 0 1px 2px rgba(60, 64, 67, 0.3), 0 1px 3px 1px rgba(60, 64, 67, 0.15);\n",
              "    fill: var(--button-hover-fill-color);\n",
              "  }\n",
              "\n",
              "  .colab-df-quickchart-complete:disabled,\n",
              "  .colab-df-quickchart-complete:disabled:hover {\n",
              "    background-color: var(--disabled-bg-color);\n",
              "    fill: var(--disabled-fill-color);\n",
              "    box-shadow: none;\n",
              "  }\n",
              "\n",
              "  .colab-df-spinner {\n",
              "    border: 2px solid var(--fill-color);\n",
              "    border-color: transparent;\n",
              "    border-bottom-color: var(--fill-color);\n",
              "    animation:\n",
              "      spin 1s steps(1) infinite;\n",
              "  }\n",
              "\n",
              "  @keyframes spin {\n",
              "    0% {\n",
              "      border-color: transparent;\n",
              "      border-bottom-color: var(--fill-color);\n",
              "      border-left-color: var(--fill-color);\n",
              "    }\n",
              "    20% {\n",
              "      border-color: transparent;\n",
              "      border-left-color: var(--fill-color);\n",
              "      border-top-color: var(--fill-color);\n",
              "    }\n",
              "    30% {\n",
              "      border-color: transparent;\n",
              "      border-left-color: var(--fill-color);\n",
              "      border-top-color: var(--fill-color);\n",
              "      border-right-color: var(--fill-color);\n",
              "    }\n",
              "    40% {\n",
              "      border-color: transparent;\n",
              "      border-right-color: var(--fill-color);\n",
              "      border-top-color: var(--fill-color);\n",
              "    }\n",
              "    60% {\n",
              "      border-color: transparent;\n",
              "      border-right-color: var(--fill-color);\n",
              "    }\n",
              "    80% {\n",
              "      border-color: transparent;\n",
              "      border-right-color: var(--fill-color);\n",
              "      border-bottom-color: var(--fill-color);\n",
              "    }\n",
              "    90% {\n",
              "      border-color: transparent;\n",
              "      border-bottom-color: var(--fill-color);\n",
              "    }\n",
              "  }\n",
              "</style>\n",
              "\n",
              "  <script>\n",
              "    async function quickchart(key) {\n",
              "      const quickchartButtonEl =\n",
              "        document.querySelector('#' + key + ' button');\n",
              "      quickchartButtonEl.disabled = true;  // To prevent multiple clicks.\n",
              "      quickchartButtonEl.classList.add('colab-df-spinner');\n",
              "      try {\n",
              "        const charts = await google.colab.kernel.invokeFunction(\n",
              "            'suggestCharts', [key], {});\n",
              "      } catch (error) {\n",
              "        console.error('Error during call to suggestCharts:', error);\n",
              "      }\n",
              "      quickchartButtonEl.classList.remove('colab-df-spinner');\n",
              "      quickchartButtonEl.classList.add('colab-df-quickchart-complete');\n",
              "    }\n",
              "    (() => {\n",
              "      let quickchartButtonEl =\n",
              "        document.querySelector('#df-cd2151eb-adb6-41cc-9090-77db27c114f0 button');\n",
              "      quickchartButtonEl.style.display =\n",
              "        google.colab.kernel.accessAllowed ? 'block' : 'none';\n",
              "    })();\n",
              "  </script>\n",
              "</div>\n",
              "    </div>\n",
              "  </div>\n"
            ],
            "application/vnd.google.colaboratory.intrinsic+json": {
              "type": "dataframe",
              "variable_name": "ema_20_df",
              "summary": "{\n  \"name\": \"ema_20_df\",\n  \"rows\": 8,\n  \"fields\": [\n    {\n      \"column\": \"action\",\n      \"properties\": {\n        \"dtype\": \"category\",\n        \"num_unique_values\": 1,\n        \"samples\": [\n          \"sell\"\n        ],\n        \"semantic_type\": \"\",\n        \"description\": \"\"\n      }\n    },\n    {\n      \"column\": \"candle_size\",\n      \"properties\": {\n        \"dtype\": \"number\",\n        \"std\": 904643,\n        \"min\": 60,\n        \"max\": 2592000,\n        \"num_unique_values\": 8,\n        \"samples\": [\n          300\n        ],\n        \"semantic_type\": \"\",\n        \"description\": \"\"\n      }\n    },\n    {\n      \"column\": \"group\",\n      \"properties\": {\n        \"dtype\": \"category\",\n        \"num_unique_values\": 1,\n        \"samples\": [\n          \"MOVING AVERAGES\"\n        ],\n        \"semantic_type\": \"\",\n        \"description\": \"\"\n      }\n    },\n    {\n      \"column\": \"name\",\n      \"properties\": {\n        \"dtype\": \"category\",\n        \"num_unique_values\": 1,\n        \"samples\": [\n          \"Exponential Moving Average (20)\"\n        ],\n        \"semantic_type\": \"\",\n        \"description\": \"\"\n      }\n    },\n    {\n      \"column\": \"value\",\n      \"properties\": {\n        \"dtype\": \"number\",\n        \"std\": 0.0009432635974560524,\n        \"min\": 1.080692,\n        \"max\": 1.083043,\n        \"num_unique_values\": 8,\n        \"samples\": [\n          1.080692\n        ],\n        \"semantic_type\": \"\",\n        \"description\": \"\"\n      }\n    }\n  ]\n}"
            }
          },
          "metadata": {},
          "execution_count": 92
        }
      ]
    },
    {
      "cell_type": "code",
      "source": [
        "ema_20_df.shape"
      ],
      "metadata": {
        "colab": {
          "base_uri": "https://localhost:8080/"
        },
        "id": "DzHa5-S9cKxs",
        "outputId": "db010f03-cbdf-4328-f8b1-9123640ab3e3"
      },
      "execution_count": 93,
      "outputs": [
        {
          "output_type": "execute_result",
          "data": {
            "text/plain": [
              "(8, 5)"
            ]
          },
          "metadata": {},
          "execution_count": 93
        }
      ]
    },
    {
      "cell_type": "code",
      "source": [
        "#Plot com os pontos marcados definindo os momentos de entrada. Os de hold como cinza, buy verde e sell vermelho (EMA 20)\n",
        "\n",
        "fig = go.Figure()\n",
        "\n",
        "\n",
        "fig.add_trace(\n",
        "    go.Scatter(x=ema_20_df.index, y=ema_20_df['value'], mode='lines', name='RSI', marker=dict(color='orange'))\n",
        ")\n",
        "\n",
        "\n",
        "for index, row in ema_20_df.iterrows():\n",
        "\n",
        "    if row['action'] == 'buy':\n",
        "\n",
        "      color = 'green'\n",
        "\n",
        "    elif row['action'] == 'sell':\n",
        "\n",
        "      color = 'red'\n",
        "\n",
        "    else:\n",
        "\n",
        "      color = 'grey'\n",
        "\n",
        "\n",
        "    fig.add_trace(\n",
        "        go.Scatter(\n",
        "            x=[index],\n",
        "            y=[row['value']],\n",
        "            mode=\"markers\",\n",
        "            marker=dict(color=color),\n",
        "            showlegend=False\n",
        "        )\n",
        "    )\n",
        "\n",
        "\n",
        "fig.update_layout(\n",
        "    title=\"Valores (EMA 20) em relação ao Candle Size\",\n",
        "    xaxis_title=\"Candle Size\",\n",
        "    yaxis_title=\"Valor (EMA 20)\"\n",
        ")\n",
        "\n",
        "\n",
        "fig.show()"
      ],
      "metadata": {
        "colab": {
          "base_uri": "https://localhost:8080/",
          "height": 542
        },
        "id": "eswUP3f7cadH",
        "outputId": "dad45fab-571e-434a-da05-9dbc313b46b3"
      },
      "execution_count": 94,
      "outputs": [
        {
          "output_type": "display_data",
          "data": {
            "text/html": [
              "<html>\n",
              "<head><meta charset=\"utf-8\" /></head>\n",
              "<body>\n",
              "    <div>            <script src=\"https://cdnjs.cloudflare.com/ajax/libs/mathjax/2.7.5/MathJax.js?config=TeX-AMS-MML_SVG\"></script><script type=\"text/javascript\">if (window.MathJax && window.MathJax.Hub && window.MathJax.Hub.Config) {window.MathJax.Hub.Config({SVG: {font: \"STIX-Web\"}});}</script>                <script type=\"text/javascript\">window.PlotlyConfig = {MathJaxConfig: 'local'};</script>\n",
              "        <script charset=\"utf-8\" src=\"https://cdn.plot.ly/plotly-2.24.1.min.js\"></script>                <div id=\"5f15a3e5-aeae-44a8-b881-7ce5c74302b8\" class=\"plotly-graph-div\" style=\"height:525px; width:100%;\"></div>            <script type=\"text/javascript\">                                    window.PLOTLYENV=window.PLOTLYENV || {};                                    if (document.getElementById(\"5f15a3e5-aeae-44a8-b881-7ce5c74302b8\")) {                    Plotly.newPlot(                        \"5f15a3e5-aeae-44a8-b881-7ce5c74302b8\",                        [{\"marker\":{\"color\":\"orange\"},\"mode\":\"lines\",\"name\":\"RSI\",\"x\":[0,1,2,3,4,5,6,7],\"y\":[1.080757,1.080692,1.081254,1.082534,1.082949,1.081485,1.083043,1.082176],\"type\":\"scatter\"},{\"marker\":{\"color\":\"red\"},\"mode\":\"markers\",\"showlegend\":false,\"x\":[0],\"y\":[1.080757],\"type\":\"scatter\"},{\"marker\":{\"color\":\"red\"},\"mode\":\"markers\",\"showlegend\":false,\"x\":[1],\"y\":[1.080692],\"type\":\"scatter\"},{\"marker\":{\"color\":\"red\"},\"mode\":\"markers\",\"showlegend\":false,\"x\":[2],\"y\":[1.081254],\"type\":\"scatter\"},{\"marker\":{\"color\":\"red\"},\"mode\":\"markers\",\"showlegend\":false,\"x\":[3],\"y\":[1.082534],\"type\":\"scatter\"},{\"marker\":{\"color\":\"red\"},\"mode\":\"markers\",\"showlegend\":false,\"x\":[4],\"y\":[1.082949],\"type\":\"scatter\"},{\"marker\":{\"color\":\"red\"},\"mode\":\"markers\",\"showlegend\":false,\"x\":[5],\"y\":[1.081485],\"type\":\"scatter\"},{\"marker\":{\"color\":\"red\"},\"mode\":\"markers\",\"showlegend\":false,\"x\":[6],\"y\":[1.083043],\"type\":\"scatter\"},{\"marker\":{\"color\":\"red\"},\"mode\":\"markers\",\"showlegend\":false,\"x\":[7],\"y\":[1.082176],\"type\":\"scatter\"}],                        {\"template\":{\"data\":{\"histogram2dcontour\":[{\"type\":\"histogram2dcontour\",\"colorbar\":{\"outlinewidth\":0,\"ticks\":\"\"},\"colorscale\":[[0.0,\"#0d0887\"],[0.1111111111111111,\"#46039f\"],[0.2222222222222222,\"#7201a8\"],[0.3333333333333333,\"#9c179e\"],[0.4444444444444444,\"#bd3786\"],[0.5555555555555556,\"#d8576b\"],[0.6666666666666666,\"#ed7953\"],[0.7777777777777778,\"#fb9f3a\"],[0.8888888888888888,\"#fdca26\"],[1.0,\"#f0f921\"]]}],\"choropleth\":[{\"type\":\"choropleth\",\"colorbar\":{\"outlinewidth\":0,\"ticks\":\"\"}}],\"histogram2d\":[{\"type\":\"histogram2d\",\"colorbar\":{\"outlinewidth\":0,\"ticks\":\"\"},\"colorscale\":[[0.0,\"#0d0887\"],[0.1111111111111111,\"#46039f\"],[0.2222222222222222,\"#7201a8\"],[0.3333333333333333,\"#9c179e\"],[0.4444444444444444,\"#bd3786\"],[0.5555555555555556,\"#d8576b\"],[0.6666666666666666,\"#ed7953\"],[0.7777777777777778,\"#fb9f3a\"],[0.8888888888888888,\"#fdca26\"],[1.0,\"#f0f921\"]]}],\"heatmap\":[{\"type\":\"heatmap\",\"colorbar\":{\"outlinewidth\":0,\"ticks\":\"\"},\"colorscale\":[[0.0,\"#0d0887\"],[0.1111111111111111,\"#46039f\"],[0.2222222222222222,\"#7201a8\"],[0.3333333333333333,\"#9c179e\"],[0.4444444444444444,\"#bd3786\"],[0.5555555555555556,\"#d8576b\"],[0.6666666666666666,\"#ed7953\"],[0.7777777777777778,\"#fb9f3a\"],[0.8888888888888888,\"#fdca26\"],[1.0,\"#f0f921\"]]}],\"heatmapgl\":[{\"type\":\"heatmapgl\",\"colorbar\":{\"outlinewidth\":0,\"ticks\":\"\"},\"colorscale\":[[0.0,\"#0d0887\"],[0.1111111111111111,\"#46039f\"],[0.2222222222222222,\"#7201a8\"],[0.3333333333333333,\"#9c179e\"],[0.4444444444444444,\"#bd3786\"],[0.5555555555555556,\"#d8576b\"],[0.6666666666666666,\"#ed7953\"],[0.7777777777777778,\"#fb9f3a\"],[0.8888888888888888,\"#fdca26\"],[1.0,\"#f0f921\"]]}],\"contourcarpet\":[{\"type\":\"contourcarpet\",\"colorbar\":{\"outlinewidth\":0,\"ticks\":\"\"}}],\"contour\":[{\"type\":\"contour\",\"colorbar\":{\"outlinewidth\":0,\"ticks\":\"\"},\"colorscale\":[[0.0,\"#0d0887\"],[0.1111111111111111,\"#46039f\"],[0.2222222222222222,\"#7201a8\"],[0.3333333333333333,\"#9c179e\"],[0.4444444444444444,\"#bd3786\"],[0.5555555555555556,\"#d8576b\"],[0.6666666666666666,\"#ed7953\"],[0.7777777777777778,\"#fb9f3a\"],[0.8888888888888888,\"#fdca26\"],[1.0,\"#f0f921\"]]}],\"surface\":[{\"type\":\"surface\",\"colorbar\":{\"outlinewidth\":0,\"ticks\":\"\"},\"colorscale\":[[0.0,\"#0d0887\"],[0.1111111111111111,\"#46039f\"],[0.2222222222222222,\"#7201a8\"],[0.3333333333333333,\"#9c179e\"],[0.4444444444444444,\"#bd3786\"],[0.5555555555555556,\"#d8576b\"],[0.6666666666666666,\"#ed7953\"],[0.7777777777777778,\"#fb9f3a\"],[0.8888888888888888,\"#fdca26\"],[1.0,\"#f0f921\"]]}],\"mesh3d\":[{\"type\":\"mesh3d\",\"colorbar\":{\"outlinewidth\":0,\"ticks\":\"\"}}],\"scatter\":[{\"marker\":{\"line\":{\"color\":\"#283442\"}},\"type\":\"scatter\"}],\"parcoords\":[{\"type\":\"parcoords\",\"line\":{\"colorbar\":{\"outlinewidth\":0,\"ticks\":\"\"}}}],\"scatterpolargl\":[{\"type\":\"scatterpolargl\",\"marker\":{\"colorbar\":{\"outlinewidth\":0,\"ticks\":\"\"}}}],\"bar\":[{\"error_x\":{\"color\":\"#f2f5fa\"},\"error_y\":{\"color\":\"#f2f5fa\"},\"marker\":{\"line\":{\"color\":\"rgb(17,17,17)\",\"width\":0.5},\"pattern\":{\"fillmode\":\"overlay\",\"size\":10,\"solidity\":0.2}},\"type\":\"bar\"}],\"scattergeo\":[{\"type\":\"scattergeo\",\"marker\":{\"colorbar\":{\"outlinewidth\":0,\"ticks\":\"\"}}}],\"scatterpolar\":[{\"type\":\"scatterpolar\",\"marker\":{\"colorbar\":{\"outlinewidth\":0,\"ticks\":\"\"}}}],\"histogram\":[{\"marker\":{\"pattern\":{\"fillmode\":\"overlay\",\"size\":10,\"solidity\":0.2}},\"type\":\"histogram\"}],\"scattergl\":[{\"marker\":{\"line\":{\"color\":\"#283442\"}},\"type\":\"scattergl\"}],\"scatter3d\":[{\"type\":\"scatter3d\",\"line\":{\"colorbar\":{\"outlinewidth\":0,\"ticks\":\"\"}},\"marker\":{\"colorbar\":{\"outlinewidth\":0,\"ticks\":\"\"}}}],\"scattermapbox\":[{\"type\":\"scattermapbox\",\"marker\":{\"colorbar\":{\"outlinewidth\":0,\"ticks\":\"\"}}}],\"scatterternary\":[{\"type\":\"scatterternary\",\"marker\":{\"colorbar\":{\"outlinewidth\":0,\"ticks\":\"\"}}}],\"scattercarpet\":[{\"type\":\"scattercarpet\",\"marker\":{\"colorbar\":{\"outlinewidth\":0,\"ticks\":\"\"}}}],\"carpet\":[{\"aaxis\":{\"endlinecolor\":\"#A2B1C6\",\"gridcolor\":\"#506784\",\"linecolor\":\"#506784\",\"minorgridcolor\":\"#506784\",\"startlinecolor\":\"#A2B1C6\"},\"baxis\":{\"endlinecolor\":\"#A2B1C6\",\"gridcolor\":\"#506784\",\"linecolor\":\"#506784\",\"minorgridcolor\":\"#506784\",\"startlinecolor\":\"#A2B1C6\"},\"type\":\"carpet\"}],\"table\":[{\"cells\":{\"fill\":{\"color\":\"#506784\"},\"line\":{\"color\":\"rgb(17,17,17)\"}},\"header\":{\"fill\":{\"color\":\"#2a3f5f\"},\"line\":{\"color\":\"rgb(17,17,17)\"}},\"type\":\"table\"}],\"barpolar\":[{\"marker\":{\"line\":{\"color\":\"rgb(17,17,17)\",\"width\":0.5},\"pattern\":{\"fillmode\":\"overlay\",\"size\":10,\"solidity\":0.2}},\"type\":\"barpolar\"}],\"pie\":[{\"automargin\":true,\"type\":\"pie\"}]},\"layout\":{\"autotypenumbers\":\"strict\",\"colorway\":[\"#636efa\",\"#EF553B\",\"#00cc96\",\"#ab63fa\",\"#FFA15A\",\"#19d3f3\",\"#FF6692\",\"#B6E880\",\"#FF97FF\",\"#FECB52\"],\"font\":{\"color\":\"#f2f5fa\"},\"hovermode\":\"closest\",\"hoverlabel\":{\"align\":\"left\"},\"paper_bgcolor\":\"#383838\",\"plot_bgcolor\":\"#383838\",\"polar\":{\"bgcolor\":\"rgb(17,17,17)\",\"angularaxis\":{\"gridcolor\":\"#506784\",\"linecolor\":\"#506784\",\"ticks\":\"\"},\"radialaxis\":{\"gridcolor\":\"#506784\",\"linecolor\":\"#506784\",\"ticks\":\"\"}},\"ternary\":{\"bgcolor\":\"rgb(17,17,17)\",\"aaxis\":{\"gridcolor\":\"#506784\",\"linecolor\":\"#506784\",\"ticks\":\"\"},\"baxis\":{\"gridcolor\":\"#506784\",\"linecolor\":\"#506784\",\"ticks\":\"\"},\"caxis\":{\"gridcolor\":\"#506784\",\"linecolor\":\"#506784\",\"ticks\":\"\"}},\"coloraxis\":{\"colorbar\":{\"outlinewidth\":0,\"ticks\":\"\"}},\"colorscale\":{\"sequential\":[[0.0,\"#0d0887\"],[0.1111111111111111,\"#46039f\"],[0.2222222222222222,\"#7201a8\"],[0.3333333333333333,\"#9c179e\"],[0.4444444444444444,\"#bd3786\"],[0.5555555555555556,\"#d8576b\"],[0.6666666666666666,\"#ed7953\"],[0.7777777777777778,\"#fb9f3a\"],[0.8888888888888888,\"#fdca26\"],[1.0,\"#f0f921\"]],\"sequentialminus\":[[0.0,\"#0d0887\"],[0.1111111111111111,\"#46039f\"],[0.2222222222222222,\"#7201a8\"],[0.3333333333333333,\"#9c179e\"],[0.4444444444444444,\"#bd3786\"],[0.5555555555555556,\"#d8576b\"],[0.6666666666666666,\"#ed7953\"],[0.7777777777777778,\"#fb9f3a\"],[0.8888888888888888,\"#fdca26\"],[1.0,\"#f0f921\"]],\"diverging\":[[0,\"#8e0152\"],[0.1,\"#c51b7d\"],[0.2,\"#de77ae\"],[0.3,\"#f1b6da\"],[0.4,\"#fde0ef\"],[0.5,\"#f7f7f7\"],[0.6,\"#e6f5d0\"],[0.7,\"#b8e186\"],[0.8,\"#7fbc41\"],[0.9,\"#4d9221\"],[1,\"#276419\"]]},\"xaxis\":{\"gridcolor\":\"#D5D5D5\",\"linecolor\":\"#D5D5D5\",\"ticks\":\"\",\"title\":{\"standoff\":15},\"zerolinecolor\":\"#D5D5D5\",\"automargin\":true,\"zerolinewidth\":2},\"yaxis\":{\"gridcolor\":\"#D5D5D5\",\"linecolor\":\"#D5D5D5\",\"ticks\":\"\",\"title\":{\"standoff\":15},\"zerolinecolor\":\"#D5D5D5\",\"automargin\":true,\"zerolinewidth\":2},\"scene\":{\"xaxis\":{\"backgroundcolor\":\"rgb(17,17,17)\",\"gridcolor\":\"#506784\",\"linecolor\":\"#506784\",\"showbackground\":true,\"ticks\":\"\",\"zerolinecolor\":\"#C8D4E3\",\"gridwidth\":2},\"yaxis\":{\"backgroundcolor\":\"rgb(17,17,17)\",\"gridcolor\":\"#506784\",\"linecolor\":\"#506784\",\"showbackground\":true,\"ticks\":\"\",\"zerolinecolor\":\"#C8D4E3\",\"gridwidth\":2},\"zaxis\":{\"backgroundcolor\":\"rgb(17,17,17)\",\"gridcolor\":\"#506784\",\"linecolor\":\"#506784\",\"showbackground\":true,\"ticks\":\"\",\"zerolinecolor\":\"#C8D4E3\",\"gridwidth\":2}},\"shapedefaults\":{\"line\":{\"color\":\"#f2f5fa\"}},\"annotationdefaults\":{\"arrowcolor\":\"#f2f5fa\",\"arrowhead\":0,\"arrowwidth\":1},\"geo\":{\"bgcolor\":\"rgb(17,17,17)\",\"landcolor\":\"rgb(17,17,17)\",\"subunitcolor\":\"#506784\",\"showland\":true,\"showlakes\":true,\"lakecolor\":\"rgb(17,17,17)\"},\"title\":{\"x\":0.05},\"updatemenudefaults\":{\"bgcolor\":\"#506784\",\"borderwidth\":0},\"sliderdefaults\":{\"bgcolor\":\"#C8D4E3\",\"borderwidth\":1,\"bordercolor\":\"rgb(17,17,17)\",\"tickwidth\":0},\"mapbox\":{\"style\":\"dark\"}}},\"title\":{\"text\":\"Valores (EMA 20) em rela\\u00e7\\u00e3o ao Candle Size\"},\"xaxis\":{\"title\":{\"text\":\"Candle Size\"}},\"yaxis\":{\"title\":{\"text\":\"Valor (EMA 20)\"}}},                        {\"responsive\": true}                    ).then(function(){\n",
              "                            \n",
              "var gd = document.getElementById('5f15a3e5-aeae-44a8-b881-7ce5c74302b8');\n",
              "var x = new MutationObserver(function (mutations, observer) {{\n",
              "        var display = window.getComputedStyle(gd).display;\n",
              "        if (!display || display === 'none') {{\n",
              "            console.log([gd, 'removed!']);\n",
              "            Plotly.purge(gd);\n",
              "            observer.disconnect();\n",
              "        }}\n",
              "}});\n",
              "\n",
              "// Listen for the removal of the full notebook cells\n",
              "var notebookContainer = gd.closest('#notebook-container');\n",
              "if (notebookContainer) {{\n",
              "    x.observe(notebookContainer, {childList: true});\n",
              "}}\n",
              "\n",
              "// Listen for the clearing of the current output cell\n",
              "var outputEl = gd.closest('.output');\n",
              "if (outputEl) {{\n",
              "    x.observe(outputEl, {childList: true});\n",
              "}}\n",
              "\n",
              "                        })                };                            </script>        </div>\n",
              "</body>\n",
              "</html>"
            ]
          },
          "metadata": {}
        }
      ]
    },
    {
      "cell_type": "code",
      "source": [
        "# lidando agora com cálculo de ema para 5 dias"
      ],
      "metadata": {
        "id": "CdonV2emdGLl"
      },
      "execution_count": 95,
      "outputs": []
    },
    {
      "cell_type": "code",
      "source": [
        "ema_5_df = indicators_df[indicators_df['name'] == 'Exponential Moving Average (5)'].reset_index(drop=True)"
      ],
      "metadata": {
        "id": "ebWKC1XphrIT"
      },
      "execution_count": 96,
      "outputs": []
    },
    {
      "cell_type": "code",
      "source": [
        "ema_5_df.head()"
      ],
      "metadata": {
        "colab": {
          "base_uri": "https://localhost:8080/",
          "height": 206
        },
        "id": "19kQLg6ehufL",
        "outputId": "2e75d4d3-a900-47ad-b3e5-afbdd71a9c7d"
      },
      "execution_count": 97,
      "outputs": [
        {
          "output_type": "execute_result",
          "data": {
            "text/plain": [
              "  action  candle_size            group                            name  \\\n",
              "0   sell           60  MOVING AVERAGES  Exponential Moving Average (5)   \n",
              "1   sell          300  MOVING AVERAGES  Exponential Moving Average (5)   \n",
              "2   sell          900  MOVING AVERAGES  Exponential Moving Average (5)   \n",
              "3   sell         3600  MOVING AVERAGES  Exponential Moving Average (5)   \n",
              "4   sell        14400  MOVING AVERAGES  Exponential Moving Average (5)   \n",
              "\n",
              "      value  \n",
              "0  1.080634  \n",
              "1  1.080727  \n",
              "2  1.080669  \n",
              "3  1.081141  \n",
              "4  1.081917  "
            ],
            "text/html": [
              "\n",
              "  <div id=\"df-754a7b1e-9518-439e-a6d3-9c5234abeb60\" class=\"colab-df-container\">\n",
              "    <div>\n",
              "<style scoped>\n",
              "    .dataframe tbody tr th:only-of-type {\n",
              "        vertical-align: middle;\n",
              "    }\n",
              "\n",
              "    .dataframe tbody tr th {\n",
              "        vertical-align: top;\n",
              "    }\n",
              "\n",
              "    .dataframe thead th {\n",
              "        text-align: right;\n",
              "    }\n",
              "</style>\n",
              "<table border=\"1\" class=\"dataframe\">\n",
              "  <thead>\n",
              "    <tr style=\"text-align: right;\">\n",
              "      <th></th>\n",
              "      <th>action</th>\n",
              "      <th>candle_size</th>\n",
              "      <th>group</th>\n",
              "      <th>name</th>\n",
              "      <th>value</th>\n",
              "    </tr>\n",
              "  </thead>\n",
              "  <tbody>\n",
              "    <tr>\n",
              "      <th>0</th>\n",
              "      <td>sell</td>\n",
              "      <td>60</td>\n",
              "      <td>MOVING AVERAGES</td>\n",
              "      <td>Exponential Moving Average (5)</td>\n",
              "      <td>1.080634</td>\n",
              "    </tr>\n",
              "    <tr>\n",
              "      <th>1</th>\n",
              "      <td>sell</td>\n",
              "      <td>300</td>\n",
              "      <td>MOVING AVERAGES</td>\n",
              "      <td>Exponential Moving Average (5)</td>\n",
              "      <td>1.080727</td>\n",
              "    </tr>\n",
              "    <tr>\n",
              "      <th>2</th>\n",
              "      <td>sell</td>\n",
              "      <td>900</td>\n",
              "      <td>MOVING AVERAGES</td>\n",
              "      <td>Exponential Moving Average (5)</td>\n",
              "      <td>1.080669</td>\n",
              "    </tr>\n",
              "    <tr>\n",
              "      <th>3</th>\n",
              "      <td>sell</td>\n",
              "      <td>3600</td>\n",
              "      <td>MOVING AVERAGES</td>\n",
              "      <td>Exponential Moving Average (5)</td>\n",
              "      <td>1.081141</td>\n",
              "    </tr>\n",
              "    <tr>\n",
              "      <th>4</th>\n",
              "      <td>sell</td>\n",
              "      <td>14400</td>\n",
              "      <td>MOVING AVERAGES</td>\n",
              "      <td>Exponential Moving Average (5)</td>\n",
              "      <td>1.081917</td>\n",
              "    </tr>\n",
              "  </tbody>\n",
              "</table>\n",
              "</div>\n",
              "    <div class=\"colab-df-buttons\">\n",
              "\n",
              "  <div class=\"colab-df-container\">\n",
              "    <button class=\"colab-df-convert\" onclick=\"convertToInteractive('df-754a7b1e-9518-439e-a6d3-9c5234abeb60')\"\n",
              "            title=\"Convert this dataframe to an interactive table.\"\n",
              "            style=\"display:none;\">\n",
              "\n",
              "  <svg xmlns=\"http://www.w3.org/2000/svg\" height=\"24px\" viewBox=\"0 -960 960 960\">\n",
              "    <path d=\"M120-120v-720h720v720H120Zm60-500h600v-160H180v160Zm220 220h160v-160H400v160Zm0 220h160v-160H400v160ZM180-400h160v-160H180v160Zm440 0h160v-160H620v160ZM180-180h160v-160H180v160Zm440 0h160v-160H620v160Z\"/>\n",
              "  </svg>\n",
              "    </button>\n",
              "\n",
              "  <style>\n",
              "    .colab-df-container {\n",
              "      display:flex;\n",
              "      gap: 12px;\n",
              "    }\n",
              "\n",
              "    .colab-df-convert {\n",
              "      background-color: #E8F0FE;\n",
              "      border: none;\n",
              "      border-radius: 50%;\n",
              "      cursor: pointer;\n",
              "      display: none;\n",
              "      fill: #1967D2;\n",
              "      height: 32px;\n",
              "      padding: 0 0 0 0;\n",
              "      width: 32px;\n",
              "    }\n",
              "\n",
              "    .colab-df-convert:hover {\n",
              "      background-color: #E2EBFA;\n",
              "      box-shadow: 0px 1px 2px rgba(60, 64, 67, 0.3), 0px 1px 3px 1px rgba(60, 64, 67, 0.15);\n",
              "      fill: #174EA6;\n",
              "    }\n",
              "\n",
              "    .colab-df-buttons div {\n",
              "      margin-bottom: 4px;\n",
              "    }\n",
              "\n",
              "    [theme=dark] .colab-df-convert {\n",
              "      background-color: #3B4455;\n",
              "      fill: #D2E3FC;\n",
              "    }\n",
              "\n",
              "    [theme=dark] .colab-df-convert:hover {\n",
              "      background-color: #434B5C;\n",
              "      box-shadow: 0px 1px 3px 1px rgba(0, 0, 0, 0.15);\n",
              "      filter: drop-shadow(0px 1px 2px rgba(0, 0, 0, 0.3));\n",
              "      fill: #FFFFFF;\n",
              "    }\n",
              "  </style>\n",
              "\n",
              "    <script>\n",
              "      const buttonEl =\n",
              "        document.querySelector('#df-754a7b1e-9518-439e-a6d3-9c5234abeb60 button.colab-df-convert');\n",
              "      buttonEl.style.display =\n",
              "        google.colab.kernel.accessAllowed ? 'block' : 'none';\n",
              "\n",
              "      async function convertToInteractive(key) {\n",
              "        const element = document.querySelector('#df-754a7b1e-9518-439e-a6d3-9c5234abeb60');\n",
              "        const dataTable =\n",
              "          await google.colab.kernel.invokeFunction('convertToInteractive',\n",
              "                                                    [key], {});\n",
              "        if (!dataTable) return;\n",
              "\n",
              "        const docLinkHtml = 'Like what you see? Visit the ' +\n",
              "          '<a target=\"_blank\" href=https://colab.research.google.com/notebooks/data_table.ipynb>data table notebook</a>'\n",
              "          + ' to learn more about interactive tables.';\n",
              "        element.innerHTML = '';\n",
              "        dataTable['output_type'] = 'display_data';\n",
              "        await google.colab.output.renderOutput(dataTable, element);\n",
              "        const docLink = document.createElement('div');\n",
              "        docLink.innerHTML = docLinkHtml;\n",
              "        element.appendChild(docLink);\n",
              "      }\n",
              "    </script>\n",
              "  </div>\n",
              "\n",
              "\n",
              "<div id=\"df-d53f39e8-2508-4c78-a54f-49626d3054ea\">\n",
              "  <button class=\"colab-df-quickchart\" onclick=\"quickchart('df-d53f39e8-2508-4c78-a54f-49626d3054ea')\"\n",
              "            title=\"Suggest charts\"\n",
              "            style=\"display:none;\">\n",
              "\n",
              "<svg xmlns=\"http://www.w3.org/2000/svg\" height=\"24px\"viewBox=\"0 0 24 24\"\n",
              "     width=\"24px\">\n",
              "    <g>\n",
              "        <path d=\"M19 3H5c-1.1 0-2 .9-2 2v14c0 1.1.9 2 2 2h14c1.1 0 2-.9 2-2V5c0-1.1-.9-2-2-2zM9 17H7v-7h2v7zm4 0h-2V7h2v10zm4 0h-2v-4h2v4z\"/>\n",
              "    </g>\n",
              "</svg>\n",
              "  </button>\n",
              "\n",
              "<style>\n",
              "  .colab-df-quickchart {\n",
              "      --bg-color: #E8F0FE;\n",
              "      --fill-color: #1967D2;\n",
              "      --hover-bg-color: #E2EBFA;\n",
              "      --hover-fill-color: #174EA6;\n",
              "      --disabled-fill-color: #AAA;\n",
              "      --disabled-bg-color: #DDD;\n",
              "  }\n",
              "\n",
              "  [theme=dark] .colab-df-quickchart {\n",
              "      --bg-color: #3B4455;\n",
              "      --fill-color: #D2E3FC;\n",
              "      --hover-bg-color: #434B5C;\n",
              "      --hover-fill-color: #FFFFFF;\n",
              "      --disabled-bg-color: #3B4455;\n",
              "      --disabled-fill-color: #666;\n",
              "  }\n",
              "\n",
              "  .colab-df-quickchart {\n",
              "    background-color: var(--bg-color);\n",
              "    border: none;\n",
              "    border-radius: 50%;\n",
              "    cursor: pointer;\n",
              "    display: none;\n",
              "    fill: var(--fill-color);\n",
              "    height: 32px;\n",
              "    padding: 0;\n",
              "    width: 32px;\n",
              "  }\n",
              "\n",
              "  .colab-df-quickchart:hover {\n",
              "    background-color: var(--hover-bg-color);\n",
              "    box-shadow: 0 1px 2px rgba(60, 64, 67, 0.3), 0 1px 3px 1px rgba(60, 64, 67, 0.15);\n",
              "    fill: var(--button-hover-fill-color);\n",
              "  }\n",
              "\n",
              "  .colab-df-quickchart-complete:disabled,\n",
              "  .colab-df-quickchart-complete:disabled:hover {\n",
              "    background-color: var(--disabled-bg-color);\n",
              "    fill: var(--disabled-fill-color);\n",
              "    box-shadow: none;\n",
              "  }\n",
              "\n",
              "  .colab-df-spinner {\n",
              "    border: 2px solid var(--fill-color);\n",
              "    border-color: transparent;\n",
              "    border-bottom-color: var(--fill-color);\n",
              "    animation:\n",
              "      spin 1s steps(1) infinite;\n",
              "  }\n",
              "\n",
              "  @keyframes spin {\n",
              "    0% {\n",
              "      border-color: transparent;\n",
              "      border-bottom-color: var(--fill-color);\n",
              "      border-left-color: var(--fill-color);\n",
              "    }\n",
              "    20% {\n",
              "      border-color: transparent;\n",
              "      border-left-color: var(--fill-color);\n",
              "      border-top-color: var(--fill-color);\n",
              "    }\n",
              "    30% {\n",
              "      border-color: transparent;\n",
              "      border-left-color: var(--fill-color);\n",
              "      border-top-color: var(--fill-color);\n",
              "      border-right-color: var(--fill-color);\n",
              "    }\n",
              "    40% {\n",
              "      border-color: transparent;\n",
              "      border-right-color: var(--fill-color);\n",
              "      border-top-color: var(--fill-color);\n",
              "    }\n",
              "    60% {\n",
              "      border-color: transparent;\n",
              "      border-right-color: var(--fill-color);\n",
              "    }\n",
              "    80% {\n",
              "      border-color: transparent;\n",
              "      border-right-color: var(--fill-color);\n",
              "      border-bottom-color: var(--fill-color);\n",
              "    }\n",
              "    90% {\n",
              "      border-color: transparent;\n",
              "      border-bottom-color: var(--fill-color);\n",
              "    }\n",
              "  }\n",
              "</style>\n",
              "\n",
              "  <script>\n",
              "    async function quickchart(key) {\n",
              "      const quickchartButtonEl =\n",
              "        document.querySelector('#' + key + ' button');\n",
              "      quickchartButtonEl.disabled = true;  // To prevent multiple clicks.\n",
              "      quickchartButtonEl.classList.add('colab-df-spinner');\n",
              "      try {\n",
              "        const charts = await google.colab.kernel.invokeFunction(\n",
              "            'suggestCharts', [key], {});\n",
              "      } catch (error) {\n",
              "        console.error('Error during call to suggestCharts:', error);\n",
              "      }\n",
              "      quickchartButtonEl.classList.remove('colab-df-spinner');\n",
              "      quickchartButtonEl.classList.add('colab-df-quickchart-complete');\n",
              "    }\n",
              "    (() => {\n",
              "      let quickchartButtonEl =\n",
              "        document.querySelector('#df-d53f39e8-2508-4c78-a54f-49626d3054ea button');\n",
              "      quickchartButtonEl.style.display =\n",
              "        google.colab.kernel.accessAllowed ? 'block' : 'none';\n",
              "    })();\n",
              "  </script>\n",
              "</div>\n",
              "    </div>\n",
              "  </div>\n"
            ],
            "application/vnd.google.colaboratory.intrinsic+json": {
              "type": "dataframe",
              "variable_name": "ema_5_df",
              "summary": "{\n  \"name\": \"ema_5_df\",\n  \"rows\": 8,\n  \"fields\": [\n    {\n      \"column\": \"action\",\n      \"properties\": {\n        \"dtype\": \"category\",\n        \"num_unique_values\": 1,\n        \"samples\": [\n          \"sell\"\n        ],\n        \"semantic_type\": \"\",\n        \"description\": \"\"\n      }\n    },\n    {\n      \"column\": \"candle_size\",\n      \"properties\": {\n        \"dtype\": \"number\",\n        \"std\": 904643,\n        \"min\": 60,\n        \"max\": 2592000,\n        \"num_unique_values\": 8,\n        \"samples\": [\n          300\n        ],\n        \"semantic_type\": \"\",\n        \"description\": \"\"\n      }\n    },\n    {\n      \"column\": \"group\",\n      \"properties\": {\n        \"dtype\": \"category\",\n        \"num_unique_values\": 1,\n        \"samples\": [\n          \"MOVING AVERAGES\"\n        ],\n        \"semantic_type\": \"\",\n        \"description\": \"\"\n      }\n    },\n    {\n      \"column\": \"name\",\n      \"properties\": {\n        \"dtype\": \"category\",\n        \"num_unique_values\": 1,\n        \"samples\": [\n          \"Exponential Moving Average (5)\"\n        ],\n        \"semantic_type\": \"\",\n        \"description\": \"\"\n      }\n    },\n    {\n      \"column\": \"value\",\n      \"properties\": {\n        \"dtype\": \"number\",\n        \"std\": 0.001159757787212443,\n        \"min\": 1.080634,\n        \"max\": 1.084026,\n        \"num_unique_values\": 8,\n        \"samples\": [\n          1.080727\n        ],\n        \"semantic_type\": \"\",\n        \"description\": \"\"\n      }\n    }\n  ]\n}"
            }
          },
          "metadata": {},
          "execution_count": 97
        }
      ]
    },
    {
      "cell_type": "code",
      "source": [
        "ema_5_df.shape"
      ],
      "metadata": {
        "colab": {
          "base_uri": "https://localhost:8080/"
        },
        "id": "eoe-6dL9hwNz",
        "outputId": "e91d5f40-b6be-4579-8106-da3b7cb1ac95"
      },
      "execution_count": 98,
      "outputs": [
        {
          "output_type": "execute_result",
          "data": {
            "text/plain": [
              "(8, 5)"
            ]
          },
          "metadata": {},
          "execution_count": 98
        }
      ]
    },
    {
      "cell_type": "code",
      "source": [
        "#Plot com os pontos marcados definindo os momentos de entrada. Os de hold como cinza, buy verde e sell vermelho (EMA 5)\n",
        "\n",
        "fig = go.Figure()\n",
        "\n",
        "\n",
        "fig.add_trace(\n",
        "    go.Scatter(x=ema_5_df.index, y=ema_5_df['value'], mode='lines', name='RSI', marker=dict(color='orange'))\n",
        ")\n",
        "\n",
        "\n",
        "for index, row in ema_5_df.iterrows():\n",
        "\n",
        "    if row['action'] == 'buy':\n",
        "\n",
        "      color = 'green'\n",
        "\n",
        "    elif row['action'] == 'sell':\n",
        "\n",
        "      color = 'red'\n",
        "\n",
        "    else:\n",
        "\n",
        "      color = 'grey'\n",
        "\n",
        "\n",
        "    fig.add_trace(\n",
        "        go.Scatter(\n",
        "            x=[index],\n",
        "            y=[row['value']],\n",
        "            mode=\"markers\",\n",
        "            marker=dict(color=color),\n",
        "            showlegend=False\n",
        "        )\n",
        "    )\n",
        "\n",
        "\n",
        "fig.update_layout(\n",
        "    title=\"Valores (EMA 5) em relação ao Candle Size\",\n",
        "    xaxis_title=\"Candle Size\",\n",
        "    yaxis_title=\"Valor (EMA 5)\"\n",
        ")\n",
        "\n",
        "\n",
        "fig.show()"
      ],
      "metadata": {
        "colab": {
          "base_uri": "https://localhost:8080/",
          "height": 542
        },
        "id": "M9WwsqEmhw5b",
        "outputId": "d83aaebd-8d28-48ca-ccbf-f5298d9c8385"
      },
      "execution_count": 99,
      "outputs": [
        {
          "output_type": "display_data",
          "data": {
            "text/html": [
              "<html>\n",
              "<head><meta charset=\"utf-8\" /></head>\n",
              "<body>\n",
              "    <div>            <script src=\"https://cdnjs.cloudflare.com/ajax/libs/mathjax/2.7.5/MathJax.js?config=TeX-AMS-MML_SVG\"></script><script type=\"text/javascript\">if (window.MathJax && window.MathJax.Hub && window.MathJax.Hub.Config) {window.MathJax.Hub.Config({SVG: {font: \"STIX-Web\"}});}</script>                <script type=\"text/javascript\">window.PlotlyConfig = {MathJaxConfig: 'local'};</script>\n",
              "        <script charset=\"utf-8\" src=\"https://cdn.plot.ly/plotly-2.24.1.min.js\"></script>                <div id=\"36a043dc-6e28-4ce1-88ad-74cb6914dd7c\" class=\"plotly-graph-div\" style=\"height:525px; width:100%;\"></div>            <script type=\"text/javascript\">                                    window.PLOTLYENV=window.PLOTLYENV || {};                                    if (document.getElementById(\"36a043dc-6e28-4ce1-88ad-74cb6914dd7c\")) {                    Plotly.newPlot(                        \"36a043dc-6e28-4ce1-88ad-74cb6914dd7c\",                        [{\"marker\":{\"color\":\"orange\"},\"mode\":\"lines\",\"name\":\"RSI\",\"x\":[0,1,2,3,4,5,6,7],\"y\":[1.080634,1.080727,1.080669,1.081141,1.081917,1.08242,1.081659,1.084026],\"type\":\"scatter\"},{\"marker\":{\"color\":\"red\"},\"mode\":\"markers\",\"showlegend\":false,\"x\":[0],\"y\":[1.080634],\"type\":\"scatter\"},{\"marker\":{\"color\":\"red\"},\"mode\":\"markers\",\"showlegend\":false,\"x\":[1],\"y\":[1.080727],\"type\":\"scatter\"},{\"marker\":{\"color\":\"red\"},\"mode\":\"markers\",\"showlegend\":false,\"x\":[2],\"y\":[1.080669],\"type\":\"scatter\"},{\"marker\":{\"color\":\"red\"},\"mode\":\"markers\",\"showlegend\":false,\"x\":[3],\"y\":[1.081141],\"type\":\"scatter\"},{\"marker\":{\"color\":\"red\"},\"mode\":\"markers\",\"showlegend\":false,\"x\":[4],\"y\":[1.081917],\"type\":\"scatter\"},{\"marker\":{\"color\":\"red\"},\"mode\":\"markers\",\"showlegend\":false,\"x\":[5],\"y\":[1.08242],\"type\":\"scatter\"},{\"marker\":{\"color\":\"red\"},\"mode\":\"markers\",\"showlegend\":false,\"x\":[6],\"y\":[1.081659],\"type\":\"scatter\"},{\"marker\":{\"color\":\"red\"},\"mode\":\"markers\",\"showlegend\":false,\"x\":[7],\"y\":[1.084026],\"type\":\"scatter\"}],                        {\"template\":{\"data\":{\"histogram2dcontour\":[{\"type\":\"histogram2dcontour\",\"colorbar\":{\"outlinewidth\":0,\"ticks\":\"\"},\"colorscale\":[[0.0,\"#0d0887\"],[0.1111111111111111,\"#46039f\"],[0.2222222222222222,\"#7201a8\"],[0.3333333333333333,\"#9c179e\"],[0.4444444444444444,\"#bd3786\"],[0.5555555555555556,\"#d8576b\"],[0.6666666666666666,\"#ed7953\"],[0.7777777777777778,\"#fb9f3a\"],[0.8888888888888888,\"#fdca26\"],[1.0,\"#f0f921\"]]}],\"choropleth\":[{\"type\":\"choropleth\",\"colorbar\":{\"outlinewidth\":0,\"ticks\":\"\"}}],\"histogram2d\":[{\"type\":\"histogram2d\",\"colorbar\":{\"outlinewidth\":0,\"ticks\":\"\"},\"colorscale\":[[0.0,\"#0d0887\"],[0.1111111111111111,\"#46039f\"],[0.2222222222222222,\"#7201a8\"],[0.3333333333333333,\"#9c179e\"],[0.4444444444444444,\"#bd3786\"],[0.5555555555555556,\"#d8576b\"],[0.6666666666666666,\"#ed7953\"],[0.7777777777777778,\"#fb9f3a\"],[0.8888888888888888,\"#fdca26\"],[1.0,\"#f0f921\"]]}],\"heatmap\":[{\"type\":\"heatmap\",\"colorbar\":{\"outlinewidth\":0,\"ticks\":\"\"},\"colorscale\":[[0.0,\"#0d0887\"],[0.1111111111111111,\"#46039f\"],[0.2222222222222222,\"#7201a8\"],[0.3333333333333333,\"#9c179e\"],[0.4444444444444444,\"#bd3786\"],[0.5555555555555556,\"#d8576b\"],[0.6666666666666666,\"#ed7953\"],[0.7777777777777778,\"#fb9f3a\"],[0.8888888888888888,\"#fdca26\"],[1.0,\"#f0f921\"]]}],\"heatmapgl\":[{\"type\":\"heatmapgl\",\"colorbar\":{\"outlinewidth\":0,\"ticks\":\"\"},\"colorscale\":[[0.0,\"#0d0887\"],[0.1111111111111111,\"#46039f\"],[0.2222222222222222,\"#7201a8\"],[0.3333333333333333,\"#9c179e\"],[0.4444444444444444,\"#bd3786\"],[0.5555555555555556,\"#d8576b\"],[0.6666666666666666,\"#ed7953\"],[0.7777777777777778,\"#fb9f3a\"],[0.8888888888888888,\"#fdca26\"],[1.0,\"#f0f921\"]]}],\"contourcarpet\":[{\"type\":\"contourcarpet\",\"colorbar\":{\"outlinewidth\":0,\"ticks\":\"\"}}],\"contour\":[{\"type\":\"contour\",\"colorbar\":{\"outlinewidth\":0,\"ticks\":\"\"},\"colorscale\":[[0.0,\"#0d0887\"],[0.1111111111111111,\"#46039f\"],[0.2222222222222222,\"#7201a8\"],[0.3333333333333333,\"#9c179e\"],[0.4444444444444444,\"#bd3786\"],[0.5555555555555556,\"#d8576b\"],[0.6666666666666666,\"#ed7953\"],[0.7777777777777778,\"#fb9f3a\"],[0.8888888888888888,\"#fdca26\"],[1.0,\"#f0f921\"]]}],\"surface\":[{\"type\":\"surface\",\"colorbar\":{\"outlinewidth\":0,\"ticks\":\"\"},\"colorscale\":[[0.0,\"#0d0887\"],[0.1111111111111111,\"#46039f\"],[0.2222222222222222,\"#7201a8\"],[0.3333333333333333,\"#9c179e\"],[0.4444444444444444,\"#bd3786\"],[0.5555555555555556,\"#d8576b\"],[0.6666666666666666,\"#ed7953\"],[0.7777777777777778,\"#fb9f3a\"],[0.8888888888888888,\"#fdca26\"],[1.0,\"#f0f921\"]]}],\"mesh3d\":[{\"type\":\"mesh3d\",\"colorbar\":{\"outlinewidth\":0,\"ticks\":\"\"}}],\"scatter\":[{\"marker\":{\"line\":{\"color\":\"#283442\"}},\"type\":\"scatter\"}],\"parcoords\":[{\"type\":\"parcoords\",\"line\":{\"colorbar\":{\"outlinewidth\":0,\"ticks\":\"\"}}}],\"scatterpolargl\":[{\"type\":\"scatterpolargl\",\"marker\":{\"colorbar\":{\"outlinewidth\":0,\"ticks\":\"\"}}}],\"bar\":[{\"error_x\":{\"color\":\"#f2f5fa\"},\"error_y\":{\"color\":\"#f2f5fa\"},\"marker\":{\"line\":{\"color\":\"rgb(17,17,17)\",\"width\":0.5},\"pattern\":{\"fillmode\":\"overlay\",\"size\":10,\"solidity\":0.2}},\"type\":\"bar\"}],\"scattergeo\":[{\"type\":\"scattergeo\",\"marker\":{\"colorbar\":{\"outlinewidth\":0,\"ticks\":\"\"}}}],\"scatterpolar\":[{\"type\":\"scatterpolar\",\"marker\":{\"colorbar\":{\"outlinewidth\":0,\"ticks\":\"\"}}}],\"histogram\":[{\"marker\":{\"pattern\":{\"fillmode\":\"overlay\",\"size\":10,\"solidity\":0.2}},\"type\":\"histogram\"}],\"scattergl\":[{\"marker\":{\"line\":{\"color\":\"#283442\"}},\"type\":\"scattergl\"}],\"scatter3d\":[{\"type\":\"scatter3d\",\"line\":{\"colorbar\":{\"outlinewidth\":0,\"ticks\":\"\"}},\"marker\":{\"colorbar\":{\"outlinewidth\":0,\"ticks\":\"\"}}}],\"scattermapbox\":[{\"type\":\"scattermapbox\",\"marker\":{\"colorbar\":{\"outlinewidth\":0,\"ticks\":\"\"}}}],\"scatterternary\":[{\"type\":\"scatterternary\",\"marker\":{\"colorbar\":{\"outlinewidth\":0,\"ticks\":\"\"}}}],\"scattercarpet\":[{\"type\":\"scattercarpet\",\"marker\":{\"colorbar\":{\"outlinewidth\":0,\"ticks\":\"\"}}}],\"carpet\":[{\"aaxis\":{\"endlinecolor\":\"#A2B1C6\",\"gridcolor\":\"#506784\",\"linecolor\":\"#506784\",\"minorgridcolor\":\"#506784\",\"startlinecolor\":\"#A2B1C6\"},\"baxis\":{\"endlinecolor\":\"#A2B1C6\",\"gridcolor\":\"#506784\",\"linecolor\":\"#506784\",\"minorgridcolor\":\"#506784\",\"startlinecolor\":\"#A2B1C6\"},\"type\":\"carpet\"}],\"table\":[{\"cells\":{\"fill\":{\"color\":\"#506784\"},\"line\":{\"color\":\"rgb(17,17,17)\"}},\"header\":{\"fill\":{\"color\":\"#2a3f5f\"},\"line\":{\"color\":\"rgb(17,17,17)\"}},\"type\":\"table\"}],\"barpolar\":[{\"marker\":{\"line\":{\"color\":\"rgb(17,17,17)\",\"width\":0.5},\"pattern\":{\"fillmode\":\"overlay\",\"size\":10,\"solidity\":0.2}},\"type\":\"barpolar\"}],\"pie\":[{\"automargin\":true,\"type\":\"pie\"}]},\"layout\":{\"autotypenumbers\":\"strict\",\"colorway\":[\"#636efa\",\"#EF553B\",\"#00cc96\",\"#ab63fa\",\"#FFA15A\",\"#19d3f3\",\"#FF6692\",\"#B6E880\",\"#FF97FF\",\"#FECB52\"],\"font\":{\"color\":\"#f2f5fa\"},\"hovermode\":\"closest\",\"hoverlabel\":{\"align\":\"left\"},\"paper_bgcolor\":\"#383838\",\"plot_bgcolor\":\"#383838\",\"polar\":{\"bgcolor\":\"rgb(17,17,17)\",\"angularaxis\":{\"gridcolor\":\"#506784\",\"linecolor\":\"#506784\",\"ticks\":\"\"},\"radialaxis\":{\"gridcolor\":\"#506784\",\"linecolor\":\"#506784\",\"ticks\":\"\"}},\"ternary\":{\"bgcolor\":\"rgb(17,17,17)\",\"aaxis\":{\"gridcolor\":\"#506784\",\"linecolor\":\"#506784\",\"ticks\":\"\"},\"baxis\":{\"gridcolor\":\"#506784\",\"linecolor\":\"#506784\",\"ticks\":\"\"},\"caxis\":{\"gridcolor\":\"#506784\",\"linecolor\":\"#506784\",\"ticks\":\"\"}},\"coloraxis\":{\"colorbar\":{\"outlinewidth\":0,\"ticks\":\"\"}},\"colorscale\":{\"sequential\":[[0.0,\"#0d0887\"],[0.1111111111111111,\"#46039f\"],[0.2222222222222222,\"#7201a8\"],[0.3333333333333333,\"#9c179e\"],[0.4444444444444444,\"#bd3786\"],[0.5555555555555556,\"#d8576b\"],[0.6666666666666666,\"#ed7953\"],[0.7777777777777778,\"#fb9f3a\"],[0.8888888888888888,\"#fdca26\"],[1.0,\"#f0f921\"]],\"sequentialminus\":[[0.0,\"#0d0887\"],[0.1111111111111111,\"#46039f\"],[0.2222222222222222,\"#7201a8\"],[0.3333333333333333,\"#9c179e\"],[0.4444444444444444,\"#bd3786\"],[0.5555555555555556,\"#d8576b\"],[0.6666666666666666,\"#ed7953\"],[0.7777777777777778,\"#fb9f3a\"],[0.8888888888888888,\"#fdca26\"],[1.0,\"#f0f921\"]],\"diverging\":[[0,\"#8e0152\"],[0.1,\"#c51b7d\"],[0.2,\"#de77ae\"],[0.3,\"#f1b6da\"],[0.4,\"#fde0ef\"],[0.5,\"#f7f7f7\"],[0.6,\"#e6f5d0\"],[0.7,\"#b8e186\"],[0.8,\"#7fbc41\"],[0.9,\"#4d9221\"],[1,\"#276419\"]]},\"xaxis\":{\"gridcolor\":\"#D5D5D5\",\"linecolor\":\"#D5D5D5\",\"ticks\":\"\",\"title\":{\"standoff\":15},\"zerolinecolor\":\"#D5D5D5\",\"automargin\":true,\"zerolinewidth\":2},\"yaxis\":{\"gridcolor\":\"#D5D5D5\",\"linecolor\":\"#D5D5D5\",\"ticks\":\"\",\"title\":{\"standoff\":15},\"zerolinecolor\":\"#D5D5D5\",\"automargin\":true,\"zerolinewidth\":2},\"scene\":{\"xaxis\":{\"backgroundcolor\":\"rgb(17,17,17)\",\"gridcolor\":\"#506784\",\"linecolor\":\"#506784\",\"showbackground\":true,\"ticks\":\"\",\"zerolinecolor\":\"#C8D4E3\",\"gridwidth\":2},\"yaxis\":{\"backgroundcolor\":\"rgb(17,17,17)\",\"gridcolor\":\"#506784\",\"linecolor\":\"#506784\",\"showbackground\":true,\"ticks\":\"\",\"zerolinecolor\":\"#C8D4E3\",\"gridwidth\":2},\"zaxis\":{\"backgroundcolor\":\"rgb(17,17,17)\",\"gridcolor\":\"#506784\",\"linecolor\":\"#506784\",\"showbackground\":true,\"ticks\":\"\",\"zerolinecolor\":\"#C8D4E3\",\"gridwidth\":2}},\"shapedefaults\":{\"line\":{\"color\":\"#f2f5fa\"}},\"annotationdefaults\":{\"arrowcolor\":\"#f2f5fa\",\"arrowhead\":0,\"arrowwidth\":1},\"geo\":{\"bgcolor\":\"rgb(17,17,17)\",\"landcolor\":\"rgb(17,17,17)\",\"subunitcolor\":\"#506784\",\"showland\":true,\"showlakes\":true,\"lakecolor\":\"rgb(17,17,17)\"},\"title\":{\"x\":0.05},\"updatemenudefaults\":{\"bgcolor\":\"#506784\",\"borderwidth\":0},\"sliderdefaults\":{\"bgcolor\":\"#C8D4E3\",\"borderwidth\":1,\"bordercolor\":\"rgb(17,17,17)\",\"tickwidth\":0},\"mapbox\":{\"style\":\"dark\"}}},\"title\":{\"text\":\"Valores (EMA 5) em rela\\u00e7\\u00e3o ao Candle Size\"},\"xaxis\":{\"title\":{\"text\":\"Candle Size\"}},\"yaxis\":{\"title\":{\"text\":\"Valor (EMA 5)\"}}},                        {\"responsive\": true}                    ).then(function(){\n",
              "                            \n",
              "var gd = document.getElementById('36a043dc-6e28-4ce1-88ad-74cb6914dd7c');\n",
              "var x = new MutationObserver(function (mutations, observer) {{\n",
              "        var display = window.getComputedStyle(gd).display;\n",
              "        if (!display || display === 'none') {{\n",
              "            console.log([gd, 'removed!']);\n",
              "            Plotly.purge(gd);\n",
              "            observer.disconnect();\n",
              "        }}\n",
              "}});\n",
              "\n",
              "// Listen for the removal of the full notebook cells\n",
              "var notebookContainer = gd.closest('#notebook-container');\n",
              "if (notebookContainer) {{\n",
              "    x.observe(notebookContainer, {childList: true});\n",
              "}}\n",
              "\n",
              "// Listen for the clearing of the current output cell\n",
              "var outputEl = gd.closest('.output');\n",
              "if (outputEl) {{\n",
              "    x.observe(outputEl, {childList: true});\n",
              "}}\n",
              "\n",
              "                        })                };                            </script>        </div>\n",
              "</body>\n",
              "</html>"
            ]
          },
          "metadata": {}
        }
      ]
    },
    {
      "cell_type": "markdown",
      "source": [
        "**Combinando RSI e EMA (tanto ema 20 quanto 5)**"
      ],
      "metadata": {
        "id": "0Ko1J9QFiGWG"
      }
    },
    {
      "cell_type": "code",
      "source": [
        "# Plot combinando os valores de RSI, EMA (tanto ema 20 quanto 5)\n",
        "\n",
        "fig = make_subplots(rows=2, cols=1, shared_xaxes=True, vertical_spacing=0.05,\n",
        "                    subplot_titles=(\"EMA (5 e 20 períodos)\", \"RSI\"))\n",
        "\n",
        "fig.add_trace(go.Scatter(x=ema_20_df.index, y=ema_20_df['value'], mode='lines', name='EMA 20', line=dict(color='blue')), row=1, col=1)\n",
        "\n",
        "fig.add_trace(go.Scatter(x=ema_5_df.index, y=ema_5_df['value'], mode='lines', name='EMA 5', line=dict(color='green')), row=1, col=1)\n",
        "\n",
        "fig.update_xaxes(title_text=\"Candle Size\", row=1, col=1)\n",
        "fig.update_yaxes(title_text=\"Valor\", row=1, col=1)\n",
        "\n",
        "fig.add_trace(go.Scatter(x=rsi_df.index, y=rsi_df['value'], mode='lines', name='RSI', line=dict(color='orange')), row=2, col=1)\n",
        "\n",
        "fig.update_xaxes(title_text=\"Candle Size\", row=2, col=1)\n",
        "fig.update_yaxes(title_text=\"Valor\", row=2, col=1)\n",
        "\n",
        "fig.add_hline(y=30, line_dash=\"dash\", line_color=\"blue\", row=2, col=1, name=\"RSI 30\")\n",
        "fig.add_hline(y=70, line_dash=\"dash\", line_color=\"red\", row=2, col=1, name=\"RSI 70\")\n",
        "\n",
        "fig.update_layout(title=\"Valores de EMA (5 e 20 períodos) e RSI em relação ao Candle Size\")\n",
        "\n",
        "fig.show()\n",
        "\n"
      ],
      "metadata": {
        "colab": {
          "base_uri": "https://localhost:8080/",
          "height": 542
        },
        "id": "1Mzmtb3yiINd",
        "outputId": "7c8e1d1e-be07-4272-c707-ea20e701c81e"
      },
      "execution_count": 100,
      "outputs": [
        {
          "output_type": "display_data",
          "data": {
            "text/html": [
              "<html>\n",
              "<head><meta charset=\"utf-8\" /></head>\n",
              "<body>\n",
              "    <div>            <script src=\"https://cdnjs.cloudflare.com/ajax/libs/mathjax/2.7.5/MathJax.js?config=TeX-AMS-MML_SVG\"></script><script type=\"text/javascript\">if (window.MathJax && window.MathJax.Hub && window.MathJax.Hub.Config) {window.MathJax.Hub.Config({SVG: {font: \"STIX-Web\"}});}</script>                <script type=\"text/javascript\">window.PlotlyConfig = {MathJaxConfig: 'local'};</script>\n",
              "        <script charset=\"utf-8\" src=\"https://cdn.plot.ly/plotly-2.24.1.min.js\"></script>                <div id=\"dffdf885-2e17-4b12-a7aa-5d4c113c1050\" class=\"plotly-graph-div\" style=\"height:525px; width:100%;\"></div>            <script type=\"text/javascript\">                                    window.PLOTLYENV=window.PLOTLYENV || {};                                    if (document.getElementById(\"dffdf885-2e17-4b12-a7aa-5d4c113c1050\")) {                    Plotly.newPlot(                        \"dffdf885-2e17-4b12-a7aa-5d4c113c1050\",                        [{\"line\":{\"color\":\"blue\"},\"mode\":\"lines\",\"name\":\"EMA 20\",\"x\":[0,1,2,3,4,5,6,7],\"y\":[1.080757,1.080692,1.081254,1.082534,1.082949,1.081485,1.083043,1.082176],\"type\":\"scatter\",\"xaxis\":\"x\",\"yaxis\":\"y\"},{\"line\":{\"color\":\"green\"},\"mode\":\"lines\",\"name\":\"EMA 5\",\"x\":[0,1,2,3,4,5,6,7],\"y\":[1.080634,1.080727,1.080669,1.081141,1.081917,1.08242,1.081659,1.084026],\"type\":\"scatter\",\"xaxis\":\"x\",\"yaxis\":\"y\"},{\"line\":{\"color\":\"orange\"},\"mode\":\"lines\",\"name\":\"RSI\",\"x\":[0,1,2,3,4,5,6,7],\"y\":[33.759125,46.422897,38.657524,38.920628,42.573433,47.360661,48.94014,48.714321],\"type\":\"scatter\",\"xaxis\":\"x2\",\"yaxis\":\"y2\"}],                        {\"template\":{\"data\":{\"histogram2dcontour\":[{\"type\":\"histogram2dcontour\",\"colorbar\":{\"outlinewidth\":0,\"ticks\":\"\"},\"colorscale\":[[0.0,\"#0d0887\"],[0.1111111111111111,\"#46039f\"],[0.2222222222222222,\"#7201a8\"],[0.3333333333333333,\"#9c179e\"],[0.4444444444444444,\"#bd3786\"],[0.5555555555555556,\"#d8576b\"],[0.6666666666666666,\"#ed7953\"],[0.7777777777777778,\"#fb9f3a\"],[0.8888888888888888,\"#fdca26\"],[1.0,\"#f0f921\"]]}],\"choropleth\":[{\"type\":\"choropleth\",\"colorbar\":{\"outlinewidth\":0,\"ticks\":\"\"}}],\"histogram2d\":[{\"type\":\"histogram2d\",\"colorbar\":{\"outlinewidth\":0,\"ticks\":\"\"},\"colorscale\":[[0.0,\"#0d0887\"],[0.1111111111111111,\"#46039f\"],[0.2222222222222222,\"#7201a8\"],[0.3333333333333333,\"#9c179e\"],[0.4444444444444444,\"#bd3786\"],[0.5555555555555556,\"#d8576b\"],[0.6666666666666666,\"#ed7953\"],[0.7777777777777778,\"#fb9f3a\"],[0.8888888888888888,\"#fdca26\"],[1.0,\"#f0f921\"]]}],\"heatmap\":[{\"type\":\"heatmap\",\"colorbar\":{\"outlinewidth\":0,\"ticks\":\"\"},\"colorscale\":[[0.0,\"#0d0887\"],[0.1111111111111111,\"#46039f\"],[0.2222222222222222,\"#7201a8\"],[0.3333333333333333,\"#9c179e\"],[0.4444444444444444,\"#bd3786\"],[0.5555555555555556,\"#d8576b\"],[0.6666666666666666,\"#ed7953\"],[0.7777777777777778,\"#fb9f3a\"],[0.8888888888888888,\"#fdca26\"],[1.0,\"#f0f921\"]]}],\"heatmapgl\":[{\"type\":\"heatmapgl\",\"colorbar\":{\"outlinewidth\":0,\"ticks\":\"\"},\"colorscale\":[[0.0,\"#0d0887\"],[0.1111111111111111,\"#46039f\"],[0.2222222222222222,\"#7201a8\"],[0.3333333333333333,\"#9c179e\"],[0.4444444444444444,\"#bd3786\"],[0.5555555555555556,\"#d8576b\"],[0.6666666666666666,\"#ed7953\"],[0.7777777777777778,\"#fb9f3a\"],[0.8888888888888888,\"#fdca26\"],[1.0,\"#f0f921\"]]}],\"contourcarpet\":[{\"type\":\"contourcarpet\",\"colorbar\":{\"outlinewidth\":0,\"ticks\":\"\"}}],\"contour\":[{\"type\":\"contour\",\"colorbar\":{\"outlinewidth\":0,\"ticks\":\"\"},\"colorscale\":[[0.0,\"#0d0887\"],[0.1111111111111111,\"#46039f\"],[0.2222222222222222,\"#7201a8\"],[0.3333333333333333,\"#9c179e\"],[0.4444444444444444,\"#bd3786\"],[0.5555555555555556,\"#d8576b\"],[0.6666666666666666,\"#ed7953\"],[0.7777777777777778,\"#fb9f3a\"],[0.8888888888888888,\"#fdca26\"],[1.0,\"#f0f921\"]]}],\"surface\":[{\"type\":\"surface\",\"colorbar\":{\"outlinewidth\":0,\"ticks\":\"\"},\"colorscale\":[[0.0,\"#0d0887\"],[0.1111111111111111,\"#46039f\"],[0.2222222222222222,\"#7201a8\"],[0.3333333333333333,\"#9c179e\"],[0.4444444444444444,\"#bd3786\"],[0.5555555555555556,\"#d8576b\"],[0.6666666666666666,\"#ed7953\"],[0.7777777777777778,\"#fb9f3a\"],[0.8888888888888888,\"#fdca26\"],[1.0,\"#f0f921\"]]}],\"mesh3d\":[{\"type\":\"mesh3d\",\"colorbar\":{\"outlinewidth\":0,\"ticks\":\"\"}}],\"scatter\":[{\"marker\":{\"line\":{\"color\":\"#283442\"}},\"type\":\"scatter\"}],\"parcoords\":[{\"type\":\"parcoords\",\"line\":{\"colorbar\":{\"outlinewidth\":0,\"ticks\":\"\"}}}],\"scatterpolargl\":[{\"type\":\"scatterpolargl\",\"marker\":{\"colorbar\":{\"outlinewidth\":0,\"ticks\":\"\"}}}],\"bar\":[{\"error_x\":{\"color\":\"#f2f5fa\"},\"error_y\":{\"color\":\"#f2f5fa\"},\"marker\":{\"line\":{\"color\":\"rgb(17,17,17)\",\"width\":0.5},\"pattern\":{\"fillmode\":\"overlay\",\"size\":10,\"solidity\":0.2}},\"type\":\"bar\"}],\"scattergeo\":[{\"type\":\"scattergeo\",\"marker\":{\"colorbar\":{\"outlinewidth\":0,\"ticks\":\"\"}}}],\"scatterpolar\":[{\"type\":\"scatterpolar\",\"marker\":{\"colorbar\":{\"outlinewidth\":0,\"ticks\":\"\"}}}],\"histogram\":[{\"marker\":{\"pattern\":{\"fillmode\":\"overlay\",\"size\":10,\"solidity\":0.2}},\"type\":\"histogram\"}],\"scattergl\":[{\"marker\":{\"line\":{\"color\":\"#283442\"}},\"type\":\"scattergl\"}],\"scatter3d\":[{\"type\":\"scatter3d\",\"line\":{\"colorbar\":{\"outlinewidth\":0,\"ticks\":\"\"}},\"marker\":{\"colorbar\":{\"outlinewidth\":0,\"ticks\":\"\"}}}],\"scattermapbox\":[{\"type\":\"scattermapbox\",\"marker\":{\"colorbar\":{\"outlinewidth\":0,\"ticks\":\"\"}}}],\"scatterternary\":[{\"type\":\"scatterternary\",\"marker\":{\"colorbar\":{\"outlinewidth\":0,\"ticks\":\"\"}}}],\"scattercarpet\":[{\"type\":\"scattercarpet\",\"marker\":{\"colorbar\":{\"outlinewidth\":0,\"ticks\":\"\"}}}],\"carpet\":[{\"aaxis\":{\"endlinecolor\":\"#A2B1C6\",\"gridcolor\":\"#506784\",\"linecolor\":\"#506784\",\"minorgridcolor\":\"#506784\",\"startlinecolor\":\"#A2B1C6\"},\"baxis\":{\"endlinecolor\":\"#A2B1C6\",\"gridcolor\":\"#506784\",\"linecolor\":\"#506784\",\"minorgridcolor\":\"#506784\",\"startlinecolor\":\"#A2B1C6\"},\"type\":\"carpet\"}],\"table\":[{\"cells\":{\"fill\":{\"color\":\"#506784\"},\"line\":{\"color\":\"rgb(17,17,17)\"}},\"header\":{\"fill\":{\"color\":\"#2a3f5f\"},\"line\":{\"color\":\"rgb(17,17,17)\"}},\"type\":\"table\"}],\"barpolar\":[{\"marker\":{\"line\":{\"color\":\"rgb(17,17,17)\",\"width\":0.5},\"pattern\":{\"fillmode\":\"overlay\",\"size\":10,\"solidity\":0.2}},\"type\":\"barpolar\"}],\"pie\":[{\"automargin\":true,\"type\":\"pie\"}]},\"layout\":{\"autotypenumbers\":\"strict\",\"colorway\":[\"#636efa\",\"#EF553B\",\"#00cc96\",\"#ab63fa\",\"#FFA15A\",\"#19d3f3\",\"#FF6692\",\"#B6E880\",\"#FF97FF\",\"#FECB52\"],\"font\":{\"color\":\"#f2f5fa\"},\"hovermode\":\"closest\",\"hoverlabel\":{\"align\":\"left\"},\"paper_bgcolor\":\"#383838\",\"plot_bgcolor\":\"#383838\",\"polar\":{\"bgcolor\":\"rgb(17,17,17)\",\"angularaxis\":{\"gridcolor\":\"#506784\",\"linecolor\":\"#506784\",\"ticks\":\"\"},\"radialaxis\":{\"gridcolor\":\"#506784\",\"linecolor\":\"#506784\",\"ticks\":\"\"}},\"ternary\":{\"bgcolor\":\"rgb(17,17,17)\",\"aaxis\":{\"gridcolor\":\"#506784\",\"linecolor\":\"#506784\",\"ticks\":\"\"},\"baxis\":{\"gridcolor\":\"#506784\",\"linecolor\":\"#506784\",\"ticks\":\"\"},\"caxis\":{\"gridcolor\":\"#506784\",\"linecolor\":\"#506784\",\"ticks\":\"\"}},\"coloraxis\":{\"colorbar\":{\"outlinewidth\":0,\"ticks\":\"\"}},\"colorscale\":{\"sequential\":[[0.0,\"#0d0887\"],[0.1111111111111111,\"#46039f\"],[0.2222222222222222,\"#7201a8\"],[0.3333333333333333,\"#9c179e\"],[0.4444444444444444,\"#bd3786\"],[0.5555555555555556,\"#d8576b\"],[0.6666666666666666,\"#ed7953\"],[0.7777777777777778,\"#fb9f3a\"],[0.8888888888888888,\"#fdca26\"],[1.0,\"#f0f921\"]],\"sequentialminus\":[[0.0,\"#0d0887\"],[0.1111111111111111,\"#46039f\"],[0.2222222222222222,\"#7201a8\"],[0.3333333333333333,\"#9c179e\"],[0.4444444444444444,\"#bd3786\"],[0.5555555555555556,\"#d8576b\"],[0.6666666666666666,\"#ed7953\"],[0.7777777777777778,\"#fb9f3a\"],[0.8888888888888888,\"#fdca26\"],[1.0,\"#f0f921\"]],\"diverging\":[[0,\"#8e0152\"],[0.1,\"#c51b7d\"],[0.2,\"#de77ae\"],[0.3,\"#f1b6da\"],[0.4,\"#fde0ef\"],[0.5,\"#f7f7f7\"],[0.6,\"#e6f5d0\"],[0.7,\"#b8e186\"],[0.8,\"#7fbc41\"],[0.9,\"#4d9221\"],[1,\"#276419\"]]},\"xaxis\":{\"gridcolor\":\"#D5D5D5\",\"linecolor\":\"#D5D5D5\",\"ticks\":\"\",\"title\":{\"standoff\":15},\"zerolinecolor\":\"#D5D5D5\",\"automargin\":true,\"zerolinewidth\":2},\"yaxis\":{\"gridcolor\":\"#D5D5D5\",\"linecolor\":\"#D5D5D5\",\"ticks\":\"\",\"title\":{\"standoff\":15},\"zerolinecolor\":\"#D5D5D5\",\"automargin\":true,\"zerolinewidth\":2},\"scene\":{\"xaxis\":{\"backgroundcolor\":\"rgb(17,17,17)\",\"gridcolor\":\"#506784\",\"linecolor\":\"#506784\",\"showbackground\":true,\"ticks\":\"\",\"zerolinecolor\":\"#C8D4E3\",\"gridwidth\":2},\"yaxis\":{\"backgroundcolor\":\"rgb(17,17,17)\",\"gridcolor\":\"#506784\",\"linecolor\":\"#506784\",\"showbackground\":true,\"ticks\":\"\",\"zerolinecolor\":\"#C8D4E3\",\"gridwidth\":2},\"zaxis\":{\"backgroundcolor\":\"rgb(17,17,17)\",\"gridcolor\":\"#506784\",\"linecolor\":\"#506784\",\"showbackground\":true,\"ticks\":\"\",\"zerolinecolor\":\"#C8D4E3\",\"gridwidth\":2}},\"shapedefaults\":{\"line\":{\"color\":\"#f2f5fa\"}},\"annotationdefaults\":{\"arrowcolor\":\"#f2f5fa\",\"arrowhead\":0,\"arrowwidth\":1},\"geo\":{\"bgcolor\":\"rgb(17,17,17)\",\"landcolor\":\"rgb(17,17,17)\",\"subunitcolor\":\"#506784\",\"showland\":true,\"showlakes\":true,\"lakecolor\":\"rgb(17,17,17)\"},\"title\":{\"x\":0.05},\"updatemenudefaults\":{\"bgcolor\":\"#506784\",\"borderwidth\":0},\"sliderdefaults\":{\"bgcolor\":\"#C8D4E3\",\"borderwidth\":1,\"bordercolor\":\"rgb(17,17,17)\",\"tickwidth\":0},\"mapbox\":{\"style\":\"dark\"}}},\"xaxis\":{\"anchor\":\"y\",\"domain\":[0.0,1.0],\"matches\":\"x2\",\"showticklabels\":false,\"title\":{\"text\":\"Candle Size\"}},\"yaxis\":{\"anchor\":\"x\",\"domain\":[0.525,1.0],\"title\":{\"text\":\"Valor\"}},\"xaxis2\":{\"anchor\":\"y2\",\"domain\":[0.0,1.0],\"title\":{\"text\":\"Candle Size\"}},\"yaxis2\":{\"anchor\":\"x2\",\"domain\":[0.0,0.475],\"title\":{\"text\":\"Valor\"}},\"annotations\":[{\"font\":{\"size\":16},\"showarrow\":false,\"text\":\"EMA (5 e 20 per\\u00edodos)\",\"x\":0.5,\"xanchor\":\"center\",\"xref\":\"paper\",\"y\":1.0,\"yanchor\":\"bottom\",\"yref\":\"paper\"},{\"font\":{\"size\":16},\"showarrow\":false,\"text\":\"RSI\",\"x\":0.5,\"xanchor\":\"center\",\"xref\":\"paper\",\"y\":0.475,\"yanchor\":\"bottom\",\"yref\":\"paper\"}],\"shapes\":[{\"line\":{\"color\":\"blue\",\"dash\":\"dash\"},\"name\":\"RSI 30\",\"type\":\"line\",\"x0\":0,\"x1\":1,\"xref\":\"x2 domain\",\"y0\":30,\"y1\":30,\"yref\":\"y2\"},{\"line\":{\"color\":\"red\",\"dash\":\"dash\"},\"name\":\"RSI 70\",\"type\":\"line\",\"x0\":0,\"x1\":1,\"xref\":\"x2 domain\",\"y0\":70,\"y1\":70,\"yref\":\"y2\"}],\"title\":{\"text\":\"Valores de EMA (5 e 20 per\\u00edodos) e RSI em rela\\u00e7\\u00e3o ao Candle Size\"}},                        {\"responsive\": true}                    ).then(function(){\n",
              "                            \n",
              "var gd = document.getElementById('dffdf885-2e17-4b12-a7aa-5d4c113c1050');\n",
              "var x = new MutationObserver(function (mutations, observer) {{\n",
              "        var display = window.getComputedStyle(gd).display;\n",
              "        if (!display || display === 'none') {{\n",
              "            console.log([gd, 'removed!']);\n",
              "            Plotly.purge(gd);\n",
              "            observer.disconnect();\n",
              "        }}\n",
              "}});\n",
              "\n",
              "// Listen for the removal of the full notebook cells\n",
              "var notebookContainer = gd.closest('#notebook-container');\n",
              "if (notebookContainer) {{\n",
              "    x.observe(notebookContainer, {childList: true});\n",
              "}}\n",
              "\n",
              "// Listen for the clearing of the current output cell\n",
              "var outputEl = gd.closest('.output');\n",
              "if (outputEl) {{\n",
              "    x.observe(outputEl, {childList: true});\n",
              "}}\n",
              "\n",
              "                        })                };                            </script>        </div>\n",
              "</body>\n",
              "</html>"
            ]
          },
          "metadata": {}
        }
      ]
    },
    {
      "cell_type": "code",
      "source": [
        "combinado_df = pd.concat([rsi_df[['candle_size', 'value']], ema_5_df['value'], ema_20_df['value']], axis=1)"
      ],
      "metadata": {
        "id": "_3-_6fmYpZFm"
      },
      "execution_count": 101,
      "outputs": []
    },
    {
      "cell_type": "code",
      "source": [
        "combinado_df.columns = ['candle_size', 'rsi', 'ema(5)', 'ema(20)']"
      ],
      "metadata": {
        "id": "6dWOdWJ7p3yW"
      },
      "execution_count": 102,
      "outputs": []
    },
    {
      "cell_type": "code",
      "source": [
        "combinado_df.head()"
      ],
      "metadata": {
        "colab": {
          "base_uri": "https://localhost:8080/",
          "height": 206
        },
        "id": "koosWpKtqwdA",
        "outputId": "aaca5d7a-f6e8-4a9a-8522-f9ea3890a272"
      },
      "execution_count": 103,
      "outputs": [
        {
          "output_type": "execute_result",
          "data": {
            "text/plain": [
              "   candle_size        rsi    ema(5)   ema(20)\n",
              "0           60  33.759125  1.080634  1.080757\n",
              "1          300  46.422897  1.080727  1.080692\n",
              "2          900  38.657524  1.080669  1.081254\n",
              "3         3600  38.920628  1.081141  1.082534\n",
              "4        14400  42.573433  1.081917  1.082949"
            ],
            "text/html": [
              "\n",
              "  <div id=\"df-4745b71a-94c5-47bb-9cd6-d3f660620909\" class=\"colab-df-container\">\n",
              "    <div>\n",
              "<style scoped>\n",
              "    .dataframe tbody tr th:only-of-type {\n",
              "        vertical-align: middle;\n",
              "    }\n",
              "\n",
              "    .dataframe tbody tr th {\n",
              "        vertical-align: top;\n",
              "    }\n",
              "\n",
              "    .dataframe thead th {\n",
              "        text-align: right;\n",
              "    }\n",
              "</style>\n",
              "<table border=\"1\" class=\"dataframe\">\n",
              "  <thead>\n",
              "    <tr style=\"text-align: right;\">\n",
              "      <th></th>\n",
              "      <th>candle_size</th>\n",
              "      <th>rsi</th>\n",
              "      <th>ema(5)</th>\n",
              "      <th>ema(20)</th>\n",
              "    </tr>\n",
              "  </thead>\n",
              "  <tbody>\n",
              "    <tr>\n",
              "      <th>0</th>\n",
              "      <td>60</td>\n",
              "      <td>33.759125</td>\n",
              "      <td>1.080634</td>\n",
              "      <td>1.080757</td>\n",
              "    </tr>\n",
              "    <tr>\n",
              "      <th>1</th>\n",
              "      <td>300</td>\n",
              "      <td>46.422897</td>\n",
              "      <td>1.080727</td>\n",
              "      <td>1.080692</td>\n",
              "    </tr>\n",
              "    <tr>\n",
              "      <th>2</th>\n",
              "      <td>900</td>\n",
              "      <td>38.657524</td>\n",
              "      <td>1.080669</td>\n",
              "      <td>1.081254</td>\n",
              "    </tr>\n",
              "    <tr>\n",
              "      <th>3</th>\n",
              "      <td>3600</td>\n",
              "      <td>38.920628</td>\n",
              "      <td>1.081141</td>\n",
              "      <td>1.082534</td>\n",
              "    </tr>\n",
              "    <tr>\n",
              "      <th>4</th>\n",
              "      <td>14400</td>\n",
              "      <td>42.573433</td>\n",
              "      <td>1.081917</td>\n",
              "      <td>1.082949</td>\n",
              "    </tr>\n",
              "  </tbody>\n",
              "</table>\n",
              "</div>\n",
              "    <div class=\"colab-df-buttons\">\n",
              "\n",
              "  <div class=\"colab-df-container\">\n",
              "    <button class=\"colab-df-convert\" onclick=\"convertToInteractive('df-4745b71a-94c5-47bb-9cd6-d3f660620909')\"\n",
              "            title=\"Convert this dataframe to an interactive table.\"\n",
              "            style=\"display:none;\">\n",
              "\n",
              "  <svg xmlns=\"http://www.w3.org/2000/svg\" height=\"24px\" viewBox=\"0 -960 960 960\">\n",
              "    <path d=\"M120-120v-720h720v720H120Zm60-500h600v-160H180v160Zm220 220h160v-160H400v160Zm0 220h160v-160H400v160ZM180-400h160v-160H180v160Zm440 0h160v-160H620v160ZM180-180h160v-160H180v160Zm440 0h160v-160H620v160Z\"/>\n",
              "  </svg>\n",
              "    </button>\n",
              "\n",
              "  <style>\n",
              "    .colab-df-container {\n",
              "      display:flex;\n",
              "      gap: 12px;\n",
              "    }\n",
              "\n",
              "    .colab-df-convert {\n",
              "      background-color: #E8F0FE;\n",
              "      border: none;\n",
              "      border-radius: 50%;\n",
              "      cursor: pointer;\n",
              "      display: none;\n",
              "      fill: #1967D2;\n",
              "      height: 32px;\n",
              "      padding: 0 0 0 0;\n",
              "      width: 32px;\n",
              "    }\n",
              "\n",
              "    .colab-df-convert:hover {\n",
              "      background-color: #E2EBFA;\n",
              "      box-shadow: 0px 1px 2px rgba(60, 64, 67, 0.3), 0px 1px 3px 1px rgba(60, 64, 67, 0.15);\n",
              "      fill: #174EA6;\n",
              "    }\n",
              "\n",
              "    .colab-df-buttons div {\n",
              "      margin-bottom: 4px;\n",
              "    }\n",
              "\n",
              "    [theme=dark] .colab-df-convert {\n",
              "      background-color: #3B4455;\n",
              "      fill: #D2E3FC;\n",
              "    }\n",
              "\n",
              "    [theme=dark] .colab-df-convert:hover {\n",
              "      background-color: #434B5C;\n",
              "      box-shadow: 0px 1px 3px 1px rgba(0, 0, 0, 0.15);\n",
              "      filter: drop-shadow(0px 1px 2px rgba(0, 0, 0, 0.3));\n",
              "      fill: #FFFFFF;\n",
              "    }\n",
              "  </style>\n",
              "\n",
              "    <script>\n",
              "      const buttonEl =\n",
              "        document.querySelector('#df-4745b71a-94c5-47bb-9cd6-d3f660620909 button.colab-df-convert');\n",
              "      buttonEl.style.display =\n",
              "        google.colab.kernel.accessAllowed ? 'block' : 'none';\n",
              "\n",
              "      async function convertToInteractive(key) {\n",
              "        const element = document.querySelector('#df-4745b71a-94c5-47bb-9cd6-d3f660620909');\n",
              "        const dataTable =\n",
              "          await google.colab.kernel.invokeFunction('convertToInteractive',\n",
              "                                                    [key], {});\n",
              "        if (!dataTable) return;\n",
              "\n",
              "        const docLinkHtml = 'Like what you see? Visit the ' +\n",
              "          '<a target=\"_blank\" href=https://colab.research.google.com/notebooks/data_table.ipynb>data table notebook</a>'\n",
              "          + ' to learn more about interactive tables.';\n",
              "        element.innerHTML = '';\n",
              "        dataTable['output_type'] = 'display_data';\n",
              "        await google.colab.output.renderOutput(dataTable, element);\n",
              "        const docLink = document.createElement('div');\n",
              "        docLink.innerHTML = docLinkHtml;\n",
              "        element.appendChild(docLink);\n",
              "      }\n",
              "    </script>\n",
              "  </div>\n",
              "\n",
              "\n",
              "<div id=\"df-6b9ab9ca-2433-4266-8fc7-601f3d75dc79\">\n",
              "  <button class=\"colab-df-quickchart\" onclick=\"quickchart('df-6b9ab9ca-2433-4266-8fc7-601f3d75dc79')\"\n",
              "            title=\"Suggest charts\"\n",
              "            style=\"display:none;\">\n",
              "\n",
              "<svg xmlns=\"http://www.w3.org/2000/svg\" height=\"24px\"viewBox=\"0 0 24 24\"\n",
              "     width=\"24px\">\n",
              "    <g>\n",
              "        <path d=\"M19 3H5c-1.1 0-2 .9-2 2v14c0 1.1.9 2 2 2h14c1.1 0 2-.9 2-2V5c0-1.1-.9-2-2-2zM9 17H7v-7h2v7zm4 0h-2V7h2v10zm4 0h-2v-4h2v4z\"/>\n",
              "    </g>\n",
              "</svg>\n",
              "  </button>\n",
              "\n",
              "<style>\n",
              "  .colab-df-quickchart {\n",
              "      --bg-color: #E8F0FE;\n",
              "      --fill-color: #1967D2;\n",
              "      --hover-bg-color: #E2EBFA;\n",
              "      --hover-fill-color: #174EA6;\n",
              "      --disabled-fill-color: #AAA;\n",
              "      --disabled-bg-color: #DDD;\n",
              "  }\n",
              "\n",
              "  [theme=dark] .colab-df-quickchart {\n",
              "      --bg-color: #3B4455;\n",
              "      --fill-color: #D2E3FC;\n",
              "      --hover-bg-color: #434B5C;\n",
              "      --hover-fill-color: #FFFFFF;\n",
              "      --disabled-bg-color: #3B4455;\n",
              "      --disabled-fill-color: #666;\n",
              "  }\n",
              "\n",
              "  .colab-df-quickchart {\n",
              "    background-color: var(--bg-color);\n",
              "    border: none;\n",
              "    border-radius: 50%;\n",
              "    cursor: pointer;\n",
              "    display: none;\n",
              "    fill: var(--fill-color);\n",
              "    height: 32px;\n",
              "    padding: 0;\n",
              "    width: 32px;\n",
              "  }\n",
              "\n",
              "  .colab-df-quickchart:hover {\n",
              "    background-color: var(--hover-bg-color);\n",
              "    box-shadow: 0 1px 2px rgba(60, 64, 67, 0.3), 0 1px 3px 1px rgba(60, 64, 67, 0.15);\n",
              "    fill: var(--button-hover-fill-color);\n",
              "  }\n",
              "\n",
              "  .colab-df-quickchart-complete:disabled,\n",
              "  .colab-df-quickchart-complete:disabled:hover {\n",
              "    background-color: var(--disabled-bg-color);\n",
              "    fill: var(--disabled-fill-color);\n",
              "    box-shadow: none;\n",
              "  }\n",
              "\n",
              "  .colab-df-spinner {\n",
              "    border: 2px solid var(--fill-color);\n",
              "    border-color: transparent;\n",
              "    border-bottom-color: var(--fill-color);\n",
              "    animation:\n",
              "      spin 1s steps(1) infinite;\n",
              "  }\n",
              "\n",
              "  @keyframes spin {\n",
              "    0% {\n",
              "      border-color: transparent;\n",
              "      border-bottom-color: var(--fill-color);\n",
              "      border-left-color: var(--fill-color);\n",
              "    }\n",
              "    20% {\n",
              "      border-color: transparent;\n",
              "      border-left-color: var(--fill-color);\n",
              "      border-top-color: var(--fill-color);\n",
              "    }\n",
              "    30% {\n",
              "      border-color: transparent;\n",
              "      border-left-color: var(--fill-color);\n",
              "      border-top-color: var(--fill-color);\n",
              "      border-right-color: var(--fill-color);\n",
              "    }\n",
              "    40% {\n",
              "      border-color: transparent;\n",
              "      border-right-color: var(--fill-color);\n",
              "      border-top-color: var(--fill-color);\n",
              "    }\n",
              "    60% {\n",
              "      border-color: transparent;\n",
              "      border-right-color: var(--fill-color);\n",
              "    }\n",
              "    80% {\n",
              "      border-color: transparent;\n",
              "      border-right-color: var(--fill-color);\n",
              "      border-bottom-color: var(--fill-color);\n",
              "    }\n",
              "    90% {\n",
              "      border-color: transparent;\n",
              "      border-bottom-color: var(--fill-color);\n",
              "    }\n",
              "  }\n",
              "</style>\n",
              "\n",
              "  <script>\n",
              "    async function quickchart(key) {\n",
              "      const quickchartButtonEl =\n",
              "        document.querySelector('#' + key + ' button');\n",
              "      quickchartButtonEl.disabled = true;  // To prevent multiple clicks.\n",
              "      quickchartButtonEl.classList.add('colab-df-spinner');\n",
              "      try {\n",
              "        const charts = await google.colab.kernel.invokeFunction(\n",
              "            'suggestCharts', [key], {});\n",
              "      } catch (error) {\n",
              "        console.error('Error during call to suggestCharts:', error);\n",
              "      }\n",
              "      quickchartButtonEl.classList.remove('colab-df-spinner');\n",
              "      quickchartButtonEl.classList.add('colab-df-quickchart-complete');\n",
              "    }\n",
              "    (() => {\n",
              "      let quickchartButtonEl =\n",
              "        document.querySelector('#df-6b9ab9ca-2433-4266-8fc7-601f3d75dc79 button');\n",
              "      quickchartButtonEl.style.display =\n",
              "        google.colab.kernel.accessAllowed ? 'block' : 'none';\n",
              "    })();\n",
              "  </script>\n",
              "</div>\n",
              "    </div>\n",
              "  </div>\n"
            ],
            "application/vnd.google.colaboratory.intrinsic+json": {
              "type": "dataframe",
              "variable_name": "combinado_df",
              "summary": "{\n  \"name\": \"combinado_df\",\n  \"rows\": 8,\n  \"fields\": [\n    {\n      \"column\": \"candle_size\",\n      \"properties\": {\n        \"dtype\": \"number\",\n        \"std\": 904643,\n        \"min\": 60,\n        \"max\": 2592000,\n        \"num_unique_values\": 8,\n        \"samples\": [\n          300,\n          86400,\n          60\n        ],\n        \"semantic_type\": \"\",\n        \"description\": \"\"\n      }\n    },\n    {\n      \"column\": \"rsi\",\n      \"properties\": {\n        \"dtype\": \"number\",\n        \"std\": 5.599962194984826,\n        \"min\": 33.759125,\n        \"max\": 48.94014,\n        \"num_unique_values\": 8,\n        \"samples\": [\n          46.422897,\n          47.360661,\n          33.759125\n        ],\n        \"semantic_type\": \"\",\n        \"description\": \"\"\n      }\n    },\n    {\n      \"column\": \"ema(5)\",\n      \"properties\": {\n        \"dtype\": \"number\",\n        \"std\": 0.001159757787212443,\n        \"min\": 1.080634,\n        \"max\": 1.084026,\n        \"num_unique_values\": 8,\n        \"samples\": [\n          1.080727,\n          1.08242,\n          1.080634\n        ],\n        \"semantic_type\": \"\",\n        \"description\": \"\"\n      }\n    },\n    {\n      \"column\": \"ema(20)\",\n      \"properties\": {\n        \"dtype\": \"number\",\n        \"std\": 0.0009432635974560524,\n        \"min\": 1.080692,\n        \"max\": 1.083043,\n        \"num_unique_values\": 8,\n        \"samples\": [\n          1.080692,\n          1.081485,\n          1.080757\n        ],\n        \"semantic_type\": \"\",\n        \"description\": \"\"\n      }\n    }\n  ]\n}"
            }
          },
          "metadata": {},
          "execution_count": 103
        }
      ]
    },
    {
      "cell_type": "code",
      "source": [
        "# Inicializando a coluna action como hold\n",
        "combinado_df['action'] = 'hold'"
      ],
      "metadata": {
        "id": "jXW14I7Q2B2j"
      },
      "execution_count": 104,
      "outputs": []
    },
    {
      "cell_type": "code",
      "source": [
        "# Defininco as ações de acordo com combinacao de rsi, ema(5) e ema(20)\n",
        "\n",
        "for index, row in combinado_df.iterrows():\n",
        "\n",
        "\n",
        "    if index > 0:\n",
        "\n",
        "        rowanterior = combinado_df.iloc[index - 1]\n",
        "    else:\n",
        "\n",
        "        rowanterior = None\n",
        "\n",
        "    if rowanterior is not None:\n",
        "\n",
        "      if row['rsi'] > 50 and (row['ema(5)'] - row['ema(20)'] > 0 and rowanterior['ema(5)'] - rowanterior['ema(20)'] < 0):\n",
        "\n",
        "        print(row[['rsi', 'ema(5)', 'ema(20)']])\n",
        "\n",
        "        print(\"BUY!\")\n",
        "\n",
        "        combinado_df.loc[index, 'action'] = 'buy'\n",
        "\n",
        "      elif row['rsi'] < 50 and (row['ema(5)'] - row['ema(20)'] < 0 and rowanterior['ema(5)'] - rowanterior['ema(20)'] > 0):\n",
        "\n",
        "        print(row[['rsi', 'ema(5)', 'ema(20)']])\n",
        "\n",
        "        print(\"SELL!\")\n",
        "\n",
        "        combinado_df.loc[index, 'action'] = 'sell'\n"
      ],
      "metadata": {
        "id": "u6f8RQmXyR_m",
        "colab": {
          "base_uri": "https://localhost:8080/"
        },
        "outputId": "766fdb8a-7e96-47e8-b327-14d03cf49443"
      },
      "execution_count": 105,
      "outputs": [
        {
          "output_type": "stream",
          "name": "stdout",
          "text": [
            "rsi        38.657524\n",
            "ema(5)      1.080669\n",
            "ema(20)     1.081254\n",
            "Name: 2, dtype: object\n",
            "SELL!\n",
            "rsi        48.94014\n",
            "ema(5)     1.081659\n",
            "ema(20)    1.083043\n",
            "Name: 6, dtype: object\n",
            "SELL!\n"
          ]
        }
      ]
    },
    {
      "cell_type": "code",
      "source": [
        "combinado_df"
      ],
      "metadata": {
        "colab": {
          "base_uri": "https://localhost:8080/",
          "height": 300
        },
        "id": "2AlMgvr52Jdr",
        "outputId": "b8bab2c7-a5e7-4a41-af43-209689ca8dbb"
      },
      "execution_count": 106,
      "outputs": [
        {
          "output_type": "execute_result",
          "data": {
            "text/plain": [
              "   candle_size        rsi    ema(5)   ema(20) action\n",
              "0           60  33.759125  1.080634  1.080757   hold\n",
              "1          300  46.422897  1.080727  1.080692   hold\n",
              "2          900  38.657524  1.080669  1.081254   sell\n",
              "3         3600  38.920628  1.081141  1.082534   hold\n",
              "4        14400  42.573433  1.081917  1.082949   hold\n",
              "5        86400  47.360661  1.082420  1.081485   hold\n",
              "6       604800  48.940140  1.081659  1.083043   sell\n",
              "7      2592000  48.714321  1.084026  1.082176   hold"
            ],
            "text/html": [
              "\n",
              "  <div id=\"df-d50133b2-a633-4d20-81c0-44310f7f534b\" class=\"colab-df-container\">\n",
              "    <div>\n",
              "<style scoped>\n",
              "    .dataframe tbody tr th:only-of-type {\n",
              "        vertical-align: middle;\n",
              "    }\n",
              "\n",
              "    .dataframe tbody tr th {\n",
              "        vertical-align: top;\n",
              "    }\n",
              "\n",
              "    .dataframe thead th {\n",
              "        text-align: right;\n",
              "    }\n",
              "</style>\n",
              "<table border=\"1\" class=\"dataframe\">\n",
              "  <thead>\n",
              "    <tr style=\"text-align: right;\">\n",
              "      <th></th>\n",
              "      <th>candle_size</th>\n",
              "      <th>rsi</th>\n",
              "      <th>ema(5)</th>\n",
              "      <th>ema(20)</th>\n",
              "      <th>action</th>\n",
              "    </tr>\n",
              "  </thead>\n",
              "  <tbody>\n",
              "    <tr>\n",
              "      <th>0</th>\n",
              "      <td>60</td>\n",
              "      <td>33.759125</td>\n",
              "      <td>1.080634</td>\n",
              "      <td>1.080757</td>\n",
              "      <td>hold</td>\n",
              "    </tr>\n",
              "    <tr>\n",
              "      <th>1</th>\n",
              "      <td>300</td>\n",
              "      <td>46.422897</td>\n",
              "      <td>1.080727</td>\n",
              "      <td>1.080692</td>\n",
              "      <td>hold</td>\n",
              "    </tr>\n",
              "    <tr>\n",
              "      <th>2</th>\n",
              "      <td>900</td>\n",
              "      <td>38.657524</td>\n",
              "      <td>1.080669</td>\n",
              "      <td>1.081254</td>\n",
              "      <td>sell</td>\n",
              "    </tr>\n",
              "    <tr>\n",
              "      <th>3</th>\n",
              "      <td>3600</td>\n",
              "      <td>38.920628</td>\n",
              "      <td>1.081141</td>\n",
              "      <td>1.082534</td>\n",
              "      <td>hold</td>\n",
              "    </tr>\n",
              "    <tr>\n",
              "      <th>4</th>\n",
              "      <td>14400</td>\n",
              "      <td>42.573433</td>\n",
              "      <td>1.081917</td>\n",
              "      <td>1.082949</td>\n",
              "      <td>hold</td>\n",
              "    </tr>\n",
              "    <tr>\n",
              "      <th>5</th>\n",
              "      <td>86400</td>\n",
              "      <td>47.360661</td>\n",
              "      <td>1.082420</td>\n",
              "      <td>1.081485</td>\n",
              "      <td>hold</td>\n",
              "    </tr>\n",
              "    <tr>\n",
              "      <th>6</th>\n",
              "      <td>604800</td>\n",
              "      <td>48.940140</td>\n",
              "      <td>1.081659</td>\n",
              "      <td>1.083043</td>\n",
              "      <td>sell</td>\n",
              "    </tr>\n",
              "    <tr>\n",
              "      <th>7</th>\n",
              "      <td>2592000</td>\n",
              "      <td>48.714321</td>\n",
              "      <td>1.084026</td>\n",
              "      <td>1.082176</td>\n",
              "      <td>hold</td>\n",
              "    </tr>\n",
              "  </tbody>\n",
              "</table>\n",
              "</div>\n",
              "    <div class=\"colab-df-buttons\">\n",
              "\n",
              "  <div class=\"colab-df-container\">\n",
              "    <button class=\"colab-df-convert\" onclick=\"convertToInteractive('df-d50133b2-a633-4d20-81c0-44310f7f534b')\"\n",
              "            title=\"Convert this dataframe to an interactive table.\"\n",
              "            style=\"display:none;\">\n",
              "\n",
              "  <svg xmlns=\"http://www.w3.org/2000/svg\" height=\"24px\" viewBox=\"0 -960 960 960\">\n",
              "    <path d=\"M120-120v-720h720v720H120Zm60-500h600v-160H180v160Zm220 220h160v-160H400v160Zm0 220h160v-160H400v160ZM180-400h160v-160H180v160Zm440 0h160v-160H620v160ZM180-180h160v-160H180v160Zm440 0h160v-160H620v160Z\"/>\n",
              "  </svg>\n",
              "    </button>\n",
              "\n",
              "  <style>\n",
              "    .colab-df-container {\n",
              "      display:flex;\n",
              "      gap: 12px;\n",
              "    }\n",
              "\n",
              "    .colab-df-convert {\n",
              "      background-color: #E8F0FE;\n",
              "      border: none;\n",
              "      border-radius: 50%;\n",
              "      cursor: pointer;\n",
              "      display: none;\n",
              "      fill: #1967D2;\n",
              "      height: 32px;\n",
              "      padding: 0 0 0 0;\n",
              "      width: 32px;\n",
              "    }\n",
              "\n",
              "    .colab-df-convert:hover {\n",
              "      background-color: #E2EBFA;\n",
              "      box-shadow: 0px 1px 2px rgba(60, 64, 67, 0.3), 0px 1px 3px 1px rgba(60, 64, 67, 0.15);\n",
              "      fill: #174EA6;\n",
              "    }\n",
              "\n",
              "    .colab-df-buttons div {\n",
              "      margin-bottom: 4px;\n",
              "    }\n",
              "\n",
              "    [theme=dark] .colab-df-convert {\n",
              "      background-color: #3B4455;\n",
              "      fill: #D2E3FC;\n",
              "    }\n",
              "\n",
              "    [theme=dark] .colab-df-convert:hover {\n",
              "      background-color: #434B5C;\n",
              "      box-shadow: 0px 1px 3px 1px rgba(0, 0, 0, 0.15);\n",
              "      filter: drop-shadow(0px 1px 2px rgba(0, 0, 0, 0.3));\n",
              "      fill: #FFFFFF;\n",
              "    }\n",
              "  </style>\n",
              "\n",
              "    <script>\n",
              "      const buttonEl =\n",
              "        document.querySelector('#df-d50133b2-a633-4d20-81c0-44310f7f534b button.colab-df-convert');\n",
              "      buttonEl.style.display =\n",
              "        google.colab.kernel.accessAllowed ? 'block' : 'none';\n",
              "\n",
              "      async function convertToInteractive(key) {\n",
              "        const element = document.querySelector('#df-d50133b2-a633-4d20-81c0-44310f7f534b');\n",
              "        const dataTable =\n",
              "          await google.colab.kernel.invokeFunction('convertToInteractive',\n",
              "                                                    [key], {});\n",
              "        if (!dataTable) return;\n",
              "\n",
              "        const docLinkHtml = 'Like what you see? Visit the ' +\n",
              "          '<a target=\"_blank\" href=https://colab.research.google.com/notebooks/data_table.ipynb>data table notebook</a>'\n",
              "          + ' to learn more about interactive tables.';\n",
              "        element.innerHTML = '';\n",
              "        dataTable['output_type'] = 'display_data';\n",
              "        await google.colab.output.renderOutput(dataTable, element);\n",
              "        const docLink = document.createElement('div');\n",
              "        docLink.innerHTML = docLinkHtml;\n",
              "        element.appendChild(docLink);\n",
              "      }\n",
              "    </script>\n",
              "  </div>\n",
              "\n",
              "\n",
              "<div id=\"df-f826bbfa-d074-49d0-8d03-aaa5ed51524d\">\n",
              "  <button class=\"colab-df-quickchart\" onclick=\"quickchart('df-f826bbfa-d074-49d0-8d03-aaa5ed51524d')\"\n",
              "            title=\"Suggest charts\"\n",
              "            style=\"display:none;\">\n",
              "\n",
              "<svg xmlns=\"http://www.w3.org/2000/svg\" height=\"24px\"viewBox=\"0 0 24 24\"\n",
              "     width=\"24px\">\n",
              "    <g>\n",
              "        <path d=\"M19 3H5c-1.1 0-2 .9-2 2v14c0 1.1.9 2 2 2h14c1.1 0 2-.9 2-2V5c0-1.1-.9-2-2-2zM9 17H7v-7h2v7zm4 0h-2V7h2v10zm4 0h-2v-4h2v4z\"/>\n",
              "    </g>\n",
              "</svg>\n",
              "  </button>\n",
              "\n",
              "<style>\n",
              "  .colab-df-quickchart {\n",
              "      --bg-color: #E8F0FE;\n",
              "      --fill-color: #1967D2;\n",
              "      --hover-bg-color: #E2EBFA;\n",
              "      --hover-fill-color: #174EA6;\n",
              "      --disabled-fill-color: #AAA;\n",
              "      --disabled-bg-color: #DDD;\n",
              "  }\n",
              "\n",
              "  [theme=dark] .colab-df-quickchart {\n",
              "      --bg-color: #3B4455;\n",
              "      --fill-color: #D2E3FC;\n",
              "      --hover-bg-color: #434B5C;\n",
              "      --hover-fill-color: #FFFFFF;\n",
              "      --disabled-bg-color: #3B4455;\n",
              "      --disabled-fill-color: #666;\n",
              "  }\n",
              "\n",
              "  .colab-df-quickchart {\n",
              "    background-color: var(--bg-color);\n",
              "    border: none;\n",
              "    border-radius: 50%;\n",
              "    cursor: pointer;\n",
              "    display: none;\n",
              "    fill: var(--fill-color);\n",
              "    height: 32px;\n",
              "    padding: 0;\n",
              "    width: 32px;\n",
              "  }\n",
              "\n",
              "  .colab-df-quickchart:hover {\n",
              "    background-color: var(--hover-bg-color);\n",
              "    box-shadow: 0 1px 2px rgba(60, 64, 67, 0.3), 0 1px 3px 1px rgba(60, 64, 67, 0.15);\n",
              "    fill: var(--button-hover-fill-color);\n",
              "  }\n",
              "\n",
              "  .colab-df-quickchart-complete:disabled,\n",
              "  .colab-df-quickchart-complete:disabled:hover {\n",
              "    background-color: var(--disabled-bg-color);\n",
              "    fill: var(--disabled-fill-color);\n",
              "    box-shadow: none;\n",
              "  }\n",
              "\n",
              "  .colab-df-spinner {\n",
              "    border: 2px solid var(--fill-color);\n",
              "    border-color: transparent;\n",
              "    border-bottom-color: var(--fill-color);\n",
              "    animation:\n",
              "      spin 1s steps(1) infinite;\n",
              "  }\n",
              "\n",
              "  @keyframes spin {\n",
              "    0% {\n",
              "      border-color: transparent;\n",
              "      border-bottom-color: var(--fill-color);\n",
              "      border-left-color: var(--fill-color);\n",
              "    }\n",
              "    20% {\n",
              "      border-color: transparent;\n",
              "      border-left-color: var(--fill-color);\n",
              "      border-top-color: var(--fill-color);\n",
              "    }\n",
              "    30% {\n",
              "      border-color: transparent;\n",
              "      border-left-color: var(--fill-color);\n",
              "      border-top-color: var(--fill-color);\n",
              "      border-right-color: var(--fill-color);\n",
              "    }\n",
              "    40% {\n",
              "      border-color: transparent;\n",
              "      border-right-color: var(--fill-color);\n",
              "      border-top-color: var(--fill-color);\n",
              "    }\n",
              "    60% {\n",
              "      border-color: transparent;\n",
              "      border-right-color: var(--fill-color);\n",
              "    }\n",
              "    80% {\n",
              "      border-color: transparent;\n",
              "      border-right-color: var(--fill-color);\n",
              "      border-bottom-color: var(--fill-color);\n",
              "    }\n",
              "    90% {\n",
              "      border-color: transparent;\n",
              "      border-bottom-color: var(--fill-color);\n",
              "    }\n",
              "  }\n",
              "</style>\n",
              "\n",
              "  <script>\n",
              "    async function quickchart(key) {\n",
              "      const quickchartButtonEl =\n",
              "        document.querySelector('#' + key + ' button');\n",
              "      quickchartButtonEl.disabled = true;  // To prevent multiple clicks.\n",
              "      quickchartButtonEl.classList.add('colab-df-spinner');\n",
              "      try {\n",
              "        const charts = await google.colab.kernel.invokeFunction(\n",
              "            'suggestCharts', [key], {});\n",
              "      } catch (error) {\n",
              "        console.error('Error during call to suggestCharts:', error);\n",
              "      }\n",
              "      quickchartButtonEl.classList.remove('colab-df-spinner');\n",
              "      quickchartButtonEl.classList.add('colab-df-quickchart-complete');\n",
              "    }\n",
              "    (() => {\n",
              "      let quickchartButtonEl =\n",
              "        document.querySelector('#df-f826bbfa-d074-49d0-8d03-aaa5ed51524d button');\n",
              "      quickchartButtonEl.style.display =\n",
              "        google.colab.kernel.accessAllowed ? 'block' : 'none';\n",
              "    })();\n",
              "  </script>\n",
              "</div>\n",
              "    </div>\n",
              "  </div>\n"
            ],
            "application/vnd.google.colaboratory.intrinsic+json": {
              "type": "dataframe",
              "variable_name": "combinado_df",
              "summary": "{\n  \"name\": \"combinado_df\",\n  \"rows\": 8,\n  \"fields\": [\n    {\n      \"column\": \"candle_size\",\n      \"properties\": {\n        \"dtype\": \"number\",\n        \"std\": 904643,\n        \"min\": 60,\n        \"max\": 2592000,\n        \"num_unique_values\": 8,\n        \"samples\": [\n          300,\n          86400,\n          60\n        ],\n        \"semantic_type\": \"\",\n        \"description\": \"\"\n      }\n    },\n    {\n      \"column\": \"rsi\",\n      \"properties\": {\n        \"dtype\": \"number\",\n        \"std\": 5.599962194984826,\n        \"min\": 33.759125,\n        \"max\": 48.94014,\n        \"num_unique_values\": 8,\n        \"samples\": [\n          46.422897,\n          47.360661,\n          33.759125\n        ],\n        \"semantic_type\": \"\",\n        \"description\": \"\"\n      }\n    },\n    {\n      \"column\": \"ema(5)\",\n      \"properties\": {\n        \"dtype\": \"number\",\n        \"std\": 0.001159757787212443,\n        \"min\": 1.080634,\n        \"max\": 1.084026,\n        \"num_unique_values\": 8,\n        \"samples\": [\n          1.080727,\n          1.08242,\n          1.080634\n        ],\n        \"semantic_type\": \"\",\n        \"description\": \"\"\n      }\n    },\n    {\n      \"column\": \"ema(20)\",\n      \"properties\": {\n        \"dtype\": \"number\",\n        \"std\": 0.0009432635974560524,\n        \"min\": 1.080692,\n        \"max\": 1.083043,\n        \"num_unique_values\": 8,\n        \"samples\": [\n          1.080692,\n          1.081485,\n          1.080757\n        ],\n        \"semantic_type\": \"\",\n        \"description\": \"\"\n      }\n    },\n    {\n      \"column\": \"action\",\n      \"properties\": {\n        \"dtype\": \"category\",\n        \"num_unique_values\": 2,\n        \"samples\": [\n          \"sell\",\n          \"hold\"\n        ],\n        \"semantic_type\": \"\",\n        \"description\": \"\"\n      }\n    }\n  ]\n}"
            }
          },
          "metadata": {},
          "execution_count": 106
        }
      ]
    },
    {
      "cell_type": "markdown",
      "source": [
        "**Melhorias da reunião 29 de fevereiro**"
      ],
      "metadata": {
        "id": "5qUz_fybvdBS"
      }
    },
    {
      "cell_type": "code",
      "source": [
        "# implementar protective stop (de acordo com niveis de suporte?) < talvez possa ser utilizando fibonacci"
      ],
      "metadata": {
        "id": "AxPo3wYIsYfx"
      },
      "execution_count": 107,
      "outputs": []
    },
    {
      "cell_type": "markdown",
      "source": [
        "# Entradas"
      ],
      "metadata": {
        "id": "M56TuIVWncyj"
      }
    },
    {
      "cell_type": "code",
      "source": [
        "# setar a conta para o tipo 'prática' para ter dinheiro de mentirinha para efetuar operações abaixo\n",
        "\n",
        "balance_type = 'PRACTICE'\n",
        "Iq.change_balance(balance_type)"
      ],
      "metadata": {
        "id": "EHGPIJgHnu84"
      },
      "execution_count": 108,
      "outputs": []
    },
    {
      "cell_type": "code",
      "source": [
        "Iq.get_balance()"
      ],
      "metadata": {
        "colab": {
          "base_uri": "https://localhost:8080/"
        },
        "id": "bY0fM0rK0EGe",
        "outputId": "fb87c901-f8c2-4a1d-94b9-1757b1659da7"
      },
      "execution_count": 109,
      "outputs": [
        {
          "output_type": "execute_result",
          "data": {
            "text/plain": [
              "10000"
            ]
          },
          "metadata": {},
          "execution_count": 109
        }
      ]
    },
    {
      "cell_type": "code",
      "source": [
        "actions = list(combinado_df.action)\n",
        "actions"
      ],
      "metadata": {
        "colab": {
          "base_uri": "https://localhost:8080/"
        },
        "id": "gyEk1e2yPHiq",
        "outputId": "6f61172d-5be4-4b4c-abc2-763d871677f4"
      },
      "execution_count": 110,
      "outputs": [
        {
          "output_type": "execute_result",
          "data": {
            "text/plain": [
              "['hold', 'hold', 'sell', 'hold', 'hold', 'hold', 'sell', 'hold']"
            ]
          },
          "metadata": {},
          "execution_count": 110
        }
      ]
    },
    {
      "cell_type": "code",
      "source": [
        "# pegar dicionário com ativos abertos e fechados para compra no momento\n",
        "\n",
        "ALL_Asset = Iq.get_all_open_time()"
      ],
      "metadata": {
        "id": "gjhmc8qkn3_v"
      },
      "execution_count": 111,
      "outputs": []
    },
    {
      "cell_type": "code",
      "source": [
        "# retorna true quando aberto para compra e false do contrário\n",
        "\n",
        "ALL_Asset['forex']['EURUSD']['open']"
      ],
      "metadata": {
        "colab": {
          "base_uri": "https://localhost:8080/"
        },
        "id": "6Xw9krQNrVlR",
        "outputId": "f5977f8b-f66d-4b15-9cf7-4193b0f7bb66"
      },
      "execution_count": 112,
      "outputs": [
        {
          "output_type": "execute_result",
          "data": {
            "text/plain": [
              "True"
            ]
          },
          "metadata": {},
          "execution_count": 112
        }
      ]
    },
    {
      "cell_type": "code",
      "source": [
        "QUANTIA = 10\n",
        "ATIVO = 'EURUSD'\n",
        "AÇÃO = 'call'\n",
        "EXPIRATIONS_MODE = 1"
      ],
      "metadata": {
        "id": "rJnMQ6A_33hM"
      },
      "execution_count": 113,
      "outputs": []
    },
    {
      "cell_type": "code",
      "source": [
        "# buy\n",
        "\n",
        "def comprar(QUANTIA, ATIVO, AÇÃO, EXPIRATIONS_MODE):\n",
        "  print(f'saldo da conta pré operação: {Iq.get_balance()}')\n",
        "\n",
        "  check, id = Iq.buy(QUANTIA, ATIVO, AÇÃO, EXPIRATIONS_MODE)\n",
        "  if check:\n",
        "    return f'tentativa de compra efetuada com sucesso, ' \\\n",
        "           f'id da operação: {id}, ' \\\n",
        "           f'saldo atual: {Iq.get_balance()}'\n",
        "\n",
        "  else:\n",
        "    return f'tentativa de compra efetuada sem sucesso, saldo atual: {Iq.get_balance()}'"
      ],
      "metadata": {
        "id": "WU_xFIn8uAXP"
      },
      "execution_count": 114,
      "outputs": []
    },
    {
      "cell_type": "code",
      "source": [
        "# sell\n",
        "\n",
        "from time import sleep\n",
        "\n",
        "def vender(QUANTIA, ATIVO, AÇÃO, EXPIRATIONS_MODE):\n",
        "  print(f'saldo da conta pré operação: {Iq.get_balance()}')\n",
        "\n",
        "  vender = Iq.buy(QUANTIA, ATIVO, AÇÃO, EXPIRATIONS_MODE)\n",
        "\n",
        "  a_vender = list()\n",
        "  a_vender.append(vender)\n",
        "\n",
        "  sleep(2)\n",
        "\n",
        "  print('vendendo...')\n",
        "  Iq.sell_option(a_vender)\n",
        "\n",
        "  print(f'saldo atual: {Iq.get_balance()}')"
      ],
      "metadata": {
        "id": "nIqGspxTuAZm"
      },
      "execution_count": 115,
      "outputs": []
    },
    {
      "cell_type": "code",
      "source": [
        "# hold não é preciso fazer nada\n",
        "\n",
        "def hold():\n",
        "  print('🫸')\n",
        "\n",
        "hold()"
      ],
      "metadata": {
        "colab": {
          "base_uri": "https://localhost:8080/"
        },
        "id": "XzdSq8s5tMqY",
        "outputId": "4664e0e5-d06e-481a-bda0-e900ddbafba2"
      },
      "execution_count": 116,
      "outputs": [
        {
          "output_type": "stream",
          "name": "stdout",
          "text": [
            "🫸\n"
          ]
        }
      ]
    },
    {
      "cell_type": "code",
      "source": [
        "def chamar_operação(sinal):\n",
        "    match sinal:\n",
        "      case 'buy':\n",
        "        print(comprar(QUANTIA=QUANTIA,\n",
        "                      ATIVO=ATIVO,\n",
        "                      AÇÃO=AÇÃO,\n",
        "                      EXPIRATIONS_MODE=EXPIRATIONS_MODE))\n",
        "\n",
        "      case 'sell':\n",
        "        print(vender(QUANTIA=QUANTIA,\n",
        "                      ATIVO=ATIVO,\n",
        "                      AÇÃO=AÇÃO,\n",
        "                      EXPIRATIONS_MODE=EXPIRATIONS_MODE))\n",
        "\n",
        "      case 'hold':\n",
        "        print(hold())"
      ],
      "metadata": {
        "id": "_VHrkZGP4Hsd"
      },
      "execution_count": 117,
      "outputs": []
    },
    {
      "cell_type": "code",
      "source": [
        "ativo = 'EURUSD'\n",
        "\n",
        "def checar_e_efetuar(action, ativo=ativo):\n",
        "  if ALL_Asset['forex'][ativo]['open']:\n",
        "    print(f'{ativo} aberto para compra... prosseguindo...')\n",
        "\n",
        "    chamar_operação(action)\n",
        "\n",
        "  else:\n",
        "    print(f'{ativo} fechado para compra... encerrando...')\n",
        "\n",
        "  print('-' * 50)"
      ],
      "metadata": {
        "id": "eu_PHThQREzz"
      },
      "execution_count": 118,
      "outputs": []
    },
    {
      "cell_type": "code",
      "source": [
        "actions"
      ],
      "metadata": {
        "colab": {
          "base_uri": "https://localhost:8080/"
        },
        "id": "v7Md18GdPHms",
        "outputId": "554b67e7-65b4-48ce-cee2-ee950713509f"
      },
      "execution_count": 119,
      "outputs": [
        {
          "output_type": "execute_result",
          "data": {
            "text/plain": [
              "['hold', 'hold', 'sell', 'hold', 'hold', 'hold', 'sell', 'hold']"
            ]
          },
          "metadata": {},
          "execution_count": 119
        }
      ]
    },
    {
      "cell_type": "code",
      "source": [
        "for action in actions:\n",
        "  checar_e_efetuar(action)"
      ],
      "metadata": {
        "colab": {
          "base_uri": "https://localhost:8080/"
        },
        "id": "6A9-JqvRPHoq",
        "outputId": "2853e1dc-0c17-45ef-a9f9-c3c62afb9528"
      },
      "execution_count": 120,
      "outputs": [
        {
          "output_type": "stream",
          "name": "stdout",
          "text": [
            "EURUSD aberto para compra... prosseguindo...\n",
            "🫸\n",
            "None\n",
            "--------------------------------------------------\n",
            "EURUSD aberto para compra... prosseguindo...\n",
            "🫸\n",
            "None\n",
            "--------------------------------------------------\n",
            "EURUSD aberto para compra... prosseguindo...\n",
            "saldo da conta pré operação: 10000\n",
            "vendendo...\n",
            "saldo atual: 9990\n",
            "None\n",
            "--------------------------------------------------\n",
            "EURUSD aberto para compra... prosseguindo...\n",
            "🫸\n",
            "None\n",
            "--------------------------------------------------\n",
            "EURUSD aberto para compra... prosseguindo...\n",
            "🫸\n",
            "None\n",
            "--------------------------------------------------\n",
            "EURUSD aberto para compra... prosseguindo...\n",
            "🫸\n",
            "None\n",
            "--------------------------------------------------\n",
            "EURUSD aberto para compra... prosseguindo...\n",
            "saldo da conta pré operação: 9990\n",
            "vendendo...\n",
            "saldo atual: 9980\n",
            "None\n",
            "--------------------------------------------------\n",
            "EURUSD aberto para compra... prosseguindo...\n",
            "🫸\n",
            "None\n",
            "--------------------------------------------------\n"
          ]
        }
      ]
    },
    {
      "cell_type": "code",
      "source": [
        "# supondo o caso de uma lista com os três tipos de ações\n",
        "\n",
        "actions_demostração = ['hold', 'buy', 'sell', 'hold', 'hold', 'buy', 'sell', 'hold']"
      ],
      "metadata": {
        "id": "8F_ZVxesPHq1"
      },
      "execution_count": 121,
      "outputs": []
    },
    {
      "cell_type": "code",
      "source": [
        "for action_demostração in actions_demostração:\n",
        "  checar_e_efetuar(action_demostração)"
      ],
      "metadata": {
        "colab": {
          "base_uri": "https://localhost:8080/"
        },
        "id": "yVU30Q56PHs6",
        "outputId": "30d87fe7-2b34-4b5f-9d27-c396fa2cba81"
      },
      "execution_count": 122,
      "outputs": [
        {
          "output_type": "stream",
          "name": "stdout",
          "text": [
            "EURUSD aberto para compra... prosseguindo...\n",
            "🫸\n",
            "None\n",
            "--------------------------------------------------\n",
            "EURUSD aberto para compra... prosseguindo...\n",
            "saldo da conta pré operação: 9980\n",
            "tentativa de compra efetuada com sucesso, id da operação: 11299144522, saldo atual: 9970\n",
            "--------------------------------------------------\n",
            "EURUSD aberto para compra... prosseguindo...\n",
            "saldo da conta pré operação: 9970\n",
            "vendendo...\n",
            "saldo atual: 9960\n",
            "None\n",
            "--------------------------------------------------\n",
            "EURUSD aberto para compra... prosseguindo...\n",
            "🫸\n",
            "None\n",
            "--------------------------------------------------\n",
            "EURUSD aberto para compra... prosseguindo...\n",
            "🫸\n",
            "None\n",
            "--------------------------------------------------\n",
            "EURUSD aberto para compra... prosseguindo...\n",
            "saldo da conta pré operação: 9960\n",
            "tentativa de compra efetuada com sucesso, id da operação: 11299144750, saldo atual: 9950\n",
            "--------------------------------------------------\n",
            "EURUSD aberto para compra... prosseguindo...\n",
            "saldo da conta pré operação: 9950\n",
            "vendendo...\n",
            "saldo atual: 9940\n",
            "None\n",
            "--------------------------------------------------\n",
            "EURUSD aberto para compra... prosseguindo...\n",
            "🫸\n",
            "None\n",
            "--------------------------------------------------\n"
          ]
        }
      ]
    },
    {
      "cell_type": "code",
      "source": [],
      "metadata": {
        "id": "6CyCL2FtPHvc"
      },
      "execution_count": 122,
      "outputs": []
    },
    {
      "cell_type": "code",
      "source": [],
      "metadata": {
        "id": "L_zAghFKPHxV"
      },
      "execution_count": 122,
      "outputs": []
    },
    {
      "cell_type": "code",
      "source": [],
      "metadata": {
        "id": "aHX-0rRXPHzm"
      },
      "execution_count": 122,
      "outputs": []
    },
    {
      "cell_type": "code",
      "source": [],
      "metadata": {
        "id": "zpXOavyPPH1k"
      },
      "execution_count": 122,
      "outputs": []
    },
    {
      "cell_type": "code",
      "source": [
        "# a fazer - if money > saldo throw exception"
      ],
      "metadata": {
        "id": "ExBKAfrG0Ljn"
      },
      "execution_count": 123,
      "outputs": []
    },
    {
      "cell_type": "code",
      "source": [
        "# a fazer - como descobrir a quantidade que tenho de EURUSD"
      ],
      "metadata": {
        "id": "WpBWwiNl40ED"
      },
      "execution_count": 124,
      "outputs": []
    },
    {
      "cell_type": "code",
      "source": [
        "# a fazer - de onde vem esse none"
      ],
      "metadata": {
        "id": "bWNrePhtTKcY"
      },
      "execution_count": 125,
      "outputs": []
    },
    {
      "cell_type": "code",
      "source": [
        "# a fazer - olhar se podemos inferir uma quantia otimizada para uso na compra e venda"
      ],
      "metadata": {
        "id": "qoGJu6kHP4TL"
      },
      "execution_count": 126,
      "outputs": []
    }
  ]
}